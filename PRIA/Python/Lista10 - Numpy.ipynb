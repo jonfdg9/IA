{
 "cells": [
  {
   "cell_type": "markdown",
   "id": "d287d88e",
   "metadata": {},
   "source": [
    "# LISTA 10 -  LIBRERÍA NUMPY"
   ]
  },
  {
   "cell_type": "markdown",
   "id": "ccd0bc04",
   "metadata": {},
   "source": [
    "## <ins>Ejercicios Obligatorios </ins>"
   ]
  },
  {
   "cell_type": "markdown",
   "id": "f99190d1",
   "metadata": {},
   "source": [
    "## EJERCICIO 1"
   ]
  },
  {
   "cell_type": "markdown",
   "id": "93a99146-6700-4082-b986-0aa25349c711",
   "metadata": {},
   "source": [
    "Crea un array unidimensional de 9 elementos y transfórmalo en un array 3D. Muestra la dimensión y la shape antes y después del reshape."
   ]
  },
  {
   "cell_type": "code",
   "execution_count": 2,
   "id": "8626a9f4",
   "metadata": {},
   "outputs": [
    {
     "name": "stdout",
     "output_type": "stream",
     "text": [
      "[0 1 2 3 4 5 6 7 8]\n",
      "[array([0, 1, 2]), array([3, 4, 5]), array([6, 7, 8])]\n",
      "[[[0]\n",
      "  [1]\n",
      "  [2]]\n",
      "\n",
      " [[3]\n",
      "  [4]\n",
      "  [5]]\n",
      "\n",
      " [[6]\n",
      "  [7]\n",
      "  [8]]]\n"
     ]
    }
   ],
   "source": [
    "import numpy as np\n",
    "\n",
    "a = np.arange(9)\n",
    "\n",
    "print(a)\n",
    "\n",
    "b=np.split(a, 3,  axis=0)\n",
    "print(b)\n",
    "array_3d = a.reshape((3, 3, 1))\n",
    "print(array_3d)\n"
   ]
  },
  {
   "cell_type": "markdown",
   "id": "feb0417e",
   "metadata": {},
   "source": [
    "## EJERCICIO 2"
   ]
  },
  {
   "cell_type": "markdown",
   "id": "91cd8f7c",
   "metadata": {},
   "source": [
    "Dados los arrays 2D ```[[-6, 5], [-4, 3], [-2, 1]] y [[1, 2], [3, 4], [5, 6]]```, concaténalos de modo que obtengas el array ```[[1, 2, -6, -5], [3, 4, -4, -3], [5, 6, -2, -1]]```"
   ]
  },
  {
   "cell_type": "code",
   "execution_count": 35,
   "id": "3385805f",
   "metadata": {},
   "outputs": [
    {
     "name": "stdout",
     "output_type": "stream",
     "text": [
      "[[ 1  2 -6  5]\n",
      " [ 3  4 -4  3]\n",
      " [ 5  6 -2  1]]\n"
     ]
    }
   ],
   "source": [
    "a1=[[-6, 5],[-4, 3],[-2, 1]]\n",
    "a2=[[1, 2],[3, 4],[5, 6]]\n",
    "a3=np.concatenate((a2,a1), axis=1)\n",
    "print(a3)"
   ]
  },
  {
   "cell_type": "markdown",
   "id": "4d68e82b",
   "metadata": {},
   "source": [
    "## EJERCICIO 3"
   ]
  },
  {
   "cell_type": "markdown",
   "id": "ec7f3b2a",
   "metadata": {},
   "source": [
    "Dado el array 2D ```[[\"ala\", \"delfín\", \"arroz\"], [\"cena\", \"kayak\", \"picnic\"], [\"hoja\", \"gato\", \"elle\"]]```, busca las palabras que sean palíndromos. Necesitarás una función universal."
   ]
  },
  {
   "cell_type": "code",
   "execution_count": 13,
   "id": "1d360ff9",
   "metadata": {},
   "outputs": [
    {
     "name": "stdout",
     "output_type": "stream",
     "text": [
      "[['ala' '' '']\n",
      " ['' 'kayak' '']\n",
      " ['' '' 'elle']]\n"
     ]
    }
   ],
   "source": [
    "array2d=[[\"ala\", \"delfín\", \"arroz\"], [\"cena\", \"kayak\", \"picnic\"], [\"hoja\", \"gato\", \"elle\"]]\n",
    "\n",
    "\n",
    "def es_palindromo(palabra):\n",
    "    if(palabra== palabra[::-1]):\n",
    "        return palabra\n",
    "    return \"\"\n",
    "\n",
    "palindromos = np.frompyfunc(es_palindromo, 1, 1) \n",
    "\n",
    "print(palindromos(array2d))"
   ]
  },
  {
   "cell_type": "markdown",
   "id": "5c943554",
   "metadata": {},
   "source": [
    "## EJERCICIO 4"
   ]
  },
  {
   "cell_type": "markdown",
   "id": "13d2c744",
   "metadata": {},
   "source": [
    "Crea un minijuego que piense un número aleatorio entre 1 y 10 y, hasta que no lo aciertes, te pida un número del 1 al 10. Cuando aciertes, tendrá que devolver el número de intentos y la frase: “¡¡¡ENHORABUENA!!! Has acertado el número que había pensado: el {}”. En caso de que falles, el juego deberá mostrar la frase “¡Has fallado! ¡Prueba otra vez!”"
   ]
  },
  {
   "cell_type": "code",
   "execution_count": 44,
   "id": "1464485a",
   "metadata": {},
   "outputs": [
    {
     "name": "stdout",
     "output_type": "stream",
     "text": [
      "5\n",
      "Has fallado! ¡Prueba otra vez!\n",
      "Has fallado! ¡Prueba otra vez!\n",
      "Has fallado! ¡Prueba otra vez!\n",
      "Has fallado! ¡Prueba otra vez!\n",
      "¡¡¡ENHORABUENA!!! Has acertado el número que había pensado: el 5 y el numero de intentos son 5\n"
     ]
    }
   ],
   "source": [
    "num=np.random.randint(1,11)\n",
    "print(num)\n",
    "guess=0\n",
    "intento=1\n",
    "while(guess!=num):\n",
    "    guess=int(input(f\"Intenta acertar un numero del 1 al 10\"))\n",
    "    if(guess!=num):\n",
    "        intento+=1\n",
    "        print(f\"Has fallado! ¡Prueba otra vez!\")\n",
    "        \n",
    "print(f\"¡¡¡ENHORABUENA!!! Has acertado el número que había pensado: el {num} y el numero de intentos son {intento}\")"
   ]
  },
  {
   "cell_type": "markdown",
   "id": "2972dd7e",
   "metadata": {},
   "source": [
    "## EJERCICIO 5"
   ]
  },
  {
   "cell_type": "markdown",
   "id": "ef3c12ce",
   "metadata": {},
   "source": [
    "Crea un minijuego que piense un array 1D aleatorio de 5 elementos. Los elementos serán números enteros entre 1 y 20. Para cada intento, primero tendrá que pedir 5 números enteros del 1 al 20. El juego nos tendrá que decir cuántos números del array hemos acertado y cuántos números del array están bien colocados. El juego no termina hasta que no se hayan acertado todos los números pensados en la posición correspondiente. Al acabar, se tendrá que mostrar la frase: “¡¡¡ENHORABUENA!!! Has acertado el array que había pensado: {}”"
   ]
  },
  {
   "cell_type": "code",
   "execution_count": 3,
   "id": "6406faf5",
   "metadata": {},
   "outputs": [
    {
     "name": "stdout",
     "output_type": "stream",
     "text": [
      "[ 8  6  8 15 11]\n",
      "Has acertado 0 lugares y 0 numeros\n",
      "Has acertado 0 lugares y 4 numeros\n",
      "Has acertado 0 lugares y 5 numeros\n",
      "¡¡¡ENHORABUENA!!! Has acertado el array que había pensado: [ 8  6  8 15 11] !!!\n"
     ]
    }
   ],
   "source": [
    "import numpy as np\n",
    "arr1d =np.array([np.random.randint(1, 21) for _ in range(5)])\n",
    "print(arr1d)\n",
    "\n",
    "resp =np.array([int(input(\"Introduce un número: \")) for _ in range(5)])\n",
    "\n",
    "while not (arr1d==resp).all():\n",
    "    sumatorioLugar=0\n",
    "    sumatorioNumero=0\n",
    "    for i in range(len(arr1d)):\n",
    "        if(resp[i] in arr1d):\n",
    "            sumatorioNumero+=1\n",
    "            if(arr1d[i]==resp[i]):\n",
    "                sumatorioLugar+=1                  \n",
    "    print(f\"Has acertado {sumatorioLugar} lugares y {sumatorioNumero} numeros\")\n",
    "    resp =np.array([int(input(\"Introduce un número: \")) for _ in range(5)])\n",
    "print(f\"¡¡¡ENHORABUENA!!! Has acertado el array que había pensado: {arr1d} !!!\")\n",
    "\n"
   ]
  },
  {
   "cell_type": "markdown",
   "id": "cbbfb36c",
   "metadata": {},
   "source": [
    "## EJERCICIO 6"
   ]
  },
  {
   "cell_type": "markdown",
   "id": "f0211a75",
   "metadata": {},
   "source": [
    "A partir de la lista ```[-3, -2, -1, 0, 1, 2, 3]```, genera dos arrays aleatorios 2D de size = (3, 4) y súmalos."
   ]
  },
  {
   "cell_type": "code",
   "execution_count": 170,
   "id": "3d1beef9",
   "metadata": {},
   "outputs": [
    {
     "name": "stdout",
     "output_type": "stream",
     "text": [
      "[[-3  0  4 -3]\n",
      " [ 0  2  2 -2]\n",
      " [ 1  0  0  3]]\n"
     ]
    }
   ],
   "source": [
    "a=[-3, -2, -1, 0, 1, 2, 3]\n",
    "b = np.random.choice(a,size=(3,4))\n",
    "c = np.random.choice(a,size=(3,4))\n",
    "d=np.add(b,c)\n",
    "print(d)"
   ]
  },
  {
   "cell_type": "markdown",
   "id": "58dd922a",
   "metadata": {},
   "source": [
    "## <ins>Ejercicios Opcionales </ins>"
   ]
  },
  {
   "cell_type": "markdown",
   "id": "2f3cd026",
   "metadata": {},
   "source": [
    "## EJERCICIO 7"
   ]
  },
  {
   "cell_type": "markdown",
   "id": "de8639f8",
   "metadata": {},
   "source": [
    "Dado el array 2D ```[[1, 2, 3],[-1, 0, 1], [4, 5, 6], [-4, 0, 4], [3, 2, 1], [-3, 0, 3]]``` divídelo en 3 arrays 2D."
   ]
  },
  {
   "cell_type": "markdown",
   "id": "f754dfad",
   "metadata": {},
   "source": [
    "## EJERCICIO 8"
   ]
  },
  {
   "cell_type": "markdown",
   "id": "c4d05217",
   "metadata": {},
   "source": [
    "Crea una función universal que dado un array de strings devuelva el número total de vocales de cada string."
   ]
  }
 ],
 "metadata": {
  "kernelspec": {
   "display_name": "base",
   "language": "python",
   "name": "python3"
  },
  "language_info": {
   "codemirror_mode": {
    "name": "ipython",
    "version": 3
   },
   "file_extension": ".py",
   "mimetype": "text/x-python",
   "name": "python",
   "nbconvert_exporter": "python",
   "pygments_lexer": "ipython3",
   "version": "3.12.4"
  }
 },
 "nbformat": 4,
 "nbformat_minor": 5
}
