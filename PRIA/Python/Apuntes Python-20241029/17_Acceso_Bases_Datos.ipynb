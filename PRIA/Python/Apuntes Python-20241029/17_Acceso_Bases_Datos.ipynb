{
 "cells": [
  {
   "cell_type": "markdown",
   "metadata": {
    "id": "dq03QUOZokdD"
   },
   "source": [
    "# Acceso a datos\n",
    "\n",
    "## Extracción de datos"
   ]
  },
  {
   "cell_type": "markdown",
   "metadata": {
    "id": "KZfaRdknVV7v"
   },
   "source": [
    "La **extracción de datos** es una etapa esencial en Ciencia de Datos, que proporciona al científico de datos el material necesario para la generación de conocimiento. En muchas ocasiones, esos datos se encontrarán en base de datos de clientes y tendremos que poder acceder a ellas y extraer los datos directamente de ellas. Hay muchos tipos de basos de datos, nosotros vamos a hacer solo la conexión a una base de datos relacional en MySql, una de las BDs mas utilizadas.\n",
    "\n",
    "Existen por lo menos dos liberias principales que se suelen usar para el acceso a MySql. Por un lado tenemos mysql.connector librería oficial de Oracle y por otro lado PyMySql. Tanto mysql.connector como PyMySQL son populares librerías para interactuar con bases de datos MySQL en Python, pero tienen características y casos de uso diferentes:\n",
    "\n",
    "* **mysql.connector**:\n",
    "  *  Oficialidad: Es el conector oficial desarrollado y mantenido por Oracle para conectar aplicaciones Python a bases de datos MySQL.\n",
    "  *  Soporte para MySQL 8.0: Totalmente compatible con las características de MySQL 8.0, incluyendo autenticación y mejoras de seguridad.\n",
    "  * Tamaño de la librería: Es una librería más pesada, con mayor carga de dependencias debido a su naturaleza oficial.\n",
    "* **Pymysql**:\n",
    "  * Compatibilidad: PyMySQL es una librería escrita puramente en Python, lo que significa que no necesita compilación de binarios adicionales, lo que facilita la instalación en entornos más variados.\n",
    "  * Ligero y fácil de instalar: Debido a que está completamente en Python, es fácil de instalar, sin necesidad de dependencias adicionales de C, a diferencia de otros conectores.\n"
   ]
  },
  {
   "cell_type": "markdown",
   "metadata": {},
   "source": [
    "### Creación de Base de Datos Local\n",
    "1. Instalar Mysql en el ordenador de forma local (Servidor y WorkBench): Descargar de la [página de oracle](https://www.oracle.com/mysql/technologies/mysql-enterprise-edition-downloads.html) el instalador mysql-installer-community-X.Y.Z.DD.msi\n",
    "2. Crear conexión en la BD local instalada: creación paso a paso [web](https://www.siteground.es/tutoriales/php-mysql/mysql-workbench/)\n",
    "3. Ejecutar en la nueva BD local el script de creación de BD /Datos/ScriptCreacionBDShop.sql\n",
    "4. Seguir los pasos de la creación de datos de forma dinamica con la libreria Faker estableciendo los datos de vuestra BD local- Fichero de Apuntes 26.Faker.ipynb\n",
    "3. Una vez habiendo creado y cargado los datos en la BD, ejecutar el script de Alter Tables /Datos/ScriptAltersBDShop.sql\n",
    "\n"
   ]
  },
  {
   "cell_type": "markdown",
   "metadata": {},
   "source": [
    "## Librería MySQL Connector"
   ]
  },
  {
   "cell_type": "markdown",
   "metadata": {},
   "source": [
    "###   Instalación de la libreria MySql Connector"
   ]
  },
  {
   "cell_type": "code",
   "execution_count": 1,
   "metadata": {},
   "outputs": [
    {
     "name": "stdout",
     "output_type": "stream",
     "text": [
      "Defaulting to user installation because normal site-packages is not writeable\n",
      "Collecting mysql-connector-python\n",
      "  Downloading mysql_connector_python-9.1.0-cp312-cp312-win_amd64.whl.metadata (6.2 kB)\n",
      "Downloading mysql_connector_python-9.1.0-cp312-cp312-win_amd64.whl (16.1 MB)\n",
      "   ---------------------------------------- 0.0/16.1 MB ? eta -:--:--\n",
      "   --- ------------------------------------ 1.6/16.1 MB 9.3 MB/s eta 0:00:02\n",
      "   ------- -------------------------------- 3.1/16.1 MB 8.8 MB/s eta 0:00:02\n",
      "   ---------- ----------------------------- 4.2/16.1 MB 8.1 MB/s eta 0:00:02\n",
      "   ------------ --------------------------- 5.0/16.1 MB 6.4 MB/s eta 0:00:02\n",
      "   ------------- -------------------------- 5.5/16.1 MB 5.6 MB/s eta 0:00:02\n",
      "   --------------- ------------------------ 6.0/16.1 MB 5.1 MB/s eta 0:00:02\n",
      "   ---------------- ----------------------- 6.8/16.1 MB 4.7 MB/s eta 0:00:02\n",
      "   ------------------ --------------------- 7.6/16.1 MB 4.5 MB/s eta 0:00:02\n",
      "   -------------------- ------------------- 8.4/16.1 MB 4.4 MB/s eta 0:00:02\n",
      "   ---------------------- ----------------- 9.2/16.1 MB 4.4 MB/s eta 0:00:02\n",
      "   ------------------------- -------------- 10.2/16.1 MB 4.3 MB/s eta 0:00:02\n",
      "   --------------------------- ------------ 11.0/16.1 MB 4.4 MB/s eta 0:00:02\n",
      "   ------------------------------ --------- 12.1/16.1 MB 4.4 MB/s eta 0:00:01\n",
      "   -------------------------------- ------- 13.1/16.1 MB 4.4 MB/s eta 0:00:01\n",
      "   ----------------------------------- ---- 14.4/16.1 MB 4.5 MB/s eta 0:00:01\n",
      "   -------------------------------------- - 15.5/16.1 MB 4.6 MB/s eta 0:00:01\n",
      "   ---------------------------------------- 16.1/16.1 MB 4.6 MB/s eta 0:00:00\n",
      "Installing collected packages: mysql-connector-python\n",
      "Successfully installed mysql-connector-python-9.1.0\n",
      "Note: you may need to restart the kernel to use updated packages.\n"
     ]
    }
   ],
   "source": [
    "%pip install mysql-connector-python"
   ]
  },
  {
   "cell_type": "markdown",
   "metadata": {},
   "source": [
    "### Conexión a una Base de Datos MySQL\n",
    "\n",
    "Para conectarte a una base de datos MySQL desde Python, antes de nada tendremos que tener a nuestro alcance la información de conexión de esa Base de datos, ya sea desde local o a una DB de un serviror. Para ello utilizaremos la función mysql.connector.connect() para conectarnos al servidor MySQL. Los argumentos que son necesarios para que Python pueda establecer la conexión con la base de datos:\n",
    "* **host**: Especifica el servidor donde se encuentra tu base de datos. En este caso es \"localhost\" porque el servidor está corriendo en tu propia máquina (local).\n",
    "* **user**: Es el nombre de usuario con el que te autenticas. Generalmente es root en instalaciones locales.\n",
    "* **password**: La contraseña asociada a la cuenta de usuario de MySQL.\n",
    "* **database**: El nombre de la base de datos específica a la que te quieres conectar. Si no indicas una base de datos aquí, podrías conectarte al servidor MySQL, pero tendrías que seleccionar la base de datos más tarde."
   ]
  },
  {
   "cell_type": "code",
   "execution_count": 2,
   "metadata": {},
   "outputs": [
    {
     "name": "stdout",
     "output_type": "stream",
     "text": [
      "Name: mysql-connector-python\n",
      "Version: 9.1.0\n",
      "Summary: A self-contained Python driver for communicating with MySQL servers, using an API that is compliant with the Python Database API Specification v2.0 (PEP 249).\n",
      "Home-page: https://dev.mysql.com/doc/connector-python/en/\n",
      "Author: Oracle and/or its affiliates\n",
      "Author-email: \n",
      "License: GNU GPLv2 (with FOSS License Exception)\n",
      "Location: C:\\Users\\icjardin\\AppData\\Local\\Packages\\PythonSoftwareFoundation.Python.3.12_qbz5n2kfra8p0\\LocalCache\\local-packages\\Python312\\site-packages\n",
      "Requires: \n",
      "Required-by: \n",
      "Note: you may need to restart the kernel to use updated packages.\n"
     ]
    }
   ],
   "source": [
    "%pip show mysql-connector-python"
   ]
  },
  {
   "cell_type": "markdown",
   "metadata": {},
   "source": [
    "Importamos el conector de la base de datos con la que queramos conectar:"
   ]
  },
  {
   "cell_type": "code",
   "execution_count": 3,
   "metadata": {},
   "outputs": [],
   "source": [
    "import mysql.connector\n",
    "from mysql.connector import Error"
   ]
  },
  {
   "cell_type": "code",
   "execution_count": 10,
   "metadata": {},
   "outputs": [
    {
     "name": "stdout",
     "output_type": "stream",
     "text": [
      "Conexión exitosa a la base de datos\n",
      "Conexión cerrada\n"
     ]
    }
   ],
   "source": [
    "try:\n",
    "    conexion = None \n",
    "\n",
    "    # Crear la conexión\n",
    "    conexion = mysql.connector.connect(\n",
    "        host='127.0.0.1',  # Cambia esto por la dirección de tu servidor MySQL\n",
    "        database='shop',  # Cambia esto por el nombre de tu base de datos\n",
    "        user='admin',  # Cambia esto por tu usuario de MySQL\n",
    "        password='Admin_2024'  # Cambia esto por tu contraseña de MySQL\n",
    "    )\n",
    "\n",
    "    if conexion.is_connected():\n",
    "        print(\"Conexión exitosa a la base de datos\")\n",
    "\n",
    "except Error as e:\n",
    "    print(f\"Error al conectar a la base de datos: {e}\")\n",
    "\n",
    "finally:\n",
    "    if conexion is not None and conexion.is_connected():\n",
    "        conexion.close()\n",
    "        print(\"Conexión cerrada\")"
   ]
  },
  {
   "cell_type": "markdown",
   "metadata": {
    "id": "Yjx4Ul3EqA7x"
   },
   "source": [
    "### Ejecutar consultas\n",
    "* SELECT: Para recuperar datos de la base de datos, puedes usar una consulta SELECT.\n",
    "* INSERT: Para agregar nuevos registros a la base de datos, puedes usar una consulta INSERT.\n",
    "* UPDATE: Para modificar registros existentes, puedes usar una consulta UPDATE.\n",
    "* DELETE: Para eliminar registros de la base de datos, puedes usar una consulta DELETE"
   ]
  },
  {
   "cell_type": "code",
   "execution_count": 54,
   "metadata": {},
   "outputs": [
    {
     "name": "stdout",
     "output_type": "stream",
     "text": [
      "Conexión exitosa a la base de datos\n"
     ]
    }
   ],
   "source": [
    "conexion = None \n",
    "\n",
    "try:\n",
    "    # Crear la conexión\n",
    "    conexion = mysql.connector.connect(\n",
    "        host='127.0.0.1',  # Cambia esto por la dirección de tu servidor MySQL\n",
    "        database='shop',  # Cambia esto por el nombre de tu base de datos\n",
    "        user='admin',  # Cambia esto por tu usuario de MySQL\n",
    "        password='Admin_2024'  # Cambia esto por tu contraseña de MySQL\n",
    "    )\n",
    "\n",
    "    if conexion.is_connected():\n",
    "        print(\"Conexión exitosa a la base de datos\")\n",
    "\n",
    "    # Crear un cursor para ejecutar consultas\n",
    "    cursor = conexion.cursor()\n",
    "except Error as e:\n",
    "    print(f\"Error al conectar a la base de datos: {e}\")"
   ]
  },
  {
   "cell_type": "markdown",
   "metadata": {},
   "source": [
    "#### SELECT"
   ]
  },
  {
   "cell_type": "code",
   "execution_count": 62,
   "metadata": {},
   "outputs": [],
   "source": [
    "    # Ejecutar una consulta SELECT\n",
    "    cursor.execute(\"SELECT * FROM shop.categories\")\n",
    "\n",
    "    # Recuperar los resultados\n",
    "    resultados = cursor.fetchall()\n",
    "\n",
    "    # Procesar los resultados\n",
    "    for fila in resultados:\n",
    "        print(fila)\n"
   ]
  },
  {
   "cell_type": "markdown",
   "metadata": {},
   "source": [
    "INSERT:"
   ]
  },
  {
   "cell_type": "code",
   "execution_count": 40,
   "metadata": {},
   "outputs": [
    {
     "name": "stdout",
     "output_type": "stream",
     "text": [
      "Datos insertados correctamente\n"
     ]
    }
   ],
   "source": [
    "    # Definir la consulta de inserción\n",
    "    consulta_insert = \"INSERT INTO shop.categories (category_id, name) VALUES (%s, %s)\"\n",
    "    datos = (3, 'valor3')  # Valores a insertar\n",
    "\n",
    "    # Ejecutar la consulta\n",
    "    cursor.execute(consulta_insert, datos)\n",
    "\n",
    "    # Confirmar la transacción\n",
    "    conexion.commit()\n",
    "    print(\"Datos insertados correctamente\")\n"
   ]
  },
  {
   "cell_type": "markdown",
   "metadata": {},
   "source": [
    "#### UPDATE:"
   ]
  },
  {
   "cell_type": "code",
   "execution_count": 23,
   "metadata": {},
   "outputs": [
    {
     "name": "stdout",
     "output_type": "stream",
     "text": [
      "Datos actualizados correctamente\n"
     ]
    }
   ],
   "source": [
    "    # Definir la consulta de actualización\n",
    "    consulta_update = \"UPDATE shop.categories SET category_id = %s WHERE name = %s\"\n",
    "    datos = (1, 'valor3')  # Nuevos valores y condición\n",
    "\n",
    "    # Ejecutar la consulta\n",
    "    cursor.execute(consulta_update, datos)\n",
    "\n",
    "    # Confirmar la transacción\n",
    "    conexion.commit()\n",
    "    print(\"Datos actualizados correctamente\")\n"
   ]
  },
  {
   "cell_type": "markdown",
   "metadata": {},
   "source": [
    "#### DELETE:"
   ]
  },
  {
   "cell_type": "code",
   "execution_count": 61,
   "metadata": {},
   "outputs": [
    {
     "name": "stdout",
     "output_type": "stream",
     "text": [
      "Datos eliminados correctamente\n"
     ]
    }
   ],
   "source": [
    "    # Definir la consulta de eliminación\n",
    "    consulta_delete = \"DELETE FROM shop.categories WHERE category_id = %s\"\n",
    "    datos = (4,)  # Valor que se usará como condición\n",
    "\n",
    "    # Ejecutar la consulta\n",
    "    cursor.execute(consulta_delete, datos)\n",
    "\n",
    "    # Confirmar la transacción\n",
    "    conexion.commit()\n",
    "    print(\"Datos eliminados correctamente\")\n"
   ]
  },
  {
   "cell_type": "markdown",
   "metadata": {},
   "source": [
    "#### Manejo de Errores\n",
    "Es importante manejar errores que puedan surgir durante la ejecución de las consultas. Esto se puede hacer utilizando un bloque try-except. Asegúrate de incluir este manejo en cada consulta:"
   ]
  },
  {
   "cell_type": "code",
   "execution_count": 28,
   "metadata": {},
   "outputs": [
    {
     "name": "stdout",
     "output_type": "stream",
     "text": [
      "Código para ejecutar consultas\n"
     ]
    }
   ],
   "source": [
    "try:\n",
    "    # Código para ejecutar consultas\n",
    "    print(\"Código para ejecutar consultas\")\n",
    "\n",
    "except Error as e:\n",
    "    print(f\"Error al ejecutar la consulta: {e}\")"
   ]
  },
  {
   "cell_type": "markdown",
   "metadata": {},
   "source": [
    "#### Cerrar el cursor y la conexión\n",
    "Después de ejecutar todas las consultas, **asegúrate de cerrar el cursor y la conexión para liberar recursos**:"
   ]
  },
  {
   "cell_type": "code",
   "execution_count": 29,
   "metadata": {},
   "outputs": [
    {
     "name": "stdout",
     "output_type": "stream",
     "text": [
      "Código para ejecutar consultas\n",
      "Conexión cerrada\n"
     ]
    }
   ],
   "source": [
    "try:\n",
    "    # Código para ejecutar consultas\n",
    "    print(\"Código para ejecutar consultas\")\n",
    "finally:\n",
    "    if conexion.is_connected():\n",
    "        cursor.close()  # Cerrar el cursor\n",
    "        conexion.close()  # Cerrar la conexión\n",
    "        print(\"Conexión cerrada\")\n"
   ]
  },
  {
   "cell_type": "markdown",
   "metadata": {},
   "source": [
    "#### Ejemplo Completo"
   ]
  },
  {
   "cell_type": "code",
   "execution_count": null,
   "metadata": {},
   "outputs": [],
   "source": [
    "import mysql.connector\n",
    "from mysql.connector import Error\n",
    "\n",
    "try:\n",
    "    # Crear la conexión\n",
    "    conexion = mysql.connector.connect(\n",
    "        host='127.0.0.1',  # Cambia esto por la dirección de tu servidor MySQL\n",
    "        database='shop',  # Cambia esto por el nombre de tu base de datos\n",
    "        user='admin',  # Cambia esto por tu usuario de MySQL\n",
    "        password='Admin_2024'  # Cambia esto por tu contraseña de MySQL\n",
    "    )\n",
    "\n",
    "    if conexion.is_connected():\n",
    "        print(\"Conexión exitosa a la base de datos\")\n",
    "\n",
    "        cursor = conexion.cursor()\n",
    "\n",
    "        # Ejecutar una consulta SELECT\n",
    "        cursor.execute(\"SELECT * FROM shop.categories\")\n",
    "        resultados = cursor.fetchall()\n",
    "        for fila in resultados:\n",
    "            print(fila)\n",
    "\n",
    "        # Ejecutar una consulta INSERT\n",
    "        consulta_insert = \"INSERT INTO shop.categories (category_id, name) VALUES (%s, %s)\"\n",
    "        datos_insert = (10, 'valor10')\n",
    "        cursor.execute(consulta_insert, datos_insert)\n",
    "        conexion.commit()\n",
    "        print(\"Datos insertados correctamente\")\n",
    "\n",
    "        # Ejecutar una consulta UPDATE\n",
    "        consulta_update = \"UPDATE shop.categories SET name = %s WHERE category_id = %s\"\n",
    "        datos_update = ('valor2',10)\n",
    "        cursor.execute(consulta_update, datos_update)\n",
    "        conexion.commit()\n",
    "        print(\"Datos actualizados correctamente\")\n",
    "\n",
    "        # Ejecutar una consulta DELETE\n",
    "        consulta_delete = \"DELETE FROM shop.categories WHERE category_id = %s\"\n",
    "        datos_delete = (10,)\n",
    "        cursor.execute(consulta_delete, datos_delete)\n",
    "        conexion.commit()\n",
    "        print(\"Datos eliminados correctamente\")\n",
    "\n",
    "except Error as e:\n",
    "    print(f\"Error al conectar a la base de datos o ejecutar la consulta: {e}\")\n",
    "\n",
    "finally:\n",
    "    if conexion.is_connected():\n",
    "        cursor.close()\n",
    "        conexion.close()\n",
    "        print(\"Conexión cerrada\")\n"
   ]
  },
  {
   "cell_type": "markdown",
   "metadata": {},
   "source": [
    "### Conexión a una Base de Datos MySQL\n",
    "\n",
    "Para conectarte a una base de datos MySQL desde Python, antes de nada tendremos que tener a nuestro alcance la información de conexión de esa Base de datos, ya sea desde local o a una DB de un serviror. Para ello utilizaremos la función mysql.connector.connect() para conectarnos al servidor MySQL. Los argumentos que son necesarios para que Python pueda establecer la conexión con la base de datos:\n",
    "* **host**: Especifica el servidor donde se encuentra tu base de datos. En este caso es \"localhost\" porque el servidor está corriendo en tu propia máquina (local).\n",
    "* **user**: Es el nombre de usuario con el que te autenticas. Generalmente es root en instalaciones locales.\n",
    "* **password**: La contraseña asociada a la cuenta de usuario de MySQL.\n",
    "* **database**: El nombre de la base de datos específica a la que te quieres conectar. Si no indicas una base de datos aquí, podrías conectarte al servidor MySQL, pero tendrías que seleccionar la base de datos más tarde."
   ]
  },
  {
   "cell_type": "markdown",
   "metadata": {},
   "source": [
    "###   Instalación de la libreria PyMySql\n",
    "Si aún no tienes instalada la librería PyMySQL, instálala usando pip:"
   ]
  },
  {
   "cell_type": "code",
   "execution_count": 2,
   "metadata": {},
   "outputs": [
    {
     "name": "stdout",
     "output_type": "stream",
     "text": [
      "Defaulting to user installation because normal site-packages is not writeable\n",
      "Requirement already satisfied: pymysql in c:\\users\\icjardin\\appdata\\local\\packages\\pythonsoftwarefoundation.python.3.12_qbz5n2kfra8p0\\localcache\\local-packages\\python312\\site-packages (1.1.1)\n",
      "Note: you may need to restart the kernel to use updated packages.\n"
     ]
    }
   ],
   "source": [
    "%pip install pymysql"
   ]
  },
  {
   "cell_type": "markdown",
   "metadata": {},
   "source": [
    "#### Conectar a la base de datos MySQL\n",
    "Primero, creamos una conexión a la base de datos MySQL. Para ello, necesitarás la dirección del servidor, el usuario, la contraseña y el nombre de la base de datos."
   ]
  },
  {
   "cell_type": "code",
   "execution_count": 3,
   "metadata": {},
   "outputs": [
    {
     "name": "stdout",
     "output_type": "stream",
     "text": [
      "Conexión exitosa a la base de datos\n"
     ]
    }
   ],
   "source": [
    "import pymysql\n",
    "\n",
    "# Parámetros de conexión\n",
    "conexion = pymysql.connect(\n",
    "    host='127.0.0.1',  # Cambia esto por la dirección de tu servidor MySQL\n",
    "    database='shop',  # Cambia esto por el nombre de tu base de datos\n",
    "    user='admin',  # Cambia esto por tu usuario de MySQL\n",
    "    password='Admin_2024'  # Cambia esto por tu contraseña de MySQL\n",
    ")\n",
    "\n",
    "# Verificar si la conexión fue exitosa\n",
    "if conexion:\n",
    "    print(\"Conexión exitosa a la base de datos\")\n"
   ]
  },
  {
   "cell_type": "markdown",
   "metadata": {},
   "source": [
    "#### Crear un cursor\n",
    "Un cursor es un objeto que te permite ejecutar consultas SQL en la base de datos. Lo creamos a partir de la conexión establecida."
   ]
  },
  {
   "cell_type": "code",
   "execution_count": 4,
   "metadata": {},
   "outputs": [],
   "source": [
    "cursor = conexion.cursor()\n"
   ]
  },
  {
   "cell_type": "markdown",
   "metadata": {},
   "source": [
    "#### Ejecutar una consulta (SELECT)\n",
    "Para obtener datos de la base de datos, usamos una consulta SELECT."
   ]
  },
  {
   "cell_type": "code",
   "execution_count": 7,
   "metadata": {},
   "outputs": [
    {
     "name": "stdout",
     "output_type": "stream",
     "text": [
      "(1, 'Complementos baño')\n",
      "(2, 'Fregaderos ')\n",
      "(3, 'Grifos Baño y Cocina')\n",
      "(4, 'Hidromasaje')\n",
      "(5, 'Lavabos de diseño')\n",
      "(6, 'Mamparas de ducha')\n",
      "(7, 'Muebles de Baño')\n",
      "(8, 'Platos de Ducha de Resina')\n",
      "(9, 'Sanitarios Roca')\n",
      "(10, 'WC Tapas , Asientos.')\n"
     ]
    }
   ],
   "source": [
    "# Consulta SQL para obtener datos\n",
    "consulta = \"SELECT * FROM shop.categories\"\n",
    "\n",
    "# Ejecutar la consulta\n",
    "cursor.execute(consulta)\n",
    "\n",
    "# Obtener todos los resultados de la consulta\n",
    "resultados = cursor.fetchall()\n",
    "\n",
    "# Imprimir los resultados\n",
    "for fila in resultados:\n",
    "    print(fila)\n"
   ]
  },
  {
   "cell_type": "markdown",
   "metadata": {},
   "source": [
    "#### Insertar datos (INSERT)\n",
    "Para insertar nuevos registros en la base de datos, puedes usar una consulta INSERT INTO."
   ]
  },
  {
   "cell_type": "code",
   "execution_count": 8,
   "metadata": {},
   "outputs": [
    {
     "name": "stdout",
     "output_type": "stream",
     "text": [
      "Datos insertados correctamente\n"
     ]
    }
   ],
   "source": [
    "# Consulta SQL para insertar un nuevo producto\n",
    "consulta_insertar = \"\"\"\n",
    "    INSERT INTO categories (category_id, name)\n",
    "    VALUES (%s, %s)\n",
    "\"\"\"\n",
    "\n",
    "# Datos a insertar\n",
    "datos = (11, \"Cagtegoria nueva\")\n",
    "\n",
    "# Ejecutar la consulta\n",
    "cursor.execute(consulta_insertar, datos)\n",
    "\n",
    "# Confirmar la transacción (commit)\n",
    "conexion.commit()\n",
    "\n",
    "print(\"Datos insertados correctamente\")\n"
   ]
  },
  {
   "cell_type": "markdown",
   "metadata": {},
   "source": [
    "#### Modificar datos (UPDATE)\n",
    "Para actualizar o modificar registros existentes en la base de datos, utilizamos una consulta UPDATE."
   ]
  },
  {
   "cell_type": "code",
   "execution_count": 9,
   "metadata": {},
   "outputs": [
    {
     "name": "stdout",
     "output_type": "stream",
     "text": [
      "Datos actualizados correctamente\n"
     ]
    }
   ],
   "source": [
    "# Consulta SQL para actualizar un producto\n",
    "consulta_modificar = \"\"\"\n",
    "    UPDATE categories\n",
    "    SET name = %s\n",
    "    WHERE category_id = %s\n",
    "\"\"\"\n",
    "\n",
    "# Nuevos datos (precio y nombre del producto a actualizar)\n",
    "nuevos_datos = (\"Categoria nueva 2\",11 )\n",
    "\n",
    "# Ejecutar la consulta\n",
    "cursor.execute(consulta_modificar, nuevos_datos)\n",
    "\n",
    "# Confirmar la transacción (commit)\n",
    "conexion.commit()\n",
    "\n",
    "print(\"Datos actualizados correctamente\")\n"
   ]
  },
  {
   "cell_type": "markdown",
   "metadata": {},
   "source": [
    "#### Eliminar datos (DELETE)\n",
    "Para eliminar registros, usamos una consulta DELETE."
   ]
  },
  {
   "cell_type": "code",
   "execution_count": 10,
   "metadata": {},
   "outputs": [
    {
     "name": "stdout",
     "output_type": "stream",
     "text": [
      "Producto eliminado correctamente\n"
     ]
    }
   ],
   "source": [
    "# Consulta SQL para eliminar un producto\n",
    "consulta_eliminar = \"\"\"\n",
    "    DELETE FROM categories\n",
    "    WHERE category_id = %s\n",
    "\"\"\"\n",
    "\n",
    "# Nombre del producto a eliminar\n",
    "producto_a_eliminar = (11,)\n",
    "\n",
    "# Ejecutar la consulta\n",
    "cursor.execute(consulta_eliminar, producto_a_eliminar)\n",
    "\n",
    "# Confirmar la transacción (commit)\n",
    "conexion.commit()\n",
    "\n",
    "print(\"Producto eliminado correctamente\")\n"
   ]
  },
  {
   "cell_type": "markdown",
   "metadata": {},
   "source": [
    "#### Cerrar el cursor y la conexión\n",
    "Una vez que hayas terminado de realizar todas tus operaciones con la base de datos, debes cerrar el cursor y la conexión."
   ]
  },
  {
   "cell_type": "code",
   "execution_count": 11,
   "metadata": {},
   "outputs": [
    {
     "name": "stdout",
     "output_type": "stream",
     "text": [
      "Conexión cerrada\n"
     ]
    }
   ],
   "source": [
    "# Cerrar el cursor\n",
    "cursor.close()\n",
    "\n",
    "# Cerrar la conexión\n",
    "conexion.close()\n",
    "\n",
    "print(\"Conexión cerrada\")\n"
   ]
  },
  {
   "cell_type": "markdown",
   "metadata": {},
   "source": [
    "#### Ejemplo completo de código:"
   ]
  },
  {
   "cell_type": "code",
   "execution_count": 12,
   "metadata": {},
   "outputs": [
    {
     "name": "stdout",
     "output_type": "stream",
     "text": [
      "(1, 'Complementos baño')\n",
      "(2, 'Fregaderos ')\n",
      "(3, 'Grifos Baño y Cocina')\n",
      "(4, 'Hidromasaje')\n",
      "(5, 'Lavabos de diseño')\n",
      "(6, 'Mamparas de ducha')\n",
      "(7, 'Muebles de Baño')\n",
      "(8, 'Platos de Ducha de Resina')\n",
      "(9, 'Sanitarios Roca')\n",
      "(10, 'WC Tapas , Asientos.')\n"
     ]
    }
   ],
   "source": [
    "import pymysql\n",
    "\n",
    "# Conexión a la base de datos\n",
    "conexion = pymysql.connect(\n",
    "    host='127.0.0.1',  # Cambia esto por la dirección de tu servidor MySQL\n",
    "    database='shop',  # Cambia esto por el nombre de tu base de datos\n",
    "    user='admin',  # Cambia esto por tu usuario de MySQL\n",
    "    password='Admin_2024'  # Cambia esto por tu contraseña de MySQL\n",
    ")\n",
    "\n",
    "cursor = conexion.cursor()\n",
    "\n",
    "# Ejemplo de SELECT\n",
    "consulta = \"SELECT * FROM shop.categories\"\n",
    "cursor.execute(consulta)\n",
    "resultados = cursor.fetchall()\n",
    "for fila in resultados:\n",
    "    print(fila)\n",
    "\n",
    "# Ejemplo de INSERT\n",
    "consulta_insertar = \"INSERT INTO categories (category_id, name) VALUES (%s, %s)\"\n",
    "datos = (11, \"Cagtegoria nueva\")\n",
    "cursor.execute(consulta_insertar, datos)\n",
    "conexion.commit()\n",
    "\n",
    "# Ejemplo de UPDATE\n",
    "consulta_modificar = \"UPDATE categories SET name = %s WHERE category_id = %s\"\n",
    "nuevos_datos = (\"Categoria nueva 2\",11 )\n",
    "cursor.execute(consulta_modificar, nuevos_datos)\n",
    "conexion.commit()\n",
    "\n",
    "# Ejemplo de DELETE\n",
    "consulta_eliminar = \"DELETE FROM categories WHERE category_id = %s\"\n",
    "producto_a_eliminar = (11,)\n",
    "cursor.execute(consulta_eliminar, producto_a_eliminar)\n",
    "conexion.commit()\n",
    "\n",
    "# Cerrar cursor y conexión\n",
    "cursor.close()\n",
    "conexion.close()"
   ]
  },
  {
   "cell_type": "markdown",
   "metadata": {},
   "source": [
    "## De Query de BD relacional a DataFrame"
   ]
  },
  {
   "cell_type": "markdown",
   "metadata": {
    "id": "5wadwLXPwPfY"
   },
   "source": [
    "Si tenemos conocimientos en el desarrollo de consultas SQL, la carga de datos a partir de una base de datos relacional a un Dataframe que podamnos utilizar para trabajar de manera más agil y rápida es un proceso sencillo. Se utiliza `pandas` principalmente junto con otras bibliotecas como `SQLAlchemy` o `PyMySQL`, que permiten la conexión a la base de datos. Luego, se pueden leer y escribir datos de manera eficiente entre la base de datos y un DataFrame de pandas, que es el formato de tabla en memoria de la librería."
   ]
  },
  {
   "cell_type": "markdown",
   "metadata": {},
   "source": [
    "#### Instalar Librería Pandas y SQLAlchemy"
   ]
  },
  {
   "cell_type": "markdown",
   "metadata": {
    "id": "7FW0PN7h08d6"
   },
   "source": [
    "Lo primero que tendremos que hacer será inicializar la librería [`SQLAlchemy`](https://www.sqlalchemy.org/) con los datos de conexión a la base de datos que hemos desplegado. Esta librería nos proporciona una potente abstracción a la hora de acceder a una base de datos:"
   ]
  },
  {
   "cell_type": "code",
   "execution_count": 31,
   "metadata": {},
   "outputs": [
    {
     "name": "stdout",
     "output_type": "stream",
     "text": [
      "Defaulting to user installation because normal site-packages is not writeable\n",
      "Requirement already satisfied: sqlalchemy in c:\\users\\icjardin\\appdata\\local\\packages\\pythonsoftwarefoundation.python.3.12_qbz5n2kfra8p0\\localcache\\local-packages\\python312\\site-packages (2.0.36)\n",
      "Requirement already satisfied: pandas in c:\\users\\icjardin\\appdata\\local\\packages\\pythonsoftwarefoundation.python.3.12_qbz5n2kfra8p0\\localcache\\local-packages\\python312\\site-packages (2.2.3)\n",
      "Requirement already satisfied: mysql-connector-python in c:\\users\\icjardin\\appdata\\local\\packages\\pythonsoftwarefoundation.python.3.12_qbz5n2kfra8p0\\localcache\\local-packages\\python312\\site-packages (9.1.0)\n",
      "Requirement already satisfied: typing-extensions>=4.6.0 in c:\\users\\icjardin\\appdata\\local\\packages\\pythonsoftwarefoundation.python.3.12_qbz5n2kfra8p0\\localcache\\local-packages\\python312\\site-packages (from sqlalchemy) (4.12.2)\n",
      "Requirement already satisfied: greenlet!=0.4.17 in c:\\users\\icjardin\\appdata\\local\\packages\\pythonsoftwarefoundation.python.3.12_qbz5n2kfra8p0\\localcache\\local-packages\\python312\\site-packages (from sqlalchemy) (3.1.1)\n",
      "Requirement already satisfied: numpy>=1.26.0 in c:\\users\\icjardin\\appdata\\local\\packages\\pythonsoftwarefoundation.python.3.12_qbz5n2kfra8p0\\localcache\\local-packages\\python312\\site-packages (from pandas) (2.1.2)\n",
      "Requirement already satisfied: python-dateutil>=2.8.2 in c:\\users\\icjardin\\appdata\\local\\packages\\pythonsoftwarefoundation.python.3.12_qbz5n2kfra8p0\\localcache\\local-packages\\python312\\site-packages (from pandas) (2.9.0.post0)\n",
      "Requirement already satisfied: pytz>=2020.1 in c:\\users\\icjardin\\appdata\\local\\packages\\pythonsoftwarefoundation.python.3.12_qbz5n2kfra8p0\\localcache\\local-packages\\python312\\site-packages (from pandas) (2024.2)\n",
      "Requirement already satisfied: tzdata>=2022.7 in c:\\users\\icjardin\\appdata\\local\\packages\\pythonsoftwarefoundation.python.3.12_qbz5n2kfra8p0\\localcache\\local-packages\\python312\\site-packages (from pandas) (2024.2)\n",
      "Requirement already satisfied: six>=1.5 in c:\\users\\icjardin\\appdata\\local\\packages\\pythonsoftwarefoundation.python.3.12_qbz5n2kfra8p0\\localcache\\local-packages\\python312\\site-packages (from python-dateutil>=2.8.2->pandas) (1.16.0)\n",
      "Note: you may need to restart the kernel to use updated packages.\n"
     ]
    }
   ],
   "source": [
    "%pip install sqlalchemy pandas mysql-connector-python"
   ]
  },
  {
   "cell_type": "code",
   "execution_count": 2,
   "metadata": {},
   "outputs": [],
   "source": [
    "from sqlalchemy import create_engine\n",
    "import pandas as pd"
   ]
  },
  {
   "cell_type": "markdown",
   "metadata": {},
   "source": [
    "#### Conectar a la base de datos MySQL con SQLAlchemy\n",
    "`pandas` por sí sola no maneja la conexión directa a una base de datos `MySQL`, por lo que normalmente se utiliza `SQLAlchemy` como intermediario para establecer la conexión. SQLAlchemy crea un motor de base de datos que pandas puede utilizar."
   ]
  },
  {
   "cell_type": "code",
   "execution_count": 3,
   "metadata": {
    "id": "hOzXwAHs1dde"
   },
   "outputs": [
    {
     "name": "stdout",
     "output_type": "stream",
     "text": [
      "Conexión exitosa a la base de datos MySQL\n"
     ]
    }
   ],
   "source": [
    "# Parámetros de conexión\n",
    "USER = \"admin\"\n",
    "PASSWORD = \"Admin_2024\"\n",
    "HOST = \"127.0.0.1\"\n",
    "PORT = \"3306\"\n",
    "DATABASE = \"shop\"\n",
    "\n",
    "# Crear el motor de conexión y la cadena de conexión\n",
    "engine = create_engine(f'mysql+pymysql://{USER}:{PASSWORD}@{HOST}/{DATABASE}')\n",
    "\n",
    "# Comprobar si la conexión es exitosa\n",
    "try:\n",
    "    conexion = engine.connect()\n",
    "    print(\"Conexión exitosa a la base de datos MySQL\")\n",
    "    conexion.close()\n",
    "except Exception as e:\n",
    "    print(f\"Error al conectar a la base de datos: {e}\")"
   ]
  },
  {
   "cell_type": "markdown",
   "metadata": {},
   "source": [
    "#### CONSULTAS\n"
   ]
  },
  {
   "cell_type": "markdown",
   "metadata": {},
   "source": [
    "#### SELECT: Leer datos desde una base de datos con pandas\n",
    "Una vez que la conexión se ha establecido, puedes ejecutar consultas SQL para leer datos de la base de datos y cargarlos en un DataFrame de pandas.\n",
    "\n",
    "#### 1.Leer toda una tabla"
   ]
  },
  {
   "cell_type": "code",
   "execution_count": 4,
   "metadata": {
    "id": "ob2k9VJPx2H4"
   },
   "outputs": [
    {
     "name": "stdout",
     "output_type": "stream",
     "text": [
      "   category_id                  name\n",
      "0            1     Complementos baño\n",
      "1            2           Fregaderos \n",
      "2            3  Grifos Baño y Cocina\n",
      "3            4           Hidromasaje\n",
      "4            5     Lavabos de diseño\n"
     ]
    }
   ],
   "source": [
    "# Leer la tabla completa 'productos' y cargarla en un DataFrame de pandas\n",
    "df = pd.read_sql('SELECT * FROM categories', engine)\n",
    "\n",
    "# Mostrar los primeros 5 registros del DataFrame\n",
    "print(df.head())\n"
   ]
  },
  {
   "cell_type": "markdown",
   "metadata": {},
   "source": [
    "2. Leer una consulta con filtros\n",
    "Puedes ejecutar consultas SQL más complejas y obtener solo un subconjunto de los datos:"
   ]
  },
  {
   "cell_type": "code",
   "execution_count": 5,
   "metadata": {},
   "outputs": [
    {
     "name": "stdout",
     "output_type": "stream",
     "text": [
      "   category_id                       name\n",
      "0            6          Mamparas de ducha\n",
      "1            7            Muebles de Baño\n",
      "2            8  Platos de Ducha de Resina\n",
      "3            9            Sanitarios Roca\n",
      "4           10       WC Tapas , Asientos.\n"
     ]
    }
   ],
   "source": [
    "# Leer productos cuyo precio es mayor a 50\n",
    "df_filtros = pd.read_sql('SELECT * FROM categories WHERE category_id > 5', engine)\n",
    "\n",
    "# Mostrar los primeros registros que cumplen con la condición\n",
    "print(df_filtros.head())\n"
   ]
  },
  {
   "cell_type": "markdown",
   "metadata": {
    "id": "DkTPrJ3s2tuT"
   },
   "source": [
    "3. Esta base de datos también contiene una tabla `categories`, con información de las categorías que contiene cada producto. Podemos utilizar la tabla `categories` y `products` para conseguir un `DataFrame` un poco más elaborado, con el número de productos por categoría:"
   ]
  },
  {
   "cell_type": "code",
   "execution_count": 6,
   "metadata": {},
   "outputs": [
    {
     "name": "stdout",
     "output_type": "stream",
     "text": [
      "   category_id               name  product_id  category_id  provider_id  \\\n",
      "0            1  Complementos baño           7            1            8   \n",
      "1            1  Complementos baño          19            1            5   \n",
      "2            1  Complementos baño          22            1            2   \n",
      "3            1  Complementos baño          33            1            9   \n",
      "4            1  Complementos baño          37            1            9   \n",
      "\n",
      "                                                name  price  \n",
      "0                              Percha RUBI RU-03 PyP  28.00  \n",
      "1  BA7706 SOPORTE PAPEL/ESCOBILLA CROMO 20x20x72 cm.  60.50  \n",
      "2            BA9230 TOALLERO PIE CROMADO 30x20x81 cm  56.15  \n",
      "3              Portarrollos con Tapa BASIC BC-01 PyP   0.00  \n",
      "4                             Repisa NICK NI-02 PyP.   0.00  \n"
     ]
    }
   ],
   "source": [
    "# Leer productos cuyo precio es mayor a 50\n",
    "df_filtros = pd.read_sql('SELECT * FROM categories inner join products WHERE categories.category_id =products.category_id', engine)\n",
    "\n",
    "# Mostrar los primeros registros que cumplen con la condición\n",
    "print(df_filtros.head())"
   ]
  },
  {
   "cell_type": "markdown",
   "metadata": {},
   "source": [
    "#### INSERT: Insertar datos en la base de datos con pandas\n",
    "Si ya tienes un DataFrame en pandas, puedes escribir o insertar esos datos directamente en una tabla de MySQL. El método ´.to_sql´ tiene tres atributos que realizarán distintas acciones con los dataframes a insertar:\n",
    "* `if_exists='replace'`: Esto indica que si la tabla categories ya existe en la base de datos, será reemplazada por los datos del DataFrame. Si prefieres solo añadir filas sin eliminar la tabla, puedes cambiarlo a `if_exists='append'`.\n",
    "* `index=False`: Indica que no se añadirá la columna del índice del DataFrame a la tabla de la base de datos.\n",
    "\n",
    "#### 1.Insertar un DataFrame en una tabla nueva: \n",
    "Supongamos que tienes un DataFrame llamado df_nuevo con nuevos datos que deseas insertar en una tabla llamada productos_nuevos. Debes indicar el atributo if_exists a `replace` si deseas reemplazar la tabla completa."
   ]
  },
  {
   "cell_type": "code",
   "execution_count": 17,
   "metadata": {
    "id": "iFKr4Bml2_P-"
   },
   "outputs": [
    {
     "name": "stdout",
     "output_type": "stream",
     "text": [
      "Datos insertados en la base de datos\n",
      "       nombre  precio  stock\n",
      "0  Producto A   19.99    100\n",
      "1  Producto B   29.99    150\n"
     ]
    }
   ],
   "source": [
    "# Crear un DataFrame de ejemplo\n",
    "df_nuevo = pd.DataFrame({\n",
    "    'nombre': ['Producto A', 'Producto B'],\n",
    "    'precio': [19.99, 29.99],\n",
    "    'stock': [100, 150]\n",
    "})\n",
    "# Insertar el DataFrame en la tabla categorias (se crea si no existe)\n",
    "df_nuevo.to_sql('productos_nuevos', engine, if_exists='replace', index=False)\n",
    "\n",
    "print(\"Datos insertados en la base de datos\")\n",
    "print(df_nuevo)\n",
    "\n"
   ]
  },
  {
   "cell_type": "markdown",
   "metadata": {},
   "source": [
    "#### 2. Añadir valores nuevos ana tabla existente (INSERT)\n",
    "Para insertar datos en la base de datos, puedes utilizar el método `to_sql` de pandas. Sin embargo, ten en cuenta que este método está diseñado para insertar datos de un DataFrame:"
   ]
  },
  {
   "cell_type": "code",
   "execution_count": 28,
   "metadata": {},
   "outputs": [
    {
     "data": {
      "text/plain": [
       "2"
      ]
     },
     "execution_count": 28,
     "metadata": {},
     "output_type": "execute_result"
    }
   ],
   "source": [
    "# Crear un DataFrame con los datos a insertar\n",
    "datos_nuevos = pd.DataFrame({\n",
    "    'columna5': [5, 'valor5'],\n",
    "    'columna6': [6, 'valor6']\n",
    "})\n",
    "\n",
    "# Insertar los datos en la tabla\n",
    "datos_nuevos.to_sql('shop.categories', con=engine, if_exists='append', index=False)\n"
   ]
  },
  {
   "cell_type": "markdown",
   "metadata": {},
   "source": [
    "`if_exists='append'`: Esto indica que los nuevos datos se agregarán a la tabla existente. Indica `fail` si no deseas realizar ninguna acción si la tabla ya existe."
   ]
  },
  {
   "cell_type": "markdown",
   "metadata": {},
   "source": [
    "#### UPDATE: Modificar datos en la base de datos con pandas\n",
    "Para actualizar registros en la base de datos, no puedes usar pandas directamente. En su lugar, deberías usar **`SQLAlchemy`** para ejecutar una consulta:"
   ]
  },
  {
   "cell_type": "code",
   "execution_count": 13,
   "metadata": {},
   "outputs": [],
   "source": [
    "from sqlalchemy import text\n",
    "\n",
    "# Definir la consulta de actualización\n",
    "consulta_update = text(\"UPDATE shop.categories SET name = :nuevo_valor WHERE category_id = :condicion\")\n",
    "\n",
    "# Ejecutar la consulta con un diccionario de parámetros. Se necesita un diccionari para las nuevas versiones de sqlalchemy\n",
    "with engine.connect() as connection:\n",
    "    transaction = connection.begin()  # Inicia la transacción\n",
    "    connection.execute(consulta_update, {\"nuevo_valor\": \"Categoria A\", \"condicion\": 11})\n",
    "    transaction.commit()  # Confirma la transacción\n",
    "\n"
   ]
  },
  {
   "cell_type": "markdown",
   "metadata": {},
   "source": [
    "#### DELETE: Eliminar datos en la base de datos con pandas\n",
    "De forma similar, puedes usar SQLAlchemy para eliminar registros:"
   ]
  },
  {
   "cell_type": "code",
   "execution_count": 16,
   "metadata": {},
   "outputs": [],
   "source": [
    "# Definir la consulta de eliminación\n",
    "consulta_delete = text(\"DELETE FROM shop.categories WHERE category_id = :valor_a_eliminar\")\n",
    "\n",
    "# Ejecutar la consulta\n",
    "with engine.connect() as connection:\n",
    "    transaction = connection.begin()  # Inicia la transacción\n",
    "    connection.execute(consulta_delete, {\"valor_a_eliminar\": 12})\n",
    "    transaction.commit()  # Confirma la transacción\n"
   ]
  },
  {
   "cell_type": "markdown",
   "metadata": {},
   "source": [
    "#### Cerrar conexión\n",
    "SQLAlchemy maneja las conexiones automáticamente, pero es una buena práctica cerrar el motor al final de tu script:"
   ]
  },
  {
   "cell_type": "code",
   "execution_count": 17,
   "metadata": {},
   "outputs": [],
   "source": [
    "engine.dispose()"
   ]
  }
 ],
 "metadata": {
  "colab": {
   "collapsed_sections": [
    "Iwkm1yiXOYNB",
    "sYck_vDDLl8b",
    "Os5uizMemtMq"
   ],
   "name": "Copia de cbd-sesion05-obtencion-datos.ipynb",
   "provenance": [
    {
     "file_id": "1AWfARF2ozRkqmYM0UpDnabKEDP21HSfV",
     "timestamp": 1632212173736
    },
    {
     "file_id": "https://github.com/pablodms/cpr-python-nosql/blob/master/curso-big-data/cbd_sesion05_obtencion_datos.ipynb",
     "timestamp": 1631633394139
    }
   ],
   "toc_visible": true
  },
  "kernelspec": {
   "display_name": "Python 3",
   "language": "python",
   "name": "python3"
  },
  "language_info": {
   "codemirror_mode": {
    "name": "ipython",
    "version": 3
   },
   "file_extension": ".py",
   "mimetype": "text/x-python",
   "name": "python",
   "nbconvert_exporter": "python",
   "pygments_lexer": "ipython3",
   "version": "3.12.7"
  }
 },
 "nbformat": 4,
 "nbformat_minor": 4
}
