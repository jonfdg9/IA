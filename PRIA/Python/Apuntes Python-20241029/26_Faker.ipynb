{
 "cells": [
  {
   "cell_type": "markdown",
   "metadata": {
    "id": "iDUbwtQYYn6V"
   },
   "source": [
    "# AUTOMATIZACIÓN DE CREACIÓN DE DATOS FICTICIOS"
   ]
  },
  {
   "cell_type": "markdown",
   "metadata": {},
   "source": [
    "Faker es una librería de Python diseñada para generar datos falsos que imitan datos del mundo real. Puede generar nombres, direcciones, correos electrónicos, datos financieros, textos, y otros tipos de información de manera rápida y sencilla. Esto es especialmente útil en el desarrollo de aplicaciones, pruebas de software, o análisis de datos, donde necesitas grandes volúmenes de datos ficticios para realizar tests sin utilizar datos reales."
   ]
  },
  {
   "cell_type": "markdown",
   "metadata": {},
   "source": [
    "### Instalación"
   ]
  },
  {
   "cell_type": "code",
   "execution_count": 1,
   "metadata": {},
   "outputs": [
    {
     "name": "stdout",
     "output_type": "stream",
     "text": [
      "Note: you may need to restart the kernel to use updated packages.Requirement already satisfied: faker in c:\\users\\icjardin\\anaconda3\\lib\\site-packages (30.1.0)\n",
      "Requirement already satisfied: python-dateutil>=2.4 in c:\\users\\icjardin\\appdata\\roaming\\python\\python311\\site-packages (from faker) (2.8.2)\n",
      "Requirement already satisfied: typing-extensions in c:\\users\\icjardin\\anaconda3\\lib\\site-packages (from faker) (4.11.0)\n",
      "Requirement already satisfied: six>=1.5 in c:\\users\\icjardin\\appdata\\roaming\\python\\python311\\site-packages (from python-dateutil>=2.4->faker) (1.16.0)\n",
      "\n"
     ]
    },
    {
     "name": "stderr",
     "output_type": "stream",
     "text": [
      "WARNING: Ignoring invalid distribution ~ysql-connector-python (c:\\Users\\icjardin\\anaconda3\\Lib\\site-packages)\n",
      "WARNING: Ignoring invalid distribution ~ysql-connector-python (c:\\Users\\icjardin\\anaconda3\\Lib\\site-packages)\n",
      "WARNING: Ignoring invalid distribution ~ysql-connector-python (c:\\Users\\icjardin\\anaconda3\\Lib\\site-packages)\n"
     ]
    }
   ],
   "source": [
    "%pip install faker"
   ]
  },
  {
   "cell_type": "markdown",
   "metadata": {},
   "source": [
    "Luego, en tu código, simplemente creas una instancia de Faker. Si no especificas el idioma, Faker usará el inglés por defecto, pero puedes cambiarlo según la región que prefieras (por ejemplo, es_ES para español de España)."
   ]
  },
  {
   "cell_type": "code",
   "execution_count": 2,
   "metadata": {},
   "outputs": [],
   "source": [
    "from faker import Faker\n",
    "fake = Faker('es_ES')  # Datos en español"
   ]
  },
  {
   "cell_type": "markdown",
   "metadata": {},
   "source": [
    "### Principales Proveedores de Datos"
   ]
  },
  {
   "cell_type": "markdown",
   "metadata": {},
   "source": [
    "Faker utiliza \"proveedores\" para generar datos específicos. Algunos de los más importantes son:\n",
    "\n",
    "* Personales: name(), address(), email(), phone_number().\n",
    "* Temporales: date(), time(), date_of_birth().\n",
    "* Geográficos: country(), city(), address(), zipcode().\n",
    "* Textuales: sentence(), paragraph(), text()."
   ]
  },
  {
   "cell_type": "code",
   "execution_count": 3,
   "metadata": {},
   "outputs": [
    {
     "name": "stdout",
     "output_type": "stream",
     "text": [
      "Alba Franco\n",
      "Camino Celestina Tovar 5 Apt. 31 \n",
      "Granada, 09691\n",
      "ngodoy@example.org\n",
      "+34 981 416 581\n"
     ]
    }
   ],
   "source": [
    "fake = Faker('es_ES')\n",
    "\n",
    "print(fake.name())  # Nombre aleatorio\n",
    "print(fake.address())  # Dirección aleatoria\n",
    "print(fake.email())  # Correo electrónico aleatorio\n",
    "print(fake.phone_number())  # Número de teléfono aleatorio"
   ]
  },
  {
   "cell_type": "markdown",
   "metadata": {},
   "source": [
    "Faker usa una gran cantidad de listas y reglas internas para generar datos que parezcan realistas. Por ejemplo, cuando llamas a fake.name(), Faker no solo selecciona un nombre de una lista, sino que utiliza formatos predefinidos como <Nombre> <Apellido>, asegurando variabilidad."
   ]
  },
  {
   "cell_type": "code",
   "execution_count": 4,
   "metadata": {},
   "outputs": [
    {
     "name": "stdout",
     "output_type": "stream",
     "text": [
      "Kelli Forbes\n",
      "6290 Riley Port\n",
      "Cherylville, LA 73357\n"
     ]
    }
   ],
   "source": [
    "fake = Faker()\n",
    "\n",
    "# Genera un nombre completo que sigue el formato adecuado\n",
    "nombre = fake.name()\n",
    "print(nombre)  # Ejemplo: \"Pedro García\"\n",
    "\n",
    "# Genera una dirección completa\n",
    "direccion = fake.address()\n",
    "print(direccion)  # Ejemplo: \"Calle Falsa 123, 28080 Madrid\""
   ]
  },
  {
   "cell_type": "markdown",
   "metadata": {},
   "source": [
    "### Métodos Avanzados y Personalización"
   ]
  },
  {
   "cell_type": "markdown",
   "metadata": {},
   "source": [
    "1. Proveedores personalizados: Puedes agregar tu propio proveedor de datos. Esto es útil cuando necesitas datos que Faker no proporciona de forma predeterminada."
   ]
  },
  {
   "cell_type": "code",
   "execution_count": 5,
   "metadata": {},
   "outputs": [
    {
     "name": "stdout",
     "output_type": "stream",
     "text": [
      "Nombre2\n"
     ]
    }
   ],
   "source": [
    "from faker.providers import BaseProvider\n",
    "\n",
    "class MyProvider(BaseProvider):\n",
    "    def nombre_customizado(self):\n",
    "        nombres = ['Nombre1', 'Nombre2', 'Nombre3']\n",
    "        return self.random_element(nombres)\n",
    "\n",
    "fake.add_provider(MyProvider)\n",
    "print(fake.nombre_customizado())  # Resultado: Nombre1, Nombre2 o Nombre3"
   ]
  },
  {
   "cell_type": "markdown",
   "metadata": {},
   "source": [
    "2. Datos únicos: Si no quieres que Faker repita los datos, puedes usar unique. Esto asegura que no haya duplicados en el conjunto de datos generado."
   ]
  },
  {
   "cell_type": "code",
   "execution_count": 6,
   "metadata": {},
   "outputs": [
    {
     "name": "stdout",
     "output_type": "stream",
     "text": [
      "Lisa Brown\n"
     ]
    }
   ],
   "source": [
    "print(fake.unique.name())  # Genera un nombre único cada vez"
   ]
  },
  {
   "cell_type": "markdown",
   "metadata": {},
   "source": [
    "### Datos Localizados\n",
    "\n",
    "Puedes generar conjuntos de datos falsos para pruebas o demostraciones, y luego exportarlos a formatos como CSV o JSON. Esto es útil para generar grandes volúmenes de datos que puedes cargar en bases de datos o utilizar en simulaciones."
   ]
  },
  {
   "cell_type": "code",
   "execution_count": 7,
   "metadata": {},
   "outputs": [],
   "source": [
    "import pandas as pd\n",
    "\n",
    "fake = Faker()\n",
    "\n",
    "# Generar 100 registros falsos\n",
    "data = {\n",
    "    'Nombre': [fake.name() for _ in range(100)],\n",
    "    'Correo': [fake.email() for _ in range(100)],\n",
    "    'Fecha de Nacimiento': [fake.date_of_birth() for _ in range(100)],\n",
    "    'Teléfono': [fake.phone_number() for _ in range(100)]\n",
    "}\n",
    "\n",
    "# Crear un DataFrame de pandas\n",
    "df = pd.DataFrame(data)\n",
    "\n",
    "# Exportar a CSV\n",
    "df.to_csv('datos_falsos.csv', index=False)"
   ]
  },
  {
   "cell_type": "markdown",
   "metadata": {},
   "source": [
    "# EJEMPLO FAKER DATASET"
   ]
  },
  {
   "cell_type": "code",
   "execution_count": 10,
   "metadata": {},
   "outputs": [
    {
     "name": "stdout",
     "output_type": "stream",
     "text": [
      "Requirement already satisfied: Faker in c:\\users\\icjardin\\anaconda3\\lib\\site-packages (30.1.0)\n",
      "Requirement already satisfied: python-dateutil>=2.4 in c:\\users\\icjardin\\appdata\\roaming\\python\\python311\\site-packages (from Faker) (2.8.2)\n",
      "Requirement already satisfied: typing-extensions in c:\\users\\icjardin\\anaconda3\\lib\\site-packages (from Faker) (4.11.0)\n",
      "Requirement already satisfied: six>=1.5 in c:\\users\\icjardin\\appdata\\roaming\\python\\python311\\site-packages (from python-dateutil>=2.4->Faker) (1.16.0)\n",
      "Note: you may need to restart the kernel to use updated packages.\n"
     ]
    },
    {
     "name": "stderr",
     "output_type": "stream",
     "text": [
      "WARNING: Ignoring invalid distribution ~ysql-connector-python (c:\\Users\\icjardin\\anaconda3\\Lib\\site-packages)\n",
      "WARNING: Ignoring invalid distribution ~ysql-connector-python (c:\\Users\\icjardin\\anaconda3\\Lib\\site-packages)\n",
      "WARNING: Ignoring invalid distribution ~ysql-connector-python (c:\\Users\\icjardin\\anaconda3\\Lib\\site-packages)\n"
     ]
    },
    {
     "name": "stdout",
     "output_type": "stream",
     "text": [
      "Requirement already satisfied: PyMySQL in c:\\users\\icjardin\\anaconda3\\lib\\site-packages (1.1.1)Note: you may need to restart the kernel to use updated packages.\n",
      "\n"
     ]
    },
    {
     "name": "stderr",
     "output_type": "stream",
     "text": [
      "WARNING: Ignoring invalid distribution ~ysql-connector-python (c:\\Users\\icjardin\\anaconda3\\Lib\\site-packages)\n",
      "WARNING: Ignoring invalid distribution ~ysql-connector-python (c:\\Users\\icjardin\\anaconda3\\Lib\\site-packages)\n",
      "WARNING: Ignoring invalid distribution ~ysql-connector-python (c:\\Users\\icjardin\\anaconda3\\Lib\\site-packages)\n"
     ]
    }
   ],
   "source": [
    "#es una herramienta para generar datos falsos de forma automática dentro de una aplicación\n",
    "%pip install Faker \n",
    "#permite la interacción con bases de datos MySQL\n",
    "%pip install PyMySQL "
   ]
  },
  {
   "cell_type": "code",
   "execution_count": 11,
   "metadata": {},
   "outputs": [],
   "source": [
    "import codecs\n",
    "from datetime import date\n",
    "from datetime import datetime\n",
    "from faker import Faker\n",
    "import pymysql\n",
    "import random\n",
    "import requests\n",
    "import csv\n",
    "import pandas as pd\n",
    "from sqlalchemy import create_engine"
   ]
  },
  {
   "cell_type": "markdown",
   "metadata": {},
   "source": [
    "## Inicialización de MySQL con datos de prueba"
   ]
  },
  {
   "cell_type": "markdown",
   "metadata": {},
   "source": [
    "Constantes utilizadas durante la construcción del dataset:"
   ]
  },
  {
   "cell_type": "code",
   "execution_count": 12,
   "metadata": {},
   "outputs": [],
   "source": [
    "NUMERO_CLIENTES = 500\n",
    "NUMERO_PROVEEDORES = 10\n",
    "SEMILLA_ALEATORIA_GENERADOR = 10\n",
    "SEMILLA_ALEATORIA_RANDOM = 1"
   ]
  },
  {
   "cell_type": "markdown",
   "metadata": {},
   "source": [
    "Inicializamos generador de contenido ficticio en español y semillas aleatorias para que el dataset generado sea siempre el mismo:"
   ]
  },
  {
   "cell_type": "code",
   "execution_count": 13,
   "metadata": {},
   "outputs": [],
   "source": [
    "Faker.seed(SEMILLA_ALEATORIA_GENERADOR)\n",
    "random.seed(SEMILLA_ALEATORIA_RANDOM)\n",
    "fake = Faker(['es_ES'])"
   ]
  },
  {
   "cell_type": "markdown",
   "metadata": {},
   "source": [
    "Funciones para la generación del conjunto de datos:"
   ]
  },
  {
   "cell_type": "code",
   "execution_count": 14,
   "metadata": {},
   "outputs": [],
   "source": [
    "def build_providers_dataset(number):\n",
    "  providers = []\n",
    "  for i in range(1, number+1):\n",
    "    providers.append({\n",
    "      \"provider_id\": i,\n",
    "      \"name\": fake.company(),\n",
    "      \"email\": fake.company_email(),\n",
    "      \"webpage\": fake.domain_name()\n",
    "    })\n",
    "\n",
    "  return {\n",
    "      \"providers\": providers\n",
    "  }\n"
   ]
  },
  {
   "cell_type": "code",
   "execution_count": 15,
   "metadata": {},
   "outputs": [],
   "source": [
    "def build_products_dataset(providers_info):\n",
    "  products = []\n",
    "  url = 'https://drive.google.com/uc?export=view&id=1D9MY0au4b7SXwhUdm6TNfsKfYzdkbAh_'\n",
    "  content = requests.get(url)\n",
    "  text = codecs.iterdecode(content.iter_lines(), 'utf-8')\n",
    "  reader = csv.DictReader(text, delimiter=',', quotechar='\"')\n",
    "  for row in reader:\n",
    "    products.append(row)\n",
    "\n",
    "  categories = sorted(set([product['category'] for product in products]))\n",
    "  categories = [{\"category_id\": i+1, \"name\": category} for (i, category) in enumerate(categories)]\n",
    "  categories_by_name = {category[\"name\"]: category[\"category_id\"] for category in categories}\n",
    "  products = [{\"product_id\": i+1, \n",
    "              \"name\": product[\"name\"], \n",
    "              \"price\": float(product[\"price\"]), \n",
    "              \"category_id\": categories_by_name[product[\"category\"]],\n",
    "              \"provider_id\": random.choice(providers_info)[\"provider_id\"]} \n",
    "              for (i, product) in enumerate(products)]\n",
    "  return {\n",
    "      'products': products,\n",
    "      'categories': categories\n",
    "  }"
   ]
  },
  {
   "cell_type": "code",
   "execution_count": 16,
   "metadata": {},
   "outputs": [],
   "source": [
    "def build_people_dataset(number):\n",
    "\n",
    "  people = []\n",
    "  addresses = []\n",
    "  payment_info = []\n",
    "  address_id = 0\n",
    "  payment_id = 0\n",
    "\n",
    "  for i in range(1, number+1):\n",
    "    # Person data\n",
    "    people.append({\n",
    "      \"person_id\": i,\n",
    "      \"first_name\": fake.first_name(),\n",
    "      \"last_name\": fake.last_name(),\n",
    "      \"birth_date\": fake.date_between_dates(datetime(1960, 1, 1), datetime(2002, 6, 1)),\n",
    "      \"email\": fake.email(),\n",
    "      \"phone\": fake.phone_number(),\n",
    "      \"username\": fake.user_name(),\n",
    "      \"password\": fake.sha256(),\n",
    "      \"job\": fake.job()\n",
    "    })\n",
    "\n",
    "    # Payment information\n",
    "    if random.choice([False]*1 + [True]*2):\n",
    "      payment_id += 1\n",
    "      payment_info.append({\n",
    "          \"payment_id\": payment_id,\n",
    "          \"person_id\": i,\n",
    "          \"expiration\": fake.credit_card_expire(),\n",
    "          \"number\": fake.credit_card_number(),\n",
    "          \"provider\": fake.credit_card_provider(),\n",
    "          \"security_code\": fake.credit_card_security_code()\n",
    "      })\n",
    "\n",
    "    # Registered addresses\n",
    "    for j in range(random.choice([1]*43 + [2]*6 + [3])):\n",
    "      address_id+=1\n",
    "      addresses.append(\n",
    "      {\n",
    "        \"address_id\": address_id,\n",
    "        \"person_id\": i,\n",
    "        \"city\": fake.city(),\n",
    "        \"number\": fake.building_number(),\n",
    "        \"country\": \"España\",\n",
    "        \"zipcode\": fake.postcode(),\n",
    "        \"street\": fake.street_name()\n",
    "      })\n",
    "\n",
    "  return {\n",
    "      \"people\": people,\n",
    "      \"addresses\": addresses,\n",
    "      \"payment_information\": payment_info,\n",
    "  }\n"
   ]
  },
  {
   "cell_type": "code",
   "execution_count": 17,
   "metadata": {},
   "outputs": [],
   "source": [
    "def build_network_dataset(people_info):\n",
    "\n",
    "  WEB_PAGES = [fake.uri_path() for i in range(0,100)]\n",
    "  ACCESS_METHOD_PROPORTION = ['GET'] * 10 + ['POST'] \n",
    "  pages = []\n",
    "  accesses = []\n",
    "  access_id = 0\n",
    "\n",
    "  for i in range(0, len(WEB_PAGES)):\n",
    "    pages.append({\n",
    "        \"page_id\": i+1,\n",
    "        \"path\": WEB_PAGES[i]\n",
    "    })\n",
    "\n",
    "  for person in people_info:\n",
    "    # Access to webpages\n",
    "    for j in range(int(random.gauss(60, 40))):\n",
    "      access_id += 1\n",
    "      accesses.append({\n",
    "          \"access_id\": access_id,\n",
    "          \"person_id\": person[\"person_id\"],\n",
    "          \"method\": random.choice(ACCESS_METHOD_PROPORTION),\n",
    "          \"ip\": fake.ipv4_public(),\n",
    "          \"date\": fake.date_time_between(datetime(2020,1,1,0,0,0), datetime(2020,9,1,23,59,59)),\n",
    "          \"page_id\": random.randint(1, len(WEB_PAGES)-1)\n",
    "      })\n",
    "\n",
    "  # Anonymous access\n",
    "  for i in range(int(random.gauss(1000, 100))):\n",
    "    access_id += 1\n",
    "    accesses.append({\n",
    "        \"access_id\": access_id,\n",
    "        \"person_id\": None,\n",
    "        \"method\": random.choice(ACCESS_METHOD_PROPORTION),\n",
    "        \"ip\": fake.ipv4_public(),\n",
    "        \"date\": fake.date_time_between(datetime(2020,1,1,0,0,0), datetime(2020,9,1,23,59,59)),\n",
    "        \"page_id\": random.randint(1, len(WEB_PAGES)-1)\n",
    "    })\n",
    "\n",
    "  return {\n",
    "    \"web_pages\":  pages,\n",
    "    \"accesses\": accesses\n",
    "  }\n"
   ]
  },
  {
   "cell_type": "code",
   "execution_count": 18,
   "metadata": {},
   "outputs": [],
   "source": [
    "def build_shopping_dataset(people, products, people_addresses):\n",
    "\n",
    "  shopping_carts = []\n",
    "  shopping_cart_products = []\n",
    "  orders = []\n",
    "  order_products = []\n",
    "  invoices = []\n",
    "  cart_id = 0\n",
    "  shopping_cart_id = 0\n",
    "  order_id = 0\n",
    "  order_product_id = 0\n",
    "  invoice_id = 0\n",
    "\n",
    "  PRODUCTS_PROBABILITY = [1]*2 + [2] * 3 + [3] * 3 + [4]*2 + [5]\n",
    "  ORDER_PROBABILITY = [0]+[1]*7+[2]*3+[3]*3+[4]*2+[5]\n",
    "  QUANTITY_PROBABILITY = [1]*5 +[2]*2 +[3]\n",
    "  RATING_PROBABILITY = [1]+[2]+[3]*2+[4]*4+[5]*3\n",
    "\n",
    "  for person in people:\n",
    "    # Build shopping cart\n",
    "    if random.choice([False * 9] + [True]):\n",
    "      cart_id += 1\n",
    "      shopping_carts.append({\n",
    "          \"cart_id\": cart_id,\n",
    "          \"person_id\": person[\"person_id\"],\n",
    "          \"date\": fake.date_time_between(datetime(2020,1,1,0,0,0), datetime(2020,9,1,23,59,59)),\n",
    "      })\n",
    "\n",
    "      chosen = random.sample(products, k = random.choice(PRODUCTS_PROBABILITY))\n",
    "      for product in chosen:\n",
    "        shopping_cart_id += 1\n",
    "        shopping_cart_products.append({\n",
    "            \"cart_id\": cart_id,\n",
    "            \"product_id\": product[\"product_id\"],\n",
    "            \"quantity\": random.choice(QUANTITY_PROBABILITY)\n",
    "        })\n",
    "    \n",
    "    # Build orders\n",
    "    for i in range(0, random.choice(ORDER_PROBABILITY)):\n",
    "      order_id += 1\n",
    "      order_price = 0\n",
    "      chosen = random.sample(products, k = random.choice(PRODUCTS_PROBABILITY))\n",
    "      for product in chosen:\n",
    "        order_product_id += 1\n",
    "        quantity = random.choice(QUANTITY_PROBABILITY)\n",
    "        order_products.append({\n",
    "            \"order_id\": order_id,\n",
    "            \"product_id\": product[\"product_id\"],\n",
    "            \"quantity\": quantity\n",
    "        })\n",
    "        order_price += quantity * product['price']\n",
    "\n",
    "      person_addresses = [address for address in people_addresses if address[\"person_id\"] == person[\"person_id\"]]\n",
    "      delivery_address = random.choice(person_addresses)\n",
    "      billing_address = random.choice(person_addresses)\n",
    "      orders.append({\n",
    "          \"order_id\": order_id,\n",
    "          \"person_id\": person[\"person_id\"],\n",
    "          \"date\": fake.date_time_between(datetime(2020,1,1,0,0,0), datetime(2020,9,1,23,59,59)),\n",
    "          # Purposely left wrong\n",
    "          \"delivery_address\": delivery_address['address_id'],\n",
    "          \"billing_address\": billing_address['address_id'],\n",
    "          \"price\": order_price\n",
    "      })\n",
    "\n",
    "  # Build invoices\n",
    "  for order in random.choices(orders, k = int(len(orders) * 0.8)):\n",
    "    invoice_id += 1\n",
    "    invoices.append({\n",
    "      \"invoice_id\": invoice_id,\n",
    "      \"order_id\": order[\"order_id\"],\n",
    "      \"date\": fake.date_time_between(order[\"date\"], datetime(2020,9,1,23,59,59)),\n",
    "      \"rating\": random.choice(RATING_PROBABILITY)\n",
    "    })\n",
    "\n",
    "  return {\n",
    "      'carts': shopping_carts,\n",
    "      'cart_product': shopping_cart_products,\n",
    "      'orders': orders,\n",
    "      'order_product': order_products,\n",
    "      'invoices': invoices    \n",
    "  }"
   ]
  },
  {
   "cell_type": "markdown",
   "metadata": {},
   "source": [
    "Construcción incremental del dateset:"
   ]
  },
  {
   "cell_type": "code",
   "execution_count": 19,
   "metadata": {},
   "outputs": [],
   "source": [
    "dataset = {}\n",
    "dataset.update(build_providers_dataset(NUMERO_PROVEEDORES))\n",
    "dataset.update(build_products_dataset(dataset['providers']))\n",
    "dataset.update(build_people_dataset(NUMERO_CLIENTES))\n",
    "dataset.update(build_network_dataset(dataset['people']))\n",
    "dataset.update(build_shopping_dataset(dataset['people'], dataset['products'], dataset['addresses']))"
   ]
  },
  {
   "cell_type": "markdown",
   "metadata": {},
   "source": [
    "### Carga de dataset en MySQL"
   ]
  },
  {
   "cell_type": "markdown",
   "metadata": {},
   "source": [
    "#### Creación de la base de datos"
   ]
  },
  {
   "cell_type": "markdown",
   "metadata": {},
   "source": [
    "Script para la creación de la base de datos en mysql"
   ]
  },
  {
   "cell_type": "markdown",
   "metadata": {},
   "source": [
    "```\n",
    "DROP SCHEMA IF EXISTS shop;\n",
    "CREATE SCHEMA shop CHARACTER SET utf8mb4 COLLATE utf8mb4_unicode_ci;\n",
    "USE shop;\n",
    "\n",
    "DROP TABLE IF EXISTS accesses;\n",
    "CREATE TABLE accesses (\n",
    "    access_id INT,\n",
    "    person_id INT NULL DEFAULT NULL,\n",
    "    date DATETIME,\n",
    "    ip VARCHAR(20),\n",
    "    method VARCHAR(10),\n",
    "    page_id INT,\n",
    "    PRIMARY KEY(access_id)\n",
    ")\n",
    "CHARACTER SET utf8mb4 COLLATE utf8mb4_unicode_ci;\n",
    "\n",
    "DROP TABLE IF EXISTS web_pages;\n",
    "CREATE TABLE web_pages (\n",
    "    page_id INT,\n",
    "    path VARCHAR(250),\n",
    "    PRIMARY KEY(page_id)\n",
    ")\n",
    "CHARACTER SET utf8mb4 COLLATE utf8mb4_unicode_ci;\n",
    "\n",
    "DROP TABLE IF EXISTS carts;\n",
    "CREATE TABLE carts (\n",
    "    cart_id INT,\n",
    "    person_id INT,\n",
    "    date DATETIME,\n",
    "    PRIMARY KEY(cart_id)\n",
    ")\n",
    "CHARACTER SET utf8mb4 COLLATE utf8mb4_unicode_ci;\n",
    "\n",
    "DROP TABLE IF EXISTS cart_product;\n",
    "CREATE TABLE cart_product (\n",
    "    cart_id INT,\n",
    "    product_id INT,\n",
    "    quantity INT,\n",
    "    PRIMARY KEY(cart_id, product_id)\n",
    ")\n",
    "CHARACTER SET utf8mb4 COLLATE utf8mb4_unicode_ci;\n",
    "\n",
    "DROP TABLE IF EXISTS categories;\n",
    "CREATE TABLE categories (\n",
    "    category_id INT,\n",
    "    name VARCHAR(100),\n",
    "    PRIMARY KEY(category_id)\n",
    ")\n",
    "CHARACTER SET utf8mb4 COLLATE utf8mb4_unicode_ci;\n",
    "\n",
    "DROP TABLE IF EXISTS invoices;\n",
    "CREATE TABLE invoices (\n",
    "    invoice_id INT,\n",
    "    order_id INT,\n",
    "    date DATETIME,\n",
    "    rating INT,\n",
    "    PRIMARY KEY(invoice_id)\n",
    ")\n",
    "CHARACTER SET utf8mb4 COLLATE utf8mb4_unicode_ci;\n",
    "\n",
    "DROP TABLE IF EXISTS orders;\n",
    "CREATE TABLE orders (\n",
    "    order_id INT,\n",
    "    person_id INT,\n",
    "    date DATETIME,\n",
    "    billing_address INT,\n",
    "    delivery_address INT,\n",
    "    price DECIMAL(18,6),\n",
    "    PRIMARY KEY(order_id)\n",
    ")\n",
    "CHARACTER SET utf8mb4 COLLATE utf8mb4_unicode_ci;\n",
    "\n",
    "DROP TABLE IF EXISTS order_product;\n",
    "CREATE TABLE order_product (\n",
    "    order_id INT,\n",
    "    product_id INT,\n",
    "    quantity INT,\n",
    "    PRIMARY KEY(order_id, product_id)\n",
    ")\n",
    "CHARACTER SET utf8mb4 COLLATE utf8mb4_unicode_ci;\n",
    "\n",
    "DROP TABLE IF EXISTS payment_information;\n",
    "CREATE TABLE payment_information (\n",
    "    payment_id INT,\n",
    "    person_id INT,\n",
    "    number VARCHAR(30),\n",
    "    provider VARCHAR(200),\n",
    "    security_code VARCHAR(10),\n",
    "    expiration VARCHAR(5),\n",
    "    PRIMARY KEY(payment_id)\n",
    ")\n",
    "CHARACTER SET utf8mb4 COLLATE utf8mb4_unicode_ci;\n",
    "\n",
    "DROP TABLE IF EXISTS people;\n",
    "CREATE TABLE people (\n",
    "    person_id INT,\n",
    "    birth_date DATETIME,\n",
    "    first_name VARCHAR(50),\n",
    "    last_name VARCHAR(50),\n",
    "    email VARCHAR(150),\n",
    "    job VARCHAR(100),\n",
    "    phone VARCHAR(20),\n",
    "    username VARCHAR(50),\n",
    "    password VARCHAR(100),\n",
    "    PRIMARY KEY(person_id)\n",
    ")\n",
    "CHARACTER SET utf8mb4 COLLATE utf8mb4_unicode_ci;\n",
    "\n",
    "DROP TABLE IF EXISTS addresses;\n",
    "CREATE TABLE addresses (\n",
    "    address_id INT,\n",
    "    person_id INT,\n",
    "    city VARCHAR(30),\n",
    "    country VARCHAR(20),\n",
    "    number INT,\n",
    "    street VARCHAR(100),\n",
    "    zipcode INT,\n",
    "    PRIMARY KEY(address_id)\n",
    ")\n",
    "CHARACTER SET utf8mb4 COLLATE utf8mb4_unicode_ci;\n",
    "\n",
    "DROP TABLE IF EXISTS products;\n",
    "CREATE TABLE products (\n",
    "    product_id INT,\n",
    "    category_id INT NULL DEFAULT NULL,\n",
    "    provider_id INT NULL DEFAULT NULL,\n",
    "    name VARCHAR(200),\n",
    "    price DECIMAL(10,4),\n",
    "    PRIMARY KEY(product_id)\n",
    ")\n",
    "CHARACTER SET utf8mb4 COLLATE utf8mb4_unicode_ci;\n",
    "\n",
    "DROP TABLE IF EXISTS providers;\n",
    "CREATE TABLE providers (\n",
    "    provider_id INT,\n",
    "    name VARCHAR(50),\n",
    "    email VARCHAR(100),\n",
    "    webpage VARCHAR(100),\n",
    "    PRIMARY KEY(provider_id)\n",
    ")\n",
    "CHARACTER SET utf8mb4 COLLATE utf8mb4_unicode_ci;\n",
    "\n",
    "COMMIT;\n",
    "```"
   ]
  },
  {
   "cell_type": "markdown",
   "metadata": {},
   "source": [
    "Cargamos los datos del dataset en la base de datos"
   ]
  },
  {
   "cell_type": "code",
   "execution_count": 20,
   "metadata": {},
   "outputs": [],
   "source": [
    "con = pymysql.connect(host='localhost', user='admin',password='Admin_2024', database='shop')\n",
    "try:\n",
    "    for table in dataset:\n",
    "      first_time = True\n",
    "      sql = \"\"\n",
    "      with con.cursor() as cur:        \n",
    "        for entity in dataset[table]:\n",
    "          if (first_time):\n",
    "            first_time = False\n",
    "            str_columns = \",\".join(entity.keys())\n",
    "            str_values = \",\".join([\"%s\"] * len(entity.keys()))\n",
    "            sql = f\"INSERT INTO {table} ({str_columns}) VALUES ({str_values})\"\n",
    "          cur.execute(sql, tuple(entity.values()))\n",
    "        con.commit()\n",
    "finally:\n",
    "    con.close()"
   ]
  },
  {
   "cell_type": "markdown",
   "metadata": {},
   "source": [
    "Script para las restriciones de foreign key de la base de datos"
   ]
  },
  {
   "cell_type": "markdown",
   "metadata": {},
   "source": [
    "```\n",
    "ALTER TABLE products ADD CONSTRAINT FK_product_category_id\n",
    "FOREIGN KEY(category_id) REFERENCES categories(category_id)\n",
    "ON DELETE SET NULL\n",
    "ON UPDATE CASCADE;\n",
    "\n",
    "ALTER TABLE products ADD CONSTRAINT FK_product_provider_id\n",
    "FOREIGN KEY(provider_id) REFERENCES providers(provider_id)\n",
    "ON DELETE SET NULL\n",
    "ON UPDATE CASCADE;\n",
    "\n",
    "ALTER TABLE addresses ADD CONSTRAINT FK_addresses_person_id\n",
    "FOREIGN KEY(person_id) REFERENCES people(person_id)\n",
    "ON DELETE CASCADE\n",
    "ON UPDATE CASCADE;\n",
    "\n",
    "ALTER TABLE payment_information ADD CONSTRAINT FK_payment_information_person_id\n",
    "FOREIGN KEY(person_id) REFERENCES people(person_id)\n",
    "ON DELETE CASCADE\n",
    "ON UPDATE CASCADE;\n",
    "\n",
    "ALTER TABLE order_product ADD CONSTRAINT FK_order_product_order_id\n",
    "FOREIGN KEY(order_id) REFERENCES orders(order_id)\n",
    "ON DELETE CASCADE\n",
    "ON UPDATE CASCADE;\n",
    "\n",
    "ALTER TABLE order_product ADD CONSTRAINT FK_order_product_product_id\n",
    "FOREIGN KEY(product_id) REFERENCES products(product_id)\n",
    "ON DELETE RESTRICT\n",
    "ON UPDATE CASCADE;\n",
    "\n",
    "ALTER TABLE orders ADD CONSTRAINT FK_orders_person_id\n",
    "FOREIGN KEY(person_id) REFERENCES people(person_id)\n",
    "ON DELETE RESTRICT\n",
    "ON UPDATE CASCADE;\n",
    "\n",
    "ALTER TABLE orders ADD CONSTRAINT FK_orders_billing_address_id\n",
    "FOREIGN KEY(billing_address) REFERENCES addresses(address_id)\n",
    "ON DELETE RESTRICT\n",
    "ON UPDATE CASCADE;\n",
    "\n",
    "ALTER TABLE orders ADD CONSTRAINT FK_orders_delivery_address_id\n",
    "FOREIGN KEY(delivery_address) REFERENCES addresses(address_id)\n",
    "ON DELETE RESTRICT\n",
    "ON UPDATE CASCADE;\n",
    "\n",
    "ALTER TABLE accesses ADD CONSTRAINT FK_accesses_person_id \n",
    "FOREIGN KEY(person_id) REFERENCES people(person_id)\n",
    "ON DELETE SET NULL\n",
    "ON UPDATE CASCADE;\n",
    "\n",
    "ALTER TABLE accesses ADD CONSTRAINT FK_accesses_page_id\n",
    "FOREIGN KEY(page_id) REFERENCES web_pages(page_id)\n",
    "ON DELETE CASCADE\n",
    "ON UPDATE CASCADE;\n",
    "\n",
    "ALTER TABLE carts ADD CONSTRAINT FK_carts_person_id \n",
    "FOREIGN KEY(person_id) REFERENCES people(person_id)\n",
    "ON DELETE CASCADE\n",
    "ON UPDATE CASCADE; \n",
    "\n",
    "ALTER TABLE cart_product ADD CONSTRAINT FK_cart_product_cart_id\n",
    "FOREIGN KEY(cart_id) REFERENCES carts(cart_id)\n",
    "ON DELETE CASCADE\n",
    "ON UPDATE CASCADE;\n",
    "\n",
    "ALTER TABLE cart_product ADD CONSTRAINT FK_cart_product_product_id\n",
    "FOREIGN KEY(product_id) REFERENCES products(product_id)\n",
    "ON DELETE RESTRICT\n",
    "ON UPDATE CASCADE;\n",
    "\n",
    "ALTER TABLE invoices ADD CONSTRAINT FK_invoices_order_id\n",
    "FOREIGN KEY(order_id) REFERENCES orders(order_id)\n",
    "ON DELETE RESTRICT\n",
    "ON UPDATE RESTRICT;\n",
    "```"
   ]
  }
 ],
 "metadata": {
  "colab": {
   "provenance": [],
   "toc_visible": true
  },
  "kernelspec": {
   "display_name": "base",
   "language": "python",
   "name": "python3"
  },
  "language_info": {
   "codemirror_mode": {
    "name": "ipython",
    "version": 3
   },
   "file_extension": ".py",
   "mimetype": "text/x-python",
   "name": "python",
   "nbconvert_exporter": "python",
   "pygments_lexer": "ipython3",
   "version": "3.11.10"
  }
 },
 "nbformat": 4,
 "nbformat_minor": 4
}
