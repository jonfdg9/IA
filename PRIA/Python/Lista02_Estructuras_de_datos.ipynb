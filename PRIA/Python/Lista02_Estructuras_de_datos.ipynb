{
  "cells": [
    {
      "cell_type": "markdown",
      "id": "d287d88e",
      "metadata": {
        "id": "d287d88e"
      },
      "source": [
        "# LISTA 2 - ESTRUCTURAS DE DATOS"
      ]
    },
    {
      "cell_type": "markdown",
      "id": "f99190d1",
      "metadata": {
        "id": "f99190d1"
      },
      "source": [
        "## EJERCICIO 1"
      ]
    },
    {
      "cell_type": "markdown",
      "id": "b3836703",
      "metadata": {
        "id": "b3836703"
      },
      "source": [
        "Crea un programa pida una cadena de caracteres al usuario, guarde cada carácter en una posición de una lista y finalmente muestre la lista al revés como si fuera un string."
      ]
    },
    {
      "cell_type": "code",
      "source": [
        "cadena = str(input(\"Introduce una frase a revertir? \"))\n",
        "lista=[]\n",
        "for i in range(len(cadena)-1,-1,-1):\n",
        "  lista.append(cadena[i])\n",
        "\n",
        "print(lista)\n",
        "\n"
      ],
      "metadata": {
        "id": "pLh5l22o3PXn"
      },
      "id": "pLh5l22o3PXn",
      "execution_count": null,
      "outputs": []
    },
    {
      "cell_type": "markdown",
      "id": "feb0417e",
      "metadata": {
        "id": "feb0417e"
      },
      "source": [
        "## EJERCICIO 2"
      ]
    },
    {
      "cell_type": "markdown",
      "id": "91cd8f7c",
      "metadata": {
        "id": "91cd8f7c"
      },
      "source": [
        "Crea un programa que lea dos strings introducidos por el usuario de la misma longitud, los guarde intercalados en una lista y muestre el contenido de la nueva lista como si fuera un string.\n",
        "\n",
        "Por ejemplo, si introducimos hola caracola y adios marieta, debería mostrarse haodliao sc amraarcioeltaa."
      ]
    },
    {
      "cell_type": "code",
      "source": [
        "cadena1 = str(input(\"Introduce la primera frase? \"))\n",
        "cadena2 = str(input(\"Introduce la segunda frase? \"))\n",
        "str=\"\"\n",
        "while(len(cadena1)!=len(cadena2)):\n",
        "  cadena2 = str(input(f\"Introduce la segunda frase? longitud:{len(cadena1)} caracteres \"))\n",
        "\n",
        "\n",
        "for i in range (len(cadena1)):\n",
        "  str+=cadena1[i]\n",
        "  str+=cadena2[i]\n",
        "\n",
        "print(str)\n",
        "\n",
        "\n"
      ],
      "metadata": {
        "id": "mq7QpFix_AQO"
      },
      "id": "mq7QpFix_AQO",
      "execution_count": null,
      "outputs": []
    },
    {
      "cell_type": "markdown",
      "id": "abf81a65",
      "metadata": {
        "id": "abf81a65"
      },
      "source": [
        "## EJERCICIO 3"
      ]
    },
    {
      "cell_type": "markdown",
      "id": "c0dda757",
      "metadata": {
        "id": "c0dda757"
      },
      "source": [
        "Crea un programa que lea un string introducido por el usuario y guarde en una lista todas las consonantes, finalmente muestra el contenido de la lista."
      ]
    },
    {
      "cell_type": "code",
      "source": [
        "cadena= input(\"Introduce una frase? \")\n",
        "list=[]\n",
        "vocales=\"aeiou\"\n",
        "for i in cadena:\n",
        "  if(vocales.find(i)==-1):\n",
        "    list.append(i)\n",
        "\n",
        "print(list)\n"
      ],
      "metadata": {
        "id": "mpbe0A1YAl6t"
      },
      "id": "mpbe0A1YAl6t",
      "execution_count": null,
      "outputs": []
    },
    {
      "cell_type": "markdown",
      "id": "4d68e82b",
      "metadata": {
        "id": "4d68e82b"
      },
      "source": [
        "## EJERCICIO 4"
      ]
    },
    {
      "cell_type": "markdown",
      "id": "ec7f3b2a",
      "metadata": {
        "id": "ec7f3b2a"
      },
      "source": [
        "Crea un programa que lea una palabra introducida por el usuario, la guarde en una lista y compruebe si se trata de un palíndromo (se lee igual de derecha a izquierda que de derecha a izquierda, por ejemplo, reconocer)."
      ]
    },
    {
      "cell_type": "code",
      "source": [
        "cadena= input(\"Introduce una frase? \")\n",
        "list=[]\n",
        "for i in cadena:\n",
        "  list.append(i)\n",
        "palindromo=True\n",
        "h=int(len(cadena)-1)\n",
        "for i in range(len(cadena)-1):\n",
        "  if(list[i]!=list[h]):\n",
        "    palindromo=False\n",
        "    break\n",
        "  h=h-1\n",
        "\n",
        "\n",
        "if(palindromo==True):\n",
        "  print(\"Es un palindromo\")\n",
        "else:\n",
        "  print(\"No es un palindromo\")\n",
        "\n"
      ],
      "metadata": {
        "id": "Iglk6nvAC5lm"
      },
      "id": "Iglk6nvAC5lm",
      "execution_count": null,
      "outputs": []
    },
    {
      "cell_type": "markdown",
      "id": "5c943554",
      "metadata": {
        "id": "5c943554"
      },
      "source": [
        "## EJERCICIO 5"
      ]
    },
    {
      "cell_type": "markdown",
      "id": "13d2c744",
      "metadata": {
        "id": "13d2c744"
      },
      "source": [
        "Crea un programa que lea un entero, n, introducido por el usuario y construya una matriz de tamaño n x n. Cada posición debe contener su orden en la matriz (desde 0 hasta n<sup>2</sup> - 1).\n",
        "\n",
        "Por ejemplo, si n es 3, deberá crearse la matriz:\n",
        "```\n",
        "[0, 1, 2]\n",
        "[3, 4, 5]\n",
        "[6, 7, 8]\n",
        "```"
      ]
    },
    {
      "cell_type": "code",
      "source": [
        "numero=int( input(\"Introduce una numero? \"))\n",
        "\n",
        "matriz=[]\n",
        "cont=0\n",
        "for i in range(numero):\n",
        "  matriz.append([])\n",
        "  for h in range(numero):\n",
        "    matriz[i].append(cont)\n",
        "    cont+=1\n",
        "\n",
        "for fila in matriz:\n",
        "    print(fila)\n",
        "\n",
        "\n"
      ],
      "metadata": {
        "id": "NWAEGPhcI32a"
      },
      "id": "NWAEGPhcI32a",
      "execution_count": null,
      "outputs": []
    },
    {
      "cell_type": "markdown",
      "id": "2972dd7e",
      "metadata": {
        "id": "2972dd7e"
      },
      "source": [
        "## EJERCICIO 6"
      ]
    },
    {
      "cell_type": "markdown",
      "id": "ef3c12ce",
      "metadata": {
        "id": "ef3c12ce"
      },
      "source": [
        "Crea una matriz de n x m pidiendo las dimensiones y los valores de cada celda al usuario. El programa debe indicar si la suma de cada columna es el mismo valor.\n",
        "\n",
        "![image-2.png](attachment:image-2.png)"
      ]
    },
    {
      "cell_type": "code",
      "source": [
        "fila = int(input(\"Introduce el número de filas: \"))\n",
        "columna = int(input(\"Introduce el número de columnas: \"))\n",
        "matriz = []\n",
        "\n",
        "for i in range(fila):\n",
        "    matriz.append([])\n",
        "    for j in range(columna):\n",
        "        valor = int(input(f\"Introduce el elemento [{i}][{j}]: \"))\n",
        "        matriz[i].append(valor)\n",
        "\n",
        "suma1col = 0\n",
        "control = True\n",
        "\n",
        "for j in range(columna):\n",
        "    suma = 0\n",
        "    if control:\n",
        "        for i in range(fila):\n",
        "            suma += matriz[i][j]\n",
        "        if suma1col == 0:\n",
        "            suma1col = suma\n",
        "        else:\n",
        "            if suma1col != suma:\n",
        "                print(\"El valor de las columnas no es el mismo\")\n",
        "                control = False\n",
        "        suma = 0\n",
        "    else:\n",
        "        break\n",
        "\n",
        "for fila in matriz:\n",
        "    print(fila)\n"
      ],
      "metadata": {
        "id": "9g0TahRmkVSc"
      },
      "id": "9g0TahRmkVSc",
      "execution_count": null,
      "outputs": []
    },
    {
      "cell_type": "markdown",
      "id": "cbbfb36c",
      "metadata": {
        "id": "cbbfb36c"
      },
      "source": [
        "## EJERCICIO 7"
      ]
    },
    {
      "cell_type": "markdown",
      "id": "f0211a75",
      "metadata": {
        "id": "f0211a75"
      },
      "source": [
        "Realiza un programa que calcule la matriz traspuesta de una matriz dada manualmente (usando bucles). Finalmente imprime por filas las dos matrices\n",
        "\n",
        "matriz=``` [[1,2,3],[4,5,6],[7,8,9]]```"
      ]
    },
    {
      "cell_type": "code",
      "source": [
        "\n",
        "matriz = [[1, 2, 3], [4, 5, 6], [7, 8, 9]]\n",
        "\n",
        "matrizT=[]\n",
        "for i in range(len(matriz)):\n",
        "  matrizT.append([])\n",
        "  for j in range(columna):\n",
        "    matrizT[i].append(matriz[j][i])\n",
        "\n",
        "for fila in matrizT:\n",
        "    print(fila)\n",
        "\n"
      ],
      "metadata": {
        "id": "O06vsWQVns_7"
      },
      "id": "O06vsWQVns_7",
      "execution_count": null,
      "outputs": []
    },
    {
      "cell_type": "markdown",
      "id": "59397f22",
      "metadata": {
        "id": "59397f22"
      },
      "source": [
        "## EJERCICIO 8"
      ]
    },
    {
      "cell_type": "markdown",
      "id": "8272bcdf",
      "metadata": {
        "id": "8272bcdf"
      },
      "source": [
        "Crea un programa que pida un número entero positivo por teclado y que cree un diccionario cuyas claves sean desde el número 1 hasta el número indicado. Los valores de cada clave serán las propias claves elevadas al cubo. Finalmente muestra el diccionario."
      ]
    },
    {
      "cell_type": "code",
      "source": [
        "numero = int(input(\"Introduce un número positivo: \"))\n",
        "while(numero<=0):\n",
        "  numero = int(input(\"Introduce un número positivo: \"))\n",
        "\n",
        "dicc={}\n",
        "for i in range(numero):\n",
        "  dicc[i]=i**3\n",
        "\n",
        "print(dicc)\n"
      ],
      "metadata": {
        "id": "C76-1zn14pXY"
      },
      "id": "C76-1zn14pXY",
      "execution_count": null,
      "outputs": []
    },
    {
      "cell_type": "markdown",
      "id": "3e767176",
      "metadata": {
        "id": "3e767176"
      },
      "source": [
        "## EJERCICIO 9"
      ]
    },
    {
      "cell_type": "markdown",
      "id": "9da406b8",
      "metadata": {
        "id": "9da406b8"
      },
      "source": [
        "Escribe un programa que pregunte al usuario su nombre, edad y teléfono y lo guarde en un diccionario. Después, debe mostrar por pantalla el mensaje:\n",
        "\n",
        "{nombre} tiene {edad} años y su número de teléfono es {teléfono}."
      ]
    },
    {
      "cell_type": "code",
      "source": [
        "dicc={}\n",
        "dicc[\"nombre\"] = str(input(\"Introduce tu nombre: \"))\n",
        "dicc[\"edad\"]= int(input(\"Introduce tu edad: \"))\n",
        "dicc[\"telefono\"] = str(input(\"Introduce tu telefono: \"))\n",
        "print(f\"{dicc['nombre']} tiene {dicc['edad']} años y su número de teléfono es {dicc['telefono']}.\")\n",
        "\n"
      ],
      "metadata": {
        "id": "xxp_wOzc6eNv"
      },
      "id": "xxp_wOzc6eNv",
      "execution_count": null,
      "outputs": []
    },
    {
      "cell_type": "markdown",
      "id": "b97cdccc",
      "metadata": {
        "id": "b97cdccc"
      },
      "source": [
        "## EJERCICIO 10"
      ]
    },
    {
      "cell_type": "markdown",
      "id": "4bbf4135",
      "metadata": {
        "id": "4bbf4135"
      },
      "source": [
        "Escribe un programa que cree un diccionario simulando una cesta de la compra. El programa debe preguntar el artículo y su precio por unidad. El artículo será la clave y el valor el precio, hasta que el usuario decida terminar. Después se debe mostrar por pantalla la lista de la compra y el coste total, con el siguiente formato.\n",
        "\n",
        "![image-2.png](attachment:image-2.png)"
      ]
    },
    {
      "cell_type": "code",
      "source": [
        "dicc={}\n",
        "nombre = str(input(\"Introduce tu nombre del producto:\"))\n",
        "valor = float(input(\"Introduce el valor:\"))\n",
        "while(nombre != \"0\"):\n",
        "  dicc[nombre]=valor\n",
        "  nombre = str(input(\"Introduce tu nombre del producto: (0 para terminar)\"))\n",
        "  if nombre != \"0\":\n",
        "    valor = float(input(\"Introduce el valor:\"))\n",
        "suma=0\n",
        "for key, value in dicc.items():\n",
        "  print(key, \":\", value)\n",
        "  suma+=value\n",
        "\n",
        "print(\"\")\n",
        "print(f\"Total: {suma}\")"
      ],
      "metadata": {
        "id": "EsOiNiIK8b8q"
      },
      "id": "EsOiNiIK8b8q",
      "execution_count": null,
      "outputs": []
    },
    {
      "cell_type": "markdown",
      "id": "17b343e6",
      "metadata": {
        "id": "17b343e6"
      },
      "source": [
        "## EJERCICIO 11"
      ]
    },
    {
      "cell_type": "markdown",
      "id": "eb6f147e",
      "metadata": {
        "id": "eb6f147e"
      },
      "source": [
        "Crea un programa que permita al usuario introducir los nombres de los alumnos de una clase y las notas que han obtenido. Cada alumno puede tener distinta cantidad de notas. Guarda la información en un diccionario cuyas claves serán los nombres de los alumnos y los valores serán listas con las notas de cada alumno.\n",
        "\n",
        "El programa va a pedir el nombre de un estudiante e irá pidiendo sus notas hasta que introduzcamos un -1. Al final, cuando el nombre que introduzcamos sea un string vacío, el programa nos mostrará la lista de alumnos, sus notas y la nota media obtenida por cada uno de ellos (con dos decimales)."
      ]
    },
    {
      "cell_type": "code",
      "source": [
        "dicc={}\n",
        "nombre = str(input(\"Introduce el nombre del alumno (\"\"):\"))\n",
        "while(nombre != \"\"):\n",
        "  notas=[]\n",
        "  nota = float(input(\"Introduce las notas del alumno (-1):\"))\n",
        "  while(nota != -1):\n",
        "    notas.append(nota)\n",
        "    nota = float(input(\"Introduce las notas del alumno (-1):\"))\n",
        "  dicc[nombre]=notas\n",
        "  nombre = str(input(\"Introduce el nombre del alumno (\"\"):\"))\n",
        "\n",
        "\n",
        "for key, value in dicc.items():\n",
        "  suma=0\n",
        "  cont=0\n",
        "  print(key, \":\", value)\n",
        "  for valor in value:\n",
        "    suma+=valor\n",
        "    cont+=1\n",
        "  print(f\"nota media: {suma/cont:.2f}\")\n"
      ],
      "metadata": {
        "id": "Zv4hlkwnBabQ"
      },
      "id": "Zv4hlkwnBabQ",
      "execution_count": null,
      "outputs": []
    },
    {
      "cell_type": "markdown",
      "id": "88fe1c72",
      "metadata": {
        "id": "88fe1c72"
      },
      "source": [
        "## EJERCICIO 12"
      ]
    },
    {
      "cell_type": "markdown",
      "id": "f7446bb5",
      "metadata": {
        "id": "f7446bb5"
      },
      "source": [
        "Crea un programa que pida el número de palabras a introducir. Crear un diccionario de clave la palabra y de valor el número de vocales de la palabra."
      ]
    },
    {
      "cell_type": "code",
      "source": [
        "num = int(input(\"Introduce un numero de palabras:\"))\n",
        "vocales=\"aeiouAEIOU\"\n",
        "dicc={}\n",
        "for i in range(num):\n",
        "  palabra = str(input(\"Introduce una palabra:\"))\n",
        "  cont=0\n",
        "  for j in palabra:\n",
        "    if vocales.find(j) != -1:\n",
        "      cont+=1\n",
        "  dicc[palabra]=cont\n",
        "for key, value in dicc.items():\n",
        "  print(key, \":\", value)\n",
        "\n",
        "\n"
      ],
      "metadata": {
        "id": "DPV1qosJH4LS"
      },
      "id": "DPV1qosJH4LS",
      "execution_count": null,
      "outputs": []
    },
    {
      "cell_type": "markdown",
      "id": "6bcd805d",
      "metadata": {
        "id": "6bcd805d"
      },
      "source": [
        "## EJERCICIO 13"
      ]
    },
    {
      "cell_type": "markdown",
      "id": "18202d6c",
      "metadata": {
        "id": "18202d6c"
      },
      "source": [
        "Dado un número entero introducido por el usuario, guarda sus divisores en un conjunto y muéstralo."
      ]
    },
    {
      "cell_type": "code",
      "source": [
        "num = int(input(\"Introduce un numero :\"))\n",
        "con=set()\n",
        "for i in range(1,num):\n",
        "    if(num%i==0):\n",
        "        con.add(i)\n",
        "print(con)"
      ],
      "metadata": {
        "id": "UE-hweA9Qdll",
        "colab": {
          "base_uri": "https://localhost:8080/"
        },
        "outputId": "0260e2cc-1906-4652-a108-51f03593f5d3"
      },
      "id": "UE-hweA9Qdll",
      "execution_count": null,
      "outputs": [
        {
          "output_type": "stream",
          "name": "stdout",
          "text": [
            "Introduce un numero :27\n",
            "{1, 3, 9}\n"
          ]
        }
      ]
    },
    {
      "cell_type": "markdown",
      "id": "e60749fd",
      "metadata": {
        "id": "e60749fd"
      },
      "source": [
        "## EJERCICIO 14"
      ]
    },
    {
      "cell_type": "markdown",
      "id": "e7b12a5a",
      "metadata": {
        "id": "e7b12a5a"
      },
      "source": [
        "Crea un programa que dado un conjunto de números entero, nos devuelva su mínimo. Debes hacerlo sin recurrir a la función min().\n",
        "\n",
        "conjunto={-2,-15,1,6,9,-50,100,200,10,20,5}"
      ]
    },
    {
      "cell_type": "code",
      "source": [
        "conjunto={-2,-15,1,6,9,-50,100,200,10,20,5}\n",
        "numMin=100000000000\n",
        "for i in conjunto:\n",
        "  if(i<numMin):\n",
        "    numMin=i\n",
        "print(numMin)\n"
      ],
      "metadata": {
        "colab": {
          "base_uri": "https://localhost:8080/"
        },
        "id": "kCVeXr_EUpcS",
        "outputId": "d3927c22-c516-4892-e3d2-f825d8b50d33"
      },
      "id": "kCVeXr_EUpcS",
      "execution_count": null,
      "outputs": [
        {
          "output_type": "stream",
          "name": "stdout",
          "text": [
            "-50\n"
          ]
        }
      ]
    },
    {
      "cell_type": "markdown",
      "id": "f4d9baeb",
      "metadata": {
        "id": "f4d9baeb"
      },
      "source": [
        "## EJERCICIO 15"
      ]
    },
    {
      "cell_type": "markdown",
      "id": "a4d923cf",
      "metadata": {
        "id": "a4d923cf"
      },
      "source": [
        "Dado un conjunto, crea un programa que nos devuelva el carácter con mayor valor ASCII. Debes hacerlo sin recurrir a la función max().\n",
        "\n",
        "conjunto={\"0\",\"*\",\"a\",\"A\",\"z\"}"
      ]
    },
    {
      "cell_type": "code",
      "source": [
        "conjunto={\"0\",\"*\",\"a\",\"A\",\"z\"}\n",
        "max_char=\"\"\n",
        "for i in conjunto:\n",
        "  if(i>max_char):\n",
        "    max_char=i\n",
        "print(max_char)"
      ],
      "metadata": {
        "colab": {
          "base_uri": "https://localhost:8080/"
        },
        "id": "yWButFEIVQeM",
        "outputId": "42c12f2d-e397-4961-d49f-6e65fc7b9663"
      },
      "id": "yWButFEIVQeM",
      "execution_count": null,
      "outputs": [
        {
          "output_type": "stream",
          "name": "stdout",
          "text": [
            "z\n"
          ]
        }
      ]
    },
    {
      "cell_type": "markdown",
      "id": "d435b059",
      "metadata": {
        "id": "d435b059"
      },
      "source": [
        "## EJERCICIO 16"
      ]
    },
    {
      "cell_type": "markdown",
      "id": "7e6b011b",
      "metadata": {
        "id": "7e6b011b"
      },
      "source": [
        "Dada una frase introducida por teclado, guarda en un conjunto la primera letra de cada palabra (en minúscula) y muestra el contenido del conjunto."
      ]
    },
    {
      "cell_type": "code",
      "source": [
        "frase = str(input(\"Introduce una frase :\"))\n",
        "fraseL=frase.lower().strip()\n",
        "conj=set()\n",
        "conj.add(fraseL[0])\n",
        "for i in range(len(fraseL)):\n",
        "    valor = float(input(\"Introduce el valor:\"))\n",
        "  if(fraseL[i] == \" \"):\n",
        "    if(i+1<len(fraseL)):\n",
        "      conj.add(fraseL[i+1])\n",
        "\n",
        "print(conj)\n"
      ],
      "metadata": {
        "colab": {
          "base_uri": "https://localhost:8080/"
        },
        "id": "IJyHa-MRu9vr",
        "outputId": "2d00c83c-178f-4d88-d4f3-914cd287c95e"
      },
      "id": "IJyHa-MRu9vr",
      "execution_count": null,
      "outputs": [
        {
          "output_type": "stream",
          "name": "stdout",
          "text": [
            "Introduce una frase : dsfhsdg asfgas \n",
            "{'d', 'a'}\n"
          ]
        }
      ]
    },
    {
      "cell_type": "markdown",
      "id": "b13661b8",
      "metadata": {
        "id": "b13661b8"
      },
      "source": [
        "## EJERCICIO 17"
      ]
    },
    {
      "cell_type": "markdown",
      "id": "7938709a",
      "metadata": {
        "id": "7938709a"
      },
      "source": [
        "Pide al usuario el número de números enteros que va a introducir por teclado. Para cada uno de esos números, crea una tupla donde la primera entrada sea el número entero y, la segunda, la palabra “par” o “impar” según la paridad del número entero. Muestra la tupla recién creada al usuario."
      ]
    },
    {
      "cell_type": "code",
      "source": [
        "cantNum = int(input(\"Introduce la cantidad de numeros que va a introducir :\"))\n",
        "listanum=[]\n",
        "listaPar=[]\n",
        "for i in range(cantNum):\n",
        "  num = int(input(\"Introduce un numero :\"))\n",
        "  listanum.append(num)\n",
        "  if(num%2==0):\n",
        "    listaPar.append(\"par\")\n",
        "  else:\n",
        "    listaPar.append(\"impar\")\n",
        "\n",
        "numero = zip(listanum, listaPar)\n",
        "\n",
        "for item in numero:\n",
        "    print(item)\n"
      ],
      "metadata": {
        "colab": {
          "base_uri": "https://localhost:8080/"
        },
        "id": "IINZrlofzdwD",
        "outputId": "325bbc6a-d489-4127-badc-cceebc1e7e4e"
      },
      "id": "IINZrlofzdwD",
      "execution_count": null,
      "outputs": [
        {
          "output_type": "stream",
          "name": "stdout",
          "text": [
            "Introduce la cantidad de numeros que va a introducir :3\n",
            "Introduce un numero :3\n",
            "Introduce un numero :3\n",
            "Introduce un numero :3\n",
            "(3, 'impar')\n",
            "(3, 'impar')\n",
            "(3, 'impar')\n"
          ]
        }
      ]
    },
    {
      "cell_type": "markdown",
      "id": "091b0304",
      "metadata": {
        "id": "091b0304"
      },
      "source": [
        "## EJERCICIO 18"
      ]
    },
    {
      "cell_type": "markdown",
      "id": "91a02890",
      "metadata": {
        "id": "91a02890"
      },
      "source": [
        "Dada una frase proporcionada por el usuario, crea una lista de tuplas indicando palabra, longitud de cada palabra, letra inicial y posición que ocupan dentro de la frase."
      ]
    },
    {
      "cell_type": "code",
      "source": [
        "frase = input(\"Introduce una frase :\")\n",
        "palabras=frase.strip().split(\" \")\n",
        "lista=[]\n",
        "cont=1\n",
        "for palabra in palabras:\n",
        "  lista.append((palabra,len(palabra),palabra[0],cont))\n",
        "  cont+=1\n",
        "\n",
        "print(lista)\n",
        "\n"
      ],
      "metadata": {
        "colab": {
          "base_uri": "https://localhost:8080/"
        },
        "id": "70vDzdo8AuJ4",
        "outputId": "7f533851-d623-4bcc-d6ad-f42c01e52160"
      },
      "id": "70vDzdo8AuJ4",
      "execution_count": null,
      "outputs": [
        {
          "output_type": "stream",
          "name": "stdout",
          "text": [
            "Introduce una frase :Hola buenos dias\n",
            "[('Hola', 4, 'H', 1), ('buenos', 6, 'b', 2), ('dias', 4, 'd', 3)]\n"
          ]
        }
      ]
    },
    {
      "cell_type": "code",
      "source": [],
      "metadata": {
        "id": "cz7DVEUZ__lm"
      },
      "id": "cz7DVEUZ__lm",
      "execution_count": null,
      "outputs": []
    },
    {
      "cell_type": "markdown",
      "id": "d4717e6e",
      "metadata": {
        "id": "d4717e6e"
      },
      "source": [
        "## EJERCICIO 19"
      ]
    },
    {
      "cell_type": "markdown",
      "id": "972ffc33",
      "metadata": {
        "id": "972ffc33"
      },
      "source": [
        "Haz que el usuario introduzca palabras hasta que introduzca una palabra vacía. Guarda todas las palabras en una tupla y muestra la primera y la última introducidas haciendo uso del método unpacking. Para guardar los elementos de uno en uno vas a tener que utilizar un tipo de dato que no es tupla y luego transformarlo a tupla."
      ]
    },
    {
      "cell_type": "code",
      "source": [
        "lstPalabras=[]\n",
        "frase = input(\"Introduce una palabra :\")\n",
        "while(frase != \"\"):\n",
        "  lstPalabras.append(frase)\n",
        "  frase = input(\"Introduce una palabra :\")\n",
        "\n",
        "tuplaPal=tuple(lstPalabras)\n",
        "(palabra1, *restPalabras, ultimaPalabra) = tuplaPal\n",
        "print(palabra1)\n",
        "print(ultimaPalabra)\n",
        "\n"
      ],
      "metadata": {
        "colab": {
          "base_uri": "https://localhost:8080/"
        },
        "id": "sOo2N3gWCo_T",
        "outputId": "650f5491-4569-48d5-db3c-2d06823ef953"
      },
      "id": "sOo2N3gWCo_T",
      "execution_count": null,
      "outputs": [
        {
          "output_type": "stream",
          "name": "stdout",
          "text": [
            "Introduce una palabra :a\n",
            "Introduce una palabra :b\n",
            "Introduce una palabra :\n",
            "a\n",
            "b\n"
          ]
        }
      ]
    },
    {
      "cell_type": "markdown",
      "id": "5682170e",
      "metadata": {
        "id": "5682170e"
      },
      "source": [
        "## EJERCICO 20"
      ]
    },
    {
      "cell_type": "markdown",
      "id": "0099ce69",
      "metadata": {
        "id": "0099ce69"
      },
      "source": [
        "Dada una lista de palabras, crea otra lista del mismo tamaño que guarde la longitud de cada palabra. Usa la función zip() para crear un diccionario con claves las palabras y valores su longitud.\n",
        "\n",
        "palabras=```[\"prueba\",\"ejemplo\",\"largo\",\"funcionar\"]```"
      ]
    },
    {
      "cell_type": "code",
      "source": [
        "palabras=[\"prueba\",\"ejemplo\",\"largo\",\"funcionar\"]\n",
        "lstLon=[]\n",
        "for palabra in palabras:\n",
        "  lstLon.append(len(palabra))\n",
        "\n",
        "\n",
        "pal = zip(palabras, lstLon)\n",
        "dict(pal)\n",
        "\n",
        "\n"
      ],
      "metadata": {
        "colab": {
          "base_uri": "https://localhost:8080/"
        },
        "id": "1KIp_2ZSFpWz",
        "outputId": "9b1fa66a-d284-461b-bbda-bf075a736f92"
      },
      "id": "1KIp_2ZSFpWz",
      "execution_count": null,
      "outputs": [
        {
          "output_type": "execute_result",
          "data": {
            "text/plain": [
              "{'prueba': 6, 'ejemplo': 7, 'largo': 5, 'funcionar': 9}"
            ]
          },
          "metadata": {},
          "execution_count": 23
        }
      ]
    },
    {
      "cell_type": "markdown",
      "id": "21c66890",
      "metadata": {
        "id": "21c66890"
      },
      "source": [
        "## EJERCICIO 21"
      ]
    },
    {
      "cell_type": "markdown",
      "id": "5defefec",
      "metadata": {
        "id": "5defefec"
      },
      "source": [
        "Pide al usuario dos números enteros por teclado. Asegúrate de que el primero es mayor o igual al segundo. Realiza la división entera y guarda en una tupla el dividendo, el divisor, el cociente y el resto de la división entera realizada y muéstrale al usuario el resultado por pantalla."
      ]
    },
    {
      "cell_type": "code",
      "source": [
        "num1 =int(input(\"Introduce un numero :\"))\n",
        "num2 =int(input(\"Introduce un numero :\"))\n",
        "while(num1<num2):\n",
        "  mun2=int(input(f\"Introduce un numero menor al primero: {num1} \"))\n",
        "\n",
        "resultado=(num1,num2,num1//num2,num1%num2)\n",
        "print(resultado)"
      ],
      "metadata": {
        "colab": {
          "base_uri": "https://localhost:8080/"
        },
        "id": "2URlcwdhG5G8",
        "outputId": "66707879-8121-4f60-f251-f72974f6f3cc"
      },
      "id": "2URlcwdhG5G8",
      "execution_count": null,
      "outputs": [
        {
          "output_type": "stream",
          "name": "stdout",
          "text": [
            "Introduce un numero :7\n",
            "Introduce un numero :2\n",
            "(7, 2, 3, 1)\n"
          ]
        }
      ]
    },
    {
      "cell_type": "markdown",
      "id": "2ce74141",
      "metadata": {
        "id": "2ce74141"
      },
      "source": [
        "## EJERCICIO 22"
      ]
    },
    {
      "cell_type": "markdown",
      "id": "60d3eef3",
      "metadata": {
        "id": "60d3eef3"
      },
      "source": [
        "Pide al usuario números entre 0 y 360 (comprueba que el número introducido sea un entero entre 0 y 360). Para cada número, crea una tupla donde la primera entrada sea dicho número y, la segunda, la medida angular correspondiente en radianes. Recuerda, 360◦ = 2π rad."
      ]
    },
    {
      "cell_type": "code",
      "source": [
        "import math as m\n",
        "num1 =int(input(\"Introduce un numero del 0 al 360 :\"))\n",
        "while(num1!=-1):\n",
        "  while(num1<0 or num1>360):\n",
        "    num1 =int(input(\"Introduce un numero del 0 al 360 :\"))\n",
        "\n",
        "  tupla=(num1,num1*m.pi*2/360)\n",
        "  print (f\"El numero es {tupla[0]} y su medida angular es {tupla[1]:.2f} \")\n",
        "\n",
        "\n",
        "  num1 =int(input(\"Introduce un numero del 0 al 360 :\"))\n"
      ],
      "metadata": {
        "colab": {
          "base_uri": "https://localhost:8080/"
        },
        "id": "gthC4NnnIStg",
        "outputId": "28b68a8e-49e6-482a-eedb-157c01ad7725"
      },
      "id": "gthC4NnnIStg",
      "execution_count": null,
      "outputs": [
        {
          "name": "stdout",
          "output_type": "stream",
          "text": [
            "Introduce un numero del 0 al 360 :5\n",
            "El numero es 5 y su medida angular es 0.09 \n",
            "Introduce un numero del 0 al 360 :63\n",
            "El numero es 63 y su medida angular es 1.10 \n",
            "Introduce un numero del 0 al 360 :-1\n"
          ]
        }
      ]
    }
  ],
  "metadata": {
    "kernelspec": {
      "display_name": "Python 3 (ipykernel)",
      "language": "python",
      "name": "python3"
    },
    "language_info": {
      "codemirror_mode": {
        "name": "ipython",
        "version": 3
      },
      "file_extension": ".py",
      "mimetype": "text/x-python",
      "name": "python",
      "nbconvert_exporter": "python",
      "pygments_lexer": "ipython3",
      "version": "3.10.9"
    },
    "colab": {
      "provenance": []
    }
  },
  "nbformat": 4,
  "nbformat_minor": 5
}