{
 "cells": [
  {
   "cell_type": "markdown",
   "id": "d287d88e",
   "metadata": {
    "id": "d287d88e"
   },
   "source": [
    "# LISTA 7 - OBTENCIÓN DE DATOS"
   ]
  },
  {
   "cell_type": "markdown",
   "id": "60f29b17",
   "metadata": {},
   "source": [
    "## <ins>Ejercicios Obligatorios </ins>"
   ]
  },
  {
   "cell_type": "markdown",
   "id": "f99190d1",
   "metadata": {
    "id": "f99190d1"
   },
   "source": [
    "## EJERCICIO 1"
   ]
  },
  {
   "cell_type": "markdown",
   "id": "b3836703",
   "metadata": {
    "id": "b3836703"
   },
   "source": [
    "La base de datos shop tiene una tabla people con información sobre los clientes de la tienda ficticia. Escribe el código Python necesario para inicializar un DataFrame con el contenido de la tabla:"
   ]
  },
  {
   "cell_type": "code",
   "execution_count": 2,
   "id": "59a9a31e",
   "metadata": {},
   "outputs": [
    {
     "name": "stdout",
     "output_type": "stream",
     "text": [
      "   person_id  first_name last_name  birth_date                        email  \\\n",
      "0          1     Macaria    Segura  1996-04-08   vallejotatiana@example.net   \n",
      "1          2  Bienvenida    Fuster  1971-10-28      ana-sofia77@example.org   \n",
      "2          3        Rosa     Múñiz  1996-03-18  bermudezaurelio@example.org   \n",
      "3          4     Nazaret     Viana  1973-08-18          ugalvez@example.net   \n",
      "4          5     Antonio     Cueto  1981-10-31      riosruperto@example.com   \n",
      "5          6   Alejandra    Alemán  2002-05-12      amadomarcos@example.net   \n",
      "6          7       Dafne    Bayona  1962-05-29   florentinaprat@example.net   \n",
      "7          8       Dimas  Chamorro  1975-07-21     dionisioraya@example.com   \n",
      "8          9     Matilde    Múgica  1972-08-11         icanovas@example.net   \n",
      "9         10       Belen    Agustí  1998-01-25           dbello@example.org   \n",
      "\n",
      "              phone            username  \\\n",
      "0      +34972273985  eva-mariahernandez   \n",
      "1     +34 842102874        pliniomarmol   \n",
      "2   +34 944 077 750               oalba   \n",
      "3  +34 947 27 86 72           emmacarro   \n",
      "4     +34 965771335              qgomez   \n",
      "5   +34823 42 04 16       maximiliano09   \n",
      "6  +34 880 38 77 39          martirio32   \n",
      "7   +34946 71 91 70            lheredia   \n",
      "8   +34 717 424 158             aandres   \n",
      "9  +34 849 79 80 27        murojeronimo   \n",
      "\n",
      "                                            password  \\\n",
      "0  91e03fcc5f8f4a3fa44dbd882b8de37102a0559563a9dd...   \n",
      "1  ae6eb5f85e694c0330bea193a7db221e1c44348eaaf996...   \n",
      "2  736e037f57a79396b83a1d6328b26634eea66e182014f2...   \n",
      "3  f6776045483eb684208813d8a43002ecb09d323fd861a4...   \n",
      "4  8ddbcc4bff6c275a35d7e94d94a27e5695e8ba2a728b5e...   \n",
      "5  d4c64cb7bfa111509ed6056b25a7b66e77aa23a8d939c9...   \n",
      "6  ee9197abc291cf0dd229ef2d9f17e3ebea01df6bff4a35...   \n",
      "7  0ceeb2c30e63c53d1e6b617b2d52412baab86b4ff66367...   \n",
      "8  ca722e26e0d3246d18c3a8df534122455ef6f675fcded7...   \n",
      "9  cd60987daa53158abe9d926fd9d17407bcb37bc8db507a...   \n",
      "\n",
      "                                     job  \n",
      "0     Técnico en documentación sanitaria  \n",
      "1  Controlador de plagas y malas hierbas  \n",
      "2                             Cristalero  \n",
      "3                              Psicólogo  \n",
      "4         Oficial de las fuerzas armadas  \n",
      "5                 Comerciante de tiendas  \n",
      "6                               Dentista  \n",
      "7                       Camarero de mesa  \n",
      "8                   Inspector de policía  \n",
      "9                             Delineante  \n"
     ]
    }
   ],
   "source": [
    "import pandas as pd\n",
    "from faker import Faker\n",
    "from datetime import datetime\n",
    "\n",
    "fake = Faker(['es_ES'])\n",
    "\n",
    "def build_people_dataset(number):\n",
    "\n",
    "  people = {\n",
    "    \"person_id\":[],\n",
    "    \"first_name\":[],\n",
    "    \"last_name\":[],\n",
    "    \"birth_date\":[],\n",
    "    \"email\":[],\n",
    "    \"phone\":[],\n",
    "    \"username\":[],\n",
    "    \"password\":[],\n",
    "    \"job\":[]\n",
    "  }\n",
    "  for i in range(1, number+1):\n",
    "    people[\"person_id\"].append(i)\n",
    "    people[\"first_name\"].append(fake.first_name())\n",
    "    people[\"last_name\"].append(fake.last_name())\n",
    "    people[\"birth_date\"].append(fake.date_between_dates(datetime(1960, 1, 1), datetime(2002, 6, 1)))\n",
    "    people[\"email\"].append(fake.email())\n",
    "    people[\"phone\"].append(fake.phone_number())\n",
    "    people[\"username\"].append(fake.user_name())\n",
    "    people[\"password\"].append(fake.sha256())\n",
    "    people[\"job\"].append(fake.job())\n",
    " \n",
    "\n",
    "  return people\n",
    "\n",
    "df = pd.DataFrame(build_people_dataset(10))\n",
    "print(df)"
   ]
  },
  {
   "cell_type": "markdown",
   "id": "4d68e82b",
   "metadata": {
    "id": "4d68e82b"
   },
   "source": [
    "## EJERCICIO 2"
   ]
  },
  {
   "cell_type": "markdown",
   "id": "ec7f3b2a",
   "metadata": {
    "id": "ec7f3b2a"
   },
   "source": [
    "La siguiente URL https://datosabiertos.carm.es/odata/Agricultura/IMIDA_dia_2018.csv contiene el informe meteorológico diario de las diferentes estaciones meteorológicas de la Región de Murcia a lo largo del año 2018. Observa el contenido del fichero csv y a continuación utiliza la función read_csv de pandas sobre esta URL con los  parámetros necesarios (header, sep, decimal, quotechar y encoding)."
   ]
  },
  {
   "cell_type": "code",
   "execution_count": 3,
   "id": "2e32fc04",
   "metadata": {},
   "outputs": [
    {
     "data": {
      "text/html": [
       "<div>\n",
       "<style scoped>\n",
       "    .dataframe tbody tr th:only-of-type {\n",
       "        vertical-align: middle;\n",
       "    }\n",
       "\n",
       "    .dataframe tbody tr th {\n",
       "        vertical-align: top;\n",
       "    }\n",
       "\n",
       "    .dataframe thead th {\n",
       "        text-align: right;\n",
       "    }\n",
       "</style>\n",
       "<table border=\"1\" class=\"dataframe\">\n",
       "  <thead>\n",
       "    <tr style=\"text-align: right;\">\n",
       "      <th></th>\n",
       "      <th>FECHA</th>\n",
       "      <th>EST</th>\n",
       "      <th>MUNICIPIO</th>\n",
       "      <th>PARAJE</th>\n",
       "      <th>TMED</th>\n",
       "      <th>TMAX</th>\n",
       "      <th>TMIN</th>\n",
       "      <th>HRMED</th>\n",
       "      <th>HRMAX</th>\n",
       "      <th>HRMIN</th>\n",
       "      <th>PREC</th>\n",
       "      <th>RADMED</th>\n",
       "      <th>VVMED</th>\n",
       "      <th>VVMAX</th>\n",
       "      <th>DVMED</th>\n",
       "      <th>ETO</th>\n",
       "    </tr>\n",
       "  </thead>\n",
       "  <tbody>\n",
       "    <tr>\n",
       "      <th>0</th>\n",
       "      <td>01/01/18</td>\n",
       "      <td>AL31</td>\n",
       "      <td>Totana</td>\n",
       "      <td>Lebor</td>\n",
       "      <td>12,87</td>\n",
       "      <td>19,17</td>\n",
       "      <td>5,909</td>\n",
       "      <td>46,44</td>\n",
       "      <td>75,9</td>\n",
       "      <td>22,91</td>\n",
       "      <td>0</td>\n",
       "      <td>124,03</td>\n",
       "      <td>2,05</td>\n",
       "      <td>6,821</td>\n",
       "      <td>249,66</td>\n",
       "      <td>2,23</td>\n",
       "    </tr>\n",
       "    <tr>\n",
       "      <th>1</th>\n",
       "      <td>02/01/18</td>\n",
       "      <td>AL31</td>\n",
       "      <td>Totana</td>\n",
       "      <td>Lebor</td>\n",
       "      <td>13,05</td>\n",
       "      <td>20,99</td>\n",
       "      <td>8,2</td>\n",
       "      <td>44,91</td>\n",
       "      <td>64,69</td>\n",
       "      <td>23,74</td>\n",
       "      <td>0</td>\n",
       "      <td>122,8</td>\n",
       "      <td>1,69</td>\n",
       "      <td>8,9</td>\n",
       "      <td>272,61</td>\n",
       "      <td>2,24</td>\n",
       "    </tr>\n",
       "    <tr>\n",
       "      <th>2</th>\n",
       "      <td>03/01/18</td>\n",
       "      <td>AL31</td>\n",
       "      <td>Totana</td>\n",
       "      <td>Lebor</td>\n",
       "      <td>13,57</td>\n",
       "      <td>22,57</td>\n",
       "      <td>7,06</td>\n",
       "      <td>61,66</td>\n",
       "      <td>81</td>\n",
       "      <td>37,48</td>\n",
       "      <td>0</td>\n",
       "      <td>124,63</td>\n",
       "      <td>0,85</td>\n",
       "      <td>3,077</td>\n",
       "      <td>13,25</td>\n",
       "      <td>1,34</td>\n",
       "    </tr>\n",
       "    <tr>\n",
       "      <th>3</th>\n",
       "      <td>04/01/18</td>\n",
       "      <td>AL31</td>\n",
       "      <td>Totana</td>\n",
       "      <td>Lebor</td>\n",
       "      <td>14,52</td>\n",
       "      <td>23,84</td>\n",
       "      <td>8,14</td>\n",
       "      <td>63,91</td>\n",
       "      <td>88,6</td>\n",
       "      <td>33,87</td>\n",
       "      <td>0</td>\n",
       "      <td>124,25</td>\n",
       "      <td>1,12</td>\n",
       "      <td>4,753</td>\n",
       "      <td>291,87</td>\n",
       "      <td>1,67</td>\n",
       "    </tr>\n",
       "    <tr>\n",
       "      <th>4</th>\n",
       "      <td>05/01/18</td>\n",
       "      <td>AL31</td>\n",
       "      <td>Totana</td>\n",
       "      <td>Lebor</td>\n",
       "      <td>10,36</td>\n",
       "      <td>17,7</td>\n",
       "      <td>4,565</td>\n",
       "      <td>77,86</td>\n",
       "      <td>99,9</td>\n",
       "      <td>44,64</td>\n",
       "      <td>0</td>\n",
       "      <td>125,46</td>\n",
       "      <td>0,99</td>\n",
       "      <td>3,665</td>\n",
       "      <td>260,43</td>\n",
       "      <td>1,13</td>\n",
       "    </tr>\n",
       "    <tr>\n",
       "      <th>...</th>\n",
       "      <td>...</td>\n",
       "      <td>...</td>\n",
       "      <td>...</td>\n",
       "      <td>...</td>\n",
       "      <td>...</td>\n",
       "      <td>...</td>\n",
       "      <td>...</td>\n",
       "      <td>...</td>\n",
       "      <td>...</td>\n",
       "      <td>...</td>\n",
       "      <td>...</td>\n",
       "      <td>...</td>\n",
       "      <td>...</td>\n",
       "      <td>...</td>\n",
       "      <td>...</td>\n",
       "      <td>...</td>\n",
       "    </tr>\n",
       "    <tr>\n",
       "      <th>17742</th>\n",
       "      <td>27/12/18</td>\n",
       "      <td>TP91</td>\n",
       "      <td>Torre Pacheco</td>\n",
       "      <td>Torre Pacheco</td>\n",
       "      <td>10,76</td>\n",
       "      <td>16,03</td>\n",
       "      <td>7,39</td>\n",
       "      <td>88,28</td>\n",
       "      <td>99,35</td>\n",
       "      <td>65,07</td>\n",
       "      <td>0,2</td>\n",
       "      <td>93,96</td>\n",
       "      <td>0,74</td>\n",
       "      <td>3,626</td>\n",
       "      <td>266,05</td>\n",
       "      <td>0,79</td>\n",
       "    </tr>\n",
       "    <tr>\n",
       "      <th>17743</th>\n",
       "      <td>28/12/18</td>\n",
       "      <td>TP91</td>\n",
       "      <td>Torre Pacheco</td>\n",
       "      <td>Torre Pacheco</td>\n",
       "      <td>11,19</td>\n",
       "      <td>15,81</td>\n",
       "      <td>6,6</td>\n",
       "      <td>83,62</td>\n",
       "      <td>96,95</td>\n",
       "      <td>58,85</td>\n",
       "      <td>0</td>\n",
       "      <td>93,32</td>\n",
       "      <td>0,66</td>\n",
       "      <td>3,724</td>\n",
       "      <td>320,25</td>\n",
       "      <td>0,8</td>\n",
       "    </tr>\n",
       "    <tr>\n",
       "      <th>17744</th>\n",
       "      <td>29/12/18</td>\n",
       "      <td>TP91</td>\n",
       "      <td>Torre Pacheco</td>\n",
       "      <td>Torre Pacheco</td>\n",
       "      <td>12,23</td>\n",
       "      <td>14,68</td>\n",
       "      <td>10,19</td>\n",
       "      <td>91,24</td>\n",
       "      <td>98</td>\n",
       "      <td>73,23</td>\n",
       "      <td>9,2</td>\n",
       "      <td>35,73</td>\n",
       "      <td>1,35</td>\n",
       "      <td>5,978</td>\n",
       "      <td>15,21</td>\n",
       "      <td>0,81</td>\n",
       "    </tr>\n",
       "    <tr>\n",
       "      <th>17745</th>\n",
       "      <td>30/12/18</td>\n",
       "      <td>TP91</td>\n",
       "      <td>Torre Pacheco</td>\n",
       "      <td>Torre Pacheco</td>\n",
       "      <td>11,01</td>\n",
       "      <td>15,29</td>\n",
       "      <td>6,7</td>\n",
       "      <td>85,61</td>\n",
       "      <td>96,72</td>\n",
       "      <td>62,92</td>\n",
       "      <td>0,2</td>\n",
       "      <td>108,46</td>\n",
       "      <td>1,13</td>\n",
       "      <td>4,802</td>\n",
       "      <td>15,22</td>\n",
       "      <td>0,92</td>\n",
       "    </tr>\n",
       "    <tr>\n",
       "      <th>17746</th>\n",
       "      <td>31/12/18</td>\n",
       "      <td>TP91</td>\n",
       "      <td>Torre Pacheco</td>\n",
       "      <td>Torre Pacheco</td>\n",
       "      <td>9,32</td>\n",
       "      <td>18,85</td>\n",
       "      <td>3,73</td>\n",
       "      <td>74,97</td>\n",
       "      <td>96,87</td>\n",
       "      <td>34,89</td>\n",
       "      <td>0</td>\n",
       "      <td>124,35</td>\n",
       "      <td>0,91</td>\n",
       "      <td>3,724</td>\n",
       "      <td>299,72</td>\n",
       "      <td>1,19</td>\n",
       "    </tr>\n",
       "  </tbody>\n",
       "</table>\n",
       "<p>17747 rows × 16 columns</p>\n",
       "</div>"
      ],
      "text/plain": [
       "          FECHA   EST      MUNICIPIO         PARAJE   TMED   TMAX   TMIN  \\\n",
       "0      01/01/18  AL31         Totana          Lebor  12,87  19,17  5,909   \n",
       "1      02/01/18  AL31         Totana          Lebor  13,05  20,99    8,2   \n",
       "2      03/01/18  AL31         Totana          Lebor  13,57  22,57   7,06   \n",
       "3      04/01/18  AL31         Totana          Lebor  14,52  23,84   8,14   \n",
       "4      05/01/18  AL31         Totana          Lebor  10,36   17,7  4,565   \n",
       "...         ...   ...            ...            ...    ...    ...    ...   \n",
       "17742  27/12/18  TP91  Torre Pacheco  Torre Pacheco  10,76  16,03   7,39   \n",
       "17743  28/12/18  TP91  Torre Pacheco  Torre Pacheco  11,19  15,81    6,6   \n",
       "17744  29/12/18  TP91  Torre Pacheco  Torre Pacheco  12,23  14,68  10,19   \n",
       "17745  30/12/18  TP91  Torre Pacheco  Torre Pacheco  11,01  15,29    6,7   \n",
       "17746  31/12/18  TP91  Torre Pacheco  Torre Pacheco   9,32  18,85   3,73   \n",
       "\n",
       "       HRMED  HRMAX  HRMIN PREC  RADMED VVMED  VVMAX   DVMED   ETO  \n",
       "0      46,44   75,9  22,91    0  124,03  2,05  6,821  249,66  2,23  \n",
       "1      44,91  64,69  23,74    0   122,8  1,69    8,9  272,61  2,24  \n",
       "2      61,66     81  37,48    0  124,63  0,85  3,077   13,25  1,34  \n",
       "3      63,91   88,6  33,87    0  124,25  1,12  4,753  291,87  1,67  \n",
       "4      77,86   99,9  44,64    0  125,46  0,99  3,665  260,43  1,13  \n",
       "...      ...    ...    ...  ...     ...   ...    ...     ...   ...  \n",
       "17742  88,28  99,35  65,07  0,2   93,96  0,74  3,626  266,05  0,79  \n",
       "17743  83,62  96,95  58,85    0   93,32  0,66  3,724  320,25   0,8  \n",
       "17744  91,24     98  73,23  9,2   35,73  1,35  5,978   15,21  0,81  \n",
       "17745  85,61  96,72  62,92  0,2  108,46  1,13  4,802   15,22  0,92  \n",
       "17746  74,97  96,87  34,89    0  124,35  0,91  3,724  299,72  1,19  \n",
       "\n",
       "[17747 rows x 16 columns]"
      ]
     },
     "execution_count": 3,
     "metadata": {},
     "output_type": "execute_result"
    }
   ],
   "source": [
    "csv = pd.read_csv(\"https://datosabiertos.carm.es/odata/Agricultura/IMIDA_dia_2018.csv \", # URL de archivo csv\n",
    "                      header=0, # La fila número 0 contiene el nombre de las columnas\n",
    "                      sep=\";\", # Separador o delimitador de campos\n",
    "                      decimal=\".\", # El punto separa la parte entera de la decimal de un número\n",
    "                      quotechar=\"\\\"\", # Las cadenas se encuentran encapsuladas entre comillas\n",
    "                      encoding='latin-1',  # La codificación del fichero es UTF-8\n",
    ")\n",
    "csv"
   ]
  },
  {
   "cell_type": "markdown",
   "id": "5c943554",
   "metadata": {
    "id": "5c943554"
   },
   "source": [
    "## EJERCICIO 3"
   ]
  },
  {
   "cell_type": "markdown",
   "id": "f2fe60bc",
   "metadata": {
    "id": "f2fe60bc"
   },
   "source": [
    "El Instituto de Salud Carlos III ofrece gratuitamente información actualizada sobre la situación del COVID-19 en España. En la siguiente URL podemos obtener un fichero csv actualizado con los casos positivos notificados por las Comunidades Autónomas a nivel provincial: https://cnecovid.isciii.es/covid19/resources/casos_diagnostico_provincia.csv. En el siguiente enlace se nos describe este conjunto de datos y se nos proporcionan otros conjuntos de datos de interés.\n",
    "\n",
    "Utiliza el método read_csv con los parámetros adecuados para obtener el DataFrame con los casos positivos por provincia. Muestra a continuación su contenido:"
   ]
  },
  {
   "cell_type": "code",
   "execution_count": 4,
   "id": "140b4cb3",
   "metadata": {},
   "outputs": [
    {
     "data": {
      "text/html": [
       "<div>\n",
       "<style scoped>\n",
       "    .dataframe tbody tr th:only-of-type {\n",
       "        vertical-align: middle;\n",
       "    }\n",
       "\n",
       "    .dataframe tbody tr th {\n",
       "        vertical-align: top;\n",
       "    }\n",
       "\n",
       "    .dataframe thead th {\n",
       "        text-align: right;\n",
       "    }\n",
       "</style>\n",
       "<table border=\"1\" class=\"dataframe\">\n",
       "  <thead>\n",
       "    <tr style=\"text-align: right;\">\n",
       "      <th></th>\n",
       "      <th>provincia_iso</th>\n",
       "      <th>num_casos</th>\n",
       "    </tr>\n",
       "  </thead>\n",
       "  <tbody>\n",
       "    <tr>\n",
       "      <th>0</th>\n",
       "      <td>A</td>\n",
       "      <td>1</td>\n",
       "    </tr>\n",
       "    <tr>\n",
       "      <th>1</th>\n",
       "      <td>AB</td>\n",
       "      <td>0</td>\n",
       "    </tr>\n",
       "    <tr>\n",
       "      <th>2</th>\n",
       "      <td>AL</td>\n",
       "      <td>0</td>\n",
       "    </tr>\n",
       "    <tr>\n",
       "      <th>3</th>\n",
       "      <td>AV</td>\n",
       "      <td>0</td>\n",
       "    </tr>\n",
       "    <tr>\n",
       "      <th>4</th>\n",
       "      <td>B</td>\n",
       "      <td>2</td>\n",
       "    </tr>\n",
       "    <tr>\n",
       "      <th>...</th>\n",
       "      <td>...</td>\n",
       "      <td>...</td>\n",
       "    </tr>\n",
       "    <tr>\n",
       "      <th>20718</th>\n",
       "      <td>V</td>\n",
       "      <td>85</td>\n",
       "    </tr>\n",
       "    <tr>\n",
       "      <th>20719</th>\n",
       "      <td>VA</td>\n",
       "      <td>0</td>\n",
       "    </tr>\n",
       "    <tr>\n",
       "      <th>20720</th>\n",
       "      <td>VI</td>\n",
       "      <td>0</td>\n",
       "    </tr>\n",
       "    <tr>\n",
       "      <th>20721</th>\n",
       "      <td>Z</td>\n",
       "      <td>0</td>\n",
       "    </tr>\n",
       "    <tr>\n",
       "      <th>20722</th>\n",
       "      <td>ZA</td>\n",
       "      <td>0</td>\n",
       "    </tr>\n",
       "  </tbody>\n",
       "</table>\n",
       "<p>20723 rows × 2 columns</p>\n",
       "</div>"
      ],
      "text/plain": [
       "      provincia_iso  num_casos\n",
       "0                 A          1\n",
       "1                AB          0\n",
       "2                AL          0\n",
       "3                AV          0\n",
       "4                 B          2\n",
       "...             ...        ...\n",
       "20718             V         85\n",
       "20719            VA          0\n",
       "20720            VI          0\n",
       "20721             Z          0\n",
       "20722            ZA          0\n",
       "\n",
       "[20723 rows x 2 columns]"
      ]
     },
     "execution_count": 4,
     "metadata": {},
     "output_type": "execute_result"
    }
   ],
   "source": [
    "csv = pd.read_csv(\"https://cnecovid.isciii.es/covid19/resources/casos_diagnostico_provincia.csv\")\n",
    "\n",
    "columnas = csv[['provincia_iso', 'num_casos']]\n",
    "columnas"
   ]
  },
  {
   "cell_type": "markdown",
   "id": "cbbfb36c",
   "metadata": {
    "id": "cbbfb36c"
   },
   "source": [
    "## EJERCICIO 4"
   ]
  },
  {
   "cell_type": "markdown",
   "id": "f0211a75",
   "metadata": {
    "id": "f0211a75"
   },
   "source": [
    "La siguiente URL contiene información de películas estadounidenses obtenidas de la Wikipedia en formato JSON: https://raw.githubusercontent.com/prust/wikipedia-movie-data/master/movies.json. Utiliza el método `read_json` de `pandas` para cargar su contenido en un DataFrame:"
   ]
  },
  {
   "cell_type": "code",
   "execution_count": 5,
   "id": "98c2e86d",
   "metadata": {},
   "outputs": [
    {
     "data": {
      "text/html": [
       "<div>\n",
       "<style scoped>\n",
       "    .dataframe tbody tr th:only-of-type {\n",
       "        vertical-align: middle;\n",
       "    }\n",
       "\n",
       "    .dataframe tbody tr th {\n",
       "        vertical-align: top;\n",
       "    }\n",
       "\n",
       "    .dataframe thead th {\n",
       "        text-align: right;\n",
       "    }\n",
       "</style>\n",
       "<table border=\"1\" class=\"dataframe\">\n",
       "  <thead>\n",
       "    <tr style=\"text-align: right;\">\n",
       "      <th></th>\n",
       "      <th>title</th>\n",
       "      <th>year</th>\n",
       "      <th>cast</th>\n",
       "      <th>genres</th>\n",
       "      <th>href</th>\n",
       "      <th>extract</th>\n",
       "      <th>thumbnail</th>\n",
       "      <th>thumbnail_width</th>\n",
       "      <th>thumbnail_height</th>\n",
       "    </tr>\n",
       "  </thead>\n",
       "  <tbody>\n",
       "    <tr>\n",
       "      <th>0</th>\n",
       "      <td>After Dark in Central Park</td>\n",
       "      <td>1900</td>\n",
       "      <td>[]</td>\n",
       "      <td>[]</td>\n",
       "      <td>None</td>\n",
       "      <td>NaN</td>\n",
       "      <td>NaN</td>\n",
       "      <td>NaN</td>\n",
       "      <td>NaN</td>\n",
       "    </tr>\n",
       "    <tr>\n",
       "      <th>1</th>\n",
       "      <td>Boarding School Girls' Pajama Parade</td>\n",
       "      <td>1900</td>\n",
       "      <td>[]</td>\n",
       "      <td>[]</td>\n",
       "      <td>None</td>\n",
       "      <td>NaN</td>\n",
       "      <td>NaN</td>\n",
       "      <td>NaN</td>\n",
       "      <td>NaN</td>\n",
       "    </tr>\n",
       "    <tr>\n",
       "      <th>2</th>\n",
       "      <td>Buffalo Bill's Wild West Parad</td>\n",
       "      <td>1900</td>\n",
       "      <td>[]</td>\n",
       "      <td>[]</td>\n",
       "      <td>None</td>\n",
       "      <td>NaN</td>\n",
       "      <td>NaN</td>\n",
       "      <td>NaN</td>\n",
       "      <td>NaN</td>\n",
       "    </tr>\n",
       "    <tr>\n",
       "      <th>3</th>\n",
       "      <td>Caught</td>\n",
       "      <td>1900</td>\n",
       "      <td>[]</td>\n",
       "      <td>[]</td>\n",
       "      <td>None</td>\n",
       "      <td>NaN</td>\n",
       "      <td>NaN</td>\n",
       "      <td>NaN</td>\n",
       "      <td>NaN</td>\n",
       "    </tr>\n",
       "    <tr>\n",
       "      <th>4</th>\n",
       "      <td>Clowns Spinning Hats</td>\n",
       "      <td>1900</td>\n",
       "      <td>[]</td>\n",
       "      <td>[Silent]</td>\n",
       "      <td>Clowns_Spinning_Hats</td>\n",
       "      <td>Clowns Spinning Hats is a black-and-white sile...</td>\n",
       "      <td>NaN</td>\n",
       "      <td>NaN</td>\n",
       "      <td>NaN</td>\n",
       "    </tr>\n",
       "    <tr>\n",
       "      <th>...</th>\n",
       "      <td>...</td>\n",
       "      <td>...</td>\n",
       "      <td>...</td>\n",
       "      <td>...</td>\n",
       "      <td>...</td>\n",
       "      <td>...</td>\n",
       "      <td>...</td>\n",
       "      <td>...</td>\n",
       "      <td>...</td>\n",
       "    </tr>\n",
       "    <tr>\n",
       "      <th>36268</th>\n",
       "      <td>Aquaman and the Lost Kingdom</td>\n",
       "      <td>2023</td>\n",
       "      <td>[Jason Momoa, Amber Heard, Willem Dafoe, Patri...</td>\n",
       "      <td>[Superhero]</td>\n",
       "      <td>Aquaman_and_the_Lost_Kingdom</td>\n",
       "      <td>Aquaman and the Lost Kingdom is an upcoming Am...</td>\n",
       "      <td>https://upload.wikimedia.org/wikipedia/en/thum...</td>\n",
       "      <td>320.0</td>\n",
       "      <td>163.0</td>\n",
       "    </tr>\n",
       "    <tr>\n",
       "      <th>36269</th>\n",
       "      <td>Untitled Ghostbusters: Afterlife sequel</td>\n",
       "      <td>2023</td>\n",
       "      <td>[Mckenna Grace, Carrie Coon, Finn Wolfhard, Pa...</td>\n",
       "      <td>[Comedy, Supernatural]</td>\n",
       "      <td>Untitled_Ghostbusters:_Afterlife_sequel</td>\n",
       "      <td>The untitled Ghostbusters: Afterlife sequel is...</td>\n",
       "      <td>NaN</td>\n",
       "      <td>NaN</td>\n",
       "      <td>NaN</td>\n",
       "    </tr>\n",
       "    <tr>\n",
       "      <th>36270</th>\n",
       "      <td>Rebel Moon</td>\n",
       "      <td>2023</td>\n",
       "      <td>[Sofia Boutella, Charlie Hunnam, Ray Fisher, D...</td>\n",
       "      <td>[Science Fiction]</td>\n",
       "      <td>Rebel_Moon</td>\n",
       "      <td>Rebel Moon is an upcoming American epic space ...</td>\n",
       "      <td>NaN</td>\n",
       "      <td>NaN</td>\n",
       "      <td>NaN</td>\n",
       "    </tr>\n",
       "    <tr>\n",
       "      <th>36271</th>\n",
       "      <td>Migration</td>\n",
       "      <td>2023</td>\n",
       "      <td>[]</td>\n",
       "      <td>[]</td>\n",
       "      <td>Migration_(2023_film)</td>\n",
       "      <td>This is a list of productions produced by Illu...</td>\n",
       "      <td>NaN</td>\n",
       "      <td>NaN</td>\n",
       "      <td>NaN</td>\n",
       "    </tr>\n",
       "    <tr>\n",
       "      <th>36272</th>\n",
       "      <td>The Color Purple</td>\n",
       "      <td>2023</td>\n",
       "      <td>[Fantasia Barrino, Colman Domingo, Corey Hawki...</td>\n",
       "      <td>[Drama, Musical, Historical]</td>\n",
       "      <td>The_Color_Purple_(2023_film)</td>\n",
       "      <td>The Color Purple is an upcoming American music...</td>\n",
       "      <td>NaN</td>\n",
       "      <td>NaN</td>\n",
       "      <td>NaN</td>\n",
       "    </tr>\n",
       "  </tbody>\n",
       "</table>\n",
       "<p>36273 rows × 9 columns</p>\n",
       "</div>"
      ],
      "text/plain": [
       "                                         title  year  \\\n",
       "0                   After Dark in Central Park  1900   \n",
       "1         Boarding School Girls' Pajama Parade  1900   \n",
       "2               Buffalo Bill's Wild West Parad  1900   \n",
       "3                                       Caught  1900   \n",
       "4                         Clowns Spinning Hats  1900   \n",
       "...                                        ...   ...   \n",
       "36268             Aquaman and the Lost Kingdom  2023   \n",
       "36269  Untitled Ghostbusters: Afterlife sequel  2023   \n",
       "36270                               Rebel Moon  2023   \n",
       "36271                                Migration  2023   \n",
       "36272                         The Color Purple  2023   \n",
       "\n",
       "                                                    cast  \\\n",
       "0                                                     []   \n",
       "1                                                     []   \n",
       "2                                                     []   \n",
       "3                                                     []   \n",
       "4                                                     []   \n",
       "...                                                  ...   \n",
       "36268  [Jason Momoa, Amber Heard, Willem Dafoe, Patri...   \n",
       "36269  [Mckenna Grace, Carrie Coon, Finn Wolfhard, Pa...   \n",
       "36270  [Sofia Boutella, Charlie Hunnam, Ray Fisher, D...   \n",
       "36271                                                 []   \n",
       "36272  [Fantasia Barrino, Colman Domingo, Corey Hawki...   \n",
       "\n",
       "                             genres                                     href  \\\n",
       "0                                []                                     None   \n",
       "1                                []                                     None   \n",
       "2                                []                                     None   \n",
       "3                                []                                     None   \n",
       "4                          [Silent]                     Clowns_Spinning_Hats   \n",
       "...                             ...                                      ...   \n",
       "36268                   [Superhero]             Aquaman_and_the_Lost_Kingdom   \n",
       "36269        [Comedy, Supernatural]  Untitled_Ghostbusters:_Afterlife_sequel   \n",
       "36270             [Science Fiction]                               Rebel_Moon   \n",
       "36271                            []                    Migration_(2023_film)   \n",
       "36272  [Drama, Musical, Historical]             The_Color_Purple_(2023_film)   \n",
       "\n",
       "                                                 extract  \\\n",
       "0                                                    NaN   \n",
       "1                                                    NaN   \n",
       "2                                                    NaN   \n",
       "3                                                    NaN   \n",
       "4      Clowns Spinning Hats is a black-and-white sile...   \n",
       "...                                                  ...   \n",
       "36268  Aquaman and the Lost Kingdom is an upcoming Am...   \n",
       "36269  The untitled Ghostbusters: Afterlife sequel is...   \n",
       "36270  Rebel Moon is an upcoming American epic space ...   \n",
       "36271  This is a list of productions produced by Illu...   \n",
       "36272  The Color Purple is an upcoming American music...   \n",
       "\n",
       "                                               thumbnail  thumbnail_width  \\\n",
       "0                                                    NaN              NaN   \n",
       "1                                                    NaN              NaN   \n",
       "2                                                    NaN              NaN   \n",
       "3                                                    NaN              NaN   \n",
       "4                                                    NaN              NaN   \n",
       "...                                                  ...              ...   \n",
       "36268  https://upload.wikimedia.org/wikipedia/en/thum...            320.0   \n",
       "36269                                                NaN              NaN   \n",
       "36270                                                NaN              NaN   \n",
       "36271                                                NaN              NaN   \n",
       "36272                                                NaN              NaN   \n",
       "\n",
       "       thumbnail_height  \n",
       "0                   NaN  \n",
       "1                   NaN  \n",
       "2                   NaN  \n",
       "3                   NaN  \n",
       "4                   NaN  \n",
       "...                 ...  \n",
       "36268             163.0  \n",
       "36269               NaN  \n",
       "36270               NaN  \n",
       "36271               NaN  \n",
       "36272               NaN  \n",
       "\n",
       "[36273 rows x 9 columns]"
      ]
     },
     "execution_count": 5,
     "metadata": {},
     "output_type": "execute_result"
    }
   ],
   "source": [
    "json=pd.read_json(\"https://raw.githubusercontent.com/prust/wikipedia-movie-data/master/movies.json\")\n",
    "json"
   ]
  },
  {
   "cell_type": "markdown",
   "id": "88fe1c72",
   "metadata": {
    "id": "88fe1c72"
   },
   "source": [
    "## EJERCICIO 5"
   ]
  },
  {
   "cell_type": "markdown",
   "id": "f7446bb5",
   "metadata": {
    "id": "f7446bb5"
   },
   "source": [
    "Haciendo uso de la librería `requests` y `BeautifulSoup`, accede a la siguiente URL https://catalogoreina.com/859-grifos-cocina-roca y recupera el nombre de los artículos mostrados:"
   ]
  },
  {
   "cell_type": "code",
   "execution_count": 6,
   "id": "75dd7d7c",
   "metadata": {},
   "outputs": [
    {
     "name": "stdout",
     "output_type": "stream",
     "text": [
      "Cala grifo de cocina negro mate caño giratorio Roca A5A846ENB0\n",
      "CALA Grifo diseño para cocina con caño giratorio Roca A5A846EC00\n",
      "CALA grifo monomando de cocina con caño giratorio en negro Roca A5A836ENB0\n",
      "CALA Mezclador para cocina con caño giratorio Roca A5A856EC00\n",
      "CALA Monomando de Cocina Roca A5A836EC00. Ofertas de grifos de cocina\n",
      "CARMEN Bimando cocina A5A844BC00 Roca\n",
      "Exclusivo CALA grifo para cocina Negro de Roca A5A856ENB0 calidad\n",
      "GLERA diseño ergonómico monomando cocina moderno Roca A5A834DC00\n",
      "GLERA Grifo fregadero extraíble diseño elegante para cocina A5A814DC00 Roca\n",
      "GLERA Mezclador monomando para cocina con caño giratorio Roca A5A844DC00\n",
      "GLERA Monomando para cocina con caño giratorio y ducha Roca A5A854DC00\n",
      "GLERA Pro - Mezclador monomando para cocina con caño giratorio con muelle Roca A5A8A4DC00\n"
     ]
    }
   ],
   "source": [
    "import requests\n",
    "from bs4 import BeautifulSoup\n",
    "\n",
    "URL = \"https://catalogoreina.com/859-grifos-cocina-roca\"\n",
    "r = requests.get(URL)\n",
    "\n",
    "html_soup = BeautifulSoup(r.text)\n",
    "tags = html_soup.find_all(name='a', attrs={'class': 'product-name'})\n",
    "for titulos in tags:\n",
    "    print(titulos.get('title'))\n"
   ]
  },
  {
   "cell_type": "markdown",
   "id": "6bcd805d",
   "metadata": {
    "id": "6bcd805d"
   },
   "source": [
    "## EJERCICIO 6"
   ]
  },
  {
   "cell_type": "markdown",
   "id": "18202d6c",
   "metadata": {
    "id": "18202d6c"
   },
   "source": [
    "Haciendo uso de la librería `requests` y `BeautifulSoup`, accede a la página web del DB-Engines https://db-engines.com/en/ranking y recupera los nombres de las 10 bases de datos más populares:\n",
    "\n",
    "PISTA: el selector CSS [`nth-child`](https://developer.mozilla.org/es/docs/Web/CSS/:nth-child) puede serte de utilidad.\n",
    "\n",
    "OTRA PISTA: para evitar que salga el contenido de la etiqueta `info` junto al nombre de la base de datos, haz uso del método [`extract`](https://www.crummy.com/software/BeautifulSoup/bs4/doc/#extract)."
   ]
  },
  {
   "cell_type": "code",
   "execution_count": 7,
   "id": "a49e556c",
   "metadata": {},
   "outputs": [
    {
     "name": "stdout",
     "output_type": "stream",
     "text": [
      "Oracle \n",
      "MySQL \n",
      "Microsoft SQL Server\n",
      "PostgreSQL \n",
      "MongoDB \n",
      "Redis \n",
      "Snowflake \n",
      "Elasticsearch\n",
      "IBM Db2\n",
      "SQLite\n"
     ]
    }
   ],
   "source": [
    "import requests\n",
    "from bs4 import BeautifulSoup\n",
    "\n",
    "URL = \"https://db-engines.com/en/ranking\"\n",
    "r = requests.get(URL)\n",
    "\n",
    "html_soup = BeautifulSoup(r.text)\n",
    "tabla=html_soup.select(\".dbi tr th.pad-l a\", limit=10)\n",
    "for nombres in tabla:\n",
    "    textCom=nombres.get_text()\n",
    "    print(textCom.split(\"Detailed\")[0])\n"
   ]
  },
  {
   "cell_type": "markdown",
   "id": "e60749fd",
   "metadata": {
    "id": "e60749fd"
   },
   "source": [
    "## EJERCICIO 7"
   ]
  },
  {
   "cell_type": "markdown",
   "id": "e7b12a5a",
   "metadata": {
    "id": "e7b12a5a"
   },
   "source": [
    "Haciendo uso de la librería `requests` y `BeautifulSoup`, recupera el nombre, los acabados, las medidas y el plazo de entrega del siguiente artículo: https://catalogoreina.com/nuestras-marcas-muebles-bano/10233-mueble-bano-con-patas-althea-moderno-3-cajones.html"
   ]
  },
  {
   "cell_type": "code",
   "execution_count": 8,
   "id": "5cfcbcf8",
   "metadata": {},
   "outputs": [
    {
     "name": "stdout",
     "output_type": "stream",
     "text": [
      "... Muebles de baño ALTHEA de 3 cajones.\n",
      "Acabados: Blanco Brillo, Antracita y Haya.\n",
      "Medidas: 60 - 70 - 80 - 100  x 82 x 45 cm.\n",
      "Plazo de entrega: De 12 a 18 días hábiles\n"
     ]
    }
   ],
   "source": [
    "import requests\n",
    "from bs4 import BeautifulSoup\n",
    "\n",
    "URL = \"https://catalogoreina.com/nuestras-marcas-muebles-bano/10233-mueble-bano-con-patas-althea-moderno-3-cajones.html\"\n",
    "r = requests.get(URL)\n",
    "html_soup = BeautifulSoup(r.text)\n",
    "nombre=html_soup.find(name='h1')\n",
    "print(nombre.get_text())\n",
    "acabMed = html_soup.select(\"#short_description_content p\")\n",
    "for i in range(len(acabMed) - 1):\n",
    "    print(acabMed[i].text)\n",
    "\n",
    "plazo = html_soup.select_one(\".page-product-box .rte p:nth-child(3) span\")\n",
    "print(plazo.text)\n",
    "\n",
    "\n",
    "\n"
   ]
  },
  {
   "cell_type": "markdown",
   "id": "765b822c",
   "metadata": {},
   "source": [
    "## <ins>Ejercicios Opcionales </ins>"
   ]
  },
  {
   "cell_type": "markdown",
   "id": "63c95369",
   "metadata": {},
   "source": [
    "## EJERCICIO 8"
   ]
  },
  {
   "cell_type": "markdown",
   "id": "f2ebf9a9",
   "metadata": {},
   "source": [
    "Esta base de datos también contiene una tabla orders con información de la cabecera de los pedidos de la tienda. En esta tabla existe una columna price que almacena el importe total del pedido. Construye a continuación un DataFrame con las cabeceras de pedidos ordenada por importe de manera descendente:"
   ]
  },
  {
   "cell_type": "markdown",
   "id": "5e8dcec8",
   "metadata": {},
   "source": [
    "## EJERCICIO 9"
   ]
  },
  {
   "cell_type": "markdown",
   "id": "636b544b",
   "metadata": {},
   "source": [
    "La base de datos también contiene las tablas web_pages y accesses con información de las páginas web de la empresa y de los accesos realizados a ellas respectivamente. Ambas tablas pueden relacionarse por el campo page_id. Inicializa un DataFrame que contenga los campos page_id y path de web_pages y el total de accesos realizado sobre cada una de ellas:"
   ]
  },
  {
   "cell_type": "markdown",
   "id": "d6a2a0e3",
   "metadata": {},
   "source": [
    "## EJERCICIO 10"
   ]
  },
  {
   "cell_type": "markdown",
   "id": "178aee78",
   "metadata": {},
   "source": [
    "Crea un diccionario Python que represente una factura en formato JSON:\n",
    "\n",
    "* Contendrá 4 campos cuyos valores puedes inventarte, pero siguiendo las siguientes indicaciones:\n",
    "  * **client_id**: identificador de cliente, de tipo cadena.\n",
    "  * **products**: array con al menos dos productos de tipo objeto. Cada objeto tendrá dos campos:\n",
    "    * **name**: de tipo cadena.\n",
    "    * **price**: de tipo numérico.\n",
    "  * **date**: de tipo cadena.\n",
    "  * **address**: de tipo objeto, con los siguientes campos:\n",
    "    * **street**: de tipo objeto, con los siguientes campos:\n",
    "      * **name**: de tipo cadena.\n",
    "      * **number**: de tipo numérico.\n",
    "    * **zipcode**: de tipo numérico.\n",
    "\n",
    "El diccionario tendrá que tener un formato tal que sea aceptado por el siguiente [validador](https://jsonlint.com/) de contenido JSON."
   ]
  },
  {
   "cell_type": "markdown",
   "id": "7618e719",
   "metadata": {},
   "source": [
    "## EJERCICIO 11"
   ]
  },
  {
   "cell_type": "markdown",
   "id": "24b89ce5",
   "metadata": {},
   "source": [
    "Utilizando la librería PyPDF4, recupera el número de páginas del siguiente PDF:\n",
    "```\n",
    "PDF_URL = 'https://www.mscbs.gob.es/profesionales/saludPublica/ccayes/alertasActual/nCov/documentos/Actualizacion_278_COVID-19.pdf'\n",
    "```"
   ]
  },
  {
   "cell_type": "markdown",
   "id": "863214e7",
   "metadata": {},
   "source": [
    "## EJERCICIO 12"
   ]
  },
  {
   "cell_type": "markdown",
   "id": "f065f31d",
   "metadata": {},
   "source": [
    "Utilizando la librería PyPDF4, recupera la fecha de creación del documento (campo /CreationDate de los metadatos):"
   ]
  },
  {
   "cell_type": "markdown",
   "id": "67a27f6c",
   "metadata": {},
   "source": [
    "## EJERCICIO 13"
   ]
  },
  {
   "cell_type": "markdown",
   "id": "9e80dc86",
   "metadata": {},
   "source": [
    "Extrae la información del pdf en tablas y obten aquella que contiene los Detalles de los quince países con más casos confirmados fuera de Europa.\n",
    "\n",
    "PISTA: esta tabla es la última del documento PDF. Utiliza la función len para obtener el total de tablas extraídas y saber cuál de ellas seleccionar."
   ]
  },
  {
   "cell_type": "markdown",
   "id": "e31aded0",
   "metadata": {},
   "source": [
    "## EJERCICIO 14"
   ]
  },
  {
   "cell_type": "markdown",
   "id": "fd167507",
   "metadata": {},
   "source": [
    "Mediante `read_excel`, carga el contenido de todas las hojas del fichero excel \"Orders-With Nulls.xlsx\", muestra el nombre de todas las hojas y muestra la hoja denominada `Summary`:"
   ]
  }
 ],
 "metadata": {
  "colab": {
   "provenance": []
  },
  "kernelspec": {
   "display_name": "base",
   "language": "python",
   "name": "python3"
  },
  "language_info": {
   "codemirror_mode": {
    "name": "ipython",
    "version": 3
   },
   "file_extension": ".py",
   "mimetype": "text/x-python",
   "name": "python",
   "nbconvert_exporter": "python",
   "pygments_lexer": "ipython3",
   "version": "3.12.4"
  }
 },
 "nbformat": 4,
 "nbformat_minor": 5
}
