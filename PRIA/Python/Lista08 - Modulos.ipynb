{
 "cells": [
  {
   "cell_type": "markdown",
   "id": "d287d88e",
   "metadata": {},
   "source": [
    "# LISTA 08- SCRIPTS Y MÓDULOS EN PYTHON"
   ]
  },
  {
   "cell_type": "markdown",
   "id": "b8cd5292",
   "metadata": {},
   "source": [
    "## <ins>Ejercicios Obligatorios </ins>"
   ]
  },
  {
   "cell_type": "markdown",
   "id": "e168c8c3",
   "metadata": {},
   "source": [
    "Estos ejercicios tienes que hacerlos creando scripts .py en tu equipo (puedes usar visual studio code)"
   ]
  },
  {
   "cell_type": "markdown",
   "id": "f99190d1",
   "metadata": {},
   "source": [
    "## EJERCICIO 1"
   ]
  },
  {
   "cell_type": "markdown",
   "id": "b3836703",
   "metadata": {},
   "source": [
    "Crea un script llamado vectors.py. Ábrelo y crea una clase llamada Vector2D. El constructor debe guardar las coordenadas x e y del vector."
   ]
  },
  {
   "cell_type": "markdown",
   "id": "feb0417e",
   "metadata": {},
   "source": [
    "## EJERCICIO 2"
   ]
  },
  {
   "cell_type": "markdown",
   "id": "91cd8f7c",
   "metadata": {},
   "source": [
    "Crea los siguientes métodos:\n",
    "* module: devuelve el módulo del vector. Recuerda que el módulo de un vector 2D se calcula como la raíz cuadrada de x2 + y2 . Para calcular raíces cuadradas, dispones del método math.sqrt().\n",
    "* scalar_prod: multiplica el vector por el número real dado por parámetro, que por defecto vale 1.\n",
    "* ```__str__```: muestra por pantalla el vector de la forma (x, y)."
   ]
  },
  {
   "cell_type": "code",
   "execution_count": 6,
   "id": "a502f428",
   "metadata": {},
   "outputs": [
    {
     "name": "stdout",
     "output_type": "stream",
     "text": [
      "3.605551275463989\n",
      "(6, 9)\n"
     ]
    }
   ],
   "source": [
    "from vectors import Vector2D\n",
    "\n",
    "v1=Vector2D(2,3)\n",
    "print(v1.module())\n",
    "v1.scalar(3)\n",
    "print(v1)\n"
   ]
  },
  {
   "cell_type": "markdown",
   "id": "abf81a65",
   "metadata": {},
   "source": [
    "## EJERCICIO 3"
   ]
  },
  {
   "cell_type": "markdown",
   "id": "c0dda757",
   "metadata": {},
   "source": [
    "Crea los siguientes métodos:\n",
    "* sum: dados dos vectores los suma y devuelve un objeto de la clase Vector2D.\n",
    "* subtract: dados dos vectores los resta y devuelve un objeto de la clase Vector2D."
   ]
  },
  {
   "cell_type": "code",
   "execution_count": 2,
   "id": "5d397d8d",
   "metadata": {},
   "outputs": [
    {
     "name": "stdout",
     "output_type": "stream",
     "text": [
      "(4, 4)\n",
      "(2, -2)\n"
     ]
    }
   ],
   "source": [
    "from vectors import Vector2D\n",
    "v2=Vector2D(3,1)\n",
    "v3=Vector2D(1,3)\n",
    "v4=Vector2D.sum(v2,v3)\n",
    "v5=Vector2D.restar(v2,v3)\n",
    "print(v4)\n",
    "print(v5)"
   ]
  },
  {
   "cell_type": "markdown",
   "id": "5c943554",
   "metadata": {},
   "source": [
    "## EJERCICIO 4"
   ]
  },
  {
   "cell_type": "markdown",
   "id": "13d2c744",
   "metadata": {},
   "source": [
    "Ahora crea la clase Vector3D que herede de la clase Vector2D. Empieza con el constructor para que además de las coordenadas x e y, también tome la coordenada z. Recuerda que puedes utilizar el método .super() para acceder a métodos de la clase padre."
   ]
  },
  {
   "cell_type": "code",
   "execution_count": 3,
   "id": "203ab49f",
   "metadata": {},
   "outputs": [
    {
     "name": "stdout",
     "output_type": "stream",
     "text": [
      "(1, 1, 1)\n"
     ]
    }
   ],
   "source": [
    "from vectors import  Vector3D\n",
    "\n",
    "v3D=Vector3D(1,1,1)\n",
    "print(v3D)\n"
   ]
  },
  {
   "cell_type": "markdown",
   "id": "2972dd7e",
   "metadata": {},
   "source": [
    "## EJERCICIO 5"
   ]
  },
  {
   "cell_type": "markdown",
   "id": "ef3c12ce",
   "metadata": {},
   "source": [
    "Crea en la clase Vector3D los métodos siguientes:\n",
    "* __str__: muestra el vector por pantalla de la forma (x, y, z).\n",
    "* module: al tener vectores 3D, el módulo se calcula como la raíz cuadrada de x<sup>2</sup> + y<sup>2</sup> + z<sup>2</sup>\n",
    "* scalar_prod, sum y subtract: adáptalos si es necesario para que trabajen con la clase Vector3D.\n",
    "* dot_product: ahora el producto escalar se calcula como u · v = u<sub>x</sub>v<sub>x</sub> + u<sub>y</sub>v<sub>y</sub> + u<sub>z</sub>v<sub>z</sub>\n",
    "* distance: la distancia se calcula como (u<sub>x</sub> - v<sub>x</sub>)<sup>2</sup> + (u<sub>y</sub> - v<sub>y</sub>)<sup>2</sup> + (u<sub>z</sub> - v<sub>zx</sub>)<sup>2</sup>\n",
    "\n",
    "Recuerda que dispones del método .super() para evitar repeticiones innecesarias de código."
   ]
  },
  {
   "cell_type": "code",
   "execution_count": 4,
   "id": "c2e86f63",
   "metadata": {},
   "outputs": [
    {
     "name": "stdout",
     "output_type": "stream",
     "text": [
      "(3, 4, 3)\n",
      "(-1, -2, -1)\n",
      "(2, 3, 2)\n",
      "2.449489742783178\n"
     ]
    }
   ],
   "source": [
    "from vectors import  Vector3D\n",
    "\n",
    "v3d1=Vector3D(1,1,1)\n",
    "v3d2=Vector3D(2,3,2)\n",
    "vsum=Vector3D.sum(v3d1,v3d2)\n",
    "print(vsum)\n",
    "vrest=Vector3D.restar(v3d1,v3d2)\n",
    "print(vrest)\n",
    "vprod=Vector3D.product(v3d1,v3d2)\n",
    "print(vprod)\n",
    "dist=Vector3D.distance(v3d1,v3d2)\n",
    "print(dist)"
   ]
  },
  {
   "cell_type": "markdown",
   "id": "aa11c482",
   "metadata": {},
   "source": [
    "## EJERCICIO 6"
   ]
  },
  {
   "cell_type": "markdown",
   "id": "b4d805e5",
   "metadata": {},
   "source": [
    "En otro script de Python importa la clase Vector2D, crea dos objetos de la clase Vector2D y prueba que todos los métodos de la clase Vector2D funcionan correctamente."
   ]
  },
  {
   "cell_type": "markdown",
   "id": "e8dec722",
   "metadata": {},
   "source": [
    "## <ins>Ejercicios Opcionales </ins>"
   ]
  },
  {
   "cell_type": "markdown",
   "id": "4d68e82b",
   "metadata": {},
   "source": [
    "## EJERCICIO 7"
   ]
  },
  {
   "cell_type": "markdown",
   "id": "ec7f3b2a",
   "metadata": {},
   "source": [
    "Crea los siguientes métodos:\n",
    "* dot_product: dados dos vectores calcula su producto escalar. El producto escalar se calcula como u · v = u<sub>x</sub>v<sub>x</sub> + u<sub>y</sub>v<sub>y</sub>\n",
    "* distance: dados dos vectores calcula la distancia entre ellos. La distancia se calcula como la raíz cuadrada (u<sub>x</sub> - v<sub>x</sub>)<sup>2</sup> + (u<sub>y</sub> - v<sub>y</sub>)<sup>2</sup>"
   ]
  },
  {
   "cell_type": "markdown",
   "id": "cbbfb36c",
   "metadata": {},
   "source": [
    "## EJERCICIO 8"
   ]
  },
  {
   "cell_type": "markdown",
   "id": "f0211a75",
   "metadata": {},
   "source": [
    "Crea en la clase Vector3D los métodos siguientes:\n",
    "* zero: devuelve un objeto Vector3D con todas sus componentes 0.\n",
    "* horizontal: devuelve un objeto Vector3D con todas sus componentes 0 salvo la primera que valdrá 1.\n",
    "* vertical: devuelve un objeto Vector3D con todas sus componentes 0 salvo la segunda que valdrá 1.\n",
    "* forward: devuelve un objeto Vector3D con todas sus componentes 0 salvo la tercera que valdrá 1."
   ]
  },
  {
   "cell_type": "markdown",
   "id": "59397f22",
   "metadata": {},
   "source": [
    "## EJERCICIO 9"
   ]
  },
  {
   "cell_type": "markdown",
   "id": "8272bcdf",
   "metadata": {},
   "source": [
    "Crea en la clase Vector2D el método de instancia .extend_to_3D() que devuelva un objeto de la clase Vector3D siendo la componente z el valor indicado por parámetro, que por defecto valdrá 0."
   ]
  },
  {
   "cell_type": "markdown",
   "id": "b97cdccc",
   "metadata": {},
   "source": [
    "## EJERCICIO 10"
   ]
  },
  {
   "cell_type": "markdown",
   "id": "4bbf4135",
   "metadata": {},
   "source": [
    "Ahora importa la clase Vector3D, crea dos objetos de la clase Vector3D y prueba que todos los métodos de la clase Vector3D funcionan correctamente."
   ]
  }
 ],
 "metadata": {
  "kernelspec": {
   "display_name": "base",
   "language": "python",
   "name": "python3"
  },
  "language_info": {
   "codemirror_mode": {
    "name": "ipython",
    "version": 3
   },
   "file_extension": ".py",
   "mimetype": "text/x-python",
   "name": "python",
   "nbconvert_exporter": "python",
   "pygments_lexer": "ipython3",
   "version": "3.12.4"
  }
 },
 "nbformat": 4,
 "nbformat_minor": 5
}
