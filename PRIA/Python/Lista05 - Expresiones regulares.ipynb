{
 "cells": [
  {
   "cell_type": "markdown",
   "id": "d287d88e",
   "metadata": {},
   "source": [
    "# LISTA 5 - EXPRESIONES REGULARES - regex101.com\n",
    "## <ins>Ejercicios Obligatorios </ins>"
   ]
  },
  {
   "cell_type": "markdown",
   "id": "f99190d1",
   "metadata": {},
   "source": [
    "## EJERCICIO 1"
   ]
  },
  {
   "cell_type": "markdown",
   "id": "b3836703",
   "metadata": {},
   "source": [
    "El siguiente texto contiene una secuencia de palabras delimitadas por espacios y caracteres de puntuación (puntos y comas). Elabora una expresión regular a partir de la cual podamos descomponer (método split) el texto en todas las palabras que lo componen:\n",
    "\n",
    "Alternativamente, TAMBIÉN puedes buscar (método findall) todas las palabras existentes en el texto.\n",
    "```\n",
    "TEXTO = \"\"\"En un lugar de la Mancha, de cuyo nombre no quiero acordarme, \n",
    "no ha mucho tiempo que vivía un hidalgo de los de lanza en astillero, \n",
    "adarga antigua, rocín flaco y galgo corredor\"\"\"\n",
    "```"
   ]
  },
  {
   "cell_type": "code",
   "execution_count": 2,
   "id": "2462db6b",
   "metadata": {},
   "outputs": [
    {
     "data": {
      "text/plain": [
       "['En',\n",
       " 'un',\n",
       " 'lugar',\n",
       " 'de',\n",
       " 'la',\n",
       " 'Mancha',\n",
       " 'de',\n",
       " 'cuyo',\n",
       " 'nombre',\n",
       " 'no',\n",
       " 'quiero',\n",
       " 'acordarme',\n",
       " 'no',\n",
       " 'ha',\n",
       " 'mucho',\n",
       " 'tiempo',\n",
       " 'que',\n",
       " 'vivía',\n",
       " 'un',\n",
       " 'hidalgo',\n",
       " 'de',\n",
       " 'los',\n",
       " 'de',\n",
       " 'lanza',\n",
       " 'en',\n",
       " 'astillero',\n",
       " 'adarga',\n",
       " 'antigua',\n",
       " 'rocín',\n",
       " 'flaco',\n",
       " 'y',\n",
       " 'galgo',\n",
       " 'corredor']"
      ]
     },
     "execution_count": 2,
     "metadata": {},
     "output_type": "execute_result"
    }
   ],
   "source": [
    "import re\n",
    "\n",
    "TEXTO = \"\"\"En un lugar de la Mancha, de cuyo nombre no quiero acordarme, \n",
    "no ha mucho tiempo que vivía un hidalgo de los de lanza en astillero, \n",
    "adarga antigua, rocín flaco y galgo corredor\"\"\"\n",
    "\n",
    "p = re.compile(r\"[a-záéíóú]+\",re.IGNORECASE)\n",
    "p.findall(TEXTO)\n"
   ]
  },
  {
   "cell_type": "markdown",
   "id": "feb0417e",
   "metadata": {},
   "source": [
    "## EJERCICIO 2"
   ]
  },
  {
   "cell_type": "markdown",
   "id": "91cd8f7c",
   "metadata": {},
   "source": [
    "Escribe una expresión regular que capture los años del siguiente texto acerca de la historia de España obtenido de la Wikipedia:\n",
    "```\n",
    "TEXTO = \"\"\"En 1492 los Reyes Católicos financiaron el proyecto del navegante Cristóbal \n",
    "Colón en la búsqueda de una nueva ruta comercial con Asia a través del océano \n",
    "Atlántico, y proclamarían la expulsión de los judíos. La llegada al Nuevo Mundo \n",
    "y la posterior conquista de América forjaron la creación del Imperio español. \n",
    "Durante los siguientes siglos España se alzaría como actor principal del mundo \n",
    "occidental y primera potencia de la época. Durante los siglos xvi y xvii \n",
    "tendría lugar también la época de mayor apogeo de la cultura y las artes \n",
    "hispanas conocida como Siglo de Oro.\n",
    "\n",
    "El Imperio español en 1580, tras la unificación de la península ibérica bajo un \n",
    "único rey español Felipe II, comprendía América del Sur, América Central y el \n",
    "Caribe, grandes áreas de América del Norte en diferentes grados de influencia o \n",
    "control, las islas Filipinas en Asia, así como enclaves de diversa importancia \n",
    "en las costas de África y la India. Incluía además numerosas posesiones en \n",
    "Europa, los Países Bajos españoles, el Ducado de Milán o el Reino de Nápoles, la \n",
    "mayoría de ellas perdidas tras la paz de Utrecht de 1713.\"\"\"\n",
    "```"
   ]
  },
  {
   "cell_type": "code",
   "execution_count": 6,
   "id": "4efa77c0",
   "metadata": {},
   "outputs": [
    {
     "data": {
      "text/plain": [
       "['1492', '1580', '1713']"
      ]
     },
     "execution_count": 6,
     "metadata": {},
     "output_type": "execute_result"
    }
   ],
   "source": [
    "TEXTO = \"\"\"En 1492 los Reyes Católicos financiaron el proyecto del navegante Cristóbal \n",
    "Colón en la búsqueda de una nueva ruta comercial con Asia a través del océano \n",
    "Atlántico, y proclamarían la expulsión de los judíos. La llegada al Nuevo Mundo \n",
    "y la posterior conquista de América forjaron la creación del Imperio español. \n",
    "Durante los siguientes siglos España se alzaría como actor principal del mundo \n",
    "occidental y primera potencia de la época. Durante los siglos xvi y xvii \n",
    "tendría lugar también la época de mayor apogeo de la cultura y las artes \n",
    "hispanas conocida como Siglo de Oro.\n",
    "\n",
    "El Imperio español en 1580, tras la unificación de la península ibérica bajo un \n",
    "único rey español Felipe II, comprendía América del Sur, América Central y el \n",
    "Caribe, grandes áreas de América del Norte en diferentes grados de influencia o \n",
    "control, las islas Filipinas en Asia, así como enclaves de diversa importancia \n",
    "en las costas de África y la India. Incluía además numerosas posesiones en \n",
    "Europa, los Países Bajos españoles, el Ducado de Milán o el Reino de Nápoles, la \n",
    "mayoría de ellas perdidas tras la paz de Utrecht de 1713.\"\"\"\n",
    "\n",
    "\n",
    "\n",
    "p = re.compile(r\"[0-9]+\")\n",
    "p.findall(TEXTO)\n"
   ]
  },
  {
   "cell_type": "markdown",
   "id": "abf81a65",
   "metadata": {},
   "source": [
    "## EJERCICIO 3"
   ]
  },
  {
   "cell_type": "markdown",
   "id": "c0dda757",
   "metadata": {},
   "source": [
    "Escribe una expresión regular que detecte caracteres simbólicos (\\W) repetidos y los sustituya por una única ocurrencia:\n",
    "\n",
    "PISTA: puedes referenciar a un grupo previamente capturado mediante \\\\{número}.\n",
    "```\n",
    "TEXTO = \"¡¡¡¡¡¡¡QUÉ SORPRESA!!!!!!!\"\n",
    "```"
   ]
  },
  {
   "cell_type": "code",
   "execution_count": 3,
   "id": "3d6b16c0",
   "metadata": {},
   "outputs": [
    {
     "data": {
      "text/plain": [
       "'¡QUÉ SORPRESA!'"
      ]
     },
     "execution_count": 3,
     "metadata": {},
     "output_type": "execute_result"
    }
   ],
   "source": [
    "TEXTO = \"¡¡¡¡¡¡¡QUÉ SORPRESA!!!!!!!\"\n",
    "\n",
    "\n",
    "p = re.compile(r\"(\\W)+\")\n",
    "p.sub(r\"\\1\", TEXTO)\n"
   ]
  },
  {
   "cell_type": "markdown",
   "id": "4d68e82b",
   "metadata": {},
   "source": [
    "## EJERCICIO 4"
   ]
  },
  {
   "cell_type": "markdown",
   "id": "ec7f3b2a",
   "metadata": {},
   "source": [
    "Escribe una expresión regular que detecte palabras repetidas y las reemplace por una única ocurrencia:\n",
    "\n",
    "PISTA: metacaracteres \\w y \\b.\n",
    "```\n",
    "TEXTO = \"Me lo he pasado muy muy muy bien.\"\n",
    "```"
   ]
  },
  {
   "cell_type": "code",
   "execution_count": 1,
   "id": "088f391d",
   "metadata": {},
   "outputs": [
    {
     "ename": "NameError",
     "evalue": "name 're' is not defined",
     "output_type": "error",
     "traceback": [
      "\u001b[0;31m---------------------------------------------------------------------------\u001b[0m",
      "\u001b[0;31mNameError\u001b[0m                                 Traceback (most recent call last)",
      "Cell \u001b[0;32mIn[1], line 2\u001b[0m\n\u001b[1;32m      1\u001b[0m TEXTO \u001b[38;5;241m=\u001b[39m \u001b[38;5;124m\"\u001b[39m\u001b[38;5;124mMe lo he pasado muy muy muy bien.\u001b[39m\u001b[38;5;124m\"\u001b[39m\n\u001b[0;32m----> 2\u001b[0m re\u001b[38;5;241m.\u001b[39msub(\u001b[38;5;124mr\u001b[39m\u001b[38;5;124m'\u001b[39m\u001b[38;5;124m\\\u001b[39m\u001b[38;5;124mb(\u001b[39m\u001b[38;5;124m\\\u001b[39m\u001b[38;5;124mw+)( \u001b[39m\u001b[38;5;124m\\\u001b[39m\u001b[38;5;124m1)+\u001b[39m\u001b[38;5;124m\\\u001b[39m\u001b[38;5;124mb\u001b[39m\u001b[38;5;124m'\u001b[39m, \u001b[38;5;124mr\u001b[39m\u001b[38;5;124m'\u001b[39m\u001b[38;5;124m\\\u001b[39m\u001b[38;5;124m1\u001b[39m\u001b[38;5;124m'\u001b[39m, TEXTO)\n",
      "\u001b[0;31mNameError\u001b[0m: name 're' is not defined"
     ]
    }
   ],
   "source": [
    "TEXTO = \"Me lo he pasado muy muy muy bien.\"\n",
    "re.sub(r'\\b(\\w+)( \\1)+\\b', r'\\1', TEXTO)\n"
   ]
  },
  {
   "cell_type": "markdown",
   "id": "5c943554",
   "metadata": {},
   "source": [
    "## EJERCICIO 5"
   ]
  },
  {
   "cell_type": "markdown",
   "id": "f2fe60bc",
   "metadata": {},
   "source": [
    "Escribe una expresión regular que extraiga las direcciones de correo electrónico y los importes del siguiente texto. Asigna al grupo que contenga el email el nombre correo y al que contenga el importe precio:\n",
    "```\n",
    "TEXTO = \"\"\"Se ha facturado un total de 1500 € al usuario test@dominio.es durante \n",
    "el año 2019. Otros usuarios, como prueba@otro.com o new@contact.com han gastado \n",
    "solamente 500€.\"\"\"\n",
    "```\n"
   ]
  },
  {
   "cell_type": "code",
   "execution_count": 22,
   "id": "7070ba5a",
   "metadata": {},
   "outputs": [
    {
     "name": "stdout",
     "output_type": "stream",
     "text": [
      "Precio: 1500 €\n",
      "Correo: test@dominio.es\n",
      "Correo: prueba@otro.com\n",
      "Correo: new@contact.com\n",
      "Precio: 500€\n"
     ]
    }
   ],
   "source": [
    "TEXTO = \"\"\"Se ha facturado un total de 1500 € al usuario test@dominio.es durante \n",
    "el año 2019. Otros usuarios, como prueba@otro.com o new@contact.com han gastado \n",
    "solamente 500€.\"\"\"\n",
    "\n",
    "p = re.compile(r'(?P<correo>\\w+@+\\w+\\.+\\w{2,})|(?P<precio>\\d+\\s?€)')\n",
    "\n",
    "for match in p.finditer(TEXTO):\n",
    "    if match.group('correo'):\n",
    "        print(f\"Correo: {match.group('correo')}\")\n",
    "    if match.group('precio'):\n",
    "        print(f\"Precio: {match.group('precio')}\")\n"
   ]
  },
  {
   "cell_type": "markdown",
   "id": "2972dd7e",
   "metadata": {},
   "source": [
    "## EJERCICIO 6"
   ]
  },
  {
   "cell_type": "markdown",
   "id": "ef3c12ce",
   "metadata": {},
   "source": [
    "Dada la siguiente enumeración de números de teléfono con diferentes formatos, prepara una expresión regular que sea capaz de reconocerlos y de devolverlos con el mismo formato:\n",
    "```\n",
    "TELEFONOS = \"968 12 23 31, 900 141 142, 945112233, 656-247733\"\n",
    "```"
   ]
  },
  {
   "cell_type": "code",
   "execution_count": 29,
   "id": "ce2da724",
   "metadata": {},
   "outputs": [
    {
     "name": "stdout",
     "output_type": "stream",
     "text": [
      "['968122331', '900141142', '945112233', '656247733']\n"
     ]
    }
   ],
   "source": [
    "TELEFONOS = \"968 12 23 31, 900 141 142, 945112233, 656-247733\"\n",
    "\n",
    "patron = r'(\\d{3} \\d{2} \\d{2} \\d{2}|\\d{3} \\d{3} \\d{3}|\\d{9}|\\d{3}-\\d{6})'\n",
    "\n",
    "numeros_encontrados = re.findall(patron, TELEFONOS)\n",
    "\n",
    "numeros_9_digitos = []\n",
    "for numero in numeros_encontrados:   \n",
    "    numero_limpio = re.sub(r'\\D', '', numero) \n",
    "    numeros_9_digitos.append(numero_limpio)\n",
    "\n",
    "print(numeros_9_digitos)\n"
   ]
  },
  {
   "cell_type": "markdown",
   "id": "7d7c4a0d",
   "metadata": {},
   "source": [
    "## EJERCICIO 7"
   ]
  },
  {
   "cell_type": "markdown",
   "id": "1c5d3b3f",
   "metadata": {},
   "source": [
    "\n",
    "Validación de direcciones de correo electrónico. Escribe una expresión regular que valide si una dirección de correo electrónico es correcta según el formato estándar. El formato debe ser nombre@dominio.ext, donde:\n",
    "\n",
    "<ul>\n",
    "    <li>nombre puede contener letras, números, puntos, guiones bajos y guiones.</li>\n",
    "    <li>dominio puede contener letras y números.</li>\n",
    "    <li>ext debe ser de 2 a 6 letras (por ejemplo, .com, .es, .info).</li>\n",
    "</ul>"
   ]
  },
  {
   "cell_type": "code",
   "execution_count": 52,
   "id": "09b73fe9",
   "metadata": {},
   "outputs": [
    {
     "name": "stdout",
     "output_type": "stream",
     "text": [
      "['asda@asf.com', 'jon2545@gmail.com', 'joritz@gmail.qwerty', 'prueba@ejemplo.info']\n"
     ]
    }
   ],
   "source": [
    "import re\n",
    "\n",
    "prueba = \"asda@asf.com jon2545@gmail.com @.com joritz@gmail.qwerty prueba@ejemplo.info prueba_incorrecta@.com prueba@ejemplo.c\"\n",
    "\n",
    "patron = r'[a-zA-Z0-9._-]+@[a-zA-Z0-9]+\\.(?:[a-zA-Z]{2,6})'\n",
    "\n",
    "correos_encontrados = re.findall(patron, prueba)\n",
    "\n",
    "print(correos_encontrados)\n"
   ]
  }
 ],
 "metadata": {
  "kernelspec": {
   "display_name": "base",
   "language": "python",
   "name": "python3"
  },
  "language_info": {
   "codemirror_mode": {
    "name": "ipython",
    "version": 3
   },
   "file_extension": ".py",
   "mimetype": "text/x-python",
   "name": "python",
   "nbconvert_exporter": "python",
   "pygments_lexer": "ipython3",
   "version": "3.12.4"
  }
 },
 "nbformat": 4,
 "nbformat_minor": 5
}
