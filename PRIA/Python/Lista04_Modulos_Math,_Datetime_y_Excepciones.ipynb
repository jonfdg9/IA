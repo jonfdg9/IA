{
  "cells": [
    {
      "cell_type": "markdown",
      "id": "d287d88e",
      "metadata": {
        "id": "d287d88e"
      },
      "source": [
        "# LISTA 10 - MODULOS MATH, DATETIME Y EXCEPCIONES"
      ]
    },
    {
      "cell_type": "markdown",
      "id": "3b5dac37",
      "metadata": {
        "id": "3b5dac37"
      },
      "source": [
        "## <ins>Ejercicios Obligatorios </ins>"
      ]
    },
    {
      "cell_type": "markdown",
      "id": "f99190d1",
      "metadata": {
        "id": "f99190d1"
      },
      "source": [
        "## MODULO MATH"
      ]
    },
    {
      "cell_type": "markdown",
      "id": "e38807ed-ac94-4575-ad88-c53e775cf3b1",
      "metadata": {
        "id": "e38807ed-ac94-4575-ad88-c53e775cf3b1"
      },
      "source": [
        "## EJERCICIO 1"
      ]
    },
    {
      "cell_type": "markdown",
      "id": "5001702b-dac9-4ca0-b6ce-4a1a2f9f9d1a",
      "metadata": {
        "id": "5001702b-dac9-4ca0-b6ce-4a1a2f9f9d1a",
        "tags": []
      },
      "source": [
        "Escriba un programa Python para convertir grados a radianes.\n",
        "\n",
        "Nota: El radian es la unidad estándar de medida angular, utilizada en muchas áreas de las matemáticas.\n",
        "La medida de un ángulo en radianes es numéricamente igual a la longitud de un arco correspondiente de un círculo unitario;\n",
        "un radian equivale a poco menos de 57,3 grados (cuando la longitud del arco es igual al radio).\n",
        "\n",
        "Datos de prueba:\n",
        "Grado : 15\n",
        "Resultado esperado en radianes: 0,2619047619047619"
      ]
    },
    {
      "cell_type": "code",
      "execution_count": null,
      "id": "7c25d5e4-8edf-4e54-88e6-2d6214d6e1e7",
      "metadata": {
        "colab": {
          "base_uri": "https://localhost:8080/"
        },
        "id": "7c25d5e4-8edf-4e54-88e6-2d6214d6e1e7",
        "outputId": "e458a133-19e6-4b52-ee2f-b616ed170a45"
      },
      "outputs": [
        {
          "name": "stdout",
          "output_type": "stream",
          "text": [
            "-0.2617993877991494\n"
          ]
        }
      ],
      "source": [
        "import math as m\n",
        "\n",
        "print(m.radians(-15))"
      ]
    },
    {
      "cell_type": "code",
      "execution_count": null,
      "id": "_KXWw2qRHkSq",
      "metadata": {
        "id": "_KXWw2qRHkSq"
      },
      "outputs": [],
      "source": []
    },
    {
      "cell_type": "markdown",
      "id": "a84c6a7e-6e46-4798-bdbd-6e5034562439",
      "metadata": {
        "id": "a84c6a7e-6e46-4798-bdbd-6e5034562439"
      },
      "source": [
        "## EJERCICIO 2"
      ]
    },
    {
      "cell_type": "markdown",
      "id": "8cf0595a-cab0-48e9-a4fd-1e8b363f070d",
      "metadata": {
        "id": "8cf0595a-cab0-48e9-a4fd-1e8b363f070d"
      },
      "source": [
        "Escriba un programa Python para calcular el volumen superficial y el área de un cilindro.\n",
        "\n",
        "Nota: Un cilindro es una de las formas geométricas curvilíneas más básicas,\n",
        "la superficie formada por los puntos a una distancia fija de una línea recta determinada, el eje del cilindro.\n",
        "\n",
        "Datos de prueba:\n",
        "volumen: Altura (4), Radio (6)\n",
        "\n",
        "Rendimiento esperado:\n",
        "El volumen es: 452.57142857142856\n",
        "El área de superficie es: 377.1428571428571"
      ]
    },
    {
      "cell_type": "code",
      "execution_count": null,
      "id": "e5ec59b9-1e2d-4c1f-a6a0-93917ead5c0e",
      "metadata": {
        "colab": {
          "base_uri": "https://localhost:8080/"
        },
        "id": "e5ec59b9-1e2d-4c1f-a6a0-93917ead5c0e",
        "outputId": "e331d19b-9cc8-4bed-c53d-3508f118b1f7"
      },
      "outputs": [
        {
          "name": "stdout",
          "output_type": "stream",
          "text": [
            "El volumen es: 452.3893421169302 y el area de  superficie es: 376.99111843077515\n",
            "376.99111843077515\n"
          ]
        }
      ],
      "source": [
        "import math as m\n",
        "\n",
        "altura=4\n",
        "radio=6\n",
        "\n",
        "\n",
        "print(f\"El volumen es: {m.pi*m.pow(radio,2)*altura} y el area de  superficie es: {2*m.pi*radio*(radio+altura)}\")\n",
        "print(120*m.pi)"
      ]
    },
    {
      "cell_type": "markdown",
      "id": "6aabcb23-baf4-49d8-aa4d-d57f0ec9570a",
      "metadata": {
        "id": "6aabcb23-baf4-49d8-aa4d-d57f0ec9570a"
      },
      "source": [
        "## EJERCICIO 3"
      ]
    },
    {
      "cell_type": "markdown",
      "id": "a986fa9c-70de-44b5-9e62-d679fc03bc99",
      "metadata": {
        "id": "a986fa9c-70de-44b5-9e62-d679fc03bc99"
      },
      "source": [
        "Escriba un programa Python para calcular la diferencia entre la suma al cuadrado de los primeros n números naturales y\n",
        "la suma de los primeros n números naturales al cuadrado (valor predeterminado de número = 2).\n",
        "\n",
        "Datos de prueba:\n",
        "Si suma_diferencia(12)\n",
        "\n",
        "Rendimiento esperado :\n",
        "5434"
      ]
    },
    {
      "cell_type": "code",
      "execution_count": null,
      "id": "MZ8CiBcpJ8Ek",
      "metadata": {
        "colab": {
          "base_uri": "https://localhost:8080/"
        },
        "id": "MZ8CiBcpJ8Ek",
        "outputId": "cc04ec0e-5645-48b2-d34e-ada90b934e1b"
      },
      "outputs": [
        {
          "name": "stdout",
          "output_type": "stream",
          "text": [
            "La suma al cuadrado es: 6084.0 y 650 y la resta es 5434.0\n"
          ]
        }
      ],
      "source": [
        "n=12\n",
        "cont=0\n",
        "contPow=0\n",
        "for i in range(1,n+1):\n",
        "  cont+=i\n",
        "  contPow+=i*i\n",
        "\n",
        "print(f\"La suma al cuadrado es: {m.pow(cont,2)} y {contPow} y la resta es {m.fabs(m.pow(cont,2)-contPow)}\")\n",
        "\n",
        "\n"
      ]
    },
    {
      "cell_type": "code",
      "execution_count": null,
      "id": "5f2a5dd8-e034-4e73-a563-f202353df2cf",
      "metadata": {
        "id": "5f2a5dd8-e034-4e73-a563-f202353df2cf"
      },
      "outputs": [],
      "source": []
    },
    {
      "cell_type": "markdown",
      "id": "922c88ea-96a8-4ef1-a7f1-a395815c32ae",
      "metadata": {
        "id": "922c88ea-96a8-4ef1-a7f1-a395815c32ae"
      },
      "source": [
        "## EJERCICIO 4"
      ]
    },
    {
      "cell_type": "markdown",
      "id": "a4f92524-6938-44d9-83aa-0651933e94a3",
      "metadata": {
        "id": "a4f92524-6938-44d9-83aa-0651933e94a3"
      },
      "source": [
        "Escriba un programa Python para implementar el algoritmo euclidiano para calcular el máximo común divisor (MCD).\n",
        "\n",
        "Rendimiento esperado :\n",
        "\n",
        "304 = 2 * 150 + 4\n",
        "150 = 37 * 4 + 2\n",
        "4 = 2 * 2 + 0\n",
        "mcd es 2\n",
        ".........\n",
        "6 = 2 * 3 + 0\n",
        "mcd es 3\n"
      ]
    },
    {
      "cell_type": "code",
      "execution_count": null,
      "id": "AepRKOXON_Pf",
      "metadata": {
        "colab": {
          "base_uri": "https://localhost:8080/"
        },
        "id": "AepRKOXON_Pf",
        "outputId": "3d7b3f74-225c-4615-c20f-79fe766aac5d"
      },
      "outputs": [
        {
          "data": {
            "text/plain": [
              "12"
            ]
          },
          "execution_count": 26,
          "metadata": {},
          "output_type": "execute_result"
        }
      ],
      "source": [
        "def mcd(a,b):\n",
        "  while(b!=0):\n",
        "    a,b= b, a%b\n",
        "  return a\n",
        "\n",
        "mcd(156,120)\n"
      ]
    },
    {
      "cell_type": "code",
      "execution_count": null,
      "id": "082e279c-8bfb-41bf-86ad-82c874292926",
      "metadata": {
        "id": "082e279c-8bfb-41bf-86ad-82c874292926"
      },
      "outputs": [],
      "source": []
    },
    {
      "cell_type": "markdown",
      "id": "2327c30f-6f55-4746-b9f9-f45b2f3fa4e7",
      "metadata": {
        "id": "2327c30f-6f55-4746-b9f9-f45b2f3fa4e7"
      },
      "source": [
        "## EJERCICIO 5"
      ]
    },
    {
      "cell_type": "markdown",
      "id": "5d487a6a-35ca-4a2d-b541-7cd24ea92609",
      "metadata": {
        "id": "5d487a6a-35ca-4a2d-b541-7cd24ea92609"
      },
      "source": [
        "Escriba un programa Python para crear una calculadora del teorema de Pitágoras.\n",
        "\n",
        "Nota: En matemáticas, el teorema de Pitágoras, también conocido como teorema de Pitágoras,\n",
        "es una relación fundamental en la geometría euclidiana entre los tres lados de un triángulo rectángulo.\n",
        "Dice que el cuadrado de la hipotenusa (el lado opuesto al ángulo recto) es igual a la suma de los cuadrados\n",
        "de los otros dos lados.\n",
        "\n",
        "Rendimiento esperado :\n",
        "\n",
        "¡Calculadora del teorema de Pitágoras! Calcula los lados de tu triángulo.\n",
        "Supongamos que los lados son a, b, c y c es la hipotenusa (el lado opuesto al derecho\n",
        " ángulo\n",
        "¿Qué lado (a, b, c) deseas calcular? lado>a\n",
        "Ingrese la longitud del lado b:10\n",
        "Introduzca la longitud del lado c:20\n",
        "La longitud del lado a es\n",
        "17.320508075688775"
      ]
    },
    {
      "cell_type": "code",
      "execution_count": null,
      "id": "f80b2984-ac8d-4970-9927-6a0afb16b6d2",
      "metadata": {
        "colab": {
          "base_uri": "https://localhost:8080/"
        },
        "id": "f80b2984-ac8d-4970-9927-6a0afb16b6d2",
        "outputId": "4b65fc42-27be-4b6b-eb66-8d836bd4357f"
      },
      "outputs": [
        {
          "name": "stdout",
          "output_type": "stream",
          "text": [
            "Quieres sacar la hipotenusa? (H) Quieres sacar un lado (L) L\n",
            "Introduce valor del lado 10\n",
            "Introduce el valor de la hipotenusa20\n",
            "El valor del lado es 17.32\n"
          ]
        }
      ],
      "source": [
        "import math as m\n",
        "cadena = input(\"Quieres sacar la hipotenusa? (H) Quieres sacar un lado (L) \")\n",
        "while(cadena!=\"H\" and cadena!=\"L\"):\n",
        "  cadena = input(\"Quieres sacar la hipotenusa? (H) Quieres sacar un lado (L) \")\n",
        "if(cadena.lower()==\"h\"):\n",
        "  a =float( input(\"Introduce valor de a \"))\n",
        "  while(a<=0):\n",
        "    a =float( input(\"Introduce valor de a \"))\n",
        "  b = float( input(\"Introduce el valor de b  \"))\n",
        "  while(b<=0):\n",
        "    b =float( input(\"Introduce valor de b \"))\n",
        "  print(f\"El valor de la hipotenusa es {m.sqrt(m.pow(b,2)+m.pow(a,2)):.2f}\")\n",
        "else:\n",
        "  a =float( input(\"Introduce valor del lado \"))\n",
        "  while(a<=0):\n",
        "    a =float( input(\"Introduce valor del lado \"))\n",
        "  c = float( input(\"Introduce el valor de la hipotenusa\"))\n",
        "  while(b<=0):\n",
        "    c =float( input(\"Introduce el valor de la hipotenusa\"))\n",
        "  print(f\"El valor del lado es {m.sqrt(m.pow(c,2)-m.pow(a,2)):.2f}\")"
      ]
    },
    {
      "cell_type": "markdown",
      "id": "269c4b20-4a4d-4c25-bc8d-090abc7f4dad",
      "metadata": {
        "id": "269c4b20-4a4d-4c25-bc8d-090abc7f4dad"
      },
      "source": [
        "## MODULO DATE TIME"
      ]
    },
    {
      "cell_type": "markdown",
      "id": "4e700cd7-0b76-466f-b769-abfeb7c8a5c4",
      "metadata": {
        "id": "4e700cd7-0b76-466f-b769-abfeb7c8a5c4"
      },
      "source": [
        "## EJERCICIO 6"
      ]
    },
    {
      "cell_type": "markdown",
      "id": "1d0e5894-7eaa-4010-ae50-4c0ba58e7857",
      "metadata": {
        "id": "1d0e5894-7eaa-4010-ae50-4c0ba58e7857"
      },
      "source": [
        "Escriba un script de Python para mostrar los distintos formatos de fecha y hora:\n",
        "a) Fecha y hora actuales\n",
        "b) año en curso\n",
        "c) Mes del año\n",
        "d) Número de semana del año\n",
        "e) Día laborable de la semana\n",
        "f) Día del año\n",
        "g) Día del mes\n",
        "h) Día de la semana"
      ]
    },
    {
      "cell_type": "code",
      "execution_count": null,
      "id": "c38aad9c-aa2d-4a4c-8dd3-0afe3d2cb947",
      "metadata": {
        "colab": {
          "base_uri": "https://localhost:8080/"
        },
        "id": "c38aad9c-aa2d-4a4c-8dd3-0afe3d2cb947",
        "outputId": "f025948d-6ea2-4bf4-f3b6-c64a02a5cb8d"
      },
      "outputs": [
        {
          "name": "stdout",
          "output_type": "stream",
          "text": [
            "26-09-2024 18:23:20\n",
            "2024\n",
            "09\n",
            "39\n",
            "Thu\n",
            "270\n",
            "26\n",
            "4\n"
          ]
        }
      ],
      "source": [
        "import datetime as dt\n",
        "\n",
        "today = dt.datetime.now()\n",
        "\n",
        "print(today.strftime(\"%d-%m-%Y %H:%M:%S\"))\n",
        "print(today.strftime(\"%Y\"))\n",
        "print(today.strftime(\"%m\"))\n",
        "print(today.strftime(\"%W\"))\n",
        "print(today.strftime(\"%a\"))\n",
        "print(today.strftime(\"%j\"))\n",
        "print(today.strftime(\"%d\"))\n",
        "print(today.strftime(\"%u\"))\n"
      ]
    },
    {
      "cell_type": "markdown",
      "id": "51834dc8-91dd-49d1-adf6-ec489068b5f2",
      "metadata": {
        "id": "51834dc8-91dd-49d1-adf6-ec489068b5f2"
      },
      "source": [
        "## EJERCICIO 7"
      ]
    },
    {
      "cell_type": "markdown",
      "id": "46e61586-83a9-44fd-a502-a17008540c1a",
      "metadata": {
        "id": "46e61586-83a9-44fd-a502-a17008540c1a"
      },
      "source": [
        "Escriba un programa Python para restar cinco días de la fecha actual.\n",
        "Fecha de muestra:\n",
        "Fecha actual: 2015-06-22\n",
        "5 días antes Fecha actual: 2015-06-17"
      ]
    },
    {
      "cell_type": "code",
      "execution_count": null,
      "id": "3c7c83ab-3915-408b-8b19-f9af02ed4f5a",
      "metadata": {
        "colab": {
          "base_uri": "https://localhost:8080/"
        },
        "id": "3c7c83ab-3915-408b-8b19-f9af02ed4f5a",
        "outputId": "75542de7-9b9a-4590-b806-57133eec9091"
      },
      "outputs": [
        {
          "name": "stdout",
          "output_type": "stream",
          "text": [
            "2024-09-25 17:17:09.272307\n"
          ]
        }
      ],
      "source": [
        "import datetime as dt\n",
        "today = dt.datetime.now()\n",
        "hace5dias= today - dt.timedelta(days=5)\n",
        "print(hace5dias)"
      ]
    },
    {
      "cell_type": "markdown",
      "id": "082309e7-cb10-4f2d-a719-8264b95f3682",
      "metadata": {
        "id": "082309e7-cb10-4f2d-a719-8264b95f3682"
      },
      "source": [
        "## MODULO EXCEPTIONS"
      ]
    },
    {
      "cell_type": "markdown",
      "id": "feb0417e",
      "metadata": {
        "id": "feb0417e"
      },
      "source": [
        "## EJERCICIO 8"
      ]
    },
    {
      "cell_type": "markdown",
      "id": "91cd8f7c",
      "metadata": {
        "id": "91cd8f7c"
      },
      "source": [
        "Dada la función divisors(), muestra TypeError con el mensaje correspondiente si el parámetro n no se trata de un número entero y muestra ValueError con el mensaje correspondiente si n no se trata de un número positivo.\n",
        "\n",
        "```\n",
        "def divisors(n):\n",
        "    \"\"\"\n",
        "    Calcula los divisores de un número entero positivo.\n",
        "    Args:\n",
        "        n: Número entero positive\n",
        "    Returns:\n",
        "        divisors: Lista de divisores de n\n",
        "    \"\"\"\"\n",
        "    divisors = []\n",
        "    for i in range(1, n + 1):\n",
        "        if n % i == 0: divisors.append(i)\n",
        "             return divisors\n",
        "```"
      ]
    },
    {
      "cell_type": "code",
      "execution_count": 7,
      "id": "e292b60b-089a-40b4-a395-41f8a19a9c70",
      "metadata": {
        "colab": {
          "base_uri": "https://localhost:8080/"
        },
        "id": "e292b60b-089a-40b4-a395-41f8a19a9c70",
        "outputId": "e53c4b2c-7df9-497c-a3f3-3f98854a3b57"
      },
      "outputs": [
        {
          "name": "stdout",
          "output_type": "stream",
          "text": [
            "<class 'ValueError'>\n"
          ]
        }
      ],
      "source": [
        "def divisors(n):\n",
        "  try:\n",
        "    divisors = []\n",
        "    for i in range(1, n + 1):\n",
        "      if n % i == 0: divisors.append(i)\n",
        "    return divisors\n",
        "  except:\n",
        "    if(ValueError):\n",
        "      print(ValueError)\n",
        "    else:\n",
        "      print(TypeError)\n",
        "\n",
        "\n",
        "\n",
        "divisors(\"hmk\")"
      ]
    },
    {
      "cell_type": "markdown",
      "id": "59397f22",
      "metadata": {
        "id": "59397f22"
      },
      "source": [
        "## EJERCICIO 9"
      ]
    },
    {
      "cell_type": "markdown",
      "id": "8272bcdf",
      "metadata": {
        "id": "8272bcdf"
      },
      "source": [
        "Crea una función que solicite al usuario la edad. Lanza una excepción en caso de que no se trate de una edad válida. Se considera edad no válida una edad negativa o mayor a 150. En cada caso, lanza el mensaje correspondiente."
      ]
    },
    {
      "cell_type": "code",
      "execution_count": null,
      "id": "a127d166-e17c-459c-a10c-6fe487e327b5",
      "metadata": {
        "colab": {
          "base_uri": "https://localhost:8080/"
        },
        "id": "a127d166-e17c-459c-a10c-6fe487e327b5",
        "outputId": "189c187d-2671-4903-f908-f932e1a5fc49"
      },
      "outputs": [
        {
          "name": "stdout",
          "output_type": "stream",
          "text": [
            "Por favor, introduce tu edad: 158\n",
            "Error: La edad no puede ser mayor a 150.\n"
          ]
        }
      ],
      "source": [
        "def solicitar_edad():\n",
        "    try:\n",
        "        edad = int(input(\"Por favor, introduce tu edad: \"))\n",
        "        if edad < 0:\n",
        "            raise ValueError(\"La edad no puede ser negativa.\")\n",
        "        elif edad > 150:\n",
        "            raise ValueError(\"La edad no puede ser mayor a 150.\")\n",
        "        print(f\"Tu edad es {edad} años.\")\n",
        "    except ValueError as e:\n",
        "        print(f\"Error: {e}\")\n",
        "\n",
        "\n",
        "solicitar_edad()\n"
      ]
    },
    {
      "cell_type": "markdown",
      "id": "5e2e3866",
      "metadata": {
        "id": "5e2e3866"
      },
      "source": [
        "## <ins>Ejercicios Opcionales </ins>"
      ]
    },
    {
      "cell_type": "markdown",
      "id": "0327de3d",
      "metadata": {
        "id": "0327de3d"
      },
      "source": [
        "## EJERCICIO 10"
      ]
    },
    {
      "cell_type": "markdown",
      "id": "7dd833aa",
      "metadata": {
        "id": "7dd833aa"
      },
      "source": [
        "Crea una función que solicite al usuario una letra en mayúscula. Lanza una excepción en caso de que el usuario no haya introducido nada, no haya introducido una letra, no haya introducido una letra mayúscula o no haya introducido solamente un carácter. La función tiene que capturar todas las excepciones ocurridas y mostrar el mensaje de la excepción (sólo el mensaje, para que el usuario vea lo que ha pasado pero no tenga información que no le dice nada)."
      ]
    },
    {
      "cell_type": "code",
      "execution_count": null,
      "id": "e5f0459b",
      "metadata": {
        "id": "e5f0459b"
      },
      "outputs": [],
      "source": []
    },
    {
      "cell_type": "markdown",
      "id": "822dc443",
      "metadata": {
        "id": "822dc443"
      },
      "source": [
        "## EJERCICIO 11"
      ]
    },
    {
      "cell_type": "markdown",
      "id": "c54ded62",
      "metadata": {
        "id": "c54ded62"
      },
      "source": [
        "Escriba un programa Python para agregar años a una fecha determinada y mostrar la fecha actualizada.\n",
        "\n",
        "Datos de muestra: (addYears es el nombre de la función definida por el usuario)\n",
        "imprimir (agregar años (fecha y hora. fecha (2015,1,1), -1))\n",
        "imprimir (agregar años (fecha y hora. fecha (2015,1,1), 0))\n",
        "imprimir (agregar años (fecha y hora. fecha (2015,1,1), 2))\n",
        "imprimir(agregarAños(fechahora.fecha(2000,2,29),1))\n",
        "\n",
        "Rendimiento esperado :\n",
        "2014-01-01\n",
        "2015-01-01\n",
        "2017-01-01\n",
        "2001-03-01"
      ]
    },
    {
      "cell_type": "code",
      "execution_count": null,
      "id": "f65661eb",
      "metadata": {
        "id": "f65661eb"
      },
      "outputs": [],
      "source": []
    },
    {
      "cell_type": "markdown",
      "id": "f18c4085",
      "metadata": {
        "id": "f18c4085"
      },
      "source": [
        "## EJERCICIO 12"
      ]
    },
    {
      "cell_type": "markdown",
      "id": "3a561f46",
      "metadata": {
        "id": "3a561f46"
      },
      "source": [
        "Dada la función divisors(), asegura con assert que el parámetro n se trata de un número entero positivo. De lo contrario, muestra como mensaje que \"n debe ser de tipo int y debe ser mayor que 0\"\n",
        "\n",
        "```\n",
        "def divisors(n):\n",
        "    \"\"\"\n",
        "    Calcula los divisores de un número entero positivo.\n",
        "    Args:\n",
        "        n: Número entero positive\n",
        "    Returns:\n",
        "        divisors: Lista de divisores de n\n",
        "    \"\"\"\"\n",
        "    divisors = []\n",
        "    for i in range(1, n + 1):\n",
        "        if n % i == 0: divisors.append(i)\n",
        "     return divisors\n",
        "```"
      ]
    },
    {
      "cell_type": "code",
      "execution_count": null,
      "id": "d6733eec",
      "metadata": {
        "id": "d6733eec"
      },
      "outputs": [],
      "source": []
    },
    {
      "cell_type": "markdown",
      "id": "e4c6bd63",
      "metadata": {
        "id": "e4c6bd63"
      },
      "source": [
        "## EJERCICIO 13"
      ]
    },
    {
      "cell_type": "markdown",
      "id": "4f56267d",
      "metadata": {
        "id": "4f56267d"
      },
      "source": [
        "Dada la función is_palindrome(), asegura con assert que el parámetro word se trata de una variable de tipo string. De lo contrario, muestra como mensaje que \"word debe ser de tipo string\".\n",
        "\n",
        "```\n",
        "def is_palindrome(word):\n",
        "    \"\"\"\n",
        "    Devuelve si la palabra word es palíndroma.\n",
        "    Args:\n",
        "        word: Palabra\n",
        "    Returns:\n",
        "        isPalindrome: Booleano\n",
        "    \"\"\"\n",
        "    word = word.lower()\n",
        "    l = []\n",
        "    isPalindrome = True\n",
        "    for c in word:\n",
        "        l.append(c)\n",
        "        n = len(l)\n",
        "    for i in range(int(n / 2)):\n",
        "        if l[i] != l[n - (i + 1)]:\n",
        "            isPalindrome = False\n",
        "     return isPalindrome\n",
        "```"
      ]
    },
    {
      "cell_type": "code",
      "execution_count": null,
      "id": "7374d478",
      "metadata": {
        "id": "7374d478"
      },
      "outputs": [],
      "source": []
    },
    {
      "cell_type": "markdown",
      "id": "f3265650",
      "metadata": {
        "id": "f3265650"
      },
      "source": [
        "## EJERCICIO 14"
      ]
    },
    {
      "cell_type": "markdown",
      "id": "d61c5301",
      "metadata": {
        "id": "d61c5301"
      },
      "source": [
        "Dada la función is_palindrome(), muestra TypeError con el mensaje correspondiente si word no se trata de una variable de tipo string.\n",
        "```\n",
        "def is_palindrome(word):\n",
        "    \"\"\"\n",
        "    Devuelve si la palabra word es palíndroma.\n",
        "    Args:\n",
        "        word: Palabra\n",
        "    Returns:\n",
        "        isPalindrome: Booleano\n",
        "    \"\"\"\n",
        "    word = word.lower()\n",
        "    l = []\n",
        "    isPalindrome = True\n",
        "    for c in word:\n",
        "        l.append(c)\n",
        "        n = len(l)\n",
        "    for i in range(int(n / 2)):\n",
        "        if l[i] != l[n - (i + 1)]:\n",
        "            isPalindrome = False\n",
        "     return isPalindrome\n",
        "```"
      ]
    },
    {
      "cell_type": "code",
      "execution_count": null,
      "id": "3d0f69cd",
      "metadata": {
        "id": "3d0f69cd"
      },
      "outputs": [],
      "source": []
    },
    {
      "cell_type": "markdown",
      "id": "03d1590d",
      "metadata": {
        "id": "03d1590d"
      },
      "source": [
        "## EJERCICIO 15"
      ]
    },
    {
      "cell_type": "markdown",
      "id": "22f8ae59",
      "metadata": {
        "id": "22f8ae59"
      },
      "source": [
        "Dada la función is_palindrome(), muestra ValueError con el mensaje correspondiente si word no se trata de una palabra. Es decir, si una vez ha pasado la comprobación de ser una variable de tipo string, comprueba que no tiene espacios.\n",
        "\n",
        "```\n",
        "def is_palindrome(word):\n",
        "    \"\"\"\n",
        "    Devuelve si la palabra word es palíndroma.\n",
        "    Args:\n",
        "        word: Palabra\n",
        "    Returns:\n",
        "        isPalindrome: Booleano\n",
        "    \"\"\"\n",
        "    word = word.lower()\n",
        "    l = []\n",
        "    isPalindrome = True\n",
        "    for c in word:\n",
        "        l.append(c)\n",
        "        n = len(l)\n",
        "    for i in range(int(n / 2)):\n",
        "        if l[i] != l[n - (i + 1)]:\n",
        "            isPalindrome = False\n",
        "     return isPalindrome\n",
        "```"
      ]
    },
    {
      "cell_type": "code",
      "execution_count": null,
      "id": "deb6d99b",
      "metadata": {
        "id": "deb6d99b"
      },
      "outputs": [],
      "source": []
    },
    {
      "cell_type": "markdown",
      "id": "cbcf1a79",
      "metadata": {
        "id": "cbcf1a79"
      },
      "source": [
        "## EJERCICIO 16"
      ]
    },
    {
      "cell_type": "markdown",
      "id": "ffa12522",
      "metadata": {
        "id": "ffa12522"
      },
      "source": [
        "Utiliza try / except para dado un objeto de Python guardarlo en la variable x, aplicarle el método .index() y localizar el elemento \"c\". En el bloque try, guarda el resultado en la variable result. En el bloque except, en la variable result, si el objeto x es una lista, guarda el mensaje \"La lista no tiene el elemento 'c'\". En caso contrario, guarda el mensaje \"El objeto {tipo del objeto que sea x} no tiene el método .index()\". Finalmente, imprime por pantalla el resultado."
      ]
    },
    {
      "cell_type": "code",
      "execution_count": null,
      "id": "3f6fea32",
      "metadata": {
        "id": "3f6fea32"
      },
      "outputs": [],
      "source": []
    },
    {
      "cell_type": "markdown",
      "id": "5cef8509",
      "metadata": {
        "id": "5cef8509"
      },
      "source": [
        "## EJERCICIO 17"
      ]
    },
    {
      "cell_type": "markdown",
      "id": "39b5ab2e",
      "metadata": {
        "id": "39b5ab2e"
      },
      "source": [
        "Crea una función que calcule el área de un cuadrado. Como parámetro se recibirá un número real, correspondiente a la longitud de la base. Lanza las excepciones pertinentes siempre que el parámetro no se trate de un número real o entero positivo."
      ]
    },
    {
      "cell_type": "code",
      "execution_count": null,
      "id": "5bdb0dbb",
      "metadata": {
        "id": "5bdb0dbb"
      },
      "outputs": [],
      "source": []
    },
    {
      "cell_type": "markdown",
      "id": "1196822e",
      "metadata": {
        "id": "1196822e"
      },
      "source": [
        "## EJERCICIO 18"
      ]
    },
    {
      "cell_type": "markdown",
      "id": "4f536572",
      "metadata": {
        "id": "4f536572"
      },
      "source": [
        "Crea una función que solicite al usuario una letra en mayúscula. Lanza una excepción en caso de que el usuario no haya introducido nada, no haya introducido una letra, no haya introducido una letra mayúscula o no haya introducido solamente un carácter. La función tiene que capturar todas las excepciones ocurridas y mostrar el mensaje de la excepción (sólo el mensaje, para que el usuario vea lo que ha pasado pero no tenga información que no le dice nada)."
      ]
    },
    {
      "cell_type": "code",
      "execution_count": null,
      "id": "b8c8c022",
      "metadata": {
        "id": "b8c8c022"
      },
      "outputs": [],
      "source": []
    },
    {
      "cell_type": "markdown",
      "id": "dc864064",
      "metadata": {
        "id": "dc864064"
      },
      "source": []
    }
  ],
  "metadata": {
    "colab": {
      "provenance": []
    },
    "kernelspec": {
      "display_name": "base",
      "language": "python",
      "name": "python3"
    },
    "language_info": {
      "codemirror_mode": {
        "name": "ipython",
        "version": 3
      },
      "file_extension": ".py",
      "mimetype": "text/x-python",
      "name": "python",
      "nbconvert_exporter": "python",
      "pygments_lexer": "ipython3",
      "version": "3.12.4"
    }
  },
  "nbformat": 4,
  "nbformat_minor": 5
}
