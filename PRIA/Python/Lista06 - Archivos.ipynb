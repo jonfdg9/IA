{
 "cells": [
  {
   "cell_type": "markdown",
   "id": "d287d88e",
   "metadata": {},
   "source": [
    "# LISTA 6 - ARCHIVOS\n",
    "## <ins>Ejercicios Obligatorios </ins>"
   ]
  },
  {
   "cell_type": "markdown",
   "id": "f99190d1",
   "metadata": {},
   "source": [
    "## EJERCICIO 1"
   ]
  },
  {
   "cell_type": "markdown",
   "id": "b3836703",
   "metadata": {},
   "source": [
    "Pídele al usuario el nombre, el apellido, la edad y su color favorito. Guarda la información en un diccionario de claves name, surname, age y color.\n",
    "\n",
    "Crea y escribe un txt con 4 frases, una en cada línea. La primera debe indicar el nombre del usuario; la segunda, el apellido; la tercera, la edad; y la última, el color favorito del usuario."
   ]
  },
  {
   "cell_type": "code",
   "execution_count": 6,
   "id": "befca0e6",
   "metadata": {},
   "outputs": [],
   "source": [
    "nombre= input(\"Introduce tu nombre\")\n",
    "apellido = input(\"Introduce tu apellido\")\n",
    "edad = int(input(\"Introduce tu edad \"))\n",
    "color = input(\"Introduce tu color favorito\")\n",
    "colec={'name':nombre,'surname':apellido,'age':edad,'color':color,}\n",
    "\n",
    "\n",
    "f = open(\"Apuntes Python-20240918/Ejercicios/ej1.txt\", mode = \"w\")\n",
    "for i in colec:\n",
    "    f.write(str(colec[i]) + '\\n')\n",
    "f.close()"
   ]
  },
  {
   "cell_type": "markdown",
   "id": "feb0417e",
   "metadata": {},
   "source": [
    "## EJERCICIO 2"
   ]
  },
  {
   "cell_type": "markdown",
   "id": "91cd8f7c",
   "metadata": {},
   "source": [
    "Lee el archivo txt creado en el ejercicio anterior para ver que se ha creado correctamente."
   ]
  },
  {
   "cell_type": "code",
   "execution_count": 7,
   "id": "249a4f36",
   "metadata": {},
   "outputs": [
    {
     "name": "stdout",
     "output_type": "stream",
     "text": [
      "a\n",
      "\n",
      "b\n",
      "\n",
      "25\n",
      "\n",
      "a\n",
      "\n"
     ]
    }
   ],
   "source": [
    "with open(\"Apuntes Python-20240918/Ejercicios/ej1.txt\") as f:\n",
    "  for line in f:\n",
    "    print(line)"
   ]
  },
  {
   "cell_type": "markdown",
   "id": "abf81a65",
   "metadata": {},
   "source": [
    "## EJERCICIO 3"
   ]
  },
  {
   "cell_type": "markdown",
   "id": "c0dda757",
   "metadata": {},
   "source": [
    "Crea un archivo txt vacío y llámalo ej3.txt."
   ]
  },
  {
   "cell_type": "code",
   "execution_count": 8,
   "id": "6cb9df6f",
   "metadata": {},
   "outputs": [],
   "source": [
    "f = open(\"Apuntes Python-20240918/Ejercicios/ej3.txt\", mode = \"x\")\n",
    "f.close()"
   ]
  },
  {
   "cell_type": "markdown",
   "id": "4d68e82b",
   "metadata": {},
   "source": [
    "## EJERCICIO 4"
   ]
  },
  {
   "cell_type": "markdown",
   "id": "ec7f3b2a",
   "metadata": {},
   "source": [
    "Elimina el archivo creado en el ejercicio 3."
   ]
  },
  {
   "cell_type": "code",
   "execution_count": 9,
   "id": "9f331535",
   "metadata": {},
   "outputs": [],
   "source": [
    "import os \n",
    "\n",
    "os.remove(\"Apuntes Python-20240918/Ejercicios/ej3.txt\")"
   ]
  },
  {
   "cell_type": "markdown",
   "id": "5c943554",
   "metadata": {},
   "source": [
    "## EJERCICIO 5"
   ]
  },
  {
   "cell_type": "markdown",
   "id": "f2fe60bc",
   "metadata": {},
   "source": [
    "Crea un archivo txt vacío y llámalo ej5.txt. Después añádele las siguientes líneas:\n",
    "```\n",
    "\"x,y,Color,Shape\\n\"\n",
    "\"1,1,#6fb7ff,<\\n\"\n",
    "\"-1,1,#ffa66f,v\\n\"\n",
    "\"-1,-1,#ffee6f,>\\n\"\n",
    "\"1,-1,#db6fff,^\\n\"\n",
    "```"
   ]
  },
  {
   "cell_type": "code",
   "execution_count": 13,
   "id": "bbef5eb1",
   "metadata": {},
   "outputs": [],
   "source": [
    "contenido = [\n",
    "    \"x,y,Color,Shape\\n\",\n",
    "    \"1,1,#6fb7ff,<\\n\",\n",
    "    \"-1,1,#ffa66f,v\\n\",\n",
    "    \"-1,-1,#ffee6f,>\\n\",\n",
    "    \"1,-1,#db6fff,^\\n\"\n",
    "]\n",
    "f = open(\"Apuntes Python-20240918/Ejercicios/ej5.txt\", mode = \"x\")\n",
    "f.close()\n",
    "  \n",
    "f = open(\"Apuntes Python-20240918/Ejercicios/ej5.txt\", mode = \"a\")\n",
    "for linea in contenido:\n",
    "        f.write(linea)\n",
    "\n",
    "f.close()\n"
   ]
  }
 ],
 "metadata": {
  "kernelspec": {
   "display_name": "Python 3 (ipykernel)",
   "language": "python",
   "name": "python3"
  },
  "language_info": {
   "codemirror_mode": {
    "name": "ipython",
    "version": 3
   },
   "file_extension": ".py",
   "mimetype": "text/x-python",
   "name": "python",
   "nbconvert_exporter": "python",
   "pygments_lexer": "ipython3",
   "version": "3.10.12"
  }
 },
 "nbformat": 4,
 "nbformat_minor": 5
}
