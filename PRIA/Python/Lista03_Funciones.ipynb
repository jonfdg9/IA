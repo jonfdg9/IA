{
  "cells": [
    {
      "cell_type": "markdown",
      "id": "d287d88e",
      "metadata": {
        "id": "d287d88e"
      },
      "source": [
        "# LISTA 3 - FUNCIONES\n",
        "## <ins>Ejercicios Obligatorios </ins>"
      ]
    },
    {
      "cell_type": "markdown",
      "id": "f99190d1",
      "metadata": {
        "id": "f99190d1"
      },
      "source": [
        "## EJERCICIO 1"
      ]
    },
    {
      "cell_type": "markdown",
      "id": "b3836703",
      "metadata": {
        "id": "b3836703"
      },
      "source": [
        "Crea una función que devuelva la lista de todos los divisores de un número entero positivo pasado por parámetro (hay que comprobar el dato sea correcto)."
      ]
    },
    {
      "cell_type": "code",
      "source": [
        "num = 6054\n",
        "\n",
        "def sacarDiv(numero):\n",
        "  listaDiv=[]\n",
        "  for i in range(1,numero):\n",
        "    if (numero%i==0):\n",
        "      listaDiv.append(i)\n",
        "  return listaDiv\n",
        "\n",
        "print(sacarDiv(num))\n"
      ],
      "metadata": {
        "colab": {
          "base_uri": "https://localhost:8080/"
        },
        "id": "jhfIhY8hfIJG",
        "outputId": "35ff38fe-77b4-490c-8944-e22531084a1f"
      },
      "id": "jhfIhY8hfIJG",
      "execution_count": null,
      "outputs": [
        {
          "output_type": "stream",
          "name": "stdout",
          "text": [
            "[1, 2, 3, 6, 1009, 2018, 3027]\n"
          ]
        }
      ]
    },
    {
      "cell_type": "markdown",
      "id": "feb0417e",
      "metadata": {
        "id": "feb0417e"
      },
      "source": [
        "## EJERCICIO 2"
      ]
    },
    {
      "cell_type": "markdown",
      "id": "91cd8f7c",
      "metadata": {
        "id": "91cd8f7c"
      },
      "source": [
        "Crea una función que devuelva True si el carácter introducido por parámetro se trata de una vocal y False en caso contrario."
      ]
    },
    {
      "cell_type": "code",
      "source": [
        "def esVocal(char):\n",
        "  vocales=\"AEIOUaeiou\"\n",
        "  if(vocales.find(char)==-1):\n",
        "    return False\n",
        "  return True\n",
        "\n",
        "esVocal(\"a\")"
      ],
      "metadata": {
        "colab": {
          "base_uri": "https://localhost:8080/"
        },
        "id": "sr6P46Xth_pu",
        "outputId": "8671fe66-bc1b-4a5c-92bf-d804460b8fb7"
      },
      "id": "sr6P46Xth_pu",
      "execution_count": null,
      "outputs": [
        {
          "output_type": "execute_result",
          "data": {
            "text/plain": [
              "True"
            ]
          },
          "metadata": {},
          "execution_count": 13
        }
      ]
    },
    {
      "cell_type": "markdown",
      "id": "abf81a65",
      "metadata": {
        "id": "abf81a65"
      },
      "source": [
        "## EJERCICIO 3"
      ]
    },
    {
      "cell_type": "markdown",
      "id": "ec7f3b2a",
      "metadata": {
        "id": "ec7f3b2a"
      },
      "source": [
        "Crea una función que dado un string por parámetro cuente cuántas veces sale cada carácter en dicho string y devuelva toda esa información en un diccionario."
      ]
    },
    {
      "cell_type": "code",
      "source": [
        "str=\"aadddfffffff\"\n",
        "def carCant(string):\n",
        "  colec={}\n",
        "  for i in string:\n",
        "    if(i not in colec.keys()):\n",
        "      colec[i]=1\n",
        "    else:\n",
        "      colec[i]+=1\n",
        "  return colec\n",
        "\n",
        "carCant(str)\n",
        "\n",
        "\n"
      ],
      "metadata": {
        "colab": {
          "base_uri": "https://localhost:8080/"
        },
        "id": "bNzluRJwipeV",
        "outputId": "80a61bfc-4345-447e-ab8f-7aae5b8dd502"
      },
      "id": "bNzluRJwipeV",
      "execution_count": null,
      "outputs": [
        {
          "output_type": "execute_result",
          "data": {
            "text/plain": [
              "{'a': 2, 'd': 3, 'f': 7}"
            ]
          },
          "metadata": {},
          "execution_count": 16
        }
      ]
    },
    {
      "cell_type": "markdown",
      "id": "4d68e82b",
      "metadata": {
        "id": "4d68e82b"
      },
      "source": [
        "## EJERCICIO 4"
      ]
    },
    {
      "cell_type": "markdown",
      "id": "f0211a75",
      "metadata": {
        "id": "f0211a75"
      },
      "source": [
        "Dada una lista de palabras, quédate con filter() con las que tengan más vocales que consonantes. Necesitarás una función que devuelva si una palabra tiene más vocales que consonantes."
      ]
    },
    {
      "cell_type": "code",
      "source": [
        "lstPal=[\"Holaa\" , \"adiosssssss\" , \"tardessssssss\" , \"noches\"]\n",
        "vocales = \"aeiouAEIOU\"\n",
        "def masVocales(cadena):\n",
        "  num_vocales = 0\n",
        "  num_consonantes = 0\n",
        "  for i in cadena:\n",
        "    if i in vocales:\n",
        "      num_vocales += 1\n",
        "    else:\n",
        "      num_consonantes += 1\n",
        "\n",
        "  if(num_vocales<num_consonantes):\n",
        "    return cadena\n",
        "\n",
        "\n",
        "list(filter(masVocales , lstPal))"
      ],
      "metadata": {
        "colab": {
          "base_uri": "https://localhost:8080/"
        },
        "id": "GhYbkyh7kPLq",
        "outputId": "6c1a9a6c-3332-4d17-aa0f-f0b59f5051a1"
      },
      "id": "GhYbkyh7kPLq",
      "execution_count": null,
      "outputs": [
        {
          "output_type": "execute_result",
          "data": {
            "text/plain": [
              "['adiosssssss', 'tardessssssss', 'noches']"
            ]
          },
          "metadata": {},
          "execution_count": 30
        }
      ]
    },
    {
      "cell_type": "markdown",
      "id": "5c943554",
      "metadata": {
        "id": "5c943554"
      },
      "source": [
        "## EJERCICIO 5"
      ]
    },
    {
      "cell_type": "markdown",
      "id": "8272bcdf",
      "metadata": {
        "id": "8272bcdf"
      },
      "source": [
        "Dada una lista de números enteros, quédate con filter() con los que tengan más de 5 divisores. Necesitarás una función que devuelva el número de divisores de un número dado."
      ]
    },
    {
      "cell_type": "code",
      "source": [
        "lstNum=[5,32,8434,74344,443243,24343]\n",
        "\n",
        "def contarDiv(numero):\n",
        "  cont=0\n",
        "  for i in range(1,numero+1):\n",
        "    if(numero%i==0):\n",
        "      cont+=1\n",
        "  return cont\n",
        "\n",
        "def tieneMasde5Div(numero):\n",
        "  return contarDiv(numero) > 5\n",
        "\n",
        "\n",
        "list(filter(tieneMasde5Div,lstNum))"
      ],
      "metadata": {
        "colab": {
          "base_uri": "https://localhost:8080/"
        },
        "id": "Ly5PjCMSpcmb",
        "outputId": "8a209ad7-e072-4235-f987-993e651193f4"
      },
      "id": "Ly5PjCMSpcmb",
      "execution_count": null,
      "outputs": [
        {
          "output_type": "execute_result",
          "data": {
            "text/plain": [
              "[32, 74344]"
            ]
          },
          "metadata": {},
          "execution_count": 50
        }
      ]
    },
    {
      "cell_type": "markdown",
      "id": "2972dd7e",
      "metadata": {
        "id": "2972dd7e"
      },
      "source": [
        "## EJERCICIO 6"
      ]
    },
    {
      "cell_type": "markdown",
      "id": "9da406b8",
      "metadata": {
        "id": "9da406b8"
      },
      "source": [
        "Dada una lista de palabras, quédate con reduce() con la palabra más larga. Necesitarás una función que compare dos palabras y devuelva la que tenga mayor longitud."
      ]
    },
    {
      "cell_type": "code",
      "source": [
        "from functools import reduce\n",
        "pals = [\"afa\",\"ad\",\"asffg\",\"afsadfsgfdsgds\"]\n",
        "\n",
        "def bigger_than(a, b):\n",
        "  if len(a) > len(b):\n",
        "    return a\n",
        "  return b\n",
        "\n",
        "reduce(bigger_than, pals)"
      ],
      "metadata": {
        "colab": {
          "base_uri": "https://localhost:8080/",
          "height": 35
        },
        "id": "gggGSZ-Ys2NL",
        "outputId": "72801199-c94e-4fe8-d9b5-7eef5d93cd0e"
      },
      "id": "gggGSZ-Ys2NL",
      "execution_count": null,
      "outputs": [
        {
          "output_type": "execute_result",
          "data": {
            "text/plain": [
              "'afsadfsgfdsgds'"
            ],
            "application/vnd.google.colaboratory.intrinsic+json": {
              "type": "string"
            }
          },
          "metadata": {},
          "execution_count": 51
        }
      ]
    },
    {
      "cell_type": "markdown",
      "id": "cbbfb36c",
      "metadata": {
        "id": "cbbfb36c"
      },
      "source": [
        "## EJERCICIO 7"
      ]
    },
    {
      "cell_type": "markdown",
      "id": "eb6f147e",
      "metadata": {
        "id": "eb6f147e"
      },
      "source": [
        "Dada una lista de palabras, quédate con reduce() y map() con la palabra con más consonantes (hay que mostrar el número de consonantes). Necesitarás una función que cuente el número de consonantes de una palabra y otra que dados dos números, devuelva el mayor."
      ]
    },
    {
      "cell_type": "code",
      "source": [
        "from functools import reduce\n",
        "palabras = [\"afa\",\"ad\",\"asffg\",\"afsadfsgfdsgds\"]\n",
        "vocales = \"aeiouAEIOU\"\n",
        "def cantConsonantes(cadena):\n",
        "  num_vocales = 0\n",
        "  num_consonantes = 0\n",
        "  for i in cadena:\n",
        "    if i in vocales:\n",
        "      num_vocales += 1\n",
        "    else:\n",
        "      num_consonantes += 1\n",
        "  return num_consonantes\n",
        "\n",
        "def bigger_than(a, b):\n",
        "  if a > b:\n",
        "    return a\n",
        "  return b\n",
        "mapa=map(cantConsonantes, palabras)\n",
        "lstmapa=list(mapa)\n",
        "max_consonantes = reduce(bigger_than,lstmapa)\n",
        "for i in range(len(palabras)):\n",
        "  if(lstmapa[i]==max_consonantes):\n",
        "    print (f\"La palabra es {palabras[i]} y sus consonantes son {max_consonantes}\")"
      ],
      "metadata": {
        "colab": {
          "base_uri": "https://localhost:8080/"
        },
        "id": "XzZP1jvDuHXy",
        "outputId": "1bd288ac-2338-439f-ba93-5fe245319f25"
      },
      "id": "XzZP1jvDuHXy",
      "execution_count": null,
      "outputs": [
        {
          "output_type": "stream",
          "name": "stdout",
          "text": [
            "La palabra es afsadfsgfdsgds y sus consonantes son 12\n"
          ]
        }
      ]
    },
    {
      "cell_type": "markdown",
      "id": "4ec84fb7",
      "metadata": {
        "id": "4ec84fb7"
      },
      "source": [
        "## <ins>Ejercicios Opcionales </ins>"
      ]
    },
    {
      "cell_type": "markdown",
      "id": "59397f22",
      "metadata": {
        "id": "59397f22"
      },
      "source": [
        "## EJERCICIO 8"
      ]
    },
    {
      "cell_type": "markdown",
      "id": "c0dda757",
      "metadata": {
        "id": "c0dda757"
      },
      "source": [
        "Crea una función que dado un color en hexadecimal devuelva una lista de 3 posiciones, cada una de ellas correspondiente al valor R, G y B en este orden. Los valores de RGB varían entre 0 y 255."
      ]
    },
    {
      "cell_type": "code",
      "source": [
        "def hex_a_rgb(hex_color):\n",
        "    # Eliminar el símbolo '#' si está presente\n",
        "    hex_color = hex_color.lstrip('#')\n",
        "\n",
        "    # Convertir cada par de caracteres hexadecimales a un valor decimal\n",
        "    rgb = [int(hex_color[i:i+2], 16) for i in (0, 2, 4)]\n",
        "\n",
        "    return rgb\n",
        "\n",
        "# Ejemplo de uso\n",
        "color_hex = \"#34A2FE\"\n",
        "color_rgb = hex_a_rgb(color_hex)\n",
        "print(color_rgb)"
      ],
      "metadata": {
        "colab": {
          "base_uri": "https://localhost:8080/"
        },
        "id": "lcFkayxa9sJ7",
        "outputId": "2aafca7d-04f1-4384-8961-be71c896f82b"
      },
      "id": "lcFkayxa9sJ7",
      "execution_count": null,
      "outputs": [
        {
          "output_type": "stream",
          "name": "stdout",
          "text": [
            "[52, 162, 254]\n"
          ]
        }
      ]
    },
    {
      "cell_type": "markdown",
      "id": "3e767176",
      "metadata": {
        "id": "3e767176"
      },
      "source": [
        "## EJERCICIO 9"
      ]
    },
    {
      "cell_type": "markdown",
      "id": "13d2c744",
      "metadata": {
        "id": "13d2c744"
      },
      "source": [
        "Crea una función lambda que dado un número entero multiplique por su anterior y su siguiente. Por ejemplo, si proporcionamos n = 3, nos tendrá que devolver 2 x 3 x 4 = 24."
      ]
    },
    {
      "cell_type": "code",
      "source": [
        "resul = lambda n: n*(n-1)*(n+1)\n",
        "print(resul(3))"
      ],
      "metadata": {
        "colab": {
          "base_uri": "https://localhost:8080/"
        },
        "id": "PaNc0D1gcGXT",
        "outputId": "41004d23-ca76-471a-cd14-734688bcad07"
      },
      "id": "PaNc0D1gcGXT",
      "execution_count": null,
      "outputs": [
        {
          "output_type": "stream",
          "name": "stdout",
          "text": [
            "24\n"
          ]
        }
      ]
    },
    {
      "cell_type": "markdown",
      "id": "b97cdccc",
      "metadata": {
        "id": "b97cdccc"
      },
      "source": [
        "## EJERCICIO 10"
      ]
    },
    {
      "cell_type": "markdown",
      "id": "4bbf4135",
      "metadata": {
        "id": "4bbf4135"
      },
      "source": [
        "Dada una lista de palabras, calcula el número de vocales de cada una con map()."
      ]
    },
    {
      "cell_type": "code",
      "source": [
        "palabras = [\"afa\",\"ad\",\"asffg\",\"afsadfsgfdsgds\"]\n",
        "\n",
        "def cantVocales(cadena):\n",
        "  num_vocales = 0\n",
        "  num_consonantes = 0\n",
        "  for i in cadena:\n",
        "    if i in vocales:\n",
        "      num_vocales += 1\n",
        "    else:\n",
        "      num_consonantes += 1\n",
        "  return num_vocales\n",
        "\n",
        "list(map(cantVocales, palabras))\n"
      ],
      "metadata": {
        "colab": {
          "base_uri": "https://localhost:8080/"
        },
        "id": "x4OXl2n4c6uB",
        "outputId": "af208dee-a3d2-49e7-b178-234c1a4872ea"
      },
      "id": "x4OXl2n4c6uB",
      "execution_count": null,
      "outputs": [
        {
          "output_type": "execute_result",
          "data": {
            "text/plain": [
              "[2, 1, 1, 2]"
            ]
          },
          "metadata": {},
          "execution_count": 94
        }
      ]
    },
    {
      "cell_type": "markdown",
      "id": "17b343e6",
      "metadata": {
        "id": "17b343e6"
      },
      "source": [
        "## EJERCICIO 11"
      ]
    },
    {
      "cell_type": "markdown",
      "id": "ef3c12ce",
      "metadata": {
        "id": "ef3c12ce"
      },
      "source": [
        "Crea una función lambda que dados dos números devuelva si el primero es mayor."
      ]
    },
    {
      "cell_type": "code",
      "source": [
        "prod = lambda x, y: x > y\n",
        "prod(5,4)"
      ],
      "metadata": {
        "colab": {
          "base_uri": "https://localhost:8080/"
        },
        "id": "IwAgObCsdaTZ",
        "outputId": "eed33304-9e72-4e31-e01e-31c5424bd584"
      },
      "id": "IwAgObCsdaTZ",
      "execution_count": null,
      "outputs": [
        {
          "output_type": "execute_result",
          "data": {
            "text/plain": [
              "True"
            ]
          },
          "metadata": {},
          "execution_count": 101
        }
      ]
    },
    {
      "cell_type": "markdown",
      "id": "88fe1c72",
      "metadata": {
        "id": "88fe1c72"
      },
      "source": [
        "## EJERCICIO 12"
      ]
    },
    {
      "cell_type": "markdown",
      "id": "f7446bb5",
      "metadata": {
        "id": "f7446bb5"
      },
      "source": [
        "Dada una lista de números enteros, calcula otra lista con el número anterior de cada elemento con map()."
      ]
    },
    {
      "cell_type": "code",
      "source": [
        "lista=[3,4,56,67]\n",
        "numant = lambda x: x -1\n",
        "list(map(numant,lista))"
      ],
      "metadata": {
        "colab": {
          "base_uri": "https://localhost:8080/"
        },
        "id": "SMqxTDzFeZ9h",
        "outputId": "d6307928-31ca-4ff3-f1ed-63622db0edc4"
      },
      "id": "SMqxTDzFeZ9h",
      "execution_count": null,
      "outputs": [
        {
          "output_type": "execute_result",
          "data": {
            "text/plain": [
              "[2, 3, 55, 66]"
            ]
          },
          "metadata": {},
          "execution_count": 102
        }
      ]
    },
    {
      "cell_type": "markdown",
      "id": "6bcd805d",
      "metadata": {
        "id": "6bcd805d"
      },
      "source": [
        "## EJERCICIO 13"
      ]
    },
    {
      "cell_type": "markdown",
      "id": "18202d6c",
      "metadata": {
        "id": "18202d6c"
      },
      "source": [
        "Dada una lista de números reales, ordénalos con sorted() por valor absoluto de menor a mayor."
      ]
    },
    {
      "cell_type": "code",
      "source": [
        "import math as m\n",
        "lst=[5,3,56,23,-45]\n",
        "sorted(lst, key=m.fabs)"
      ],
      "metadata": {
        "colab": {
          "base_uri": "https://localhost:8080/"
        },
        "id": "ZIahMtr1ewFx",
        "outputId": "707eed31-f8e2-4482-b8bd-a474337c564f"
      },
      "id": "ZIahMtr1ewFx",
      "execution_count": null,
      "outputs": [
        {
          "output_type": "execute_result",
          "data": {
            "text/plain": [
              "[3, 5, 23, -45, 56]"
            ]
          },
          "metadata": {},
          "execution_count": 106
        }
      ]
    },
    {
      "cell_type": "markdown",
      "id": "e60749fd",
      "metadata": {
        "id": "e60749fd"
      },
      "source": [
        "## EJERCICIO 14"
      ]
    },
    {
      "cell_type": "markdown",
      "id": "e7b12a5a",
      "metadata": {
        "id": "e7b12a5a"
      },
      "source": [
        "Dada una lista de palabras, ordénalos con sorted() por número de consonantes de mayor a menor."
      ]
    },
    {
      "cell_type": "code",
      "source": [
        "\n",
        "lst=[\"dd\",\"Qfasgdgdf\",\"fasdasg\",\"gagfadg\",\"Z\",\"Aagaggggggggggggggggggggggg\"]\n",
        "\n",
        "def cantConsonantes(cadena):\n",
        "  num_vocales = 0\n",
        "  num_consonantes = 0\n",
        "  for i in cadena:\n",
        "    if i in vocales:\n",
        "      num_vocales += 1\n",
        "    else:\n",
        "      num_consonantes += 1\n",
        "  return num_consonantes\n",
        "\n",
        "sorted(lst,key=cantConsonantes, reverse=True)"
      ],
      "metadata": {
        "colab": {
          "base_uri": "https://localhost:8080/"
        },
        "id": "2nO_MDpAfxam",
        "outputId": "94eab766-45ba-447b-89d0-870114bd40c0"
      },
      "id": "2nO_MDpAfxam",
      "execution_count": null,
      "outputs": [
        {
          "output_type": "execute_result",
          "data": {
            "text/plain": [
              "['Aagaggggggggggggggggggggggg', 'Qfasgdgdf', 'fasdasg', 'gagfadg', 'dd', 'Z']"
            ]
          },
          "metadata": {},
          "execution_count": 124
        }
      ]
    }
  ],
  "metadata": {
    "kernelspec": {
      "display_name": "Python 3 (ipykernel)",
      "language": "python",
      "name": "python3"
    },
    "language_info": {
      "codemirror_mode": {
        "name": "ipython",
        "version": 3
      },
      "file_extension": ".py",
      "mimetype": "text/x-python",
      "name": "python",
      "nbconvert_exporter": "python",
      "pygments_lexer": "ipython3",
      "version": "3.10.9"
    },
    "colab": {
      "provenance": []
    }
  },
  "nbformat": 4,
  "nbformat_minor": 5
}