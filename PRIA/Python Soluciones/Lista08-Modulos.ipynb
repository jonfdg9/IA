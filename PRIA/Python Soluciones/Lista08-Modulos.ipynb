{
 "cells": [
  {
   "cell_type": "markdown",
   "id": "d287d88e",
   "metadata": {},
   "source": [
    "# LISTA 08- SCRIPTS Y MÓDULOS EN PYTHON"
   ]
  },
  {
   "cell_type": "markdown",
   "id": "73bd396f",
   "metadata": {},
   "source": [
    "## <ins>Ejercicios Obligatorios </ins>"
   ]
  },
  {
   "cell_type": "markdown",
   "id": "e168c8c3",
   "metadata": {},
   "source": [
    "Estos ejercicios tienes que hacerlos creando scripts .py en tu equipo (puedes usar visual studio code)"
   ]
  },
  {
   "cell_type": "markdown",
   "id": "f99190d1",
   "metadata": {},
   "source": [
    "## EJERCICIO 1"
   ]
  },
  {
   "cell_type": "markdown",
   "id": "b3836703",
   "metadata": {},
   "source": [
    "Crea un script llamado vectors.py. Ábrelo y crea una clase llamada Vector2D. El constructor debe guardar las coordenadas x e y del vector."
   ]
  },
  {
   "cell_type": "code",
   "execution_count": null,
   "id": "10d5b17a",
   "metadata": {},
   "outputs": [],
   "source": [
    "class Vector2D():\n",
    "    def __init__(self,x,y):\n",
    "        self.x=x\n",
    "        self.y=y"
   ]
  },
  {
   "cell_type": "markdown",
   "id": "feb0417e",
   "metadata": {},
   "source": [
    "## EJERCICIO 2"
   ]
  },
  {
   "cell_type": "markdown",
   "id": "91cd8f7c",
   "metadata": {},
   "source": [
    "Crea los siguientes métodos:\n",
    "* module: devuelve el módulo del vector. Recuerda que el módulo de un vector 2D se calcula como la raíz cuadrada de x2 + y2 . Para calcular raíces cuadradas, dispones del método math.sqrt().\n",
    "* scalar_prod: multiplica el vector por el número real dado por parámetro, que por defecto vale 1.\n",
    "* ```__str__```: muestra por pantalla el vector de la forma (x, y)."
   ]
  },
  {
   "cell_type": "code",
   "execution_count": null,
   "id": "a2d08eca",
   "metadata": {},
   "outputs": [],
   "source": [
    "from math import sqrt\n",
    "\n",
    "class Vector2D():\n",
    "    def __init__(self,x,y):\n",
    "        self.x=x\n",
    "        self.y=y\n",
    "\n",
    "    def module(self):\n",
    "        return sqrt((self.x**2)+(self.y**2))\n",
    "\n",
    "    def scalar_prod(self,escalar=1):\n",
    "        self.x*=escalar\n",
    "        self.y*=escalar\n",
    "\n",
    "    def __str__(self):\n",
    "        return \"({},{})\".format(self.x,self.y)\n"
   ]
  },
  {
   "cell_type": "markdown",
   "id": "abf81a65",
   "metadata": {},
   "source": [
    "## EJERCICIO 3"
   ]
  },
  {
   "cell_type": "markdown",
   "id": "c0dda757",
   "metadata": {},
   "source": [
    "Crea los siguientes métodos:\n",
    "* sum: dados dos vectores los suma y devuelve un objeto de la clase Vector2D.\n",
    "* subtract: dados dos vectores los resta y devuelve un objeto de la clase Vector2D."
   ]
  },
  {
   "cell_type": "code",
   "execution_count": 4,
   "id": "df9d019c",
   "metadata": {},
   "outputs": [],
   "source": [
    "from math import sqrt\n",
    "\n",
    "class Vector2D():\n",
    "    def __init__(self,x,y):\n",
    "        self.x=x\n",
    "        self.y=y\n",
    "\n",
    "    def module(self):\n",
    "        return sqrt((self.x**2)+(self.y**2))\n",
    "\n",
    "    def scalar_prod(self,escalar=1):\n",
    "        self.x*=escalar\n",
    "        self.y*=escalar\n",
    "\n",
    "    def __str__(self):\n",
    "        return \"({},{})\".format(self.x,self.y)\n",
    "    \n",
    "    @classmethod\n",
    "    def sum(cls,u,v):\n",
    "        return cls(u.x+v.x,u.y+v.y)\n",
    "\n",
    "    @classmethod\n",
    "    def subtract(cls,u,v):\n",
    "        return cls(u.x-v.x,u.y-v.y)\n",
    "\n"
   ]
  },
  {
   "cell_type": "markdown",
   "id": "5c943554",
   "metadata": {},
   "source": [
    "## EJERCICIO 4"
   ]
  },
  {
   "cell_type": "markdown",
   "id": "13d2c744",
   "metadata": {},
   "source": [
    "Ahora crea la clase Vector3D que herede de la clase Vector2D. Empieza con el constructor para que además de las coordenadas x e y, también tome la coordenada z. Recuerda que puedes utilizar el método .super() para acceder a métodos de la clase padre."
   ]
  },
  {
   "cell_type": "code",
   "execution_count": null,
   "id": "6e71e599",
   "metadata": {},
   "outputs": [],
   "source": [
    "class Vector3D(Vector2D):\n",
    "     def __init__(self,x,y,z):\n",
    "        super().__init__(x,y)\n",
    "        self.z=z\n"
   ]
  },
  {
   "cell_type": "markdown",
   "id": "2972dd7e",
   "metadata": {},
   "source": [
    "## EJERCICIO 5"
   ]
  },
  {
   "cell_type": "markdown",
   "id": "ef3c12ce",
   "metadata": {},
   "source": [
    "Crea en la clase Vector3D los métodos siguientes:\n",
    "* __str__: muestra el vector por pantalla de la forma (x, y, z).\n",
    "* module: al tener vectores 3D, el módulo se calcula como la raíz cuadrada de x<sup>2</sup> + y<sup>2</sup> + z<sup>2</sup>\n",
    "* scalar_prod, sum y subtract: adáptalos si es necesario para que trabajen con la clase Vector3D.\n",
    "* dot_product: ahora el producto escalar se calcula como u · v = u<sub>x</sub>v<sub>x</sub> + u<sub>y</sub>v<sub>y</sub> + u<sub>z</sub>v<sub>z</sub>\n",
    "* distance: la distancia se calcula como (u<sub>x</sub> - v<sub>x</sub>)<sup>2</sup> + (u<sub>y</sub> - v<sub>y</sub>)<sup>2</sup> + (u<sub>z</sub> - v<sub>zx</sub>)<sup>2</sup>\n",
    "\n",
    "Recuerda que dispones del método .super() para evitar repeticiones innecesarias de código."
   ]
  },
  {
   "cell_type": "code",
   "execution_count": 2,
   "id": "94962662",
   "metadata": {},
   "outputs": [
    {
     "ename": "IndentationError",
     "evalue": "unindent does not match any outer indentation level (<tokenize>, line 6)",
     "output_type": "error",
     "traceback": [
      "\u001b[1;36m  File \u001b[1;32m<tokenize>:6\u001b[1;36m\u001b[0m\n\u001b[1;33m    def module(self):\u001b[0m\n\u001b[1;37m    ^\u001b[0m\n\u001b[1;31mIndentationError\u001b[0m\u001b[1;31m:\u001b[0m unindent does not match any outer indentation level\n"
     ]
    }
   ],
   "source": [
    "class Vector3D(Vector2D):\n",
    "    def __init__(self,x,y,z):\n",
    "        super().__init__(x,y)\n",
    "        self.z=z\n",
    "\n",
    "    def module(self):\n",
    "        return sqrt((self.x**2)+(self.y**2)+(self.z**2))\n",
    "\n",
    "    def scalar_prod(self,escalar=1):\n",
    "        super().scalar_prod(escalar)\n",
    "        self.z*=escalar\n",
    "\n",
    "    def __str__(self):\n",
    "        return \"({},{},{})\".format(self.x,self.y,self.z)\n",
    "\n",
    "    @classmethod\n",
    "    def sum(cls,u,v):\n",
    "        vector2d=super().sum(x,y)\n",
    "        return cls(vector2d.x, vector2d.y,u.z+v.z)\n",
    "\n",
    "    @classmethod\n",
    "    def subtract(cls,u,v):\n",
    "        vector2d=super().subtract(u,v)\n",
    "        return cls(vector2d.x,vector2d.y,u.z-v.z)\n",
    "\n",
    "     @staticmethod\n",
    "    def dot_product(u,v):\n",
    "        return super().dot_product(u,v)+u.z*v.z\n",
    "\n",
    "    @staticmethod\n",
    "    def distance(u,v):\n",
    "        return Vector3D.subtract(u,v).module()\n"
   ]
  },
  {
   "cell_type": "markdown",
   "id": "3e767176",
   "metadata": {},
   "source": [
    "## EJERCICIO 6"
   ]
  },
  {
   "cell_type": "markdown",
   "id": "9da406b8",
   "metadata": {},
   "source": [
    "En otro script de Python importa la clase Vector2D, crea dos objetos de la clase Vector2D y prueba que todos los métodos de la clase Vector2D funcionan correctamente."
   ]
  },
  {
   "cell_type": "code",
   "execution_count": null,
   "id": "fe94cb7b",
   "metadata": {},
   "outputs": [],
   "source": [
    "from vectors import Vector2D\n",
    "\n",
    "u=Vector2D(5,6)\n",
    "v=Vector2D(-1,3)\n",
    "print(\"u:\", u)\n",
    "print(\"v:\", v)\n",
    "print(\"Modulo u\")\n",
    "print(u.module)\n",
    "print(\"Escalar de u por 2\")\n",
    "u.scalar_prod(2)\n",
    "print(u)\n",
    "print(\"Suma u y v\")\n",
    "print(Vector2D.sum(u,v))\n",
    "print(\"Resta u y v\")\n",
    "print(Vector2D.subtract(u,v))\n",
    "print(\"Producto u y v\")\n",
    "print(Vector2D.dot_product(u,v))\n",
    "print(\"Distancia u y v\")\n",
    "print(Vector2D.distance(u,v))\n",
    "print(\"Extender a 3D u con 4\")\n",
    "print(u.extend_to_3D(4))"
   ]
  },
  {
   "cell_type": "markdown",
   "id": "7fb906f6",
   "metadata": {},
   "source": [
    "## <ins>Ejercicios Opcionales </ins>"
   ]
  },
  {
   "cell_type": "markdown",
   "id": "16222a41",
   "metadata": {},
   "source": [
    "## EJERCICIO 7"
   ]
  },
  {
   "cell_type": "markdown",
   "id": "6e7ee7cb",
   "metadata": {},
   "source": [
    "Crea los siguientes métodos:\n",
    "* dot_product: dados dos vectores calcula su producto escalar. El producto escalar se calcula como u · v = u<sub>x</sub>v<sub>x</sub> + u<sub>y</sub>v<sub>y</sub>\n",
    "* distance: dados dos vectores calcula la distancia entre ellos. La distancia se calcula como la raíz cuadrada (u<sub>x</sub> - v<sub>x</sub>)<sup>2</sup> + (u<sub>y</sub> - v<sub>y</sub>)<sup>2</sup>"
   ]
  },
  {
   "cell_type": "code",
   "execution_count": null,
   "id": "48865e8c",
   "metadata": {},
   "outputs": [],
   "source": [
    "from math import sqrt\n",
    "\n",
    "class Vector2D():\n",
    "    def __init__(self,x,y):\n",
    "        self.x=x\n",
    "        self.y=y\n",
    "\n",
    "    def module(self):\n",
    "        return sqrt((self.x**2)+(self.y**2))\n",
    "\n",
    "    def scalar_prod(self,escalar=1):\n",
    "        self.x*=escalar\n",
    "        self.y*=escalar\n",
    "\n",
    "    def __str__(self):\n",
    "        return \"({},{})\".format(self.x,self.y)\n",
    "    \n",
    "    @classmethod\n",
    "    def sum(cls,u,v):\n",
    "        return cls(u.x+v.x,u.y+v.y)\n",
    "\n",
    "    @classmethod\n",
    "    def subtract(cls,u,v):\n",
    "        return cls(u.x-v.x,u.y-v.y)\n",
    "\n",
    "    @staticmethod\n",
    "    def dot_product(u,v):\n",
    "        return u.x*v.x+u.y*v.y\n",
    "\n",
    "    @staticmethod\n",
    "    def distance(u,v):\n",
    "        return Vector2D.subtract(u,v).module()\n"
   ]
  },
  {
   "cell_type": "markdown",
   "id": "c0f7c6ca",
   "metadata": {},
   "source": [
    "## EJERCICIO 8"
   ]
  },
  {
   "cell_type": "markdown",
   "id": "2292dba8",
   "metadata": {},
   "source": [
    "Crea en la clase Vector3D los métodos siguientes:\n",
    "* zero: devuelve un objeto Vector3D con todas sus componentes 0.\n",
    "* horizontal: devuelve un objeto Vector3D con todas sus componentes 0 salvo la primera que valdrá 1.\n",
    "* vertical: devuelve un objeto Vector3D con todas sus componentes 0 salvo la segunda que valdrá 1.\n",
    "* forward: devuelve un objeto Vector3D con todas sus componentes 0 salvo la tercera que valdrá 1."
   ]
  },
  {
   "cell_type": "code",
   "execution_count": null,
   "id": "98635775",
   "metadata": {},
   "outputs": [],
   "source": [
    "class Vector3D(Vector2D):\n",
    "    def __init__(self,x,y,z):\n",
    "        super().__init__(x,y)\n",
    "        self.z=z\n",
    "\n",
    "    def module(self):\n",
    "        return sqrt((self.x**2)+(self.y**2)+(self.z**2))\n",
    "\n",
    "    def scalar_prod(self,escalar=1):\n",
    "        super().scalar_prod(escalar)\n",
    "        self.z*=escalar\n",
    "\n",
    "    def __str__(self):\n",
    "        return \"({},{},{})\".format(self.x,self.y,self.z)\n",
    "\n",
    "     @classmethod\n",
    "    def sum(cls,u,v):\n",
    "        return cls(u.x+v.x,u.y+v.y,u.z+v.z)\n",
    "\n",
    "    @classmethod\n",
    "    def subtract(cls,u,v):\n",
    "        return cls(u.x-v.x,u.y-v.y,u.z-v.z)\n",
    "\n",
    "     @staticmethod\n",
    "    def dot_product(u,v):\n",
    "        return super().dot_product(u,v)+u.z*v.z\n",
    "\n",
    "    @staticmethod\n",
    "    def distance(u,v):\n",
    "        return Vector3D.subtract(u,v).module()\n",
    "    \n",
    "    @classmethod\n",
    "    def zero(cls):\n",
    "        return cls(0,0,0)\n",
    "\n",
    "     @classmethod\n",
    "    def horizontal(cls):\n",
    "        return cls(1,0,0)\n",
    "\n",
    "    @classmethod\n",
    "    def vertical(cls):\n",
    "        return cls(0,1,0)\n",
    "\n",
    "    @classmethod\n",
    "    def forward(cls):\n",
    "        return cls(0,0,1)\n",
    "\n"
   ]
  },
  {
   "cell_type": "markdown",
   "id": "20ba9bdf",
   "metadata": {},
   "source": [
    "## EJERCICIO 9"
   ]
  },
  {
   "cell_type": "markdown",
   "id": "b6c24958",
   "metadata": {},
   "source": [
    "Crea en la clase Vector2D el método de instancia .extend_to_3D() que devuelva un objeto de la clase Vector3D siendo la componente z el valor indicado por parámetro, que por defecto valdrá 0."
   ]
  },
  {
   "cell_type": "code",
   "execution_count": null,
   "id": "6473aade",
   "metadata": {},
   "outputs": [],
   "source": [
    "from math import sqrt\n",
    "\n",
    "class Vector2D():\n",
    "    def __init__(self, x, y):\n",
    "        self.x = x\n",
    "        self.y = y\n",
    "\n",
    "    def module(self):\n",
    "        return sqrt((self.x ** 2) + (self.y ** 2))\n",
    "\n",
    "    def scalar_prod(self, escalar=1):\n",
    "        self.x *= escalar\n",
    "        self.y *= escalar\n",
    "\n",
    "    def __str__(self):\n",
    "        return \"({},{})\".format(self.x, self.y)\n",
    "\n",
    "    @classmethod\n",
    "    def sum(cls, u, v):\n",
    "        return cls(u.x + v.x, u.y + v.y)\n",
    "\n",
    "    @classmethod\n",
    "    def subtract(cls, u, v):\n",
    "        return cls(u.x - v.x, u.y - v.y)\n",
    "\n",
    "    @staticmethod\n",
    "    def dot_product(u, v):\n",
    "        return u.x * v.x + u.y * v.y\n",
    "\n",
    "    @staticmethod\n",
    "    def distance(u, v):\n",
    "        return Vector2D.subtract(u, v).module()\n",
    "\n",
    "    def extend_to_3D(self, z=0):\n",
    "        return Vector3D(self.x, self.y, z)\n",
    "\n",
    "class Vector3D(Vector2D):\n",
    "    def __init__(self, x, y, z):\n",
    "        super().__init__(x, y)\n",
    "        self.z = z\n",
    "\n",
    "    def module(self):\n",
    "        return sqrt((self.x ** 2) + (self.y ** 2) + (self.z ** 2))\n",
    "\n",
    "    def scalar_prod(self, escalar=1):\n",
    "        super().scalar_prod(escalar)\n",
    "        self.z *= escalar\n",
    "\n",
    "    def __str__(self):\n",
    "        return \"({},{},{})\".format(self.x, self.y, self.z)\n",
    "\n",
    "    @classmethod\n",
    "    def sum(cls, u, v):\n",
    "        return cls(u.x + v.x, u.y + v.y, u.z + v.z)\n",
    "\n",
    "    @classmethod\n",
    "    def subtract(cls, u, v):\n",
    "        return cls(u.x - v.x, u.y - v.y, u.z - v.z)\n",
    "\n",
    "    @staticmethod\n",
    "    def dot_product(u, v):\n",
    "        return super().dot_product(u, v) + u.z * v.z\n",
    "\n",
    "    @staticmethod\n",
    "    def distance(u, v):\n",
    "        return Vector3D.subtract(u, v).module()\n",
    "\n",
    "    @classmethod\n",
    "    def zero(cls):\n",
    "        return cls(0, 0, 0)\n",
    "\n",
    "    @classmethod\n",
    "    def horizontal(cls):\n",
    "        return cls(1, 0, 0)\n",
    "\n",
    "    @classmethod\n",
    "    def vertical(cls):\n",
    "        return cls(0, 1, 0)\n",
    "\n",
    "    @classmethod\n",
    "    def forward(cls):\n",
    "        return cls(0, 0, 1)\n"
   ]
  },
  {
   "cell_type": "markdown",
   "id": "304b25cb",
   "metadata": {},
   "source": [
    "## EJERCICIO 10"
   ]
  },
  {
   "cell_type": "markdown",
   "id": "ff1871d3",
   "metadata": {},
   "source": [
    "Ahora importa la clase Vector3D, crea dos objetos de la clase Vector3D y prueba que todos los métodos de la clase Vector3D funcionan correctamente."
   ]
  },
  {
   "cell_type": "code",
   "execution_count": null,
   "id": "96b66149",
   "metadata": {},
   "outputs": [],
   "source": [
    "from vectors import Vector3D\n",
    "\n",
    "u=Vector3D(5,6,1)\n",
    "v=Vector3D(-1,3,4)\n",
    "print(\"u:\", u)\n",
    "print(\"v:\", v)\n",
    "print(\"Modulo u\")\n",
    "print(u.module())\n",
    "print(\"Escalar de u por 2\")\n",
    "u.scalar_prod(2)\n",
    "print(u)\n",
    "print(\"Suma u y v\")\n",
    "print(Vector3D.sum(u,v))\n",
    "print(\"Resta u y v\")\n",
    "print(Vector3D.subtract(u,v))\n",
    "print(\"Producto u y v\")\n",
    "print(Vector3D.dot_product(u,v))\n",
    "print(\"Distancia u y v\")\n",
    "print(Vector3D.distance(u,v))\n",
    "print(Vector3D.zero())\n",
    "print(Vector3D.horizontal())\n",
    "print(Vector3D.vertical())\n",
    "print(Vector3D.forward())"
   ]
  }
 ],
 "metadata": {
  "kernelspec": {
   "display_name": "base",
   "language": "python",
   "name": "python3"
  },
  "language_info": {
   "codemirror_mode": {
    "name": "ipython",
    "version": 3
   },
   "file_extension": ".py",
   "mimetype": "text/x-python",
   "name": "python",
   "nbconvert_exporter": "python",
   "pygments_lexer": "ipython3",
   "version": "3.11.4"
  }
 },
 "nbformat": 4,
 "nbformat_minor": 5
}
