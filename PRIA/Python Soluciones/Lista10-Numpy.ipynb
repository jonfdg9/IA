{
 "cells": [
  {
   "cell_type": "markdown",
   "id": "d287d88e",
   "metadata": {},
   "source": [
    "# LISTA 10 -  LIBRERÍA NUMPY"
   ]
  },
  {
   "cell_type": "markdown",
   "id": "ccd0bc04",
   "metadata": {},
   "source": [
    "## <ins>Ejercicios Obligatorios </ins>"
   ]
  },
  {
   "cell_type": "markdown",
   "id": "f99190d1",
   "metadata": {},
   "source": [
    "## EJERCICIO 1"
   ]
  },
  {
   "cell_type": "markdown",
   "id": "93a99146-6700-4082-b986-0aa25349c711",
   "metadata": {},
   "source": [
    "Crea un array unidimensional de 9 elementos y transfórmalo en un array 3D. Muestra la dimensión y la shape antes y después del reshape."
   ]
  },
  {
   "cell_type": "code",
   "execution_count": 16,
   "id": "fde27ad7-6cd7-456c-9b5e-f0913e9ce482",
   "metadata": {
    "tags": []
   },
   "outputs": [
    {
     "name": "stdout",
     "output_type": "stream",
     "text": [
      "1\n",
      "(9,)\n",
      "[1 2 3 4 5 6 7 8 9]\n",
      "2\n",
      "(3, 3)\n",
      "[[1 2 3]\n",
      " [4 5 6]\n",
      " [7 8 9]]\n"
     ]
    }
   ],
   "source": [
    "import numpy as np\n",
    "a = np.array([1,2,3,4,5,6,7,8,9])\n",
    "\n",
    "print(a.ndim)\n",
    "print(a.shape)\n",
    "print(a)\n",
    "\n",
    "b=np.reshape(a,(3,3))\n",
    "\n",
    "print(b.ndim)\n",
    "print(b.shape)\n",
    "print(b)"
   ]
  },
  {
   "cell_type": "markdown",
   "id": "feb0417e",
   "metadata": {},
   "source": [
    "## EJERCICIO 2"
   ]
  },
  {
   "cell_type": "markdown",
   "id": "91cd8f7c",
   "metadata": {},
   "source": [
    "Dados los arrays 2D ```[[-6, 5], [-4, 3], [-2, 1]] y [[1, 2], [3, 4], [5, 6]]```, concaténalos de modo que obtengas el array ```[[1, 2, -6, -5], [3, 4, -4, -3], [5, 6, -2, -1]]```"
   ]
  },
  {
   "cell_type": "code",
   "execution_count": 21,
   "id": "b2c13e6b-e745-4255-b003-c59a4b17f749",
   "metadata": {
    "tags": []
   },
   "outputs": [
    {
     "name": "stdout",
     "output_type": "stream",
     "text": [
      "[[-6  5  1  2]\n",
      " [-4  3  3  4]\n",
      " [-2  1  5  6]]\n"
     ]
    }
   ],
   "source": [
    "import numpy as np\n",
    "a = np.array([[-6, 5], [-4, 3], [-2, 1]])\n",
    "b = np.array([[1, 2], [3, 4], [5, 6]])\n",
    "\n",
    "c= np.concatenate((a, b), axis=1)\n",
    "\n",
    "print(c)"
   ]
  },
  {
   "cell_type": "markdown",
   "id": "4d68e82b",
   "metadata": {},
   "source": [
    "## EJERCICIO 3"
   ]
  },
  {
   "cell_type": "markdown",
   "id": "ec7f3b2a",
   "metadata": {},
   "source": [
    "Dado el array 2D ```[[\"ala\", \"delfín\", \"arroz\"], [\"cena\", \"kayak\", \"picnic\"], [\"hoja\", \"gato\", \"elle\"]]```, busca las palabras que sean palíndromos. Necesitarás una función universal."
   ]
  },
  {
   "cell_type": "code",
   "execution_count": 26,
   "id": "53623080-3d97-4bac-82f7-60fed1e9db06",
   "metadata": {
    "tags": []
   },
   "outputs": [],
   "source": [
    "import numpy as np\n",
    "\n",
    "a = np.array([[\"ala\", \"delfín\", \"arroz\"], [\"cena\", \"kayak\", \"picnic\"], [\"hoja\", \"gato\", \"elle\"]])\n",
    "\n",
    "def es_palindromo(w):\n",
    "    w = w.lower()\n",
    "    n = len(w)\n",
    "    for c in range(int(n / 2)):\n",
    "        if w[c] != w[n - (c + 1)]:\n",
    "            return False\n",
    "    return True\n",
    "\n",
    "np_es_palindromo = np.frompyfunc(es_palindromo, 1, 1)\n",
    "print(a[np_es_palindromo(a) == True])\n",
    "\n",
    "indices=np.where(np_es_palindromo(a)==True)\n",
    "for i in range(len(indices[0])):\n",
    "    print(a[indices[0][i]][indices[1][i]])\n",
    "\n"
   ]
  },
  {
   "cell_type": "markdown",
   "id": "5c943554",
   "metadata": {},
   "source": [
    "## EJERCICIO 4"
   ]
  },
  {
   "cell_type": "markdown",
   "id": "13d2c744",
   "metadata": {},
   "source": [
    "Crea un minijuego que piense un número aleatorio entre 1 y 10 y, hasta que no lo aciertes, te pida un número del 1 al 10. Cuando aciertes, tendrá que devolver el número de intentos y la frase: “¡¡¡ENHORABUENA!!! Has acertado el número que había pensado: el {}”. En caso de que falles, el juego deberá mostrar la frase “¡Has fallado! ¡Prueba otra vez!”"
   ]
  },
  {
   "cell_type": "code",
   "execution_count": 30,
   "id": "625007e8-9ded-49ed-9099-7b3df1fd1090",
   "metadata": {
    "tags": []
   },
   "outputs": [
    {
     "name": "stdout",
     "output_type": "stream",
     "text": [
      "Introduzca un numero al azar entre 1 y 10 a ver si acierta: 2\n"
     ]
    },
    {
     "name": "stdout",
     "output_type": "stream",
     "text": [
      "¡Has fallado! ¡Prueba otra vez!\n"
     ]
    },
    {
     "name": "stdout",
     "output_type": "stream",
     "text": [
      "Introduzca un numero al azar entre 1 y 10 a ver si acierta: 3\n"
     ]
    },
    {
     "name": "stdout",
     "output_type": "stream",
     "text": [
      "¡Has fallado! ¡Prueba otra vez!\n"
     ]
    },
    {
     "name": "stdout",
     "output_type": "stream",
     "text": [
      "Introduzca un numero al azar entre 1 y 10 a ver si acierta: 4\n"
     ]
    },
    {
     "name": "stdout",
     "output_type": "stream",
     "text": [
      "¡¡¡ENHORABUENA!!! Has acertado el número que había pensado: el 4\n",
      "El número de intentos para acertar ha sido 3\n"
     ]
    }
   ],
   "source": [
    "from numpy import random\n",
    "\n",
    "encontrado=False\n",
    "numAle=random.randint(1, 10)\n",
    "numIntentos=0\n",
    "\n",
    "while encontrado==False:\n",
    "    numUsu=int(input(\"Introduzca un numero al azar entre 1 y 10 a ver si acierta:\"))\n",
    "    \n",
    "    if numUsu==numAle:\n",
    "        encontrado=True\n",
    "        numIntentos+=1\n",
    "        print(\"¡¡¡ENHORABUENA!!! Has acertado el número que había pensado: el {}\".format(numAle))\n",
    "    else:\n",
    "        print(\"¡Has fallado! ¡Prueba otra vez!\")\n",
    "        numIntentos+=1\n",
    "        \n",
    "print(\"El número de intentos para acertar ha sido {}\".format(numIntentos))"
   ]
  },
  {
   "cell_type": "markdown",
   "id": "2972dd7e",
   "metadata": {},
   "source": [
    "## EJERCICIO 5"
   ]
  },
  {
   "cell_type": "markdown",
   "id": "ef3c12ce",
   "metadata": {},
   "source": [
    "Crea un minijuego que piense un array 1D aleatorio de 5 elementos. Los elementos serán números enteros entre 1 y 20. Para cada intento, primero tendrá que pedir 5 números enteros del 1 al 20. El juego nos tendrá que decir cuántos números del array hemos acertado y cuántos números del array están bien colocados. El juego no termina hasta que no se hayan acertado todos los números pensados en la posición correspondiente. Al acabar, se tendrá que mostrar la frase: “¡¡¡ENHORABUENA!!! Has acertado el array que había pensado: {}”"
   ]
  },
  {
   "cell_type": "code",
   "execution_count": 37,
   "id": "7b9abfbb-3d61-48e8-af2e-287703dba655",
   "metadata": {
    "tags": []
   },
   "outputs": [
    {
     "name": "stdout",
     "output_type": "stream",
     "text": [
      "[14  4 11  4 19]\n"
     ]
    },
    {
     "name": "stdout",
     "output_type": "stream",
     "text": [
      "Introduce el numero de la posición 0:  14\n",
      "Introduce el numero de la posición 1:  4\n",
      "Introduce el numero de la posición 2:  11\n",
      "Introduce el numero de la posición 3:  4\n",
      "Introduce el numero de la posición 4:  19\n"
     ]
    },
    {
     "name": "stdout",
     "output_type": "stream",
     "text": [
      "Has acertado:  5\n",
      "Están en el ordena adecuado:  5\n",
      "¡¡¡ENHORABUENA!!! Has acertado el array que había pensado: [14  4 11  4 19]\n"
     ]
    }
   ],
   "source": [
    "import numpy as np\n",
    "numerosSecretos=np.random.randint(0,20,5)\n",
    "print(numerosSecretos)\n",
    "\n",
    "ordenados=0\n",
    "\n",
    "while ordenados<5:\n",
    "    acertados=0\n",
    "    \n",
    "    for i in range(5):\n",
    "        num=int(input(\"Introduce el numero de la posición {}: \".format(i)))\n",
    "        if num in numerosSecretos:\n",
    "            acertados+=1\n",
    "        if numerosSecretos[i]==num:\n",
    "            ordenados+=1   \n",
    "    print(\"Has acertado: \", acertados)\n",
    "    print(\"Están en el ordena adecuado: \", ordenados)\n",
    "print(\"¡¡¡ENHORABUENA!!! Has acertado el array que había pensado:\", numerosSecretos)"
   ]
  },
  {
   "cell_type": "markdown",
   "id": "cbbfb36c",
   "metadata": {},
   "source": [
    "## EJERCICIO 6"
   ]
  },
  {
   "cell_type": "markdown",
   "id": "f0211a75",
   "metadata": {},
   "source": [
    "A partir de la lista ```[-3, -2, -1, 0, 1, 2, 3]```, genera dos arrays aleatorios 2D de size = (3, 4) y súmalos."
   ]
  },
  {
   "cell_type": "code",
   "execution_count": 40,
   "id": "2496acd5-138e-4f12-bf0e-a7708f6a93ef",
   "metadata": {
    "tags": []
   },
   "outputs": [
    {
     "name": "stdout",
     "output_type": "stream",
     "text": [
      "[[-2  0 -3 -1]\n",
      " [ 2  0 -2  1]\n",
      " [ 1 -1  2  3]]\n",
      "[[ 2  3  2  2]\n",
      " [-2 -1 -2  3]\n",
      " [ 1  0 -2  2]]\n",
      "[[ 0  3 -1  1]\n",
      " [ 0 -1 -4  4]\n",
      " [ 2 -1  0  5]]\n"
     ]
    }
   ],
   "source": [
    "import numpy as np\n",
    "a = np.array([-3, -2, -1, 0, 1, 2, 3])\n",
    "c1=np.random.choice(a, size = (3, 4))\n",
    "c2=np.random.choice(a, size = (3, 4))\n",
    "print(c1)\n",
    "print(c2)\n",
    "print(c1+c2)"
   ]
  },
  {
   "cell_type": "markdown",
   "id": "58dd922a",
   "metadata": {},
   "source": [
    "## <ins>Ejercicios Opcionales </ins>"
   ]
  },
  {
   "cell_type": "markdown",
   "id": "2f3cd026",
   "metadata": {},
   "source": [
    "## EJERCICIO 7"
   ]
  },
  {
   "cell_type": "markdown",
   "id": "de8639f8",
   "metadata": {},
   "source": [
    "Dado el array 2D ```[[1, 2, 3],[-1, 0, 1], [4, 5, 6], [-4, 0, 4], [3, 2, 1], [-3, 0, 3]]``` divídelo en 3 arrays 2D."
   ]
  },
  {
   "cell_type": "code",
   "execution_count": null,
   "id": "36de267b",
   "metadata": {},
   "outputs": [
    {
     "name": "stdout",
     "output_type": "stream",
     "text": [
      "b1:  [[ 1  2  3]\n",
      " [-1  0  1]]\n",
      "b2:  [[ 4  5  6]\n",
      " [-4  0  4]]\n",
      "b3:  [[ 3  2  1]\n",
      " [-3  0  3]]\n"
     ]
    }
   ],
   "source": [
    "import numpy as np\n",
    "a = np.array([[1, 2, 3],[-1, 0, 1], [4, 5, 6], [-4, 0, 4], [3, 2, 1], [-3, 0, 3]])\n",
    "b1,b2,b3=np.split(a,3)\n",
    "print(\"b1: \", b1)\n",
    "print(\"b2: \", b2)\n",
    "print(\"b3: \", b3)"
   ]
  },
  {
   "cell_type": "markdown",
   "id": "f754dfad",
   "metadata": {},
   "source": [
    "## EJERCICIO 8"
   ]
  },
  {
   "cell_type": "markdown",
   "id": "c4d05217",
   "metadata": {},
   "source": [
    "Crea una función universal que dado un array de strings devuelva el número total de vocales de cada string."
   ]
  },
  {
   "cell_type": "code",
   "execution_count": null,
   "id": "150b002f",
   "metadata": {},
   "outputs": [
    {
     "name": "stdout",
     "output_type": "stream",
     "text": [
      "El numero de vocales es: 5\n"
     ]
    }
   ],
   "source": [
    "import numpy as np\n",
    "a = np.array([\"ala\", \"delfín\", \"arroz\"])\n",
    "\n",
    "def numVocales(w):\n",
    "    contador=0\n",
    "    w = w.lower()\n",
    "    for c in w:\n",
    "        if c in \"aeiou\":\n",
    "            contador+=1\n",
    "    return contador\n",
    "\n",
    "vocales=0\n",
    "for palabra in a:\n",
    "    vocales=vocales+numVocales(palabra)\n",
    "    \n",
    "print(\"El numero de vocales es: {}\".format(vocales))"
   ]
  }
 ],
 "metadata": {
  "kernelspec": {
   "display_name": "Python 3 (ipykernel)",
   "language": "python",
   "name": "python3"
  },
  "language_info": {
   "codemirror_mode": {
    "name": "ipython",
    "version": 3
   },
   "file_extension": ".py",
   "mimetype": "text/x-python",
   "name": "python",
   "nbconvert_exporter": "python",
   "pygments_lexer": "ipython3",
   "version": "3.11.4"
  }
 },
 "nbformat": 4,
 "nbformat_minor": 5
}
