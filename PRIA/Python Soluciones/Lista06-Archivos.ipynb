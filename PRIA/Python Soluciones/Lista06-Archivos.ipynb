{
 "cells": [
  {
   "cell_type": "markdown",
   "id": "d287d88e",
   "metadata": {},
   "source": [
    "# LISTA 6 - ARCHIVOS\n",
    "## <ins>Ejercicios Obligatorios </ins>"
   ]
  },
  {
   "cell_type": "markdown",
   "id": "f99190d1",
   "metadata": {},
   "source": [
    "## EJERCICIO 1"
   ]
  },
  {
   "cell_type": "markdown",
   "id": "b3836703",
   "metadata": {},
   "source": [
    "Pídele al usuario el nombre, el apellido, la edad y su color favorito. Guarda la información en un diccionario de claves name, surname, age y color.\n",
    "\n",
    "Crea y escribe un txt con 4 frases, una en cada línea. La primera debe indicar el nombre del usuario; la segunda, el apellido; la tercera, la edad; y la última, el color favorito del usuario."
   ]
  },
  {
   "cell_type": "code",
   "execution_count": 1,
   "id": "10d5b17a",
   "metadata": {},
   "outputs": [
    {
     "name": "stdout",
     "output_type": "stream",
     "text": [
      "Introduce tu nombre: Ainara\n",
      "Introduce tu apellido: Montoya\n",
      "Introduce tu edad: 25\n",
      "Introduce tu color: Fucsia\n"
     ]
    }
   ],
   "source": [
    "nombre=input(\"Introduce tu nombre: \")\n",
    "apellido=input(\"Introduce tu apellido: \")\n",
    "edad=int(input(\"Introduce tu edad: \"))\n",
    "color=input(\"Introduce tu color: \")\n",
    "datos={\"name\":nombre,\"surname\":apellido,\"age\":edad,\"color\":color}\n",
    "f = open(\"ejercicio.txt\", mode = \"w\")\n",
    "f.write(\"Nombre y apellido: {} {}\".format(datos[\"name\"],datos[\"surname\"]))\n",
    "f.write(\"\\nEdad: {}\".format(datos[\"age\"]))\n",
    "f.write(\"\\nColor: {}\".format(datos[\"color\"]))\n",
    "f.close()\n"
   ]
  },
  {
   "cell_type": "markdown",
   "id": "feb0417e",
   "metadata": {},
   "source": [
    "## EJERCICIO 2"
   ]
  },
  {
   "cell_type": "markdown",
   "id": "91cd8f7c",
   "metadata": {},
   "source": [
    "Lee el archivo txt creado en el ejercicio anterior para ver que se ha creado correctamente."
   ]
  },
  {
   "cell_type": "code",
   "execution_count": 2,
   "id": "a2d08eca",
   "metadata": {},
   "outputs": [
    {
     "name": "stdout",
     "output_type": "stream",
     "text": [
      "Nombre y apellido: Ainara Montoya\n",
      "Edad: 25\n",
      "Color: Fucsia\n"
     ]
    }
   ],
   "source": [
    "f = open(\"ejercicio.txt\")\n",
    "print(f.read())\n",
    "f.close()"
   ]
  },
  {
   "cell_type": "markdown",
   "id": "abf81a65",
   "metadata": {},
   "source": [
    "## EJERCICIO 3"
   ]
  },
  {
   "cell_type": "markdown",
   "id": "c0dda757",
   "metadata": {},
   "source": [
    "Crea un archivo txt vacío y llámalo ej3.txt."
   ]
  },
  {
   "cell_type": "code",
   "execution_count": 3,
   "id": "df9d019c",
   "metadata": {},
   "outputs": [],
   "source": [
    "f = open(\"ej3.txt\", mode = \"x\")\n",
    "f.close()"
   ]
  },
  {
   "cell_type": "markdown",
   "id": "4d68e82b",
   "metadata": {},
   "source": [
    "## EJERCICIO 4"
   ]
  },
  {
   "cell_type": "markdown",
   "id": "ec7f3b2a",
   "metadata": {},
   "source": [
    "Elimina el archivo creado en el ejercicio 3."
   ]
  },
  {
   "cell_type": "code",
   "execution_count": 4,
   "id": "738a88a3",
   "metadata": {},
   "outputs": [],
   "source": [
    "import os\n",
    "os.remove(\"ej3.txt\")"
   ]
  },
  {
   "cell_type": "markdown",
   "id": "5c943554",
   "metadata": {},
   "source": [
    "## EJERCICIO 5"
   ]
  },
  {
   "cell_type": "markdown",
   "id": "f2fe60bc",
   "metadata": {},
   "source": [
    "Crea un archivo txt vacío y llámalo ej5.txt. Después añádele las siguientes líneas:\n",
    "```\n",
    "\"x,y,Color,Shape\\n\"\n",
    "\"1,1,#6fb7ff,<\\n\"\n",
    "\"-1,1,#ffa66f,v\\n\"\n",
    "\"-1,-1,#ffee6f,>\\n\"\n",
    "\"1,-1,#db6fff,^\\n\"\n",
    "```"
   ]
  },
  {
   "cell_type": "code",
   "execution_count": 5,
   "id": "6e94d63d",
   "metadata": {},
   "outputs": [
    {
     "data": {
      "text/plain": [
       "15"
      ]
     },
     "execution_count": 5,
     "metadata": {},
     "output_type": "execute_result"
    }
   ],
   "source": [
    "f = open(\"ej5.txt\", mode = \"x\")\n",
    "f.close()\n",
    "f=open(\"ej5.txt\", \"a\")\n",
    "f.write(\"x,y,Color,Shape \\n\")\n",
    "f.write(\"1,1,#6fb7ff,<\\n\")\n",
    "f.write(\"-1,1,#ffa66f,v\\n\")\n",
    "f.write(\"-1,-1,#ffee6f,>\\n\")\n",
    "f.write(\"1,-1,#db6fff,^\\n\")"
   ]
  }
 ],
 "metadata": {
  "kernelspec": {
   "display_name": "Python 3 (ipykernel)",
   "language": "python",
   "name": "python3"
  },
  "language_info": {
   "codemirror_mode": {
    "name": "ipython",
    "version": 3
   },
   "file_extension": ".py",
   "mimetype": "text/x-python",
   "name": "python",
   "nbconvert_exporter": "python",
   "pygments_lexer": "ipython3",
   "version": "3.11.4"
  }
 },
 "nbformat": 4,
 "nbformat_minor": 5
}
