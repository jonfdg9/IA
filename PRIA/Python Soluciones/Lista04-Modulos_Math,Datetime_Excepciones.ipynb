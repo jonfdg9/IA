{
 "cells": [
  {
   "cell_type": "markdown",
   "id": "d287d88e",
   "metadata": {},
   "source": [
    "# LISTA 4 - MODULOS MATH, DATETIME Y EXCEPCIONES\n",
    "## <ins>Ejercicios Obligatorios </ins>"
   ]
  },
  {
   "cell_type": "markdown",
   "id": "f99190d1",
   "metadata": {},
   "source": [
    "## MODULO MATH"
   ]
  },
  {
   "cell_type": "markdown",
   "id": "e38807ed-ac94-4575-ad88-c53e775cf3b1",
   "metadata": {},
   "source": [
    "## EJERCICIO 1"
   ]
  },
  {
   "cell_type": "markdown",
   "id": "3a6971b0-30cc-491f-b943-5671311946fb",
   "metadata": {
    "tags": []
   },
   "source": [
    "Escriba un programa Python para convertir grados a radianes.\n",
    "\n",
    "Nota: Para convertir de grados a radianes, multiplica el número de grados por π/180. Esto dará la medida en radianes. Si tienes un ángulo de 90 grados y quieres saber cuánto mide en radianes, multiplica 90 por π/180.\n",
    "\n",
    "Datos de prueba:\n",
    "Grado : 15\n",
    "Resultado esperado en radianes: 0,2619047619047619"
   ]
  },
  {
   "cell_type": "code",
   "execution_count": 9,
   "id": "d83f0aac-8115-47ac-977c-fd8d89ca7362",
   "metadata": {
    "tags": []
   },
   "outputs": [
    {
     "name": "stdout",
     "output_type": "stream",
     "text": [
      "Input degrees:  15\n"
     ]
    },
    {
     "name": "stdout",
     "output_type": "stream",
     "text": [
      "0.2617993877991494\n"
     ]
    }
   ],
   "source": [
    "from math import pi\n",
    "grados = float(input(\"Introduzca los grados para los que desea calcular los radianes: \"))\n",
    "radianes = grados*(pi/180)\n",
    "print(radianes)"
   ]
  },
  {
   "cell_type": "markdown",
   "id": "a84c6a7e-6e46-4798-bdbd-6e5034562439",
   "metadata": {},
   "source": [
    "## EJERCICIO 2"
   ]
  },
  {
   "cell_type": "markdown",
   "id": "85d00685-58a2-467f-aea1-d59802264426",
   "metadata": {},
   "source": [
    "Escriba un programa Python para calcular el volumen y el área de un cilindro.\n",
    "\n",
    "Nota: El volumen de un cilindro es π r² h, y el área de su superficie es 2π r h + 2π r². \n",
    "\n",
    "Datos de prueba:\n",
    "volumen: Altura (4), Radio (6)\n",
    "\n",
    "Rendimiento esperado:\n",
    "El volumen es: 452.3893421169302\n",
    "El área de superficie es: 251.32741228718345"
   ]
  },
  {
   "cell_type": "code",
   "execution_count": 19,
   "id": "ce7e9713-f6f0-4746-9062-1e5c5eef4a9e",
   "metadata": {
    "tags": []
   },
   "outputs": [
    {
     "name": "stdout",
     "output_type": "stream",
     "text": [
      "Introduzca la altura del cilindro:  4\n",
      "Introduzca el radio de la esfera:  6\n"
     ]
    },
    {
     "name": "stdout",
     "output_type": "stream",
     "text": [
      "El area de la superficie es:  452.3893421169302\n",
      "El volumen es:  251.32741228718345\n"
     ]
    }
   ],
   "source": [
    "from math import pi\n",
    "\n",
    "altura=int(input('Introduzca la altura del cilindro: '))\n",
    "radian = float(input('Introduzca el radio de la esfera: '))\n",
    "sur_area = altura*pi*radian**2\n",
    "volume = (2*pi*altura) +  (2*pi*radian ** 2)\n",
    "\n",
    "print(\"El area de la superficie es: \", sur_area)\n",
    "print(\"El volumen es: \", volume)"
   ]
  },
  {
   "cell_type": "markdown",
   "id": "6aabcb23-baf4-49d8-aa4d-d57f0ec9570a",
   "metadata": {},
   "source": [
    "## EJERCICIO 3"
   ]
  },
  {
   "cell_type": "markdown",
   "id": "fc86c4d2-fe32-4f07-89d5-20fb1630e512",
   "metadata": {},
   "source": [
    "Escriba un programa Python para calcular la diferencia entre la suma al cuadrado de los primeros n números naturales y \n",
    "la suma de los primeros n números naturales al cuadrado (valor predeterminado de número = 2).\n",
    "\n",
    "Nota: Resultado= suma de cuadrados - cuadrado de las sumas\n",
    "\n",
    "Datos de prueba:\n",
    "Si suma_diferencia(12)\n",
    "\n",
    "Resultado esperado :\n",
    "5434"
   ]
  },
  {
   "cell_type": "code",
   "execution_count": 12,
   "id": "d6222ef9-c1ad-4795-a318-111b0418edce",
   "metadata": {
    "tags": []
   },
   "outputs": [
    {
     "name": "stdout",
     "output_type": "stream",
     "text": [
      "5434\n"
     ]
    }
   ],
   "source": [
    "def sum_difference(n=2):\n",
    "    sum_of_squares = 0\n",
    "    square_of_sum = 0\n",
    "    for num in range(1, n+1):\n",
    "        sum_of_squares += num * num\n",
    "        square_of_sum += num\n",
    "\n",
    "    square_of_sum = square_of_sum ** 2\n",
    "\n",
    "    return square_of_sum - sum_of_squares\n",
    "\n",
    "\n",
    "print(sum_difference(12))"
   ]
  },
  {
   "cell_type": "markdown",
   "id": "492b431d-88f6-4f60-a7a1-774d80504dd6",
   "metadata": {},
   "source": [
    "## EJERCICIO 4"
   ]
  },
  {
   "cell_type": "markdown",
   "id": "0132d57e-62ff-48a0-9664-3b68827f6773",
   "metadata": {},
   "source": [
    "Escriba un programa Python para implementar el algoritmo euclidiano para calcular el máximo común divisor (MCD).\n",
    "\n",
    "REsultado esperado :\n",
    "\n",
    "304 = 2 * 150 + 4\n",
    "150 = 37 * 4 + 2\n",
    "4 = 2 * 2 + 0\n",
    "mcd es 2\n",
    ".........\n",
    "6 = 2 * 3 + 0\n",
    "mcd es 3\n"
   ]
  },
  {
   "cell_type": "code",
   "execution_count": 13,
   "id": "c4bb5e3f-0c75-47b3-a460-4fead122850d",
   "metadata": {
    "tags": []
   },
   "outputs": [
    {
     "name": "stdout",
     "output_type": "stream",
     "text": [
      "\n",
      "304 = 2 * 150 + 4\n",
      "150 = 37 * 4 + 2\n",
      "4 = 2 * 2 + 0\n",
      "gcd is 2\n",
      "\n",
      "1000 = 100 * 10 + 0\n",
      "gcd is 10\n",
      "\n",
      "150 = 16 * 9 + 6\n",
      "9 = 1 * 6 + 3\n",
      "6 = 2 * 3 + 0\n",
      "gcd is 3\n"
     ]
    },
    {
     "data": {
      "text/plain": [
       "3"
      ]
     },
     "execution_count": 13,
     "metadata": {},
     "output_type": "execute_result"
    }
   ],
   "source": [
    "from math import *\n",
    "\n",
    "def euclid_algo(x, y, verbose=True):\n",
    "\tif x < y: # We want x >= y\n",
    "\t\treturn euclid_algo(y, x, verbose)\n",
    "\tprint()\n",
    "\twhile y != 0:\n",
    "\t\tif verbose: print('%s = %s * %s + %s' % (x, floor(x/y), y, x % y))\n",
    "\t\t(x, y) = (y, x % y)\n",
    "\t\n",
    "\tif verbose: print('gcd is %s' % x) \n",
    "\treturn x\n",
    "\n",
    "\n",
    "euclid_algo(150, 304)\n",
    "euclid_algo(1000, 10)\n",
    "euclid_algo(150, 9)"
   ]
  },
  {
   "cell_type": "markdown",
   "id": "2327c30f-6f55-4746-b9f9-f45b2f3fa4e7",
   "metadata": {},
   "source": [
    "## EJERCICIO 5"
   ]
  },
  {
   "cell_type": "markdown",
   "id": "aa6cf027-d18f-4d89-b067-e9de2eac009c",
   "metadata": {},
   "source": [
    "Escriba un programa Python para crear una calculadora del teorema de Pitágoras.\n",
    "\n",
    "Nota: En matemáticas, el teorema de Pitágoras, también conocido como teorema de Pitágoras, \n",
    "es una relación fundamental en la geometría euclidiana entre los tres lados de un triángulo rectángulo. \n",
    "Hipotenusa² = Cateto A² + Cateto B²\n",
    "\n",
    "Resultado esperado :\n",
    "\n",
    "¡Calculadora del teorema de Pitágoras! Calcula los lados de tu triángulo.\n",
    "Supongamos que los lados son a, b y c, lo primero que hay que decidir es que lado será la hipotenusa y de ahi calcularla.\n",
    "¿Qué lado (a, b, c) deseas calcular? lado>a\n",
    "Introduzca la longitud del lado b:10\n",
    "Introduzca la longitud del lado c:20\n",
    "La longitud del lado a es\n",
    "17.320508075688775"
   ]
  },
  {
   "cell_type": "code",
   "execution_count": 25,
   "id": "cc8d245b-d411-48e6-874b-1413a817294f",
   "metadata": {
    "tags": []
   },
   "outputs": [
    {
     "name": "stdout",
     "output_type": "stream",
     "text": [
      "¡Calculadora del teorema de Pitágoras! Calcula los lados de tu triángulo!\n",
      "Supongamos que los catetos son a y  b que c es la hipotenusa.\n",
      "Lo primero que hay que decidir es con que lado vamos a trabajar y cual es el calculo en base al teorema de pitagoras.\n"
     ]
    },
    {
     "name": "stdout",
     "output_type": "stream",
     "text": [
      "¿Qué lado (a, b, c) deseas calcular? lado:  c\n",
      "Ingrese la longitud del lado a:  10\n",
      "Ingrese la longitud del lado b:  15\n"
     ]
    },
    {
     "name": "stdout",
     "output_type": "stream",
     "text": [
      "La longitud del lado c es: \n",
      "18.027756377319946\n"
     ]
    }
   ],
   "source": [
    "from math import sqrt\n",
    "\n",
    "print('¡Calculadora del teorema de Pitágoras! Calcula los lados de tu triángulo!')\n",
    "print('Supongamos que los catetos son a y  b que c es la hipotenusa.' )\n",
    "print('Lo primero que hay que decidir es con que lado vamos a trabajar y cual es el calculo en base al teorema de pitagoras.')\n",
    "formula = input('¿Qué lado (a, b, c) deseas calcular? lado: ')\n",
    "\n",
    "if formula == 'c':\n",
    "\tside_a = int(input('Ingrese la longitud del lado a: '))\n",
    "\tside_b = int(input('Ingrese la longitud del lado b: '))\n",
    "\n",
    "\tside_c = sqrt(side_a * side_a + side_b * side_b)\n",
    "\t\n",
    "\tprint('La longitud del lado c es: ' )\n",
    "\tprint(side_c)\n",
    "\n",
    "elif formula == 'a':\n",
    "    side_b = int(input('Introduzca la longitud del lado b: '))\n",
    "    side_c = int(input('Introduzca la longitud del lado c: '))\n",
    "    \n",
    "    side_a = sqrt((side_c * side_c) - (side_b * side_b))\n",
    "    \n",
    "    print('La longitud del lado a es:' )\n",
    "    print(side_a)\n",
    "\n",
    "elif formula == 'b':\n",
    "    side_a = int(input('Ingrese la longitud del lado a: '))\n",
    "    side_c = int(input('Ingrese la longitud del lado c: '))\n",
    "        \n",
    "    side_b = sqrt(side_c * side_c - side_a * side_a)\n",
    "    \n",
    "    print('La longitud del lado b es:')\n",
    "    print(side_b)\n",
    "\n",
    "else:\n",
    "\tprint('Es necesario  un lado entre a, b, c')"
   ]
  },
  {
   "cell_type": "markdown",
   "id": "269c4b20-4a4d-4c25-bc8d-090abc7f4dad",
   "metadata": {},
   "source": [
    "## MODULO DATE TIME"
   ]
  },
  {
   "cell_type": "markdown",
   "id": "4e700cd7-0b76-466f-b769-abfeb7c8a5c4",
   "metadata": {},
   "source": [
    "## EJERCICIO 6"
   ]
  },
  {
   "cell_type": "markdown",
   "id": "b10c5aa7-0b30-4aa6-9b98-c2d4bbf8f265",
   "metadata": {},
   "source": [
    "Escriba un script de Python para mostrar los distintos formatos de fecha y hora:\n",
    "a) Fecha y hora actuales\n",
    "b) año en curso\n",
    "c) Mes del año\n",
    "d) Número de semana del año\n",
    "e) Día laborable de la semana\n",
    "f) Día del año\n",
    "g) Día del mes\n",
    "h) Día de la semana"
   ]
  },
  {
   "cell_type": "code",
   "execution_count": 16,
   "id": "451ffe31-7e97-41ab-972d-be65f8411337",
   "metadata": {
    "tags": []
   },
   "outputs": [
    {
     "name": "stdout",
     "output_type": "stream",
     "text": [
      "Current date and time:  2023-09-17 14:24:01.889068\n",
      "Current year:  2023\n",
      "Month of year:  September\n",
      "Week number of the year:  37\n",
      "Weekday of the week:  0\n",
      "Day of year:  260\n",
      "Day of the month :  17\n",
      "Day of week:  Sunday\n"
     ]
    }
   ],
   "source": [
    "import time\n",
    "import datetime\n",
    "\n",
    "print(\"Current date and time: \" , datetime.datetime.now())\n",
    "print(\"Current year: \", datetime.date.today().strftime(\"%Y\"))\n",
    "print(\"Month of year: \", datetime.date.today().strftime(\"%B\"))\n",
    "print(\"Week number of the year: \", datetime.date.today().strftime(\"%W\"))\n",
    "print(\"Weekday of the week: \", datetime.date.today().strftime(\"%w\"))\n",
    "print(\"Day of year: \", datetime.date.today().strftime(\"%j\"))\n",
    "print(\"Day of the month : \", datetime.date.today().strftime(\"%d\"))\n",
    "print(\"Day of week: \", datetime.date.today().strftime(\"%A\"))"
   ]
  },
  {
   "cell_type": "markdown",
   "id": "51834dc8-91dd-49d1-adf6-ec489068b5f2",
   "metadata": {},
   "source": [
    "## EJERCICIO 7"
   ]
  },
  {
   "cell_type": "markdown",
   "id": "9dde1240-c29c-400b-a2df-bd2cebcb8a80",
   "metadata": {},
   "source": [
    "Escriba un programa Python para restar cinco días de la fecha actual.\n",
    "Fecha de muestra:\n",
    "Fecha actual: 2015-06-22\n",
    "5 días antes Fecha actual: 2015-06-17"
   ]
  },
  {
   "cell_type": "code",
   "execution_count": 17,
   "id": "cebe4226-9ebe-4777-803a-5aa93b47672f",
   "metadata": {
    "tags": []
   },
   "outputs": [
    {
     "name": "stdout",
     "output_type": "stream",
     "text": [
      "Fecha actual : 2023-09-17\n",
      "5 dias antes de la fecha actual : 2023-09-12\n"
     ]
    }
   ],
   "source": [
    "from datetime import date, timedelta\n",
    "dt = date.today() - timedelta(5)\n",
    "print('Fecha actual :',date.today())\n",
    "print('5 dias antes de la fecha actual :',dt)"
   ]
  },
  {
   "cell_type": "markdown",
   "id": "082309e7-cb10-4f2d-a719-8264b95f3682",
   "metadata": {},
   "source": [
    "## MODULO EXCEPTIONS"
   ]
  },
  {
   "cell_type": "markdown",
   "id": "feb0417e",
   "metadata": {},
   "source": [
    "## EJERCICIO 8"
   ]
  },
  {
   "cell_type": "markdown",
   "id": "91cd8f7c",
   "metadata": {},
   "source": [
    "Dada la función divisors(), muestra TypeError con el mensaje correspondiente si el parámetro n no se trata de un número entero y muestra ValueError con el mensaje correspondiente si n no se trata de un número positivo.\n",
    "\n",
    "```\n",
    "def divisors(n):\n",
    "    \"\"\"\n",
    "    Calcula los divisores de un número entero positivo.\n",
    "    Args:\n",
    "        n: Número entero positive\n",
    "    Returns:\n",
    "        divisors: Lista de divisores de n\n",
    "    \"\"\"\"\n",
    "    divisors = []\n",
    "    for i in range(1, n + 1):\n",
    "        if n % i == 0: divisors.append(i)\n",
    "             return divisors\n",
    "```"
   ]
  },
  {
   "cell_type": "code",
   "execution_count": 3,
   "id": "a2d08eca",
   "metadata": {},
   "outputs": [
    {
     "ename": "ValueError",
     "evalue": "n debe ser positivo",
     "output_type": "error",
     "traceback": [
      "\u001b[1;31m---------------------------------------------------------------------------\u001b[0m",
      "\u001b[1;31mValueError\u001b[0m                                Traceback (most recent call last)",
      "Cell \u001b[1;32mIn[3], line 11\u001b[0m\n\u001b[0;32m      8\u001b[0m         \u001b[38;5;28;01mif\u001b[39;00m n \u001b[38;5;241m%\u001b[39m i \u001b[38;5;241m==\u001b[39m \u001b[38;5;241m0\u001b[39m: divisors\u001b[38;5;241m.\u001b[39mappend(i)\n\u001b[0;32m      9\u001b[0m     \u001b[38;5;28;01mreturn\u001b[39;00m divisors\n\u001b[1;32m---> 11\u001b[0m \u001b[43mdivisors\u001b[49m\u001b[43m(\u001b[49m\u001b[38;5;241;43m-\u001b[39;49m\u001b[38;5;241;43m100\u001b[39;49m\u001b[43m)\u001b[49m\n",
      "Cell \u001b[1;32mIn[3], line 5\u001b[0m, in \u001b[0;36mdivisors\u001b[1;34m(n)\u001b[0m\n\u001b[0;32m      3\u001b[0m     \u001b[38;5;28;01mraise\u001b[39;00m \u001b[38;5;167;01mTypeError\u001b[39;00m(\u001b[38;5;124m\"\u001b[39m\u001b[38;5;124mn debe ser entero\u001b[39m\u001b[38;5;124m\"\u001b[39m)\n\u001b[0;32m      4\u001b[0m \u001b[38;5;28;01mif\u001b[39;00m n\u001b[38;5;241m<\u001b[39m\u001b[38;5;241m0\u001b[39m:\n\u001b[1;32m----> 5\u001b[0m     \u001b[38;5;28;01mraise\u001b[39;00m \u001b[38;5;167;01mValueError\u001b[39;00m(\u001b[38;5;124m\"\u001b[39m\u001b[38;5;124mn debe ser positivo\u001b[39m\u001b[38;5;124m\"\u001b[39m)\n\u001b[0;32m      6\u001b[0m divisors \u001b[38;5;241m=\u001b[39m []\n\u001b[0;32m      7\u001b[0m \u001b[38;5;28;01mfor\u001b[39;00m i \u001b[38;5;129;01min\u001b[39;00m \u001b[38;5;28mrange\u001b[39m(\u001b[38;5;241m1\u001b[39m, n \u001b[38;5;241m+\u001b[39m \u001b[38;5;241m1\u001b[39m):\n",
      "\u001b[1;31mValueError\u001b[0m: n debe ser positivo"
     ]
    }
   ],
   "source": [
    "def divisors(n):\n",
    "    if type(n)!=int :\n",
    "        raise TypeError(\"n debe ser entero\")\n",
    "    if n<0:\n",
    "        raise ValueError(\"n debe ser positivo\")\n",
    "    divisors = []\n",
    "    for i in range(1, n + 1):\n",
    "        if n % i == 0: divisors.append(i)\n",
    "    return divisors\n",
    "\n",
    "divisors(-100)\n"
   ]
  },
  {
   "cell_type": "markdown",
   "id": "59397f22",
   "metadata": {},
   "source": [
    "## EJERCICIO 9"
   ]
  },
  {
   "cell_type": "markdown",
   "id": "8272bcdf",
   "metadata": {},
   "source": [
    "Crea una función que solicite al usuario la edad. Lanza una excepción en caso de que no se trate de una edad válida. Se considera edad no válida una edad negativa o mayor a 150. En cada caso, lanza el mensaje correspondiente."
   ]
  },
  {
   "cell_type": "code",
   "execution_count": 21,
   "id": "4ae4ddf2",
   "metadata": {},
   "outputs": [
    {
     "name": "stdout",
     "output_type": "stream",
     "text": [
      "Introduce tu edad: -5\n"
     ]
    },
    {
     "ename": "ValueError",
     "evalue": "Tu edad no puede ser negativa",
     "output_type": "error",
     "traceback": [
      "\u001b[0;31m---------------------------------------------------------------------------\u001b[0m",
      "\u001b[0;31mValueError\u001b[0m                                Traceback (most recent call last)",
      "Cell \u001b[0;32mIn[21], line 9\u001b[0m\n\u001b[1;32m      6\u001b[0m         \u001b[38;5;28;01mraise\u001b[39;00m \u001b[38;5;167;01mValueError\u001b[39;00m(\u001b[38;5;124m\"\u001b[39m\u001b[38;5;124mNo puedes ser tan mayor\u001b[39m\u001b[38;5;124m\"\u001b[39m)\n\u001b[1;32m      7\u001b[0m     \u001b[38;5;28;01mreturn\u001b[39;00m edad\n\u001b[0;32m----> 9\u001b[0m \u001b[43medad_us\u001b[49m\u001b[43m(\u001b[49m\u001b[43m)\u001b[49m\n",
      "Cell \u001b[0;32mIn[21], line 4\u001b[0m, in \u001b[0;36medad_us\u001b[0;34m()\u001b[0m\n\u001b[1;32m      2\u001b[0m edad \u001b[38;5;241m=\u001b[39m \u001b[38;5;28mint\u001b[39m(\u001b[38;5;28minput\u001b[39m(\u001b[38;5;124m\"\u001b[39m\u001b[38;5;124mIntroduce tu edad: \u001b[39m\u001b[38;5;124m\"\u001b[39m))\n\u001b[1;32m      3\u001b[0m \u001b[38;5;28;01mif\u001b[39;00m edad \u001b[38;5;241m<\u001b[39m \u001b[38;5;241m0\u001b[39m :\n\u001b[0;32m----> 4\u001b[0m     \u001b[38;5;28;01mraise\u001b[39;00m \u001b[38;5;167;01mValueError\u001b[39;00m(\u001b[38;5;124m\"\u001b[39m\u001b[38;5;124mTu edad no puede ser negativa\u001b[39m\u001b[38;5;124m\"\u001b[39m)\n\u001b[1;32m      5\u001b[0m \u001b[38;5;28;01mif\u001b[39;00m edad \u001b[38;5;241m>\u001b[39m \u001b[38;5;241m150\u001b[39m :\n\u001b[1;32m      6\u001b[0m     \u001b[38;5;28;01mraise\u001b[39;00m \u001b[38;5;167;01mValueError\u001b[39;00m(\u001b[38;5;124m\"\u001b[39m\u001b[38;5;124mNo puedes ser tan mayor\u001b[39m\u001b[38;5;124m\"\u001b[39m)\n",
      "\u001b[0;31mValueError\u001b[0m: Tu edad no puede ser negativa"
     ]
    }
   ],
   "source": [
    "def edad_us():\n",
    "    edad = int(input(\"Introduce tu edad: \"))\n",
    "    if edad < 0 :\n",
    "        raise ValueError(\"Tu edad no puede ser negativa\")\n",
    "    if edad > 150 :\n",
    "        raise ValueError(\"No puedes ser tan mayor\")\n",
    "    return edad\n",
    "\n",
    "edad_us()"
   ]
  },
  {
   "cell_type": "markdown",
   "id": "4a1406cd",
   "metadata": {},
   "source": [
    "## <ins>Ejercicios Opcionales </ins>"
   ]
  },
  {
   "cell_type": "markdown",
   "id": "50ffd23f",
   "metadata": {},
   "source": [
    "## EJERCICIO 10"
   ]
  },
  {
   "cell_type": "markdown",
   "id": "6d8f8a97",
   "metadata": {},
   "source": [
    "Escriba un programa Python para agregar años a una fecha determinada y mostrar la fecha actualizada.\n",
    "\n",
    "Datos de muestra: (addYears es el nombre de la función definida por el usuario)\n",
    "imprimir (agregar años (fecha y hora. fecha (2015,1,1), -1))\n",
    "imprimir (agregar años (fecha y hora. fecha (2015,1,1), 0))\n",
    "imprimir (agregar años (fecha y hora. fecha (2015,1,1), 2))\n",
    "imprimir(agregarAños(fechahora.fecha(2000,2,29),1))\n",
    "\n",
    "Rendimiento esperado :\n",
    "2014-01-01\n",
    "2015-01-01\n",
    "2017-01-01\n",
    "2001-03-01"
   ]
  },
  {
   "cell_type": "code",
   "execution_count": null,
   "id": "ddac0f82",
   "metadata": {},
   "outputs": [
    {
     "name": "stdout",
     "output_type": "stream",
     "text": [
      "2014-01-01\n",
      "2015-01-01\n",
      "2017-01-01\n",
      "2001-03-01\n"
     ]
    }
   ],
   "source": [
    "import datetime\n",
    "from datetime import date\n",
    "def addYears(d, years):\n",
    "    try:\n",
    "#Return same day of the current year        \n",
    "        return d.replace(year = d.year + years)\n",
    "    except ValueError:\n",
    "#If not same day, it will return other, i.e.  February 29 to March 1 etc.        \n",
    "        return d + (date(d.year + years, 1, 1) - date(d.year, 1, 1))\n",
    "\n",
    "print(addYears(datetime.date(2015,1,1), -1))\n",
    "print(addYears(datetime.date(2015,1,1), 0))\n",
    "print(addYears(datetime.date(2015,1,1), 2))\n",
    "print(addYears(datetime.date(2000,2,29),1))"
   ]
  },
  {
   "cell_type": "markdown",
   "id": "9855e9fa",
   "metadata": {},
   "source": [
    "## EJERCICIO 11"
   ]
  },
  {
   "cell_type": "markdown",
   "id": "3b279d4b",
   "metadata": {},
   "source": []
  },
  {
   "cell_type": "markdown",
   "id": "1f933183",
   "metadata": {},
   "source": [
    "Dada la función divisors(), asegura con assert que el parámetro n se trata de un número entero positivo. De lo contrario, muestra como mensaje que \"n debe ser de tipo int y debe ser mayor que 0\"\n",
    "\n",
    "```\n",
    "def divisors(n):\n",
    "    \"\"\"\n",
    "    Calcula los divisores de un número entero positivo.\n",
    "    Args:\n",
    "        n: Número entero positive\n",
    "    Returns:\n",
    "        divisors: Lista de divisores de n\n",
    "    \"\"\"\"\n",
    "    divisors = []\n",
    "    for i in range(1, n + 1):\n",
    "        if n % i == 0: divisors.append(i)\n",
    "     return divisors\n",
    "```"
   ]
  },
  {
   "cell_type": "code",
   "execution_count": null,
   "id": "14c46b4a",
   "metadata": {},
   "outputs": [
    {
     "ename": "AssertionError",
     "evalue": "n debe ser de tipo int y debe ser mayor que 0",
     "output_type": "error",
     "traceback": [
      "\u001b[1;31m---------------------------------------------------------------------------\u001b[0m\n",
      "\u001b[1;31mAssertionError\u001b[0m                            Traceback (most recent call last)\n",
      "Cell \u001b[1;32mIn[1], line 8\u001b[0m\n",
      "\u001b[0;32m      5\u001b[0m         \u001b[38;5;28;01mif\u001b[39;00m n \u001b[38;5;241m%\u001b[39m i \u001b[38;5;241m==\u001b[39m \u001b[38;5;241m0\u001b[39m: divisors\u001b[38;5;241m.\u001b[39mappend(i)\n",
      "\u001b[0;32m      6\u001b[0m     \u001b[38;5;28;01mreturn\u001b[39;00m divisors\n",
      "\u001b[1;32m----> 8\u001b[0m \u001b[43mdivisors\u001b[49m\u001b[43m(\u001b[49m\u001b[38;5;241;43m-\u001b[39;49m\u001b[38;5;241;43m10\u001b[39;49m\u001b[43m)\u001b[49m\n",
      "\n",
      "Cell \u001b[1;32mIn[1], line 2\u001b[0m, in \u001b[0;36mdivisors\u001b[1;34m(n)\u001b[0m\n",
      "\u001b[0;32m      1\u001b[0m \u001b[38;5;28;01mdef\u001b[39;00m \u001b[38;5;21mdivisors\u001b[39m(n):\n",
      "\u001b[1;32m----> 2\u001b[0m     \u001b[38;5;28;01massert\u001b[39;00m \u001b[38;5;28mtype\u001b[39m(n)\u001b[38;5;241m==\u001b[39m\u001b[38;5;28mint\u001b[39m \u001b[38;5;129;01mand\u001b[39;00m n\u001b[38;5;241m>\u001b[39m\u001b[38;5;241m0\u001b[39m, \u001b[38;5;124m\"\u001b[39m\u001b[38;5;124mn debe ser de tipo int y debe ser mayor que 0\u001b[39m\u001b[38;5;124m\"\u001b[39m\n",
      "\u001b[0;32m      3\u001b[0m     divisors \u001b[38;5;241m=\u001b[39m []\n",
      "\u001b[0;32m      4\u001b[0m     \u001b[38;5;28;01mfor\u001b[39;00m i \u001b[38;5;129;01min\u001b[39;00m \u001b[38;5;28mrange\u001b[39m(\u001b[38;5;241m1\u001b[39m, n \u001b[38;5;241m+\u001b[39m \u001b[38;5;241m1\u001b[39m):\n",
      "\n",
      "\u001b[1;31mAssertionError\u001b[0m: n debe ser de tipo int y debe ser mayor que 0"
     ]
    }
   ],
   "source": [
    "def divisors(n):\n",
    "    assert type(n)==int and n>0, \"n debe ser de tipo int y debe ser mayor que 0\"\n",
    "    divisors = []\n",
    "    for i in range(1, n + 1):\n",
    "        if n % i == 0: divisors.append(i)\n",
    "    return divisors\n",
    "\n",
    "divisors(-10)"
   ]
  },
  {
   "cell_type": "markdown",
   "id": "0a68a0f3",
   "metadata": {},
   "source": [
    "## EJERCICIO 12"
   ]
  },
  {
   "cell_type": "markdown",
   "id": "6afb4b61",
   "metadata": {},
   "source": [
    "Dada la función is_palindrome(), asegura con assert que el parámetro word se trata de una variable de tipo string. De lo contrario, muestra como mensaje que \"word debe ser de tipo string\".\n",
    "\n",
    "```\n",
    "def is_palindrome(word):\n",
    "    \"\"\"\n",
    "    Devuelve si la palabra word es palíndroma.\n",
    "    Args:\n",
    "        word: Palabra\n",
    "    Returns:\n",
    "        isPalindrome: Booleano\n",
    "    \"\"\"\n",
    "    word = word.lower()\n",
    "    l = []\n",
    "    isPalindrome = True\n",
    "    for c in word: \n",
    "        l.append(c)\n",
    "        n = len(l)\n",
    "    for i in range(int(n / 2)):\n",
    "        if l[i] != l[n - (i + 1)]: \n",
    "            isPalindrome = False\n",
    "     return isPalindrome\n",
    "```"
   ]
  },
  {
   "cell_type": "code",
   "execution_count": null,
   "id": "c8dbe729",
   "metadata": {},
   "outputs": [
    {
     "ename": "AssertionError",
     "evalue": "word debe ser de tipo string",
     "output_type": "error",
     "traceback": [
      "\u001b[0;31m---------------------------------------------------------------------------\u001b[0m\n",
      "\u001b[0;31mAssertionError\u001b[0m                            Traceback (most recent call last)\n",
      "Cell \u001b[0;32mIn[13], line 14\u001b[0m\n",
      "\u001b[1;32m     11\u001b[0m             isPalindrome \u001b[38;5;241m=\u001b[39m \u001b[38;5;28;01mFalse\u001b[39;00m\n",
      "\u001b[1;32m     12\u001b[0m     \u001b[38;5;28;01mreturn\u001b[39;00m isPalindrome\n",
      "\u001b[0;32m---> 14\u001b[0m \u001b[43mis_palindrome\u001b[49m\u001b[43m(\u001b[49m\u001b[38;5;241;43m5\u001b[39;49m\u001b[43m)\u001b[49m\n",
      "\n",
      "Cell \u001b[0;32mIn[13], line 2\u001b[0m, in \u001b[0;36mis_palindrome\u001b[0;34m(word)\u001b[0m\n",
      "\u001b[1;32m      1\u001b[0m \u001b[38;5;28;01mdef\u001b[39;00m \u001b[38;5;21mis_palindrome\u001b[39m(word):\n",
      "\u001b[0;32m----> 2\u001b[0m     \u001b[38;5;28;01massert\u001b[39;00m \u001b[38;5;28mtype\u001b[39m(word)\u001b[38;5;241m==\u001b[39m\u001b[38;5;28mstr\u001b[39m, \u001b[38;5;124m\"\u001b[39m\u001b[38;5;124mword debe ser de tipo string\u001b[39m\u001b[38;5;124m\"\u001b[39m\n",
      "\u001b[1;32m      3\u001b[0m     word \u001b[38;5;241m=\u001b[39m word\u001b[38;5;241m.\u001b[39mlower()\n",
      "\u001b[1;32m      4\u001b[0m     l \u001b[38;5;241m=\u001b[39m []\n",
      "\n",
      "\u001b[0;31mAssertionError\u001b[0m: word debe ser de tipo string"
     ]
    }
   ],
   "source": [
    "def is_palindrome(word):\n",
    "    assert type(word)==str, \"word debe ser de tipo string\"\n",
    "    word = word.lower()\n",
    "    l = []\n",
    "    isPalindrome = True\n",
    "    for c in word:\n",
    "        l.append(c)\n",
    "        n = len(l)\n",
    "    for i in range(int(n / 2)):\n",
    "        if l[i] != l[n - (i + 1)]: \n",
    "            isPalindrome = False\n",
    "    return isPalindrome\n",
    "\n",
    "is_palindrome(5)"
   ]
  },
  {
   "cell_type": "markdown",
   "id": "20adc415",
   "metadata": {},
   "source": [
    "## EJERCICIO 13"
   ]
  },
  {
   "cell_type": "markdown",
   "id": "64ebde0e",
   "metadata": {},
   "source": [
    "Dada la función is_palindrome(), muestra TypeError con el mensaje correspondiente si word no se trata de una variable de tipo string.\n",
    "```\n",
    "def is_palindrome(word):\n",
    "    \"\"\"\n",
    "    Devuelve si la palabra word es palíndroma.\n",
    "    Args:\n",
    "        word: Palabra\n",
    "    Returns:\n",
    "        isPalindrome: Booleano\n",
    "    \"\"\"\n",
    "    word = word.lower()\n",
    "    l = []\n",
    "    isPalindrome = True\n",
    "    for c in word: \n",
    "        l.append(c)\n",
    "        n = len(l)\n",
    "    for i in range(int(n / 2)):\n",
    "        if l[i] != l[n - (i + 1)]: \n",
    "            isPalindrome = False\n",
    "     return isPalindrome\n",
    "```"
   ]
  },
  {
   "cell_type": "code",
   "execution_count": null,
   "id": "a68ba0b7",
   "metadata": {},
   "outputs": [
    {
     "ename": "TypeError",
     "evalue": "word debe ser de tipo string",
     "output_type": "error",
     "traceback": [
      "\u001b[0;31m---------------------------------------------------------------------------\u001b[0m\n",
      "\u001b[0;31mTypeError\u001b[0m                                 Traceback (most recent call last)\n",
      "Cell \u001b[0;32mIn[14], line 15\u001b[0m\n",
      "\u001b[1;32m     12\u001b[0m             isPalindrome \u001b[38;5;241m=\u001b[39m \u001b[38;5;28;01mFalse\u001b[39;00m\n",
      "\u001b[1;32m     13\u001b[0m     \u001b[38;5;28;01mreturn\u001b[39;00m isPalindrome\n",
      "\u001b[0;32m---> 15\u001b[0m \u001b[43mis_palindrome\u001b[49m\u001b[43m(\u001b[49m\u001b[38;5;241;43m5\u001b[39;49m\u001b[43m)\u001b[49m\n",
      "\n",
      "Cell \u001b[0;32mIn[14], line 3\u001b[0m, in \u001b[0;36mis_palindrome\u001b[0;34m(word)\u001b[0m\n",
      "\u001b[1;32m      1\u001b[0m \u001b[38;5;28;01mdef\u001b[39;00m \u001b[38;5;21mis_palindrome\u001b[39m(word):\n",
      "\u001b[1;32m      2\u001b[0m     \u001b[38;5;28;01mif\u001b[39;00m \u001b[38;5;28mtype\u001b[39m(word)\u001b[38;5;241m!=\u001b[39m\u001b[38;5;28mstr\u001b[39m:\n",
      "\u001b[0;32m----> 3\u001b[0m         \u001b[38;5;28;01mraise\u001b[39;00m \u001b[38;5;167;01mTypeError\u001b[39;00m(\u001b[38;5;124m\"\u001b[39m\u001b[38;5;124mword debe ser de tipo string\u001b[39m\u001b[38;5;124m\"\u001b[39m)\n",
      "\u001b[1;32m      4\u001b[0m     word \u001b[38;5;241m=\u001b[39m word\u001b[38;5;241m.\u001b[39mlower()\n",
      "\u001b[1;32m      5\u001b[0m     l \u001b[38;5;241m=\u001b[39m []\n",
      "\n",
      "\u001b[0;31mTypeError\u001b[0m: word debe ser de tipo string"
     ]
    }
   ],
   "source": [
    "def is_palindrome(word):\n",
    "    if type(word)!=str:\n",
    "        raise TypeError(\"word debe ser de tipo string\")\n",
    "    word = word.lower()\n",
    "    l = []\n",
    "    isPalindrome = True\n",
    "    for c in word:\n",
    "        l.append(c)\n",
    "    n = len(l)\n",
    "    for i in range(int(n / 2)):\n",
    "        if l[i] != l[n - (i + 1)]: \n",
    "            isPalindrome = False\n",
    "    return isPalindrome\n",
    "\n",
    "is_palindrome(5)"
   ]
  },
  {
   "cell_type": "code",
   "execution_count": null,
   "id": "b2094812",
   "metadata": {},
   "outputs": [],
   "source": []
  },
  {
   "cell_type": "markdown",
   "id": "a6c678f9",
   "metadata": {},
   "source": [
    "## EJERCICIO 14"
   ]
  },
  {
   "cell_type": "markdown",
   "id": "10d31459",
   "metadata": {},
   "source": [
    "Dada la función is_palindrome(), muestra ValueError con el mensaje correspondiente si word no se trata de una palabra. Es decir, si una vez ha pasado la comprobación de ser una variable de tipo string, comprueba que no tiene espacios.\n",
    "\n",
    "```\n",
    "def is_palindrome(word):\n",
    "    \"\"\"\n",
    "    Devuelve si la palabra word es palíndroma.\n",
    "    Args:\n",
    "        word: Palabra\n",
    "    Returns:\n",
    "        isPalindrome: Booleano\n",
    "    \"\"\"\n",
    "    word = word.lower()\n",
    "    l = []\n",
    "    isPalindrome = True\n",
    "    for c in word: \n",
    "        l.append(c)\n",
    "        n = len(l)\n",
    "    for i in range(int(n / 2)):\n",
    "        if l[i] != l[n - (i + 1)]: \n",
    "            isPalindrome = False\n",
    "     return isPalindrome\n",
    "```"
   ]
  },
  {
   "cell_type": "code",
   "execution_count": null,
   "id": "492af776",
   "metadata": {},
   "outputs": [
    {
     "ename": "ValueError",
     "evalue": "no es una palabra",
     "output_type": "error",
     "traceback": [
      "\u001b[0;31m---------------------------------------------------------------------------\u001b[0m\n",
      "\u001b[0;31mValueError\u001b[0m                                Traceback (most recent call last)\n",
      "Cell \u001b[0;32mIn[16], line 17\u001b[0m\n",
      "\u001b[1;32m     14\u001b[0m             isPalindrome \u001b[38;5;241m=\u001b[39m \u001b[38;5;28;01mFalse\u001b[39;00m\n",
      "\u001b[1;32m     15\u001b[0m     \u001b[38;5;28;01mreturn\u001b[39;00m isPalindrome\n",
      "\u001b[0;32m---> 17\u001b[0m \u001b[43mis_palindrome\u001b[49m\u001b[43m(\u001b[49m\u001b[38;5;124;43m\"\u001b[39;49m\u001b[38;5;124;43m \u001b[39;49m\u001b[38;5;124;43m\"\u001b[39;49m\u001b[43m)\u001b[49m\n",
      "\n",
      "Cell \u001b[0;32mIn[16], line 5\u001b[0m, in \u001b[0;36mis_palindrome\u001b[0;34m(word)\u001b[0m\n",
      "\u001b[1;32m      3\u001b[0m     \u001b[38;5;28;01mraise\u001b[39;00m \u001b[38;5;167;01mTypeError\u001b[39;00m(\u001b[38;5;124m\"\u001b[39m\u001b[38;5;124mword debe ser de tipo string\u001b[39m\u001b[38;5;124m\"\u001b[39m)\n",
      "\u001b[1;32m      4\u001b[0m \u001b[38;5;28;01mif\u001b[39;00m \u001b[38;5;124m\"\u001b[39m\u001b[38;5;124m \u001b[39m\u001b[38;5;124m\"\u001b[39m \u001b[38;5;129;01min\u001b[39;00m word:\n",
      "\u001b[0;32m----> 5\u001b[0m     \u001b[38;5;28;01mraise\u001b[39;00m \u001b[38;5;167;01mValueError\u001b[39;00m(\u001b[38;5;124m\"\u001b[39m\u001b[38;5;124mno es una palabra\u001b[39m\u001b[38;5;124m\"\u001b[39m)\n",
      "\u001b[1;32m      6\u001b[0m word \u001b[38;5;241m=\u001b[39m word\u001b[38;5;241m.\u001b[39mlower()\n",
      "\u001b[1;32m      7\u001b[0m l \u001b[38;5;241m=\u001b[39m []\n",
      "\n",
      "\u001b[0;31mValueError\u001b[0m: no es una palabra"
     ]
    }
   ],
   "source": [
    "def is_palindrome(word):\n",
    "    if type(word)!=str:\n",
    "        raise TypeError(\"word debe ser de tipo string\")\n",
    "    if \" \" in word:\n",
    "        raise ValueError(\"no es una palabra\")\n",
    "    word = word.lower()\n",
    "    l = []\n",
    "    isPalindrome = True\n",
    "    for c in word:\n",
    "        l.append(c)\n",
    "    n = len(l)\n",
    "    for i in range(int(n / 2)):\n",
    "        if l[i] != l[n - (i + 1)]: \n",
    "            isPalindrome = False\n",
    "    return isPalindrome\n",
    "\n",
    "is_palindrome(\" \")"
   ]
  },
  {
   "cell_type": "markdown",
   "id": "4301079b",
   "metadata": {},
   "source": [
    "## EJERCICIO 15"
   ]
  },
  {
   "cell_type": "markdown",
   "id": "490dc601",
   "metadata": {},
   "source": [
    "Utiliza try / except para dado un objeto de Python guardarlo en la variable x, aplicarle el método .index() y localizar el elemento \"c\". En el bloque try, guarda el resultado en la variable result. En el bloque except, en la variable result, si el objeto x es una lista, guarda el mensaje \"La lista no tiene el elemento 'c'\". En caso contrario, guarda el mensaje \"El objeto {tipo del objeto que sea x} no tiene el método .index()\". Finalmente, imprime por pantalla el resultado."
   ]
  },
  {
   "cell_type": "code",
   "execution_count": null,
   "id": "da2c84ea",
   "metadata": {},
   "outputs": [
    {
     "name": "stdout",
     "output_type": "stream",
     "text": [
      "La lista no tiene el elemento 'c' \n"
     ]
    }
   ],
   "source": [
    "#x = [\"a\", \"b\", \"c\"]\n",
    "#x=\"asdfas\"\n",
    "x = [\"a\", \"b\", \"d\"]\n",
    "try:\n",
    "    result = x.index(\"c\")\n",
    "except:\n",
    "    if type(x) == list:\n",
    "        result = \"La lista no tiene el elemento 'c' \"\n",
    "    else:\n",
    "        result = \"El objeto {} no tiene el método .index()\".format(type(x).__name__)\n",
    "print(result)\n"
   ]
  },
  {
   "cell_type": "markdown",
   "id": "085fd070",
   "metadata": {},
   "source": [
    "## EJERCICIO 16"
   ]
  },
  {
   "cell_type": "markdown",
   "id": "91bf8be3",
   "metadata": {},
   "source": [
    "Crea una función que calcule el área de un cuadrado. Como parámetro se recibirá un número real, correspondiente a la longitud de la base. Lanza las excepciones pertinentes siempre que el parámetro no se trate de un número real o entero positivo."
   ]
  },
  {
   "cell_type": "code",
   "execution_count": null,
   "id": "547d6cac",
   "metadata": {},
   "outputs": [
    {
     "ename": "TypeError",
     "evalue": "la base tiene que ser entera o decimal",
     "output_type": "error",
     "traceback": [
      "\u001b[0;31m---------------------------------------------------------------------------\u001b[0m\n",
      "\u001b[0;31mTypeError\u001b[0m                                 Traceback (most recent call last)\n",
      "Cell \u001b[0;32mIn[20], line 8\u001b[0m\n",
      "\u001b[1;32m      5\u001b[0m         \u001b[38;5;28;01mraise\u001b[39;00m \u001b[38;5;167;01mValueError\u001b[39;00m(\u001b[38;5;124m\"\u001b[39m\u001b[38;5;124mLa base tiene que ser positiva\u001b[39m\u001b[38;5;124m\"\u001b[39m)\n",
      "\u001b[1;32m      6\u001b[0m     \u001b[38;5;28;01mreturn\u001b[39;00m base\u001b[38;5;241m*\u001b[39m\u001b[38;5;241m*\u001b[39m\u001b[38;5;241m2\u001b[39m\n",
      "\u001b[0;32m----> 8\u001b[0m \u001b[43marea_cuadrado\u001b[49m\u001b[43m(\u001b[49m\u001b[38;5;124;43m\"\u001b[39;49m\u001b[38;5;124;43ma\u001b[39;49m\u001b[38;5;124;43m\"\u001b[39;49m\u001b[43m)\u001b[49m\n",
      "\n",
      "Cell \u001b[0;32mIn[20], line 3\u001b[0m, in \u001b[0;36marea_cuadrado\u001b[0;34m(base)\u001b[0m\n",
      "\u001b[1;32m      1\u001b[0m \u001b[38;5;28;01mdef\u001b[39;00m \u001b[38;5;21marea_cuadrado\u001b[39m(base):\n",
      "\u001b[1;32m      2\u001b[0m     \u001b[38;5;28;01mif\u001b[39;00m  \u001b[38;5;28mtype\u001b[39m(base) \u001b[38;5;241m!=\u001b[39m \u001b[38;5;28mfloat\u001b[39m \u001b[38;5;129;01mand\u001b[39;00m \u001b[38;5;28mtype\u001b[39m(base) \u001b[38;5;241m!=\u001b[39m\u001b[38;5;28mint\u001b[39m:\n",
      "\u001b[0;32m----> 3\u001b[0m         \u001b[38;5;28;01mraise\u001b[39;00m \u001b[38;5;167;01mTypeError\u001b[39;00m(\u001b[38;5;124m\"\u001b[39m\u001b[38;5;124mla base tiene que ser entera o decimal\u001b[39m\u001b[38;5;124m\"\u001b[39m)\n",
      "\u001b[1;32m      4\u001b[0m     \u001b[38;5;28;01mif\u001b[39;00m base \u001b[38;5;241m<\u001b[39m \u001b[38;5;241m0\u001b[39m:\n",
      "\u001b[1;32m      5\u001b[0m         \u001b[38;5;28;01mraise\u001b[39;00m \u001b[38;5;167;01mValueError\u001b[39;00m(\u001b[38;5;124m\"\u001b[39m\u001b[38;5;124mLa base tiene que ser positiva\u001b[39m\u001b[38;5;124m\"\u001b[39m)\n",
      "\n",
      "\u001b[0;31mTypeError\u001b[0m: la base tiene que ser entera o decimal"
     ]
    }
   ],
   "source": [
    "def area_cuadrado(base):\n",
    "    if  type(base) != float and type(base) !=int:\n",
    "        raise TypeError(\"la base tiene que ser entera o decimal\")\n",
    "    if base < 0:\n",
    "        raise ValueError(\"La base tiene que ser positiva\")\n",
    "    return base**2\n",
    "\n",
    "area_cuadrado(\"a\")"
   ]
  },
  {
   "cell_type": "markdown",
   "id": "b8ab5e53",
   "metadata": {},
   "source": [
    "## EJERCICIO 17"
   ]
  },
  {
   "cell_type": "markdown",
   "id": "1bf97029",
   "metadata": {},
   "source": [
    "Crea una función que solicite al usuario una letra en mayúscula. Lanza una excepción en caso de que el usuario no haya introducido nada, no haya introducido una letra, no haya introducido una letra mayúscula o no haya introducido solamente un carácter. La función tiene que capturar todas las excepciones ocurridas y mostrar el mensaje de la excepción (sólo el mensaje, para que el usuario vea lo que ha pasado pero no tenga información que no le dice nada)."
   ]
  },
  {
   "cell_type": "code",
   "execution_count": null,
   "id": "c66e2f89",
   "metadata": {},
   "outputs": [
    {
     "name": "stdout",
     "output_type": "stream",
     "text": [
      "Introduce una mayúscula: ac\n",
      "Sólo tienes que introducir una letra\n"
     ]
    }
   ],
   "source": [
    "def letraMayuscula():\n",
    "    try:\n",
    "        letra = input(\"Introduce una mayúscula: \")\n",
    "        if len(letra) > 1:\n",
    "            raise ValueError(\"Sólo tienes que introducir una letra\")\n",
    "        elif len(letra) == 0:\n",
    "            raise ValueError(\"No has introducido nada\")\n",
    "        else:\n",
    "            if not letra.isalpha():\n",
    "                raise ValueError(\"No has introducido una letra\")\n",
    "            else:\n",
    "                if not letra.isupper():\n",
    "                    raise ValueError(\"La letra tiene que ser mayúscula\")\n",
    "        print(letra)\n",
    "    except Exception as e:\n",
    "        print(e)\n",
    "\n",
    "letraMayuscula()\n"
   ]
  }
 ],
 "metadata": {
  "kernelspec": {
   "display_name": "Python 3 (ipykernel)",
   "language": "python",
   "name": "python3"
  },
  "language_info": {
   "codemirror_mode": {
    "name": "ipython",
    "version": 3
   },
   "file_extension": ".py",
   "mimetype": "text/x-python",
   "name": "python",
   "nbconvert_exporter": "python",
   "pygments_lexer": "ipython3",
   "version": "3.11.5"
  }
 },
 "nbformat": 4,
 "nbformat_minor": 5
}
