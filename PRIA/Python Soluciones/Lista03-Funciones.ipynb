{
 "cells": [
  {
   "cell_type": "markdown",
   "id": "d287d88e",
   "metadata": {},
   "source": [
    "# LISTA 3 - FUNCIONES\n",
    "## <ins>Ejercicios Obligatorios </ins>"
   ]
  },
  {
   "cell_type": "markdown",
   "id": "f99190d1",
   "metadata": {},
   "source": [
    "## EJERCICIO 1"
   ]
  },
  {
   "cell_type": "markdown",
   "id": "b3836703",
   "metadata": {},
   "source": [
    "Crea una función que devuelva la lista de todos los divisores de un número entero positivo pasado por parámetro (hay que comprobar el dato sea correcto)."
   ]
  },
  {
   "cell_type": "code",
   "execution_count": 1,
   "id": "10d5b17a",
   "metadata": {},
   "outputs": [
    {
     "name": "stdout",
     "output_type": "stream",
     "text": [
      "[1, 2, 4, 5, 10, 20, 25, 50]\n"
     ]
    }
   ],
   "source": [
    "def divisores(x):\n",
    "    divisores=[]\n",
    "    if type(x)==type(0) and x>=0:\n",
    "        for i in range(1,x//2+1):\n",
    "            if x%i==0:\n",
    "                divisores.append(i)\n",
    "        return divisores\n",
    "    else:\n",
    "        print(\"El número no es adecuado\")\n",
    "lista_divisores=divisores(100)\n",
    "print(lista_divisores)"
   ]
  },
  {
   "cell_type": "markdown",
   "id": "feb0417e",
   "metadata": {},
   "source": [
    "## EJERCICIO 2"
   ]
  },
  {
   "cell_type": "markdown",
   "id": "91cd8f7c",
   "metadata": {},
   "source": [
    "Crea una función que devuelva True si el carácter introducido por parámetro se trata de una vocal y False en caso contrario."
   ]
  },
  {
   "cell_type": "code",
   "execution_count": 2,
   "id": "a2d08eca",
   "metadata": {},
   "outputs": [
    {
     "name": "stdout",
     "output_type": "stream",
     "text": [
      "True\n",
      "False\n"
     ]
    }
   ],
   "source": [
    "def esVocal(l):\n",
    "    if len(l)==1:\n",
    "        if l in \"aeiou\":\n",
    "            return True\n",
    "        else:\n",
    "            return False\n",
    "    else:\n",
    "        print(\"No es una letra\")\n",
    "        return False\n",
    "resultado=esVocal(\"a\")\n",
    "print(resultado)\n",
    "resultado=esVocal(\"z\")\n",
    "print(resultado)"
   ]
  },
  {
   "cell_type": "markdown",
   "id": "abf81a65",
   "metadata": {},
   "source": [
    "## EJERCICIO 3"
   ]
  },
  {
   "cell_type": "markdown",
   "id": "8e8684ce",
   "metadata": {},
   "source": [
    "Crea una función que dado un string por parámetro cuente cuántas veces sale cada carácter en dicho string y devuelva toda esa información en un diccionario."
   ]
  },
  {
   "cell_type": "code",
   "execution_count": null,
   "id": "daf6841f",
   "metadata": {},
   "outputs": [],
   "source": [
    "def contarCaracteres(frase):\n",
    "    frase = frase.lower()\n",
    "    contador = {}\n",
    "    for c in frase:\n",
    "        if c not in contador:\n",
    "            contador[c] = frase.count(c)\n",
    "    return contador\n",
    "\n",
    "frase = \"Frase para probar la funcion contarCaracteres\"\n",
    "print(contarCaracteres(frase))"
   ]
  },
  {
   "cell_type": "markdown",
   "id": "4d68e82b",
   "metadata": {},
   "source": [
    "## EJERCICIO 4"
   ]
  },
  {
   "cell_type": "markdown",
   "id": "62a18f08",
   "metadata": {},
   "source": [
    "Dada una lista de palabras, quédate con filter() con las que tengan más vocales que consonantes. Necesitarás una función que devuelva si una palabra tiene más vocales que consonantes."
   ]
  },
  {
   "cell_type": "code",
   "execution_count": 8,
   "id": "1dbedf15",
   "metadata": {},
   "outputs": [
    {
     "name": "stdout",
     "output_type": "stream",
     "text": [
      "['que', 'tiene']\n"
     ]
    }
   ],
   "source": [
    "def masVocales(word):\n",
    "    word.lower()\n",
    "    numVocales=0\n",
    "    numConsonantes=0\n",
    "    for c in word:\n",
    "        if c in \"aeiou\":\n",
    "            numVocales+=1\n",
    "        elif c in \"bcdfghjklmnñpqrstvwxyz\":\n",
    "            numConsonantes+=1\n",
    "    return numVocales >numConsonantes\n",
    "\n",
    "palabras=[\"prueba\",\"semáforo\",\"que\",\"ejemplo\",\"papelera\",\"tiene\"]\n",
    "print(list(filter(masVocales,palabras)))\n"
   ]
  },
  {
   "cell_type": "markdown",
   "id": "5c943554",
   "metadata": {},
   "source": [
    "## EJERCICIO 5"
   ]
  },
  {
   "cell_type": "markdown",
   "id": "8272bcdf",
   "metadata": {},
   "source": [
    "Dada una lista de números enteros, quédate con filter() con los que tengan más de 5 divisores. Necesitarás una función que devuelva el número de divisores de un número dado."
   ]
  },
  {
   "cell_type": "code",
   "execution_count": 9,
   "id": "4ae4ddf2",
   "metadata": {},
   "outputs": [
    {
     "name": "stdout",
     "output_type": "stream",
     "text": [
      "[170, 100]\n"
     ]
    }
   ],
   "source": [
    "def numDivisores(n):\n",
    "    contador=0\n",
    "    for i in range(1,n//2+1):\n",
    "        if n%i==0:\n",
    "            contador+=1\n",
    "    return contador\n",
    "\n",
    "numeros=[170,3,17,20,100,45]\n",
    "print(list(filter(lambda n: numDivisores(n)>5,numeros)))"
   ]
  },
  {
   "cell_type": "markdown",
   "id": "2972dd7e",
   "metadata": {},
   "source": [
    "## EJERCICIO 6"
   ]
  },
  {
   "cell_type": "markdown",
   "id": "9da406b8",
   "metadata": {},
   "source": [
    "Dada una lista de palabras, quédate con reduce() con la palabra más larga. Necesitarás una función que compare dos palabras y devuelva la que tenga mayor longitud."
   ]
  },
  {
   "cell_type": "code",
   "execution_count": 10,
   "id": "fe94cb7b",
   "metadata": {},
   "outputs": [
    {
     "name": "stdout",
     "output_type": "stream",
     "text": [
      "papelera\n"
     ]
    }
   ],
   "source": [
    "from functools import reduce\n",
    "\n",
    "def masLarga(palabra1,palabra2):\n",
    "    if len(palabra1)>len(palabra2):\n",
    "        return palabra1\n",
    "    return palabra2\n",
    "\n",
    "palabras=[\"prueba\",\"semáforo\",\"que\",\"ejemplo\",\"papelera\",\"tiene\"]\n",
    "print(reduce(masLarga,palabras))"
   ]
  },
  {
   "cell_type": "markdown",
   "id": "cbbfb36c",
   "metadata": {},
   "source": [
    "## EJERCICIO 7"
   ]
  },
  {
   "cell_type": "markdown",
   "id": "eb6f147e",
   "metadata": {},
   "source": [
    "Dada una lista de palabras, quédate con reduce() y map() con la palabra con más consonantes (hay que mostrar el número de consonantes). Necesitarás una función que cuente el número de consonantes de una palabra y otra que dados dos números, devuelva el mayor."
   ]
  },
  {
   "cell_type": "code",
   "execution_count": null,
   "id": "6e7d3e31",
   "metadata": {},
   "outputs": [
    {
     "name": "stdout",
     "output_type": "stream",
     "text": [
      "4\n"
     ]
    }
   ],
   "source": [
    "from functools import reduce\n",
    "\n",
    "def numConsonantes(palabra):\n",
    "    palabra.lower()\n",
    "    contador=0\n",
    "    for c in palabra:\n",
    "        if c in \"bcdfghjklmnñpqrstvwxyz\":\n",
    "            contador+=1\n",
    "    return contador\n",
    "\n",
    "def mayor(a,b):\n",
    "    if(a > b):\n",
    "        return a\n",
    "    else:\n",
    "        return b\n",
    "\n",
    "palabras=[\"prueba\",\"semáforo\",\"que\",\"ejemplo\",\"papelera\",\"tiene\"]\n",
    "print(reduce(mayor,map(numConsonantes,palabras)))"
   ]
  },
  {
   "cell_type": "markdown",
   "id": "377485d7",
   "metadata": {},
   "source": [
    "## <ins>Ejercicios Opcionales </ins>"
   ]
  },
  {
   "cell_type": "markdown",
   "id": "59397f22",
   "metadata": {},
   "source": [
    "## EJERCICIO 8"
   ]
  },
  {
   "cell_type": "markdown",
   "id": "c0dda757",
   "metadata": {},
   "source": [
    "Crea una función que dado un color en hexadecimal devuelva una lista de 3 posiciones, cada una de ellas correspondiente al valor R, G y B en este orden. Los valores de RGB varían entre 0 y 255."
   ]
  },
  {
   "cell_type": "code",
   "execution_count": 3,
   "id": "df9d019c",
   "metadata": {},
   "outputs": [
    {
     "name": "stdout",
     "output_type": "stream",
     "text": [
      "[255, 255, 255]\n",
      "[11, 163, 52]\n",
      "[0, 0, 0]\n"
     ]
    }
   ],
   "source": [
    "def colorHexToRGB(colorHex):\n",
    "    colorHex=colorHex.upper()\n",
    "    if len(colorHex)==6:\n",
    "        r=colorHex[:2]\n",
    "        r=int(r, 16)\n",
    "        g=colorHex[2:4]\n",
    "        g= int(g, 16)\n",
    "        b=colorHex[4:]\n",
    "        b= int(b, 16)\n",
    "        return [r,g,b]\n",
    "    else:\n",
    "        print(\"El color no es correcto\")\n",
    "        return -1\n",
    "\n",
    "resultado=colorHexToRGB(\"FFFFFF\")\n",
    "print(resultado)\n",
    "resultado=colorHexToRGB(\"0BA334\")\n",
    "print(resultado)\n",
    "resultado=colorHexToRGB(\"000000\")\n",
    "print(resultado)"
   ]
  },
  {
   "cell_type": "markdown",
   "id": "3e767176",
   "metadata": {},
   "source": [
    "## EJERCICIO 9"
   ]
  },
  {
   "cell_type": "markdown",
   "id": "13d2c744",
   "metadata": {},
   "source": [
    "Crea una función lambda que dado un número entero multiplique por su anterior y su siguiente. Por ejemplo, si proporcionamos n = 3, nos tendrá que devolver 2 x 3 x 4 = 24."
   ]
  },
  {
   "cell_type": "code",
   "execution_count": 5,
   "id": "6e71e599",
   "metadata": {},
   "outputs": [
    {
     "name": "stdout",
     "output_type": "stream",
     "text": [
      "24\n"
     ]
    }
   ],
   "source": [
    "productoEspecial=lambda n: n*(n+1)*(n-1)\n",
    "print(productoEspecial(3))\n"
   ]
  },
  {
   "cell_type": "markdown",
   "id": "b97cdccc",
   "metadata": {},
   "source": [
    "## EJERCICIO 10"
   ]
  },
  {
   "cell_type": "markdown",
   "id": "4bbf4135",
   "metadata": {},
   "source": [
    "Dada una lista de palabras, calcula el número de vocales de cada una con map()."
   ]
  },
  {
   "cell_type": "code",
   "execution_count": 11,
   "id": "2486a10c",
   "metadata": {},
   "outputs": [
    {
     "name": "stdout",
     "output_type": "stream",
     "text": [
      "[3, 3, 2, 3, 4, 3]\n"
     ]
    }
   ],
   "source": [
    "def numVocales(palabra):\n",
    "    palabra.lower()\n",
    "    contador=0\n",
    "    for c in palabra:\n",
    "        if c in \"aeiou\":\n",
    "            contador+=1\n",
    "    return contador\n",
    "\n",
    "palabras=[\"prueba\",\"semáforo\",\"que\",\"ejemplo\",\"papelera\",\"tiene\"]\n",
    "print(list(map(numVocales,palabras)))"
   ]
  },
  {
   "cell_type": "markdown",
   "id": "17b343e6",
   "metadata": {},
   "source": [
    "## EJERCICIO 11"
   ]
  },
  {
   "cell_type": "markdown",
   "id": "bf94ce33",
   "metadata": {},
   "source": [
    "Crea una función lambda que dados dos números devuelva si el primero es mayor."
   ]
  },
  {
   "cell_type": "code",
   "execution_count": 6,
   "id": "94962662",
   "metadata": {},
   "outputs": [
    {
     "name": "stdout",
     "output_type": "stream",
     "text": [
      "False\n"
     ]
    }
   ],
   "source": [
    "primeroMayor=lambda x,y: x>y\n",
    "print(primeroMayor(3,7))"
   ]
  },
  {
   "cell_type": "markdown",
   "id": "88fe1c72",
   "metadata": {},
   "source": [
    "## EJERCICIO 12"
   ]
  },
  {
   "cell_type": "markdown",
   "id": "f7446bb5",
   "metadata": {},
   "source": [
    "Dada una lista de números enteros, calcula otra lista con el número anterior de cada elemento con map()."
   ]
  },
  {
   "cell_type": "code",
   "execution_count": 2,
   "id": "0ff77c22",
   "metadata": {
    "tags": []
   },
   "outputs": [
    {
     "name": "stdout",
     "output_type": "stream",
     "text": [
      "[-1, 2, 16, 19, 99, 44]\n"
     ]
    }
   ],
   "source": [
    "numeros=[0,3,17,20,100,45]\n",
    "print(list(map(lambda n: n-1,numeros)))"
   ]
  },
  {
   "cell_type": "markdown",
   "id": "6bcd805d",
   "metadata": {},
   "source": [
    "## EJERCICIO 13"
   ]
  },
  {
   "cell_type": "markdown",
   "id": "18202d6c",
   "metadata": {},
   "source": [
    "Dada una lista de números reales, ordénalos con sorted() por valor absoluto de menor a mayor."
   ]
  },
  {
   "cell_type": "code",
   "execution_count": 14,
   "id": "667e2362",
   "metadata": {},
   "outputs": [
    {
     "name": "stdout",
     "output_type": "stream",
     "text": [
      "[3, 17, -17, 20, 45, -100]\n"
     ]
    }
   ],
   "source": [
    "def abs(x):\n",
    "    if x <0:\n",
    "        return -x\n",
    "    return x\n",
    "\n",
    "numeros=[17,3,-17,20,-100,45]\n",
    "print(sorted(numeros,key=abs))"
   ]
  },
  {
   "cell_type": "markdown",
   "id": "e60749fd",
   "metadata": {},
   "source": [
    "## EJERCICIO 14"
   ]
  },
  {
   "cell_type": "markdown",
   "id": "e7b12a5a",
   "metadata": {},
   "source": [
    "Dada una lista de palabras, ordénalos con sorted() por número de consonantes de mayor a menor."
   ]
  },
  {
   "cell_type": "code",
   "execution_count": 15,
   "id": "c1fdbe10",
   "metadata": {},
   "outputs": [
    {
     "name": "stdout",
     "output_type": "stream",
     "text": [
      "['semáforo', 'ejemplo', 'papelera', 'prueba', 'tiene', 'que']\n"
     ]
    }
   ],
   "source": [
    "def numConsonantes(palabra):\n",
    "    palabra.lower()\n",
    "    contador=0\n",
    "    for c in palabra:\n",
    "        if c in \"bcdfghjklmnñpqrstvwxyz\":\n",
    "            contador+=1\n",
    "    return contador\n",
    "\n",
    "palabras=[\"prueba\",\"semáforo\",\"que\",\"ejemplo\",\"papelera\",\"tiene\"]\n",
    "print(sorted(palabras,key=numConsonantes,reverse=True))"
   ]
  }
 ],
 "metadata": {
  "kernelspec": {
   "display_name": "Python 3 (ipykernel)",
   "language": "python",
   "name": "python3"
  },
  "language_info": {
   "codemirror_mode": {
    "name": "ipython",
    "version": 3
   },
   "file_extension": ".py",
   "mimetype": "text/x-python",
   "name": "python",
   "nbconvert_exporter": "python",
   "pygments_lexer": "ipython3",
   "version": "3.11.4"
  }
 },
 "nbformat": 4,
 "nbformat_minor": 5
}
