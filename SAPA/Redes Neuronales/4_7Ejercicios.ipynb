{
 "cells": [
  {
   "cell_type": "markdown",
   "metadata": {},
   "source": [
    "# EJERCICIOS"
   ]
  },
  {
   "cell_type": "code",
   "execution_count": 2,
   "metadata": {},
   "outputs": [
    {
     "name": "stderr",
     "output_type": "stream",
     "text": [
      "2025-02-13 19:39:21.371870: I tensorflow/core/util/port.cc:153] oneDNN custom operations are on. You may see slightly different numerical results due to floating-point round-off errors from different computation orders. To turn them off, set the environment variable `TF_ENABLE_ONEDNN_OPTS=0`.\n",
      "2025-02-13 19:39:21.379754: E external/local_xla/xla/stream_executor/cuda/cuda_fft.cc:485] Unable to register cuFFT factory: Attempting to register factory for plugin cuFFT when one has already been registered\n",
      "2025-02-13 19:39:21.387844: E external/local_xla/xla/stream_executor/cuda/cuda_dnn.cc:8454] Unable to register cuDNN factory: Attempting to register factory for plugin cuDNN when one has already been registered\n",
      "2025-02-13 19:39:21.390320: E external/local_xla/xla/stream_executor/cuda/cuda_blas.cc:1452] Unable to register cuBLAS factory: Attempting to register factory for plugin cuBLAS when one has already been registered\n",
      "2025-02-13 19:39:21.398925: I tensorflow/core/platform/cpu_feature_guard.cc:210] This TensorFlow binary is optimized to use available CPU instructions in performance-critical operations.\n",
      "To enable the following instructions: SSE4.1 SSE4.2 AVX AVX2 AVX_VNNI FMA, in other operations, rebuild TensorFlow with the appropriate compiler flags.\n"
     ]
    }
   ],
   "source": [
    "import tensorflow as tf\n",
    "import numpy as np\n",
    "import matplotlib.pyplot as plt\n",
    "from keras import Sequential\n",
    "from keras.models import Model\n",
    "from keras.layers import Input, Dense, Flatten, Concatenate\n",
    "from keras.datasets import cifar10\n",
    "from sklearn.model_selection import train_test_split\n",
    "from keras.optimizers import Adam\n",
    "import os"
   ]
  },
  {
   "cell_type": "code",
   "execution_count": 3,
   "metadata": {},
   "outputs": [],
   "source": [
    "os.environ['TF_GPU_ALLOCATOR'] = 'cuda_malloc_async'"
   ]
  },
  {
   "cell_type": "markdown",
   "metadata": {},
   "source": [
    "## EJERCICIO 1\n"
   ]
  },
  {
   "cell_type": "markdown",
   "metadata": {},
   "source": [
    "Supongamos que queremos predecir dos objetivos diferentes (por ejemplo, precio y categoría) a partir de dos conjuntos de características diferentes (por ejemplo, características visuales y características de texto de un producto).\n",
    "\n",
    "* Características visuales: un conjunto de 128 características numéricas, que podrían representar, por ejemplo, valores de píxeles o características extraídas de imágenes.\n",
    "* Características de texto: un conjunto de 256 características numéricas, representando posiblemente la codificación de texto o características lingüísticas.\n",
    "* Precio (Salida 1): un valor numérico que representa el precio de un producto.\n",
    "* Categoría (Salida 2): una etiqueta de categoría, que asumiremos que puede tomar 10 valores diferentes (por ejemplo, 10 categorías diferentes de productos)."
   ]
  },
  {
   "cell_type": "markdown",
   "metadata": {},
   "source": [
    "Voy a generar datos aleatorios"
   ]
  },
  {
   "cell_type": "code",
   "execution_count": 248,
   "metadata": {},
   "outputs": [],
   "source": [
    "# Generación de datos ficticios\n",
    "num_muestras = 1000  # Número de muestras en el conjunto de datos\n",
    "\n",
    "# Características visuales: 128 características numéricas\n",
    "caracteristicas_visuales = np.random.rand(num_muestras, 128)\n",
    "\n",
    "# Características de texto: 256 características numéricas\n",
    "caracteristicas_texto = np.random.rand(num_muestras, 256)\n",
    "\n",
    "# Precio (Salida 1): Valor numérico (por ejemplo, precio de un producto)\n",
    "precio = np.random.rand(num_muestras, 1)\n",
    "\n",
    "# Categoría (Salida 2): 10 categorías posibles (codificadas en one-hot)\n",
    "categorias = np.random.randint(0, 10, size=(num_muestras, 1))\n",
    "categorias_one_hot = tf.keras.utils.to_categorical(categorias, num_classes=10)"
   ]
  },
  {
   "cell_type": "markdown",
   "metadata": {},
   "source": [
    "Divide los datos en entrenamiento y prueba"
   ]
  },
  {
   "cell_type": "code",
   "execution_count": 249,
   "metadata": {},
   "outputs": [],
   "source": [
    "# Dividir los datos\n",
    "X_visual_train, X_visual_test, X_texto_train, X_texto_test, y_precio_train, y_precio_test, y_categoria_train, y_categoria_test = train_test_split(\n",
    "    caracteristicas_visuales,  \n",
    "    caracteristicas_texto,     \n",
    "    precio,                    \n",
    "    categorias_one_hot,        \n",
    "    test_size=0.2,             \n",
    "    random_state=42          \n",
    ")\n",
    "\n"
   ]
  },
  {
   "cell_type": "code",
   "execution_count": 250,
   "metadata": {},
   "outputs": [
    {
     "data": {
      "text/plain": [
       "array([[0.2284269 ],\n",
       "       [0.99498472],\n",
       "       [0.0785332 ],\n",
       "       [0.08968801],\n",
       "       [0.25069387],\n",
       "       [0.16749302],\n",
       "       [0.03505072],\n",
       "       [0.63214049],\n",
       "       [0.53600795],\n",
       "       [0.58982535],\n",
       "       [0.37755363],\n",
       "       [0.40656517],\n",
       "       [0.99570565],\n",
       "       [0.66658258],\n",
       "       [0.78067723],\n",
       "       [0.63922831],\n",
       "       [0.19705271],\n",
       "       [0.4504449 ],\n",
       "       [0.08938029],\n",
       "       [0.20525075],\n",
       "       [0.54016044],\n",
       "       [0.36398125],\n",
       "       [0.98994024],\n",
       "       [0.17458029],\n",
       "       [0.19313351],\n",
       "       [0.60623683],\n",
       "       [0.17391118],\n",
       "       [0.44514633],\n",
       "       [0.19896855],\n",
       "       [0.40860394],\n",
       "       [0.0539628 ],\n",
       "       [0.03348112],\n",
       "       [0.31274085],\n",
       "       [0.61042734],\n",
       "       [0.46088776],\n",
       "       [0.04430914],\n",
       "       [0.78420039],\n",
       "       [0.42812107],\n",
       "       [0.21392904],\n",
       "       [0.81912009],\n",
       "       [0.78767993],\n",
       "       [0.36892258],\n",
       "       [0.38895922],\n",
       "       [0.30577018],\n",
       "       [0.05940086],\n",
       "       [0.81828906],\n",
       "       [0.59030046],\n",
       "       [0.883208  ],\n",
       "       [0.18794435],\n",
       "       [0.10166459],\n",
       "       [0.79828798],\n",
       "       [0.67217501],\n",
       "       [0.50476826],\n",
       "       [0.71928394],\n",
       "       [0.16366417],\n",
       "       [0.37744811],\n",
       "       [0.69909108],\n",
       "       [0.9077912 ],\n",
       "       [0.5516543 ],\n",
       "       [0.53572407],\n",
       "       [0.23641754],\n",
       "       [0.95824283],\n",
       "       [0.10983356],\n",
       "       [0.19259086],\n",
       "       [0.20061497],\n",
       "       [0.37249901],\n",
       "       [0.68653633],\n",
       "       [0.61064061],\n",
       "       [0.25364375],\n",
       "       [0.60290271],\n",
       "       [0.84210909],\n",
       "       [0.78843242],\n",
       "       [0.32832757],\n",
       "       [0.34945185],\n",
       "       [0.65560507],\n",
       "       [0.07941176],\n",
       "       [0.51789592],\n",
       "       [0.62753395],\n",
       "       [0.64801878],\n",
       "       [0.10154687],\n",
       "       [0.30239531],\n",
       "       [0.77721032],\n",
       "       [0.65101664],\n",
       "       [0.4284953 ],\n",
       "       [0.37078302],\n",
       "       [0.86047335],\n",
       "       [0.48600708],\n",
       "       [0.8014894 ],\n",
       "       [0.72485402],\n",
       "       [0.93920721],\n",
       "       [0.29664731],\n",
       "       [0.47902325],\n",
       "       [0.08495395],\n",
       "       [0.16443886],\n",
       "       [0.54879411],\n",
       "       [0.83898436],\n",
       "       [0.1515295 ],\n",
       "       [0.41277444],\n",
       "       [0.12922525],\n",
       "       [0.96529791],\n",
       "       [0.76056595],\n",
       "       [0.02651124],\n",
       "       [0.2890803 ],\n",
       "       [0.49810059],\n",
       "       [0.74960465],\n",
       "       [0.97396017],\n",
       "       [0.97600987],\n",
       "       [0.3345604 ],\n",
       "       [0.18623137],\n",
       "       [0.38674307],\n",
       "       [0.37110915],\n",
       "       [0.23282116],\n",
       "       [0.54970945],\n",
       "       [0.94086572],\n",
       "       [0.87593404],\n",
       "       [0.51554614],\n",
       "       [0.9489162 ],\n",
       "       [0.72994753],\n",
       "       [0.03635938],\n",
       "       [0.42118341],\n",
       "       [0.26771441],\n",
       "       [0.70032088],\n",
       "       [0.90100576],\n",
       "       [0.21676325],\n",
       "       [0.36799867],\n",
       "       [0.7543709 ],\n",
       "       [0.87252843],\n",
       "       [0.74594918],\n",
       "       [0.73492417],\n",
       "       [0.22376207],\n",
       "       [0.17837919],\n",
       "       [0.48614725],\n",
       "       [0.68288761],\n",
       "       [0.23547693],\n",
       "       [0.60557499],\n",
       "       [0.59220029],\n",
       "       [0.20940118],\n",
       "       [0.87494162],\n",
       "       [0.91650499],\n",
       "       [0.53121918],\n",
       "       [0.02320445],\n",
       "       [0.44815848],\n",
       "       [0.84879135],\n",
       "       [0.08437121],\n",
       "       [0.27329874],\n",
       "       [0.7424484 ],\n",
       "       [0.64783376],\n",
       "       [0.6982989 ],\n",
       "       [0.60571403],\n",
       "       [0.60573358],\n",
       "       [0.30513087],\n",
       "       [0.81017205],\n",
       "       [0.11832266],\n",
       "       [0.16788608],\n",
       "       [0.09429911],\n",
       "       [0.46321049],\n",
       "       [0.05434988],\n",
       "       [0.83263514],\n",
       "       [0.17137416],\n",
       "       [0.64856231],\n",
       "       [0.69641722],\n",
       "       [0.39225824],\n",
       "       [0.24770174],\n",
       "       [0.79378327],\n",
       "       [0.76084146],\n",
       "       [0.18031435],\n",
       "       [0.3440727 ],\n",
       "       [0.94237628],\n",
       "       [0.93309912],\n",
       "       [0.89491116],\n",
       "       [0.55089325],\n",
       "       [0.88988732],\n",
       "       [0.18200433],\n",
       "       [0.64104829],\n",
       "       [0.19725815],\n",
       "       [0.788806  ],\n",
       "       [0.45796817],\n",
       "       [0.15717447],\n",
       "       [0.24003834],\n",
       "       [0.31199355],\n",
       "       [0.46663265],\n",
       "       [0.87972722],\n",
       "       [0.22697695],\n",
       "       [0.23936884],\n",
       "       [0.74037729],\n",
       "       [0.47440602],\n",
       "       [0.38598149],\n",
       "       [0.50841443],\n",
       "       [0.8371305 ],\n",
       "       [0.77608307],\n",
       "       [0.53027876],\n",
       "       [0.06260486],\n",
       "       [0.74537779],\n",
       "       [0.85325535],\n",
       "       [0.10176097],\n",
       "       [0.39930012],\n",
       "       [0.02732545],\n",
       "       [0.56907695],\n",
       "       [0.56060579],\n",
       "       [0.96167119]])"
      ]
     },
     "execution_count": 250,
     "metadata": {},
     "output_type": "execute_result"
    }
   ],
   "source": [
    "y_precio_test"
   ]
  },
  {
   "cell_type": "markdown",
   "metadata": {},
   "source": [
    "Construye el modelo:\n",
    "* Crea dos ramas de entrada, una para cada tipo de características.\n",
    "* Las ramas se fusionarán para predecir el precio.\n",
    "* Una de las ramas se utilizará también para predecir la categoria."
   ]
  },
  {
   "cell_type": "markdown",
   "metadata": {},
   "source": [
    "El esquema es el siguiente:\n",
    "\n",
    "<img src=\"Datos/esquema_modelo_funcional.png\" alt=\"esquema modelo funcional\"/>"
   ]
  },
  {
   "cell_type": "code",
   "execution_count": 251,
   "metadata": {},
   "outputs": [],
   "source": [
    "#Capa de entrada visual\n",
    "input_visual = tf.keras.layers.Input(shape=[128], name=\"input_visual\") \n",
    "#Capa de entrada de texto\n",
    "input_texto = tf.keras.layers.Input(shape=[256], name=\"input_texto\")  \n",
    "\n",
    "rama_visual = tf.keras.layers.Dense(64, activation=\"relu\")(input_visual)\n",
    "rama_texto = tf.keras.layers.Dense(128, activation=\"relu\")(input_texto)\n",
    "\n",
    "#Concatenación de las ramas\n",
    "concat = tf.keras.layers.concatenate([rama_visual, rama_texto])\n",
    "\n",
    "#Capas de salida\n",
    "output_precio = tf.keras.layers.Dense(1 , name=\"output_precio\")(concat)\n",
    "output_categoria = tf.keras.layers.Dense(10, activation=\"softmax\",name=\"output_categoria\")(rama_texto)\n",
    "\n"
   ]
  },
  {
   "cell_type": "code",
   "execution_count": 252,
   "metadata": {},
   "outputs": [],
   "source": [
    "# Crear el modelo\n",
    "model = Model(inputs=[input_visual, input_texto], outputs=[output_precio, output_categoria])"
   ]
  },
  {
   "cell_type": "markdown",
   "metadata": {},
   "source": [
    "Comprueba creando una imagen del modelo que es igual que el que se pide"
   ]
  },
  {
   "cell_type": "code",
   "execution_count": 253,
   "metadata": {},
   "outputs": [
    {
     "data": {
      "text/html": [
       "<pre style=\"white-space:pre;overflow-x:auto;line-height:normal;font-family:Menlo,'DejaVu Sans Mono',consolas,'Courier New',monospace\"><span style=\"font-weight: bold\">Model: \"functional_50\"</span>\n",
       "</pre>\n"
      ],
      "text/plain": [
       "\u001b[1mModel: \"functional_50\"\u001b[0m\n"
      ]
     },
     "metadata": {},
     "output_type": "display_data"
    },
    {
     "data": {
      "text/html": [
       "<pre style=\"white-space:pre;overflow-x:auto;line-height:normal;font-family:Menlo,'DejaVu Sans Mono',consolas,'Courier New',monospace\">┏━━━━━━━━━━━━━━━━━━━━━┳━━━━━━━━━━━━━━━━━━━┳━━━━━━━━━━━━┳━━━━━━━━━━━━━━━━━━━┓\n",
       "┃<span style=\"font-weight: bold\"> Layer (type)        </span>┃<span style=\"font-weight: bold\"> Output Shape      </span>┃<span style=\"font-weight: bold\">    Param # </span>┃<span style=\"font-weight: bold\"> Connected to      </span>┃\n",
       "┡━━━━━━━━━━━━━━━━━━━━━╇━━━━━━━━━━━━━━━━━━━╇━━━━━━━━━━━━╇━━━━━━━━━━━━━━━━━━━┩\n",
       "│ input_visual        │ (<span style=\"color: #00d7ff; text-decoration-color: #00d7ff\">None</span>, <span style=\"color: #00af00; text-decoration-color: #00af00\">128</span>)       │          <span style=\"color: #00af00; text-decoration-color: #00af00\">0</span> │ -                 │\n",
       "│ (<span style=\"color: #0087ff; text-decoration-color: #0087ff\">InputLayer</span>)        │                   │            │                   │\n",
       "├─────────────────────┼───────────────────┼────────────┼───────────────────┤\n",
       "│ input_texto         │ (<span style=\"color: #00d7ff; text-decoration-color: #00d7ff\">None</span>, <span style=\"color: #00af00; text-decoration-color: #00af00\">256</span>)       │          <span style=\"color: #00af00; text-decoration-color: #00af00\">0</span> │ -                 │\n",
       "│ (<span style=\"color: #0087ff; text-decoration-color: #0087ff\">InputLayer</span>)        │                   │            │                   │\n",
       "├─────────────────────┼───────────────────┼────────────┼───────────────────┤\n",
       "│ dense_125 (<span style=\"color: #0087ff; text-decoration-color: #0087ff\">Dense</span>)   │ (<span style=\"color: #00d7ff; text-decoration-color: #00d7ff\">None</span>, <span style=\"color: #00af00; text-decoration-color: #00af00\">64</span>)        │      <span style=\"color: #00af00; text-decoration-color: #00af00\">8,256</span> │ input_visual[<span style=\"color: #00af00; text-decoration-color: #00af00\">0</span>][<span style=\"color: #00af00; text-decoration-color: #00af00\">…</span> │\n",
       "├─────────────────────┼───────────────────┼────────────┼───────────────────┤\n",
       "│ dense_126 (<span style=\"color: #0087ff; text-decoration-color: #0087ff\">Dense</span>)   │ (<span style=\"color: #00d7ff; text-decoration-color: #00d7ff\">None</span>, <span style=\"color: #00af00; text-decoration-color: #00af00\">128</span>)       │     <span style=\"color: #00af00; text-decoration-color: #00af00\">32,896</span> │ input_texto[<span style=\"color: #00af00; text-decoration-color: #00af00\">0</span>][<span style=\"color: #00af00; text-decoration-color: #00af00\">0</span>] │\n",
       "├─────────────────────┼───────────────────┼────────────┼───────────────────┤\n",
       "│ concatenate_23      │ (<span style=\"color: #00d7ff; text-decoration-color: #00d7ff\">None</span>, <span style=\"color: #00af00; text-decoration-color: #00af00\">192</span>)       │          <span style=\"color: #00af00; text-decoration-color: #00af00\">0</span> │ dense_125[<span style=\"color: #00af00; text-decoration-color: #00af00\">0</span>][<span style=\"color: #00af00; text-decoration-color: #00af00\">0</span>],  │\n",
       "│ (<span style=\"color: #0087ff; text-decoration-color: #0087ff\">Concatenate</span>)       │                   │            │ dense_126[<span style=\"color: #00af00; text-decoration-color: #00af00\">0</span>][<span style=\"color: #00af00; text-decoration-color: #00af00\">0</span>]   │\n",
       "├─────────────────────┼───────────────────┼────────────┼───────────────────┤\n",
       "│ output_precio       │ (<span style=\"color: #00d7ff; text-decoration-color: #00d7ff\">None</span>, <span style=\"color: #00af00; text-decoration-color: #00af00\">1</span>)         │        <span style=\"color: #00af00; text-decoration-color: #00af00\">193</span> │ concatenate_23[<span style=\"color: #00af00; text-decoration-color: #00af00\">0</span>… │\n",
       "│ (<span style=\"color: #0087ff; text-decoration-color: #0087ff\">Dense</span>)             │                   │            │                   │\n",
       "├─────────────────────┼───────────────────┼────────────┼───────────────────┤\n",
       "│ output_categoria    │ (<span style=\"color: #00d7ff; text-decoration-color: #00d7ff\">None</span>, <span style=\"color: #00af00; text-decoration-color: #00af00\">10</span>)        │      <span style=\"color: #00af00; text-decoration-color: #00af00\">1,290</span> │ dense_126[<span style=\"color: #00af00; text-decoration-color: #00af00\">0</span>][<span style=\"color: #00af00; text-decoration-color: #00af00\">0</span>]   │\n",
       "│ (<span style=\"color: #0087ff; text-decoration-color: #0087ff\">Dense</span>)             │                   │            │                   │\n",
       "└─────────────────────┴───────────────────┴────────────┴───────────────────┘\n",
       "</pre>\n"
      ],
      "text/plain": [
       "┏━━━━━━━━━━━━━━━━━━━━━┳━━━━━━━━━━━━━━━━━━━┳━━━━━━━━━━━━┳━━━━━━━━━━━━━━━━━━━┓\n",
       "┃\u001b[1m \u001b[0m\u001b[1mLayer (type)       \u001b[0m\u001b[1m \u001b[0m┃\u001b[1m \u001b[0m\u001b[1mOutput Shape     \u001b[0m\u001b[1m \u001b[0m┃\u001b[1m \u001b[0m\u001b[1m   Param #\u001b[0m\u001b[1m \u001b[0m┃\u001b[1m \u001b[0m\u001b[1mConnected to     \u001b[0m\u001b[1m \u001b[0m┃\n",
       "┡━━━━━━━━━━━━━━━━━━━━━╇━━━━━━━━━━━━━━━━━━━╇━━━━━━━━━━━━╇━━━━━━━━━━━━━━━━━━━┩\n",
       "│ input_visual        │ (\u001b[38;5;45mNone\u001b[0m, \u001b[38;5;34m128\u001b[0m)       │          \u001b[38;5;34m0\u001b[0m │ -                 │\n",
       "│ (\u001b[38;5;33mInputLayer\u001b[0m)        │                   │            │                   │\n",
       "├─────────────────────┼───────────────────┼────────────┼───────────────────┤\n",
       "│ input_texto         │ (\u001b[38;5;45mNone\u001b[0m, \u001b[38;5;34m256\u001b[0m)       │          \u001b[38;5;34m0\u001b[0m │ -                 │\n",
       "│ (\u001b[38;5;33mInputLayer\u001b[0m)        │                   │            │                   │\n",
       "├─────────────────────┼───────────────────┼────────────┼───────────────────┤\n",
       "│ dense_125 (\u001b[38;5;33mDense\u001b[0m)   │ (\u001b[38;5;45mNone\u001b[0m, \u001b[38;5;34m64\u001b[0m)        │      \u001b[38;5;34m8,256\u001b[0m │ input_visual[\u001b[38;5;34m0\u001b[0m][\u001b[38;5;34m…\u001b[0m │\n",
       "├─────────────────────┼───────────────────┼────────────┼───────────────────┤\n",
       "│ dense_126 (\u001b[38;5;33mDense\u001b[0m)   │ (\u001b[38;5;45mNone\u001b[0m, \u001b[38;5;34m128\u001b[0m)       │     \u001b[38;5;34m32,896\u001b[0m │ input_texto[\u001b[38;5;34m0\u001b[0m][\u001b[38;5;34m0\u001b[0m] │\n",
       "├─────────────────────┼───────────────────┼────────────┼───────────────────┤\n",
       "│ concatenate_23      │ (\u001b[38;5;45mNone\u001b[0m, \u001b[38;5;34m192\u001b[0m)       │          \u001b[38;5;34m0\u001b[0m │ dense_125[\u001b[38;5;34m0\u001b[0m][\u001b[38;5;34m0\u001b[0m],  │\n",
       "│ (\u001b[38;5;33mConcatenate\u001b[0m)       │                   │            │ dense_126[\u001b[38;5;34m0\u001b[0m][\u001b[38;5;34m0\u001b[0m]   │\n",
       "├─────────────────────┼───────────────────┼────────────┼───────────────────┤\n",
       "│ output_precio       │ (\u001b[38;5;45mNone\u001b[0m, \u001b[38;5;34m1\u001b[0m)         │        \u001b[38;5;34m193\u001b[0m │ concatenate_23[\u001b[38;5;34m0\u001b[0m… │\n",
       "│ (\u001b[38;5;33mDense\u001b[0m)             │                   │            │                   │\n",
       "├─────────────────────┼───────────────────┼────────────┼───────────────────┤\n",
       "│ output_categoria    │ (\u001b[38;5;45mNone\u001b[0m, \u001b[38;5;34m10\u001b[0m)        │      \u001b[38;5;34m1,290\u001b[0m │ dense_126[\u001b[38;5;34m0\u001b[0m][\u001b[38;5;34m0\u001b[0m]   │\n",
       "│ (\u001b[38;5;33mDense\u001b[0m)             │                   │            │                   │\n",
       "└─────────────────────┴───────────────────┴────────────┴───────────────────┘\n"
      ]
     },
     "metadata": {},
     "output_type": "display_data"
    },
    {
     "data": {
      "text/html": [
       "<pre style=\"white-space:pre;overflow-x:auto;line-height:normal;font-family:Menlo,'DejaVu Sans Mono',consolas,'Courier New',monospace\"><span style=\"font-weight: bold\"> Total params: </span><span style=\"color: #00af00; text-decoration-color: #00af00\">42,635</span> (166.54 KB)\n",
       "</pre>\n"
      ],
      "text/plain": [
       "\u001b[1m Total params: \u001b[0m\u001b[38;5;34m42,635\u001b[0m (166.54 KB)\n"
      ]
     },
     "metadata": {},
     "output_type": "display_data"
    },
    {
     "data": {
      "text/html": [
       "<pre style=\"white-space:pre;overflow-x:auto;line-height:normal;font-family:Menlo,'DejaVu Sans Mono',consolas,'Courier New',monospace\"><span style=\"font-weight: bold\"> Trainable params: </span><span style=\"color: #00af00; text-decoration-color: #00af00\">42,635</span> (166.54 KB)\n",
       "</pre>\n"
      ],
      "text/plain": [
       "\u001b[1m Trainable params: \u001b[0m\u001b[38;5;34m42,635\u001b[0m (166.54 KB)\n"
      ]
     },
     "metadata": {},
     "output_type": "display_data"
    },
    {
     "data": {
      "text/html": [
       "<pre style=\"white-space:pre;overflow-x:auto;line-height:normal;font-family:Menlo,'DejaVu Sans Mono',consolas,'Courier New',monospace\"><span style=\"font-weight: bold\"> Non-trainable params: </span><span style=\"color: #00af00; text-decoration-color: #00af00\">0</span> (0.00 B)\n",
       "</pre>\n"
      ],
      "text/plain": [
       "\u001b[1m Non-trainable params: \u001b[0m\u001b[38;5;34m0\u001b[0m (0.00 B)\n"
      ]
     },
     "metadata": {},
     "output_type": "display_data"
    }
   ],
   "source": [
    "model.summary()"
   ]
  },
  {
   "cell_type": "markdown",
   "metadata": {},
   "source": [
    "Compila el modelo especificando las pérdidas y métricas para cada salida (utiliza el optimizador Adam)"
   ]
  },
  {
   "cell_type": "code",
   "execution_count": 254,
   "metadata": {},
   "outputs": [],
   "source": [
    "# Compilar el modelo\n",
    "model.compile(\n",
    "    optimizer='adam',\n",
    "    loss={\n",
    "        'output_precio': 'mean_squared_error',  # Pérdida para el precio (regresión)\n",
    "        'output_categoria': 'categorical_crossentropy'  # Pérdida para la categoría (clasificación)\n",
    "    },\n",
    "    metrics={\n",
    "        'output_categoria': 'accuracy', # Métrica para la categoría (precisión)\n",
    "        'output_precio': 'mae'\n",
    "    }\n",
    ")"
   ]
  },
  {
   "cell_type": "markdown",
   "metadata": {},
   "source": [
    "Entrena el modelo "
   ]
  },
  {
   "cell_type": "code",
   "execution_count": 255,
   "metadata": {},
   "outputs": [
    {
     "name": "stdout",
     "output_type": "stream",
     "text": [
      "Epoch 1/50\n"
     ]
    },
    {
     "name": "stderr",
     "output_type": "stream",
     "text": [
      "/home/iabd/anaconda3/envs/sapaGPU/lib/python3.9/site-packages/keras/src/models/functional.py:225: UserWarning: The structure of `inputs` doesn't match the expected structure: ['input_visual', 'input_texto']. Received: the structure of inputs=('*', '*')\n",
      "  warnings.warn(\n",
      "/home/iabd/anaconda3/envs/sapaGPU/lib/python3.9/site-packages/keras/src/losses/losses.py:27: SyntaxWarning: In loss categorical_crossentropy, expected y_pred.shape to be (batch_size, num_classes) with num_classes > 1. Received: y_pred.shape=(32, 1). Consider using 'binary_crossentropy' if you only have 2 classes.\n",
      "  return self.fn(y_true, y_pred, **self._fn_kwargs)\n"
     ]
    },
    {
     "name": "stdout",
     "output_type": "stream",
     "text": [
      "\u001b[1m20/20\u001b[0m \u001b[32m━━━━━━━━━━━━━━━━━━━━\u001b[0m\u001b[37m\u001b[0m \u001b[1m1s\u001b[0m 20ms/step - loss: 0.0919 - output_categoria_accuracy: 0.0952 - output_categoria_loss: 0.0919 - output_precio_loss: 6.3540e-08 - output_precio_mae: 0.3532 - val_loss: 0.0918 - val_output_categoria_accuracy: 0.1000 - val_output_categoria_loss: 0.0918 - val_output_precio_loss: 6.2186e-08 - val_output_precio_mae: 0.3006\n",
      "Epoch 2/50\n",
      "\u001b[1m20/20\u001b[0m \u001b[32m━━━━━━━━━━━━━━━━━━━━\u001b[0m\u001b[37m\u001b[0m \u001b[1m0s\u001b[0m 2ms/step - loss: 0.0902 - output_categoria_accuracy: 0.1518 - output_categoria_loss: 0.0902 - output_precio_loss: 6.1767e-08 - output_precio_mae: 0.3129 - val_loss: 0.0913 - val_output_categoria_accuracy: 0.1250 - val_output_categoria_loss: 0.0913 - val_output_precio_loss: 6.2186e-08 - val_output_precio_mae: 0.2877\n",
      "Epoch 3/50\n",
      "\u001b[1m20/20\u001b[0m \u001b[32m━━━━━━━━━━━━━━━━━━━━\u001b[0m\u001b[37m\u001b[0m \u001b[1m0s\u001b[0m 2ms/step - loss: 0.0886 - output_categoria_accuracy: 0.1755 - output_categoria_loss: 0.0886 - output_precio_loss: 6.2675e-08 - output_precio_mae: 0.3053 - val_loss: 0.0906 - val_output_categoria_accuracy: 0.1000 - val_output_categoria_loss: 0.0906 - val_output_precio_loss: 6.2186e-08 - val_output_precio_mae: 0.3100\n",
      "Epoch 4/50\n",
      "\u001b[1m20/20\u001b[0m \u001b[32m━━━━━━━━━━━━━━━━━━━━\u001b[0m\u001b[37m\u001b[0m \u001b[1m0s\u001b[0m 2ms/step - loss: 0.0883 - output_categoria_accuracy: 0.1805 - output_categoria_loss: 0.0883 - output_precio_loss: 6.3618e-08 - output_precio_mae: 0.3286 - val_loss: 0.0908 - val_output_categoria_accuracy: 0.1063 - val_output_categoria_loss: 0.0908 - val_output_precio_loss: 6.2186e-08 - val_output_precio_mae: 0.2905\n",
      "Epoch 5/50\n",
      "\u001b[1m20/20\u001b[0m \u001b[32m━━━━━━━━━━━━━━━━━━━━\u001b[0m\u001b[37m\u001b[0m \u001b[1m0s\u001b[0m 2ms/step - loss: 0.0871 - output_categoria_accuracy: 0.2161 - output_categoria_loss: 0.0871 - output_precio_loss: 6.3297e-08 - output_precio_mae: 0.3110 - val_loss: 0.0910 - val_output_categoria_accuracy: 0.1250 - val_output_categoria_loss: 0.0910 - val_output_precio_loss: 6.2186e-08 - val_output_precio_mae: 0.3002\n",
      "Epoch 6/50\n",
      "\u001b[1m20/20\u001b[0m \u001b[32m━━━━━━━━━━━━━━━━━━━━\u001b[0m\u001b[37m\u001b[0m \u001b[1m0s\u001b[0m 2ms/step - loss: 0.0865 - output_categoria_accuracy: 0.2280 - output_categoria_loss: 0.0865 - output_precio_loss: 6.2060e-08 - output_precio_mae: 0.3270 - val_loss: 0.0905 - val_output_categoria_accuracy: 0.1250 - val_output_categoria_loss: 0.0905 - val_output_precio_loss: 6.2186e-08 - val_output_precio_mae: 0.3064\n",
      "Epoch 7/50\n",
      "\u001b[1m20/20\u001b[0m \u001b[32m━━━━━━━━━━━━━━━━━━━━\u001b[0m\u001b[37m\u001b[0m \u001b[1m0s\u001b[0m 2ms/step - loss: 0.0841 - output_categoria_accuracy: 0.3200 - output_categoria_loss: 0.0841 - output_precio_loss: 6.2346e-08 - output_precio_mae: 0.3303 - val_loss: 0.0907 - val_output_categoria_accuracy: 0.1250 - val_output_categoria_loss: 0.0907 - val_output_precio_loss: 6.2186e-08 - val_output_precio_mae: 0.3001\n",
      "Epoch 8/50\n",
      "\u001b[1m20/20\u001b[0m \u001b[32m━━━━━━━━━━━━━━━━━━━━\u001b[0m\u001b[37m\u001b[0m \u001b[1m0s\u001b[0m 2ms/step - loss: 0.0828 - output_categoria_accuracy: 0.3486 - output_categoria_loss: 0.0828 - output_precio_loss: 6.2422e-08 - output_precio_mae: 0.3514 - val_loss: 0.0912 - val_output_categoria_accuracy: 0.1125 - val_output_categoria_loss: 0.0912 - val_output_precio_loss: 6.2186e-08 - val_output_precio_mae: 0.3156\n",
      "Epoch 9/50\n",
      "\u001b[1m20/20\u001b[0m \u001b[32m━━━━━━━━━━━━━━━━━━━━\u001b[0m\u001b[37m\u001b[0m \u001b[1m0s\u001b[0m 3ms/step - loss: 0.0809 - output_categoria_accuracy: 0.3883 - output_categoria_loss: 0.0809 - output_precio_loss: 6.4676e-08 - output_precio_mae: 0.3448 - val_loss: 0.0911 - val_output_categoria_accuracy: 0.1312 - val_output_categoria_loss: 0.0911 - val_output_precio_loss: 6.2186e-08 - val_output_precio_mae: 0.3396\n",
      "Epoch 10/50\n",
      "\u001b[1m20/20\u001b[0m \u001b[32m━━━━━━━━━━━━━━━━━━━━\u001b[0m\u001b[37m\u001b[0m \u001b[1m0s\u001b[0m 2ms/step - loss: 0.0811 - output_categoria_accuracy: 0.3570 - output_categoria_loss: 0.0811 - output_precio_loss: 6.2875e-08 - output_precio_mae: 0.3669 - val_loss: 0.0935 - val_output_categoria_accuracy: 0.1250 - val_output_categoria_loss: 0.0935 - val_output_precio_loss: 6.2186e-08 - val_output_precio_mae: 0.4015\n",
      "Epoch 11/50\n",
      "\u001b[1m20/20\u001b[0m \u001b[32m━━━━━━━━━━━━━━━━━━━━\u001b[0m\u001b[37m\u001b[0m \u001b[1m0s\u001b[0m 2ms/step - loss: 0.0775 - output_categoria_accuracy: 0.4300 - output_categoria_loss: 0.0775 - output_precio_loss: 6.4268e-08 - output_precio_mae: 0.4459 - val_loss: 0.0917 - val_output_categoria_accuracy: 0.1500 - val_output_categoria_loss: 0.0917 - val_output_precio_loss: 6.2186e-08 - val_output_precio_mae: 0.3203\n",
      "Epoch 12/50\n",
      "\u001b[1m20/20\u001b[0m \u001b[32m━━━━━━━━━━━━━━━━━━━━\u001b[0m\u001b[37m\u001b[0m \u001b[1m0s\u001b[0m 2ms/step - loss: 0.0762 - output_categoria_accuracy: 0.4441 - output_categoria_loss: 0.0762 - output_precio_loss: 6.2211e-08 - output_precio_mae: 0.3415 - val_loss: 0.0946 - val_output_categoria_accuracy: 0.1000 - val_output_categoria_loss: 0.0946 - val_output_precio_loss: 6.2186e-08 - val_output_precio_mae: 0.3904\n",
      "Epoch 13/50\n",
      "\u001b[1m20/20\u001b[0m \u001b[32m━━━━━━━━━━━━━━━━━━━━\u001b[0m\u001b[37m\u001b[0m \u001b[1m0s\u001b[0m 2ms/step - loss: 0.0755 - output_categoria_accuracy: 0.4563 - output_categoria_loss: 0.0755 - output_precio_loss: 6.5411e-08 - output_precio_mae: 0.4202 - val_loss: 0.0915 - val_output_categoria_accuracy: 0.1562 - val_output_categoria_loss: 0.0915 - val_output_precio_loss: 6.2186e-08 - val_output_precio_mae: 0.3292\n",
      "Epoch 14/50\n",
      "\u001b[1m20/20\u001b[0m \u001b[32m━━━━━━━━━━━━━━━━━━━━\u001b[0m\u001b[37m\u001b[0m \u001b[1m0s\u001b[0m 2ms/step - loss: 0.0710 - output_categoria_accuracy: 0.5117 - output_categoria_loss: 0.0710 - output_precio_loss: 6.2544e-08 - output_precio_mae: 0.3986 - val_loss: 0.0928 - val_output_categoria_accuracy: 0.1437 - val_output_categoria_loss: 0.0928 - val_output_precio_loss: 6.2186e-08 - val_output_precio_mae: 0.3791\n",
      "Epoch 15/50\n",
      "\u001b[1m20/20\u001b[0m \u001b[32m━━━━━━━━━━━━━━━━━━━━\u001b[0m\u001b[37m\u001b[0m \u001b[1m0s\u001b[0m 2ms/step - loss: 0.0699 - output_categoria_accuracy: 0.5398 - output_categoria_loss: 0.0699 - output_precio_loss: 6.3195e-08 - output_precio_mae: 0.3854 - val_loss: 0.0951 - val_output_categoria_accuracy: 0.1375 - val_output_categoria_loss: 0.0951 - val_output_precio_loss: 6.2186e-08 - val_output_precio_mae: 0.4312\n",
      "Epoch 16/50\n",
      "\u001b[1m20/20\u001b[0m \u001b[32m━━━━━━━━━━━━━━━━━━━━\u001b[0m\u001b[37m\u001b[0m \u001b[1m0s\u001b[0m 2ms/step - loss: 0.0674 - output_categoria_accuracy: 0.5488 - output_categoria_loss: 0.0674 - output_precio_loss: 6.2427e-08 - output_precio_mae: 0.4209 - val_loss: 0.0940 - val_output_categoria_accuracy: 0.1437 - val_output_categoria_loss: 0.0940 - val_output_precio_loss: 6.2186e-08 - val_output_precio_mae: 0.4189\n",
      "Epoch 17/50\n",
      "\u001b[1m20/20\u001b[0m \u001b[32m━━━━━━━━━━━━━━━━━━━━\u001b[0m\u001b[37m\u001b[0m \u001b[1m0s\u001b[0m 2ms/step - loss: 0.0650 - output_categoria_accuracy: 0.5658 - output_categoria_loss: 0.0650 - output_precio_loss: 6.3100e-08 - output_precio_mae: 0.4192 - val_loss: 0.0972 - val_output_categoria_accuracy: 0.1250 - val_output_categoria_loss: 0.0971 - val_output_precio_loss: 6.2186e-08 - val_output_precio_mae: 0.5572\n",
      "Epoch 18/50\n",
      "\u001b[1m20/20\u001b[0m \u001b[32m━━━━━━━━━━━━━━━━━━━━\u001b[0m\u001b[37m\u001b[0m \u001b[1m0s\u001b[0m 2ms/step - loss: 0.0623 - output_categoria_accuracy: 0.5998 - output_categoria_loss: 0.0623 - output_precio_loss: 6.5194e-08 - output_precio_mae: 0.5266 - val_loss: 0.0960 - val_output_categoria_accuracy: 0.1312 - val_output_categoria_loss: 0.0960 - val_output_precio_loss: 6.2186e-08 - val_output_precio_mae: 0.4837\n",
      "Epoch 19/50\n",
      "\u001b[1m20/20\u001b[0m \u001b[32m━━━━━━━━━━━━━━━━━━━━\u001b[0m\u001b[37m\u001b[0m \u001b[1m0s\u001b[0m 2ms/step - loss: 0.0604 - output_categoria_accuracy: 0.6168 - output_categoria_loss: 0.0604 - output_precio_loss: 6.4286e-08 - output_precio_mae: 0.5392 - val_loss: 0.0959 - val_output_categoria_accuracy: 0.1437 - val_output_categoria_loss: 0.0959 - val_output_precio_loss: 6.2186e-08 - val_output_precio_mae: 0.4968\n",
      "Epoch 20/50\n",
      "\u001b[1m20/20\u001b[0m \u001b[32m━━━━━━━━━━━━━━━━━━━━\u001b[0m\u001b[37m\u001b[0m \u001b[1m0s\u001b[0m 2ms/step - loss: 0.0555 - output_categoria_accuracy: 0.6584 - output_categoria_loss: 0.0555 - output_precio_loss: 6.2490e-08 - output_precio_mae: 0.4670 - val_loss: 0.0969 - val_output_categoria_accuracy: 0.1562 - val_output_categoria_loss: 0.0969 - val_output_precio_loss: 6.2186e-08 - val_output_precio_mae: 0.4438\n",
      "Epoch 21/50\n",
      "\u001b[1m20/20\u001b[0m \u001b[32m━━━━━━━━━━━━━━━━━━━━\u001b[0m\u001b[37m\u001b[0m \u001b[1m0s\u001b[0m 2ms/step - loss: 0.0554 - output_categoria_accuracy: 0.6430 - output_categoria_loss: 0.0554 - output_precio_loss: 6.3302e-08 - output_precio_mae: 0.4790 - val_loss: 0.0974 - val_output_categoria_accuracy: 0.1375 - val_output_categoria_loss: 0.0974 - val_output_precio_loss: 6.2186e-08 - val_output_precio_mae: 0.5834\n",
      "Epoch 22/50\n",
      "\u001b[1m20/20\u001b[0m \u001b[32m━━━━━━━━━━━━━━━━━━━━\u001b[0m\u001b[37m\u001b[0m \u001b[1m0s\u001b[0m 2ms/step - loss: 0.0540 - output_categoria_accuracy: 0.6758 - output_categoria_loss: 0.0540 - output_precio_loss: 6.3057e-08 - output_precio_mae: 0.5029 - val_loss: 0.0989 - val_output_categoria_accuracy: 0.1125 - val_output_categoria_loss: 0.0989 - val_output_precio_loss: 6.2186e-08 - val_output_precio_mae: 0.4278\n",
      "Epoch 23/50\n",
      "\u001b[1m20/20\u001b[0m \u001b[32m━━━━━━━━━━━━━━━━━━━━\u001b[0m\u001b[37m\u001b[0m \u001b[1m0s\u001b[0m 2ms/step - loss: 0.0501 - output_categoria_accuracy: 0.7040 - output_categoria_loss: 0.0501 - output_precio_loss: 6.1209e-08 - output_precio_mae: 0.4575 - val_loss: 0.0997 - val_output_categoria_accuracy: 0.1500 - val_output_categoria_loss: 0.0997 - val_output_precio_loss: 6.2186e-08 - val_output_precio_mae: 0.4555\n",
      "Epoch 24/50\n",
      "\u001b[1m20/20\u001b[0m \u001b[32m━━━━━━━━━━━━━━━━━━━━\u001b[0m\u001b[37m\u001b[0m \u001b[1m0s\u001b[0m 2ms/step - loss: 0.0479 - output_categoria_accuracy: 0.7056 - output_categoria_loss: 0.0479 - output_precio_loss: 6.2089e-08 - output_precio_mae: 0.4310 - val_loss: 0.0996 - val_output_categoria_accuracy: 0.1250 - val_output_categoria_loss: 0.0996 - val_output_precio_loss: 6.2186e-08 - val_output_precio_mae: 0.4678\n",
      "Epoch 25/50\n",
      "\u001b[1m20/20\u001b[0m \u001b[32m━━━━━━━━━━━━━━━━━━━━\u001b[0m\u001b[37m\u001b[0m \u001b[1m0s\u001b[0m 2ms/step - loss: 0.0472 - output_categoria_accuracy: 0.7236 - output_categoria_loss: 0.0472 - output_precio_loss: 6.3077e-08 - output_precio_mae: 0.4768 - val_loss: 0.0997 - val_output_categoria_accuracy: 0.1312 - val_output_categoria_loss: 0.0997 - val_output_precio_loss: 6.2186e-08 - val_output_precio_mae: 0.4337\n",
      "Epoch 26/50\n",
      "\u001b[1m20/20\u001b[0m \u001b[32m━━━━━━━━━━━━━━━━━━━━\u001b[0m\u001b[37m\u001b[0m \u001b[1m0s\u001b[0m 2ms/step - loss: 0.0414 - output_categoria_accuracy: 0.7656 - output_categoria_loss: 0.0414 - output_precio_loss: 6.3290e-08 - output_precio_mae: 0.4756 - val_loss: 0.1006 - val_output_categoria_accuracy: 0.1375 - val_output_categoria_loss: 0.1006 - val_output_precio_loss: 6.2186e-08 - val_output_precio_mae: 0.4144\n",
      "Epoch 27/50\n",
      "\u001b[1m20/20\u001b[0m \u001b[32m━━━━━━━━━━━━━━━━━━━━\u001b[0m\u001b[37m\u001b[0m \u001b[1m0s\u001b[0m 2ms/step - loss: 0.0405 - output_categoria_accuracy: 0.7749 - output_categoria_loss: 0.0405 - output_precio_loss: 6.1401e-08 - output_precio_mae: 0.4480 - val_loss: 0.1008 - val_output_categoria_accuracy: 0.1625 - val_output_categoria_loss: 0.1008 - val_output_precio_loss: 6.2186e-08 - val_output_precio_mae: 0.5013\n",
      "Epoch 28/50\n",
      "\u001b[1m20/20\u001b[0m \u001b[32m━━━━━━━━━━━━━━━━━━━━\u001b[0m\u001b[37m\u001b[0m \u001b[1m0s\u001b[0m 2ms/step - loss: 0.0400 - output_categoria_accuracy: 0.7733 - output_categoria_loss: 0.0400 - output_precio_loss: 6.1182e-08 - output_precio_mae: 0.4946 - val_loss: 0.1007 - val_output_categoria_accuracy: 0.1312 - val_output_categoria_loss: 0.1007 - val_output_precio_loss: 6.2186e-08 - val_output_precio_mae: 0.4334\n",
      "Epoch 29/50\n",
      "\u001b[1m20/20\u001b[0m \u001b[32m━━━━━━━━━━━━━━━━━━━━\u001b[0m\u001b[37m\u001b[0m \u001b[1m0s\u001b[0m 3ms/step - loss: 0.0379 - output_categoria_accuracy: 0.8054 - output_categoria_loss: 0.0379 - output_precio_loss: 6.2068e-08 - output_precio_mae: 0.4707 - val_loss: 0.1020 - val_output_categoria_accuracy: 0.1500 - val_output_categoria_loss: 0.1020 - val_output_precio_loss: 6.2186e-08 - val_output_precio_mae: 0.4769\n",
      "Epoch 30/50\n",
      "\u001b[1m20/20\u001b[0m \u001b[32m━━━━━━━━━━━━━━━━━━━━\u001b[0m\u001b[37m\u001b[0m \u001b[1m0s\u001b[0m 2ms/step - loss: 0.0377 - output_categoria_accuracy: 0.7819 - output_categoria_loss: 0.0377 - output_precio_loss: 6.1708e-08 - output_precio_mae: 0.5322 - val_loss: 0.1021 - val_output_categoria_accuracy: 0.1063 - val_output_categoria_loss: 0.1021 - val_output_precio_loss: 6.2186e-08 - val_output_precio_mae: 0.4675\n",
      "Epoch 31/50\n",
      "\u001b[1m20/20\u001b[0m \u001b[32m━━━━━━━━━━━━━━━━━━━━\u001b[0m\u001b[37m\u001b[0m \u001b[1m0s\u001b[0m 2ms/step - loss: 0.0336 - output_categoria_accuracy: 0.8130 - output_categoria_loss: 0.0336 - output_precio_loss: 6.1896e-08 - output_precio_mae: 0.4670 - val_loss: 0.1030 - val_output_categoria_accuracy: 0.1750 - val_output_categoria_loss: 0.1030 - val_output_precio_loss: 6.2186e-08 - val_output_precio_mae: 0.4776\n",
      "Epoch 32/50\n",
      "\u001b[1m20/20\u001b[0m \u001b[32m━━━━━━━━━━━━━━━━━━━━\u001b[0m\u001b[37m\u001b[0m \u001b[1m0s\u001b[0m 2ms/step - loss: 0.0326 - output_categoria_accuracy: 0.8297 - output_categoria_loss: 0.0326 - output_precio_loss: 6.2890e-08 - output_precio_mae: 0.5209 - val_loss: 0.1033 - val_output_categoria_accuracy: 0.1500 - val_output_categoria_loss: 0.1033 - val_output_precio_loss: 6.2186e-08 - val_output_precio_mae: 0.4751\n",
      "Epoch 33/50\n",
      "\u001b[1m20/20\u001b[0m \u001b[32m━━━━━━━━━━━━━━━━━━━━\u001b[0m\u001b[37m\u001b[0m \u001b[1m0s\u001b[0m 2ms/step - loss: 0.0318 - output_categoria_accuracy: 0.8152 - output_categoria_loss: 0.0318 - output_precio_loss: 6.1581e-08 - output_precio_mae: 0.5180 - val_loss: 0.1035 - val_output_categoria_accuracy: 0.1500 - val_output_categoria_loss: 0.1035 - val_output_precio_loss: 6.2186e-08 - val_output_precio_mae: 0.5100\n",
      "Epoch 34/50\n",
      "\u001b[1m20/20\u001b[0m \u001b[32m━━━━━━━━━━━━━━━━━━━━\u001b[0m\u001b[37m\u001b[0m \u001b[1m0s\u001b[0m 2ms/step - loss: 0.0299 - output_categoria_accuracy: 0.8323 - output_categoria_loss: 0.0299 - output_precio_loss: 6.3156e-08 - output_precio_mae: 0.5362 - val_loss: 0.1045 - val_output_categoria_accuracy: 0.1562 - val_output_categoria_loss: 0.1045 - val_output_precio_loss: 6.2186e-08 - val_output_precio_mae: 0.5115\n",
      "Epoch 35/50\n",
      "\u001b[1m20/20\u001b[0m \u001b[32m━━━━━━━━━━━━━━━━━━━━\u001b[0m\u001b[37m\u001b[0m \u001b[1m0s\u001b[0m 2ms/step - loss: 0.0292 - output_categoria_accuracy: 0.8383 - output_categoria_loss: 0.0292 - output_precio_loss: 6.2401e-08 - output_precio_mae: 0.4959 - val_loss: 0.1061 - val_output_categoria_accuracy: 0.1562 - val_output_categoria_loss: 0.1061 - val_output_precio_loss: 6.2186e-08 - val_output_precio_mae: 0.5158\n",
      "Epoch 36/50\n",
      "\u001b[1m20/20\u001b[0m \u001b[32m━━━━━━━━━━━━━━━━━━━━\u001b[0m\u001b[37m\u001b[0m \u001b[1m0s\u001b[0m 2ms/step - loss: 0.0282 - output_categoria_accuracy: 0.8360 - output_categoria_loss: 0.0282 - output_precio_loss: 6.1967e-08 - output_precio_mae: 0.5118 - val_loss: 0.1060 - val_output_categoria_accuracy: 0.1688 - val_output_categoria_loss: 0.1060 - val_output_precio_loss: 6.2186e-08 - val_output_precio_mae: 0.4886\n",
      "Epoch 37/50\n",
      "\u001b[1m20/20\u001b[0m \u001b[32m━━━━━━━━━━━━━━━━━━━━\u001b[0m\u001b[37m\u001b[0m \u001b[1m0s\u001b[0m 2ms/step - loss: 0.0251 - output_categoria_accuracy: 0.8706 - output_categoria_loss: 0.0251 - output_precio_loss: 6.2731e-08 - output_precio_mae: 0.5165 - val_loss: 0.1061 - val_output_categoria_accuracy: 0.1437 - val_output_categoria_loss: 0.1061 - val_output_precio_loss: 6.2186e-08 - val_output_precio_mae: 0.5104\n",
      "Epoch 38/50\n",
      "\u001b[1m20/20\u001b[0m \u001b[32m━━━━━━━━━━━━━━━━━━━━\u001b[0m\u001b[37m\u001b[0m \u001b[1m0s\u001b[0m 2ms/step - loss: 0.0259 - output_categoria_accuracy: 0.8590 - output_categoria_loss: 0.0259 - output_precio_loss: 6.5248e-08 - output_precio_mae: 0.5241 - val_loss: 0.1067 - val_output_categoria_accuracy: 0.1375 - val_output_categoria_loss: 0.1067 - val_output_precio_loss: 6.2186e-08 - val_output_precio_mae: 0.5081\n",
      "Epoch 39/50\n",
      "\u001b[1m20/20\u001b[0m \u001b[32m━━━━━━━━━━━━━━━━━━━━\u001b[0m\u001b[37m\u001b[0m \u001b[1m0s\u001b[0m 2ms/step - loss: 0.0238 - output_categoria_accuracy: 0.8734 - output_categoria_loss: 0.0238 - output_precio_loss: 6.4439e-08 - output_precio_mae: 0.5294 - val_loss: 0.1083 - val_output_categoria_accuracy: 0.1375 - val_output_categoria_loss: 0.1083 - val_output_precio_loss: 6.2186e-08 - val_output_precio_mae: 0.5783\n",
      "Epoch 40/50\n",
      "\u001b[1m20/20\u001b[0m \u001b[32m━━━━━━━━━━━━━━━━━━━━\u001b[0m\u001b[37m\u001b[0m \u001b[1m0s\u001b[0m 3ms/step - loss: 0.0233 - output_categoria_accuracy: 0.8665 - output_categoria_loss: 0.0233 - output_precio_loss: 6.2612e-08 - output_precio_mae: 0.5371 - val_loss: 0.1080 - val_output_categoria_accuracy: 0.1437 - val_output_categoria_loss: 0.1080 - val_output_precio_loss: 6.2186e-08 - val_output_precio_mae: 0.5074\n",
      "Epoch 41/50\n",
      "\u001b[1m20/20\u001b[0m \u001b[32m━━━━━━━━━━━━━━━━━━━━\u001b[0m\u001b[37m\u001b[0m \u001b[1m0s\u001b[0m 2ms/step - loss: 0.0236 - output_categoria_accuracy: 0.8591 - output_categoria_loss: 0.0236 - output_precio_loss: 6.2590e-08 - output_precio_mae: 0.5017 - val_loss: 0.1090 - val_output_categoria_accuracy: 0.1625 - val_output_categoria_loss: 0.1090 - val_output_precio_loss: 6.2186e-08 - val_output_precio_mae: 0.5287\n",
      "Epoch 42/50\n",
      "\u001b[1m20/20\u001b[0m \u001b[32m━━━━━━━━━━━━━━━━━━━━\u001b[0m\u001b[37m\u001b[0m \u001b[1m0s\u001b[0m 2ms/step - loss: 0.0204 - output_categoria_accuracy: 0.8942 - output_categoria_loss: 0.0204 - output_precio_loss: 6.1112e-08 - output_precio_mae: 0.5220 - val_loss: 0.1084 - val_output_categoria_accuracy: 0.1312 - val_output_categoria_loss: 0.1084 - val_output_precio_loss: 6.2186e-08 - val_output_precio_mae: 0.5055\n",
      "Epoch 43/50\n",
      "\u001b[1m20/20\u001b[0m \u001b[32m━━━━━━━━━━━━━━━━━━━━\u001b[0m\u001b[37m\u001b[0m \u001b[1m0s\u001b[0m 2ms/step - loss: 0.0199 - output_categoria_accuracy: 0.8842 - output_categoria_loss: 0.0199 - output_precio_loss: 6.1750e-08 - output_precio_mae: 0.4994 - val_loss: 0.1085 - val_output_categoria_accuracy: 0.1375 - val_output_categoria_loss: 0.1085 - val_output_precio_loss: 6.2186e-08 - val_output_precio_mae: 0.4915\n",
      "Epoch 44/50\n",
      "\u001b[1m20/20\u001b[0m \u001b[32m━━━━━━━━━━━━━━━━━━━━\u001b[0m\u001b[37m\u001b[0m \u001b[1m0s\u001b[0m 2ms/step - loss: 0.0183 - output_categoria_accuracy: 0.8999 - output_categoria_loss: 0.0183 - output_precio_loss: 6.3631e-08 - output_precio_mae: 0.5231 - val_loss: 0.1097 - val_output_categoria_accuracy: 0.1500 - val_output_categoria_loss: 0.1097 - val_output_precio_loss: 6.2186e-08 - val_output_precio_mae: 0.4865\n",
      "Epoch 45/50\n",
      "\u001b[1m20/20\u001b[0m \u001b[32m━━━━━━━━━━━━━━━━━━━━\u001b[0m\u001b[37m\u001b[0m \u001b[1m0s\u001b[0m 2ms/step - loss: 0.0178 - output_categoria_accuracy: 0.9073 - output_categoria_loss: 0.0178 - output_precio_loss: 6.4168e-08 - output_precio_mae: 0.5261 - val_loss: 0.1096 - val_output_categoria_accuracy: 0.1500 - val_output_categoria_loss: 0.1096 - val_output_precio_loss: 6.2186e-08 - val_output_precio_mae: 0.5150\n",
      "Epoch 46/50\n",
      "\u001b[1m20/20\u001b[0m \u001b[32m━━━━━━━━━━━━━━━━━━━━\u001b[0m\u001b[37m\u001b[0m \u001b[1m0s\u001b[0m 3ms/step - loss: 0.0153 - output_categoria_accuracy: 0.9259 - output_categoria_loss: 0.0153 - output_precio_loss: 6.4079e-08 - output_precio_mae: 0.5236 - val_loss: 0.1104 - val_output_categoria_accuracy: 0.1500 - val_output_categoria_loss: 0.1104 - val_output_precio_loss: 6.2186e-08 - val_output_precio_mae: 0.5151\n",
      "Epoch 47/50\n",
      "\u001b[1m20/20\u001b[0m \u001b[32m━━━━━━━━━━━━━━━━━━━━\u001b[0m\u001b[37m\u001b[0m \u001b[1m0s\u001b[0m 4ms/step - loss: 0.0184 - output_categoria_accuracy: 0.8850 - output_categoria_loss: 0.0184 - output_precio_loss: 6.1701e-08 - output_precio_mae: 0.5431 - val_loss: 0.1115 - val_output_categoria_accuracy: 0.1375 - val_output_categoria_loss: 0.1115 - val_output_precio_loss: 6.2186e-08 - val_output_precio_mae: 0.5283\n",
      "Epoch 48/50\n",
      "\u001b[1m20/20\u001b[0m \u001b[32m━━━━━━━━━━━━━━━━━━━━\u001b[0m\u001b[37m\u001b[0m \u001b[1m0s\u001b[0m 2ms/step - loss: 0.0153 - output_categoria_accuracy: 0.9202 - output_categoria_loss: 0.0153 - output_precio_loss: 6.1856e-08 - output_precio_mae: 0.5867 - val_loss: 0.1130 - val_output_categoria_accuracy: 0.1375 - val_output_categoria_loss: 0.1130 - val_output_precio_loss: 6.2186e-08 - val_output_precio_mae: 0.5480\n",
      "Epoch 49/50\n",
      "\u001b[1m20/20\u001b[0m \u001b[32m━━━━━━━━━━━━━━━━━━━━\u001b[0m\u001b[37m\u001b[0m \u001b[1m0s\u001b[0m 2ms/step - loss: 0.0151 - output_categoria_accuracy: 0.9265 - output_categoria_loss: 0.0151 - output_precio_loss: 6.2015e-08 - output_precio_mae: 0.5649 - val_loss: 0.1116 - val_output_categoria_accuracy: 0.1312 - val_output_categoria_loss: 0.1116 - val_output_precio_loss: 6.2186e-08 - val_output_precio_mae: 0.5484\n",
      "Epoch 50/50\n",
      "\u001b[1m20/20\u001b[0m \u001b[32m━━━━━━━━━━━━━━━━━━━━\u001b[0m\u001b[37m\u001b[0m \u001b[1m0s\u001b[0m 2ms/step - loss: 0.0147 - output_categoria_accuracy: 0.9128 - output_categoria_loss: 0.0147 - output_precio_loss: 6.2164e-08 - output_precio_mae: 0.5618 - val_loss: 0.1124 - val_output_categoria_accuracy: 0.1562 - val_output_categoria_loss: 0.1124 - val_output_precio_loss: 6.2186e-08 - val_output_precio_mae: 0.5826\n"
     ]
    }
   ],
   "source": [
    "#Entrenar el modelo\n",
    "history = model.fit(\n",
    "    (X_visual_train, X_texto_train),\n",
    "    (y_precio_train, y_categoria_train),\n",
    "    epochs=50,\n",
    "    batch_size=32,\n",
    "    validation_split=0.2,\n",
    "    verbose=1\n",
    ")\n"
   ]
  },
  {
   "cell_type": "code",
   "execution_count": 256,
   "metadata": {},
   "outputs": [
    {
     "data": {
      "image/png": "[encoded data removed]",
      "text/plain": [
       "<IPython.core.display.Image object>"
      ]
     },
     "execution_count": 256,
     "metadata": {},
     "output_type": "execute_result"
    }
   ],
   "source": [
    "from keras.utils import plot_model\n",
    "from IPython.display import Image, display\n",
    "\n",
    "# Crear la imagen del modelo y guardarla en un archivo\n",
    "plot_model(\n",
    "model,\n",
    "to_file=\"modelo_funcional.png\", # Nombre del archivo de salida\n",
    "show_shapes=True, # Mostrar las formas de los tensores en la imagen\n",
    "show_layer_names=True, # Mostrar los nombres de las capas\n",
    "dpi=96 # Resolución de la imagen\n",
    ")"
   ]
  },
  {
   "cell_type": "markdown",
   "metadata": {},
   "source": [
    "Evalúa el modelo en el conjunt de pruebas"
   ]
  },
  {
   "cell_type": "code",
   "execution_count": 257,
   "metadata": {},
   "outputs": [
    {
     "name": "stderr",
     "output_type": "stream",
     "text": [
      "/home/iabd/anaconda3/envs/sapaGPU/lib/python3.9/site-packages/keras/src/models/functional.py:225: UserWarning: The structure of `inputs` doesn't match the expected structure: ['input_visual', 'input_texto']. Received: the structure of inputs=('*', '*')\n",
      "  warnings.warn(\n",
      "/home/iabd/anaconda3/envs/sapaGPU/lib/python3.9/site-packages/keras/src/losses/losses.py:27: SyntaxWarning: In loss categorical_crossentropy, expected y_pred.shape to be (batch_size, num_classes) with num_classes > 1. Received: y_pred.shape=(None, 1). Consider using 'binary_crossentropy' if you only have 2 classes.\n",
      "  return self.fn(y_true, y_pred, **self._fn_kwargs)\n"
     ]
    },
    {
     "name": "stdout",
     "output_type": "stream",
     "text": [
      "\u001b[1m7/7\u001b[0m \u001b[32m━━━━━━━━━━━━━━━━━━━━\u001b[0m\u001b[37m\u001b[0m \u001b[1m1s\u001b[0m 68ms/step - loss: 0.1168 - output_categoria_accuracy: 0.0952 - output_categoria_loss: 0.1166 - output_precio_loss: 5.5660e-08 - output_precio_mae: 0.5630\n",
      "[0.11480795592069626, 5.8761116861205664e-08, 0.11422143876552582, 0.125, 0.5722557306289673]\n"
     ]
    }
   ],
   "source": [
    "eval_results = model.evaluate((X_visual_test, X_texto_test ), ( y_precio_test, y_categoria_test ), verbose=1)\n",
    "print(eval_results)"
   ]
  },
  {
   "cell_type": "code",
   "execution_count": 258,
   "metadata": {},
   "outputs": [
    {
     "name": "stdout",
     "output_type": "stream",
     "text": [
      "\u001b[1m7/7\u001b[0m \u001b[32m━━━━━━━━━━━━━━━━━━━━\u001b[0m\u001b[37m\u001b[0m \u001b[1m0s\u001b[0m 15ms/step\n",
      "Predicciones de precio: [[ 0.03202167]\n",
      " [-0.4447205 ]\n",
      " [ 0.9932256 ]\n",
      " [ 0.25615597]\n",
      " [-0.41002566]]\n",
      "Predicciones de categoría: [1 1 7 1 0]\n",
      "Categorías reales: [4 9 5 9 1]\n",
      "Precios reales: [[0.2284269 ]\n",
      " [0.99498472]\n",
      " [0.0785332 ]\n",
      " [0.08968801]\n",
      " [0.25069387]]\n"
     ]
    }
   ],
   "source": [
    "# Realizar predicciones\n",
    "predicciones_precio, predicciones_categoria = model.predict((X_visual_test, X_texto_test))\n",
    "\n",
    "# Mostrar algunas predicciones\n",
    "print(\"Predicciones de precio:\", predicciones_precio[:5])\n",
    "print(\"Predicciones de categoría:\", np.argmax(predicciones_categoria[:5], axis=1))\n",
    "print(\"Categorías reales:\", np.argmax(y_categoria_test[:5], axis=1))\n",
    "print(\"Precios reales:\", y_precio_test[:5])"
   ]
  },
  {
   "cell_type": "markdown",
   "metadata": {},
   "source": [
    "## EJERCICIO 2"
   ]
  },
  {
   "cell_type": "markdown",
   "metadata": {},
   "source": [
    "El objetivo de este ejercicio es entrenar un modelo en un subconjunto de clases (Modelo A) y luego usar este modelo para entrenar otro modelo en un subconjunto diferente de clases (Modelo B), primero sin y luego con el conocimiento transferido del Modelo A."
   ]
  },
  {
   "cell_type": "markdown",
   "metadata": {},
   "source": [
    "Carga los datos de CIFAR-10, representa alguna de sus imágenes con sus etiquetas, haz una lista con las etiquetas que tiene (busca en internet) y normaliza los datos dividiendo entre 255.0.\n",
    "\n",
    "Divide los datos en conjuntos de entrenamiento, pruebas y validación para el modelo A y para el modelo B:\n",
    "* El modelo A utiliza las clases \"avión\", \"automóvil\", \"pájaro\" y \"gato\"\n",
    "* El modelo B utiliza las clases \"ciervo\", \"perro\", \"rana\" y \"caballo\" "
   ]
  },
  {
   "cell_type": "code",
   "execution_count": 4,
   "metadata": {},
   "outputs": [
    {
     "name": "stdout",
     "output_type": "stream",
     "text": [
      "Downloading data from https://www.cs.toronto.edu/~kriz/cifar-10-python.tar.gz\n",
      "\u001b[1m170498071/170498071\u001b[0m \u001b[32m━━━━━━━━━━━━━━━━━━━━\u001b[0m\u001b[37m\u001b[0m \u001b[1m11s\u001b[0m 0us/step\n"
     ]
    }
   ],
   "source": [
    "# Cargar datos CIFAR-10\n",
    "(x_train, y_train), (x_test, y_test) = tf.keras.datasets.cifar10.load_data()"
   ]
  },
  {
   "cell_type": "code",
   "execution_count": 5,
   "metadata": {},
   "outputs": [
    {
     "data": {
      "image/png": "[encoded data removed]",
      "text/plain": [
       "<Figure size 1000x500 with 10 Axes>"
      ]
     },
     "metadata": {},
     "output_type": "display_data"
    }
   ],
   "source": [
    "# Lista de etiquetas de CIFAR-10\n",
    "class_names = [\n",
    "    \"avión\", \"automóvil\", \"pájaro\", \"gato\", \"ciervo\", \"perro\", \"rana\", \"caballo\", \"barco\", \"camión\"\n",
    "]\n",
    "\n",
    "# Visualizar algunas imágenes con sus etiquetas\n",
    "plt.figure(figsize=(10, 5))\n",
    "for i in range(10):\n",
    "    plt.subplot(2, 5, i + 1)\n",
    "    plt.imshow(x_train[i])\n",
    "    plt.title(class_names[y_train[i][0]])\n",
    "    plt.axis(\"off\")\n",
    "plt.tight_layout()\n",
    "plt.show()"
   ]
  },
  {
   "cell_type": "code",
   "execution_count": 6,
   "metadata": {},
   "outputs": [
    {
     "name": "stdout",
     "output_type": "stream",
     "text": [
      "Modelo A:\n",
      "x_train_a: (16000, 32, 32, 3) y_train_a: (16000,)\n",
      "x_val_a: (4000, 32, 32, 3) y_val_a: (4000,)\n",
      "x_test_a: (4000, 32, 32, 3) y_test_a: (4000,)\n",
      "\n",
      "Modelo B:\n",
      "x_train_b: (16000, 32, 32, 3) y_train_b: (16000,)\n",
      "x_val_b: (4000, 32, 32, 3) y_val_b: (4000,)\n",
      "x_test_b: (4000, 32, 32, 3) y_test_b: (4000,)\n"
     ]
    }
   ],
   "source": [
    "# Normalizar los datos\n",
    "x_train = x_train / 255.0\n",
    "x_test = x_test / 255.0\n",
    "\n",
    "# Dividir los datos en entrenamiento, validación y pruebas para Modelo A y Modelo B\n",
    "\n",
    "# Clases para el Modelo A y Modelo B\n",
    "classes_model_a = [0, 1, 2, 3]  # \"avión\", \"automóvil\", \"pájaro\", \"gato\"\n",
    "classes_model_b = [4, 5, 6, 7]  # \"ciervo\", \"perro\", \"rana\", \"caballo\"\n",
    "\n",
    "# Filtrar datos para Modelo A\n",
    "train_mask_a = np.isin(y_train, classes_model_a).flatten()\n",
    "test_mask_a = np.isin(y_test, classes_model_a).flatten()\n",
    "\n",
    "x_train_a, y_train_a = x_train[train_mask_a], y_train[train_mask_a]\n",
    "x_test_a, y_test_a = x_test[test_mask_a], y_test[test_mask_a]\n",
    "\n",
    "# Mapear etiquetas a un rango continuo para Modelo A\n",
    "y_train_a = np.array([classes_model_a.index(label) for label in y_train_a.flatten()])\n",
    "y_test_a = np.array([classes_model_a.index(label) for label in y_test_a.flatten()])\n",
    "\n",
    "# Filtrar datos para Modelo B\n",
    "train_mask_b = np.isin(y_train, classes_model_b).flatten()\n",
    "test_mask_b = np.isin(y_test, classes_model_b).flatten()\n",
    "\n",
    "x_train_b, y_train_b = x_train[train_mask_b], y_train[train_mask_b]\n",
    "x_test_b, y_test_b = x_test[test_mask_b], y_test[test_mask_b]\n",
    "\n",
    "# Mapear etiquetas a un rango continuo para Modelo B\n",
    "y_train_b = np.array([classes_model_b.index(label) for label in y_train_b.flatten()])\n",
    "y_test_b = np.array([classes_model_b.index(label) for label in y_test_b.flatten()])\n",
    "\n",
    "# Crear conjuntos de validación\n",
    "\n",
    "# Para Modelo A\n",
    "x_train_a, x_val_a, y_train_a, y_val_a = train_test_split(x_train_a, y_train_a, test_size=0.2, random_state=42)\n",
    "\n",
    "# Para Modelo B\n",
    "x_train_b, x_val_b, y_train_b, y_val_b = train_test_split(x_train_b, y_train_b, test_size=0.2, random_state=42)\n",
    "\n",
    "# Verificar las formas de los datos\n",
    "print(\"Modelo A:\")\n",
    "print(\"x_train_a:\", x_train_a.shape, \"y_train_a:\", y_train_a.shape)\n",
    "print(\"x_val_a:\", x_val_a.shape, \"y_val_a:\", y_val_a.shape)\n",
    "print(\"x_test_a:\", x_test_a.shape, \"y_test_a:\", y_test_a.shape)\n",
    "\n",
    "print(\"\\nModelo B:\")\n",
    "print(\"x_train_b:\", x_train_b.shape, \"y_train_b:\", y_train_b.shape)\n",
    "print(\"x_val_b:\", x_val_b.shape, \"y_val_b:\", y_val_b.shape)\n",
    "print(\"x_test_b:\", x_test_b.shape, \"y_test_b:\", y_test_b.shape)\n"
   ]
  },
  {
   "cell_type": "markdown",
   "metadata": {},
   "source": [
    "Entrena el Modelo A"
   ]
  },
  {
   "cell_type": "code",
   "execution_count": 7,
   "metadata": {},
   "outputs": [
    {
     "name": "stderr",
     "output_type": "stream",
     "text": [
      "/home/iabd/anaconda3/envs/sapaTotal/lib/python3.12/site-packages/keras/src/layers/convolutional/base_conv.py:107: UserWarning: Do not pass an `input_shape`/`input_dim` argument to a layer. When using Sequential models, prefer using an `Input(shape)` object as the first layer in the model instead.\n",
      "  super().__init__(activity_regularizer=activity_regularizer, **kwargs)\n",
      "WARNING: All log messages before absl::InitializeLog() is called are written to STDERR\n",
      "I0000 00:00:1739471989.199104   14273 cuda_executor.cc:1015] successful NUMA node read from SysFS had negative value (-1), but there must be at least one NUMA node, so returning NUMA node zero. See more at https://github.com/torvalds/linux/blob/v6.0/Documentation/ABI/testing/sysfs-bus-pci#L344-L355\n",
      "I0000 00:00:1739471989.227882   14273 cuda_executor.cc:1015] successful NUMA node read from SysFS had negative value (-1), but there must be at least one NUMA node, so returning NUMA node zero. See more at https://github.com/torvalds/linux/blob/v6.0/Documentation/ABI/testing/sysfs-bus-pci#L344-L355\n",
      "I0000 00:00:1739471989.228040   14273 cuda_executor.cc:1015] successful NUMA node read from SysFS had negative value (-1), but there must be at least one NUMA node, so returning NUMA node zero. See more at https://github.com/torvalds/linux/blob/v6.0/Documentation/ABI/testing/sysfs-bus-pci#L344-L355\n",
      "I0000 00:00:1739471989.229596   14273 cuda_executor.cc:1015] successful NUMA node read from SysFS had negative value (-1), but there must be at least one NUMA node, so returning NUMA node zero. See more at https://github.com/torvalds/linux/blob/v6.0/Documentation/ABI/testing/sysfs-bus-pci#L344-L355\n",
      "I0000 00:00:1739471989.229742   14273 cuda_executor.cc:1015] successful NUMA node read from SysFS had negative value (-1), but there must be at least one NUMA node, so returning NUMA node zero. See more at https://github.com/torvalds/linux/blob/v6.0/Documentation/ABI/testing/sysfs-bus-pci#L344-L355\n",
      "I0000 00:00:1739471989.229812   14273 cuda_executor.cc:1015] successful NUMA node read from SysFS had negative value (-1), but there must be at least one NUMA node, so returning NUMA node zero. See more at https://github.com/torvalds/linux/blob/v6.0/Documentation/ABI/testing/sysfs-bus-pci#L344-L355\n",
      "I0000 00:00:1739471989.276536   14273 cuda_executor.cc:1015] successful NUMA node read from SysFS had negative value (-1), but there must be at least one NUMA node, so returning NUMA node zero. See more at https://github.com/torvalds/linux/blob/v6.0/Documentation/ABI/testing/sysfs-bus-pci#L344-L355\n",
      "I0000 00:00:1739471989.276680   14273 cuda_executor.cc:1015] successful NUMA node read from SysFS had negative value (-1), but there must be at least one NUMA node, so returning NUMA node zero. See more at https://github.com/torvalds/linux/blob/v6.0/Documentation/ABI/testing/sysfs-bus-pci#L344-L355\n",
      "2025-02-13 19:39:49.276751: I tensorflow/core/common_runtime/gpu/gpu_process_state.cc:198] Using CUDA malloc Async allocator for GPU: 0\n",
      "I0000 00:00:1739471989.277037   14273 cuda_executor.cc:1015] successful NUMA node read from SysFS had negative value (-1), but there must be at least one NUMA node, so returning NUMA node zero. See more at https://github.com/torvalds/linux/blob/v6.0/Documentation/ABI/testing/sysfs-bus-pci#L344-L355\n",
      "2025-02-13 19:39:49.277125: I tensorflow/core/common_runtime/gpu/gpu_device.cc:2021] Created device /job:localhost/replica:0/task:0/device:GPU:0 with 10268 MB memory:  -> device: 0, name: NVIDIA GeForce RTX 4080 Laptop GPU, pci bus id: 0000:01:00.0, compute capability: 8.9\n"
     ]
    },
    {
     "name": "stdout",
     "output_type": "stream",
     "text": [
      "Epoch 1/30\n"
     ]
    },
    {
     "name": "stderr",
     "output_type": "stream",
     "text": [
      "I0000 00:00:1739471990.462019   14588 service.cc:146] XLA service 0x79fe70004460 initialized for platform CUDA (this does not guarantee that XLA will be used). Devices:\n",
      "I0000 00:00:1739471990.462043   14588 service.cc:154]   StreamExecutor device (0): NVIDIA GeForce RTX 4080 Laptop GPU, Compute Capability 8.9\n",
      "2025-02-13 19:39:50.477604: I tensorflow/compiler/mlir/tensorflow/utils/dump_mlir_util.cc:268] disabling MLIR crash reproducer, set env var `MLIR_CRASH_REPRODUCER_DIRECTORY` to enable.\n",
      "2025-02-13 19:39:50.554712: I external/local_xla/xla/stream_executor/cuda/cuda_dnn.cc:531] Loaded cuDNN version 90100\n"
     ]
    },
    {
     "name": "stdout",
     "output_type": "stream",
     "text": [
      "\u001b[1m107/500\u001b[0m \u001b[32m━━━━\u001b[0m\u001b[37m━━━━━━━━━━━━━━━━\u001b[0m \u001b[1m0s\u001b[0m 1ms/step - loss: 1.2884 - sparse_categorical_accuracy: 0.3455"
     ]
    },
    {
     "name": "stderr",
     "output_type": "stream",
     "text": [
      "I0000 00:00:1739471991.644801   14588 device_compiler.h:188] Compiled cluster using XLA!  This line is logged at most once for the lifetime of the process.\n"
     ]
    },
    {
     "name": "stdout",
     "output_type": "stream",
     "text": [
      "\u001b[1m500/500\u001b[0m \u001b[32m━━━━━━━━━━━━━━━━━━━━\u001b[0m\u001b[37m\u001b[0m \u001b[1m3s\u001b[0m 3ms/step - loss: 1.0275 - sparse_categorical_accuracy: 0.5225 - val_loss: 0.7704 - val_sparse_categorical_accuracy: 0.6935\n",
      "Epoch 2/30\n",
      "\u001b[1m500/500\u001b[0m \u001b[32m━━━━━━━━━━━━━━━━━━━━\u001b[0m\u001b[37m\u001b[0m \u001b[1m1s\u001b[0m 2ms/step - loss: 0.6429 - sparse_categorical_accuracy: 0.7444 - val_loss: 0.6056 - val_sparse_categorical_accuracy: 0.7567\n",
      "Epoch 3/30\n",
      "\u001b[1m500/500\u001b[0m \u001b[32m━━━━━━━━━━━━━━━━━━━━\u001b[0m\u001b[37m\u001b[0m \u001b[1m1s\u001b[0m 2ms/step - loss: 0.5222 - sparse_categorical_accuracy: 0.7942 - val_loss: 0.5516 - val_sparse_categorical_accuracy: 0.7770\n",
      "Epoch 4/30\n",
      "\u001b[1m500/500\u001b[0m \u001b[32m━━━━━━━━━━━━━━━━━━━━\u001b[0m\u001b[37m\u001b[0m \u001b[1m1s\u001b[0m 2ms/step - loss: 0.4542 - sparse_categorical_accuracy: 0.8230 - val_loss: 0.4978 - val_sparse_categorical_accuracy: 0.8155\n",
      "Epoch 5/30\n",
      "\u001b[1m500/500\u001b[0m \u001b[32m━━━━━━━━━━━━━━━━━━━━\u001b[0m\u001b[37m\u001b[0m \u001b[1m1s\u001b[0m 2ms/step - loss: 0.3870 - sparse_categorical_accuracy: 0.8571 - val_loss: 0.4607 - val_sparse_categorical_accuracy: 0.8225\n",
      "Epoch 6/30\n",
      "\u001b[1m500/500\u001b[0m \u001b[32m━━━━━━━━━━━━━━━━━━━━\u001b[0m\u001b[37m\u001b[0m \u001b[1m1s\u001b[0m 2ms/step - loss: 0.3215 - sparse_categorical_accuracy: 0.8763 - val_loss: 0.5017 - val_sparse_categorical_accuracy: 0.8167\n",
      "Epoch 7/30\n",
      "\u001b[1m500/500\u001b[0m \u001b[32m━━━━━━━━━━━━━━━━━━━━\u001b[0m\u001b[37m\u001b[0m \u001b[1m1s\u001b[0m 2ms/step - loss: 0.2660 - sparse_categorical_accuracy: 0.8995 - val_loss: 0.5056 - val_sparse_categorical_accuracy: 0.8192\n",
      "Epoch 8/30\n",
      "\u001b[1m500/500\u001b[0m \u001b[32m━━━━━━━━━━━━━━━━━━━━\u001b[0m\u001b[37m\u001b[0m \u001b[1m1s\u001b[0m 2ms/step - loss: 0.2122 - sparse_categorical_accuracy: 0.9187 - val_loss: 0.5043 - val_sparse_categorical_accuracy: 0.8238\n",
      "Epoch 9/30\n",
      "\u001b[1m500/500\u001b[0m \u001b[32m━━━━━━━━━━━━━━━━━━━━\u001b[0m\u001b[37m\u001b[0m \u001b[1m1s\u001b[0m 2ms/step - loss: 0.1799 - sparse_categorical_accuracy: 0.9316 - val_loss: 0.5308 - val_sparse_categorical_accuracy: 0.8317\n",
      "Epoch 10/30\n",
      "\u001b[1m500/500\u001b[0m \u001b[32m━━━━━━━━━━━━━━━━━━━━\u001b[0m\u001b[37m\u001b[0m \u001b[1m1s\u001b[0m 2ms/step - loss: 0.1408 - sparse_categorical_accuracy: 0.9493 - val_loss: 0.5805 - val_sparse_categorical_accuracy: 0.8220\n",
      "Epoch 11/30\n",
      "\u001b[1m500/500\u001b[0m \u001b[32m━━━━━━━━━━━━━━━━━━━━\u001b[0m\u001b[37m\u001b[0m \u001b[1m1s\u001b[0m 2ms/step - loss: 0.1028 - sparse_categorical_accuracy: 0.9627 - val_loss: 0.6734 - val_sparse_categorical_accuracy: 0.8198\n",
      "Epoch 12/30\n",
      "\u001b[1m500/500\u001b[0m \u001b[32m━━━━━━━━━━━━━━━━━━━━\u001b[0m\u001b[37m\u001b[0m \u001b[1m1s\u001b[0m 2ms/step - loss: 0.0878 - sparse_categorical_accuracy: 0.9673 - val_loss: 0.7701 - val_sparse_categorical_accuracy: 0.8160\n",
      "Epoch 13/30\n",
      "\u001b[1m500/500\u001b[0m \u001b[32m━━━━━━━━━━━━━━━━━━━━\u001b[0m\u001b[37m\u001b[0m \u001b[1m1s\u001b[0m 2ms/step - loss: 0.0869 - sparse_categorical_accuracy: 0.9683 - val_loss: 0.7069 - val_sparse_categorical_accuracy: 0.8248\n",
      "Epoch 14/30\n",
      "\u001b[1m500/500\u001b[0m \u001b[32m━━━━━━━━━━━━━━━━━━━━\u001b[0m\u001b[37m\u001b[0m \u001b[1m1s\u001b[0m 2ms/step - loss: 0.0636 - sparse_categorical_accuracy: 0.9773 - val_loss: 0.7974 - val_sparse_categorical_accuracy: 0.8240\n",
      "Epoch 15/30\n",
      "\u001b[1m500/500\u001b[0m \u001b[32m━━━━━━━━━━━━━━━━━━━━\u001b[0m\u001b[37m\u001b[0m \u001b[1m1s\u001b[0m 2ms/step - loss: 0.0549 - sparse_categorical_accuracy: 0.9795 - val_loss: 0.7954 - val_sparse_categorical_accuracy: 0.8150\n",
      "Epoch 16/30\n",
      "\u001b[1m500/500\u001b[0m \u001b[32m━━━━━━━━━━━━━━━━━━━━\u001b[0m\u001b[37m\u001b[0m \u001b[1m1s\u001b[0m 2ms/step - loss: 0.0422 - sparse_categorical_accuracy: 0.9857 - val_loss: 0.8561 - val_sparse_categorical_accuracy: 0.8202\n",
      "Epoch 17/30\n",
      "\u001b[1m500/500\u001b[0m \u001b[32m━━━━━━━━━━━━━━━━━━━━\u001b[0m\u001b[37m\u001b[0m \u001b[1m1s\u001b[0m 2ms/step - loss: 0.0454 - sparse_categorical_accuracy: 0.9846 - val_loss: 0.9404 - val_sparse_categorical_accuracy: 0.8163\n",
      "Epoch 18/30\n",
      "\u001b[1m500/500\u001b[0m \u001b[32m━━━━━━━━━━━━━━━━━━━━\u001b[0m\u001b[37m\u001b[0m \u001b[1m1s\u001b[0m 2ms/step - loss: 0.0475 - sparse_categorical_accuracy: 0.9828 - val_loss: 1.0335 - val_sparse_categorical_accuracy: 0.8158\n",
      "Epoch 19/30\n",
      "\u001b[1m500/500\u001b[0m \u001b[32m━━━━━━━━━━━━━━━━━━━━\u001b[0m\u001b[37m\u001b[0m \u001b[1m1s\u001b[0m 2ms/step - loss: 0.0507 - sparse_categorical_accuracy: 0.9828 - val_loss: 0.9808 - val_sparse_categorical_accuracy: 0.8177\n",
      "Epoch 20/30\n",
      "\u001b[1m500/500\u001b[0m \u001b[32m━━━━━━━━━━━━━━━━━━━━\u001b[0m\u001b[37m\u001b[0m \u001b[1m1s\u001b[0m 2ms/step - loss: 0.0362 - sparse_categorical_accuracy: 0.9877 - val_loss: 1.0574 - val_sparse_categorical_accuracy: 0.8142\n",
      "Epoch 21/30\n",
      "\u001b[1m500/500\u001b[0m \u001b[32m━━━━━━━━━━━━━━━━━━━━\u001b[0m\u001b[37m\u001b[0m \u001b[1m1s\u001b[0m 2ms/step - loss: 0.0348 - sparse_categorical_accuracy: 0.9878 - val_loss: 1.0311 - val_sparse_categorical_accuracy: 0.8133\n",
      "Epoch 22/30\n",
      "\u001b[1m500/500\u001b[0m \u001b[32m━━━━━━━━━━━━━━━━━━━━\u001b[0m\u001b[37m\u001b[0m \u001b[1m1s\u001b[0m 2ms/step - loss: 0.0223 - sparse_categorical_accuracy: 0.9930 - val_loss: 1.0967 - val_sparse_categorical_accuracy: 0.8188\n",
      "Epoch 23/30\n",
      "\u001b[1m500/500\u001b[0m \u001b[32m━━━━━━━━━━━━━━━━━━━━\u001b[0m\u001b[37m\u001b[0m \u001b[1m1s\u001b[0m 2ms/step - loss: 0.0453 - sparse_categorical_accuracy: 0.9837 - val_loss: 1.1873 - val_sparse_categorical_accuracy: 0.8135\n",
      "Epoch 24/30\n",
      "\u001b[1m500/500\u001b[0m \u001b[32m━━━━━━━━━━━━━━━━━━━━\u001b[0m\u001b[37m\u001b[0m \u001b[1m1s\u001b[0m 2ms/step - loss: 0.0484 - sparse_categorical_accuracy: 0.9838 - val_loss: 1.1383 - val_sparse_categorical_accuracy: 0.8112\n",
      "Epoch 25/30\n",
      "\u001b[1m500/500\u001b[0m \u001b[32m━━━━━━━━━━━━━━━━━━━━\u001b[0m\u001b[37m\u001b[0m \u001b[1m1s\u001b[0m 2ms/step - loss: 0.0351 - sparse_categorical_accuracy: 0.9872 - val_loss: 1.1421 - val_sparse_categorical_accuracy: 0.8135\n",
      "Epoch 26/30\n",
      "\u001b[1m500/500\u001b[0m \u001b[32m━━━━━━━━━━━━━━━━━━━━\u001b[0m\u001b[37m\u001b[0m \u001b[1m1s\u001b[0m 2ms/step - loss: 0.0295 - sparse_categorical_accuracy: 0.9892 - val_loss: 1.1101 - val_sparse_categorical_accuracy: 0.8215\n",
      "Epoch 27/30\n",
      "\u001b[1m500/500\u001b[0m \u001b[32m━━━━━━━━━━━━━━━━━━━━\u001b[0m\u001b[37m\u001b[0m \u001b[1m1s\u001b[0m 2ms/step - loss: 0.0454 - sparse_categorical_accuracy: 0.9855 - val_loss: 1.2052 - val_sparse_categorical_accuracy: 0.8215\n",
      "Epoch 28/30\n",
      "\u001b[1m500/500\u001b[0m \u001b[32m━━━━━━━━━━━━━━━━━━━━\u001b[0m\u001b[37m\u001b[0m \u001b[1m1s\u001b[0m 2ms/step - loss: 0.0148 - sparse_categorical_accuracy: 0.9953 - val_loss: 1.3018 - val_sparse_categorical_accuracy: 0.8127\n",
      "Epoch 29/30\n",
      "\u001b[1m500/500\u001b[0m \u001b[32m━━━━━━━━━━━━━━━━━━━━\u001b[0m\u001b[37m\u001b[0m \u001b[1m1s\u001b[0m 2ms/step - loss: 0.0324 - sparse_categorical_accuracy: 0.9889 - val_loss: 1.2795 - val_sparse_categorical_accuracy: 0.8205\n",
      "Epoch 30/30\n",
      "\u001b[1m500/500\u001b[0m \u001b[32m━━━━━━━━━━━━━━━━━━━━\u001b[0m\u001b[37m\u001b[0m \u001b[1m1s\u001b[0m 2ms/step - loss: 0.0213 - sparse_categorical_accuracy: 0.9935 - val_loss: 1.2834 - val_sparse_categorical_accuracy: 0.8075\n",
      "\u001b[1m125/125\u001b[0m \u001b[32m━━━━━━━━━━━━━━━━━━━━\u001b[0m\u001b[37m\u001b[0m \u001b[1m0s\u001b[0m 967us/step - loss: 1.2377 - sparse_categorical_accuracy: 0.8206\n",
      "\n",
      "Pérdida en prueba del Modelo A: 1.2455263137817383\n",
      "Exactitud en prueba del Modelo A: 0.8180000185966492\n"
     ]
    }
   ],
   "source": [
    "model_a = tf.keras.Sequential([\n",
    "    tf.keras.layers.Conv2D(64, (3, 3), activation='relu', input_shape=(32, 32, 3)),\n",
    "    tf.keras.layers.MaxPooling2D((2, 2)),\n",
    "    tf.keras.layers.Conv2D(128, (3, 3), activation='relu'),\n",
    "    tf.keras.layers.MaxPooling2D((2, 2)),\n",
    "    tf.keras.layers.Conv2D(256, (3, 3), activation='relu'),\n",
    "    tf.keras.layers.Flatten(),\n",
    "    tf.keras.layers.Dense(64, activation='relu'),\n",
    "    tf.keras.layers.Dense(len(classes_model_a), activation='softmax')\n",
    "])\n",
    "\n",
    "model_a.compile(optimizer='adam',\n",
    "                loss='sparse_categorical_crossentropy',\n",
    "                metrics=['sparse_categorical_accuracy'])\n",
    "\n",
    "history_a = model_a.fit(x_train_a, y_train_a, epochs=30, validation_data=(x_val_a, y_val_a))\n",
    "\n",
    "# Evaluar el modelo A\n",
    "test_loss_a, test_acc_a = model_a.evaluate(x_test_a, y_test_a)\n",
    "print(f\"\\nPérdida en prueba del Modelo A: {test_loss_a}\")\n",
    "print(f\"Exactitud en prueba del Modelo A: {test_acc_a}\")"
   ]
  },
  {
   "cell_type": "markdown",
   "metadata": {},
   "source": [
    "Entrenar el Modelo B desde 0"
   ]
  },
  {
   "cell_type": "code",
   "execution_count": 8,
   "metadata": {},
   "outputs": [
    {
     "name": "stdout",
     "output_type": "stream",
     "text": [
      "Epoch 1/30\n",
      "\u001b[1m500/500\u001b[0m \u001b[32m━━━━━━━━━━━━━━━━━━━━\u001b[0m\u001b[37m\u001b[0m \u001b[1m3s\u001b[0m 3ms/step - loss: 1.1868 - sparse_categorical_accuracy: 0.4465 - val_loss: 0.8345 - val_sparse_categorical_accuracy: 0.6743\n",
      "Epoch 2/30\n",
      "\u001b[1m500/500\u001b[0m \u001b[32m━━━━━━━━━━━━━━━━━━━━\u001b[0m\u001b[37m\u001b[0m \u001b[1m1s\u001b[0m 2ms/step - loss: 0.7331 - sparse_categorical_accuracy: 0.7088 - val_loss: 0.6608 - val_sparse_categorical_accuracy: 0.7372\n",
      "Epoch 3/30\n",
      "\u001b[1m500/500\u001b[0m \u001b[32m━━━━━━━━━━━━━━━━━━━━\u001b[0m\u001b[37m\u001b[0m \u001b[1m1s\u001b[0m 2ms/step - loss: 0.5934 - sparse_categorical_accuracy: 0.7746 - val_loss: 0.6108 - val_sparse_categorical_accuracy: 0.7607\n",
      "Epoch 4/30\n",
      "\u001b[1m500/500\u001b[0m \u001b[32m━━━━━━━━━━━━━━━━━━━━\u001b[0m\u001b[37m\u001b[0m \u001b[1m1s\u001b[0m 2ms/step - loss: 0.5068 - sparse_categorical_accuracy: 0.8035 - val_loss: 0.5890 - val_sparse_categorical_accuracy: 0.7770\n",
      "Epoch 5/30\n",
      "\u001b[1m500/500\u001b[0m \u001b[32m━━━━━━━━━━━━━━━━━━━━\u001b[0m\u001b[37m\u001b[0m \u001b[1m1s\u001b[0m 2ms/step - loss: 0.4238 - sparse_categorical_accuracy: 0.8398 - val_loss: 0.5455 - val_sparse_categorical_accuracy: 0.7952\n",
      "Epoch 6/30\n",
      "\u001b[1m500/500\u001b[0m \u001b[32m━━━━━━━━━━━━━━━━━━━━\u001b[0m\u001b[37m\u001b[0m \u001b[1m1s\u001b[0m 2ms/step - loss: 0.3562 - sparse_categorical_accuracy: 0.8705 - val_loss: 0.5532 - val_sparse_categorical_accuracy: 0.7997\n",
      "Epoch 7/30\n",
      "\u001b[1m500/500\u001b[0m \u001b[32m━━━━━━━━━━━━━━━━━━━━\u001b[0m\u001b[37m\u001b[0m \u001b[1m1s\u001b[0m 2ms/step - loss: 0.3008 - sparse_categorical_accuracy: 0.8896 - val_loss: 0.5666 - val_sparse_categorical_accuracy: 0.8050\n",
      "Epoch 8/30\n",
      "\u001b[1m500/500\u001b[0m \u001b[32m━━━━━━━━━━━━━━━━━━━━\u001b[0m\u001b[37m\u001b[0m \u001b[1m1s\u001b[0m 2ms/step - loss: 0.2334 - sparse_categorical_accuracy: 0.9185 - val_loss: 0.6718 - val_sparse_categorical_accuracy: 0.7893\n",
      "Epoch 9/30\n",
      "\u001b[1m500/500\u001b[0m \u001b[32m━━━━━━━━━━━━━━━━━━━━\u001b[0m\u001b[37m\u001b[0m \u001b[1m1s\u001b[0m 2ms/step - loss: 0.1974 - sparse_categorical_accuracy: 0.9289 - val_loss: 0.6270 - val_sparse_categorical_accuracy: 0.8115\n",
      "Epoch 10/30\n",
      "\u001b[1m500/500\u001b[0m \u001b[32m━━━━━━━━━━━━━━━━━━━━\u001b[0m\u001b[37m\u001b[0m \u001b[1m1s\u001b[0m 2ms/step - loss: 0.1490 - sparse_categorical_accuracy: 0.9474 - val_loss: 0.6958 - val_sparse_categorical_accuracy: 0.8108\n",
      "Epoch 11/30\n",
      "\u001b[1m500/500\u001b[0m \u001b[32m━━━━━━━━━━━━━━━━━━━━\u001b[0m\u001b[37m\u001b[0m \u001b[1m1s\u001b[0m 2ms/step - loss: 0.1298 - sparse_categorical_accuracy: 0.9530 - val_loss: 0.7106 - val_sparse_categorical_accuracy: 0.8087\n",
      "Epoch 12/30\n",
      "\u001b[1m500/500\u001b[0m \u001b[32m━━━━━━━━━━━━━━━━━━━━\u001b[0m\u001b[37m\u001b[0m \u001b[1m1s\u001b[0m 2ms/step - loss: 0.0936 - sparse_categorical_accuracy: 0.9668 - val_loss: 0.8588 - val_sparse_categorical_accuracy: 0.7912\n",
      "Epoch 13/30\n",
      "\u001b[1m500/500\u001b[0m \u001b[32m━━━━━━━━━━━━━━━━━━━━\u001b[0m\u001b[37m\u001b[0m \u001b[1m1s\u001b[0m 2ms/step - loss: 0.0871 - sparse_categorical_accuracy: 0.9691 - val_loss: 0.8577 - val_sparse_categorical_accuracy: 0.7935\n",
      "Epoch 14/30\n",
      "\u001b[1m500/500\u001b[0m \u001b[32m━━━━━━━━━━━━━━━━━━━━\u001b[0m\u001b[37m\u001b[0m \u001b[1m1s\u001b[0m 2ms/step - loss: 0.0762 - sparse_categorical_accuracy: 0.9750 - val_loss: 0.9495 - val_sparse_categorical_accuracy: 0.7937\n",
      "Epoch 15/30\n",
      "\u001b[1m500/500\u001b[0m \u001b[32m━━━━━━━━━━━━━━━━━━━━\u001b[0m\u001b[37m\u001b[0m \u001b[1m1s\u001b[0m 2ms/step - loss: 0.0764 - sparse_categorical_accuracy: 0.9738 - val_loss: 0.9262 - val_sparse_categorical_accuracy: 0.8030\n",
      "Epoch 16/30\n",
      "\u001b[1m500/500\u001b[0m \u001b[32m━━━━━━━━━━━━━━━━━━━━\u001b[0m\u001b[37m\u001b[0m \u001b[1m1s\u001b[0m 2ms/step - loss: 0.0639 - sparse_categorical_accuracy: 0.9781 - val_loss: 1.0371 - val_sparse_categorical_accuracy: 0.7993\n",
      "Epoch 17/30\n",
      "\u001b[1m500/500\u001b[0m \u001b[32m━━━━━━━━━━━━━━━━━━━━\u001b[0m\u001b[37m\u001b[0m \u001b[1m1s\u001b[0m 2ms/step - loss: 0.0448 - sparse_categorical_accuracy: 0.9840 - val_loss: 1.0034 - val_sparse_categorical_accuracy: 0.8112\n",
      "Epoch 18/30\n",
      "\u001b[1m500/500\u001b[0m \u001b[32m━━━━━━━━━━━━━━━━━━━━\u001b[0m\u001b[37m\u001b[0m \u001b[1m1s\u001b[0m 2ms/step - loss: 0.0603 - sparse_categorical_accuracy: 0.9799 - val_loss: 1.1546 - val_sparse_categorical_accuracy: 0.8070\n",
      "Epoch 19/30\n",
      "\u001b[1m500/500\u001b[0m \u001b[32m━━━━━━━━━━━━━━━━━━━━\u001b[0m\u001b[37m\u001b[0m \u001b[1m1s\u001b[0m 2ms/step - loss: 0.0489 - sparse_categorical_accuracy: 0.9829 - val_loss: 1.0826 - val_sparse_categorical_accuracy: 0.8005\n",
      "Epoch 20/30\n",
      "\u001b[1m500/500\u001b[0m \u001b[32m━━━━━━━━━━━━━━━━━━━━\u001b[0m\u001b[37m\u001b[0m \u001b[1m1s\u001b[0m 2ms/step - loss: 0.0373 - sparse_categorical_accuracy: 0.9884 - val_loss: 1.1725 - val_sparse_categorical_accuracy: 0.7895\n",
      "Epoch 21/30\n",
      "\u001b[1m500/500\u001b[0m \u001b[32m━━━━━━━━━━━━━━━━━━━━\u001b[0m\u001b[37m\u001b[0m \u001b[1m1s\u001b[0m 2ms/step - loss: 0.0708 - sparse_categorical_accuracy: 0.9749 - val_loss: 1.0968 - val_sparse_categorical_accuracy: 0.8043\n",
      "Epoch 22/30\n",
      "\u001b[1m500/500\u001b[0m \u001b[32m━━━━━━━━━━━━━━━━━━━━\u001b[0m\u001b[37m\u001b[0m \u001b[1m1s\u001b[0m 2ms/step - loss: 0.0358 - sparse_categorical_accuracy: 0.9895 - val_loss: 1.1847 - val_sparse_categorical_accuracy: 0.7980\n",
      "Epoch 23/30\n",
      "\u001b[1m500/500\u001b[0m \u001b[32m━━━━━━━━━━━━━━━━━━━━\u001b[0m\u001b[37m\u001b[0m \u001b[1m1s\u001b[0m 2ms/step - loss: 0.0570 - sparse_categorical_accuracy: 0.9802 - val_loss: 1.2595 - val_sparse_categorical_accuracy: 0.7905\n",
      "Epoch 24/30\n",
      "\u001b[1m500/500\u001b[0m \u001b[32m━━━━━━━━━━━━━━━━━━━━\u001b[0m\u001b[37m\u001b[0m \u001b[1m1s\u001b[0m 2ms/step - loss: 0.0314 - sparse_categorical_accuracy: 0.9889 - val_loss: 1.2494 - val_sparse_categorical_accuracy: 0.7918\n",
      "Epoch 25/30\n",
      "\u001b[1m500/500\u001b[0m \u001b[32m━━━━━━━━━━━━━━━━━━━━\u001b[0m\u001b[37m\u001b[0m \u001b[1m1s\u001b[0m 2ms/step - loss: 0.0367 - sparse_categorical_accuracy: 0.9859 - val_loss: 1.2119 - val_sparse_categorical_accuracy: 0.7940\n",
      "Epoch 26/30\n",
      "\u001b[1m500/500\u001b[0m \u001b[32m━━━━━━━━━━━━━━━━━━━━\u001b[0m\u001b[37m\u001b[0m \u001b[1m1s\u001b[0m 2ms/step - loss: 0.0578 - sparse_categorical_accuracy: 0.9799 - val_loss: 1.1505 - val_sparse_categorical_accuracy: 0.7987\n",
      "Epoch 27/30\n",
      "\u001b[1m500/500\u001b[0m \u001b[32m━━━━━━━━━━━━━━━━━━━━\u001b[0m\u001b[37m\u001b[0m \u001b[1m1s\u001b[0m 2ms/step - loss: 0.0289 - sparse_categorical_accuracy: 0.9898 - val_loss: 1.2970 - val_sparse_categorical_accuracy: 0.8000\n",
      "Epoch 28/30\n",
      "\u001b[1m500/500\u001b[0m \u001b[32m━━━━━━━━━━━━━━━━━━━━\u001b[0m\u001b[37m\u001b[0m \u001b[1m1s\u001b[0m 2ms/step - loss: 0.0399 - sparse_categorical_accuracy: 0.9866 - val_loss: 1.2187 - val_sparse_categorical_accuracy: 0.8105\n",
      "Epoch 29/30\n",
      "\u001b[1m500/500\u001b[0m \u001b[32m━━━━━━━━━━━━━━━━━━━━\u001b[0m\u001b[37m\u001b[0m \u001b[1m1s\u001b[0m 2ms/step - loss: 0.0246 - sparse_categorical_accuracy: 0.9930 - val_loss: 1.3898 - val_sparse_categorical_accuracy: 0.7860\n",
      "Epoch 30/30\n",
      "\u001b[1m500/500\u001b[0m \u001b[32m━━━━━━━━━━━━━━━━━━━━\u001b[0m\u001b[37m\u001b[0m \u001b[1m1s\u001b[0m 2ms/step - loss: 0.0566 - sparse_categorical_accuracy: 0.9823 - val_loss: 1.2796 - val_sparse_categorical_accuracy: 0.8077\n",
      "\u001b[1m125/125\u001b[0m \u001b[32m━━━━━━━━━━━━━━━━━━━━\u001b[0m\u001b[37m\u001b[0m \u001b[1m0s\u001b[0m 1ms/step - loss: 1.1342 - sparse_categorical_accuracy: 0.8109   \n"
     ]
    }
   ],
   "source": [
    "model_b = tf.keras.Sequential([\n",
    "    tf.keras.layers.Conv2D(64, (3, 3), activation='relu', input_shape=(32, 32, 3)),\n",
    "    tf.keras.layers.MaxPooling2D((2, 2)),\n",
    "    tf.keras.layers.Conv2D(128, (3, 3), activation='relu'),\n",
    "    tf.keras.layers.MaxPooling2D((2, 2)),\n",
    "    tf.keras.layers.Conv2D(256, (3, 3), activation='relu'),\n",
    "    tf.keras.layers.Flatten(),\n",
    "    tf.keras.layers.Dense(64, activation='relu'),\n",
    "    tf.keras.layers.Dense(len(classes_model_a), activation='softmax')\n",
    "])\n",
    "\n",
    "model_b.compile(optimizer='adam',\n",
    "                loss='sparse_categorical_crossentropy',\n",
    "                metrics=['sparse_categorical_accuracy'])\n",
    "\n",
    "history_b = model_b.fit(x_train_b, y_train_b, epochs=30, validation_data=(x_val_b, y_val_b))\n",
    "\n",
    "# Evaluar el modelo B\n",
    "test_loss_b, test_acc_b = model_b.evaluate(x_test_b, y_test_b)\n"
   ]
  },
  {
   "cell_type": "markdown",
   "metadata": {},
   "source": [
    "Entrenar el Modelo B utilizando las capas aprendidas del Modelo A (excepto la capa de salida)"
   ]
  },
  {
   "cell_type": "code",
   "execution_count": 9,
   "metadata": {},
   "outputs": [
    {
     "name": "stdout",
     "output_type": "stream",
     "text": [
      "Epoch 1/30\n",
      "\u001b[1m500/500\u001b[0m \u001b[32m━━━━━━━━━━━━━━━━━━━━\u001b[0m\u001b[37m\u001b[0m \u001b[1m2s\u001b[0m 2ms/step - accuracy: 0.3188 - loss: 1.9199 - val_accuracy: 0.4098 - val_loss: 1.3087\n",
      "Epoch 2/30\n",
      "\u001b[1m500/500\u001b[0m \u001b[32m━━━━━━━━━━━━━━━━━━━━\u001b[0m\u001b[37m\u001b[0m \u001b[1m1s\u001b[0m 1ms/step - accuracy: 0.4241 - loss: 1.2882 - val_accuracy: 0.4760 - val_loss: 1.2071\n",
      "Epoch 3/30\n",
      "\u001b[1m500/500\u001b[0m \u001b[32m━━━━━━━━━━━━━━━━━━━━\u001b[0m\u001b[37m\u001b[0m \u001b[1m1s\u001b[0m 1ms/step - accuracy: 0.4697 - loss: 1.2078 - val_accuracy: 0.4997 - val_loss: 1.1692\n",
      "Epoch 4/30\n",
      "\u001b[1m500/500\u001b[0m \u001b[32m━━━━━━━━━━━━━━━━━━━━\u001b[0m\u001b[37m\u001b[0m \u001b[1m1s\u001b[0m 1ms/step - accuracy: 0.4938 - loss: 1.1740 - val_accuracy: 0.5065 - val_loss: 1.1594\n",
      "Epoch 5/30\n",
      "\u001b[1m500/500\u001b[0m \u001b[32m━━━━━━━━━━━━━━━━━━━━\u001b[0m\u001b[37m\u001b[0m \u001b[1m1s\u001b[0m 1ms/step - accuracy: 0.5037 - loss: 1.1639 - val_accuracy: 0.5058 - val_loss: 1.1474\n",
      "Epoch 6/30\n",
      "\u001b[1m500/500\u001b[0m \u001b[32m━━━━━━━━━━━━━━━━━━━━\u001b[0m\u001b[37m\u001b[0m \u001b[1m1s\u001b[0m 1ms/step - accuracy: 0.5020 - loss: 1.1581 - val_accuracy: 0.5173 - val_loss: 1.1385\n",
      "Epoch 7/30\n",
      "\u001b[1m500/500\u001b[0m \u001b[32m━━━━━━━━━━━━━━━━━━━━\u001b[0m\u001b[37m\u001b[0m \u001b[1m1s\u001b[0m 1ms/step - accuracy: 0.5090 - loss: 1.1543 - val_accuracy: 0.5082 - val_loss: 1.1449\n",
      "Epoch 8/30\n",
      "\u001b[1m500/500\u001b[0m \u001b[32m━━━━━━━━━━━━━━━━━━━━\u001b[0m\u001b[37m\u001b[0m \u001b[1m1s\u001b[0m 1ms/step - accuracy: 0.5130 - loss: 1.1440 - val_accuracy: 0.5102 - val_loss: 1.1370\n",
      "Epoch 9/30\n",
      "\u001b[1m500/500\u001b[0m \u001b[32m━━━━━━━━━━━━━━━━━━━━\u001b[0m\u001b[37m\u001b[0m \u001b[1m1s\u001b[0m 1ms/step - accuracy: 0.5079 - loss: 1.1430 - val_accuracy: 0.5155 - val_loss: 1.1337\n",
      "Epoch 10/30\n",
      "\u001b[1m500/500\u001b[0m \u001b[32m━━━━━━━━━━━━━━━━━━━━\u001b[0m\u001b[37m\u001b[0m \u001b[1m1s\u001b[0m 1ms/step - accuracy: 0.5140 - loss: 1.1323 - val_accuracy: 0.5190 - val_loss: 1.1303\n",
      "Epoch 11/30\n",
      "\u001b[1m500/500\u001b[0m \u001b[32m━━━━━━━━━━━━━━━━━━━━\u001b[0m\u001b[37m\u001b[0m \u001b[1m1s\u001b[0m 1ms/step - accuracy: 0.5129 - loss: 1.1362 - val_accuracy: 0.5110 - val_loss: 1.1405\n",
      "Epoch 12/30\n",
      "\u001b[1m500/500\u001b[0m \u001b[32m━━━━━━━━━━━━━━━━━━━━\u001b[0m\u001b[37m\u001b[0m \u001b[1m1s\u001b[0m 1ms/step - accuracy: 0.5181 - loss: 1.1319 - val_accuracy: 0.5225 - val_loss: 1.1286\n",
      "Epoch 13/30\n",
      "\u001b[1m500/500\u001b[0m \u001b[32m━━━━━━━━━━━━━━━━━━━━\u001b[0m\u001b[37m\u001b[0m \u001b[1m1s\u001b[0m 1ms/step - accuracy: 0.5144 - loss: 1.1376 - val_accuracy: 0.5150 - val_loss: 1.1328\n",
      "Epoch 14/30\n",
      "\u001b[1m500/500\u001b[0m \u001b[32m━━━━━━━━━━━━━━━━━━━━\u001b[0m\u001b[37m\u001b[0m \u001b[1m1s\u001b[0m 1ms/step - accuracy: 0.5189 - loss: 1.1344 - val_accuracy: 0.5188 - val_loss: 1.1269\n",
      "Epoch 15/30\n",
      "\u001b[1m500/500\u001b[0m \u001b[32m━━━━━━━━━━━━━━━━━━━━\u001b[0m\u001b[37m\u001b[0m \u001b[1m1s\u001b[0m 1ms/step - accuracy: 0.5169 - loss: 1.1322 - val_accuracy: 0.5203 - val_loss: 1.1268\n",
      "Epoch 16/30\n",
      "\u001b[1m500/500\u001b[0m \u001b[32m━━━━━━━━━━━━━━━━━━━━\u001b[0m\u001b[37m\u001b[0m \u001b[1m1s\u001b[0m 1ms/step - accuracy: 0.5178 - loss: 1.1381 - val_accuracy: 0.5222 - val_loss: 1.1252\n",
      "Epoch 17/30\n",
      "\u001b[1m500/500\u001b[0m \u001b[32m━━━━━━━━━━━━━━━━━━━━\u001b[0m\u001b[37m\u001b[0m \u001b[1m1s\u001b[0m 1ms/step - accuracy: 0.5175 - loss: 1.1319 - val_accuracy: 0.5150 - val_loss: 1.1347\n",
      "Epoch 18/30\n",
      "\u001b[1m500/500\u001b[0m \u001b[32m━━━━━━━━━━━━━━━━━━━━\u001b[0m\u001b[37m\u001b[0m \u001b[1m1s\u001b[0m 1ms/step - accuracy: 0.5159 - loss: 1.1331 - val_accuracy: 0.5185 - val_loss: 1.1268\n",
      "Epoch 19/30\n",
      "\u001b[1m500/500\u001b[0m \u001b[32m━━━━━━━━━━━━━━━━━━━━\u001b[0m\u001b[37m\u001b[0m \u001b[1m1s\u001b[0m 1ms/step - accuracy: 0.5136 - loss: 1.1321 - val_accuracy: 0.5170 - val_loss: 1.1336\n",
      "Epoch 20/30\n",
      "\u001b[1m500/500\u001b[0m \u001b[32m━━━━━━━━━━━━━━━━━━━━\u001b[0m\u001b[37m\u001b[0m \u001b[1m1s\u001b[0m 1ms/step - accuracy: 0.5137 - loss: 1.1315 - val_accuracy: 0.5148 - val_loss: 1.1343\n",
      "Epoch 21/30\n",
      "\u001b[1m500/500\u001b[0m \u001b[32m━━━━━━━━━━━━━━━━━━━━\u001b[0m\u001b[37m\u001b[0m \u001b[1m1s\u001b[0m 1ms/step - accuracy: 0.5144 - loss: 1.1292 - val_accuracy: 0.5138 - val_loss: 1.1291\n",
      "Epoch 22/30\n",
      "\u001b[1m500/500\u001b[0m \u001b[32m━━━━━━━━━━━━━━━━━━━━\u001b[0m\u001b[37m\u001b[0m \u001b[1m1s\u001b[0m 1ms/step - accuracy: 0.5220 - loss: 1.1290 - val_accuracy: 0.5220 - val_loss: 1.1246\n",
      "Epoch 23/30\n",
      "\u001b[1m500/500\u001b[0m \u001b[32m━━━━━━━━━━━━━━━━━━━━\u001b[0m\u001b[37m\u001b[0m \u001b[1m1s\u001b[0m 1ms/step - accuracy: 0.5218 - loss: 1.1262 - val_accuracy: 0.5092 - val_loss: 1.1360\n",
      "Epoch 24/30\n",
      "\u001b[1m500/500\u001b[0m \u001b[32m━━━━━━━━━━━━━━━━━━━━\u001b[0m\u001b[37m\u001b[0m \u001b[1m1s\u001b[0m 1ms/step - accuracy: 0.5156 - loss: 1.1290 - val_accuracy: 0.5125 - val_loss: 1.1279\n",
      "Epoch 25/30\n",
      "\u001b[1m500/500\u001b[0m \u001b[32m━━━━━━━━━━━━━━━━━━━━\u001b[0m\u001b[37m\u001b[0m \u001b[1m1s\u001b[0m 1ms/step - accuracy: 0.5168 - loss: 1.1263 - val_accuracy: 0.5222 - val_loss: 1.1225\n",
      "Epoch 26/30\n",
      "\u001b[1m500/500\u001b[0m \u001b[32m━━━━━━━━━━━━━━━━━━━━\u001b[0m\u001b[37m\u001b[0m \u001b[1m1s\u001b[0m 1ms/step - accuracy: 0.5191 - loss: 1.1290 - val_accuracy: 0.5215 - val_loss: 1.1248\n",
      "Epoch 27/30\n",
      "\u001b[1m500/500\u001b[0m \u001b[32m━━━━━━━━━━━━━━━━━━━━\u001b[0m\u001b[37m\u001b[0m \u001b[1m1s\u001b[0m 1ms/step - accuracy: 0.5144 - loss: 1.1361 - val_accuracy: 0.5100 - val_loss: 1.1390\n",
      "Epoch 28/30\n",
      "\u001b[1m500/500\u001b[0m \u001b[32m━━━━━━━━━━━━━━━━━━━━\u001b[0m\u001b[37m\u001b[0m \u001b[1m1s\u001b[0m 1ms/step - accuracy: 0.5218 - loss: 1.1313 - val_accuracy: 0.5163 - val_loss: 1.1329\n",
      "Epoch 29/30\n",
      "\u001b[1m500/500\u001b[0m \u001b[32m━━━━━━━━━━━━━━━━━━━━\u001b[0m\u001b[37m\u001b[0m \u001b[1m1s\u001b[0m 1ms/step - accuracy: 0.5157 - loss: 1.1372 - val_accuracy: 0.5098 - val_loss: 1.1398\n",
      "Epoch 30/30\n",
      "\u001b[1m500/500\u001b[0m \u001b[32m━━━━━━━━━━━━━━━━━━━━\u001b[0m\u001b[37m\u001b[0m \u001b[1m1s\u001b[0m 1ms/step - accuracy: 0.5192 - loss: 1.1322 - val_accuracy: 0.5230 - val_loss: 1.1224\n",
      "\u001b[1m125/125\u001b[0m \u001b[32m━━━━━━━━━━━━━━━━━━━━\u001b[0m\u001b[37m\u001b[0m \u001b[1m0s\u001b[0m 1ms/step - accuracy: 0.5074 - loss: 1.1405  \n"
     ]
    }
   ],
   "source": [
    "# Entrenar el modelo B utilizando las capas aprendidas del Modelo A\n",
    "\n",
    "\n",
    "model_a_clone = tf.keras.models.clone_model(model_a)\n",
    "\n",
    "model_a_clone.set_weights(model_a.get_weights())\n",
    "\n",
    "model_b_copy_a = Sequential(model_a_clone.layers[:-1])\n",
    "\n",
    "# Nueva capa de salida con 4 neuronas (para las 4 clases de Modelo B)\n",
    "model_b_copy_a.add(Dense(4, activation='softmax'))\n",
    "\n",
    "# Congelar las capas convolucionales y densas preentrenadas del Modelo A\n",
    "for layer in model_b_copy_a.layers[:-1]:\n",
    "    layer.trainable = False # No entrenar las capas previas\n",
    "\n",
    "\n",
    "\n",
    "model_b_copy_a.compile(optimizer='adam',\n",
    "                loss='sparse_categorical_crossentropy',\n",
    "                metrics=['accuracy'])\n",
    "\n",
    "history_b_copy = model_b_copy_a.fit(x_train_b, y_train_b, epochs=30, validation_data=(x_val_b, y_val_b))\n",
    "\n",
    "# Evaluar el modelo B\n",
    "test_loss_b_copy_a, test_acc_b_copy_a = model_b_copy_a.evaluate(x_test_b, y_test_b)\n"
   ]
  },
  {
   "cell_type": "markdown",
   "metadata": {},
   "source": [
    "Evaluar los dos modelos para el conjunto de datos B en el conjunto de pruebas"
   ]
  },
  {
   "cell_type": "code",
   "execution_count": 10,
   "metadata": {},
   "outputs": [
    {
     "name": "stdout",
     "output_type": "stream",
     "text": [
      "\n",
      "Pérdida en prueba del Modelo B: 1.2384032011032104\n",
      "Exactitud en prueba del Modelo B: 0.8019999861717224\n",
      "\n",
      "Pérdida en prueba del Modelo B base A: 1.1443694829940796\n",
      "Exactitud en prueba del Modelo B base A: 0.5067499876022339\n"
     ]
    }
   ],
   "source": [
    "print(f\"\\nPérdida en prueba del Modelo B: {test_loss_b}\")\n",
    "print(f\"Exactitud en prueba del Modelo B: {test_acc_b}\")\n",
    "print(f\"\\nPérdida en prueba del Modelo B base A: {test_loss_b_copy_a}\")\n",
    "print(f\"Exactitud en prueba del Modelo B base A: {test_acc_b_copy_a}\")"
   ]
  },
  {
   "cell_type": "code",
   "execution_count": 12,
   "metadata": {},
   "outputs": [
    {
     "name": "stdout",
     "output_type": "stream",
     "text": [
      "Epoch 1/30\n",
      "\u001b[1m500/500\u001b[0m \u001b[32m━━━━━━━━━━━━━━━━━━━━\u001b[0m\u001b[37m\u001b[0m \u001b[1m3s\u001b[0m 3ms/step - accuracy: 0.6477 - loss: 0.8805 - val_accuracy: 0.7508 - val_loss: 0.6540\n",
      "Epoch 2/30\n",
      "\u001b[1m500/500\u001b[0m \u001b[32m━━━━━━━━━━━━━━━━━━━━\u001b[0m\u001b[37m\u001b[0m \u001b[1m1s\u001b[0m 2ms/step - accuracy: 0.7929 - loss: 0.5577 - val_accuracy: 0.7728 - val_loss: 0.6213\n",
      "Epoch 3/30\n",
      "\u001b[1m500/500\u001b[0m \u001b[32m━━━━━━━━━━━━━━━━━━━━\u001b[0m\u001b[37m\u001b[0m \u001b[1m1s\u001b[0m 2ms/step - accuracy: 0.8516 - loss: 0.4081 - val_accuracy: 0.7955 - val_loss: 0.5662\n",
      "Epoch 4/30\n",
      "\u001b[1m500/500\u001b[0m \u001b[32m━━━━━━━━━━━━━━━━━━━━\u001b[0m\u001b[37m\u001b[0m \u001b[1m1s\u001b[0m 2ms/step - accuracy: 0.8947 - loss: 0.2813 - val_accuracy: 0.7925 - val_loss: 0.6264\n",
      "Epoch 5/30\n",
      "\u001b[1m500/500\u001b[0m \u001b[32m━━━━━━━━━━━━━━━━━━━━\u001b[0m\u001b[37m\u001b[0m \u001b[1m1s\u001b[0m 2ms/step - accuracy: 0.9368 - loss: 0.1782 - val_accuracy: 0.7847 - val_loss: 0.7199\n",
      "Epoch 6/30\n",
      "\u001b[1m500/500\u001b[0m \u001b[32m━━━━━━━━━━━━━━━━━━━━\u001b[0m\u001b[37m\u001b[0m \u001b[1m1s\u001b[0m 2ms/step - accuracy: 0.9650 - loss: 0.1075 - val_accuracy: 0.7760 - val_loss: 0.8457\n",
      "Epoch 7/30\n",
      "\u001b[1m500/500\u001b[0m \u001b[32m━━━━━━━━━━━━━━━━━━━━\u001b[0m\u001b[37m\u001b[0m \u001b[1m1s\u001b[0m 2ms/step - accuracy: 0.9726 - loss: 0.0832 - val_accuracy: 0.7715 - val_loss: 0.9681\n",
      "Epoch 8/30\n",
      "\u001b[1m500/500\u001b[0m \u001b[32m━━━━━━━━━━━━━━━━━━━━\u001b[0m\u001b[37m\u001b[0m \u001b[1m1s\u001b[0m 2ms/step - accuracy: 0.9812 - loss: 0.0574 - val_accuracy: 0.7815 - val_loss: 0.9623\n",
      "Epoch 9/30\n",
      "\u001b[1m500/500\u001b[0m \u001b[32m━━━━━━━━━━━━━━━━━━━━\u001b[0m\u001b[37m\u001b[0m \u001b[1m1s\u001b[0m 2ms/step - accuracy: 0.9826 - loss: 0.0525 - val_accuracy: 0.7810 - val_loss: 1.1250\n",
      "Epoch 10/30\n",
      "\u001b[1m500/500\u001b[0m \u001b[32m━━━━━━━━━━━━━━━━━━━━\u001b[0m\u001b[37m\u001b[0m \u001b[1m1s\u001b[0m 2ms/step - accuracy: 0.9863 - loss: 0.0411 - val_accuracy: 0.7790 - val_loss: 1.0918\n",
      "Epoch 11/30\n",
      "\u001b[1m500/500\u001b[0m \u001b[32m━━━━━━━━━━━━━━━━━━━━\u001b[0m\u001b[37m\u001b[0m \u001b[1m1s\u001b[0m 2ms/step - accuracy: 0.9806 - loss: 0.0572 - val_accuracy: 0.7832 - val_loss: 1.1277\n",
      "Epoch 12/30\n",
      "\u001b[1m500/500\u001b[0m \u001b[32m━━━━━━━━━━━━━━━━━━━━\u001b[0m\u001b[37m\u001b[0m \u001b[1m1s\u001b[0m 2ms/step - accuracy: 0.9867 - loss: 0.0409 - val_accuracy: 0.7825 - val_loss: 1.1991\n",
      "Epoch 13/30\n",
      "\u001b[1m500/500\u001b[0m \u001b[32m━━━━━━━━━━━━━━━━━━━━\u001b[0m\u001b[37m\u001b[0m \u001b[1m1s\u001b[0m 2ms/step - accuracy: 0.9880 - loss: 0.0361 - val_accuracy: 0.7673 - val_loss: 1.3315\n",
      "Epoch 14/30\n",
      "\u001b[1m500/500\u001b[0m \u001b[32m━━━━━━━━━━━━━━━━━━━━\u001b[0m\u001b[37m\u001b[0m \u001b[1m1s\u001b[0m 2ms/step - accuracy: 0.9858 - loss: 0.0384 - val_accuracy: 0.7728 - val_loss: 1.2813\n",
      "Epoch 15/30\n",
      "\u001b[1m500/500\u001b[0m \u001b[32m━━━━━━━━━━━━━━━━━━━━\u001b[0m\u001b[37m\u001b[0m \u001b[1m1s\u001b[0m 2ms/step - accuracy: 0.9843 - loss: 0.0413 - val_accuracy: 0.7810 - val_loss: 1.3764\n",
      "Epoch 16/30\n",
      "\u001b[1m500/500\u001b[0m \u001b[32m━━━━━━━━━━━━━━━━━━━━\u001b[0m\u001b[37m\u001b[0m \u001b[1m1s\u001b[0m 2ms/step - accuracy: 0.9908 - loss: 0.0283 - val_accuracy: 0.7605 - val_loss: 1.4679\n",
      "Epoch 17/30\n",
      "\u001b[1m500/500\u001b[0m \u001b[32m━━━━━━━━━━━━━━━━━━━━\u001b[0m\u001b[37m\u001b[0m \u001b[1m1s\u001b[0m 2ms/step - accuracy: 0.9804 - loss: 0.0522 - val_accuracy: 0.7795 - val_loss: 1.3157\n",
      "Epoch 18/30\n",
      "\u001b[1m500/500\u001b[0m \u001b[32m━━━━━━━━━━━━━━━━━━━━\u001b[0m\u001b[37m\u001b[0m \u001b[1m1s\u001b[0m 2ms/step - accuracy: 0.9910 - loss: 0.0252 - val_accuracy: 0.7785 - val_loss: 1.4632\n",
      "Epoch 19/30\n",
      "\u001b[1m500/500\u001b[0m \u001b[32m━━━━━━━━━━━━━━━━━━━━\u001b[0m\u001b[37m\u001b[0m \u001b[1m1s\u001b[0m 2ms/step - accuracy: 0.9947 - loss: 0.0172 - val_accuracy: 0.7713 - val_loss: 1.4758\n",
      "Epoch 20/30\n",
      "\u001b[1m500/500\u001b[0m \u001b[32m━━━━━━━━━━━━━━━━━━━━\u001b[0m\u001b[37m\u001b[0m \u001b[1m1s\u001b[0m 2ms/step - accuracy: 0.9891 - loss: 0.0345 - val_accuracy: 0.7757 - val_loss: 1.4410\n",
      "Epoch 21/30\n",
      "\u001b[1m500/500\u001b[0m \u001b[32m━━━━━━━━━━━━━━━━━━━━\u001b[0m\u001b[37m\u001b[0m \u001b[1m1s\u001b[0m 2ms/step - accuracy: 0.9878 - loss: 0.0352 - val_accuracy: 0.7793 - val_loss: 1.5696\n",
      "Epoch 22/30\n",
      "\u001b[1m500/500\u001b[0m \u001b[32m━━━━━━━━━━━━━━━━━━━━\u001b[0m\u001b[37m\u001b[0m \u001b[1m1s\u001b[0m 2ms/step - accuracy: 0.9966 - loss: 0.0117 - val_accuracy: 0.7742 - val_loss: 1.6288\n",
      "Epoch 23/30\n",
      "\u001b[1m500/500\u001b[0m \u001b[32m━━━━━━━━━━━━━━━━━━━━\u001b[0m\u001b[37m\u001b[0m \u001b[1m1s\u001b[0m 2ms/step - accuracy: 0.9833 - loss: 0.0513 - val_accuracy: 0.7793 - val_loss: 1.4098\n",
      "Epoch 24/30\n",
      "\u001b[1m500/500\u001b[0m \u001b[32m━━━━━━━━━━━━━━━━━━━━\u001b[0m\u001b[37m\u001b[0m \u001b[1m1s\u001b[0m 2ms/step - accuracy: 0.9934 - loss: 0.0202 - val_accuracy: 0.7690 - val_loss: 1.5666\n",
      "Epoch 25/30\n",
      "\u001b[1m500/500\u001b[0m \u001b[32m━━━━━━━━━━━━━━━━━━━━\u001b[0m\u001b[37m\u001b[0m \u001b[1m1s\u001b[0m 2ms/step - accuracy: 0.9887 - loss: 0.0313 - val_accuracy: 0.7803 - val_loss: 1.5765\n",
      "Epoch 26/30\n",
      "\u001b[1m500/500\u001b[0m \u001b[32m━━━━━━━━━━━━━━━━━━━━\u001b[0m\u001b[37m\u001b[0m \u001b[1m1s\u001b[0m 2ms/step - accuracy: 0.9875 - loss: 0.0380 - val_accuracy: 0.7837 - val_loss: 1.5816\n",
      "Epoch 27/30\n",
      "\u001b[1m500/500\u001b[0m \u001b[32m━━━━━━━━━━━━━━━━━━━━\u001b[0m\u001b[37m\u001b[0m \u001b[1m1s\u001b[0m 2ms/step - accuracy: 0.9893 - loss: 0.0396 - val_accuracy: 0.7738 - val_loss: 1.7549\n",
      "Epoch 28/30\n",
      "\u001b[1m500/500\u001b[0m \u001b[32m━━━━━━━━━━━━━━━━━━━━\u001b[0m\u001b[37m\u001b[0m \u001b[1m1s\u001b[0m 2ms/step - accuracy: 0.9880 - loss: 0.0400 - val_accuracy: 0.7765 - val_loss: 1.5383\n",
      "Epoch 29/30\n",
      "\u001b[1m500/500\u001b[0m \u001b[32m━━━━━━━━━━━━━━━━━━━━\u001b[0m\u001b[37m\u001b[0m \u001b[1m1s\u001b[0m 2ms/step - accuracy: 0.9939 - loss: 0.0195 - val_accuracy: 0.7885 - val_loss: 1.6513\n",
      "Epoch 30/30\n",
      "\u001b[1m500/500\u001b[0m \u001b[32m━━━━━━━━━━━━━━━━━━━━\u001b[0m\u001b[37m\u001b[0m \u001b[1m1s\u001b[0m 2ms/step - accuracy: 0.9918 - loss: 0.0253 - val_accuracy: 0.7713 - val_loss: 1.8836\n",
      "\u001b[1m125/125\u001b[0m \u001b[32m━━━━━━━━━━━━━━━━━━━━\u001b[0m\u001b[37m\u001b[0m \u001b[1m0s\u001b[0m 1ms/step - accuracy: 0.7914 - loss: 1.5716\n",
      "\n",
      "Pérdida en prueba del Modelo B base A sin congelar: 1.7664145231246948\n",
      "Exactitud en prueba del Modelo B base A sin congelar: 0.7795000076293945\n"
     ]
    }
   ],
   "source": [
    "# Descongelar todas las capas para poder entrenarlas nuevamente\n",
    "for layer in model_b_copy_a.layers[:-1]:  # Excluyendo la capa de salida\n",
    "    layer.trainable = True\n",
    "\n",
    "# Recompilar el modelo después de hacer los cambios en `trainable`\n",
    "model_b_copy_a.compile(optimizer='adam',\n",
    "                       loss='sparse_categorical_crossentropy',\n",
    "                       metrics=['accuracy'])\n",
    "\n",
    "# Volver a entrenar el modelo B\n",
    "history_b_copy = model_b_copy_a.fit(x_train_b, y_train_b, epochs=30, validation_data=(x_val_b, y_val_b))\n",
    "\n",
    "# Evaluar el modelo B\n",
    "test_loss_b_copy_a, test_acc_b_copy_a = model_b_copy_a.evaluate(x_test_b, y_test_b)\n",
    "\n",
    "print(f\"\\nPérdida en prueba del Modelo B base A sin congelar: {test_loss_b_copy_a}\")\n",
    "print(f\"Exactitud en prueba del Modelo B base A sin congelar: {test_acc_b_copy_a}\")"
   ]
  },
  {
   "cell_type": "markdown",
   "metadata": {},
   "source": [
    "¿En este caso merece la pena?"
   ]
  },
  {
   "cell_type": "code",
   "execution_count": 11,
   "metadata": {},
   "outputs": [],
   "source": [
    "#No, de hecho los resultados empeoran considerablemente. "
   ]
  }
 ],
 "metadata": {
  "kernelspec": {
   "display_name": "sapaTotal",
   "language": "python",
   "name": "python3"
  },
  "language_info": {
   "codemirror_mode": {
    "name": "ipython",
    "version": 3
   },
   "file_extension": ".py",
   "mimetype": "text/x-python",
   "name": "python",
   "nbconvert_exporter": "python",
   "pygments_lexer": "ipython3",
   "version": "3.12.8"
  },
  "nav_menu": {
   "height": "360px",
   "width": "416px"
  },
  "toc": {
   "navigate_menu": true,
   "number_sections": true,
   "sideBar": true,
   "threshold": 6,
   "toc_cell": false,
   "toc_section_display": "block",
   "toc_window_display": false
  }
 },
 "nbformat": 4,
 "nbformat_minor": 4
}
