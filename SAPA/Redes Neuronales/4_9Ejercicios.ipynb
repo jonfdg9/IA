{
 "cells": [
  {
   "cell_type": "code",
   "execution_count": 1,
   "metadata": {},
   "outputs": [],
   "source": [
    "import torch\n",
    "import numpy as np\n",
    "import torch.nn.functional as F\n",
    "import matplotlib.pyplot as plt\n",
    "import pandas as pd\n",
    "import torch.nn as nn\n",
    "import torch.optim as optim\n",
    "from torchvision import datasets, transforms\n",
    "from sklearn.model_selection import train_test_split\n",
    "from torch.utils.data import DataLoader,TensorDataset"
   ]
  },
  {
   "cell_type": "markdown",
   "metadata": {},
   "source": [
    "# EJERCICIOS"
   ]
  },
  {
   "cell_type": "markdown",
   "metadata": {},
   "source": [
    "## EJERCICIO 1"
   ]
  },
  {
   "cell_type": "markdown",
   "metadata": {},
   "source": [
    "Aplica PyTorch a FashionMNIST:\n",
    "+ Carga los datos (datasets.FashionMNIST)\n",
    "+ Los datos hay que normalizarlos y convertilos en tensor (transform =transforms.Compose([transforms.ToTensor(), transforms.Normalize((0.5,), (0.5,)),]))\n",
    "+ Divide los datos en entrenamiento, pruebas y validación\n",
    "+ Representa una imagen con su etiqueta (en texto, no en número)\n",
    "+ Crear la red: \n",
    "    + capa densa de 784 neuronas y activación ReLU\n",
    "    + capa densa de 256 neuronas y activación ReLU\n",
    "    + capa densa de 128 neuronas y activación ReLU\n",
    "    + capa densa de 64 neuronas y activación ReLU\n",
    "    + capa de salida de 10 neuronas\n",
    "+ Entrena el modelo evaluando en cada época en entrenamiento y validación\n",
    "+ Finalmente evalúa el modelo en test"
   ]
  },
  {
   "cell_type": "code",
   "execution_count": null,
   "metadata": {},
   "outputs": [],
   "source": []
  },
  {
   "cell_type": "markdown",
   "metadata": {},
   "source": [
    "## EJERCICIO 2"
   ]
  },
  {
   "cell_type": "markdown",
   "metadata": {},
   "source": [
    "Aplica PyTorch al precio de la vivienda en California"
   ]
  },
  {
   "cell_type": "markdown",
   "metadata": {},
   "source": [
    "Cargar los datos de housing.csv"
   ]
  },
  {
   "cell_type": "code",
   "execution_count": null,
   "metadata": {},
   "outputs": [],
   "source": []
  },
  {
   "cell_type": "markdown",
   "metadata": {},
   "source": [
    "Comprueba si hay columnas con datos nulos, y en caso de que sea así con fillna, rellena los datos nulos."
   ]
  },
  {
   "cell_type": "code",
   "execution_count": null,
   "metadata": {},
   "outputs": [],
   "source": []
  },
  {
   "cell_type": "markdown",
   "metadata": {},
   "source": [
    "Para convertir la variable categórica ocean_proximity en una variable numérica, utiliza la función get_dummies de pandas."
   ]
  },
  {
   "cell_type": "code",
   "execution_count": null,
   "metadata": {},
   "outputs": [],
   "source": []
  },
  {
   "cell_type": "markdown",
   "metadata": {},
   "source": [
    "Convierte las variables creadas de ocean_proximity (el nombre empieza por ocean) y conviertelas en tensores (torch.tensor)."
   ]
  },
  {
   "cell_type": "code",
   "execution_count": null,
   "metadata": {},
   "outputs": [],
   "source": []
  },
  {
   "cell_type": "markdown",
   "metadata": {},
   "source": [
    "Normalizar (restar media y dividir entre la desviación estandar) y convertir a tensor el resto de columnas (menos median_house_value)."
   ]
  },
  {
   "cell_type": "code",
   "execution_count": null,
   "metadata": {},
   "outputs": [],
   "source": []
  },
  {
   "cell_type": "markdown",
   "metadata": {},
   "source": [
    "Convertir a tensor la columna median_house_value y aplicale reshape(-1,1) para convertirlo en una columna."
   ]
  },
  {
   "cell_type": "code",
   "execution_count": null,
   "metadata": {},
   "outputs": [],
   "source": []
  },
  {
   "cell_type": "markdown",
   "metadata": {},
   "source": [
    "Separar los datos en entrenamiento, validación y test"
   ]
  },
  {
   "cell_type": "code",
   "execution_count": null,
   "metadata": {},
   "outputs": [],
   "source": []
  },
  {
   "cell_type": "markdown",
   "metadata": {},
   "source": [
    "Crear conjuntos de datos y DataLoader\n",
    "\n",
    "Ejemplo: train_loader = DataLoader(TensorDataset(trainX, trainY), batch_size=batch_size, shuffle=True)"
   ]
  },
  {
   "cell_type": "code",
   "execution_count": null,
   "metadata": {},
   "outputs": [],
   "source": []
  },
  {
   "cell_type": "markdown",
   "metadata": {},
   "source": [
    "Crea una clase para una red neuronal con las siguientes características:\n",
    "+ Capa densa (nn.Linear de 128 neuronas)\n",
    "+ Capa de normalizacón (nn.BatchNorm1d)\n",
    "+ Capa de activación ReLU (nn.ReLU)\n",
    "+ Capa de Dropout de 0.2 (nn.Dropout)\n",
    "+ Capa densa (nn.Linear de 32 neuronas)\n",
    "+ Capa de normalizacón (nn.BatchNorm1d)\n",
    "+ Capa de activación ReLU (nn.ReLU)\n",
    "+ Capa de Dropout de 0.2 (nn.Dropout)\n",
    "+ Capa densa (nn.Linear de 1 neurona)"
   ]
  },
  {
   "cell_type": "code",
   "execution_count": null,
   "metadata": {},
   "outputs": [],
   "source": []
  },
  {
   "cell_type": "markdown",
   "metadata": {},
   "source": [
    "Crea una instancia del modelo"
   ]
  },
  {
   "cell_type": "code",
   "execution_count": null,
   "metadata": {},
   "outputs": [],
   "source": []
  },
  {
   "cell_type": "markdown",
   "metadata": {},
   "source": [
    "Define la función de perdida  (nn.MSELoss()) y el optimizador (Adam)"
   ]
  },
  {
   "cell_type": "code",
   "execution_count": null,
   "metadata": {},
   "outputs": [],
   "source": []
  },
  {
   "cell_type": "markdown",
   "metadata": {},
   "source": [
    "Entrena y evalua el modelo."
   ]
  },
  {
   "cell_type": "code",
   "execution_count": null,
   "metadata": {},
   "outputs": [],
   "source": []
  }
 ],
 "metadata": {
  "kernelspec": {
   "display_name": "sapa",
   "language": "python",
   "name": "python3"
  },
  "language_info": {
   "codemirror_mode": {
    "name": "ipython",
    "version": 3
   },
   "file_extension": ".py",
   "mimetype": "text/x-python",
   "name": "python",
   "nbconvert_exporter": "python",
   "pygments_lexer": "ipython3",
   "version": "3.12.4"
  },
  "nav_menu": {
   "height": "264px",
   "width": "369px"
  },
  "toc": {
   "navigate_menu": true,
   "number_sections": true,
   "sideBar": true,
   "threshold": 6,
   "toc_cell": false,
   "toc_section_display": "block",
   "toc_window_display": false
  }
 },
 "nbformat": 4,
 "nbformat_minor": 4
}
