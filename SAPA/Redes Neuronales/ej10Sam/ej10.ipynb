{
 "cells": [
  {
   "cell_type": "code",
   "execution_count": 21,
   "metadata": {},
   "outputs": [
    {
     "name": "stdout",
     "output_type": "stream",
     "text": [
      "Requirement already satisfied: roboflow in /home/iabd/anaconda3/envs/CloneSAPA/lib/python3.12/site-packages (1.1.53)\n",
      "Requirement already satisfied: certifi in /home/iabd/anaconda3/envs/CloneSAPA/lib/python3.12/site-packages (from roboflow) (2024.12.14)\n",
      "Requirement already satisfied: idna==3.7 in /home/iabd/anaconda3/envs/CloneSAPA/lib/python3.12/site-packages (from roboflow) (3.7)\n",
      "Requirement already satisfied: cycler in /home/iabd/anaconda3/envs/CloneSAPA/lib/python3.12/site-packages (from roboflow) (0.11.0)\n",
      "Requirement already satisfied: kiwisolver>=1.3.1 in /home/iabd/anaconda3/envs/CloneSAPA/lib/python3.12/site-packages (from roboflow) (1.4.8)\n",
      "Requirement already satisfied: matplotlib in /home/iabd/anaconda3/envs/CloneSAPA/lib/python3.12/site-packages (from roboflow) (3.10.0)\n",
      "Requirement already satisfied: numpy>=1.18.5 in /home/iabd/anaconda3/envs/CloneSAPA/lib/python3.12/site-packages (from roboflow) (1.26.4)\n",
      "Requirement already satisfied: opencv-python-headless==4.10.0.84 in /home/iabd/anaconda3/envs/CloneSAPA/lib/python3.12/site-packages (from roboflow) (4.10.0.84)\n",
      "Requirement already satisfied: Pillow>=7.1.2 in /home/iabd/anaconda3/envs/CloneSAPA/lib/python3.12/site-packages (from roboflow) (11.1.0)\n",
      "Requirement already satisfied: python-dateutil in /home/iabd/anaconda3/envs/CloneSAPA/lib/python3.12/site-packages (from roboflow) (2.9.0.post0)\n",
      "Requirement already satisfied: python-dotenv in /home/iabd/anaconda3/envs/CloneSAPA/lib/python3.12/site-packages (from roboflow) (1.0.1)\n",
      "Requirement already satisfied: requests in /home/iabd/anaconda3/envs/CloneSAPA/lib/python3.12/site-packages (from roboflow) (2.32.3)\n",
      "Requirement already satisfied: six in /home/iabd/anaconda3/envs/CloneSAPA/lib/python3.12/site-packages (from roboflow) (1.16.0)\n",
      "Requirement already satisfied: urllib3>=1.26.6 in /home/iabd/anaconda3/envs/CloneSAPA/lib/python3.12/site-packages (from roboflow) (2.3.0)\n",
      "Requirement already satisfied: tqdm>=4.41.0 in /home/iabd/anaconda3/envs/CloneSAPA/lib/python3.12/site-packages (from roboflow) (4.66.5)\n",
      "Requirement already satisfied: PyYAML>=5.3.1 in /home/iabd/anaconda3/envs/CloneSAPA/lib/python3.12/site-packages (from roboflow) (6.0.2)\n",
      "Requirement already satisfied: requests-toolbelt in /home/iabd/anaconda3/envs/CloneSAPA/lib/python3.12/site-packages (from roboflow) (1.0.0)\n",
      "Requirement already satisfied: filetype in /home/iabd/anaconda3/envs/CloneSAPA/lib/python3.12/site-packages (from roboflow) (1.2.0)\n",
      "Requirement already satisfied: contourpy>=1.0.1 in /home/iabd/anaconda3/envs/CloneSAPA/lib/python3.12/site-packages (from matplotlib->roboflow) (1.3.1)\n",
      "Requirement already satisfied: fonttools>=4.22.0 in /home/iabd/anaconda3/envs/CloneSAPA/lib/python3.12/site-packages (from matplotlib->roboflow) (4.55.3)\n",
      "Requirement already satisfied: packaging>=20.0 in /home/iabd/anaconda3/envs/CloneSAPA/lib/python3.12/site-packages (from matplotlib->roboflow) (24.2)\n",
      "Requirement already satisfied: pyparsing>=2.3.1 in /home/iabd/anaconda3/envs/CloneSAPA/lib/python3.12/site-packages (from matplotlib->roboflow) (3.2.0)\n",
      "Requirement already satisfied: charset-normalizer<4,>=2 in /home/iabd/anaconda3/envs/CloneSAPA/lib/python3.12/site-packages (from requests->roboflow) (3.3.2)\n",
      "loading Roboflow workspace...\n",
      "loading Roboflow project...\n"
     ]
    }
   ],
   "source": [
    "!pip install roboflow\n",
    "\n",
    "from roboflow import Roboflow\n",
    "import os\n",
    "\n",
    "rf = Roboflow(api_key=\"W8Wh3vwPre13GJ9ArQue\")\n",
    "project = rf.workspace(\"brad-dwyer\").project(\"car-parts-pgo19\")\n",
    "version = project.version(6)\n",
    "dataset = version.download(\"sam2\")\n",
    "\n",
    "# rename dataset.location to \"data\"\n",
    "os.rename(dataset.location, \"/home/iabd/Escritorio/IABD/IA/SAPA/Redes Neuronales/ej10Sam/data\")"
   ]
  },
  {
   "cell_type": "code",
   "execution_count": 1,
   "metadata": {},
   "outputs": [
    {
     "name": "stdout",
     "output_type": "stream",
     "text": [
      "Clonando en 'sam2'...\n",
      "remote: Enumerating objects: 1070, done.\u001b[K\n",
      "remote: Total 1070 (delta 0), reused 0 (delta 0), pack-reused 1070 (from 1)\u001b[K\n",
      "Recibiendo objetos: 100% (1070/1070), 134.70 MiB | 15.23 MiB/s, listo.\n",
      "Resolviendo deltas: 100% (375/375), listo.\n"
     ]
    }
   ],
   "source": [
    "!git clone https://github.com/facebookresearch/sam2.git"
   ]
  },
  {
   "cell_type": "code",
   "execution_count": 2,
   "metadata": {},
   "outputs": [
    {
     "name": "stdout",
     "output_type": "stream",
     "text": [
      "--2025-02-05 18:39:22--  http://neuronales/ej10Sam/sam2/configs/train.yaml\n",
      "Resolviendo neuronales (neuronales)... falló: Fallo temporal en la resolución del nombre.\n",
      "wget: no se pudo resolver la dirección del equipo ‘neuronales’\n",
      "--2025-02-05 18:39:22--  https://drive.usercontent.google.com/download?id=11cmbxPPsYqFyWq87tmLgBAQ6OZgEhPG3\n",
      "Resolviendo drive.usercontent.google.com (drive.usercontent.google.com)... 142.250.184.1, 2a00:1450:4003:80c::2001\n",
      "Conectando con drive.usercontent.google.com (drive.usercontent.google.com)[142.250.184.1]:443... conectado.\n",
      "Petición HTTP enviada, esperando respuesta... 200 OK\n",
      "Longitud: 11055 (11K) [application/octet-stream]\n",
      "Guardando como: ‘/home/iabd/Escritorio/IABD/IA/SAPA/Redes’\n",
      "\n",
      "/home/iabd/Escritor 100%[===================>]  10,80K  --.-KB/s    en 0,002s  \n",
      "\n",
      "2025-02-05 18:39:24 (4,92 MB/s) - ‘/home/iabd/Escritorio/IABD/IA/SAPA/Redes’ guardado [11055/11055]\n",
      "\n",
      "ACABADO --2025-02-05 18:39:24--\n",
      "Tiempo total de reloj: 2,4s\n",
      "Descargados: 1 ficheros, 11K en 0,002s (4,92 MB/s)\n",
      "/home/iabd/Escritorio/IABD/IA/SAPA/Redes Neuronales/ej10Sam/sam2\n",
      "Downloading sam2.1_hiera_tiny.pt checkpoint...\n",
      "--2025-02-05 18:40:03--  https://dl.fbaipublicfiles.com/segment_anything_2/092824/sam2.1_hiera_tiny.pt\n",
      "Resolviendo dl.fbaipublicfiles.com (dl.fbaipublicfiles.com)... 18.154.41.8, 18.154.41.12, 18.154.41.96, ...\n",
      "Conectando con dl.fbaipublicfiles.com (dl.fbaipublicfiles.com)[18.154.41.8]:443... conectado.\n",
      "Petición HTTP enviada, esperando respuesta... 200 OK\n",
      "Longitud: 156008466 (149M) [application/vnd.snesdev-page-table]\n",
      "Guardando como: ‘sam2.1_hiera_tiny.pt’\n",
      "\n",
      "sam2.1_hiera_tiny.p 100%[===================>] 148,78M  66,2MB/s    en 2,2s    \n",
      "\n",
      "2025-02-05 18:40:05 (66,2 MB/s) - ‘sam2.1_hiera_tiny.pt’ guardado [156008466/156008466]\n",
      "\n",
      "Downloading sam2.1_hiera_small.pt checkpoint...\n",
      "--2025-02-05 18:40:05--  https://dl.fbaipublicfiles.com/segment_anything_2/092824/sam2.1_hiera_small.pt\n",
      "Resolviendo dl.fbaipublicfiles.com (dl.fbaipublicfiles.com)... 18.154.41.8, 18.154.41.12, 18.154.41.96, ...\n",
      "Conectando con dl.fbaipublicfiles.com (dl.fbaipublicfiles.com)[18.154.41.8]:443... conectado.\n",
      "Petición HTTP enviada, esperando respuesta... 200 OK\n",
      "Longitud: 184416285 (176M) [application/vnd.snesdev-page-table]\n",
      "Guardando como: ‘sam2.1_hiera_small.pt’\n",
      "\n",
      "sam2.1_hiera_small. 100%[===================>] 175,87M  91,5MB/s    en 1,9s    \n",
      "\n",
      "2025-02-05 18:40:07 (91,5 MB/s) - ‘sam2.1_hiera_small.pt’ guardado [184416285/184416285]\n",
      "\n",
      "Downloading sam2.1_hiera_base_plus.pt checkpoint...\n",
      "--2025-02-05 18:40:07--  https://dl.fbaipublicfiles.com/segment_anything_2/092824/sam2.1_hiera_base_plus.pt\n",
      "Resolviendo dl.fbaipublicfiles.com (dl.fbaipublicfiles.com)... 18.154.41.57, 18.154.41.96, 18.154.41.12, ...\n",
      "Conectando con dl.fbaipublicfiles.com (dl.fbaipublicfiles.com)[18.154.41.57]:443... conectado.\n",
      "Petición HTTP enviada, esperando respuesta... 200 OK\n",
      "Longitud: 323606802 (309M) [application/vnd.snesdev-page-table]\n",
      "Guardando como: ‘sam2.1_hiera_base_plus.pt’\n",
      "\n",
      "sam2.1_hiera_base_p 100%[===================>] 308,62M  98,1MB/s    en 3,3s    \n",
      "\n",
      "2025-02-05 18:40:10 (94,8 MB/s) - ‘sam2.1_hiera_base_plus.pt’ guardado [323606802/323606802]\n",
      "\n",
      "Downloading sam2.1_hiera_large.pt checkpoint...\n",
      "--2025-02-05 18:40:10--  https://dl.fbaipublicfiles.com/segment_anything_2/092824/sam2.1_hiera_large.pt\n",
      "Resolviendo dl.fbaipublicfiles.com (dl.fbaipublicfiles.com)... 18.154.41.57, 18.154.41.12, 18.154.41.96, ...\n",
      "Conectando con dl.fbaipublicfiles.com (dl.fbaipublicfiles.com)[18.154.41.57]:443... conectado.\n",
      "Petición HTTP enviada, esperando respuesta... 200 OK\n",
      "Longitud: 898083611 (856M) [application/vnd.snesdev-page-table]\n",
      "Guardando como: ‘sam2.1_hiera_large.pt’\n",
      "\n",
      "sam2.1_hiera_large. 100%[===================>] 856,48M   104MB/s    en 9,0s    \n",
      "\n",
      "2025-02-05 18:40:19 (95,6 MB/s) - ‘sam2.1_hiera_large.pt’ guardado [898083611/898083611]\n",
      "\n",
      "All checkpoints are downloaded successfully.\n"
     ]
    }
   ],
   "source": [
    "!wget -O /home/iabd/Escritorio/IABD/IA/SAPA/Redes Neuronales/ej10Sam/sam2/configs/train.yaml 'https://drive.usercontent.google.com/download?id=11cmbxPPsYqFyWq87tmLgBAQ6OZgEhPG3'\n",
    "%cd ./sam2/\n",
    "!pip install -e .[dev] -q\n",
    "!cd ./checkpoints && ./download_ckpts.sh"
   ]
  },
  {
   "cell_type": "code",
   "execution_count": 3,
   "metadata": {},
   "outputs": [],
   "source": [
    "# Script to rename roboflow filenames to something SAM 2.1 compatible.\n",
    "# Maybe it is possible to remove this step tweaking sam2/sam2/configs/train.yaml.\n",
    "import os\n",
    "import re\n",
    "\n",
    "FOLDER = \"/home/iabd/Escritorio/IABD/IA/SAPA/Redes Neuronales/ej10Sam/data/train\"\n",
    "\n",
    "for filename in os.listdir(FOLDER):\n",
    "    # Replace all except last dot with underscore\n",
    "    new_filename = filename.replace(\".\", \"_\", filename.count(\".\") - 1)\n",
    "    if not re.search(r\"_\\d+\\.\\w+$\", new_filename):\n",
    "        # Add an int to the end of base name\n",
    "        new_filename = new_filename.replace(\".\", \"_1.\")\n",
    "    os.rename(os.path.join(FOLDER, filename), os.path.join(FOLDER, new_filename))"
   ]
  },
  {
   "cell_type": "code",
   "execution_count": 4,
   "metadata": {},
   "outputs": [
    {
     "name": "stdout",
     "output_type": "stream",
     "text": [
      "Traceback (most recent call last):\n",
      "  File \"/home/iabd/Escritorio/IABD/IA/SAPA/Redes Neuronales/ej10Sam/sam2/training/train.py\", line 270, in <module>\n",
      "    main(args)\n",
      "  File \"/home/iabd/Escritorio/IABD/IA/SAPA/Redes Neuronales/ej10Sam/sam2/training/train.py\", line 124, in main\n",
      "    cfg = compose(config_name=args.config)\n",
      "          ^^^^^^^^^^^^^^^^^^^^^^^^^^^^^^^^\n",
      "  File \"/home/iabd/anaconda3/envs/CloneSAPA/lib/python3.12/site-packages/hydra/compose.py\", line 38, in compose\n",
      "    cfg = gh.hydra.compose_config(\n",
      "          ^^^^^^^^^^^^^^^^^^^^^^^^\n",
      "  File \"/home/iabd/anaconda3/envs/CloneSAPA/lib/python3.12/site-packages/hydra/_internal/hydra.py\", line 594, in compose_config\n",
      "    cfg = self.config_loader.load_configuration(\n",
      "          ^^^^^^^^^^^^^^^^^^^^^^^^^^^^^^^^^^^^^^\n",
      "  File \"/home/iabd/anaconda3/envs/CloneSAPA/lib/python3.12/site-packages/hydra/_internal/config_loader_impl.py\", line 142, in load_configuration\n",
      "    return self._load_configuration_impl(\n",
      "           ^^^^^^^^^^^^^^^^^^^^^^^^^^^^^^\n",
      "  File \"/home/iabd/anaconda3/envs/CloneSAPA/lib/python3.12/site-packages/hydra/_internal/config_loader_impl.py\", line 253, in _load_configuration_impl\n",
      "    defaults_list = create_defaults_list(\n",
      "                    ^^^^^^^^^^^^^^^^^^^^^\n",
      "  File \"/home/iabd/anaconda3/envs/CloneSAPA/lib/python3.12/site-packages/hydra/_internal/defaults_list.py\", line 745, in create_defaults_list\n",
      "    defaults, tree = _create_defaults_list(\n",
      "                     ^^^^^^^^^^^^^^^^^^^^^^\n",
      "  File \"/home/iabd/anaconda3/envs/CloneSAPA/lib/python3.12/site-packages/hydra/_internal/defaults_list.py\", line 715, in _create_defaults_list\n",
      "    defaults_tree = _create_defaults_tree(\n",
      "                    ^^^^^^^^^^^^^^^^^^^^^^\n",
      "  File \"/home/iabd/anaconda3/envs/CloneSAPA/lib/python3.12/site-packages/hydra/_internal/defaults_list.py\", line 356, in _create_defaults_tree\n",
      "    ret = _create_defaults_tree_impl(\n",
      "          ^^^^^^^^^^^^^^^^^^^^^^^^^^^\n",
      "  File \"/home/iabd/anaconda3/envs/CloneSAPA/lib/python3.12/site-packages/hydra/_internal/defaults_list.py\", line 457, in _create_defaults_tree_impl\n",
      "    return _expand_virtual_root(repo, root, overrides, skip_missing)\n",
      "           ^^^^^^^^^^^^^^^^^^^^^^^^^^^^^^^^^^^^^^^^^^^^^^^^^^^^^^^^^\n",
      "  File \"/home/iabd/anaconda3/envs/CloneSAPA/lib/python3.12/site-packages/hydra/_internal/defaults_list.py\", line 280, in _expand_virtual_root\n",
      "    subtree = _create_defaults_tree_impl(\n",
      "              ^^^^^^^^^^^^^^^^^^^^^^^^^^^\n",
      "  File \"/home/iabd/anaconda3/envs/CloneSAPA/lib/python3.12/site-packages/hydra/_internal/defaults_list.py\", line 464, in _create_defaults_tree_impl\n",
      "    config_not_found_error(repo=repo, tree=root)\n",
      "  File \"/home/iabd/anaconda3/envs/CloneSAPA/lib/python3.12/site-packages/hydra/_internal/defaults_list.py\", line 799, in config_not_found_error\n",
      "    raise MissingConfigException(\n",
      "hydra.errors.MissingConfigException: Cannot find primary config 'configs/train.yaml'. Check that it's in your config search path.\n",
      "\n",
      "Config search path:\n",
      "\tprovider=hydra, path=pkg://hydra.conf\n",
      "\tprovider=main, path=pkg://sam2\n",
      "\tprovider=schema, path=structured://\n"
     ]
    }
   ],
   "source": [
    "!python training/train.py -c 'configs/train.yaml' --use-cluster 0 --num-gpus 1"
   ]
  },
  {
   "cell_type": "code",
   "execution_count": 5,
   "metadata": {},
   "outputs": [],
   "source": [
    "%load_ext tensorboard\n"
   ]
  },
  {
   "cell_type": "code",
   "execution_count": 7,
   "metadata": {},
   "outputs": [
    {
     "ename": "FileNotFoundError",
     "evalue": "[Errno 2] No such file or directory: '/home/iabd/Escritorio/IABD/IA/SAPA/Redes Neuronales/ej10Sam/sam2/sam2_logs/configs/train.yaml/checkpoints/checkpoint.pt'",
     "output_type": "error",
     "traceback": [
      "\u001b[0;31m---------------------------------------------------------------------------\u001b[0m",
      "\u001b[0;31mFileNotFoundError\u001b[0m                         Traceback (most recent call last)",
      "Cell \u001b[0;32mIn[7], line 19\u001b[0m\n\u001b[1;32m     17\u001b[0m checkpoint \u001b[38;5;241m=\u001b[39m \u001b[38;5;124m\"\u001b[39m\u001b[38;5;124m/home/iabd/Escritorio/IABD/IA/SAPA/Redes Neuronales/ej10Sam/sam2/sam2_logs/configs/train.yaml/checkpoints/checkpoint.pt\u001b[39m\u001b[38;5;124m\"\u001b[39m\n\u001b[1;32m     18\u001b[0m model_cfg \u001b[38;5;241m=\u001b[39m \u001b[38;5;124m\"\u001b[39m\u001b[38;5;124mconfigs/sam2.1/sam2.1_hiera_b+.yaml\u001b[39m\u001b[38;5;124m\"\u001b[39m\n\u001b[0;32m---> 19\u001b[0m sam2 \u001b[38;5;241m=\u001b[39m \u001b[43mbuild_sam2\u001b[49m\u001b[43m(\u001b[49m\u001b[43mmodel_cfg\u001b[49m\u001b[43m,\u001b[49m\u001b[43m \u001b[49m\u001b[43mcheckpoint\u001b[49m\u001b[43m,\u001b[49m\u001b[43m \u001b[49m\u001b[43mdevice\u001b[49m\u001b[38;5;241;43m=\u001b[39;49m\u001b[38;5;124;43m\"\u001b[39;49m\u001b[38;5;124;43mcuda\u001b[39;49m\u001b[38;5;124;43m\"\u001b[39;49m\u001b[43m)\u001b[49m\n\u001b[1;32m     20\u001b[0m mask_generator \u001b[38;5;241m=\u001b[39m SAM2AutomaticMaskGenerator(sam2)\n\u001b[1;32m     22\u001b[0m checkpoint_base \u001b[38;5;241m=\u001b[39m \u001b[38;5;124m\"\u001b[39m\u001b[38;5;124m/content/sam2/checkpoints/sam2.1_hiera_base_plus.pt\u001b[39m\u001b[38;5;124m\"\u001b[39m\n",
      "File \u001b[0;32m~/Escritorio/IABD/IA/SAPA/Redes Neuronales/ej10Sam/sam2/sam2/build_sam.py:93\u001b[0m, in \u001b[0;36mbuild_sam2\u001b[0;34m(config_file, ckpt_path, device, mode, hydra_overrides_extra, apply_postprocessing, **kwargs)\u001b[0m\n\u001b[1;32m     91\u001b[0m OmegaConf\u001b[38;5;241m.\u001b[39mresolve(cfg)\n\u001b[1;32m     92\u001b[0m model \u001b[38;5;241m=\u001b[39m instantiate(cfg\u001b[38;5;241m.\u001b[39mmodel, _recursive_\u001b[38;5;241m=\u001b[39m\u001b[38;5;28;01mTrue\u001b[39;00m)\n\u001b[0;32m---> 93\u001b[0m \u001b[43m_load_checkpoint\u001b[49m\u001b[43m(\u001b[49m\u001b[43mmodel\u001b[49m\u001b[43m,\u001b[49m\u001b[43m \u001b[49m\u001b[43mckpt_path\u001b[49m\u001b[43m)\u001b[49m\n\u001b[1;32m     94\u001b[0m model \u001b[38;5;241m=\u001b[39m model\u001b[38;5;241m.\u001b[39mto(device)\n\u001b[1;32m     95\u001b[0m \u001b[38;5;28;01mif\u001b[39;00m mode \u001b[38;5;241m==\u001b[39m \u001b[38;5;124m\"\u001b[39m\u001b[38;5;124meval\u001b[39m\u001b[38;5;124m\"\u001b[39m:\n",
      "File \u001b[0;32m~/Escritorio/IABD/IA/SAPA/Redes Neuronales/ej10Sam/sam2/sam2/build_sam.py:166\u001b[0m, in \u001b[0;36m_load_checkpoint\u001b[0;34m(model, ckpt_path)\u001b[0m\n\u001b[1;32m    164\u001b[0m \u001b[38;5;28;01mdef\u001b[39;00m \u001b[38;5;21m_load_checkpoint\u001b[39m(model, ckpt_path):\n\u001b[1;32m    165\u001b[0m     \u001b[38;5;28;01mif\u001b[39;00m ckpt_path \u001b[38;5;129;01mis\u001b[39;00m \u001b[38;5;129;01mnot\u001b[39;00m \u001b[38;5;28;01mNone\u001b[39;00m:\n\u001b[0;32m--> 166\u001b[0m         sd \u001b[38;5;241m=\u001b[39m \u001b[43mtorch\u001b[49m\u001b[38;5;241;43m.\u001b[39;49m\u001b[43mload\u001b[49m\u001b[43m(\u001b[49m\u001b[43mckpt_path\u001b[49m\u001b[43m,\u001b[49m\u001b[43m \u001b[49m\u001b[43mmap_location\u001b[49m\u001b[38;5;241;43m=\u001b[39;49m\u001b[38;5;124;43m\"\u001b[39;49m\u001b[38;5;124;43mcpu\u001b[39;49m\u001b[38;5;124;43m\"\u001b[39;49m\u001b[43m,\u001b[49m\u001b[43m \u001b[49m\u001b[43mweights_only\u001b[49m\u001b[38;5;241;43m=\u001b[39;49m\u001b[38;5;28;43;01mTrue\u001b[39;49;00m\u001b[43m)\u001b[49m[\u001b[38;5;124m\"\u001b[39m\u001b[38;5;124mmodel\u001b[39m\u001b[38;5;124m\"\u001b[39m]\n\u001b[1;32m    167\u001b[0m         missing_keys, unexpected_keys \u001b[38;5;241m=\u001b[39m model\u001b[38;5;241m.\u001b[39mload_state_dict(sd)\n\u001b[1;32m    168\u001b[0m         \u001b[38;5;28;01mif\u001b[39;00m missing_keys:\n",
      "File \u001b[0;32m~/anaconda3/envs/CloneSAPA/lib/python3.12/site-packages/torch/serialization.py:1425\u001b[0m, in \u001b[0;36mload\u001b[0;34m(f, map_location, pickle_module, weights_only, mmap, **pickle_load_args)\u001b[0m\n\u001b[1;32m   1422\u001b[0m \u001b[38;5;28;01mif\u001b[39;00m \u001b[38;5;124m\"\u001b[39m\u001b[38;5;124mencoding\u001b[39m\u001b[38;5;124m\"\u001b[39m \u001b[38;5;129;01mnot\u001b[39;00m \u001b[38;5;129;01min\u001b[39;00m pickle_load_args\u001b[38;5;241m.\u001b[39mkeys():\n\u001b[1;32m   1423\u001b[0m     pickle_load_args[\u001b[38;5;124m\"\u001b[39m\u001b[38;5;124mencoding\u001b[39m\u001b[38;5;124m\"\u001b[39m] \u001b[38;5;241m=\u001b[39m \u001b[38;5;124m\"\u001b[39m\u001b[38;5;124mutf-8\u001b[39m\u001b[38;5;124m\"\u001b[39m\n\u001b[0;32m-> 1425\u001b[0m \u001b[38;5;28;01mwith\u001b[39;00m \u001b[43m_open_file_like\u001b[49m\u001b[43m(\u001b[49m\u001b[43mf\u001b[49m\u001b[43m,\u001b[49m\u001b[43m \u001b[49m\u001b[38;5;124;43m\"\u001b[39;49m\u001b[38;5;124;43mrb\u001b[39;49m\u001b[38;5;124;43m\"\u001b[39;49m\u001b[43m)\u001b[49m \u001b[38;5;28;01mas\u001b[39;00m opened_file:\n\u001b[1;32m   1426\u001b[0m     \u001b[38;5;28;01mif\u001b[39;00m _is_zipfile(opened_file):\n\u001b[1;32m   1427\u001b[0m         \u001b[38;5;66;03m# The zipfile reader is going to advance the current file position.\u001b[39;00m\n\u001b[1;32m   1428\u001b[0m         \u001b[38;5;66;03m# If we want to actually tail call to torch.jit.load, we need to\u001b[39;00m\n\u001b[1;32m   1429\u001b[0m         \u001b[38;5;66;03m# reset back to the original position.\u001b[39;00m\n\u001b[1;32m   1430\u001b[0m         orig_position \u001b[38;5;241m=\u001b[39m opened_file\u001b[38;5;241m.\u001b[39mtell()\n",
      "File \u001b[0;32m~/anaconda3/envs/CloneSAPA/lib/python3.12/site-packages/torch/serialization.py:751\u001b[0m, in \u001b[0;36m_open_file_like\u001b[0;34m(name_or_buffer, mode)\u001b[0m\n\u001b[1;32m    749\u001b[0m \u001b[38;5;28;01mdef\u001b[39;00m \u001b[38;5;21m_open_file_like\u001b[39m(name_or_buffer, mode):\n\u001b[1;32m    750\u001b[0m     \u001b[38;5;28;01mif\u001b[39;00m _is_path(name_or_buffer):\n\u001b[0;32m--> 751\u001b[0m         \u001b[38;5;28;01mreturn\u001b[39;00m \u001b[43m_open_file\u001b[49m\u001b[43m(\u001b[49m\u001b[43mname_or_buffer\u001b[49m\u001b[43m,\u001b[49m\u001b[43m \u001b[49m\u001b[43mmode\u001b[49m\u001b[43m)\u001b[49m\n\u001b[1;32m    752\u001b[0m     \u001b[38;5;28;01melse\u001b[39;00m:\n\u001b[1;32m    753\u001b[0m         \u001b[38;5;28;01mif\u001b[39;00m \u001b[38;5;124m\"\u001b[39m\u001b[38;5;124mw\u001b[39m\u001b[38;5;124m\"\u001b[39m \u001b[38;5;129;01min\u001b[39;00m mode:\n",
      "File \u001b[0;32m~/anaconda3/envs/CloneSAPA/lib/python3.12/site-packages/torch/serialization.py:732\u001b[0m, in \u001b[0;36m_open_file.__init__\u001b[0;34m(self, name, mode)\u001b[0m\n\u001b[1;32m    731\u001b[0m \u001b[38;5;28;01mdef\u001b[39;00m \u001b[38;5;21m__init__\u001b[39m(\u001b[38;5;28mself\u001b[39m, name, mode):\n\u001b[0;32m--> 732\u001b[0m     \u001b[38;5;28msuper\u001b[39m()\u001b[38;5;241m.\u001b[39m\u001b[38;5;21m__init__\u001b[39m(\u001b[38;5;28;43mopen\u001b[39;49m\u001b[43m(\u001b[49m\u001b[43mname\u001b[49m\u001b[43m,\u001b[49m\u001b[43m \u001b[49m\u001b[43mmode\u001b[49m\u001b[43m)\u001b[49m)\n",
      "\u001b[0;31mFileNotFoundError\u001b[0m: [Errno 2] No such file or directory: '/home/iabd/Escritorio/IABD/IA/SAPA/Redes Neuronales/ej10Sam/sam2/sam2_logs/configs/train.yaml/checkpoints/checkpoint.pt'"
     ]
    }
   ],
   "source": [
    "import torch\n",
    "from sam2.build_sam import build_sam2\n",
    "from sam2.automatic_mask_generator import SAM2AutomaticMaskGenerator\n",
    "import supervision as sv\n",
    "import os\n",
    "import random\n",
    "from PIL import Image\n",
    "import numpy as np\n",
    "\n",
    "# use bfloat16 for the entire notebook\n",
    "# from Meta notebook\n",
    "torch.autocast(\"cuda\", dtype=torch.bfloat16).__enter__()\n",
    "if torch.cuda.get_device_properties(0).major >= 8:\n",
    "    torch.backends.cuda.matmul.allow_tf32 = True\n",
    "    torch.backends.cudnn.allow_tf32 = True\n",
    "\n",
    "checkpoint = \"/home/iabd/Escritorio/IABD/IA/SAPA/Redes Neuronales/ej10Sam/sam2/sam2_logs/configs/train.yaml/checkpoints/checkpoint.pt\"\n",
    "model_cfg = \"configs/sam2.1/sam2.1_hiera_b+.yaml\"\n",
    "sam2 = build_sam2(model_cfg, checkpoint, device=\"cuda\")\n",
    "mask_generator = SAM2AutomaticMaskGenerator(sam2)\n",
    "\n",
    "checkpoint_base = \"/content/sam2/checkpoints/sam2.1_hiera_base_plus.pt\"\n",
    "model_cfg_base = \"configs/sam2.1/sam2.1_hiera_b+.yaml\"\n",
    "sam2_base = build_sam2(model_cfg_base, checkpoint_base, device=\"cuda\")\n",
    "mask_generator_base = SAM2AutomaticMaskGenerator(sam2_base)"
   ]
  },
  {
   "cell_type": "code",
   "execution_count": null,
   "metadata": {},
   "outputs": [],
   "source": [
    "validation_set = os.listdir(\"/content/data/valid\")\n",
    "\n",
    "# choose random with .json extension\n",
    "image = random.choice([img for img in validation_set if img.endswith(\".jpg\")])\n",
    "image = os.path.join(\"/content/data/valid\", image)\n",
    "opened_image = np.array(Image.open(image).convert(\"RGB\"))\n",
    "result = mask_generator.generate(opened_image)\n",
    "\n",
    "detections = sv.Detections.from_sam(sam_result=result)\n",
    "\n",
    "mask_annotator = sv.MaskAnnotator(color_lookup = sv.ColorLookup.INDEX)\n",
    "annotated_image = opened_image.copy()\n",
    "annotated_image = mask_annotator.annotate(annotated_image, detections=detections)\n",
    "\n",
    "base_annotator = sv.MaskAnnotator(color_lookup = sv.ColorLookup.INDEX)\n",
    "\n",
    "base_result = mask_generator_base.generate(opened_image)\n",
    "base_detections = sv.Detections.from_sam(sam_result=base_result)\n",
    "base_annotated_image = opened_image.copy()\n",
    "base_annotated_image = base_annotator.annotate(base_annotated_image, detections=base_detections)\n",
    "\n",
    "sv.plot_images_grid(images=[annotated_image, base_annotated_image], titles=[\"Fine-Tuned SAM-2.1\", \"Base SAM-2.1\"], grid_size=(1, 2))"
   ]
  }
 ],
 "metadata": {
  "kernelspec": {
   "display_name": "CloneSAPA",
   "language": "python",
   "name": "python3"
  },
  "language_info": {
   "codemirror_mode": {
    "name": "ipython",
    "version": 3
   },
   "file_extension": ".py",
   "mimetype": "text/x-python",
   "name": "python",
   "nbconvert_exporter": "python",
   "pygments_lexer": "ipython3",
   "version": "3.12.8"
  }
 },
 "nbformat": 4,
 "nbformat_minor": 2
}
