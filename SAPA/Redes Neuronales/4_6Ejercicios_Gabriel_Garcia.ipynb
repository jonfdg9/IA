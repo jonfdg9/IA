{
 "cells": [
  {
   "cell_type": "markdown",
   "metadata": {},
   "source": [
    "# EJERCICIOS"
   ]
  },
  {
   "cell_type": "code",
   "execution_count": 30,
   "metadata": {},
   "outputs": [],
   "source": [
    "import tensorflow as tf\n",
    "import matplotlib.pyplot as plt\n",
    "import time\n",
    "import pandas as pd\n",
    "import numpy as np\n",
    "from sklearn.model_selection import train_test_split"
   ]
  },
  {
   "cell_type": "markdown",
   "metadata": {},
   "source": [
    "## EJERCICIO 1"
   ]
  },
  {
   "cell_type": "markdown",
   "metadata": {},
   "source": [
    "Practica cómo entrenar una red neuronal profunda con el conjunto de datos de imágenes CIFAR10\n"
   ]
  },
  {
   "cell_type": "markdown",
   "metadata": {},
   "source": [
    "### A\n",
    "El conjunto de datos está compuesto por 60.000 imágenes en color de 32 x 32 píxe­les (50.000 para el entrenamiento, 5.000 para la validación y 5.000 para las pruebas) con 10 clases. Puedes cargarlo con tf.keras.datasets.cifar10.load_data(). Muestra una de la imagenes"
   ]
  },
  {
   "cell_type": "code",
   "execution_count": 18,
   "metadata": {},
   "outputs": [
    {
     "name": "stdout",
     "output_type": "stream",
     "text": [
      "Tamaño del conjunto de entrenamiento: (50000, 32, 32, 3)\n",
      "Tamaño del conjunto de validación: (5000, 32, 32, 3)\n",
      "Tamaño del conjunto de prueba: (5000, 32, 32, 3)\n",
      "Clases disponibles: {np.uint8(0), np.uint8(1), np.uint8(2), np.uint8(3), np.uint8(4), np.uint8(5), np.uint8(6), np.uint8(7), np.uint8(8), np.uint8(9)}\n"
     ]
    },
    {
     "data": {
      "image/png": "[encoded data removed]",
      "text/plain": [
       "<Figure size 200x200 with 1 Axes>"
      ]
     },
     "metadata": {},
     "output_type": "display_data"
    }
   ],
   "source": [
    "import tensorflow as tf\n",
    "from sklearn.model_selection import train_test_split\n",
    "from tensorflow.keras.utils import to_categorical\n",
    "import matplotlib.pyplot as plt\n",
    "\n",
    "# Cargar el conjunto de datos CIFAR-10\n",
    "(x_train, y_train), (x_temp, y_temp) = tf.keras.datasets.cifar10.load_data()\n",
    "\n",
    "# Dividir en conjunto de validación y prueba\n",
    "x_test, x_val, y_test, y_val = train_test_split(x_temp, y_temp, test_size=0.5, random_state=42)\n",
    "\n",
    "# Convertir etiquetas a formato categórico\n",
    "y_train = to_categorical(y_train, 10)\n",
    "y_val = to_categorical(y_val, 10)\n",
    "y_test = to_categorical(y_test, 10)\n",
    "\n",
    "# Mostrar información sobre los datos\n",
    "print(f\"Tamaño del conjunto de entrenamiento: {x_train.shape}\")\n",
    "print(f\"Tamaño del conjunto de validación: {x_val.shape}\")\n",
    "print(f\"Tamaño del conjunto de prueba: {x_test.shape}\")\n",
    "print(f\"Clases disponibles: {set(y_temp.flatten())}\")\n",
    "\n",
    "# Mostrar una imagen del conjunto de entrenamiento\n",
    "plt.figure(figsize=(2, 2))\n",
    "plt.imshow(x_train[0])  # Mostrar la primera imagen del conjunto de entrenamiento\n",
    "plt.axis('off')\n",
    "plt.show()\n"
   ]
  },
  {
   "cell_type": "code",
   "execution_count": 19,
   "metadata": {},
   "outputs": [
    {
     "name": "stdout",
     "output_type": "stream",
     "text": [
      "num GPU available: \n"
     ]
    },
    {
     "data": {
      "text/plain": [
       "(None, 0)"
      ]
     },
     "execution_count": 19,
     "metadata": {},
     "output_type": "execute_result"
    }
   ],
   "source": [
    "print ('num GPU available: '), len(tf.config.experimental.list_physical_devices('GPU'))"
   ]
  },
  {
   "cell_type": "markdown",
   "metadata": {},
   "source": [
    "### B\n",
    "Crea una RNP con 20 capas ocultas de 100 neuronas cada una (son demasiadas,\n",
    "pero esa es la gracia del ejercicio). \n",
    "\n",
    "Utiliza la inicialización He y la función de activa­ción Swish. \n",
    "\n",
    "Antes de las 20 capas tendras que añadir una capa Input y una capa Flatten y despúes una capa de de salida."
   ]
  },
  {
   "cell_type": "code",
   "execution_count": 20,
   "metadata": {},
   "outputs": [],
   "source": [
    "import tensorflow as tf\n",
    "from tensorflow.keras import layers, models\n",
    "from tensorflow.keras.activations import swish\n",
    "\n",
    "# Crear el modelo\n",
    "model = models.Sequential()\n",
    "\n",
    "# Capa de entrada\n",
    "model.add(tf.keras.layers.Input(shape=(32, 32, 3))) # Entrada para imágenes de tamaño 32x32 en color\n",
    "model.add(layers.Flatten())  # Aplana las imágenes en un vector 1D\n"
   ]
  },
  {
   "cell_type": "code",
   "execution_count": 21,
   "metadata": {},
   "outputs": [],
   "source": [
    "# 20 capas ocultas con 100 neuronas cada una\n",
    "for _ in range(20):\n",
    "    model.add(layers.Dense(100, activation=swish, kernel_initializer=\"he_normal\"))\n",
    "\n",
    "# Capa de salida\n",
    "model.add(layers.Dense(10, activation='softmax'))  # 10 clases de salida (para CIFAR-10)"
   ]
  },
  {
   "cell_type": "code",
   "execution_count": 22,
   "metadata": {},
   "outputs": [
    {
     "data": {
      "text/html": [
       "<pre style=\"white-space:pre;overflow-x:auto;line-height:normal;font-family:Menlo,'DejaVu Sans Mono',consolas,'Courier New',monospace\"><span style=\"font-weight: bold\">Model: \"sequential_4\"</span>\n",
       "</pre>\n"
      ],
      "text/plain": [
       "\u001b[1mModel: \"sequential_4\"\u001b[0m\n"
      ]
     },
     "metadata": {},
     "output_type": "display_data"
    },
    {
     "data": {
      "text/html": [
       "<pre style=\"white-space:pre;overflow-x:auto;line-height:normal;font-family:Menlo,'DejaVu Sans Mono',consolas,'Courier New',monospace\">┏━━━━━━━━━━━━━━━━━━━━━━━━━━━━━━━━━┳━━━━━━━━━━━━━━━━━━━━━━━━┳━━━━━━━━━━━━━━━┓\n",
       "┃<span style=\"font-weight: bold\"> Layer (type)                    </span>┃<span style=\"font-weight: bold\"> Output Shape           </span>┃<span style=\"font-weight: bold\">       Param # </span>┃\n",
       "┡━━━━━━━━━━━━━━━━━━━━━━━━━━━━━━━━━╇━━━━━━━━━━━━━━━━━━━━━━━━╇━━━━━━━━━━━━━━━┩\n",
       "│ flatten_4 (<span style=\"color: #0087ff; text-decoration-color: #0087ff\">Flatten</span>)             │ (<span style=\"color: #00d7ff; text-decoration-color: #00d7ff\">None</span>, <span style=\"color: #00af00; text-decoration-color: #00af00\">3072</span>)           │             <span style=\"color: #00af00; text-decoration-color: #00af00\">0</span> │\n",
       "├─────────────────────────────────┼────────────────────────┼───────────────┤\n",
       "│ dense_84 (<span style=\"color: #0087ff; text-decoration-color: #0087ff\">Dense</span>)                │ (<span style=\"color: #00d7ff; text-decoration-color: #00d7ff\">None</span>, <span style=\"color: #00af00; text-decoration-color: #00af00\">100</span>)            │       <span style=\"color: #00af00; text-decoration-color: #00af00\">307,300</span> │\n",
       "├─────────────────────────────────┼────────────────────────┼───────────────┤\n",
       "│ dense_85 (<span style=\"color: #0087ff; text-decoration-color: #0087ff\">Dense</span>)                │ (<span style=\"color: #00d7ff; text-decoration-color: #00d7ff\">None</span>, <span style=\"color: #00af00; text-decoration-color: #00af00\">100</span>)            │        <span style=\"color: #00af00; text-decoration-color: #00af00\">10,100</span> │\n",
       "├─────────────────────────────────┼────────────────────────┼───────────────┤\n",
       "│ dense_86 (<span style=\"color: #0087ff; text-decoration-color: #0087ff\">Dense</span>)                │ (<span style=\"color: #00d7ff; text-decoration-color: #00d7ff\">None</span>, <span style=\"color: #00af00; text-decoration-color: #00af00\">100</span>)            │        <span style=\"color: #00af00; text-decoration-color: #00af00\">10,100</span> │\n",
       "├─────────────────────────────────┼────────────────────────┼───────────────┤\n",
       "│ dense_87 (<span style=\"color: #0087ff; text-decoration-color: #0087ff\">Dense</span>)                │ (<span style=\"color: #00d7ff; text-decoration-color: #00d7ff\">None</span>, <span style=\"color: #00af00; text-decoration-color: #00af00\">100</span>)            │        <span style=\"color: #00af00; text-decoration-color: #00af00\">10,100</span> │\n",
       "├─────────────────────────────────┼────────────────────────┼───────────────┤\n",
       "│ dense_88 (<span style=\"color: #0087ff; text-decoration-color: #0087ff\">Dense</span>)                │ (<span style=\"color: #00d7ff; text-decoration-color: #00d7ff\">None</span>, <span style=\"color: #00af00; text-decoration-color: #00af00\">100</span>)            │        <span style=\"color: #00af00; text-decoration-color: #00af00\">10,100</span> │\n",
       "├─────────────────────────────────┼────────────────────────┼───────────────┤\n",
       "│ dense_89 (<span style=\"color: #0087ff; text-decoration-color: #0087ff\">Dense</span>)                │ (<span style=\"color: #00d7ff; text-decoration-color: #00d7ff\">None</span>, <span style=\"color: #00af00; text-decoration-color: #00af00\">100</span>)            │        <span style=\"color: #00af00; text-decoration-color: #00af00\">10,100</span> │\n",
       "├─────────────────────────────────┼────────────────────────┼───────────────┤\n",
       "│ dense_90 (<span style=\"color: #0087ff; text-decoration-color: #0087ff\">Dense</span>)                │ (<span style=\"color: #00d7ff; text-decoration-color: #00d7ff\">None</span>, <span style=\"color: #00af00; text-decoration-color: #00af00\">100</span>)            │        <span style=\"color: #00af00; text-decoration-color: #00af00\">10,100</span> │\n",
       "├─────────────────────────────────┼────────────────────────┼───────────────┤\n",
       "│ dense_91 (<span style=\"color: #0087ff; text-decoration-color: #0087ff\">Dense</span>)                │ (<span style=\"color: #00d7ff; text-decoration-color: #00d7ff\">None</span>, <span style=\"color: #00af00; text-decoration-color: #00af00\">100</span>)            │        <span style=\"color: #00af00; text-decoration-color: #00af00\">10,100</span> │\n",
       "├─────────────────────────────────┼────────────────────────┼───────────────┤\n",
       "│ dense_92 (<span style=\"color: #0087ff; text-decoration-color: #0087ff\">Dense</span>)                │ (<span style=\"color: #00d7ff; text-decoration-color: #00d7ff\">None</span>, <span style=\"color: #00af00; text-decoration-color: #00af00\">100</span>)            │        <span style=\"color: #00af00; text-decoration-color: #00af00\">10,100</span> │\n",
       "├─────────────────────────────────┼────────────────────────┼───────────────┤\n",
       "│ dense_93 (<span style=\"color: #0087ff; text-decoration-color: #0087ff\">Dense</span>)                │ (<span style=\"color: #00d7ff; text-decoration-color: #00d7ff\">None</span>, <span style=\"color: #00af00; text-decoration-color: #00af00\">100</span>)            │        <span style=\"color: #00af00; text-decoration-color: #00af00\">10,100</span> │\n",
       "├─────────────────────────────────┼────────────────────────┼───────────────┤\n",
       "│ dense_94 (<span style=\"color: #0087ff; text-decoration-color: #0087ff\">Dense</span>)                │ (<span style=\"color: #00d7ff; text-decoration-color: #00d7ff\">None</span>, <span style=\"color: #00af00; text-decoration-color: #00af00\">100</span>)            │        <span style=\"color: #00af00; text-decoration-color: #00af00\">10,100</span> │\n",
       "├─────────────────────────────────┼────────────────────────┼───────────────┤\n",
       "│ dense_95 (<span style=\"color: #0087ff; text-decoration-color: #0087ff\">Dense</span>)                │ (<span style=\"color: #00d7ff; text-decoration-color: #00d7ff\">None</span>, <span style=\"color: #00af00; text-decoration-color: #00af00\">100</span>)            │        <span style=\"color: #00af00; text-decoration-color: #00af00\">10,100</span> │\n",
       "├─────────────────────────────────┼────────────────────────┼───────────────┤\n",
       "│ dense_96 (<span style=\"color: #0087ff; text-decoration-color: #0087ff\">Dense</span>)                │ (<span style=\"color: #00d7ff; text-decoration-color: #00d7ff\">None</span>, <span style=\"color: #00af00; text-decoration-color: #00af00\">100</span>)            │        <span style=\"color: #00af00; text-decoration-color: #00af00\">10,100</span> │\n",
       "├─────────────────────────────────┼────────────────────────┼───────────────┤\n",
       "│ dense_97 (<span style=\"color: #0087ff; text-decoration-color: #0087ff\">Dense</span>)                │ (<span style=\"color: #00d7ff; text-decoration-color: #00d7ff\">None</span>, <span style=\"color: #00af00; text-decoration-color: #00af00\">100</span>)            │        <span style=\"color: #00af00; text-decoration-color: #00af00\">10,100</span> │\n",
       "├─────────────────────────────────┼────────────────────────┼───────────────┤\n",
       "│ dense_98 (<span style=\"color: #0087ff; text-decoration-color: #0087ff\">Dense</span>)                │ (<span style=\"color: #00d7ff; text-decoration-color: #00d7ff\">None</span>, <span style=\"color: #00af00; text-decoration-color: #00af00\">100</span>)            │        <span style=\"color: #00af00; text-decoration-color: #00af00\">10,100</span> │\n",
       "├─────────────────────────────────┼────────────────────────┼───────────────┤\n",
       "│ dense_99 (<span style=\"color: #0087ff; text-decoration-color: #0087ff\">Dense</span>)                │ (<span style=\"color: #00d7ff; text-decoration-color: #00d7ff\">None</span>, <span style=\"color: #00af00; text-decoration-color: #00af00\">100</span>)            │        <span style=\"color: #00af00; text-decoration-color: #00af00\">10,100</span> │\n",
       "├─────────────────────────────────┼────────────────────────┼───────────────┤\n",
       "│ dense_100 (<span style=\"color: #0087ff; text-decoration-color: #0087ff\">Dense</span>)               │ (<span style=\"color: #00d7ff; text-decoration-color: #00d7ff\">None</span>, <span style=\"color: #00af00; text-decoration-color: #00af00\">100</span>)            │        <span style=\"color: #00af00; text-decoration-color: #00af00\">10,100</span> │\n",
       "├─────────────────────────────────┼────────────────────────┼───────────────┤\n",
       "│ dense_101 (<span style=\"color: #0087ff; text-decoration-color: #0087ff\">Dense</span>)               │ (<span style=\"color: #00d7ff; text-decoration-color: #00d7ff\">None</span>, <span style=\"color: #00af00; text-decoration-color: #00af00\">100</span>)            │        <span style=\"color: #00af00; text-decoration-color: #00af00\">10,100</span> │\n",
       "├─────────────────────────────────┼────────────────────────┼───────────────┤\n",
       "│ dense_102 (<span style=\"color: #0087ff; text-decoration-color: #0087ff\">Dense</span>)               │ (<span style=\"color: #00d7ff; text-decoration-color: #00d7ff\">None</span>, <span style=\"color: #00af00; text-decoration-color: #00af00\">100</span>)            │        <span style=\"color: #00af00; text-decoration-color: #00af00\">10,100</span> │\n",
       "├─────────────────────────────────┼────────────────────────┼───────────────┤\n",
       "│ dense_103 (<span style=\"color: #0087ff; text-decoration-color: #0087ff\">Dense</span>)               │ (<span style=\"color: #00d7ff; text-decoration-color: #00d7ff\">None</span>, <span style=\"color: #00af00; text-decoration-color: #00af00\">100</span>)            │        <span style=\"color: #00af00; text-decoration-color: #00af00\">10,100</span> │\n",
       "├─────────────────────────────────┼────────────────────────┼───────────────┤\n",
       "│ dense_104 (<span style=\"color: #0087ff; text-decoration-color: #0087ff\">Dense</span>)               │ (<span style=\"color: #00d7ff; text-decoration-color: #00d7ff\">None</span>, <span style=\"color: #00af00; text-decoration-color: #00af00\">10</span>)             │         <span style=\"color: #00af00; text-decoration-color: #00af00\">1,010</span> │\n",
       "└─────────────────────────────────┴────────────────────────┴───────────────┘\n",
       "</pre>\n"
      ],
      "text/plain": [
       "┏━━━━━━━━━━━━━━━━━━━━━━━━━━━━━━━━━┳━━━━━━━━━━━━━━━━━━━━━━━━┳━━━━━━━━━━━━━━━┓\n",
       "┃\u001b[1m \u001b[0m\u001b[1mLayer (type)                   \u001b[0m\u001b[1m \u001b[0m┃\u001b[1m \u001b[0m\u001b[1mOutput Shape          \u001b[0m\u001b[1m \u001b[0m┃\u001b[1m \u001b[0m\u001b[1m      Param #\u001b[0m\u001b[1m \u001b[0m┃\n",
       "┡━━━━━━━━━━━━━━━━━━━━━━━━━━━━━━━━━╇━━━━━━━━━━━━━━━━━━━━━━━━╇━━━━━━━━━━━━━━━┩\n",
       "│ flatten_4 (\u001b[38;5;33mFlatten\u001b[0m)             │ (\u001b[38;5;45mNone\u001b[0m, \u001b[38;5;34m3072\u001b[0m)           │             \u001b[38;5;34m0\u001b[0m │\n",
       "├─────────────────────────────────┼────────────────────────┼───────────────┤\n",
       "│ dense_84 (\u001b[38;5;33mDense\u001b[0m)                │ (\u001b[38;5;45mNone\u001b[0m, \u001b[38;5;34m100\u001b[0m)            │       \u001b[38;5;34m307,300\u001b[0m │\n",
       "├─────────────────────────────────┼────────────────────────┼───────────────┤\n",
       "│ dense_85 (\u001b[38;5;33mDense\u001b[0m)                │ (\u001b[38;5;45mNone\u001b[0m, \u001b[38;5;34m100\u001b[0m)            │        \u001b[38;5;34m10,100\u001b[0m │\n",
       "├─────────────────────────────────┼────────────────────────┼───────────────┤\n",
       "│ dense_86 (\u001b[38;5;33mDense\u001b[0m)                │ (\u001b[38;5;45mNone\u001b[0m, \u001b[38;5;34m100\u001b[0m)            │        \u001b[38;5;34m10,100\u001b[0m │\n",
       "├─────────────────────────────────┼────────────────────────┼───────────────┤\n",
       "│ dense_87 (\u001b[38;5;33mDense\u001b[0m)                │ (\u001b[38;5;45mNone\u001b[0m, \u001b[38;5;34m100\u001b[0m)            │        \u001b[38;5;34m10,100\u001b[0m │\n",
       "├─────────────────────────────────┼────────────────────────┼───────────────┤\n",
       "│ dense_88 (\u001b[38;5;33mDense\u001b[0m)                │ (\u001b[38;5;45mNone\u001b[0m, \u001b[38;5;34m100\u001b[0m)            │        \u001b[38;5;34m10,100\u001b[0m │\n",
       "├─────────────────────────────────┼────────────────────────┼───────────────┤\n",
       "│ dense_89 (\u001b[38;5;33mDense\u001b[0m)                │ (\u001b[38;5;45mNone\u001b[0m, \u001b[38;5;34m100\u001b[0m)            │        \u001b[38;5;34m10,100\u001b[0m │\n",
       "├─────────────────────────────────┼────────────────────────┼───────────────┤\n",
       "│ dense_90 (\u001b[38;5;33mDense\u001b[0m)                │ (\u001b[38;5;45mNone\u001b[0m, \u001b[38;5;34m100\u001b[0m)            │        \u001b[38;5;34m10,100\u001b[0m │\n",
       "├─────────────────────────────────┼────────────────────────┼───────────────┤\n",
       "│ dense_91 (\u001b[38;5;33mDense\u001b[0m)                │ (\u001b[38;5;45mNone\u001b[0m, \u001b[38;5;34m100\u001b[0m)            │        \u001b[38;5;34m10,100\u001b[0m │\n",
       "├─────────────────────────────────┼────────────────────────┼───────────────┤\n",
       "│ dense_92 (\u001b[38;5;33mDense\u001b[0m)                │ (\u001b[38;5;45mNone\u001b[0m, \u001b[38;5;34m100\u001b[0m)            │        \u001b[38;5;34m10,100\u001b[0m │\n",
       "├─────────────────────────────────┼────────────────────────┼───────────────┤\n",
       "│ dense_93 (\u001b[38;5;33mDense\u001b[0m)                │ (\u001b[38;5;45mNone\u001b[0m, \u001b[38;5;34m100\u001b[0m)            │        \u001b[38;5;34m10,100\u001b[0m │\n",
       "├─────────────────────────────────┼────────────────────────┼───────────────┤\n",
       "│ dense_94 (\u001b[38;5;33mDense\u001b[0m)                │ (\u001b[38;5;45mNone\u001b[0m, \u001b[38;5;34m100\u001b[0m)            │        \u001b[38;5;34m10,100\u001b[0m │\n",
       "├─────────────────────────────────┼────────────────────────┼───────────────┤\n",
       "│ dense_95 (\u001b[38;5;33mDense\u001b[0m)                │ (\u001b[38;5;45mNone\u001b[0m, \u001b[38;5;34m100\u001b[0m)            │        \u001b[38;5;34m10,100\u001b[0m │\n",
       "├─────────────────────────────────┼────────────────────────┼───────────────┤\n",
       "│ dense_96 (\u001b[38;5;33mDense\u001b[0m)                │ (\u001b[38;5;45mNone\u001b[0m, \u001b[38;5;34m100\u001b[0m)            │        \u001b[38;5;34m10,100\u001b[0m │\n",
       "├─────────────────────────────────┼────────────────────────┼───────────────┤\n",
       "│ dense_97 (\u001b[38;5;33mDense\u001b[0m)                │ (\u001b[38;5;45mNone\u001b[0m, \u001b[38;5;34m100\u001b[0m)            │        \u001b[38;5;34m10,100\u001b[0m │\n",
       "├─────────────────────────────────┼────────────────────────┼───────────────┤\n",
       "│ dense_98 (\u001b[38;5;33mDense\u001b[0m)                │ (\u001b[38;5;45mNone\u001b[0m, \u001b[38;5;34m100\u001b[0m)            │        \u001b[38;5;34m10,100\u001b[0m │\n",
       "├─────────────────────────────────┼────────────────────────┼───────────────┤\n",
       "│ dense_99 (\u001b[38;5;33mDense\u001b[0m)                │ (\u001b[38;5;45mNone\u001b[0m, \u001b[38;5;34m100\u001b[0m)            │        \u001b[38;5;34m10,100\u001b[0m │\n",
       "├─────────────────────────────────┼────────────────────────┼───────────────┤\n",
       "│ dense_100 (\u001b[38;5;33mDense\u001b[0m)               │ (\u001b[38;5;45mNone\u001b[0m, \u001b[38;5;34m100\u001b[0m)            │        \u001b[38;5;34m10,100\u001b[0m │\n",
       "├─────────────────────────────────┼────────────────────────┼───────────────┤\n",
       "│ dense_101 (\u001b[38;5;33mDense\u001b[0m)               │ (\u001b[38;5;45mNone\u001b[0m, \u001b[38;5;34m100\u001b[0m)            │        \u001b[38;5;34m10,100\u001b[0m │\n",
       "├─────────────────────────────────┼────────────────────────┼───────────────┤\n",
       "│ dense_102 (\u001b[38;5;33mDense\u001b[0m)               │ (\u001b[38;5;45mNone\u001b[0m, \u001b[38;5;34m100\u001b[0m)            │        \u001b[38;5;34m10,100\u001b[0m │\n",
       "├─────────────────────────────────┼────────────────────────┼───────────────┤\n",
       "│ dense_103 (\u001b[38;5;33mDense\u001b[0m)               │ (\u001b[38;5;45mNone\u001b[0m, \u001b[38;5;34m100\u001b[0m)            │        \u001b[38;5;34m10,100\u001b[0m │\n",
       "├─────────────────────────────────┼────────────────────────┼───────────────┤\n",
       "│ dense_104 (\u001b[38;5;33mDense\u001b[0m)               │ (\u001b[38;5;45mNone\u001b[0m, \u001b[38;5;34m10\u001b[0m)             │         \u001b[38;5;34m1,010\u001b[0m │\n",
       "└─────────────────────────────────┴────────────────────────┴───────────────┘\n"
      ]
     },
     "metadata": {},
     "output_type": "display_data"
    },
    {
     "data": {
      "text/html": [
       "<pre style=\"white-space:pre;overflow-x:auto;line-height:normal;font-family:Menlo,'DejaVu Sans Mono',consolas,'Courier New',monospace\"><span style=\"font-weight: bold\"> Total params: </span><span style=\"color: #00af00; text-decoration-color: #00af00\">500,210</span> (1.91 MB)\n",
       "</pre>\n"
      ],
      "text/plain": [
       "\u001b[1m Total params: \u001b[0m\u001b[38;5;34m500,210\u001b[0m (1.91 MB)\n"
      ]
     },
     "metadata": {},
     "output_type": "display_data"
    },
    {
     "data": {
      "text/html": [
       "<pre style=\"white-space:pre;overflow-x:auto;line-height:normal;font-family:Menlo,'DejaVu Sans Mono',consolas,'Courier New',monospace\"><span style=\"font-weight: bold\"> Trainable params: </span><span style=\"color: #00af00; text-decoration-color: #00af00\">500,210</span> (1.91 MB)\n",
       "</pre>\n"
      ],
      "text/plain": [
       "\u001b[1m Trainable params: \u001b[0m\u001b[38;5;34m500,210\u001b[0m (1.91 MB)\n"
      ]
     },
     "metadata": {},
     "output_type": "display_data"
    },
    {
     "data": {
      "text/html": [
       "<pre style=\"white-space:pre;overflow-x:auto;line-height:normal;font-family:Menlo,'DejaVu Sans Mono',consolas,'Courier New',monospace\"><span style=\"font-weight: bold\"> Non-trainable params: </span><span style=\"color: #00af00; text-decoration-color: #00af00\">0</span> (0.00 B)\n",
       "</pre>\n"
      ],
      "text/plain": [
       "\u001b[1m Non-trainable params: \u001b[0m\u001b[38;5;34m0\u001b[0m (0.00 B)\n"
      ]
     },
     "metadata": {},
     "output_type": "display_data"
    }
   ],
   "source": [
    "# Compilar el modelo\n",
    "model.compile(optimizer=tf.keras.optimizers.Adam(learning_rate=0.001),\n",
    "              loss='categorical_crossentropy',\n",
    "              metrics=['accuracy'])\n",
    "\n",
    "# Resumen del modelo\n",
    "model.summary()"
   ]
  },
  {
   "cell_type": "markdown",
   "metadata": {},
   "source": [
    "### C\n",
    "Elige una tasa de aprendizaje adecuada para la optimización Nadam.\n",
    "\n",
    "Para probar los diferentes modelos haz un bucle (después de cada entrenamiento evalua X_train y X_valid y guarda en un diccionario para \"Red neuronal normal\")\n",
    "\n",
    "Ejemplo:\n",
    "\n",
    "\n",
    "[{\n",
    "\n",
    "    'Red neuronal normal': {\n",
    "\n",
    "        'Tasa de aprendizaje': X,\n",
    "\n",
    "        'Entrenamiento sparse categorical accuracy': X,\n",
    "\n",
    "        'Validación sparse categorical accuracy': X,\n",
    "\n",
    "        'Tiempo total (s)': X\n",
    "\n",
    "    }\n",
    "    \n",
    "}] "
   ]
  },
  {
   "cell_type": "code",
   "execution_count": 23,
   "metadata": {},
   "outputs": [
    {
     "name": "stdout",
     "output_type": "stream",
     "text": [
      "Mejor tasa de aprendizaje: 0.0001\n",
      "Mejores resultados:\n",
      "{'Red neuronal normal': {'Tasa de aprendizaje': 0.0001, 'Entrenamiento sparse categorical accuracy': 0.42574000358581543, 'Validación sparse categorical accuracy': 0.4180000126361847, 'Tiempo total (s)': 101.39207625389099}}\n"
     ]
    }
   ],
   "source": [
    "import time\n",
    "import tensorflow as tf\n",
    "from tensorflow.keras.models import Sequential\n",
    "from tensorflow.keras.layers import Dense, Flatten\n",
    "from tensorflow.keras.optimizers import Nadam\n",
    "from tensorflow.keras.losses import SparseCategoricalCrossentropy\n",
    "from tensorflow.keras.metrics import SparseCategoricalAccuracy\n",
    "from tensorflow.keras.callbacks import EarlyStopping\n",
    "from sklearn.model_selection import train_test_split\n",
    "\n",
    "# Cargar los datos CIFAR-10\n",
    "(x_train, y_train), (x_temp, y_temp) = tf.keras.datasets.cifar10.load_data()\n",
    "\n",
    "# Dividir los datos de prueba y validación\n",
    "x_test, x_val, y_test, y_val = train_test_split(x_temp, y_temp, test_size=0.5)\n",
    "\n",
    "# No es necesario convertir las etiquetas a one-hot, ya que estamos usando SparseCategoricalCrossentropy\n",
    "# Solo aseguramos que las etiquetas estén en el formato correcto\n",
    "# y_train, y_val, y_test ya son números enteros, por lo que no se necesita to_categorical\n",
    "\n",
    "# Crear el modelo\n",
    "model = Sequential()\n",
    "model.add(Flatten(input_shape=(32, 32, 3)))  # Entrada para imágenes de tamaño 32x32 en color\n",
    "for _ in range(20):\n",
    "    model.add(Dense(100, activation='swish', kernel_initializer=\"he_normal\"))\n",
    "\n",
    "# Capa de salida\n",
    "model.add(Dense(10, activation='softmax'))  # 10 clases de salida (para CIFAR-10)\n",
    "\n",
    "# Definir las tasas de aprendizaje a probar\n",
    "learning_rates = [1e-4, 1e-3, 1e-2, 1e-1]\n",
    "\n",
    "# Variables para almacenar la mejor tasa de aprendizaje y el mejor rendimiento\n",
    "best_lr = None\n",
    "best_val_accuracy = 0\n",
    "best_results = {}\n",
    "\n",
    "# Bucle para probar diferentes tasas de aprendizaje\n",
    "for lr in learning_rates:\n",
    "    model.compile(optimizer=Nadam(learning_rate=lr),\n",
    "                  loss=SparseCategoricalCrossentropy(),\n",
    "                  metrics=[SparseCategoricalAccuracy()])\n",
    "    \n",
    "    # Entrenar el modelo y medir el tiempo\n",
    "    start_time = time.time()\n",
    "    history = model.fit(x_train, y_train, epochs=10, validation_data=(x_val, y_val),\n",
    "                        batch_size=32, verbose=0)\n",
    "    end_time = time.time()\n",
    "    \n",
    "    # Obtener las métricas de entrenamiento y validación\n",
    "    train_acc = history.history['sparse_categorical_accuracy'][-1]\n",
    "    val_acc = history.history['val_sparse_categorical_accuracy'][-1]\n",
    "    \n",
    "    # Actualizar el mejor resultado si este es mejor que el anterior\n",
    "    if val_acc > best_val_accuracy:\n",
    "        best_val_accuracy = val_acc\n",
    "        best_lr = lr\n",
    "        best_results = {\n",
    "            'Red neuronal normal': {\n",
    "                'Tasa de aprendizaje': lr,\n",
    "                'Entrenamiento sparse categorical accuracy': train_acc,\n",
    "                'Validación sparse categorical accuracy': val_acc,\n",
    "                'Tiempo total (s)': end_time - start_time\n",
    "            }\n",
    "        }\n",
    "\n",
    "# Imprimir el mejor resultado\n",
    "print(\"Mejor tasa de aprendizaje:\", best_lr)\n",
    "print(\"Mejores resultados:\")\n",
    "print(best_results)\n"
   ]
  },
  {
   "cell_type": "markdown",
   "metadata": {},
   "source": [
    "### D\n",
    " Una vez elegida la tasa de aprendizaje entrena el modelo usando la detención temprana (ahora que tienes detención temprana aumenta el número de epochs).\n",
    "\n",
    " Añade los resultados al diccionario anterior, hay que añadir:\n",
    "\n",
    "[{\n",
    "\n",
    "    'Red neuronal normal con detención temprana': {\n",
    "\n",
    "        'Tasa de aprendizaje': X,\n",
    "\n",
    "        'Entrenamiento sparse categorical accuracy': X,\n",
    "\n",
    "        'Validación sparse categorical accuracy': X,\n",
    "\n",
    "        'Tiempo total (s)': X,\n",
    "\n",
    "        'Mejor época': X\n",
    "\n",
    "    }\n",
    "    \n",
    "}] "
   ]
  },
  {
   "cell_type": "code",
   "execution_count": 24,
   "metadata": {},
   "outputs": [
    {
     "name": "stdout",
     "output_type": "stream",
     "text": [
      "Resultados finales:\n",
      "{'Red neuronal normal con detención temprana': {'Tasa de aprendizaje': 0.0001, 'Entrenamiento sparse categorical accuracy': 0.10000000149011612, 'Validación sparse categorical accuracy': 0.10140000283718109, 'Tiempo total (s)': 65.14705920219421, 'Mejor época': 1}}\n"
     ]
    }
   ],
   "source": [
    "# Configurar el optimizador con la mejor tasa de aprendizaje\n",
    "optimizer = Nadam(learning_rate=best_lr)\n",
    "\n",
    "# Recompilar el modelo con el optimizador ajustado\n",
    "model.compile(optimizer=optimizer,\n",
    "              loss=SparseCategoricalCrossentropy(),\n",
    "              metrics=[SparseCategoricalAccuracy()])\n",
    "\n",
    "# Crear el callback de detención temprana\n",
    "early_stopping_cb = EarlyStopping(monitor='val_sparse_categorical_accuracy', patience=5, restore_best_weights=True)\n",
    "\n",
    "# Configurar los callbacks\n",
    "callbacks = [early_stopping_cb]\n",
    "\n",
    "# Entrenar el modelo con la detención temprana y medir el tiempo\n",
    "start_time = time.time()\n",
    "history = model.fit(x_train, y_train, epochs=50, validation_data=(x_val, y_val),\n",
    "                    batch_size=32, verbose=0, callbacks=callbacks)\n",
    "end_time = time.time()\n",
    "\n",
    "# Evaluar el modelo\n",
    "train_loss, train_acc = model.evaluate(x_train, y_train, verbose=0)\n",
    "val_loss, val_acc = model.evaluate(x_val, y_val, verbose=0)\n",
    "\n",
    "# Obtener la mejor época a partir del callback\n",
    "best_epoch = early_stopping_cb.stopped_epoch - early_stopping_cb.patience + 1\n",
    "\n",
    "# Guardar los resultados en el diccionario\n",
    "final_results = {\n",
    "    'Red neuronal normal con detención temprana': {\n",
    "        'Tasa de aprendizaje': best_lr,\n",
    "        'Entrenamiento sparse categorical accuracy': train_acc,\n",
    "        'Validación sparse categorical accuracy': val_acc,\n",
    "        'Tiempo total (s)': end_time - start_time,\n",
    "        'Mejor época': best_epoch\n",
    "    }\n",
    "}\n",
    "\n",
    "# Imprimir los resultados finales\n",
    "print(\"Resultados finales:\")\n",
    "print(final_results)\n"
   ]
  },
  {
   "cell_type": "markdown",
   "metadata": {},
   "source": [
    "### E\n",
    "Ahora, prueba a añadir normalización de lotes y repite C y D con esta nueva red."
   ]
  },
  {
   "cell_type": "code",
   "execution_count": 26,
   "metadata": {},
   "outputs": [],
   "source": [
    "from tensorflow.keras.layers import BatchNormalization\n",
    "\n",
    "# Crear el modelo con BatchNormalization\n",
    "model_with_bn = Sequential()\n",
    "model_with_bn.add(Flatten(input_shape=(32, 32, 3)))  # Entrada para imágenes de tamaño 32x32 en color\n",
    "for _ in range(20):\n",
    "    model_with_bn.add(Dense(100, kernel_initializer=\"he_normal\"))\n",
    "    model_with_bn.add(BatchNormalization())  # Normalización antes de la activación\n",
    "    model_with_bn.add(tf.keras.layers.Activation('swish'))  # Función de activación\n",
    "\n",
    "# Capa de salida\n",
    "model_with_bn.add(Dense(10, activation='softmax'))  # 10 clases de salida (para CIFAR-10)\n"
   ]
  },
  {
   "cell_type": "code",
   "execution_count": 27,
   "metadata": {},
   "outputs": [
    {
     "name": "stdout",
     "output_type": "stream",
     "text": [
      "Mejor tasa de aprendizaje con BatchNormalization: 0.001\n",
      "Resultados del mejor modelo con BatchNormalization:\n",
      "{'Red neuronal con BatchNormalization': {'Tasa de aprendizaje': 0.001, 'Entrenamiento sparse categorical accuracy': 0.5537400245666504, 'Validación sparse categorical accuracy': 0.4758000075817108, 'Tiempo total (s)': 166.10377979278564}}\n"
     ]
    }
   ],
   "source": [
    "# Repetimos C\n",
    "# Definir las tasas de aprendizaje a probar\n",
    "learning_rates = [1e-4, 1e-3, 1e-2, 1e-1]\n",
    "\n",
    "# Variables para almacenar la mejor tasa de aprendizaje y el mejor rendimiento\n",
    "best_lr = None\n",
    "best_val_accuracy = 0\n",
    "best_results_bn = {}\n",
    "\n",
    "# Bucle para probar diferentes tasas de aprendizaje\n",
    "for lr in learning_rates:\n",
    "    # Compilar el modelo con la tasa de aprendizaje actual\n",
    "    model_with_bn.compile(optimizer=Nadam(learning_rate=lr),\n",
    "                          loss=SparseCategoricalCrossentropy(),\n",
    "                          metrics=[SparseCategoricalAccuracy()])\n",
    "    \n",
    "    # Entrenar el modelo y medir el tiempo\n",
    "    start_time = time.time()\n",
    "    history = model_with_bn.fit(x_train, y_train, epochs=10, validation_data=(x_val, y_val),\n",
    "                                batch_size=32, verbose=0)\n",
    "    end_time = time.time()\n",
    "    \n",
    "    # Obtener las métricas de entrenamiento y validación\n",
    "    train_acc = history.history['sparse_categorical_accuracy'][-1]\n",
    "    val_acc = history.history['val_sparse_categorical_accuracy'][-1]\n",
    "    \n",
    "    # Actualizar el mejor resultado si este es mejor que el anterior\n",
    "    if val_acc > best_val_accuracy:\n",
    "        best_val_accuracy = val_acc\n",
    "        best_lr = lr\n",
    "        best_results_bn = {\n",
    "            'Red neuronal con BatchNormalization': {\n",
    "                'Tasa de aprendizaje': lr,\n",
    "                'Entrenamiento sparse categorical accuracy': train_acc,\n",
    "                'Validación sparse categorical accuracy': val_acc,\n",
    "                'Tiempo total (s)': end_time - start_time\n",
    "            }\n",
    "        }\n",
    "\n",
    "# Imprimir los mejores resultados\n",
    "print(\"Mejor tasa de aprendizaje con BatchNormalization:\", best_lr)\n",
    "print(\"Resultados del mejor modelo con BatchNormalization:\")\n",
    "print(best_results_bn)\n"
   ]
  },
  {
   "cell_type": "code",
   "execution_count": 28,
   "metadata": {},
   "outputs": [
    {
     "name": "stdout",
     "output_type": "stream",
     "text": [
      "Resultados finales con BatchNormalization y detención temprana:\n",
      "{'Red neuronal con BatchNormalization y detención temprana': {'Tasa de aprendizaje': 0.001, 'Entrenamiento sparse categorical accuracy': 0.5569000244140625, 'Validación sparse categorical accuracy': 0.5230000019073486, 'Tiempo total (s)': 379.7791166305542, 'Mejor época': 20}}\n"
     ]
    }
   ],
   "source": [
    "# Repetimos D\n",
    "# Configurar el optimizador con la mejor tasa de aprendizaje\n",
    "optimizer = Nadam(learning_rate=best_lr)\n",
    "\n",
    "# Recompilar el modelo con el optimizador ajustado\n",
    "model_with_bn.compile(optimizer=optimizer,\n",
    "                      loss=SparseCategoricalCrossentropy(),\n",
    "                      metrics=[SparseCategoricalAccuracy()])\n",
    "\n",
    "# Crear el callback de detención temprana\n",
    "early_stopping_cb = EarlyStopping(monitor='val_sparse_categorical_accuracy', patience=5, restore_best_weights=True)\n",
    "\n",
    "# Configurar los callbacks\n",
    "callbacks = [early_stopping_cb]\n",
    "\n",
    "# Entrenar el modelo con la detención temprana y medir el tiempo\n",
    "start_time = time.time()\n",
    "history = model_with_bn.fit(x_train, y_train, epochs=50, validation_data=(x_val, y_val),\n",
    "                            batch_size=32, verbose=0, callbacks=callbacks)\n",
    "end_time = time.time()\n",
    "\n",
    "# Evaluar el modelo\n",
    "train_loss, train_acc = model_with_bn.evaluate(x_train, y_train, verbose=0)\n",
    "val_loss, val_acc = model_with_bn.evaluate(x_val, y_val, verbose=0)\n",
    "\n",
    "# Calcular la mejor época alcanzada durante el entrenamiento\n",
    "best_epoch = early_stopping_cb.stopped_epoch - early_stopping_cb.patience + 1\n",
    "\n",
    "# Guardar los resultados en el diccionario\n",
    "final_results_bn = {\n",
    "    'Red neuronal con BatchNormalization y detención temprana': {\n",
    "        'Tasa de aprendizaje': best_lr,\n",
    "        'Entrenamiento sparse categorical accuracy': train_acc,\n",
    "        'Validación sparse categorical accuracy': val_acc,\n",
    "        'Tiempo total (s)': end_time - start_time,\n",
    "        'Mejor época': best_epoch\n",
    "    }\n",
    "}\n",
    "\n",
    "# Imprimir los resultados finales\n",
    "print(\"Resultados finales con BatchNormalization y detención temprana:\")\n",
    "print(final_results_bn)"
   ]
  },
  {
   "cell_type": "markdown",
   "metadata": {},
   "source": [
    "### F\n",
    "Prueba a sustituir la normalización de lotes por la activación SELU y haz los ajustes necesarios para garantizar que la red se autonormaliza (es decir, tienes que estandarizar los datos antes de empezar).\n",
    "\n",
    "En este caso prueba a estandarizar manualmentes, es decir restando la media y dividiendo por la desviación standard.\n",
    "\n",
    "Usa la inicialización LeCun normal.\n",
    "\n",
    "Repite C y D con esta nueva red."
   ]
  },
  {
   "cell_type": "code",
   "execution_count": 31,
   "metadata": {},
   "outputs": [],
   "source": [
    "# Estandarizar los datos manualmente (restar la media y dividir por la desviación estándar)\n",
    "mean = np.mean(x_train, axis=(0, 1, 2, 3))  # Media global\n",
    "std = np.std(x_train, axis=(0, 1, 2, 3))    # Desviación estándar global\n",
    "\n",
    "x_train_standardized = (x_train - mean) / std\n",
    "x_val_standardized = (x_val - mean) / std\n",
    "x_test_standardized = (x_test - mean) / std\n"
   ]
  },
  {
   "cell_type": "code",
   "execution_count": 32,
   "metadata": {},
   "outputs": [
    {
     "name": "stderr",
     "output_type": "stream",
     "text": [
      "c:\\Users\\GABRI\\Anaconda3\\envs\\ia\\Lib\\site-packages\\keras\\src\\layers\\reshaping\\flatten.py:37: UserWarning: Do not pass an `input_shape`/`input_dim` argument to a layer. When using Sequential models, prefer using an `Input(shape)` object as the first layer in the model instead.\n",
      "  super().__init__(**kwargs)\n"
     ]
    }
   ],
   "source": [
    "from tensorflow.keras.initializers import lecun_normal\n",
    "\n",
    "# Crear el modelo con SELU y LeCun Normal\n",
    "model_with_selu = Sequential()\n",
    "model_with_selu.add(Flatten(input_shape=(32, 32, 3)))  # Entrada para imágenes de tamaño 32x32 en color\n",
    "for _ in range(20):\n",
    "    model_with_selu.add(Dense(100, activation='selu', kernel_initializer=lecun_normal()))  # Activación SELU\n",
    "\n",
    "# Capa de salida\n",
    "model_with_selu.add(Dense(10, activation='softmax'))  # 10 clases de salida (para CIFAR-10)\n"
   ]
  },
  {
   "cell_type": "code",
   "execution_count": 33,
   "metadata": {},
   "outputs": [
    {
     "name": "stdout",
     "output_type": "stream",
     "text": [
      "Mejor tasa de aprendizaje con SELU: 0.0001\n",
      "Resultados del mejor modelo con SELU:\n",
      "{'Red neuronal con SELU': {'Tasa de aprendizaje': 0.0001, 'Entrenamiento sparse categorical accuracy': 0.5877199769020081, 'Validación sparse categorical accuracy': 0.5016000270843506, 'Tiempo total (s)': 81.02356696128845}}\n"
     ]
    }
   ],
   "source": [
    "#Repetimos C\n",
    "# Definir las tasas de aprendizaje a probar\n",
    "learning_rates = [1e-4, 1e-3, 1e-2, 1e-1]\n",
    "\n",
    "# Variables para almacenar la mejor tasa de aprendizaje y el mejor rendimiento\n",
    "best_lr = None\n",
    "best_val_accuracy = 0\n",
    "best_results_selu = {}\n",
    "\n",
    "# Bucle para probar diferentes tasas de aprendizaje\n",
    "for lr in learning_rates:\n",
    "    # Compilar el modelo con la tasa de aprendizaje actual\n",
    "    model_with_selu.compile(optimizer=Nadam(learning_rate=lr),\n",
    "                            loss=SparseCategoricalCrossentropy(),\n",
    "                            metrics=[SparseCategoricalAccuracy()])\n",
    "    \n",
    "    # Entrenar el modelo y medir el tiempo\n",
    "    start_time = time.time()\n",
    "    history = model_with_selu.fit(x_train_standardized, y_train, epochs=10, validation_data=(x_val_standardized, y_val),\n",
    "                                  batch_size=32, verbose=0)\n",
    "    end_time = time.time()\n",
    "    \n",
    "    # Obtener las métricas de entrenamiento y validación\n",
    "    train_acc = history.history['sparse_categorical_accuracy'][-1]\n",
    "    val_acc = history.history['val_sparse_categorical_accuracy'][-1]\n",
    "    \n",
    "    # Actualizar el mejor resultado si este es mejor que el anterior\n",
    "    if val_acc > best_val_accuracy:\n",
    "        best_val_accuracy = val_acc\n",
    "        best_lr = lr\n",
    "        best_results_selu = {\n",
    "            'Red neuronal con SELU': {\n",
    "                'Tasa de aprendizaje': lr,\n",
    "                'Entrenamiento sparse categorical accuracy': train_acc,\n",
    "                'Validación sparse categorical accuracy': val_acc,\n",
    "                'Tiempo total (s)': end_time - start_time\n",
    "            }\n",
    "        }\n",
    "\n",
    "# Imprimir los mejores resultados\n",
    "print(\"Mejor tasa de aprendizaje con SELU:\", best_lr)\n",
    "print(\"Resultados del mejor modelo con SELU:\")\n",
    "print(best_results_selu)\n"
   ]
  },
  {
   "cell_type": "code",
   "execution_count": 34,
   "metadata": {},
   "outputs": [
    {
     "name": "stdout",
     "output_type": "stream",
     "text": [
      "Resultados finales con SELU y detención temprana:\n",
      "{'Red neuronal con SELU y detención temprana': {'Tasa de aprendizaje': 0.0001, 'Entrenamiento sparse categorical accuracy': 0.10047999769449234, 'Validación sparse categorical accuracy': 0.09359999746084213, 'Tiempo total (s)': 54.85791611671448, 'Mejor época': 20}}\n"
     ]
    }
   ],
   "source": [
    "# Repetimos D\n",
    "# Configurar el optimizador con la mejor tasa de aprendizaje\n",
    "optimizer = Nadam(learning_rate=best_lr)\n",
    "\n",
    "# Recompilar el modelo con el optimizador ajustado\n",
    "model_with_selu.compile(optimizer=optimizer,\n",
    "                        loss=SparseCategoricalCrossentropy(),\n",
    "                        metrics=[SparseCategoricalAccuracy()])\n",
    "\n",
    "# Configurar los callbacks para la detención temprana\n",
    "callbacks = [\n",
    "    EarlyStopping(monitor='val_sparse_categorical_accuracy', patience=5, restore_best_weights=True)\n",
    "]\n",
    "\n",
    "# Entrenar el modelo con la detención temprana y medir el tiempo\n",
    "start_time = time.time()\n",
    "history = model_with_selu.fit(x_train_standardized, y_train, epochs=50, validation_data=(x_val_standardized, y_val),\n",
    "                              batch_size=32, verbose=0, callbacks=callbacks)\n",
    "end_time = time.time()\n",
    "\n",
    "# Evaluar el modelo\n",
    "train_loss, train_acc = model_with_selu.evaluate(x_train, y_train, verbose=0)\n",
    "val_loss, val_acc = model_with_selu.evaluate(x_val, y_val, verbose=0)\n",
    "\n",
    "# Obtener las métricas finales y la mejor época\n",
    "train_acc = history.history['sparse_categorical_accuracy'][-1]\n",
    "val_acc = history.history['val_sparse_categorical_accuracy'][-1]\n",
    "best_epoch = early_stopping_cb.stopped_epoch - early_stopping_cb.patience + 1\n",
    "\n",
    "# Guardar los resultados en el diccionario\n",
    "final_results_selu = {\n",
    "    'Red neuronal con SELU y detención temprana': {\n",
    "        'Tasa de aprendizaje': best_lr,\n",
    "        'Entrenamiento sparse categorical accuracy': train_acc,\n",
    "        'Validación sparse categorical accuracy': val_acc,\n",
    "        'Tiempo total (s)': end_time - start_time,\n",
    "        'Mejor época': best_epoch\n",
    "    }\n",
    "}\n",
    "\n",
    "# Imprimir los resultados finales\n",
    "print(\"Resultados finales con SELU y detención temprana:\")\n",
    "print(final_results_selu)\n"
   ]
  },
  {
   "cell_type": "markdown",
   "metadata": {},
   "source": [
    "### G\n",
    "Prueba ahora a regularizar el modelo anterior añadiendo una capa dropout antes de la última capa (estandariza manualmente como en el punto anterior).\n",
    "\n",
    "Repite C y D con esta nueva red."
   ]
  },
  {
   "cell_type": "code",
   "execution_count": 35,
   "metadata": {},
   "outputs": [],
   "source": [
    "from tensorflow.keras.layers import Dropout\n",
    "\n",
    "# Crear el modelo con SELU, LeCun Normal y Dropout\n",
    "model_with_selu_dropout = Sequential()\n",
    "model_with_selu_dropout.add(Flatten(input_shape=(32, 32, 3)))  # Entrada para imágenes de tamaño 32x32 en color\n",
    "for _ in range(20):\n",
    "    model_with_selu_dropout.add(Dense(100, activation='selu', kernel_initializer=lecun_normal()))\n",
    "# Añadir Dropout antes de la última capa\n",
    "model_with_selu_dropout.add(Dropout(0.5))  # Probabilidad de desactivar el 50% de las neuronas\n",
    "# Capa de salida\n",
    "model_with_selu_dropout.add(Dense(10, activation='softmax'))  # 10 clases de salida (para CIFAR-10)\n"
   ]
  },
  {
   "cell_type": "code",
   "execution_count": 36,
   "metadata": {},
   "outputs": [
    {
     "name": "stdout",
     "output_type": "stream",
     "text": [
      "Mejor tasa de aprendizaje con SELU y Dropout: 0.0001\n",
      "Resultados del mejor modelo con SELU y Dropout:\n",
      "{'Red neuronal con SELU y Dropout': {'Tasa de aprendizaje': 0.0001, 'Entrenamiento sparse categorical accuracy': 0.567579984664917, 'Validación sparse categorical accuracy': 0.5019999742507935, 'Tiempo total (s)': 88.60428476333618}}\n"
     ]
    }
   ],
   "source": [
    "# Repetimos C\n",
    "# Definir las tasas de aprendizaje a probar\n",
    "learning_rates = [1e-4, 1e-3, 1e-2, 1e-1]\n",
    "\n",
    "# Variables para almacenar la mejor tasa de aprendizaje y el mejor rendimiento\n",
    "best_lr = None\n",
    "best_val_accuracy = 0\n",
    "best_results_dropout = {}\n",
    "\n",
    "# Bucle para probar diferentes tasas de aprendizaje\n",
    "for lr in learning_rates:\n",
    "    # Compilar el modelo con la tasa de aprendizaje actual\n",
    "    model_with_selu_dropout.compile(optimizer=Nadam(learning_rate=lr),\n",
    "                                    loss=SparseCategoricalCrossentropy(),\n",
    "                                    metrics=[SparseCategoricalAccuracy()])\n",
    "    \n",
    "    # Entrenar el modelo y medir el tiempo\n",
    "    start_time = time.time()\n",
    "    history = model_with_selu_dropout.fit(x_train_standardized, y_train, epochs=10, validation_data=(x_val_standardized, y_val),\n",
    "                                          batch_size=32, verbose=0)\n",
    "    end_time = time.time()\n",
    "    \n",
    "    # Obtener las métricas de entrenamiento y validación\n",
    "    train_acc = history.history['sparse_categorical_accuracy'][-1]\n",
    "    val_acc = history.history['val_sparse_categorical_accuracy'][-1]\n",
    "    \n",
    "    # Actualizar el mejor resultado si este es mejor que el anterior\n",
    "    if val_acc > best_val_accuracy:\n",
    "        best_val_accuracy = val_acc\n",
    "        best_lr = lr\n",
    "        best_results_dropout = {\n",
    "            'Red neuronal con SELU y Dropout': {\n",
    "                'Tasa de aprendizaje': lr,\n",
    "                'Entrenamiento sparse categorical accuracy': train_acc,\n",
    "                'Validación sparse categorical accuracy': val_acc,\n",
    "                'Tiempo total (s)': end_time - start_time\n",
    "            }\n",
    "        }\n",
    "\n",
    "# Imprimir los mejores resultados\n",
    "print(\"Mejor tasa de aprendizaje con SELU y Dropout:\", best_lr)\n",
    "print(\"Resultados del mejor modelo con SELU y Dropout:\")\n",
    "print(best_results_dropout)\n"
   ]
  },
  {
   "cell_type": "code",
   "execution_count": 37,
   "metadata": {},
   "outputs": [
    {
     "name": "stdout",
     "output_type": "stream",
     "text": [
      "Resultados finales con SELU, Dropout y detención temprana:\n",
      "{'Red neuronal con SELU, Dropout y detención temprana': {'Tasa de aprendizaje': 0.0001, 'Entrenamiento sparse categorical accuracy': 0.10000000149011612, 'Validación sparse categorical accuracy': 0.10440000146627426, 'Tiempo total (s)': 64.95447444915771, 'Mejor época': 1}}\n"
     ]
    }
   ],
   "source": [
    "# Repetimos D\n",
    "# Configurar el optimizador con la mejor tasa de aprendizaje\n",
    "optimizer = Nadam(learning_rate=best_lr)\n",
    "\n",
    "# Recompilar el modelo con el optimizador ajustado\n",
    "model_with_selu_dropout.compile(optimizer=optimizer,\n",
    "                                loss=SparseCategoricalCrossentropy(),\n",
    "                                metrics=[SparseCategoricalAccuracy()])\n",
    "\n",
    "# Crear el callback de detención temprana\n",
    "early_stopping_cb = EarlyStopping(monitor='val_sparse_categorical_accuracy', patience=5, restore_best_weights=True)\n",
    "\n",
    "# Configurar los callbacks\n",
    "callbacks = [early_stopping_cb]\n",
    "\n",
    "# Entrenar el modelo con la detención temprana y medir el tiempo\n",
    "start_time = time.time()\n",
    "history = model_with_selu_dropout.fit(x_train_standardized, y_train, epochs=50, validation_data=(x_val_standardized, y_val),\n",
    "                                      batch_size=32, verbose=0, callbacks=callbacks)\n",
    "end_time = time.time()\n",
    "\n",
    "# Evaluar el modelo con las mejores épocas restauradas\n",
    "train_loss, train_acc = model_with_selu_dropout.evaluate(x_train_standardized, y_train, verbose=0)\n",
    "val_loss, val_acc = model_with_selu_dropout.evaluate(x_val_standardized, y_val, verbose=0)\n",
    "\n",
    "# Calcular la mejor época alcanzada durante el entrenamiento\n",
    "best_epoch = early_stopping_cb.stopped_epoch - early_stopping_cb.patience + 1\n",
    "\n",
    "# Guardar los resultados en el diccionario\n",
    "final_results_dropout = {\n",
    "    'Red neuronal con SELU, Dropout y detención temprana': {\n",
    "        'Tasa de aprendizaje': best_lr,\n",
    "        'Entrenamiento sparse categorical accuracy': train_acc,\n",
    "        'Validación sparse categorical accuracy': val_acc,\n",
    "        'Tiempo total (s)': end_time - start_time,\n",
    "        'Mejor época': best_epoch\n",
    "    }\n",
    "}\n",
    "\n",
    "# Imprimir los resultados finales\n",
    "print(\"Resultados finales con SELU, Dropout y detención temprana:\")\n",
    "print(final_results_dropout)\n"
   ]
  }
 ],
 "metadata": {
  "kernelspec": {
   "display_name": "ia",
   "language": "python",
   "name": "python3"
  },
  "language_info": {
   "codemirror_mode": {
    "name": "ipython",
    "version": 3
   },
   "file_extension": ".py",
   "mimetype": "text/x-python",
   "name": "python",
   "nbconvert_exporter": "python",
   "pygments_lexer": "ipython3",
   "version": "3.11.11"
  },
  "nav_menu": {
   "height": "360px",
   "width": "416px"
  },
  "toc": {
   "navigate_menu": true,
   "number_sections": true,
   "sideBar": true,
   "threshold": 6,
   "toc_cell": false,
   "toc_section_display": "block",
   "toc_window_display": false
  }
 },
 "nbformat": 4,
 "nbformat_minor": 4
}
