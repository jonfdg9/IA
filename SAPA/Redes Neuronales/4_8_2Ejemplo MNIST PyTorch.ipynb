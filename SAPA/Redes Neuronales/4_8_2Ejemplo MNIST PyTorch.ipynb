{
 "cells": [
  {
   "cell_type": "code",
   "execution_count": 1,
   "metadata": {},
   "outputs": [],
   "source": [
    "import torch\n",
    "import torchvision.datasets as datasets\n",
    "import torchvision.transforms as transforms\n",
    "import matplotlib.pyplot as plt\n",
    "import numpy as np"
   ]
  },
  {
   "cell_type": "markdown",
   "metadata": {
    "id": "odRizXZ-j279"
   },
   "source": [
    "# EJEMPLO MINST CON PYTORCH"
   ]
  },
  {
   "cell_type": "markdown",
   "metadata": {
    "id": "EuJ4zrMqkgX4"
   },
   "source": [
    "Carga y preprocesado de datos"
   ]
  },
  {
   "cell_type": "code",
   "execution_count": null,
   "metadata": {
    "executionInfo": {
     "elapsed": 1204,
     "status": "ok",
     "timestamp": 1691132496611,
     "user": {
      "displayName": "Javi Gallego",
      "userId": "14277422833904600094"
     },
     "user_tz": -120
    },
    "id": "ped_SxLWj043"
   },
   "outputs": [
    {
     "ename": "TypeError",
     "evalue": "MNIST.__init__() missing 1 required positional argument: 'root'",
     "output_type": "error",
     "traceback": [
      "\u001b[0;31m---------------------------------------------------------------------------\u001b[0m",
      "\u001b[0;31mTypeError\u001b[0m                                 Traceback (most recent call last)",
      "Cell \u001b[0;32mIn[2], line 26\u001b[0m\n\u001b[1;32m     19\u001b[0m val_loader \u001b[38;5;241m=\u001b[39m torch\u001b[38;5;241m.\u001b[39mutils\u001b[38;5;241m.\u001b[39mdata\u001b[38;5;241m.\u001b[39mDataLoader(\n\u001b[1;32m     20\u001b[0m     val_set,        \u001b[38;5;66;03m# Dataset sobre el que iterar\u001b[39;00m\n\u001b[1;32m     21\u001b[0m     batch_size\u001b[38;5;241m=\u001b[39mtam_batch,\n\u001b[1;32m     22\u001b[0m     shuffle\u001b[38;5;241m=\u001b[39m\u001b[38;5;28;01mTrue\u001b[39;00m    \u001b[38;5;66;03m# Se mezclan los datos en cada época de entrenamiento\u001b[39;00m\n\u001b[1;32m     23\u001b[0m )\n\u001b[1;32m     25\u001b[0m \u001b[38;5;66;03m# Datos de test\u001b[39;00m\n\u001b[0;32m---> 26\u001b[0m test_dataset \u001b[38;5;241m=\u001b[39m \u001b[43mdatasets\u001b[49m\u001b[38;5;241;43m.\u001b[39;49m\u001b[43mMNIST\u001b[49m\u001b[43m(\u001b[49m\n\u001b[1;32m     27\u001b[0m \u001b[43m    \u001b[49m\u001b[43mtrain\u001b[49m\u001b[38;5;241;43m=\u001b[39;49m\u001b[38;5;28;43;01mFalse\u001b[39;49;00m\u001b[43m,\u001b[49m\u001b[43m    \u001b[49m\u001b[38;5;66;43;03m# Datos de test\u001b[39;49;00m\n\u001b[1;32m     28\u001b[0m \u001b[43m    \u001b[49m\u001b[43mtransform\u001b[49m\u001b[38;5;241;43m=\u001b[39;49m\u001b[43mtransforms\u001b[49m\u001b[38;5;241;43m.\u001b[39;49m\u001b[43mToTensor\u001b[49m\u001b[43m(\u001b[49m\u001b[43m)\u001b[49m\u001b[43m,\u001b[49m\u001b[43m \u001b[49m\u001b[38;5;66;43;03m# Conversión más normalización\u001b[39;49;00m\n\u001b[1;32m     29\u001b[0m \u001b[43m    \u001b[49m\u001b[43mdownload\u001b[49m\u001b[38;5;241;43m=\u001b[39;49m\u001b[38;5;28;43;01mFalse\u001b[39;49;00m\u001b[43m   \u001b[49m\n\u001b[1;32m     30\u001b[0m \u001b[43m)\u001b[49m\n\u001b[1;32m     31\u001b[0m test_loader \u001b[38;5;241m=\u001b[39m torch\u001b[38;5;241m.\u001b[39mutils\u001b[38;5;241m.\u001b[39mdata\u001b[38;5;241m.\u001b[39mDataLoader(\n\u001b[1;32m     32\u001b[0m     test_dataset,\n\u001b[1;32m     33\u001b[0m     batch_size\u001b[38;5;241m=\u001b[39mtam_batch,\n\u001b[1;32m     34\u001b[0m     shuffle\u001b[38;5;241m=\u001b[39m\u001b[38;5;28;01mFalse\u001b[39;00m   \u001b[38;5;66;03m# Los datos se evalúan siempre en el mismo orden\u001b[39;00m\n\u001b[1;32m     35\u001b[0m )\n",
      "\u001b[0;31mTypeError\u001b[0m: MNIST.__init__() missing 1 required positional argument: 'root'"
     ]
    }
   ],
   "source": [
    "tam_batch = 32\n",
    "\n",
    "# Datos de entrenamiento:\n",
    "train_dataset = datasets.MNIST(\n",
    "    root='./Datos', # Ruta donde se almacenarán los datos descargados\n",
    "    train=True,     # Datos de entrenamiento\n",
    "    transform=transforms.ToTensor(), # Conversión más normalización\n",
    "    download=True   # Se descargan a la carpeta indicada en root\n",
    ")\n",
    "\n",
    "train_set, val_set = torch.utils.data.random_split(train_dataset, [50000, 10000])\n",
    "\n",
    "train_loader = torch.utils.data.DataLoader(\n",
    "    train_set,      # Dataset sobre el que iterar\n",
    "    batch_size=tam_batch,\n",
    "    shuffle=True    # Se mezclan los datos en cada época de entrenamiento\n",
    ")\n",
    "\n",
    "val_loader = torch.utils.data.DataLoader(\n",
    "    val_set,        # Dataset sobre el que iterar\n",
    "    batch_size=tam_batch,\n",
    "    shuffle=True    # Se mezclan los datos en cada época de entrenamiento\n",
    ")\n",
    "\n",
    "# Datos de test\n",
    "test_dataset = datasets.MNIST(\n",
    "    root='./Datos', # Misma ruta que los datos de entrenamiento\n",
    "    train=False,    # Datos de test\n",
    "    transform=transforms.ToTensor(), # Conversión más normalización\n",
    "    download=False   \n",
    ")\n",
    "test_loader = torch.utils.data.DataLoader(\n",
    "    test_dataset,\n",
    "    batch_size=tam_batch,\n",
    "    shuffle=False   # Los datos se evalúan siempre en el mismo orden\n",
    ")"
   ]
  },
  {
   "cell_type": "markdown",
   "metadata": {
    "id": "8KcYOE_Ok9HC"
   },
   "source": [
    "Visualización del aspecto de los datos"
   ]
  },
  {
   "cell_type": "code",
   "execution_count": null,
   "metadata": {
    "colab": {
     "base_uri": "https://localhost:8080/",
     "height": 519
    },
    "executionInfo": {
     "elapsed": 18,
     "status": "ok",
     "timestamp": 1691132497042,
     "user": {
      "displayName": "Javi Gallego",
      "userId": "14277422833904600094"
     },
     "user_tz": -120
    },
    "id": "keCFh9wFk9fo",
    "outputId": "e729b926-1abb-4db4-c72c-06321139e417"
   },
   "outputs": [
    {
     "name": "stdout",
     "output_type": "stream",
     "text": [
      "Tamaño del conjunto de entrenamiento: 50000\n",
      "Tamaño del conjunto de validación: 10000\n",
      "Tamaño del conjunto de test: 10000\n",
      "Tamaño de las imágenes: torch.Size([1, 28, 28])\n"
     ]
    },
    {
     "data": {
      "image/png": "[encoded data removed]",
      "text/plain": [
       "<Figure size 640x480 with 1 Axes>"
      ]
     },
     "metadata": {},
     "output_type": "display_data"
    },
    {
     "name": "stdout",
     "output_type": "stream",
     "text": [
      "Ejemplo de etiqueta: 4\n"
     ]
    }
   ],
   "source": [
    "\n",
    "\n",
    "# Dimensiones de los conjuntos de datos\n",
    "print(f'Tamaño del conjunto de entrenamiento: {len(train_set)}')\n",
    "print(f'Tamaño del conjunto de validación: {len(val_set)}')\n",
    "print(f'Tamaño del conjunto de test: {len(test_dataset)}')\n",
    "\n",
    "# Obtenemos un lote o batch de imágenes de entrenamiento\n",
    "imagenes, etiquetas = next(iter(train_loader))\n",
    "print(f'Tamaño de las imágenes: {imagenes.shape[1:]}')\n",
    "\n",
    "# Visualizamos un imagen junto a su etiqueta\n",
    "id_ejemplo = 10\n",
    "plt.imshow(np.squeeze(imagenes[id_ejemplo]), cmap='gray')\n",
    "plt.show()\n",
    "print(f'Ejemplo de etiqueta: {etiquetas[id_ejemplo]}')"
   ]
  },
  {
   "cell_type": "markdown",
   "metadata": {
    "id": "2I3hroEyldHc"
   },
   "source": [
    "Definición de la arquitectura de red"
   ]
  },
  {
   "cell_type": "code",
   "execution_count": 19,
   "metadata": {
    "executionInfo": {
     "elapsed": 1083,
     "status": "ok",
     "timestamp": 1691134992911,
     "user": {
      "displayName": "Javi Gallego",
      "userId": "14277422833904600094"
     },
     "user_tz": -120
    },
    "id": "yfAES8t8lcqQ"
   },
   "outputs": [],
   "source": [
    "import torch.nn as nn\n",
    "\n",
    "class MLP(nn.Module):\n",
    "  def __init__(self):\n",
    "    super(MLP, self).__init__()\n",
    "\n",
    "    self.backbone = nn.Sequential(\n",
    "        nn.Linear(in_features=784, out_features=512),\n",
    "        nn.ReLU(),\n",
    "        nn.Linear(in_features=512, out_features=10)\n",
    "    )\n",
    "\n",
    "  def forward(self, input):\n",
    "    input = torch.flatten(input.squeeze(1), start_dim=1, end_dim=2)\n",
    "    return self.backbone(input)\n"
   ]
  },
  {
   "cell_type": "markdown",
   "metadata": {
    "id": "p4dkWKsBlwaw"
   },
   "source": [
    "Creación del modelo, de la función de pérdida y del optimizador"
   ]
  },
  {
   "cell_type": "code",
   "execution_count": 11,
   "metadata": {
    "colab": {
     "base_uri": "https://localhost:8080/"
    },
    "executionInfo": {
     "elapsed": 16,
     "status": "ok",
     "timestamp": 1691132497044,
     "user": {
      "displayName": "Javi Gallego",
      "userId": "14277422833904600094"
     },
     "user_tz": -120
    },
    "id": "4pNKgikOlzb6",
    "outputId": "eb0ab0b2-f194-40ad-b173-f9e15ee35a8c"
   },
   "outputs": [
    {
     "name": "stdout",
     "output_type": "stream",
     "text": [
      "MLP(\n",
      "  (backbone): Sequential(\n",
      "    (0): Linear(in_features=784, out_features=512, bias=True)\n",
      "    (1): ReLU()\n",
      "    (2): Linear(in_features=512, out_features=10, bias=True)\n",
      "  )\n",
      ")\n",
      "Usando cuda\n"
     ]
    }
   ],
   "source": [
    "from torch import optim\n",
    "\n",
    "modelo = MLP()\n",
    "print(modelo)\n",
    "\n",
    "# Si disponemos de GPU, la usamos\n",
    "dispositivo = torch.device('cuda' if torch.cuda.is_available() else 'cpu')\n",
    "modelo.to(dispositivo)\n",
    "print(f'Usando {dispositivo}')\n",
    "\n",
    "func_perdida = nn.CrossEntropyLoss()\n",
    "optimizador = optim.Adam(modelo.parameters())\n"
   ]
  },
  {
   "cell_type": "markdown",
   "metadata": {
    "id": "7zJIGFtwl-oe"
   },
   "source": [
    "Función de entrenamiento del modelo"
   ]
  },
  {
   "cell_type": "code",
   "execution_count": 12,
   "metadata": {
    "executionInfo": {
     "elapsed": 13,
     "status": "ok",
     "timestamp": 1691132497044,
     "user": {
      "displayName": "Javi Gallego",
      "userId": "14277422833904600094"
     },
     "user_tz": -120
    },
    "id": "LJOyc_Dwl6rK"
   },
   "outputs": [],
   "source": [
    "def epoca_train(modelo, train_loader, optimizador, func_perdida, dispositivo):\n",
    "    epoca_perdidas = []\n",
    "\n",
    "    # Iteramos sobre los datos de entrenamiento\n",
    "    for i, (imagenes, etiquetas) in enumerate(train_loader):\n",
    "        # Si es posible, transferimos los datos a la GPU\n",
    "        imagenes = imagenes.to(dispositivo)\n",
    "        etiquetas = etiquetas.to(dispositivo)\n",
    "\n",
    "        # Ponemos los gradientes a cero\n",
    "        optimizador.zero_grad()\n",
    "\n",
    "        # Calculamos las salidas de la red neuronal\n",
    "        # para las imágenes de entrada\n",
    "        salidas = modelo(imagenes)\n",
    "\n",
    "        # Calculamos la pérdida de la red neuronal\n",
    "        perdida = func_perdida(salidas, etiquetas)\n",
    "\n",
    "        # Calculamos los gradientes de la pérdida\n",
    "        # respecto a los parámetros de la red neuronal\n",
    "        perdida.backward()\n",
    "\n",
    "        # Actualizamos los parámetros de la red neuronal\n",
    "        # usando el algoritmo de optimización\n",
    "        optimizador.step()\n",
    "\n",
    "        # Añadimos a la lista de pérdidas la pérdida actual\n",
    "        epoca_perdidas.append(perdida.item())\n",
    "\n",
    "    # Calculamos la media de las pérdidas para una época\n",
    "    return sum(epoca_perdidas) / len(epoca_perdidas)"
   ]
  },
  {
   "cell_type": "markdown",
   "metadata": {
    "id": "DeDW7zxQmBni"
   },
   "source": [
    "Función de evaluación del modelo"
   ]
  },
  {
   "cell_type": "code",
   "execution_count": 13,
   "metadata": {
    "executionInfo": {
     "elapsed": 13,
     "status": "ok",
     "timestamp": 1691132497045,
     "user": {
      "displayName": "Javi Gallego",
      "userId": "14277422833904600094"
     },
     "user_tz": -120
    },
    "id": "zYD1axQbmGdI"
   },
   "outputs": [],
   "source": [
    "def epoca_test(modelo, test_loader, dispositivo):\n",
    "    # Establecemos la red neuronal en modo de evaluación\n",
    "    modelo.eval()\n",
    "\n",
    "    # Desactivamos el cálculo de gradientes\n",
    "    with torch.no_grad():\n",
    "        correcto = 0\n",
    "        total = 0\n",
    "\n",
    "        # Iteramos sobre los datos de test\n",
    "        for imagenes, etiquetas in test_loader:\n",
    "            # Si es posible, transferimos los datos a la GPU\n",
    "            imagenes = imagenes.to(dispositivo)\n",
    "            etiquetas = etiquetas.to(dispositivo)\n",
    "\n",
    "            # Calculamos las salidas de la red neuronal\n",
    "            # para las imágenes de entrada\n",
    "            salidas = modelo(imagenes)\n",
    "\n",
    "            # Calculamos las probabilidades de las clases\n",
    "            salidas = salidas.softmax(dim=1)\n",
    "\n",
    "            # Obtenemos la clase con mayor probabilidad\n",
    "            prediccion = salidas.argmax(dim=1)\n",
    "\n",
    "            # Incrementamos el contador de imágenes procesadas\n",
    "            total += etiquetas.size(0)\n",
    "\n",
    "            # Incrementamos el contador de imágenes\n",
    "            # clasificadas correctamente\n",
    "            correcto += (prediccion == etiquetas).sum().item()\n",
    "\n",
    "        # Calculamos la exactitud\n",
    "        exactitud = 100 * correcto / total\n",
    "\n",
    "    # Establecemos la red neuronal en modo entrenamiento\n",
    "    modelo.train()\n",
    "    return exactitud"
   ]
  },
  {
   "cell_type": "markdown",
   "metadata": {
    "id": "PGDIdsYjmKow"
   },
   "source": [
    "Entrenamiento del modelo"
   ]
  },
  {
   "cell_type": "code",
   "execution_count": 14,
   "metadata": {
    "colab": {
     "base_uri": "https://localhost:8080/"
    },
    "executionInfo": {
     "elapsed": 235424,
     "status": "ok",
     "timestamp": 1691132732455,
     "user": {
      "displayName": "Javi Gallego",
      "userId": "14277422833904600094"
     },
     "user_tz": -120
    },
    "id": "PC1YccMmmM2y",
    "outputId": "31317fcd-277d-4e45-fed7-e737927cadba"
   },
   "outputs": [
    {
     "name": "stdout",
     "output_type": "stream",
     "text": [
      "Época 1/15,            pérdida=0.2435,            exactitud_train=97.02%,            exactitud_validacion=96.27%\n",
      "Época 2/15,            pérdida=0.0950,            exactitud_train=98.28%,            exactitud_validacion=97.11%\n",
      "Época 3/15,            pérdida=0.0611,            exactitud_train=98.69%,            exactitud_validacion=97.57%\n",
      "Época 4/15,            pérdida=0.0426,            exactitud_train=99.38%,            exactitud_validacion=97.72%\n",
      "Época 5/15,            pérdida=0.0291,            exactitud_train=99.05%,            exactitud_validacion=97.60%\n",
      "Época 6/15,            pérdida=0.0230,            exactitud_train=99.52%,            exactitud_validacion=98.01%\n",
      "Época 7/15,            pérdida=0.0179,            exactitud_train=99.64%,            exactitud_validacion=97.90%\n",
      "Época 8/15,            pérdida=0.0139,            exactitud_train=99.72%,            exactitud_validacion=97.96%\n",
      "Época 9/15,            pérdida=0.0121,            exactitud_train=99.79%,            exactitud_validacion=98.09%\n",
      "Época 10/15,            pérdida=0.0103,            exactitud_train=99.59%,            exactitud_validacion=97.71%\n",
      "Época 11/15,            pérdida=0.0103,            exactitud_train=99.71%,            exactitud_validacion=97.90%\n",
      "Época 12/15,            pérdida=0.0077,            exactitud_train=99.63%,            exactitud_validacion=97.77%\n",
      "Época 13/15,            pérdida=0.0083,            exactitud_train=99.65%,            exactitud_validacion=97.60%\n",
      "Época 14/15,            pérdida=0.0073,            exactitud_train=99.94%,            exactitud_validacion=98.01%\n",
      "Época 15/15,            pérdida=0.0061,            exactitud_train=99.78%,            exactitud_validacion=97.78%\n",
      "Fin del entrenamiento.\n"
     ]
    }
   ],
   "source": [
    "# Histórico de valores de exactitud de entrenamiento\n",
    "train_accs = []\n",
    "\n",
    "# Histórico de valores de exactitud de test\n",
    "val_accs = []\n",
    "\n",
    "# Definimos el número de épocas de entrenamiento\n",
    "epocas = 15\n",
    "\n",
    "# Iteramos por cada época\n",
    "for epoca in range(epocas):\n",
    "    # Entrenamos la red neuronal por una época\n",
    "    train_perdida = epoca_train(\n",
    "        modelo, train_loader, optimizador, func_perdida, dispositivo)\n",
    "\n",
    "    # Calculamos la exactitud para los datos de entrenamiento\n",
    "    train_acc = epoca_test(modelo, train_loader, dispositivo)\n",
    "    train_accs.append(train_acc)\n",
    "\n",
    "    # Calculamos la exactitud para los datos de test\n",
    "    val_acc = epoca_test(modelo, val_loader, dispositivo)\n",
    "    val_accs.append(val_acc)\n",
    "\n",
    "    # Sacamos los resultados por pantalla\n",
    "    print(f'Época {epoca+1}/{epocas},\\\n",
    "            pérdida={train_perdida:.4f},\\\n",
    "            exactitud_train={train_acc:.2f}%,\\\n",
    "            exactitud_validacion={val_acc:.2f}%')\n",
    "\n",
    "# Se ha completado el entrenamiento de la red neuronal\n",
    "print('Fin del entrenamiento.')"
   ]
  },
  {
   "cell_type": "markdown",
   "metadata": {
    "id": "LLZy6PmQmSKo"
   },
   "source": [
    "Visualización de los resultados en entrenamiento y validación"
   ]
  },
  {
   "cell_type": "code",
   "execution_count": 15,
   "metadata": {
    "colab": {
     "base_uri": "https://localhost:8080/",
     "height": 451
    },
    "executionInfo": {
     "elapsed": 31,
     "status": "ok",
     "timestamp": 1691132732457,
     "user": {
      "displayName": "Javi Gallego",
      "userId": "14277422833904600094"
     },
     "user_tz": -120
    },
    "id": "LBPy5AlMmSh-",
    "outputId": "c40eb9d3-0b3c-42af-8b20-ef65d0089bed"
   },
   "outputs": [
    {
     "data": {
      "image/png": "[encoded data removed]",
      "text/plain": [
       "<Figure size 640x480 with 1 Axes>"
      ]
     },
     "metadata": {},
     "output_type": "display_data"
    }
   ],
   "source": [
    "plt.plot(train_accs)\n",
    "plt.plot(val_accs)\n",
    "plt.xlabel('Época')         # Eje X - Época\n",
    "plt.ylabel('Exactitud (%)') # Eje Y - Exactitud\n",
    "plt.legend(['Entrenamiento', 'Validacion'])\n",
    "plt.show()"
   ]
  },
  {
   "cell_type": "markdown",
   "metadata": {
    "id": "X7S1oXzumcBe"
   },
   "source": [
    "Evaluación del modelo con el conjunto de test"
   ]
  },
  {
   "cell_type": "code",
   "execution_count": 16,
   "metadata": {
    "colab": {
     "base_uri": "https://localhost:8080/"
    },
    "executionInfo": {
     "elapsed": 1144,
     "status": "ok",
     "timestamp": 1691132733582,
     "user": {
      "displayName": "Javi Gallego",
      "userId": "14277422833904600094"
     },
     "user_tz": -120
    },
    "id": "D0G4Q6YZmepw",
    "outputId": "ac832482-5ab2-456c-90c9-1eec098dbf42"
   },
   "outputs": [
    {
     "name": "stdout",
     "output_type": "stream",
     "text": [
      "Exactitud test: 97.85%\n"
     ]
    }
   ],
   "source": [
    "test_acc = epoca_test(modelo, test_loader, dispositivo)\n",
    "\n",
    "print(f\"Exactitud test: {test_acc:.2f}%\")"
   ]
  },
  {
   "cell_type": "markdown",
   "metadata": {
    "id": "9cFG9sgSmiGc"
   },
   "source": [
    "Guardado del modelo"
   ]
  },
  {
   "cell_type": "code",
   "execution_count": 17,
   "metadata": {
    "executionInfo": {
     "elapsed": 7,
     "status": "ok",
     "timestamp": 1691132733584,
     "user": {
      "displayName": "Javi Gallego",
      "userId": "14277422833904600094"
     },
     "user_tz": -120
    },
    "id": "T0jIP17UmiZv"
   },
   "outputs": [],
   "source": [
    "torch.save(modelo.state_dict(), 'pesos.pth')"
   ]
  },
  {
   "cell_type": "markdown",
   "metadata": {
    "id": "B8q3_u-omsCY"
   },
   "source": [
    "Carga y evaluación del modelo"
   ]
  },
  {
   "cell_type": "code",
   "execution_count": 18,
   "metadata": {
    "colab": {
     "base_uri": "https://localhost:8080/"
    },
    "executionInfo": {
     "elapsed": 2509,
     "status": "ok",
     "timestamp": 1691132736089,
     "user": {
      "displayName": "Javi Gallego",
      "userId": "14277422833904600094"
     },
     "user_tz": -120
    },
    "id": "F0hDFEWamus8",
    "outputId": "e1ced73f-0cd1-421f-cb6d-ee2b99c06ef8"
   },
   "outputs": [
    {
     "name": "stdout",
     "output_type": "stream",
     "text": [
      "Exactitud test: 97.85%\n"
     ]
    }
   ],
   "source": [
    "nuevo_modelo = MLP()\n",
    "nuevo_modelo.load_state_dict(torch.load('pesos.pth'))\n",
    "nuevo_modelo.to(dispositivo)\n",
    "\n",
    "test_acc = epoca_test(nuevo_modelo, test_loader, dispositivo)\n",
    "\n",
    "print(f\"Exactitud test: {test_acc:.2f}%\")"
   ]
  }
 ],
 "metadata": {
  "accelerator": "GPU",
  "colab": {
   "gpuType": "T4",
   "provenance": [],
   "toc_visible": true
  },
  "kernelspec": {
   "display_name": "sapa",
   "language": "python",
   "name": "python3"
  },
  "language_info": {
   "codemirror_mode": {
    "name": "ipython",
    "version": 3
   },
   "file_extension": ".py",
   "mimetype": "text/x-python",
   "name": "python",
   "nbconvert_exporter": "python",
   "pygments_lexer": "ipython3",
   "version": "3.12.4"
  }
 },
 "nbformat": 4,
 "nbformat_minor": 0
}
