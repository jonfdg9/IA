{
 "cells": [
  {
   "cell_type": "markdown",
   "metadata": {},
   "source": [
    "# EJERCICIOS"
   ]
  },
  {
   "cell_type": "code",
   "execution_count": 106,
   "metadata": {},
   "outputs": [],
   "source": [
    "import numpy as np\n",
    "import joblib\n",
    "import seaborn as sns\n",
    "import pandas as pd\n",
    "import matplotlib.pyplot as plt\n",
    "import warnings\n",
    "from sklearn.datasets import load_diabetes, load_iris\n",
    "from sklearn.model_selection import train_test_split, cross_val_score, GridSearchCV, cross_val_predict\n",
    "from sklearn.linear_model import LinearRegression, SGDRegressor, Ridge, Lasso, ElasticNet,LogisticRegression\n",
    "from sklearn.svm import LinearSVR,SVR\n",
    "from sklearn.metrics import confusion_matrix, precision_score, recall_score, f1_score, accuracy_score, root_mean_squared_error, roc_curve, auc\n",
    "from sklearn.preprocessing import PolynomialFeatures, StandardScaler\n",
    "from sklearn.pipeline import make_pipeline\n",
    "from sklearn.exceptions import ConvergenceWarning\n",
    "from sklearn.tree import DecisionTreeRegressor, export_graphviz"
   ]
  },
  {
   "cell_type": "code",
   "execution_count": 76,
   "metadata": {},
   "outputs": [],
   "source": [
    "warnings.filterwarnings(\"ignore\", category=FutureWarning)"
   ]
  },
  {
   "cell_type": "markdown",
   "metadata": {},
   "source": [
    "## EJERCICIO 1"
   ]
  },
  {
   "cell_type": "markdown",
   "metadata": {},
   "source": [
    "Imagina que estás usando regresión polinomial. Trazas las curvas de aprendizaje y te das cuenta de que hay un espacio grande entre el error de entrenamiento y el error de validación. ¿Qué está pasando? Piensa en tres formas de poder arreglarlo"
   ]
  },
  {
   "cell_type": "code",
   "execution_count": 77,
   "metadata": {},
   "outputs": [],
   "source": [
    "#El modelo esta sobreentrenado, es decir el polinomio tiene un grado demasiado alto. Tres formas de arreglarlo serian:\n",
    "# 1. Reducir el grado del polinomio. Esto reduce la complejidad del modelo y ayuda a evitar que se sobreajuste a los \n",
    "# datos de entrenamiento.\n",
    "# 2. Aumentar la cantidad de datos. Esto permite que el modelo generalice mejor porque tiene más ejemplos para \n",
    "# aprender patrones reales en lugar de ruidos.\n",
    "# 3. Aplicar regularización. Ayuda a limitar la complejidad del modelo penalizando los coeficientes más grandes \n",
    "# del polinomio."
   ]
  },
  {
   "cell_type": "markdown",
   "metadata": {},
   "source": [
    "## EJERCICIO 2"
   ]
  },
  {
   "cell_type": "markdown",
   "metadata": {},
   "source": [
    "Imagina que estás utilizando regresión de Ridge y observas que el error de entrenamiento y el error de validación son casi iguales y bastante altos. ¿Deberías incrementar el hiperparámetro de regularización o reducirlo (α)?"
   ]
  },
  {
   "cell_type": "code",
   "execution_count": null,
   "metadata": {},
   "outputs": [],
   "source": []
  },
  {
   "cell_type": "markdown",
   "metadata": {},
   "source": [
    "## EJERCICIO 3"
   ]
  },
  {
   "cell_type": "markdown",
   "metadata": {},
   "source": [
    "Ejercicio de Regresión con el Conjunto de Datos de Diabetes\n",
    "\n",
    "* Objetivo: El objetivo de este ejercicio es desarrollar un modelo de regresión que pueda predecir la progresión de la diabetes un año después del inicio basándose en diversas mediciones clínicas.\n",
    "\n",
    "* Datos: Utilizarás el conjunto de datos de diabetes proporcionado por Scikit-Learn, que contiene diez variables base (edad, sexo, índice de masa corporal, presión arterial y seis mediciones de suero sanguíneo) para 442 pacientes."
   ]
  },
  {
   "cell_type": "markdown",
   "metadata": {},
   "source": [
    "### RECOPILACIÓN Y PREPARACIÓN DE LOS DATOS"
   ]
  },
  {
   "cell_type": "markdown",
   "metadata": {},
   "source": [
    "#### OBTENER LOS DATOS"
   ]
  },
  {
   "cell_type": "code",
   "execution_count": 78,
   "metadata": {},
   "outputs": [],
   "source": [
    "dataset = load_diabetes(as_frame=True)\n",
    "X, y = dataset.data, dataset.target"
   ]
  },
  {
   "cell_type": "markdown",
   "metadata": {},
   "source": [
    "#### EXPLORAR LOS DATOS"
   ]
  },
  {
   "cell_type": "markdown",
   "metadata": {},
   "source": [
    "Muestra los primero datos de X e y"
   ]
  },
  {
   "cell_type": "code",
   "execution_count": 79,
   "metadata": {},
   "outputs": [
    {
     "data": {
      "text/html": [
       "<div>\n",
       "<style scoped>\n",
       "    .dataframe tbody tr th:only-of-type {\n",
       "        vertical-align: middle;\n",
       "    }\n",
       "\n",
       "    .dataframe tbody tr th {\n",
       "        vertical-align: top;\n",
       "    }\n",
       "\n",
       "    .dataframe thead th {\n",
       "        text-align: right;\n",
       "    }\n",
       "</style>\n",
       "<table border=\"1\" class=\"dataframe\">\n",
       "  <thead>\n",
       "    <tr style=\"text-align: right;\">\n",
       "      <th></th>\n",
       "      <th>age</th>\n",
       "      <th>sex</th>\n",
       "      <th>bmi</th>\n",
       "      <th>bp</th>\n",
       "      <th>s1</th>\n",
       "      <th>s2</th>\n",
       "      <th>s3</th>\n",
       "      <th>s4</th>\n",
       "      <th>s5</th>\n",
       "      <th>s6</th>\n",
       "    </tr>\n",
       "  </thead>\n",
       "  <tbody>\n",
       "    <tr>\n",
       "      <th>0</th>\n",
       "      <td>0.038076</td>\n",
       "      <td>0.050680</td>\n",
       "      <td>0.061696</td>\n",
       "      <td>0.021872</td>\n",
       "      <td>-0.044223</td>\n",
       "      <td>-0.034821</td>\n",
       "      <td>-0.043401</td>\n",
       "      <td>-0.002592</td>\n",
       "      <td>0.019907</td>\n",
       "      <td>-0.017646</td>\n",
       "    </tr>\n",
       "    <tr>\n",
       "      <th>1</th>\n",
       "      <td>-0.001882</td>\n",
       "      <td>-0.044642</td>\n",
       "      <td>-0.051474</td>\n",
       "      <td>-0.026328</td>\n",
       "      <td>-0.008449</td>\n",
       "      <td>-0.019163</td>\n",
       "      <td>0.074412</td>\n",
       "      <td>-0.039493</td>\n",
       "      <td>-0.068332</td>\n",
       "      <td>-0.092204</td>\n",
       "    </tr>\n",
       "    <tr>\n",
       "      <th>2</th>\n",
       "      <td>0.085299</td>\n",
       "      <td>0.050680</td>\n",
       "      <td>0.044451</td>\n",
       "      <td>-0.005670</td>\n",
       "      <td>-0.045599</td>\n",
       "      <td>-0.034194</td>\n",
       "      <td>-0.032356</td>\n",
       "      <td>-0.002592</td>\n",
       "      <td>0.002861</td>\n",
       "      <td>-0.025930</td>\n",
       "    </tr>\n",
       "    <tr>\n",
       "      <th>3</th>\n",
       "      <td>-0.089063</td>\n",
       "      <td>-0.044642</td>\n",
       "      <td>-0.011595</td>\n",
       "      <td>-0.036656</td>\n",
       "      <td>0.012191</td>\n",
       "      <td>0.024991</td>\n",
       "      <td>-0.036038</td>\n",
       "      <td>0.034309</td>\n",
       "      <td>0.022688</td>\n",
       "      <td>-0.009362</td>\n",
       "    </tr>\n",
       "    <tr>\n",
       "      <th>4</th>\n",
       "      <td>0.005383</td>\n",
       "      <td>-0.044642</td>\n",
       "      <td>-0.036385</td>\n",
       "      <td>0.021872</td>\n",
       "      <td>0.003935</td>\n",
       "      <td>0.015596</td>\n",
       "      <td>0.008142</td>\n",
       "      <td>-0.002592</td>\n",
       "      <td>-0.031988</td>\n",
       "      <td>-0.046641</td>\n",
       "    </tr>\n",
       "  </tbody>\n",
       "</table>\n",
       "</div>"
      ],
      "text/plain": [
       "        age       sex       bmi        bp        s1        s2        s3  \\\n",
       "0  0.038076  0.050680  0.061696  0.021872 -0.044223 -0.034821 -0.043401   \n",
       "1 -0.001882 -0.044642 -0.051474 -0.026328 -0.008449 -0.019163  0.074412   \n",
       "2  0.085299  0.050680  0.044451 -0.005670 -0.045599 -0.034194 -0.032356   \n",
       "3 -0.089063 -0.044642 -0.011595 -0.036656  0.012191  0.024991 -0.036038   \n",
       "4  0.005383 -0.044642 -0.036385  0.021872  0.003935  0.015596  0.008142   \n",
       "\n",
       "         s4        s5        s6  \n",
       "0 -0.002592  0.019907 -0.017646  \n",
       "1 -0.039493 -0.068332 -0.092204  \n",
       "2 -0.002592  0.002861 -0.025930  \n",
       "3  0.034309  0.022688 -0.009362  \n",
       "4 -0.002592 -0.031988 -0.046641  "
      ]
     },
     "execution_count": 79,
     "metadata": {},
     "output_type": "execute_result"
    }
   ],
   "source": [
    "X.head()"
   ]
  },
  {
   "cell_type": "code",
   "execution_count": 80,
   "metadata": {},
   "outputs": [
    {
     "data": {
      "text/plain": [
       "0    151.0\n",
       "1     75.0\n",
       "2    141.0\n",
       "3    206.0\n",
       "4    135.0\n",
       "Name: target, dtype: float64"
      ]
     },
     "execution_count": 80,
     "metadata": {},
     "output_type": "execute_result"
    }
   ],
   "source": [
    "y.head()"
   ]
  },
  {
   "cell_type": "markdown",
   "metadata": {},
   "source": [
    "Usa .describe y .info para ver un poco de información"
   ]
  },
  {
   "cell_type": "code",
   "execution_count": 81,
   "metadata": {},
   "outputs": [
    {
     "data": {
      "text/html": [
       "<div>\n",
       "<style scoped>\n",
       "    .dataframe tbody tr th:only-of-type {\n",
       "        vertical-align: middle;\n",
       "    }\n",
       "\n",
       "    .dataframe tbody tr th {\n",
       "        vertical-align: top;\n",
       "    }\n",
       "\n",
       "    .dataframe thead th {\n",
       "        text-align: right;\n",
       "    }\n",
       "</style>\n",
       "<table border=\"1\" class=\"dataframe\">\n",
       "  <thead>\n",
       "    <tr style=\"text-align: right;\">\n",
       "      <th></th>\n",
       "      <th>age</th>\n",
       "      <th>sex</th>\n",
       "      <th>bmi</th>\n",
       "      <th>bp</th>\n",
       "      <th>s1</th>\n",
       "      <th>s2</th>\n",
       "      <th>s3</th>\n",
       "      <th>s4</th>\n",
       "      <th>s5</th>\n",
       "      <th>s6</th>\n",
       "    </tr>\n",
       "  </thead>\n",
       "  <tbody>\n",
       "    <tr>\n",
       "      <th>count</th>\n",
       "      <td>4.420000e+02</td>\n",
       "      <td>4.420000e+02</td>\n",
       "      <td>4.420000e+02</td>\n",
       "      <td>4.420000e+02</td>\n",
       "      <td>4.420000e+02</td>\n",
       "      <td>4.420000e+02</td>\n",
       "      <td>4.420000e+02</td>\n",
       "      <td>4.420000e+02</td>\n",
       "      <td>4.420000e+02</td>\n",
       "      <td>4.420000e+02</td>\n",
       "    </tr>\n",
       "    <tr>\n",
       "      <th>mean</th>\n",
       "      <td>-2.511817e-19</td>\n",
       "      <td>1.230790e-17</td>\n",
       "      <td>-2.245564e-16</td>\n",
       "      <td>-4.797570e-17</td>\n",
       "      <td>-1.381499e-17</td>\n",
       "      <td>3.918434e-17</td>\n",
       "      <td>-5.777179e-18</td>\n",
       "      <td>-9.042540e-18</td>\n",
       "      <td>9.293722e-17</td>\n",
       "      <td>1.130318e-17</td>\n",
       "    </tr>\n",
       "    <tr>\n",
       "      <th>std</th>\n",
       "      <td>4.761905e-02</td>\n",
       "      <td>4.761905e-02</td>\n",
       "      <td>4.761905e-02</td>\n",
       "      <td>4.761905e-02</td>\n",
       "      <td>4.761905e-02</td>\n",
       "      <td>4.761905e-02</td>\n",
       "      <td>4.761905e-02</td>\n",
       "      <td>4.761905e-02</td>\n",
       "      <td>4.761905e-02</td>\n",
       "      <td>4.761905e-02</td>\n",
       "    </tr>\n",
       "    <tr>\n",
       "      <th>min</th>\n",
       "      <td>-1.072256e-01</td>\n",
       "      <td>-4.464164e-02</td>\n",
       "      <td>-9.027530e-02</td>\n",
       "      <td>-1.123988e-01</td>\n",
       "      <td>-1.267807e-01</td>\n",
       "      <td>-1.156131e-01</td>\n",
       "      <td>-1.023071e-01</td>\n",
       "      <td>-7.639450e-02</td>\n",
       "      <td>-1.260971e-01</td>\n",
       "      <td>-1.377672e-01</td>\n",
       "    </tr>\n",
       "    <tr>\n",
       "      <th>25%</th>\n",
       "      <td>-3.729927e-02</td>\n",
       "      <td>-4.464164e-02</td>\n",
       "      <td>-3.422907e-02</td>\n",
       "      <td>-3.665608e-02</td>\n",
       "      <td>-3.424784e-02</td>\n",
       "      <td>-3.035840e-02</td>\n",
       "      <td>-3.511716e-02</td>\n",
       "      <td>-3.949338e-02</td>\n",
       "      <td>-3.324559e-02</td>\n",
       "      <td>-3.317903e-02</td>\n",
       "    </tr>\n",
       "    <tr>\n",
       "      <th>50%</th>\n",
       "      <td>5.383060e-03</td>\n",
       "      <td>-4.464164e-02</td>\n",
       "      <td>-7.283766e-03</td>\n",
       "      <td>-5.670422e-03</td>\n",
       "      <td>-4.320866e-03</td>\n",
       "      <td>-3.819065e-03</td>\n",
       "      <td>-6.584468e-03</td>\n",
       "      <td>-2.592262e-03</td>\n",
       "      <td>-1.947171e-03</td>\n",
       "      <td>-1.077698e-03</td>\n",
       "    </tr>\n",
       "    <tr>\n",
       "      <th>75%</th>\n",
       "      <td>3.807591e-02</td>\n",
       "      <td>5.068012e-02</td>\n",
       "      <td>3.124802e-02</td>\n",
       "      <td>3.564379e-02</td>\n",
       "      <td>2.835801e-02</td>\n",
       "      <td>2.984439e-02</td>\n",
       "      <td>2.931150e-02</td>\n",
       "      <td>3.430886e-02</td>\n",
       "      <td>3.243232e-02</td>\n",
       "      <td>2.791705e-02</td>\n",
       "    </tr>\n",
       "    <tr>\n",
       "      <th>max</th>\n",
       "      <td>1.107267e-01</td>\n",
       "      <td>5.068012e-02</td>\n",
       "      <td>1.705552e-01</td>\n",
       "      <td>1.320436e-01</td>\n",
       "      <td>1.539137e-01</td>\n",
       "      <td>1.987880e-01</td>\n",
       "      <td>1.811791e-01</td>\n",
       "      <td>1.852344e-01</td>\n",
       "      <td>1.335973e-01</td>\n",
       "      <td>1.356118e-01</td>\n",
       "    </tr>\n",
       "  </tbody>\n",
       "</table>\n",
       "</div>"
      ],
      "text/plain": [
       "                age           sex           bmi            bp            s1  \\\n",
       "count  4.420000e+02  4.420000e+02  4.420000e+02  4.420000e+02  4.420000e+02   \n",
       "mean  -2.511817e-19  1.230790e-17 -2.245564e-16 -4.797570e-17 -1.381499e-17   \n",
       "std    4.761905e-02  4.761905e-02  4.761905e-02  4.761905e-02  4.761905e-02   \n",
       "min   -1.072256e-01 -4.464164e-02 -9.027530e-02 -1.123988e-01 -1.267807e-01   \n",
       "25%   -3.729927e-02 -4.464164e-02 -3.422907e-02 -3.665608e-02 -3.424784e-02   \n",
       "50%    5.383060e-03 -4.464164e-02 -7.283766e-03 -5.670422e-03 -4.320866e-03   \n",
       "75%    3.807591e-02  5.068012e-02  3.124802e-02  3.564379e-02  2.835801e-02   \n",
       "max    1.107267e-01  5.068012e-02  1.705552e-01  1.320436e-01  1.539137e-01   \n",
       "\n",
       "                 s2            s3            s4            s5            s6  \n",
       "count  4.420000e+02  4.420000e+02  4.420000e+02  4.420000e+02  4.420000e+02  \n",
       "mean   3.918434e-17 -5.777179e-18 -9.042540e-18  9.293722e-17  1.130318e-17  \n",
       "std    4.761905e-02  4.761905e-02  4.761905e-02  4.761905e-02  4.761905e-02  \n",
       "min   -1.156131e-01 -1.023071e-01 -7.639450e-02 -1.260971e-01 -1.377672e-01  \n",
       "25%   -3.035840e-02 -3.511716e-02 -3.949338e-02 -3.324559e-02 -3.317903e-02  \n",
       "50%   -3.819065e-03 -6.584468e-03 -2.592262e-03 -1.947171e-03 -1.077698e-03  \n",
       "75%    2.984439e-02  2.931150e-02  3.430886e-02  3.243232e-02  2.791705e-02  \n",
       "max    1.987880e-01  1.811791e-01  1.852344e-01  1.335973e-01  1.356118e-01  "
      ]
     },
     "execution_count": 81,
     "metadata": {},
     "output_type": "execute_result"
    }
   ],
   "source": [
    "X.describe()"
   ]
  },
  {
   "cell_type": "code",
   "execution_count": 82,
   "metadata": {},
   "outputs": [
    {
     "name": "stdout",
     "output_type": "stream",
     "text": [
      "<class 'pandas.core.frame.DataFrame'>\n",
      "RangeIndex: 442 entries, 0 to 441\n",
      "Data columns (total 10 columns):\n",
      " #   Column  Non-Null Count  Dtype  \n",
      "---  ------  --------------  -----  \n",
      " 0   age     442 non-null    float64\n",
      " 1   sex     442 non-null    float64\n",
      " 2   bmi     442 non-null    float64\n",
      " 3   bp      442 non-null    float64\n",
      " 4   s1      442 non-null    float64\n",
      " 5   s2      442 non-null    float64\n",
      " 6   s3      442 non-null    float64\n",
      " 7   s4      442 non-null    float64\n",
      " 8   s5      442 non-null    float64\n",
      " 9   s6      442 non-null    float64\n",
      "dtypes: float64(10)\n",
      "memory usage: 34.7 KB\n"
     ]
    }
   ],
   "source": [
    "X.info()"
   ]
  },
  {
   "cell_type": "markdown",
   "metadata": {},
   "source": [
    "Representa cada una de la características"
   ]
  },
  {
   "cell_type": "code",
   "execution_count": 83,
   "metadata": {},
   "outputs": [
    {
     "data": {
      "image/png": "[encoded data removed]",
      "text/plain": [
       "<Figure size 1200x1200 with 10 Axes>"
      ]
     },
     "metadata": {},
     "output_type": "display_data"
    }
   ],
   "source": [
    "df_object = X.select_dtypes(include=[\"object\",\"category\"]).columns.to_list()\n",
    "df_num = X.select_dtypes(include=[np.number]).columns.to_list()\n",
    "\n",
    "df_num.remove(\"sex\")\n",
    "\n",
    "df_object.append(\"sex\")\n",
    "\n",
    "plt.figure(figsize=(12,12))\n",
    "\n",
    "subplot_index=1\n",
    "\n",
    "for col in df_num:\n",
    "    plt.subplot(7,2,subplot_index)\n",
    "    sns.histplot(x=X[col])\n",
    "    subplot_index+=1\n",
    "\n",
    "for col in df_object:\n",
    "    plt.subplot(7,2,subplot_index)\n",
    "    sns.countplot(x=X[col])\n",
    "    subplot_index+=1\n",
    "\n",
    "\n",
    "\n",
    "plt.tight_layout()\n",
    "plt.show()"
   ]
  },
  {
   "cell_type": "markdown",
   "metadata": {},
   "source": [
    "Muestra la matriz de correlaciones"
   ]
  },
  {
   "cell_type": "code",
   "execution_count": 84,
   "metadata": {},
   "outputs": [
    {
     "data": {
      "text/plain": [
       "target    1.000000\n",
       "bmi       0.586450\n",
       "s5        0.565883\n",
       "bp        0.441482\n",
       "s4        0.430453\n",
       "s6        0.382483\n",
       "s1        0.212022\n",
       "age       0.187889\n",
       "s2        0.174054\n",
       "sex       0.043062\n",
       "s3       -0.394789\n",
       "Name: target, dtype: float64"
      ]
     },
     "execution_count": 84,
     "metadata": {},
     "output_type": "execute_result"
    }
   ],
   "source": [
    "X_con=pd.concat([X , y], axis=1)\n",
    "corr_matrix = X_con.corr(numeric_only=True)\n",
    "corr_matrix['target'].sort_values(ascending=False)"
   ]
  },
  {
   "cell_type": "code",
   "execution_count": 85,
   "metadata": {},
   "outputs": [
    {
     "data": {
      "text/html": [
       "<style type=\"text/css\">\n",
       "#T_c62ac_row0_col0, #T_c62ac_row1_col1, #T_c62ac_row2_col2, #T_c62ac_row3_col3, #T_c62ac_row4_col4, #T_c62ac_row5_col5, #T_c62ac_row6_col6, #T_c62ac_row7_col7, #T_c62ac_row8_col8, #T_c62ac_row9_col9, #T_c62ac_row10_col10 {\n",
       "  background-color: #023858;\n",
       "  color: #f1f1f1;\n",
       "}\n",
       "#T_c62ac_row0_col1 {\n",
       "  background-color: #9cb9d9;\n",
       "  color: #000000;\n",
       "}\n",
       "#T_c62ac_row0_col2 {\n",
       "  background-color: #9ab8d8;\n",
       "  color: #000000;\n",
       "}\n",
       "#T_c62ac_row0_col3, #T_c62ac_row4_col10 {\n",
       "  background-color: #8eb3d5;\n",
       "  color: #000000;\n",
       "}\n",
       "#T_c62ac_row0_col4, #T_c62ac_row1_col0 {\n",
       "  background-color: #d4d4e8;\n",
       "  color: #000000;\n",
       "}\n",
       "#T_c62ac_row0_col5 {\n",
       "  background-color: #b0c2de;\n",
       "  color: #000000;\n",
       "}\n",
       "#T_c62ac_row0_col6, #T_c62ac_row2_col5, #T_c62ac_row3_col0 {\n",
       "  background-color: #a4bcda;\n",
       "  color: #000000;\n",
       "}\n",
       "#T_c62ac_row0_col7, #T_c62ac_row7_col9 {\n",
       "  background-color: #60a1ca;\n",
       "  color: #f1f1f1;\n",
       "}\n",
       "#T_c62ac_row0_col8 {\n",
       "  background-color: #7dacd1;\n",
       "  color: #f1f1f1;\n",
       "}\n",
       "#T_c62ac_row0_col9, #T_c62ac_row3_col1, #T_c62ac_row4_col2 {\n",
       "  background-color: #88b1d4;\n",
       "  color: #000000;\n",
       "}\n",
       "#T_c62ac_row0_col10 {\n",
       "  background-color: #96b6d7;\n",
       "  color: #000000;\n",
       "}\n",
       "#T_c62ac_row1_col2 {\n",
       "  background-color: #b4c4df;\n",
       "  color: #000000;\n",
       "}\n",
       "#T_c62ac_row1_col3, #T_c62ac_row4_col3 {\n",
       "  background-color: #acc0dd;\n",
       "  color: #000000;\n",
       "}\n",
       "#T_c62ac_row1_col4, #T_c62ac_row6_col0, #T_c62ac_row6_col1, #T_c62ac_row6_col2, #T_c62ac_row6_col3, #T_c62ac_row6_col5, #T_c62ac_row6_col7, #T_c62ac_row6_col8, #T_c62ac_row6_col9, #T_c62ac_row6_col10, #T_c62ac_row7_col6 {\n",
       "  background-color: #fff7fb;\n",
       "  color: #000000;\n",
       "}\n",
       "#T_c62ac_row1_col5 {\n",
       "  background-color: #c5cce3;\n",
       "  color: #000000;\n",
       "}\n",
       "#T_c62ac_row1_col6 {\n",
       "  background-color: #dad9ea;\n",
       "  color: #000000;\n",
       "}\n",
       "#T_c62ac_row1_col7 {\n",
       "  background-color: #3b92c1;\n",
       "  color: #f1f1f1;\n",
       "}\n",
       "#T_c62ac_row1_col8 {\n",
       "  background-color: #9fbad9;\n",
       "  color: #000000;\n",
       "}\n",
       "#T_c62ac_row1_col9, #T_c62ac_row5_col1 {\n",
       "  background-color: #a5bddb;\n",
       "  color: #000000;\n",
       "}\n",
       "#T_c62ac_row1_col10 {\n",
       "  background-color: #bbc7e0;\n",
       "  color: #000000;\n",
       "}\n",
       "#T_c62ac_row2_col0 {\n",
       "  background-color: #d2d3e7;\n",
       "  color: #000000;\n",
       "}\n",
       "#T_c62ac_row2_col1 {\n",
       "  background-color: #b3c3de;\n",
       "  color: #000000;\n",
       "}\n",
       "#T_c62ac_row2_col3, #T_c62ac_row8_col3 {\n",
       "  background-color: #79abd0;\n",
       "  color: #f1f1f1;\n",
       "}\n",
       "#T_c62ac_row2_col4 {\n",
       "  background-color: #d7d6e9;\n",
       "  color: #000000;\n",
       "}\n",
       "#T_c62ac_row2_col6, #T_c62ac_row3_col4 {\n",
       "  background-color: #d9d8ea;\n",
       "  color: #000000;\n",
       "}\n",
       "#T_c62ac_row2_col7 {\n",
       "  background-color: #2786bb;\n",
       "  color: #f1f1f1;\n",
       "}\n",
       "#T_c62ac_row2_col8 {\n",
       "  background-color: #4094c3;\n",
       "  color: #f1f1f1;\n",
       "}\n",
       "#T_c62ac_row2_col9, #T_c62ac_row3_col9 {\n",
       "  background-color: #69a5cc;\n",
       "  color: #f1f1f1;\n",
       "}\n",
       "#T_c62ac_row2_col10 {\n",
       "  background-color: #167bb6;\n",
       "  color: #f1f1f1;\n",
       "}\n",
       "#T_c62ac_row3_col2, #T_c62ac_row9_col10 {\n",
       "  background-color: #589ec8;\n",
       "  color: #f1f1f1;\n",
       "}\n",
       "#T_c62ac_row3_col5 {\n",
       "  background-color: #b9c6e0;\n",
       "  color: #000000;\n",
       "}\n",
       "#T_c62ac_row3_col6, #T_c62ac_row8_col0 {\n",
       "  background-color: #b8c6e0;\n",
       "  color: #000000;\n",
       "}\n",
       "#T_c62ac_row3_col7, #T_c62ac_row7_col2 {\n",
       "  background-color: #509ac6;\n",
       "  color: #f1f1f1;\n",
       "}\n",
       "#T_c62ac_row3_col8 {\n",
       "  background-color: #549cc7;\n",
       "  color: #f1f1f1;\n",
       "}\n",
       "#T_c62ac_row3_col10 {\n",
       "  background-color: #4295c3;\n",
       "  color: #f1f1f1;\n",
       "}\n",
       "#T_c62ac_row4_col0, #T_c62ac_row5_col3, #T_c62ac_row5_col6, #T_c62ac_row10_col5 {\n",
       "  background-color: #bcc7e1;\n",
       "  color: #000000;\n",
       "}\n",
       "#T_c62ac_row4_col1 {\n",
       "  background-color: #c0c9e2;\n",
       "  color: #000000;\n",
       "}\n",
       "#T_c62ac_row4_col5 {\n",
       "  background-color: #034f7d;\n",
       "  color: #f1f1f1;\n",
       "}\n",
       "#T_c62ac_row4_col6 {\n",
       "  background-color: #86b0d3;\n",
       "  color: #000000;\n",
       "}\n",
       "#T_c62ac_row4_col7 {\n",
       "  background-color: #0a73b2;\n",
       "  color: #f1f1f1;\n",
       "}\n",
       "#T_c62ac_row4_col8 {\n",
       "  background-color: #2a88bc;\n",
       "  color: #f1f1f1;\n",
       "}\n",
       "#T_c62ac_row4_col9 {\n",
       "  background-color: #80aed2;\n",
       "  color: #f1f1f1;\n",
       "}\n",
       "#T_c62ac_row5_col0 {\n",
       "  background-color: #c8cde4;\n",
       "  color: #000000;\n",
       "}\n",
       "#T_c62ac_row5_col2 {\n",
       "  background-color: #84b0d3;\n",
       "  color: #f1f1f1;\n",
       "}\n",
       "#T_c62ac_row5_col4 {\n",
       "  background-color: #045585;\n",
       "  color: #f1f1f1;\n",
       "}\n",
       "#T_c62ac_row5_col7 {\n",
       "  background-color: #0567a1;\n",
       "  color: #f1f1f1;\n",
       "}\n",
       "#T_c62ac_row5_col8, #T_c62ac_row10_col9 {\n",
       "  background-color: #6da6cd;\n",
       "  color: #f1f1f1;\n",
       "}\n",
       "#T_c62ac_row5_col9 {\n",
       "  background-color: #8bb2d4;\n",
       "  color: #000000;\n",
       "}\n",
       "#T_c62ac_row5_col10, #T_c62ac_row9_col5 {\n",
       "  background-color: #99b8d8;\n",
       "  color: #000000;\n",
       "}\n",
       "#T_c62ac_row6_col4 {\n",
       "  background-color: #fdf5fa;\n",
       "  color: #000000;\n",
       "}\n",
       "#T_c62ac_row7_col0 {\n",
       "  background-color: #cdd0e5;\n",
       "  color: #000000;\n",
       "}\n",
       "#T_c62ac_row7_col1 {\n",
       "  background-color: #6ba5cd;\n",
       "  color: #f1f1f1;\n",
       "}\n",
       "#T_c62ac_row7_col3 {\n",
       "  background-color: #a8bedc;\n",
       "  color: #000000;\n",
       "}\n",
       "#T_c62ac_row7_col4, #T_c62ac_row10_col3 {\n",
       "  background-color: #67a4cc;\n",
       "  color: #f1f1f1;\n",
       "}\n",
       "#T_c62ac_row7_col5 {\n",
       "  background-color: #1278b4;\n",
       "  color: #f1f1f1;\n",
       "}\n",
       "#T_c62ac_row7_col8 {\n",
       "  background-color: #0d75b3;\n",
       "  color: #f1f1f1;\n",
       "}\n",
       "#T_c62ac_row7_col10 {\n",
       "  background-color: #4697c4;\n",
       "  color: #f1f1f1;\n",
       "}\n",
       "#T_c62ac_row8_col1 {\n",
       "  background-color: #a2bcda;\n",
       "  color: #000000;\n",
       "}\n",
       "#T_c62ac_row8_col2 {\n",
       "  background-color: #4496c3;\n",
       "  color: #f1f1f1;\n",
       "}\n",
       "#T_c62ac_row8_col4 {\n",
       "  background-color: #75a9cf;\n",
       "  color: #f1f1f1;\n",
       "}\n",
       "#T_c62ac_row8_col5 {\n",
       "  background-color: #8fb4d6;\n",
       "  color: #000000;\n",
       "}\n",
       "#T_c62ac_row8_col6, #T_c62ac_row10_col6 {\n",
       "  background-color: #dcdaeb;\n",
       "  color: #000000;\n",
       "}\n",
       "#T_c62ac_row8_col7 {\n",
       "  background-color: #056ba7;\n",
       "  color: #f1f1f1;\n",
       "}\n",
       "#T_c62ac_row8_col9 {\n",
       "  background-color: #4c99c5;\n",
       "  color: #f1f1f1;\n",
       "}\n",
       "#T_c62ac_row8_col10, #T_c62ac_row10_col8 {\n",
       "  background-color: #1c7fb8;\n",
       "  color: #f1f1f1;\n",
       "}\n",
       "#T_c62ac_row9_col0 {\n",
       "  background-color: #afc1dd;\n",
       "  color: #000000;\n",
       "}\n",
       "#T_c62ac_row9_col1 {\n",
       "  background-color: #91b5d6;\n",
       "  color: #000000;\n",
       "}\n",
       "#T_c62ac_row9_col2 {\n",
       "  background-color: #5a9ec9;\n",
       "  color: #f1f1f1;\n",
       "}\n",
       "#T_c62ac_row9_col3 {\n",
       "  background-color: #7bacd1;\n",
       "  color: #f1f1f1;\n",
       "}\n",
       "#T_c62ac_row9_col4 {\n",
       "  background-color: #bfc9e1;\n",
       "  color: #000000;\n",
       "}\n",
       "#T_c62ac_row9_col6 {\n",
       "  background-color: #cacee5;\n",
       "  color: #000000;\n",
       "}\n",
       "#T_c62ac_row9_col7 {\n",
       "  background-color: #2685bb;\n",
       "  color: #f1f1f1;\n",
       "}\n",
       "#T_c62ac_row9_col8 {\n",
       "  background-color: #3991c1;\n",
       "  color: #f1f1f1;\n",
       "}\n",
       "#T_c62ac_row10_col0 {\n",
       "  background-color: #d2d2e7;\n",
       "  color: #000000;\n",
       "}\n",
       "#T_c62ac_row10_col1 {\n",
       "  background-color: #bdc8e1;\n",
       "  color: #000000;\n",
       "}\n",
       "#T_c62ac_row10_col2 {\n",
       "  background-color: #197db7;\n",
       "  color: #f1f1f1;\n",
       "}\n",
       "#T_c62ac_row10_col4 {\n",
       "  background-color: #e0dded;\n",
       "  color: #000000;\n",
       "}\n",
       "#T_c62ac_row10_col7 {\n",
       "  background-color: #2383ba;\n",
       "  color: #f1f1f1;\n",
       "}\n",
       "</style>\n",
       "<table id=\"T_c62ac\">\n",
       "  <thead>\n",
       "    <tr>\n",
       "      <th class=\"blank level0\" >&nbsp;</th>\n",
       "      <th id=\"T_c62ac_level0_col0\" class=\"col_heading level0 col0\" >age</th>\n",
       "      <th id=\"T_c62ac_level0_col1\" class=\"col_heading level0 col1\" >sex</th>\n",
       "      <th id=\"T_c62ac_level0_col2\" class=\"col_heading level0 col2\" >bmi</th>\n",
       "      <th id=\"T_c62ac_level0_col3\" class=\"col_heading level0 col3\" >bp</th>\n",
       "      <th id=\"T_c62ac_level0_col4\" class=\"col_heading level0 col4\" >s1</th>\n",
       "      <th id=\"T_c62ac_level0_col5\" class=\"col_heading level0 col5\" >s2</th>\n",
       "      <th id=\"T_c62ac_level0_col6\" class=\"col_heading level0 col6\" >s3</th>\n",
       "      <th id=\"T_c62ac_level0_col7\" class=\"col_heading level0 col7\" >s4</th>\n",
       "      <th id=\"T_c62ac_level0_col8\" class=\"col_heading level0 col8\" >s5</th>\n",
       "      <th id=\"T_c62ac_level0_col9\" class=\"col_heading level0 col9\" >s6</th>\n",
       "      <th id=\"T_c62ac_level0_col10\" class=\"col_heading level0 col10\" >target</th>\n",
       "    </tr>\n",
       "  </thead>\n",
       "  <tbody>\n",
       "    <tr>\n",
       "      <th id=\"T_c62ac_level0_row0\" class=\"row_heading level0 row0\" >age</th>\n",
       "      <td id=\"T_c62ac_row0_col0\" class=\"data row0 col0\" >1.000000</td>\n",
       "      <td id=\"T_c62ac_row0_col1\" class=\"data row0 col1\" >0.173737</td>\n",
       "      <td id=\"T_c62ac_row0_col2\" class=\"data row0 col2\" >0.185085</td>\n",
       "      <td id=\"T_c62ac_row0_col3\" class=\"data row0 col3\" >0.335428</td>\n",
       "      <td id=\"T_c62ac_row0_col4\" class=\"data row0 col4\" >0.260061</td>\n",
       "      <td id=\"T_c62ac_row0_col5\" class=\"data row0 col5\" >0.219243</td>\n",
       "      <td id=\"T_c62ac_row0_col6\" class=\"data row0 col6\" >-0.075181</td>\n",
       "      <td id=\"T_c62ac_row0_col7\" class=\"data row0 col7\" >0.203841</td>\n",
       "      <td id=\"T_c62ac_row0_col8\" class=\"data row0 col8\" >0.270774</td>\n",
       "      <td id=\"T_c62ac_row0_col9\" class=\"data row0 col9\" >0.301731</td>\n",
       "      <td id=\"T_c62ac_row0_col10\" class=\"data row0 col10\" >0.187889</td>\n",
       "    </tr>\n",
       "    <tr>\n",
       "      <th id=\"T_c62ac_level0_row1\" class=\"row_heading level0 row1\" >sex</th>\n",
       "      <td id=\"T_c62ac_row1_col0\" class=\"data row1 col0\" >0.173737</td>\n",
       "      <td id=\"T_c62ac_row1_col1\" class=\"data row1 col1\" >1.000000</td>\n",
       "      <td id=\"T_c62ac_row1_col2\" class=\"data row1 col2\" >0.088161</td>\n",
       "      <td id=\"T_c62ac_row1_col3\" class=\"data row1 col3\" >0.241010</td>\n",
       "      <td id=\"T_c62ac_row1_col4\" class=\"data row1 col4\" >0.035277</td>\n",
       "      <td id=\"T_c62ac_row1_col5\" class=\"data row1 col5\" >0.142637</td>\n",
       "      <td id=\"T_c62ac_row1_col6\" class=\"data row1 col6\" >-0.379090</td>\n",
       "      <td id=\"T_c62ac_row1_col7\" class=\"data row1 col7\" >0.332115</td>\n",
       "      <td id=\"T_c62ac_row1_col8\" class=\"data row1 col8\" >0.149916</td>\n",
       "      <td id=\"T_c62ac_row1_col9\" class=\"data row1 col9\" >0.208133</td>\n",
       "      <td id=\"T_c62ac_row1_col10\" class=\"data row1 col10\" >0.043062</td>\n",
       "    </tr>\n",
       "    <tr>\n",
       "      <th id=\"T_c62ac_level0_row2\" class=\"row_heading level0 row2\" >bmi</th>\n",
       "      <td id=\"T_c62ac_row2_col0\" class=\"data row2 col0\" >0.185085</td>\n",
       "      <td id=\"T_c62ac_row2_col1\" class=\"data row2 col1\" >0.088161</td>\n",
       "      <td id=\"T_c62ac_row2_col2\" class=\"data row2 col2\" >1.000000</td>\n",
       "      <td id=\"T_c62ac_row2_col3\" class=\"data row2 col3\" >0.395411</td>\n",
       "      <td id=\"T_c62ac_row2_col4\" class=\"data row2 col4\" >0.249777</td>\n",
       "      <td id=\"T_c62ac_row2_col5\" class=\"data row2 col5\" >0.261170</td>\n",
       "      <td id=\"T_c62ac_row2_col6\" class=\"data row2 col6\" >-0.366811</td>\n",
       "      <td id=\"T_c62ac_row2_col7\" class=\"data row2 col7\" >0.413807</td>\n",
       "      <td id=\"T_c62ac_row2_col8\" class=\"data row2 col8\" >0.446157</td>\n",
       "      <td id=\"T_c62ac_row2_col9\" class=\"data row2 col9\" >0.388680</td>\n",
       "      <td id=\"T_c62ac_row2_col10\" class=\"data row2 col10\" >0.586450</td>\n",
       "    </tr>\n",
       "    <tr>\n",
       "      <th id=\"T_c62ac_level0_row3\" class=\"row_heading level0 row3\" >bp</th>\n",
       "      <td id=\"T_c62ac_row3_col0\" class=\"data row3 col0\" >0.335428</td>\n",
       "      <td id=\"T_c62ac_row3_col1\" class=\"data row3 col1\" >0.241010</td>\n",
       "      <td id=\"T_c62ac_row3_col2\" class=\"data row3 col2\" >0.395411</td>\n",
       "      <td id=\"T_c62ac_row3_col3\" class=\"data row3 col3\" >1.000000</td>\n",
       "      <td id=\"T_c62ac_row3_col4\" class=\"data row3 col4\" >0.242464</td>\n",
       "      <td id=\"T_c62ac_row3_col5\" class=\"data row3 col5\" >0.185548</td>\n",
       "      <td id=\"T_c62ac_row3_col6\" class=\"data row3 col6\" >-0.178762</td>\n",
       "      <td id=\"T_c62ac_row3_col7\" class=\"data row3 col7\" >0.257650</td>\n",
       "      <td id=\"T_c62ac_row3_col8\" class=\"data row3 col8\" >0.393480</td>\n",
       "      <td id=\"T_c62ac_row3_col9\" class=\"data row3 col9\" >0.390430</td>\n",
       "      <td id=\"T_c62ac_row3_col10\" class=\"data row3 col10\" >0.441482</td>\n",
       "    </tr>\n",
       "    <tr>\n",
       "      <th id=\"T_c62ac_level0_row4\" class=\"row_heading level0 row4\" >s1</th>\n",
       "      <td id=\"T_c62ac_row4_col0\" class=\"data row4 col0\" >0.260061</td>\n",
       "      <td id=\"T_c62ac_row4_col1\" class=\"data row4 col1\" >0.035277</td>\n",
       "      <td id=\"T_c62ac_row4_col2\" class=\"data row4 col2\" >0.249777</td>\n",
       "      <td id=\"T_c62ac_row4_col3\" class=\"data row4 col3\" >0.242464</td>\n",
       "      <td id=\"T_c62ac_row4_col4\" class=\"data row4 col4\" >1.000000</td>\n",
       "      <td id=\"T_c62ac_row4_col5\" class=\"data row4 col5\" >0.896663</td>\n",
       "      <td id=\"T_c62ac_row4_col6\" class=\"data row4 col6\" >0.051519</td>\n",
       "      <td id=\"T_c62ac_row4_col7\" class=\"data row4 col7\" >0.542207</td>\n",
       "      <td id=\"T_c62ac_row4_col8\" class=\"data row4 col8\" >0.515503</td>\n",
       "      <td id=\"T_c62ac_row4_col9\" class=\"data row4 col9\" >0.325717</td>\n",
       "      <td id=\"T_c62ac_row4_col10\" class=\"data row4 col10\" >0.212022</td>\n",
       "    </tr>\n",
       "    <tr>\n",
       "      <th id=\"T_c62ac_level0_row5\" class=\"row_heading level0 row5\" >s2</th>\n",
       "      <td id=\"T_c62ac_row5_col0\" class=\"data row5 col0\" >0.219243</td>\n",
       "      <td id=\"T_c62ac_row5_col1\" class=\"data row5 col1\" >0.142637</td>\n",
       "      <td id=\"T_c62ac_row5_col2\" class=\"data row5 col2\" >0.261170</td>\n",
       "      <td id=\"T_c62ac_row5_col3\" class=\"data row5 col3\" >0.185548</td>\n",
       "      <td id=\"T_c62ac_row5_col4\" class=\"data row5 col4\" >0.896663</td>\n",
       "      <td id=\"T_c62ac_row5_col5\" class=\"data row5 col5\" >1.000000</td>\n",
       "      <td id=\"T_c62ac_row5_col6\" class=\"data row5 col6\" >-0.196455</td>\n",
       "      <td id=\"T_c62ac_row5_col7\" class=\"data row5 col7\" >0.659817</td>\n",
       "      <td id=\"T_c62ac_row5_col8\" class=\"data row5 col8\" >0.318357</td>\n",
       "      <td id=\"T_c62ac_row5_col9\" class=\"data row5 col9\" >0.290600</td>\n",
       "      <td id=\"T_c62ac_row5_col10\" class=\"data row5 col10\" >0.174054</td>\n",
       "    </tr>\n",
       "    <tr>\n",
       "      <th id=\"T_c62ac_level0_row6\" class=\"row_heading level0 row6\" >s3</th>\n",
       "      <td id=\"T_c62ac_row6_col0\" class=\"data row6 col0\" >-0.075181</td>\n",
       "      <td id=\"T_c62ac_row6_col1\" class=\"data row6 col1\" >-0.379090</td>\n",
       "      <td id=\"T_c62ac_row6_col2\" class=\"data row6 col2\" >-0.366811</td>\n",
       "      <td id=\"T_c62ac_row6_col3\" class=\"data row6 col3\" >-0.178762</td>\n",
       "      <td id=\"T_c62ac_row6_col4\" class=\"data row6 col4\" >0.051519</td>\n",
       "      <td id=\"T_c62ac_row6_col5\" class=\"data row6 col5\" >-0.196455</td>\n",
       "      <td id=\"T_c62ac_row6_col6\" class=\"data row6 col6\" >1.000000</td>\n",
       "      <td id=\"T_c62ac_row6_col7\" class=\"data row6 col7\" >-0.738493</td>\n",
       "      <td id=\"T_c62ac_row6_col8\" class=\"data row6 col8\" >-0.398577</td>\n",
       "      <td id=\"T_c62ac_row6_col9\" class=\"data row6 col9\" >-0.273697</td>\n",
       "      <td id=\"T_c62ac_row6_col10\" class=\"data row6 col10\" >-0.394789</td>\n",
       "    </tr>\n",
       "    <tr>\n",
       "      <th id=\"T_c62ac_level0_row7\" class=\"row_heading level0 row7\" >s4</th>\n",
       "      <td id=\"T_c62ac_row7_col0\" class=\"data row7 col0\" >0.203841</td>\n",
       "      <td id=\"T_c62ac_row7_col1\" class=\"data row7 col1\" >0.332115</td>\n",
       "      <td id=\"T_c62ac_row7_col2\" class=\"data row7 col2\" >0.413807</td>\n",
       "      <td id=\"T_c62ac_row7_col3\" class=\"data row7 col3\" >0.257650</td>\n",
       "      <td id=\"T_c62ac_row7_col4\" class=\"data row7 col4\" >0.542207</td>\n",
       "      <td id=\"T_c62ac_row7_col5\" class=\"data row7 col5\" >0.659817</td>\n",
       "      <td id=\"T_c62ac_row7_col6\" class=\"data row7 col6\" >-0.738493</td>\n",
       "      <td id=\"T_c62ac_row7_col7\" class=\"data row7 col7\" >1.000000</td>\n",
       "      <td id=\"T_c62ac_row7_col8\" class=\"data row7 col8\" >0.617859</td>\n",
       "      <td id=\"T_c62ac_row7_col9\" class=\"data row7 col9\" >0.417212</td>\n",
       "      <td id=\"T_c62ac_row7_col10\" class=\"data row7 col10\" >0.430453</td>\n",
       "    </tr>\n",
       "    <tr>\n",
       "      <th id=\"T_c62ac_level0_row8\" class=\"row_heading level0 row8\" >s5</th>\n",
       "      <td id=\"T_c62ac_row8_col0\" class=\"data row8 col0\" >0.270774</td>\n",
       "      <td id=\"T_c62ac_row8_col1\" class=\"data row8 col1\" >0.149916</td>\n",
       "      <td id=\"T_c62ac_row8_col2\" class=\"data row8 col2\" >0.446157</td>\n",
       "      <td id=\"T_c62ac_row8_col3\" class=\"data row8 col3\" >0.393480</td>\n",
       "      <td id=\"T_c62ac_row8_col4\" class=\"data row8 col4\" >0.515503</td>\n",
       "      <td id=\"T_c62ac_row8_col5\" class=\"data row8 col5\" >0.318357</td>\n",
       "      <td id=\"T_c62ac_row8_col6\" class=\"data row8 col6\" >-0.398577</td>\n",
       "      <td id=\"T_c62ac_row8_col7\" class=\"data row8 col7\" >0.617859</td>\n",
       "      <td id=\"T_c62ac_row8_col8\" class=\"data row8 col8\" >1.000000</td>\n",
       "      <td id=\"T_c62ac_row8_col9\" class=\"data row8 col9\" >0.464669</td>\n",
       "      <td id=\"T_c62ac_row8_col10\" class=\"data row8 col10\" >0.565883</td>\n",
       "    </tr>\n",
       "    <tr>\n",
       "      <th id=\"T_c62ac_level0_row9\" class=\"row_heading level0 row9\" >s6</th>\n",
       "      <td id=\"T_c62ac_row9_col0\" class=\"data row9 col0\" >0.301731</td>\n",
       "      <td id=\"T_c62ac_row9_col1\" class=\"data row9 col1\" >0.208133</td>\n",
       "      <td id=\"T_c62ac_row9_col2\" class=\"data row9 col2\" >0.388680</td>\n",
       "      <td id=\"T_c62ac_row9_col3\" class=\"data row9 col3\" >0.390430</td>\n",
       "      <td id=\"T_c62ac_row9_col4\" class=\"data row9 col4\" >0.325717</td>\n",
       "      <td id=\"T_c62ac_row9_col5\" class=\"data row9 col5\" >0.290600</td>\n",
       "      <td id=\"T_c62ac_row9_col6\" class=\"data row9 col6\" >-0.273697</td>\n",
       "      <td id=\"T_c62ac_row9_col7\" class=\"data row9 col7\" >0.417212</td>\n",
       "      <td id=\"T_c62ac_row9_col8\" class=\"data row9 col8\" >0.464669</td>\n",
       "      <td id=\"T_c62ac_row9_col9\" class=\"data row9 col9\" >1.000000</td>\n",
       "      <td id=\"T_c62ac_row9_col10\" class=\"data row9 col10\" >0.382483</td>\n",
       "    </tr>\n",
       "    <tr>\n",
       "      <th id=\"T_c62ac_level0_row10\" class=\"row_heading level0 row10\" >target</th>\n",
       "      <td id=\"T_c62ac_row10_col0\" class=\"data row10 col0\" >0.187889</td>\n",
       "      <td id=\"T_c62ac_row10_col1\" class=\"data row10 col1\" >0.043062</td>\n",
       "      <td id=\"T_c62ac_row10_col2\" class=\"data row10 col2\" >0.586450</td>\n",
       "      <td id=\"T_c62ac_row10_col3\" class=\"data row10 col3\" >0.441482</td>\n",
       "      <td id=\"T_c62ac_row10_col4\" class=\"data row10 col4\" >0.212022</td>\n",
       "      <td id=\"T_c62ac_row10_col5\" class=\"data row10 col5\" >0.174054</td>\n",
       "      <td id=\"T_c62ac_row10_col6\" class=\"data row10 col6\" >-0.394789</td>\n",
       "      <td id=\"T_c62ac_row10_col7\" class=\"data row10 col7\" >0.430453</td>\n",
       "      <td id=\"T_c62ac_row10_col8\" class=\"data row10 col8\" >0.565883</td>\n",
       "      <td id=\"T_c62ac_row10_col9\" class=\"data row10 col9\" >0.382483</td>\n",
       "      <td id=\"T_c62ac_row10_col10\" class=\"data row10 col10\" >1.000000</td>\n",
       "    </tr>\n",
       "  </tbody>\n",
       "</table>\n"
      ],
      "text/plain": [
       "<pandas.io.formats.style.Styler at 0x7fe6f44dda00>"
      ]
     },
     "execution_count": 85,
     "metadata": {},
     "output_type": "execute_result"
    }
   ],
   "source": [
    "corr_matrix.style.background_gradient()"
   ]
  },
  {
   "cell_type": "markdown",
   "metadata": {},
   "source": [
    "#### DIVIDIR LOS DATOS"
   ]
  },
  {
   "cell_type": "code",
   "execution_count": 86,
   "metadata": {},
   "outputs": [],
   "source": [
    "X_train, X_test, y_train, y_test = train_test_split(X, y, test_size=0.2, random_state=42)"
   ]
  },
  {
   "cell_type": "markdown",
   "metadata": {},
   "source": [
    "#### PREPARAR LOS DATOS"
   ]
  },
  {
   "cell_type": "code",
   "execution_count": 87,
   "metadata": {},
   "outputs": [],
   "source": [
    "scaler=StandardScaler()"
   ]
  },
  {
   "cell_type": "markdown",
   "metadata": {},
   "source": [
    "### ENTRENAMIENTO Y EVALUACIÓN DEL MODELO"
   ]
  },
  {
   "cell_type": "markdown",
   "metadata": {},
   "source": [
    "Crea y entrena el modelo con diferentes algoritmos y muestra los resultados obtenidos con validación cruzada y utilizando la métrica RMSE para medir el error"
   ]
  },
  {
   "cell_type": "code",
   "execution_count": 88,
   "metadata": {},
   "outputs": [
    {
     "name": "stdout",
     "output_type": "stream",
     "text": [
      "Modelo: Regresión lineal\n",
      "RMSE promedio: 55.9721\n",
      "----------------------------------------\n",
      "Modelo: SGDRegressor\n",
      "RMSE promedio: 55.9507\n",
      "----------------------------------------\n",
      "Modelo: LinearSVR\n",
      "RMSE promedio: 67.5175\n",
      "----------------------------------------\n",
      "Modelo: Arbol de decision\n",
      "RMSE promedio: 61.2638\n",
      "----------------------------------------\n",
      "Modelo: Ridge\n",
      "RMSE promedio: 55.9165\n",
      "----------------------------------------\n",
      "Modelo: Lasso\n",
      "RMSE promedio: 55.9190\n",
      "----------------------------------------\n"
     ]
    }
   ],
   "source": [
    "# Modelos a evaluar\n",
    "models = {\n",
    "    \"Regresión lineal\": LinearRegression(),\n",
    "    \"SGDRegressor\": SGDRegressor(max_iter=5000, tol=1e-5, n_iter_no_change=100, penalty=None, eta0=0.01, random_state=42),\n",
    "    \"LinearSVR\": LinearSVR(epsilon=0.5, random_state=42),\n",
    "    \"Arbol de decision\":DecisionTreeRegressor(max_depth=2, random_state=42),\n",
    "    \"Ridge\":Ridge(alpha=1.0),\n",
    "    \"Lasso\":Lasso(alpha=0.1),\n",
    "}\n",
    "\n",
    "scaler = StandardScaler()\n",
    "\n",
    "# Evaluar cada modelo\n",
    "for name, algoritmo in models.items():\n",
    "\n",
    "    # Crear el pipeline\n",
    "    modelo = make_pipeline(scaler, algoritmo)\n",
    "\n",
    "   # Validación cruzada con error cuadrático medio negativo\n",
    "    rmse_scores = -cross_val_score(modelo, X_train, y_train, cv=5, scoring='neg_root_mean_squared_error')\n",
    "    \n",
    "    # Calcular métricas promedio\n",
    "    mean_rmse = np.mean(rmse_scores)\n",
    "   \n",
    "    print(f\"Modelo: {name}\")\n",
    "    print(f\"RMSE promedio: {mean_rmse:.4f}\")\n",
    "    print(\"-\" * 40)"
   ]
  },
  {
   "cell_type": "markdown",
   "metadata": {},
   "source": [
    "Calcula el máximo de y (del dataset original) y el mínimo de y (del dataset original) para ver con prespectiva si RMSE es aceptable o no."
   ]
  },
  {
   "cell_type": "code",
   "execution_count": 89,
   "metadata": {},
   "outputs": [
    {
     "name": "stdout",
     "output_type": "stream",
     "text": [
      "Y min: 25.0\n",
      "Y max: 346.0\n"
     ]
    }
   ],
   "source": [
    "y_min=np.min(y)\n",
    "y_max=np.max(y)\n",
    "print(\"Y min:\",y_min)\n",
    "print(\"Y max:\",y_max)"
   ]
  },
  {
   "cell_type": "markdown",
   "metadata": {},
   "source": [
    "### OPTIMIZACIÓN DEL MODELO"
   ]
  },
  {
   "cell_type": "markdown",
   "metadata": {},
   "source": [
    "Vamos a suponer que el mejor modelo que has obtenido es con Ridge y vamos a aplicar búsqueda exhaustiva para el parámetro alpha."
   ]
  },
  {
   "cell_type": "code",
   "execution_count": 90,
   "metadata": {},
   "outputs": [
    {
     "name": "stdout",
     "output_type": "stream",
     "text": [
      "Mejor valor de alpha: 10\n"
     ]
    }
   ],
   "source": [
    "param_grid = {\n",
    "    'ridge__alpha': [0.01, 0.1, 1, 10, 100, 1000]  \n",
    "}\n",
    "\n",
    "pipeline=make_pipeline(StandardScaler(), Ridge(random_state=42))\n",
    "\n",
    "grid_search = GridSearchCV(pipeline, param_grid, cv=5, scoring='neg_mean_squared_error')\n",
    "grid_search.fit(X_train, y_train)\n",
    "\n",
    "# Obtener el mejor valor de alpha\n",
    "print(f\"Mejor valor de alpha: {grid_search.best_params_['ridge__alpha']}\")\n"
   ]
  },
  {
   "cell_type": "markdown",
   "metadata": {},
   "source": [
    "Evalúa este mejor modelo en el conjunto de pruebas"
   ]
  },
  {
   "cell_type": "code",
   "execution_count": 91,
   "metadata": {},
   "outputs": [
    {
     "name": "stdout",
     "output_type": "stream",
     "text": [
      "Score: 0.45721095677808476\n"
     ]
    }
   ],
   "source": [
    "best_model = grid_search.best_estimator_\n",
    "\n",
    "# Evaluar el modelo con el conjunto de prueba\n",
    "score = best_model.score(X_test, y_test)\n",
    "print(f\"Score: {score}\")\n"
   ]
  },
  {
   "cell_type": "markdown",
   "metadata": {},
   "source": [
    "### PRESENTACIÓN DEL MODELO"
   ]
  },
  {
   "cell_type": "markdown",
   "metadata": {},
   "source": [
    "Guarda el modelo en un archivo"
   ]
  },
  {
   "cell_type": "code",
   "execution_count": 92,
   "metadata": {},
   "outputs": [
    {
     "data": {
      "text/plain": [
       "['diabetes.pkl']"
      ]
     },
     "execution_count": 92,
     "metadata": {},
     "output_type": "execute_result"
    }
   ],
   "source": [
    "joblib.dump(best_model, \"diabetes.pkl\")"
   ]
  },
  {
   "cell_type": "markdown",
   "metadata": {},
   "source": [
    "Opcional: hacer un script de Python que pida los datos y te prediga el resultado"
   ]
  },
  {
   "cell_type": "markdown",
   "metadata": {},
   "source": [
    "## EJERCICIO 4"
   ]
  },
  {
   "cell_type": "markdown",
   "metadata": {},
   "source": [
    "Usa regresión logística para crear un modelo que deduzca el tipo de flor iris"
   ]
  },
  {
   "cell_type": "markdown",
   "metadata": {},
   "source": [
    "### RECOPILACIÓN Y PREPARACIÓN DE LOS DATOS"
   ]
  },
  {
   "cell_type": "markdown",
   "metadata": {},
   "source": [
    "#### OBTENER LOS DATOS"
   ]
  },
  {
   "cell_type": "code",
   "execution_count": 93,
   "metadata": {},
   "outputs": [],
   "source": [
    "iris = load_iris(as_frame=True)\n",
    "X = iris.data\n",
    "y = iris.target"
   ]
  },
  {
   "cell_type": "markdown",
   "metadata": {},
   "source": [
    "#### EXPLORAR LOS DATOS"
   ]
  },
  {
   "cell_type": "markdown",
   "metadata": {},
   "source": [
    "Visualiza los datos"
   ]
  },
  {
   "cell_type": "code",
   "execution_count": 94,
   "metadata": {},
   "outputs": [
    {
     "data": {
      "text/html": [
       "<div>\n",
       "<style scoped>\n",
       "    .dataframe tbody tr th:only-of-type {\n",
       "        vertical-align: middle;\n",
       "    }\n",
       "\n",
       "    .dataframe tbody tr th {\n",
       "        vertical-align: top;\n",
       "    }\n",
       "\n",
       "    .dataframe thead th {\n",
       "        text-align: right;\n",
       "    }\n",
       "</style>\n",
       "<table border=\"1\" class=\"dataframe\">\n",
       "  <thead>\n",
       "    <tr style=\"text-align: right;\">\n",
       "      <th></th>\n",
       "      <th>sepal length (cm)</th>\n",
       "      <th>sepal width (cm)</th>\n",
       "      <th>petal length (cm)</th>\n",
       "      <th>petal width (cm)</th>\n",
       "    </tr>\n",
       "  </thead>\n",
       "  <tbody>\n",
       "    <tr>\n",
       "      <th>0</th>\n",
       "      <td>5.1</td>\n",
       "      <td>3.5</td>\n",
       "      <td>1.4</td>\n",
       "      <td>0.2</td>\n",
       "    </tr>\n",
       "    <tr>\n",
       "      <th>1</th>\n",
       "      <td>4.9</td>\n",
       "      <td>3.0</td>\n",
       "      <td>1.4</td>\n",
       "      <td>0.2</td>\n",
       "    </tr>\n",
       "    <tr>\n",
       "      <th>2</th>\n",
       "      <td>4.7</td>\n",
       "      <td>3.2</td>\n",
       "      <td>1.3</td>\n",
       "      <td>0.2</td>\n",
       "    </tr>\n",
       "    <tr>\n",
       "      <th>3</th>\n",
       "      <td>4.6</td>\n",
       "      <td>3.1</td>\n",
       "      <td>1.5</td>\n",
       "      <td>0.2</td>\n",
       "    </tr>\n",
       "    <tr>\n",
       "      <th>4</th>\n",
       "      <td>5.0</td>\n",
       "      <td>3.6</td>\n",
       "      <td>1.4</td>\n",
       "      <td>0.2</td>\n",
       "    </tr>\n",
       "  </tbody>\n",
       "</table>\n",
       "</div>"
      ],
      "text/plain": [
       "   sepal length (cm)  sepal width (cm)  petal length (cm)  petal width (cm)\n",
       "0                5.1               3.5                1.4               0.2\n",
       "1                4.9               3.0                1.4               0.2\n",
       "2                4.7               3.2                1.3               0.2\n",
       "3                4.6               3.1                1.5               0.2\n",
       "4                5.0               3.6                1.4               0.2"
      ]
     },
     "execution_count": 94,
     "metadata": {},
     "output_type": "execute_result"
    }
   ],
   "source": [
    "X.head()"
   ]
  },
  {
   "cell_type": "code",
   "execution_count": 95,
   "metadata": {},
   "outputs": [
    {
     "data": {
      "text/plain": [
       "0    0\n",
       "1    0\n",
       "2    0\n",
       "3    0\n",
       "4    0\n",
       "Name: target, dtype: int64"
      ]
     },
     "execution_count": 95,
     "metadata": {},
     "output_type": "execute_result"
    }
   ],
   "source": [
    "y.head()"
   ]
  },
  {
   "cell_type": "code",
   "execution_count": 96,
   "metadata": {},
   "outputs": [
    {
     "name": "stdout",
     "output_type": "stream",
     "text": [
      "<class 'pandas.core.frame.DataFrame'>\n",
      "RangeIndex: 150 entries, 0 to 149\n",
      "Data columns (total 4 columns):\n",
      " #   Column             Non-Null Count  Dtype  \n",
      "---  ------             --------------  -----  \n",
      " 0   sepal length (cm)  150 non-null    float64\n",
      " 1   sepal width (cm)   150 non-null    float64\n",
      " 2   petal length (cm)  150 non-null    float64\n",
      " 3   petal width (cm)   150 non-null    float64\n",
      "dtypes: float64(4)\n",
      "memory usage: 4.8 KB\n"
     ]
    }
   ],
   "source": [
    "X.info()"
   ]
  },
  {
   "cell_type": "markdown",
   "metadata": {},
   "source": [
    "Representa la matriz de correlaciones"
   ]
  },
  {
   "cell_type": "code",
   "execution_count": 97,
   "metadata": {},
   "outputs": [
    {
     "data": {
      "text/plain": [
       "target               1.000000\n",
       "petal width (cm)     0.956547\n",
       "petal length (cm)    0.949035\n",
       "sepal length (cm)    0.782561\n",
       "sepal width (cm)    -0.426658\n",
       "Name: target, dtype: float64"
      ]
     },
     "execution_count": 97,
     "metadata": {},
     "output_type": "execute_result"
    }
   ],
   "source": [
    "X_con=pd.concat([X , y], axis=1)\n",
    "corr_matrix = X_con.corr(numeric_only=True)\n",
    "corr_matrix['target'].sort_values(ascending=False)"
   ]
  },
  {
   "cell_type": "code",
   "execution_count": 98,
   "metadata": {},
   "outputs": [
    {
     "data": {
      "text/html": [
       "<style type=\"text/css\">\n",
       "#T_d207c_row0_col0, #T_d207c_row1_col1, #T_d207c_row2_col2, #T_d207c_row3_col3, #T_d207c_row4_col4 {\n",
       "  background-color: #023858;\n",
       "  color: #f1f1f1;\n",
       "}\n",
       "#T_d207c_row0_col1 {\n",
       "  background-color: #d8d7e9;\n",
       "  color: #000000;\n",
       "}\n",
       "#T_d207c_row0_col2 {\n",
       "  background-color: #034f7d;\n",
       "  color: #f1f1f1;\n",
       "}\n",
       "#T_d207c_row0_col3 {\n",
       "  background-color: #045b8f;\n",
       "  color: #f1f1f1;\n",
       "}\n",
       "#T_d207c_row0_col4 {\n",
       "  background-color: #045f95;\n",
       "  color: #f1f1f1;\n",
       "}\n",
       "#T_d207c_row1_col0, #T_d207c_row1_col2, #T_d207c_row1_col3, #T_d207c_row1_col4, #T_d207c_row2_col1, #T_d207c_row4_col1 {\n",
       "  background-color: #fff7fb;\n",
       "  color: #000000;\n",
       "}\n",
       "#T_d207c_row2_col0 {\n",
       "  background-color: #045788;\n",
       "  color: #f1f1f1;\n",
       "}\n",
       "#T_d207c_row2_col3, #T_d207c_row3_col2 {\n",
       "  background-color: #023e62;\n",
       "  color: #f1f1f1;\n",
       "}\n",
       "#T_d207c_row2_col4, #T_d207c_row4_col2 {\n",
       "  background-color: #034267;\n",
       "  color: #f1f1f1;\n",
       "}\n",
       "#T_d207c_row3_col0 {\n",
       "  background-color: #046097;\n",
       "  color: #f1f1f1;\n",
       "}\n",
       "#T_d207c_row3_col1 {\n",
       "  background-color: #f8f1f8;\n",
       "  color: #000000;\n",
       "}\n",
       "#T_d207c_row3_col4 {\n",
       "  background-color: #023f64;\n",
       "  color: #f1f1f1;\n",
       "}\n",
       "#T_d207c_row4_col0 {\n",
       "  background-color: #0566a0;\n",
       "  color: #f1f1f1;\n",
       "}\n",
       "#T_d207c_row4_col3 {\n",
       "  background-color: #034165;\n",
       "  color: #f1f1f1;\n",
       "}\n",
       "</style>\n",
       "<table id=\"T_d207c\">\n",
       "  <thead>\n",
       "    <tr>\n",
       "      <th class=\"blank level0\" >&nbsp;</th>\n",
       "      <th id=\"T_d207c_level0_col0\" class=\"col_heading level0 col0\" >sepal length (cm)</th>\n",
       "      <th id=\"T_d207c_level0_col1\" class=\"col_heading level0 col1\" >sepal width (cm)</th>\n",
       "      <th id=\"T_d207c_level0_col2\" class=\"col_heading level0 col2\" >petal length (cm)</th>\n",
       "      <th id=\"T_d207c_level0_col3\" class=\"col_heading level0 col3\" >petal width (cm)</th>\n",
       "      <th id=\"T_d207c_level0_col4\" class=\"col_heading level0 col4\" >target</th>\n",
       "    </tr>\n",
       "  </thead>\n",
       "  <tbody>\n",
       "    <tr>\n",
       "      <th id=\"T_d207c_level0_row0\" class=\"row_heading level0 row0\" >sepal length (cm)</th>\n",
       "      <td id=\"T_d207c_row0_col0\" class=\"data row0 col0\" >1.000000</td>\n",
       "      <td id=\"T_d207c_row0_col1\" class=\"data row0 col1\" >-0.117570</td>\n",
       "      <td id=\"T_d207c_row0_col2\" class=\"data row0 col2\" >0.871754</td>\n",
       "      <td id=\"T_d207c_row0_col3\" class=\"data row0 col3\" >0.817941</td>\n",
       "      <td id=\"T_d207c_row0_col4\" class=\"data row0 col4\" >0.782561</td>\n",
       "    </tr>\n",
       "    <tr>\n",
       "      <th id=\"T_d207c_level0_row1\" class=\"row_heading level0 row1\" >sepal width (cm)</th>\n",
       "      <td id=\"T_d207c_row1_col0\" class=\"data row1 col0\" >-0.117570</td>\n",
       "      <td id=\"T_d207c_row1_col1\" class=\"data row1 col1\" >1.000000</td>\n",
       "      <td id=\"T_d207c_row1_col2\" class=\"data row1 col2\" >-0.428440</td>\n",
       "      <td id=\"T_d207c_row1_col3\" class=\"data row1 col3\" >-0.366126</td>\n",
       "      <td id=\"T_d207c_row1_col4\" class=\"data row1 col4\" >-0.426658</td>\n",
       "    </tr>\n",
       "    <tr>\n",
       "      <th id=\"T_d207c_level0_row2\" class=\"row_heading level0 row2\" >petal length (cm)</th>\n",
       "      <td id=\"T_d207c_row2_col0\" class=\"data row2 col0\" >0.871754</td>\n",
       "      <td id=\"T_d207c_row2_col1\" class=\"data row2 col1\" >-0.428440</td>\n",
       "      <td id=\"T_d207c_row2_col2\" class=\"data row2 col2\" >1.000000</td>\n",
       "      <td id=\"T_d207c_row2_col3\" class=\"data row2 col3\" >0.962865</td>\n",
       "      <td id=\"T_d207c_row2_col4\" class=\"data row2 col4\" >0.949035</td>\n",
       "    </tr>\n",
       "    <tr>\n",
       "      <th id=\"T_d207c_level0_row3\" class=\"row_heading level0 row3\" >petal width (cm)</th>\n",
       "      <td id=\"T_d207c_row3_col0\" class=\"data row3 col0\" >0.817941</td>\n",
       "      <td id=\"T_d207c_row3_col1\" class=\"data row3 col1\" >-0.366126</td>\n",
       "      <td id=\"T_d207c_row3_col2\" class=\"data row3 col2\" >0.962865</td>\n",
       "      <td id=\"T_d207c_row3_col3\" class=\"data row3 col3\" >1.000000</td>\n",
       "      <td id=\"T_d207c_row3_col4\" class=\"data row3 col4\" >0.956547</td>\n",
       "    </tr>\n",
       "    <tr>\n",
       "      <th id=\"T_d207c_level0_row4\" class=\"row_heading level0 row4\" >target</th>\n",
       "      <td id=\"T_d207c_row4_col0\" class=\"data row4 col0\" >0.782561</td>\n",
       "      <td id=\"T_d207c_row4_col1\" class=\"data row4 col1\" >-0.426658</td>\n",
       "      <td id=\"T_d207c_row4_col2\" class=\"data row4 col2\" >0.949035</td>\n",
       "      <td id=\"T_d207c_row4_col3\" class=\"data row4 col3\" >0.956547</td>\n",
       "      <td id=\"T_d207c_row4_col4\" class=\"data row4 col4\" >1.000000</td>\n",
       "    </tr>\n",
       "  </tbody>\n",
       "</table>\n"
      ],
      "text/plain": [
       "<pandas.io.formats.style.Styler at 0x7fe6f448c800>"
      ]
     },
     "execution_count": 98,
     "metadata": {},
     "output_type": "execute_result"
    }
   ],
   "source": [
    "corr_matrix.style.background_gradient()"
   ]
  },
  {
   "cell_type": "markdown",
   "metadata": {},
   "source": [
    "#### DIVIDIR LOS DATOS"
   ]
  },
  {
   "cell_type": "code",
   "execution_count": 100,
   "metadata": {},
   "outputs": [],
   "source": [
    "X_train, X_test, y_train, y_test = train_test_split(X, y, test_size=0.2, random_state=42)"
   ]
  },
  {
   "cell_type": "markdown",
   "metadata": {},
   "source": [
    "#### PREPARAR LOS DATOS"
   ]
  },
  {
   "cell_type": "markdown",
   "metadata": {},
   "source": [
    "Solo hay que estandarizar las columnas y por lo tanto se puede hacer directamente en la pipeline que define el modelo en el siguiente punto"
   ]
  },
  {
   "cell_type": "markdown",
   "metadata": {},
   "source": [
    "### SELECCIÓN Y ENTRENAMIENTO DEL MODELO"
   ]
  },
  {
   "cell_type": "markdown",
   "metadata": {},
   "source": [
    "Crear y entrenar el modelo con regresión logística y validacion cruzada ¿cuál es la exactitud en el conjunto de entrenamiento?"
   ]
  },
  {
   "cell_type": "code",
   "execution_count": 116,
   "metadata": {},
   "outputs": [],
   "source": [
    "model=LogisticRegression(random_state=42)\n",
    "\n",
    "preprocessing=StandardScaler()\n",
    "model = make_pipeline(preprocessing, algoritmo)\n",
    "\n",
    "predic=cross_val_predict(model, X_train, y_train, cv=10)\n",
    "\n"
   ]
  },
  {
   "cell_type": "markdown",
   "metadata": {},
   "source": [
    "Calcula matriz de confusion, precision, recall y f1 en el conjunto de entrenamiento"
   ]
  },
  {
   "cell_type": "code",
   "execution_count": null,
   "metadata": {},
   "outputs": [
    {
     "name": "stdout",
     "output_type": "stream",
     "text": [
      "Regresión logistica\n",
      "Matriz de confusion:\n",
      "[[40  0  0]\n",
      " [ 0 37  4]\n",
      " [ 0  4 35]]\n",
      "Exactitud: 0.9333333333333333\n",
      "Precision: 0.9332916406087137\n",
      "Sensibilidad: 0.9332916406087137\n",
      "F1: 0.9332916406087137\n"
     ]
    }
   ],
   "source": [
    "print(\"Regresión logistica\")\n",
    "#Matriz de confusion\n",
    "cm = confusion_matrix(y_train, predic)\n",
    "print(f\"Matriz de confusion:\")\n",
    "print(cm)\n",
    "\n",
    "#Exactitud\n",
    "print(f\"Exactitud: {accuracy_score(y_train, predic)}\")\n",
    "\n",
    "#Precision\n",
    "print(f\"Precision: {precision_score(y_train, predic, average='macro')}\")\n",
    "\n",
    "#Sensibilidad\n",
    "print(f\"Sensibilidad: {recall_score(y_train, predic, average='macro')}\")\n",
    "\n",
    "#F1\n",
    "print(f\"F1: {f1_score(y_train, predic, average='macro')}\")"
   ]
  },
  {
   "cell_type": "markdown",
   "metadata": {},
   "source": [
    "¿Qué podemos deducir?"
   ]
  },
  {
   "cell_type": "code",
   "execution_count": null,
   "metadata": {},
   "outputs": [],
   "source": [
    "#Podemos deducir que el modelo tiene un buen desempeño ya que la exactitud es muy alta, lo que significa que acierta\n",
    "# casi todas las veces. La precisión y sensibilidad también son bastante altas, \n",
    "# lo que sugiere que el modelo no solo es bueno para hacer predicciones generales, \n",
    "# sino también para identificar correctamente las clases sin generar muchos falsos positivos o negativos."
   ]
  },
  {
   "cell_type": "markdown",
   "metadata": {},
   "source": [
    "### OPTIMIZACIÓN DEL MODELO"
   ]
  },
  {
   "cell_type": "markdown",
   "metadata": {},
   "source": [
    "Aplica búsqueda exhaustiva con los hiperparámetros de LogisticRegression (C y solver) y guarda el mejor modelo en una variable."
   ]
  },
  {
   "cell_type": "code",
   "execution_count": 131,
   "metadata": {},
   "outputs": [
    {
     "name": "stdout",
     "output_type": "stream",
     "text": [
      "Mejores valores: {'logisticregression__C': 1, 'logisticregression__solver': 'lbfgs'}\n"
     ]
    }
   ],
   "source": [
    "param_grid = {\n",
    "    'logisticregression__C': [0.01, 0.1, 1, 10, 100],  \n",
    "    'logisticregression__solver': ['liblinear', 'lbfgs', 'newton-cg', 'saga']  \n",
    "}\n",
    "\n",
    "log_reg=make_pipeline(StandardScaler(), LogisticRegression(random_state=42, max_iter=1000))\n",
    "\n",
    "grid_search = GridSearchCV(log_reg, param_grid, cv=5, scoring='accuracy')\n",
    "grid_search.fit(X_train, y_train)\n",
    "\n",
    "# Obtener el mejor valor de alpha\n",
    "print(f\"Mejores valores: {grid_search.best_params_}\")\n",
    "\n",
    "final_model=grid_search.best_estimator_"
   ]
  },
  {
   "cell_type": "markdown",
   "metadata": {},
   "source": [
    "### EVALUACIÓN DEL MODELO"
   ]
  },
  {
   "cell_type": "markdown",
   "metadata": {},
   "source": [
    "Evalua este mejor modelo en el conjunto de pruebas (exactitud, matriz de confusión, precision, recall y f1)"
   ]
  },
  {
   "cell_type": "code",
   "execution_count": 134,
   "metadata": {},
   "outputs": [
    {
     "name": "stdout",
     "output_type": "stream",
     "text": [
      "Exactitud: 1.0\n",
      "Matriz de confusion:\n",
      "[[10  0  0]\n",
      " [ 0  9  0]\n",
      " [ 0  0 11]]\n",
      "Precision: 1.0\n",
      "Sensibilidad: 1.0\n",
      "F1: 1.0\n"
     ]
    }
   ],
   "source": [
    "final_predictions=final_model.predict(X_test)\n",
    "\n",
    "#Exactitud\n",
    "print(f\"Exactitud: {accuracy_score(y_test, final_predictions)}\")\n",
    "\n",
    "#Matriz de confusion\n",
    "cm = confusion_matrix(y_test, final_predictions)\n",
    "print(f\"Matriz de confusion:\")\n",
    "print(cm)\n",
    "\n",
    "#Precision\n",
    "print(f\"Precision: {precision_score(y_test, final_predictions, average='macro')}\")\n",
    "\n",
    "#Sensibilidad\n",
    "print(f\"Sensibilidad: {recall_score(y_test, final_predictions, average='macro')}\")\n",
    "\n",
    "#F1\n",
    "print(f\"F1: {f1_score(y_test, final_predictions, average='macro')}\")\n",
    "\n"
   ]
  },
  {
   "cell_type": "markdown",
   "metadata": {},
   "source": [
    "### PRESENTACIÓN DEL MODELO"
   ]
  },
  {
   "cell_type": "markdown",
   "metadata": {},
   "source": [
    "Guarda el modelo en un archivo"
   ]
  },
  {
   "cell_type": "code",
   "execution_count": 135,
   "metadata": {},
   "outputs": [
    {
     "data": {
      "text/plain": [
       "['flores.pkl']"
      ]
     },
     "execution_count": 135,
     "metadata": {},
     "output_type": "execute_result"
    }
   ],
   "source": [
    "joblib.dump(final_model, \"flores.pkl\")"
   ]
  },
  {
   "cell_type": "markdown",
   "metadata": {},
   "source": [
    "## EJERCICIO 5"
   ]
  },
  {
   "cell_type": "markdown",
   "metadata": {},
   "source": [
    "Intenta predecir las emisiones de CO2 con el menor error posible (sigue todos los pasos incluido crear un script para que haga predicciones).\n",
    "\n",
    "Prueba diferentes modelos para intentar construir el mejor modelo posible (explica todos los pasos que das hasta llegar a la solución, quiero ver también los modelos que pruebas y luego los rechazas)\n",
    "\n",
    "Dataset: https://www.kaggle.com/datasets/midhundasl/co2-emission-of-cars-dataset"
   ]
  }
 ],
 "metadata": {
  "kernelspec": {
   "display_name": "base",
   "language": "python",
   "name": "python3"
  },
  "language_info": {
   "codemirror_mode": {
    "name": "ipython",
    "version": 3
   },
   "file_extension": ".py",
   "mimetype": "text/x-python",
   "name": "python",
   "nbconvert_exporter": "python",
   "pygments_lexer": "ipython3",
   "version": "3.12.4"
  },
  "nav_menu": {},
  "toc": {
   "navigate_menu": true,
   "number_sections": true,
   "sideBar": true,
   "threshold": 6,
   "toc_cell": false,
   "toc_section_display": "block",
   "toc_window_display": false
  }
 },
 "nbformat": 4,
 "nbformat_minor": 4
}
