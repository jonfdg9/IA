{
 "cells": [
  {
   "cell_type": "markdown",
   "metadata": {},
   "source": [
    "# EJERCICIOS"
   ]
  },
  {
   "cell_type": "code",
   "execution_count": 14,
   "metadata": {},
   "outputs": [],
   "source": [
    "import matplotlib.pyplot as plt\n",
    "import numpy as np\n",
    "import pandas as pd\n",
    "import joblib\n",
    "import seaborn as sns\n",
    "from sklearn.datasets import load_digits\n",
    "from sklearn.neighbors import KNeighborsClassifier\n",
    "from sklearn.model_selection import GridSearchCV, train_test_split, RandomizedSearchCV, cross_validate\n",
    "from sklearn.preprocessing import StandardScaler, OneHotEncoder, MultiLabelBinarizer, FunctionTransformer\n",
    "from sklearn.compose import ColumnTransformer\n",
    "from sklearn.pipeline import Pipeline, make_pipeline\n",
    "from sklearn.linear_model import LogisticRegression, SGDClassifier\n",
    "from sklearn.ensemble import RandomForestClassifier\n",
    "from sklearn.metrics import roc_curve,confusion_matrix,make_scorer\n",
    "from sklearn.model_selection import cross_val_predict, cross_val_score\n",
    "from sklearn.svm import SVC \n",
    "from sklearn.impute import SimpleImputer\n",
    "from sklearn.model_selection import cross_val_predict\n",
    "from sklearn.metrics import confusion_matrix, precision_score, recall_score, f1_score, roc_curve, auc, accuracy_score\n",
    "from scipy.stats import reciprocal,uniform, randint\n",
    "from sklearn.feature_extraction.text import TfidfVectorizer"
   ]
  },
  {
   "cell_type": "markdown",
   "metadata": {},
   "source": [
    "## EJERCICIO 1"
   ]
  },
  {
   "cell_type": "markdown",
   "metadata": {},
   "source": [
    "Vamos a trabajar con el siguiente conjunto de datos: https://www.datacamp.com/es/datalab/datasets/dataset-python-loans\n",
    "\n",
    "| Variable      \t| Explicación                                                                                                             |\n",
    "|-------------------|-------------------------------------------------------------------------------------------------------------------------|\n",
    "| credit_policy\t    | 1 si el cliente cumple con los criterios de suscripción de crédito; 0 en caso contrario.                                |\n",
    "| purpose\t        | El propósito del préstamo.                                                                                              |\n",
    "| int_rate\t        | La tasa de interés del préstamo (a los prestatarios más riesgosos se les asignan tasas más altas).                      |\n",
    "| installment\t    | Las cuotas mensuales del prestamo                                                                                       |\n",
    "| log_annual_inc    | El logaritmo natural del ingreso anual declarado por el prestatario.                                                    |\n",
    "| dti\t            | La relación deuda-ingreso del prestatario (monto de deuda dividido por ingresos anuales).                               |\n",
    "| fico\t            | El puntaje de crédito FICO del prestatario.                                                                             |\n",
    "| days_with_cr_line\t| El número de días que el prestatario ha tenido una línea de crédito.                                                    |\n",
    "| revol_bal\t        | El saldo rotativo del prestatario (monto no pagado al final del ciclo de facturación de la tarjeta).                    |\n",
    "| revol_util        | La tasa de utilización de la línea de crédito del prestatario (monto de crédito utilizado respecto al total disponible).|\n",
    "| inq_last_6mths\t| El número de consultas de los acreedores al prestatario en los últimos 6 meses.                                         |\n",
    "| delinq_2yrs\t    | El número de veces que el prestatario ha estado más de 30 días en mora en un pago en los últimos 2 años.                |\n",
    "| pub_rec\t        | El número de registros públicos despectivos del prestatario.                                                            |\n",
    "| not_fully_paid    | 1 si el préstamo se pagó totalmente; 0 en caso contrario.                                                        |\n",
    "\n",
    "El csv lo tienes disponible en Moodle\n",
    "\n",
    "Este conjunto de datos consta de más de 9500 préstamos con información sobre los datos del préstamo y si el préstamo fue pagado en su totalidad o no. Estos datos fueron extraídos de LendingClub.com\n",
    "Crea un clasificador para predecir si un prestamo va a ser pagado o no."
   ]
  },
  {
   "cell_type": "markdown",
   "metadata": {},
   "source": [
    "### RECOPILACIÓN Y PREPARACIÓN DE LOS DATOS"
   ]
  },
  {
   "cell_type": "markdown",
   "metadata": {},
   "source": [
    "#### OBTENER LOS DATOS"
   ]
  },
  {
   "cell_type": "code",
   "execution_count": 15,
   "metadata": {},
   "outputs": [],
   "source": [
    "loan_data = pd.read_csv(\"datos/loan_data.csv\")"
   ]
  },
  {
   "cell_type": "markdown",
   "metadata": {},
   "source": [
    "#### EXPLORAR LOS DATOS"
   ]
  },
  {
   "cell_type": "markdown",
   "metadata": {},
   "source": [
    "Entre otras cosas: estadísticas, matriz de correlaciones y borrar columnas innecesarias."
   ]
  },
  {
   "cell_type": "code",
   "execution_count": 16,
   "metadata": {},
   "outputs": [
    {
     "data": {
      "text/html": [
       "<div>\n",
       "<style scoped>\n",
       "    .dataframe tbody tr th:only-of-type {\n",
       "        vertical-align: middle;\n",
       "    }\n",
       "\n",
       "    .dataframe tbody tr th {\n",
       "        vertical-align: top;\n",
       "    }\n",
       "\n",
       "    .dataframe thead th {\n",
       "        text-align: right;\n",
       "    }\n",
       "</style>\n",
       "<table border=\"1\" class=\"dataframe\">\n",
       "  <thead>\n",
       "    <tr style=\"text-align: right;\">\n",
       "      <th></th>\n",
       "      <th>credit.policy</th>\n",
       "      <th>purpose</th>\n",
       "      <th>int.rate</th>\n",
       "      <th>installment</th>\n",
       "      <th>log.annual.inc</th>\n",
       "      <th>dti</th>\n",
       "      <th>fico</th>\n",
       "      <th>days.with.cr.line</th>\n",
       "      <th>revol.bal</th>\n",
       "      <th>revol.util</th>\n",
       "      <th>inq.last.6mths</th>\n",
       "      <th>delinq.2yrs</th>\n",
       "      <th>pub.rec</th>\n",
       "      <th>not.fully.paid</th>\n",
       "    </tr>\n",
       "  </thead>\n",
       "  <tbody>\n",
       "    <tr>\n",
       "      <th>0</th>\n",
       "      <td>1</td>\n",
       "      <td>debt_consolidation</td>\n",
       "      <td>0.1189</td>\n",
       "      <td>829.10</td>\n",
       "      <td>11.350407</td>\n",
       "      <td>19.48</td>\n",
       "      <td>737</td>\n",
       "      <td>5639.958333</td>\n",
       "      <td>28854</td>\n",
       "      <td>52.1</td>\n",
       "      <td>0</td>\n",
       "      <td>0</td>\n",
       "      <td>0</td>\n",
       "      <td>0</td>\n",
       "    </tr>\n",
       "    <tr>\n",
       "      <th>1</th>\n",
       "      <td>1</td>\n",
       "      <td>credit_card</td>\n",
       "      <td>0.1071</td>\n",
       "      <td>228.22</td>\n",
       "      <td>11.082143</td>\n",
       "      <td>14.29</td>\n",
       "      <td>707</td>\n",
       "      <td>2760.000000</td>\n",
       "      <td>33623</td>\n",
       "      <td>76.7</td>\n",
       "      <td>0</td>\n",
       "      <td>0</td>\n",
       "      <td>0</td>\n",
       "      <td>0</td>\n",
       "    </tr>\n",
       "    <tr>\n",
       "      <th>2</th>\n",
       "      <td>1</td>\n",
       "      <td>debt_consolidation</td>\n",
       "      <td>0.1357</td>\n",
       "      <td>366.86</td>\n",
       "      <td>10.373491</td>\n",
       "      <td>11.63</td>\n",
       "      <td>682</td>\n",
       "      <td>4710.000000</td>\n",
       "      <td>3511</td>\n",
       "      <td>25.6</td>\n",
       "      <td>1</td>\n",
       "      <td>0</td>\n",
       "      <td>0</td>\n",
       "      <td>0</td>\n",
       "    </tr>\n",
       "    <tr>\n",
       "      <th>3</th>\n",
       "      <td>1</td>\n",
       "      <td>debt_consolidation</td>\n",
       "      <td>0.1008</td>\n",
       "      <td>162.34</td>\n",
       "      <td>11.350407</td>\n",
       "      <td>8.10</td>\n",
       "      <td>712</td>\n",
       "      <td>2699.958333</td>\n",
       "      <td>33667</td>\n",
       "      <td>73.2</td>\n",
       "      <td>1</td>\n",
       "      <td>0</td>\n",
       "      <td>0</td>\n",
       "      <td>0</td>\n",
       "    </tr>\n",
       "    <tr>\n",
       "      <th>4</th>\n",
       "      <td>1</td>\n",
       "      <td>credit_card</td>\n",
       "      <td>0.1426</td>\n",
       "      <td>102.92</td>\n",
       "      <td>11.299732</td>\n",
       "      <td>14.97</td>\n",
       "      <td>667</td>\n",
       "      <td>4066.000000</td>\n",
       "      <td>4740</td>\n",
       "      <td>39.5</td>\n",
       "      <td>0</td>\n",
       "      <td>1</td>\n",
       "      <td>0</td>\n",
       "      <td>0</td>\n",
       "    </tr>\n",
       "  </tbody>\n",
       "</table>\n",
       "</div>"
      ],
      "text/plain": [
       "   credit.policy             purpose  int.rate  installment  log.annual.inc  \\\n",
       "0              1  debt_consolidation    0.1189       829.10       11.350407   \n",
       "1              1         credit_card    0.1071       228.22       11.082143   \n",
       "2              1  debt_consolidation    0.1357       366.86       10.373491   \n",
       "3              1  debt_consolidation    0.1008       162.34       11.350407   \n",
       "4              1         credit_card    0.1426       102.92       11.299732   \n",
       "\n",
       "     dti  fico  days.with.cr.line  revol.bal  revol.util  inq.last.6mths  \\\n",
       "0  19.48   737        5639.958333      28854        52.1               0   \n",
       "1  14.29   707        2760.000000      33623        76.7               0   \n",
       "2  11.63   682        4710.000000       3511        25.6               1   \n",
       "3   8.10   712        2699.958333      33667        73.2               1   \n",
       "4  14.97   667        4066.000000       4740        39.5               0   \n",
       "\n",
       "   delinq.2yrs  pub.rec  not.fully.paid  \n",
       "0            0        0               0  \n",
       "1            0        0               0  \n",
       "2            0        0               0  \n",
       "3            0        0               0  \n",
       "4            1        0               0  "
      ]
     },
     "execution_count": 16,
     "metadata": {},
     "output_type": "execute_result"
    }
   ],
   "source": [
    "loan_data.head()"
   ]
  },
  {
   "cell_type": "code",
   "execution_count": 17,
   "metadata": {},
   "outputs": [
    {
     "name": "stdout",
     "output_type": "stream",
     "text": [
      "<class 'pandas.core.frame.DataFrame'>\n",
      "RangeIndex: 9578 entries, 0 to 9577\n",
      "Data columns (total 14 columns):\n",
      " #   Column             Non-Null Count  Dtype  \n",
      "---  ------             --------------  -----  \n",
      " 0   credit.policy      9578 non-null   int64  \n",
      " 1   purpose            9578 non-null   object \n",
      " 2   int.rate           9578 non-null   float64\n",
      " 3   installment        9578 non-null   float64\n",
      " 4   log.annual.inc     9578 non-null   float64\n",
      " 5   dti                9578 non-null   float64\n",
      " 6   fico               9578 non-null   int64  \n",
      " 7   days.with.cr.line  9578 non-null   float64\n",
      " 8   revol.bal          9578 non-null   int64  \n",
      " 9   revol.util         9578 non-null   float64\n",
      " 10  inq.last.6mths     9578 non-null   int64  \n",
      " 11  delinq.2yrs        9578 non-null   int64  \n",
      " 12  pub.rec            9578 non-null   int64  \n",
      " 13  not.fully.paid     9578 non-null   int64  \n",
      "dtypes: float64(6), int64(7), object(1)\n",
      "memory usage: 1.0+ MB\n"
     ]
    }
   ],
   "source": [
    "loan_data.info()"
   ]
  },
  {
   "cell_type": "code",
   "execution_count": 18,
   "metadata": {},
   "outputs": [
    {
     "data": {
      "image/png": "[encoded data removed]",
      "text/plain": [
       "<Figure size 1200x1200 with 14 Axes>"
      ]
     },
     "metadata": {},
     "output_type": "display_data"
    }
   ],
   "source": [
    "df_object = loan_data.select_dtypes(include=[\"object\",\"category\"])\n",
    "df_num = loan_data.select_dtypes(include=[np.number])\n",
    "\n",
    "plt.figure(figsize=(12,12))\n",
    "\n",
    "subplot_index=1\n",
    "\n",
    "for col in df_num:\n",
    "    plt.subplot(7,2,subplot_index)\n",
    "    sns.histplot(x=loan_data[col])\n",
    "    subplot_index+=1\n",
    "\n",
    "for col in df_object:\n",
    "    plt.subplot(7,2,subplot_index)\n",
    "    sns.histplot(x=loan_data[col])\n",
    "    subplot_index+=1\n",
    "\n",
    "plt.tight_layout()\n",
    "plt.show()"
   ]
  },
  {
   "cell_type": "code",
   "execution_count": 19,
   "metadata": {},
   "outputs": [
    {
     "data": {
      "text/plain": [
       "not.fully.paid       1.000000\n",
       "int.rate             0.159552\n",
       "inq.last.6mths       0.149452\n",
       "revol.util           0.082088\n",
       "revol.bal            0.053699\n",
       "installment          0.049955\n",
       "pub.rec              0.048634\n",
       "dti                  0.037362\n",
       "delinq.2yrs          0.008881\n",
       "days.with.cr.line   -0.029237\n",
       "log.annual.inc      -0.033439\n",
       "fico                -0.149666\n",
       "credit.policy       -0.158119\n",
       "Name: not.fully.paid, dtype: float64"
      ]
     },
     "execution_count": 19,
     "metadata": {},
     "output_type": "execute_result"
    }
   ],
   "source": [
    "corr_matrix = loan_data.corr(numeric_only=True)\n",
    "corr_matrix['not.fully.paid'].sort_values(ascending=False)"
   ]
  },
  {
   "cell_type": "code",
   "execution_count": 20,
   "metadata": {},
   "outputs": [
    {
     "data": {
      "text/html": [
       "<style type=\"text/css\">\n",
       "#T_35ce9_row0_col0, #T_35ce9_row1_col1, #T_35ce9_row2_col2, #T_35ce9_row3_col3, #T_35ce9_row4_col4, #T_35ce9_row5_col5, #T_35ce9_row6_col6, #T_35ce9_row7_col7, #T_35ce9_row8_col8, #T_35ce9_row9_col9, #T_35ce9_row10_col10, #T_35ce9_row11_col11, #T_35ce9_row12_col12 {\n",
       "  background-color: #023858;\n",
       "  color: #f1f1f1;\n",
       "}\n",
       "#T_35ce9_row0_col1, #T_35ce9_row6_col4, #T_35ce9_row6_col10, #T_35ce9_row12_col0 {\n",
       "  background-color: #d2d2e7;\n",
       "  color: #000000;\n",
       "}\n",
       "#T_35ce9_row0_col2, #T_35ce9_row0_col3, #T_35ce9_row8_col6, #T_35ce9_row12_col6 {\n",
       "  background-color: #f2ecf5;\n",
       "  color: #000000;\n",
       "}\n",
       "#T_35ce9_row0_col4 {\n",
       "  background-color: #ede8f3;\n",
       "  color: #000000;\n",
       "}\n",
       "#T_35ce9_row0_col5 {\n",
       "  background-color: #3991c1;\n",
       "  color: #f1f1f1;\n",
       "}\n",
       "#T_35ce9_row0_col6, #T_35ce9_row9_col10 {\n",
       "  background-color: #dcdaeb;\n",
       "  color: #000000;\n",
       "}\n",
       "#T_35ce9_row0_col7, #T_35ce9_row0_col9, #T_35ce9_row0_col12, #T_35ce9_row1_col5, #T_35ce9_row1_col6, #T_35ce9_row4_col3, #T_35ce9_row5_col1, #T_35ce9_row5_col4, #T_35ce9_row5_col8, #T_35ce9_row5_col10, #T_35ce9_row5_col11, #T_35ce9_row9_col0, #T_35ce9_row11_col2 {\n",
       "  background-color: #fff7fb;\n",
       "  color: #000000;\n",
       "}\n",
       "#T_35ce9_row0_col8 {\n",
       "  background-color: #c5cce3;\n",
       "  color: #000000;\n",
       "}\n",
       "#T_35ce9_row0_col10, #T_35ce9_row5_col2 {\n",
       "  background-color: #eee8f3;\n",
       "  color: #000000;\n",
       "}\n",
       "#T_35ce9_row0_col11, #T_35ce9_row4_col2, #T_35ce9_row9_col3, #T_35ce9_row10_col3, #T_35ce9_row12_col2 {\n",
       "  background-color: #f3edf5;\n",
       "  color: #000000;\n",
       "}\n",
       "#T_35ce9_row1_col0, #T_35ce9_row4_col10, #T_35ce9_row5_col3 {\n",
       "  background-color: #e5e1ef;\n",
       "  color: #000000;\n",
       "}\n",
       "#T_35ce9_row1_col2, #T_35ce9_row10_col0 {\n",
       "  background-color: #c0c9e2;\n",
       "  color: #000000;\n",
       "}\n",
       "#T_35ce9_row1_col3, #T_35ce9_row2_col11, #T_35ce9_row7_col11, #T_35ce9_row8_col3, #T_35ce9_row8_col5 {\n",
       "  background-color: #f0eaf4;\n",
       "  color: #000000;\n",
       "}\n",
       "#T_35ce9_row1_col4, #T_35ce9_row3_col0 {\n",
       "  background-color: #a7bddb;\n",
       "  color: #000000;\n",
       "}\n",
       "#T_35ce9_row1_col7, #T_35ce9_row2_col4 {\n",
       "  background-color: #d3d4e7;\n",
       "  color: #000000;\n",
       "}\n",
       "#T_35ce9_row1_col8 {\n",
       "  background-color: #2a88bc;\n",
       "  color: #f1f1f1;\n",
       "}\n",
       "#T_35ce9_row1_col9, #T_35ce9_row3_col5, #T_35ce9_row7_col8 {\n",
       "  background-color: #7bacd1;\n",
       "  color: #f1f1f1;\n",
       "}\n",
       "#T_35ce9_row1_col10 {\n",
       "  background-color: #bdc8e1;\n",
       "  color: #000000;\n",
       "}\n",
       "#T_35ce9_row1_col11, #T_35ce9_row6_col2, #T_35ce9_row8_col12 {\n",
       "  background-color: #d9d8ea;\n",
       "  color: #000000;\n",
       "}\n",
       "#T_35ce9_row1_col12, #T_35ce9_row4_col5 {\n",
       "  background-color: #c8cde4;\n",
       "  color: #000000;\n",
       "}\n",
       "#T_35ce9_row2_col0, #T_35ce9_row3_col8 {\n",
       "  background-color: #a1bbda;\n",
       "  color: #000000;\n",
       "}\n",
       "#T_35ce9_row2_col1, #T_35ce9_row5_col0 {\n",
       "  background-color: #4e9ac6;\n",
       "  color: #f1f1f1;\n",
       "}\n",
       "#T_35ce9_row2_col3, #T_35ce9_row11_col1 {\n",
       "  background-color: #7eadd1;\n",
       "  color: #f1f1f1;\n",
       "}\n",
       "#T_35ce9_row2_col5, #T_35ce9_row3_col2, #T_35ce9_row8_col4 {\n",
       "  background-color: #81aed2;\n",
       "  color: #f1f1f1;\n",
       "}\n",
       "#T_35ce9_row2_col6 {\n",
       "  background-color: #c9cee4;\n",
       "  color: #000000;\n",
       "}\n",
       "#T_35ce9_row2_col7 {\n",
       "  background-color: #adc1dd;\n",
       "  color: #000000;\n",
       "}\n",
       "#T_35ce9_row2_col8, #T_35ce9_row7_col3, #T_35ce9_row12_col8 {\n",
       "  background-color: #9ab8d8;\n",
       "  color: #000000;\n",
       "}\n",
       "#T_35ce9_row2_col9, #T_35ce9_row9_col8 {\n",
       "  background-color: #b1c2de;\n",
       "  color: #000000;\n",
       "}\n",
       "#T_35ce9_row2_col10, #T_35ce9_row11_col6 {\n",
       "  background-color: #e1dfed;\n",
       "  color: #000000;\n",
       "}\n",
       "#T_35ce9_row2_col12, #T_35ce9_row9_col7, #T_35ce9_row10_col4, #T_35ce9_row11_col12 {\n",
       "  background-color: #e0deed;\n",
       "  color: #000000;\n",
       "}\n",
       "#T_35ce9_row3_col1 {\n",
       "  background-color: #88b1d4;\n",
       "  color: #000000;\n",
       "}\n",
       "#T_35ce9_row3_col4, #T_35ce9_row5_col7, #T_35ce9_row7_col10 {\n",
       "  background-color: #e7e3f0;\n",
       "  color: #000000;\n",
       "}\n",
       "#T_35ce9_row3_col6, #T_35ce9_row7_col5 {\n",
       "  background-color: #99b8d8;\n",
       "  color: #000000;\n",
       "}\n",
       "#T_35ce9_row3_col7, #T_35ce9_row7_col1 {\n",
       "  background-color: #80aed2;\n",
       "  color: #f1f1f1;\n",
       "}\n",
       "#T_35ce9_row3_col9, #T_35ce9_row4_col9, #T_35ce9_row6_col3 {\n",
       "  background-color: #a8bedc;\n",
       "  color: #000000;\n",
       "}\n",
       "#T_35ce9_row3_col10, #T_35ce9_row11_col4 {\n",
       "  background-color: #dbdaeb;\n",
       "  color: #000000;\n",
       "}\n",
       "#T_35ce9_row3_col11, #T_35ce9_row8_col10, #T_35ce9_row10_col12 {\n",
       "  background-color: #e8e4f0;\n",
       "  color: #000000;\n",
       "}\n",
       "#T_35ce9_row3_col12 {\n",
       "  background-color: #efe9f3;\n",
       "  color: #000000;\n",
       "}\n",
       "#T_35ce9_row4_col0, #T_35ce9_row10_col5 {\n",
       "  background-color: #c2cbe2;\n",
       "  color: #000000;\n",
       "}\n",
       "#T_35ce9_row4_col1 {\n",
       "  background-color: #5ea0ca;\n",
       "  color: #f1f1f1;\n",
       "}\n",
       "#T_35ce9_row4_col6 {\n",
       "  background-color: #e4e1ef;\n",
       "  color: #000000;\n",
       "}\n",
       "#T_35ce9_row4_col7 {\n",
       "  background-color: #b9c6e0;\n",
       "  color: #000000;\n",
       "}\n",
       "#T_35ce9_row4_col8 {\n",
       "  background-color: #529bc7;\n",
       "  color: #f1f1f1;\n",
       "}\n",
       "#T_35ce9_row4_col11, #T_35ce9_row10_col11 {\n",
       "  background-color: #eae6f1;\n",
       "  color: #000000;\n",
       "}\n",
       "#T_35ce9_row4_col12, #T_35ce9_row12_col11 {\n",
       "  background-color: #e2dfee;\n",
       "  color: #000000;\n",
       "}\n",
       "#T_35ce9_row5_col6, #T_35ce9_row6_col1, #T_35ce9_row7_col4 {\n",
       "  background-color: #b0c2de;\n",
       "  color: #000000;\n",
       "}\n",
       "#T_35ce9_row5_col9, #T_35ce9_row7_col0 {\n",
       "  background-color: #d5d5e8;\n",
       "  color: #000000;\n",
       "}\n",
       "#T_35ce9_row5_col12 {\n",
       "  background-color: #fef6fb;\n",
       "  color: #000000;\n",
       "}\n",
       "#T_35ce9_row6_col0 {\n",
       "  background-color: #97b7d7;\n",
       "  color: #000000;\n",
       "}\n",
       "#T_35ce9_row6_col5 {\n",
       "  background-color: #509ac6;\n",
       "  color: #f1f1f1;\n",
       "}\n",
       "#T_35ce9_row6_col7 {\n",
       "  background-color: #afc1dd;\n",
       "  color: #000000;\n",
       "}\n",
       "#T_35ce9_row6_col8 {\n",
       "  background-color: #b4c4df;\n",
       "  color: #000000;\n",
       "}\n",
       "#T_35ce9_row6_col9, #T_35ce9_row10_col8 {\n",
       "  background-color: #b8c6e0;\n",
       "  color: #000000;\n",
       "}\n",
       "#T_35ce9_row6_col11 {\n",
       "  background-color: #dedcec;\n",
       "  color: #000000;\n",
       "}\n",
       "#T_35ce9_row6_col12, #T_35ce9_row8_col2 {\n",
       "  background-color: #eee9f3;\n",
       "  color: #000000;\n",
       "}\n",
       "#T_35ce9_row7_col2 {\n",
       "  background-color: #cdd0e5;\n",
       "  color: #000000;\n",
       "}\n",
       "#T_35ce9_row7_col6, #T_35ce9_row11_col0 {\n",
       "  background-color: #bbc7e0;\n",
       "  color: #000000;\n",
       "}\n",
       "#T_35ce9_row7_col9 {\n",
       "  background-color: #a9bfdc;\n",
       "  color: #000000;\n",
       "}\n",
       "#T_35ce9_row7_col12, #T_35ce9_row10_col6 {\n",
       "  background-color: #e0dded;\n",
       "  color: #000000;\n",
       "}\n",
       "#T_35ce9_row8_col0 {\n",
       "  background-color: #c6cce3;\n",
       "  color: #000000;\n",
       "}\n",
       "#T_35ce9_row8_col1 {\n",
       "  background-color: #1c7fb8;\n",
       "  color: #f1f1f1;\n",
       "}\n",
       "#T_35ce9_row8_col7, #T_35ce9_row11_col5, #T_35ce9_row12_col5 {\n",
       "  background-color: #b5c4df;\n",
       "  color: #000000;\n",
       "}\n",
       "#T_35ce9_row8_col9 {\n",
       "  background-color: #b3c3de;\n",
       "  color: #000000;\n",
       "}\n",
       "#T_35ce9_row8_col11, #T_35ce9_row11_col10, #T_35ce9_row12_col10 {\n",
       "  background-color: #dfddec;\n",
       "  color: #000000;\n",
       "}\n",
       "#T_35ce9_row9_col1 {\n",
       "  background-color: #63a2cb;\n",
       "  color: #f1f1f1;\n",
       "}\n",
       "#T_35ce9_row9_col2, #T_35ce9_row12_col3 {\n",
       "  background-color: #fcf4fa;\n",
       "  color: #000000;\n",
       "}\n",
       "#T_35ce9_row9_col4 {\n",
       "  background-color: #d8d7e9;\n",
       "  color: #000000;\n",
       "}\n",
       "#T_35ce9_row9_col5 {\n",
       "  background-color: #bcc7e1;\n",
       "  color: #000000;\n",
       "}\n",
       "#T_35ce9_row9_col6 {\n",
       "  background-color: #f4eef6;\n",
       "  color: #000000;\n",
       "}\n",
       "#T_35ce9_row9_col11 {\n",
       "  background-color: #dddbec;\n",
       "  color: #000000;\n",
       "}\n",
       "#T_35ce9_row9_col12 {\n",
       "  background-color: #cccfe5;\n",
       "  color: #000000;\n",
       "}\n",
       "#T_35ce9_row10_col1, #T_35ce9_row12_col1 {\n",
       "  background-color: #6fa7ce;\n",
       "  color: #f1f1f1;\n",
       "}\n",
       "#T_35ce9_row10_col2 {\n",
       "  background-color: #fbf3f9;\n",
       "  color: #000000;\n",
       "}\n",
       "#T_35ce9_row10_col7, #T_35ce9_row11_col7 {\n",
       "  background-color: #ebe6f2;\n",
       "  color: #000000;\n",
       "}\n",
       "#T_35ce9_row10_col9 {\n",
       "  background-color: #abbfdc;\n",
       "  color: #000000;\n",
       "}\n",
       "#T_35ce9_row11_col3 {\n",
       "  background-color: #f5eef6;\n",
       "  color: #000000;\n",
       "}\n",
       "#T_35ce9_row11_col8 {\n",
       "  background-color: #9fbad9;\n",
       "  color: #000000;\n",
       "}\n",
       "#T_35ce9_row11_col9 {\n",
       "  background-color: #9ebad9;\n",
       "  color: #000000;\n",
       "}\n",
       "#T_35ce9_row12_col4 {\n",
       "  background-color: #d6d6e9;\n",
       "  color: #000000;\n",
       "}\n",
       "#T_35ce9_row12_col7 {\n",
       "  background-color: #dad9ea;\n",
       "  color: #000000;\n",
       "}\n",
       "#T_35ce9_row12_col9 {\n",
       "  background-color: #89b1d4;\n",
       "  color: #000000;\n",
       "}\n",
       "</style>\n",
       "<table id=\"T_35ce9\">\n",
       "  <thead>\n",
       "    <tr>\n",
       "      <th class=\"blank level0\" >&nbsp;</th>\n",
       "      <th id=\"T_35ce9_level0_col0\" class=\"col_heading level0 col0\" >credit.policy</th>\n",
       "      <th id=\"T_35ce9_level0_col1\" class=\"col_heading level0 col1\" >int.rate</th>\n",
       "      <th id=\"T_35ce9_level0_col2\" class=\"col_heading level0 col2\" >installment</th>\n",
       "      <th id=\"T_35ce9_level0_col3\" class=\"col_heading level0 col3\" >log.annual.inc</th>\n",
       "      <th id=\"T_35ce9_level0_col4\" class=\"col_heading level0 col4\" >dti</th>\n",
       "      <th id=\"T_35ce9_level0_col5\" class=\"col_heading level0 col5\" >fico</th>\n",
       "      <th id=\"T_35ce9_level0_col6\" class=\"col_heading level0 col6\" >days.with.cr.line</th>\n",
       "      <th id=\"T_35ce9_level0_col7\" class=\"col_heading level0 col7\" >revol.bal</th>\n",
       "      <th id=\"T_35ce9_level0_col8\" class=\"col_heading level0 col8\" >revol.util</th>\n",
       "      <th id=\"T_35ce9_level0_col9\" class=\"col_heading level0 col9\" >inq.last.6mths</th>\n",
       "      <th id=\"T_35ce9_level0_col10\" class=\"col_heading level0 col10\" >delinq.2yrs</th>\n",
       "      <th id=\"T_35ce9_level0_col11\" class=\"col_heading level0 col11\" >pub.rec</th>\n",
       "      <th id=\"T_35ce9_level0_col12\" class=\"col_heading level0 col12\" >not.fully.paid</th>\n",
       "    </tr>\n",
       "  </thead>\n",
       "  <tbody>\n",
       "    <tr>\n",
       "      <th id=\"T_35ce9_level0_row0\" class=\"row_heading level0 row0\" >credit.policy</th>\n",
       "      <td id=\"T_35ce9_row0_col0\" class=\"data row0 col0\" >1.000000</td>\n",
       "      <td id=\"T_35ce9_row0_col1\" class=\"data row0 col1\" >-0.294089</td>\n",
       "      <td id=\"T_35ce9_row0_col2\" class=\"data row0 col2\" >0.058770</td>\n",
       "      <td id=\"T_35ce9_row0_col3\" class=\"data row0 col3\" >0.034906</td>\n",
       "      <td id=\"T_35ce9_row0_col4\" class=\"data row0 col4\" >-0.090901</td>\n",
       "      <td id=\"T_35ce9_row0_col5\" class=\"data row0 col5\" >0.348319</td>\n",
       "      <td id=\"T_35ce9_row0_col6\" class=\"data row0 col6\" >0.099026</td>\n",
       "      <td id=\"T_35ce9_row0_col7\" class=\"data row0 col7\" >-0.187518</td>\n",
       "      <td id=\"T_35ce9_row0_col8\" class=\"data row0 col8\" >-0.104095</td>\n",
       "      <td id=\"T_35ce9_row0_col9\" class=\"data row0 col9\" >-0.535511</td>\n",
       "      <td id=\"T_35ce9_row0_col10\" class=\"data row0 col10\" >-0.076318</td>\n",
       "      <td id=\"T_35ce9_row0_col11\" class=\"data row0 col11\" >-0.054243</td>\n",
       "      <td id=\"T_35ce9_row0_col12\" class=\"data row0 col12\" >-0.158119</td>\n",
       "    </tr>\n",
       "    <tr>\n",
       "      <th id=\"T_35ce9_level0_row1\" class=\"row_heading level0 row1\" >int.rate</th>\n",
       "      <td id=\"T_35ce9_row1_col0\" class=\"data row1 col0\" >-0.294089</td>\n",
       "      <td id=\"T_35ce9_row1_col1\" class=\"data row1 col1\" >1.000000</td>\n",
       "      <td id=\"T_35ce9_row1_col2\" class=\"data row1 col2\" >0.276140</td>\n",
       "      <td id=\"T_35ce9_row1_col3\" class=\"data row1 col3\" >0.056383</td>\n",
       "      <td id=\"T_35ce9_row1_col4\" class=\"data row1 col4\" >0.220006</td>\n",
       "      <td id=\"T_35ce9_row1_col5\" class=\"data row1 col5\" >-0.714821</td>\n",
       "      <td id=\"T_35ce9_row1_col6\" class=\"data row1 col6\" >-0.124022</td>\n",
       "      <td id=\"T_35ce9_row1_col7\" class=\"data row1 col7\" >0.092527</td>\n",
       "      <td id=\"T_35ce9_row1_col8\" class=\"data row1 col8\" >0.464837</td>\n",
       "      <td id=\"T_35ce9_row1_col9\" class=\"data row1 col9\" >0.202780</td>\n",
       "      <td id=\"T_35ce9_row1_col10\" class=\"data row1 col10\" >0.156079</td>\n",
       "      <td id=\"T_35ce9_row1_col11\" class=\"data row1 col11\" >0.098162</td>\n",
       "      <td id=\"T_35ce9_row1_col12\" class=\"data row1 col12\" >0.159552</td>\n",
       "    </tr>\n",
       "    <tr>\n",
       "      <th id=\"T_35ce9_level0_row2\" class=\"row_heading level0 row2\" >installment</th>\n",
       "      <td id=\"T_35ce9_row2_col0\" class=\"data row2 col0\" >0.058770</td>\n",
       "      <td id=\"T_35ce9_row2_col1\" class=\"data row2 col1\" >0.276140</td>\n",
       "      <td id=\"T_35ce9_row2_col2\" class=\"data row2 col2\" >1.000000</td>\n",
       "      <td id=\"T_35ce9_row2_col3\" class=\"data row2 col3\" >0.448102</td>\n",
       "      <td id=\"T_35ce9_row2_col4\" class=\"data row2 col4\" >0.050202</td>\n",
       "      <td id=\"T_35ce9_row2_col5\" class=\"data row2 col5\" >0.086039</td>\n",
       "      <td id=\"T_35ce9_row2_col6\" class=\"data row2 col6\" >0.183297</td>\n",
       "      <td id=\"T_35ce9_row2_col7\" class=\"data row2 col7\" >0.233625</td>\n",
       "      <td id=\"T_35ce9_row2_col8\" class=\"data row2 col8\" >0.081356</td>\n",
       "      <td id=\"T_35ce9_row2_col9\" class=\"data row2 col9\" >-0.010419</td>\n",
       "      <td id=\"T_35ce9_row2_col10\" class=\"data row2 col10\" >-0.004368</td>\n",
       "      <td id=\"T_35ce9_row2_col11\" class=\"data row2 col11\" >-0.032760</td>\n",
       "      <td id=\"T_35ce9_row2_col12\" class=\"data row2 col12\" >0.049955</td>\n",
       "    </tr>\n",
       "    <tr>\n",
       "      <th id=\"T_35ce9_level0_row3\" class=\"row_heading level0 row3\" >log.annual.inc</th>\n",
       "      <td id=\"T_35ce9_row3_col0\" class=\"data row3 col0\" >0.034906</td>\n",
       "      <td id=\"T_35ce9_row3_col1\" class=\"data row3 col1\" >0.056383</td>\n",
       "      <td id=\"T_35ce9_row3_col2\" class=\"data row3 col2\" >0.448102</td>\n",
       "      <td id=\"T_35ce9_row3_col3\" class=\"data row3 col3\" >1.000000</td>\n",
       "      <td id=\"T_35ce9_row3_col4\" class=\"data row3 col4\" >-0.054065</td>\n",
       "      <td id=\"T_35ce9_row3_col5\" class=\"data row3 col5\" >0.114576</td>\n",
       "      <td id=\"T_35ce9_row3_col6\" class=\"data row3 col6\" >0.336896</td>\n",
       "      <td id=\"T_35ce9_row3_col7\" class=\"data row3 col7\" >0.372140</td>\n",
       "      <td id=\"T_35ce9_row3_col8\" class=\"data row3 col8\" >0.054881</td>\n",
       "      <td id=\"T_35ce9_row3_col9\" class=\"data row3 col9\" >0.029171</td>\n",
       "      <td id=\"T_35ce9_row3_col10\" class=\"data row3 col10\" >0.029203</td>\n",
       "      <td id=\"T_35ce9_row3_col11\" class=\"data row3 col11\" >0.016506</td>\n",
       "      <td id=\"T_35ce9_row3_col12\" class=\"data row3 col12\" >-0.033439</td>\n",
       "    </tr>\n",
       "    <tr>\n",
       "      <th id=\"T_35ce9_level0_row4\" class=\"row_heading level0 row4\" >dti</th>\n",
       "      <td id=\"T_35ce9_row4_col0\" class=\"data row4 col0\" >-0.090901</td>\n",
       "      <td id=\"T_35ce9_row4_col1\" class=\"data row4 col1\" >0.220006</td>\n",
       "      <td id=\"T_35ce9_row4_col2\" class=\"data row4 col2\" >0.050202</td>\n",
       "      <td id=\"T_35ce9_row4_col3\" class=\"data row4 col3\" >-0.054065</td>\n",
       "      <td id=\"T_35ce9_row4_col4\" class=\"data row4 col4\" >1.000000</td>\n",
       "      <td id=\"T_35ce9_row4_col5\" class=\"data row4 col5\" >-0.241191</td>\n",
       "      <td id=\"T_35ce9_row4_col6\" class=\"data row4 col6\" >0.060101</td>\n",
       "      <td id=\"T_35ce9_row4_col7\" class=\"data row4 col7\" >0.188748</td>\n",
       "      <td id=\"T_35ce9_row4_col8\" class=\"data row4 col8\" >0.337109</td>\n",
       "      <td id=\"T_35ce9_row4_col9\" class=\"data row4 col9\" >0.029189</td>\n",
       "      <td id=\"T_35ce9_row4_col10\" class=\"data row4 col10\" >-0.021792</td>\n",
       "      <td id=\"T_35ce9_row4_col11\" class=\"data row4 col11\" >0.006209</td>\n",
       "      <td id=\"T_35ce9_row4_col12\" class=\"data row4 col12\" >0.037362</td>\n",
       "    </tr>\n",
       "    <tr>\n",
       "      <th id=\"T_35ce9_level0_row5\" class=\"row_heading level0 row5\" >fico</th>\n",
       "      <td id=\"T_35ce9_row5_col0\" class=\"data row5 col0\" >0.348319</td>\n",
       "      <td id=\"T_35ce9_row5_col1\" class=\"data row5 col1\" >-0.714821</td>\n",
       "      <td id=\"T_35ce9_row5_col2\" class=\"data row5 col2\" >0.086039</td>\n",
       "      <td id=\"T_35ce9_row5_col3\" class=\"data row5 col3\" >0.114576</td>\n",
       "      <td id=\"T_35ce9_row5_col4\" class=\"data row5 col4\" >-0.241191</td>\n",
       "      <td id=\"T_35ce9_row5_col5\" class=\"data row5 col5\" >1.000000</td>\n",
       "      <td id=\"T_35ce9_row5_col6\" class=\"data row5 col6\" >0.263880</td>\n",
       "      <td id=\"T_35ce9_row5_col7\" class=\"data row5 col7\" >-0.015553</td>\n",
       "      <td id=\"T_35ce9_row5_col8\" class=\"data row5 col8\" >-0.541289</td>\n",
       "      <td id=\"T_35ce9_row5_col9\" class=\"data row5 col9\" >-0.185293</td>\n",
       "      <td id=\"T_35ce9_row5_col10\" class=\"data row5 col10\" >-0.216340</td>\n",
       "      <td id=\"T_35ce9_row5_col11\" class=\"data row5 col11\" >-0.147592</td>\n",
       "      <td id=\"T_35ce9_row5_col12\" class=\"data row5 col12\" >-0.149666</td>\n",
       "    </tr>\n",
       "    <tr>\n",
       "      <th id=\"T_35ce9_level0_row6\" class=\"row_heading level0 row6\" >days.with.cr.line</th>\n",
       "      <td id=\"T_35ce9_row6_col0\" class=\"data row6 col0\" >0.099026</td>\n",
       "      <td id=\"T_35ce9_row6_col1\" class=\"data row6 col1\" >-0.124022</td>\n",
       "      <td id=\"T_35ce9_row6_col2\" class=\"data row6 col2\" >0.183297</td>\n",
       "      <td id=\"T_35ce9_row6_col3\" class=\"data row6 col3\" >0.336896</td>\n",
       "      <td id=\"T_35ce9_row6_col4\" class=\"data row6 col4\" >0.060101</td>\n",
       "      <td id=\"T_35ce9_row6_col5\" class=\"data row6 col5\" >0.263880</td>\n",
       "      <td id=\"T_35ce9_row6_col6\" class=\"data row6 col6\" >1.000000</td>\n",
       "      <td id=\"T_35ce9_row6_col7\" class=\"data row6 col7\" >0.229344</td>\n",
       "      <td id=\"T_35ce9_row6_col8\" class=\"data row6 col8\" >-0.024239</td>\n",
       "      <td id=\"T_35ce9_row6_col9\" class=\"data row6 col9\" >-0.041736</td>\n",
       "      <td id=\"T_35ce9_row6_col10\" class=\"data row6 col10\" >0.081374</td>\n",
       "      <td id=\"T_35ce9_row6_col11\" class=\"data row6 col11\" >0.071826</td>\n",
       "      <td id=\"T_35ce9_row6_col12\" class=\"data row6 col12\" >-0.029237</td>\n",
       "    </tr>\n",
       "    <tr>\n",
       "      <th id=\"T_35ce9_level0_row7\" class=\"row_heading level0 row7\" >revol.bal</th>\n",
       "      <td id=\"T_35ce9_row7_col0\" class=\"data row7 col0\" >-0.187518</td>\n",
       "      <td id=\"T_35ce9_row7_col1\" class=\"data row7 col1\" >0.092527</td>\n",
       "      <td id=\"T_35ce9_row7_col2\" class=\"data row7 col2\" >0.233625</td>\n",
       "      <td id=\"T_35ce9_row7_col3\" class=\"data row7 col3\" >0.372140</td>\n",
       "      <td id=\"T_35ce9_row7_col4\" class=\"data row7 col4\" >0.188748</td>\n",
       "      <td id=\"T_35ce9_row7_col5\" class=\"data row7 col5\" >-0.015553</td>\n",
       "      <td id=\"T_35ce9_row7_col6\" class=\"data row7 col6\" >0.229344</td>\n",
       "      <td id=\"T_35ce9_row7_col7\" class=\"data row7 col7\" >1.000000</td>\n",
       "      <td id=\"T_35ce9_row7_col8\" class=\"data row7 col8\" >0.203779</td>\n",
       "      <td id=\"T_35ce9_row7_col9\" class=\"data row7 col9\" >0.022394</td>\n",
       "      <td id=\"T_35ce9_row7_col10\" class=\"data row7 col10\" >-0.033243</td>\n",
       "      <td id=\"T_35ce9_row7_col11\" class=\"data row7 col11\" >-0.031010</td>\n",
       "      <td id=\"T_35ce9_row7_col12\" class=\"data row7 col12\" >0.053699</td>\n",
       "    </tr>\n",
       "    <tr>\n",
       "      <th id=\"T_35ce9_level0_row8\" class=\"row_heading level0 row8\" >revol.util</th>\n",
       "      <td id=\"T_35ce9_row8_col0\" class=\"data row8 col0\" >-0.104095</td>\n",
       "      <td id=\"T_35ce9_row8_col1\" class=\"data row8 col1\" >0.464837</td>\n",
       "      <td id=\"T_35ce9_row8_col2\" class=\"data row8 col2\" >0.081356</td>\n",
       "      <td id=\"T_35ce9_row8_col3\" class=\"data row8 col3\" >0.054881</td>\n",
       "      <td id=\"T_35ce9_row8_col4\" class=\"data row8 col4\" >0.337109</td>\n",
       "      <td id=\"T_35ce9_row8_col5\" class=\"data row8 col5\" >-0.541289</td>\n",
       "      <td id=\"T_35ce9_row8_col6\" class=\"data row8 col6\" >-0.024239</td>\n",
       "      <td id=\"T_35ce9_row8_col7\" class=\"data row8 col7\" >0.203779</td>\n",
       "      <td id=\"T_35ce9_row8_col8\" class=\"data row8 col8\" >1.000000</td>\n",
       "      <td id=\"T_35ce9_row8_col9\" class=\"data row8 col9\" >-0.013880</td>\n",
       "      <td id=\"T_35ce9_row8_col10\" class=\"data row8 col10\" >-0.042740</td>\n",
       "      <td id=\"T_35ce9_row8_col11\" class=\"data row8 col11\" >0.066717</td>\n",
       "      <td id=\"T_35ce9_row8_col12\" class=\"data row8 col12\" >0.082088</td>\n",
       "    </tr>\n",
       "    <tr>\n",
       "      <th id=\"T_35ce9_level0_row9\" class=\"row_heading level0 row9\" >inq.last.6mths</th>\n",
       "      <td id=\"T_35ce9_row9_col0\" class=\"data row9 col0\" >-0.535511</td>\n",
       "      <td id=\"T_35ce9_row9_col1\" class=\"data row9 col1\" >0.202780</td>\n",
       "      <td id=\"T_35ce9_row9_col2\" class=\"data row9 col2\" >-0.010419</td>\n",
       "      <td id=\"T_35ce9_row9_col3\" class=\"data row9 col3\" >0.029171</td>\n",
       "      <td id=\"T_35ce9_row9_col4\" class=\"data row9 col4\" >0.029189</td>\n",
       "      <td id=\"T_35ce9_row9_col5\" class=\"data row9 col5\" >-0.185293</td>\n",
       "      <td id=\"T_35ce9_row9_col6\" class=\"data row9 col6\" >-0.041736</td>\n",
       "      <td id=\"T_35ce9_row9_col7\" class=\"data row9 col7\" >0.022394</td>\n",
       "      <td id=\"T_35ce9_row9_col8\" class=\"data row9 col8\" >-0.013880</td>\n",
       "      <td id=\"T_35ce9_row9_col9\" class=\"data row9 col9\" >1.000000</td>\n",
       "      <td id=\"T_35ce9_row9_col10\" class=\"data row9 col10\" >0.021245</td>\n",
       "      <td id=\"T_35ce9_row9_col11\" class=\"data row9 col11\" >0.072673</td>\n",
       "      <td id=\"T_35ce9_row9_col12\" class=\"data row9 col12\" >0.149452</td>\n",
       "    </tr>\n",
       "    <tr>\n",
       "      <th id=\"T_35ce9_level0_row10\" class=\"row_heading level0 row10\" >delinq.2yrs</th>\n",
       "      <td id=\"T_35ce9_row10_col0\" class=\"data row10 col0\" >-0.076318</td>\n",
       "      <td id=\"T_35ce9_row10_col1\" class=\"data row10 col1\" >0.156079</td>\n",
       "      <td id=\"T_35ce9_row10_col2\" class=\"data row10 col2\" >-0.004368</td>\n",
       "      <td id=\"T_35ce9_row10_col3\" class=\"data row10 col3\" >0.029203</td>\n",
       "      <td id=\"T_35ce9_row10_col4\" class=\"data row10 col4\" >-0.021792</td>\n",
       "      <td id=\"T_35ce9_row10_col5\" class=\"data row10 col5\" >-0.216340</td>\n",
       "      <td id=\"T_35ce9_row10_col6\" class=\"data row10 col6\" >0.081374</td>\n",
       "      <td id=\"T_35ce9_row10_col7\" class=\"data row10 col7\" >-0.033243</td>\n",
       "      <td id=\"T_35ce9_row10_col8\" class=\"data row10 col8\" >-0.042740</td>\n",
       "      <td id=\"T_35ce9_row10_col9\" class=\"data row10 col9\" >0.021245</td>\n",
       "      <td id=\"T_35ce9_row10_col10\" class=\"data row10 col10\" >1.000000</td>\n",
       "      <td id=\"T_35ce9_row10_col11\" class=\"data row10 col11\" >0.009184</td>\n",
       "      <td id=\"T_35ce9_row10_col12\" class=\"data row10 col12\" >0.008881</td>\n",
       "    </tr>\n",
       "    <tr>\n",
       "      <th id=\"T_35ce9_level0_row11\" class=\"row_heading level0 row11\" >pub.rec</th>\n",
       "      <td id=\"T_35ce9_row11_col0\" class=\"data row11 col0\" >-0.054243</td>\n",
       "      <td id=\"T_35ce9_row11_col1\" class=\"data row11 col1\" >0.098162</td>\n",
       "      <td id=\"T_35ce9_row11_col2\" class=\"data row11 col2\" >-0.032760</td>\n",
       "      <td id=\"T_35ce9_row11_col3\" class=\"data row11 col3\" >0.016506</td>\n",
       "      <td id=\"T_35ce9_row11_col4\" class=\"data row11 col4\" >0.006209</td>\n",
       "      <td id=\"T_35ce9_row11_col5\" class=\"data row11 col5\" >-0.147592</td>\n",
       "      <td id=\"T_35ce9_row11_col6\" class=\"data row11 col6\" >0.071826</td>\n",
       "      <td id=\"T_35ce9_row11_col7\" class=\"data row11 col7\" >-0.031010</td>\n",
       "      <td id=\"T_35ce9_row11_col8\" class=\"data row11 col8\" >0.066717</td>\n",
       "      <td id=\"T_35ce9_row11_col9\" class=\"data row11 col9\" >0.072673</td>\n",
       "      <td id=\"T_35ce9_row11_col10\" class=\"data row11 col10\" >0.009184</td>\n",
       "      <td id=\"T_35ce9_row11_col11\" class=\"data row11 col11\" >1.000000</td>\n",
       "      <td id=\"T_35ce9_row11_col12\" class=\"data row11 col12\" >0.048634</td>\n",
       "    </tr>\n",
       "    <tr>\n",
       "      <th id=\"T_35ce9_level0_row12\" class=\"row_heading level0 row12\" >not.fully.paid</th>\n",
       "      <td id=\"T_35ce9_row12_col0\" class=\"data row12 col0\" >-0.158119</td>\n",
       "      <td id=\"T_35ce9_row12_col1\" class=\"data row12 col1\" >0.159552</td>\n",
       "      <td id=\"T_35ce9_row12_col2\" class=\"data row12 col2\" >0.049955</td>\n",
       "      <td id=\"T_35ce9_row12_col3\" class=\"data row12 col3\" >-0.033439</td>\n",
       "      <td id=\"T_35ce9_row12_col4\" class=\"data row12 col4\" >0.037362</td>\n",
       "      <td id=\"T_35ce9_row12_col5\" class=\"data row12 col5\" >-0.149666</td>\n",
       "      <td id=\"T_35ce9_row12_col6\" class=\"data row12 col6\" >-0.029237</td>\n",
       "      <td id=\"T_35ce9_row12_col7\" class=\"data row12 col7\" >0.053699</td>\n",
       "      <td id=\"T_35ce9_row12_col8\" class=\"data row12 col8\" >0.082088</td>\n",
       "      <td id=\"T_35ce9_row12_col9\" class=\"data row12 col9\" >0.149452</td>\n",
       "      <td id=\"T_35ce9_row12_col10\" class=\"data row12 col10\" >0.008881</td>\n",
       "      <td id=\"T_35ce9_row12_col11\" class=\"data row12 col11\" >0.048634</td>\n",
       "      <td id=\"T_35ce9_row12_col12\" class=\"data row12 col12\" >1.000000</td>\n",
       "    </tr>\n",
       "  </tbody>\n",
       "</table>\n"
      ],
      "text/plain": [
       "<pandas.io.formats.style.Styler at 0x7f4c26f22e40>"
      ]
     },
     "execution_count": 20,
     "metadata": {},
     "output_type": "execute_result"
    }
   ],
   "source": [
    "corr_matrix.style.background_gradient()"
   ]
  },
  {
   "cell_type": "markdown",
   "metadata": {},
   "source": [
    "#### DIVIDIR LOS DATOS"
   ]
  },
  {
   "cell_type": "code",
   "execution_count": 21,
   "metadata": {},
   "outputs": [],
   "source": [
    "loan_data.drop([\"delinq.2yrs\", \"days.with.cr.line\", \"log.annual.inc\",\"dti\"], axis=1, inplace=True)\n",
    "#Eliminamos las columnas que estan menos correlacionadas con not.fully.paid\n",
    "train_set, test_set = train_test_split(loan_data, test_size=0.20,stratify=loan_data['purpose'], random_state=42)"
   ]
  },
  {
   "cell_type": "markdown",
   "metadata": {},
   "source": [
    "#### PREPARAR LOS DATOS"
   ]
  },
  {
   "cell_type": "code",
   "execution_count": 22,
   "metadata": {},
   "outputs": [],
   "source": [
    "num_pipeline = make_pipeline(\n",
    "     SimpleImputer(strategy=\"mean\"),\n",
    "     StandardScaler())\n",
    "\n",
    "log_pipeline = make_pipeline(\n",
    "    SimpleImputer(strategy=\"mean\"),\n",
    "    FunctionTransformer(np.log,feature_names_out=\"one-to-one\"),\n",
    "    StandardScaler())\n",
    "\n",
    "purpose_pipeline = make_pipeline(\n",
    "    SimpleImputer(strategy=\"most_frequent\"),\n",
    "    OneHotEncoder())\n",
    "\n",
    "preprocessing = ColumnTransformer([\n",
    "    (\"purpose_transform\", purpose_pipeline, [\"purpose\"]),\n",
    "    (\"int.rate_transform\", log_pipeline, [\"int.rate\"]),\n",
    "    (\"fico_transform\", log_pipeline, [\"fico\"]),\n",
    "] ,remainder=num_pipeline, verbose_feature_names_out = False)\n"
   ]
  },
  {
   "cell_type": "markdown",
   "metadata": {},
   "source": [
    "### ENTRENAMIENTO Y EVALUACIÓN DEL MODELO"
   ]
  },
  {
   "cell_type": "markdown",
   "metadata": {},
   "source": [
    "Usa evaluación cruzada con los siguientes algoritmos:\n",
    "- Regresión logisitca\n",
    "- SGDClassifier\n",
    "- K vecinos mas cercanos\n",
    "- Random Forest\n",
    "\n",
    " y evalua los resultados en el conjunto de entrenamiento con las siguientes métricas: exactitud, prescisión, sensibilidad, f1, curva de roc y área bajo la curva de roc"
   ]
  },
  {
   "cell_type": "code",
   "execution_count": null,
   "metadata": {},
   "outputs": [],
   "source": [
    "# Separamos columnas\n",
    "x_train= train_set.drop(columns=[\"not.fully.paid\"])\n",
    "y_train= train_set[\"not.fully.paid\"].copy()\n",
    "\n",
    "x_test= test_set.drop(columns=[\"not.fully.paid\"])\n",
    "y_test= test_set[\"not.fully.paid\"].copy()"
   ]
  },
  {
   "cell_type": "code",
   "execution_count": 75,
   "metadata": {},
   "outputs": [
    {
     "name": "stdout",
     "output_type": "stream",
     "text": [
      "Regresión logisitca\n",
      "Exactitud: 0.8398590446358654\n",
      "Precision: 0.5223880597014925\n",
      "Sensibilidad: 0.028455284552845527\n",
      "F1: 0.05397070161912105\n",
      "AUC: 0.678968344254338\n"
     ]
    },
    {
     "data": {
      "image/png": "[encoded data removed]",
      "text/plain": [
       "<Figure size 640x480 with 1 Axes>"
      ]
     },
     "metadata": {},
     "output_type": "display_data"
    },
    {
     "name": "stdout",
     "output_type": "stream",
     "text": [
      "SGDClassifier\n",
      "Exactitud: 0.8390759592795615\n",
      "Precision: 0.3333333333333333\n",
      "Sensibilidad: 0.0024390243902439024\n",
      "F1: 0.004842615012106538\n",
      "AUC: 0.4759437062654208\n"
     ]
    },
    {
     "data": {
      "image/png": "[encoded data removed]",
      "text/plain": [
       "<Figure size 640x480 with 1 Axes>"
      ]
     },
     "metadata": {},
     "output_type": "display_data"
    },
    {
     "name": "stdout",
     "output_type": "stream",
     "text": [
      "K vecinos mas cercanos\n",
      "Exactitud: 0.8043591751500914\n",
      "Precision: 0.2668977469670711\n",
      "Sensibilidad: 0.12520325203252033\n",
      "F1: 0.17044825677919204\n",
      "Random Forest\n",
      "Exactitud: 0.83672670321065\n",
      "Precision: 0.39603960396039606\n",
      "Sensibilidad: 0.032520325203252036\n",
      "F1: 0.06010518407212622\n"
     ]
    }
   ],
   "source": [
    "models={\n",
    "    \"Regresión logisitca\":make_pipeline(preprocessing, LogisticRegression(random_state=42)),\n",
    "    \"SGDClassifier\":make_pipeline(preprocessing, SGDClassifier(random_state=42)),\n",
    "    \"K vecinos mas cercanos\":make_pipeline(preprocessing, KNeighborsClassifier(n_neighbors=3)),\n",
    "    \"Random Forest\":make_pipeline(preprocessing, RandomForestClassifier(random_state=42)),\n",
    "}\n",
    "\n",
    "for name, model in models.items():\n",
    "    print(name)\n",
    "\n",
    "    #val_cruz= cross_val_score(model, x_train, y_train, cv=10, scoring=\"accuracy\")\n",
    "    predic=cross_val_predict(model, x_train, y_train, cv=10)\n",
    "\n",
    "    #Exactitud\n",
    "    print(f\"Exactitud: {accuracy_score(y_train, predic)}\")\n",
    "\n",
    "    #Precision\n",
    "    print(f\"Precision: {precision_score(y_train, predic)}\")\n",
    "\n",
    "    #Sensibilidad\n",
    "    print(f\"Sensibilidad: {recall_score(y_train, predic)}\")\n",
    "\n",
    "    #F1\n",
    "    print(f\"F1: {f1_score(y_train, predic)}\")\n",
    "\n",
    "    if(name!=\"K vecinos mas cercanos\" and name!=\"Random Forest\"):\n",
    "        y_train_pred = cross_val_predict(model, x_train, y_train, cv=3, method=\"decision_function\")\n",
    "        fpr, tpr, _ = roc_curve(y_train, y_train_pred)\n",
    "        roc_auc = auc(fpr, tpr)\n",
    "        print(f\"AUC: {roc_auc}\")\n",
    "        plt.figure()\n",
    "        plt.plot(fpr, tpr, color=\"blue\", lw=2, label=f\"Curva ROC (AUC = {roc_auc:.2f})\")\n",
    "        plt.plot([0, 1], [0, 1], color=\"gray\", linestyle=\"--\")\n",
    "        plt.xlim([0.0, 1.0])\n",
    "        plt.ylim([0.0, 1.05])\n",
    "        plt.xlabel(\"Tasa de Falsos Positivos\")\n",
    "        plt.ylabel(\"Tasa de Verdaderos Positivos\")\n",
    "        plt.title(\"Curva ROC\")\n",
    "        plt.legend(loc=\"lower right\")\n",
    "        plt.grid(True)\n",
    "        plt.show()\n",
    "    \n",
    "\n"
   ]
  },
  {
   "cell_type": "markdown",
   "metadata": {},
   "source": [
    "### OPMITZACIÓN DEL MODELO"
   ]
  },
  {
   "cell_type": "markdown",
   "metadata": {},
   "source": [
    "#### OPTIMIZACIÓN"
   ]
  },
  {
   "cell_type": "markdown",
   "metadata": {},
   "source": [
    "Usa búsqueda exhaustiva o búsqueda aleatoria para optimizar el mejor modelo del apartado anterior"
   ]
  },
  {
   "cell_type": "code",
   "execution_count": 64,
   "metadata": {},
   "outputs": [
    {
     "name": "stderr",
     "output_type": "stream",
     "text": [
      "/home/iabd/anaconda3/lib/python3.12/site-packages/sklearn/linear_model/_logistic.py:1175: UserWarning: l1_ratio parameter is only used when penalty is 'elasticnet'. Got (penalty=l1)\n",
      "  warnings.warn(\n",
      "/home/iabd/anaconda3/lib/python3.12/site-packages/sklearn/linear_model/_logistic.py:1175: UserWarning: l1_ratio parameter is only used when penalty is 'elasticnet'. Got (penalty=l1)\n",
      "  warnings.warn(\n",
      "/home/iabd/anaconda3/lib/python3.12/site-packages/sklearn/linear_model/_logistic.py:1175: UserWarning: l1_ratio parameter is only used when penalty is 'elasticnet'. Got (penalty=l1)\n",
      "  warnings.warn(\n",
      "/home/iabd/anaconda3/lib/python3.12/site-packages/sklearn/linear_model/_sag.py:350: ConvergenceWarning: The max_iter was reached which means the coef_ did not converge\n",
      "  warnings.warn(\n",
      "/home/iabd/anaconda3/lib/python3.12/site-packages/sklearn/linear_model/_logistic.py:1175: UserWarning: l1_ratio parameter is only used when penalty is 'elasticnet'. Got (penalty=l1)\n",
      "  warnings.warn(\n",
      "/home/iabd/anaconda3/lib/python3.12/site-packages/sklearn/linear_model/_sag.py:350: ConvergenceWarning: The max_iter was reached which means the coef_ did not converge\n",
      "  warnings.warn(\n",
      "/home/iabd/anaconda3/lib/python3.12/site-packages/sklearn/linear_model/_logistic.py:1175: UserWarning: l1_ratio parameter is only used when penalty is 'elasticnet'. Got (penalty=l1)\n",
      "  warnings.warn(\n",
      "/home/iabd/anaconda3/lib/python3.12/site-packages/sklearn/linear_model/_logistic.py:1175: UserWarning: l1_ratio parameter is only used when penalty is 'elasticnet'. Got (penalty=l1)\n",
      "  warnings.warn(\n",
      "/home/iabd/anaconda3/lib/python3.12/site-packages/sklearn/linear_model/_logistic.py:1175: UserWarning: l1_ratio parameter is only used when penalty is 'elasticnet'. Got (penalty=l1)\n",
      "  warnings.warn(\n",
      "/home/iabd/anaconda3/lib/python3.12/site-packages/sklearn/linear_model/_logistic.py:1175: UserWarning: l1_ratio parameter is only used when penalty is 'elasticnet'. Got (penalty=l1)\n",
      "  warnings.warn(\n",
      "/home/iabd/anaconda3/lib/python3.12/site-packages/sklearn/linear_model/_logistic.py:1175: UserWarning: l1_ratio parameter is only used when penalty is 'elasticnet'. Got (penalty=l1)\n",
      "  warnings.warn(\n",
      "/home/iabd/anaconda3/lib/python3.12/site-packages/sklearn/linear_model/_logistic.py:1175: UserWarning: l1_ratio parameter is only used when penalty is 'elasticnet'. Got (penalty=l1)\n",
      "  warnings.warn(\n",
      "/home/iabd/anaconda3/lib/python3.12/site-packages/sklearn/linear_model/_sag.py:350: ConvergenceWarning: The max_iter was reached which means the coef_ did not converge\n",
      "  warnings.warn(\n",
      "/home/iabd/anaconda3/lib/python3.12/site-packages/sklearn/linear_model/_logistic.py:1175: UserWarning: l1_ratio parameter is only used when penalty is 'elasticnet'. Got (penalty=l1)\n",
      "  warnings.warn(\n",
      "/home/iabd/anaconda3/lib/python3.12/site-packages/sklearn/linear_model/_logistic.py:1175: UserWarning: l1_ratio parameter is only used when penalty is 'elasticnet'. Got (penalty=l1)\n",
      "  warnings.warn(\n",
      "/home/iabd/anaconda3/lib/python3.12/site-packages/sklearn/linear_model/_sag.py:350: ConvergenceWarning: The max_iter was reached which means the coef_ did not converge\n",
      "  warnings.warn(\n",
      "/home/iabd/anaconda3/lib/python3.12/site-packages/sklearn/linear_model/_logistic.py:1175: UserWarning: l1_ratio parameter is only used when penalty is 'elasticnet'. Got (penalty=l2)\n",
      "  warnings.warn(\n",
      "/home/iabd/anaconda3/lib/python3.12/site-packages/sklearn/linear_model/_logistic.py:1175: UserWarning: l1_ratio parameter is only used when penalty is 'elasticnet'. Got (penalty=l2)\n",
      "  warnings.warn(\n",
      "/home/iabd/anaconda3/lib/python3.12/site-packages/sklearn/linear_model/_logistic.py:1175: UserWarning: l1_ratio parameter is only used when penalty is 'elasticnet'. Got (penalty=l2)\n",
      "  warnings.warn(\n",
      "/home/iabd/anaconda3/lib/python3.12/site-packages/sklearn/linear_model/_logistic.py:1175: UserWarning: l1_ratio parameter is only used when penalty is 'elasticnet'. Got (penalty=l2)\n",
      "  warnings.warn(\n",
      "/home/iabd/anaconda3/lib/python3.12/site-packages/sklearn/linear_model/_logistic.py:1175: UserWarning: l1_ratio parameter is only used when penalty is 'elasticnet'. Got (penalty=l2)\n",
      "  warnings.warn(\n",
      "/home/iabd/anaconda3/lib/python3.12/site-packages/sklearn/linear_model/_logistic.py:1175: UserWarning: l1_ratio parameter is only used when penalty is 'elasticnet'. Got (penalty=l2)\n",
      "  warnings.warn(\n",
      "/home/iabd/anaconda3/lib/python3.12/site-packages/sklearn/linear_model/_logistic.py:1175: UserWarning: l1_ratio parameter is only used when penalty is 'elasticnet'. Got (penalty=l1)\n",
      "  warnings.warn(\n",
      "/home/iabd/anaconda3/lib/python3.12/site-packages/sklearn/linear_model/_logistic.py:1175: UserWarning: l1_ratio parameter is only used when penalty is 'elasticnet'. Got (penalty=l1)\n",
      "  warnings.warn(\n",
      "/home/iabd/anaconda3/lib/python3.12/site-packages/sklearn/linear_model/_logistic.py:1175: UserWarning: l1_ratio parameter is only used when penalty is 'elasticnet'. Got (penalty=l1)\n",
      "  warnings.warn(\n",
      "/home/iabd/anaconda3/lib/python3.12/site-packages/sklearn/linear_model/_logistic.py:1175: UserWarning: l1_ratio parameter is only used when penalty is 'elasticnet'. Got (penalty=l2)\n",
      "  warnings.warn(\n",
      "/home/iabd/anaconda3/lib/python3.12/site-packages/sklearn/linear_model/_sag.py:350: ConvergenceWarning: The max_iter was reached which means the coef_ did not converge\n",
      "  warnings.warn(\n",
      "/home/iabd/anaconda3/lib/python3.12/site-packages/sklearn/linear_model/_logistic.py:1175: UserWarning: l1_ratio parameter is only used when penalty is 'elasticnet'. Got (penalty=l2)\n",
      "  warnings.warn(\n",
      "/home/iabd/anaconda3/lib/python3.12/site-packages/sklearn/linear_model/_sag.py:350: ConvergenceWarning: The max_iter was reached which means the coef_ did not converge\n",
      "  warnings.warn(\n",
      "/home/iabd/anaconda3/lib/python3.12/site-packages/sklearn/linear_model/_logistic.py:1175: UserWarning: l1_ratio parameter is only used when penalty is 'elasticnet'. Got (penalty=l2)\n",
      "  warnings.warn(\n",
      "/home/iabd/anaconda3/lib/python3.12/site-packages/sklearn/linear_model/_sag.py:350: ConvergenceWarning: The max_iter was reached which means the coef_ did not converge\n",
      "  warnings.warn(\n",
      "/home/iabd/anaconda3/lib/python3.12/site-packages/sklearn/model_selection/_validation.py:547: FitFailedWarning: \n",
      "6 fits failed out of a total of 30.\n",
      "The score on these train-test partitions for these parameters will be set to nan.\n",
      "If these failures are not expected, you can try to debug them by setting error_score='raise'.\n",
      "\n",
      "Below are more details about the failures:\n",
      "--------------------------------------------------------------------------------\n",
      "6 fits failed with the following error:\n",
      "Traceback (most recent call last):\n",
      "  File \"/home/iabd/anaconda3/lib/python3.12/site-packages/sklearn/model_selection/_validation.py\", line 895, in _fit_and_score\n",
      "    estimator.fit(X_train, y_train, **fit_params)\n",
      "  File \"/home/iabd/anaconda3/lib/python3.12/site-packages/sklearn/base.py\", line 1474, in wrapper\n",
      "    return fit_method(estimator, *args, **kwargs)\n",
      "           ^^^^^^^^^^^^^^^^^^^^^^^^^^^^^^^^^^^^^^\n",
      "  File \"/home/iabd/anaconda3/lib/python3.12/site-packages/sklearn/pipeline.py\", line 475, in fit\n",
      "    self._final_estimator.fit(Xt, y, **last_step_params[\"fit\"])\n",
      "  File \"/home/iabd/anaconda3/lib/python3.12/site-packages/sklearn/base.py\", line 1474, in wrapper\n",
      "    return fit_method(estimator, *args, **kwargs)\n",
      "           ^^^^^^^^^^^^^^^^^^^^^^^^^^^^^^^^^^^^^^\n",
      "  File \"/home/iabd/anaconda3/lib/python3.12/site-packages/sklearn/linear_model/_logistic.py\", line 1172, in fit\n",
      "    solver = _check_solver(self.solver, self.penalty, self.dual)\n",
      "             ^^^^^^^^^^^^^^^^^^^^^^^^^^^^^^^^^^^^^^^^^^^^^^^^^^^\n",
      "  File \"/home/iabd/anaconda3/lib/python3.12/site-packages/sklearn/linear_model/_logistic.py\", line 75, in _check_solver\n",
      "    raise ValueError(\n",
      "ValueError: Only 'saga' solver supports elasticnet penalty, got solver=liblinear.\n",
      "\n",
      "  warnings.warn(some_fits_failed_message, FitFailedWarning)\n",
      "/home/iabd/anaconda3/lib/python3.12/site-packages/sklearn/model_selection/_search.py:1051: UserWarning: One or more of the test scores are non-finite: [0.83985904        nan 0.83985904 0.83998956 0.83985904        nan\n",
      " 0.83985904 0.83985904 0.83985904 0.84012007]\n",
      "  warnings.warn(\n",
      "/home/iabd/anaconda3/lib/python3.12/site-packages/sklearn/linear_model/_logistic.py:1175: UserWarning: l1_ratio parameter is only used when penalty is 'elasticnet'. Got (penalty=l2)\n",
      "  warnings.warn(\n",
      "/home/iabd/anaconda3/lib/python3.12/site-packages/sklearn/linear_model/_sag.py:350: ConvergenceWarning: The max_iter was reached which means the coef_ did not converge\n",
      "  warnings.warn(\n"
     ]
    }
   ],
   "source": [
    "param_dist = {\n",
    "    'logisticregression__C': uniform(0.01, 10),\n",
    "    'logisticregression__penalty': ['l1', 'l2', 'elasticnet'], \n",
    "    'logisticregression__solver': ['liblinear', 'saga'],  # Solvers compatibles con l1 y elasticnet\n",
    "    'logisticregression__max_iter': randint(50, 300),\n",
    "    'logisticregression__l1_ratio': uniform(0, 1)  # Solo aplica si penalty='elasticnet'\n",
    "}\n",
    "\n",
    "\n",
    "full_pipeline = make_pipeline(\n",
    "    preprocessing,  \n",
    "    LogisticRegression(random_state=42)  \n",
    ")\n",
    "\n",
    "rnd_search = RandomizedSearchCV(\n",
    "    full_pipeline,\n",
    "    param_distributions=param_dist,\n",
    "    n_iter=10,\n",
    "    cv=3\n",
    ")\n",
    "\n",
    "rnd_search.fit(x_train, y_train)\n",
    "\n",
    "final_model=rnd_search.best_estimator_\n",
    "\n",
    "final_predictions=final_model.predict(x_test)"
   ]
  },
  {
   "cell_type": "markdown",
   "metadata": {},
   "source": [
    "#### EVALUACIÓN EN EL CONJUNTO DE PRUEBA"
   ]
  },
  {
   "cell_type": "markdown",
   "metadata": {},
   "source": [
    "Evalúa el conjunto de pruebas con diferentes métricas"
   ]
  },
  {
   "cell_type": "code",
   "execution_count": 76,
   "metadata": {},
   "outputs": [
    {
     "name": "stdout",
     "output_type": "stream",
     "text": [
      "Exactitud: 0.8413361169102297\n",
      "Precision: 0.4666666666666667\n",
      "Sensibilidad: 0.0231023102310231\n",
      "F1: 0.0440251572327044\n",
      "AUC: 0.5090713039065841\n"
     ]
    },
    {
     "data": {
      "image/png": "[encoded data removed]",
      "text/plain": [
       "<Figure size 640x480 with 1 Axes>"
      ]
     },
     "metadata": {},
     "output_type": "display_data"
    }
   ],
   "source": [
    "#Exactitud\n",
    "print(f\"Exactitud: {accuracy_score(y_test, final_predictions)}\")\n",
    "\n",
    "#Precision\n",
    "print(f\"Precision: {precision_score(y_test, final_predictions)}\")\n",
    "\n",
    "#Sensibilidad\n",
    "print(f\"Sensibilidad: {recall_score(y_test, final_predictions)}\")\n",
    "\n",
    "#F1\n",
    "print(f\"F1: {f1_score(y_test, final_predictions)}\")\n",
    "\n",
    "\n",
    "fpr, tpr, _ = roc_curve(y_test, final_predictions)\n",
    "roc_auc = auc(fpr, tpr)\n",
    "print(f\"AUC: {roc_auc}\")\n",
    "plt.figure()\n",
    "plt.plot(fpr, tpr, color=\"blue\", lw=2, label=f\"Curva ROC (AUC = {roc_auc:.2f})\")\n",
    "plt.plot([0, 1], [0, 1], color=\"gray\", linestyle=\"--\")\n",
    "plt.xlim([0.0, 1.0])\n",
    "plt.ylim([0.0, 1.05])\n",
    "plt.xlabel(\"Tasa de Falsos Positivos\")\n",
    "plt.ylabel(\"Tasa de Verdaderos Positivos\")\n",
    "plt.title(\"Curva ROC\")\n",
    "plt.legend(loc=\"lower right\")\n",
    "plt.grid(True)\n",
    "plt.show()\n"
   ]
  },
  {
   "cell_type": "markdown",
   "metadata": {},
   "source": [
    "### PRESENTACIÓN DE LA SOLUCIÓN"
   ]
  },
  {
   "cell_type": "markdown",
   "metadata": {},
   "source": [
    "Guarda mejor modelo (pipeline de preparación de los datos + modelo) y  haz un script de python que te pida los datos necesarios ('int_rate', 'installment', 'fico',  'revol_bal', 'revol_util', 'inq_last_6mths', 'pub_rec' y 'purpose') y prediga la solución."
   ]
  },
  {
   "cell_type": "code",
   "execution_count": null,
   "metadata": {},
   "outputs": [],
   "source": []
  },
  {
   "cell_type": "markdown",
   "metadata": {},
   "source": [
    "## EJERCICIO 2"
   ]
  },
  {
   "cell_type": "markdown",
   "metadata": {},
   "source": [
    "Vamos a trabajar conun conjunto de datos digits.\n",
    "\n",
    "Crea un clasificador que nos diga de que número se trata."
   ]
  },
  {
   "cell_type": "markdown",
   "metadata": {},
   "source": [
    "### RECOPILACIÓN Y PREPARACIÓN DE LOS DATOS"
   ]
  },
  {
   "cell_type": "markdown",
   "metadata": {},
   "source": [
    "#### OBTENER LOS DATOS"
   ]
  },
  {
   "cell_type": "code",
   "execution_count": 77,
   "metadata": {},
   "outputs": [],
   "source": [
    "# Cargar el conjunto de datos\n",
    "digits = load_digits()\n",
    "X_digits = digits.data\n",
    "y_digits = digits.target"
   ]
  },
  {
   "cell_type": "markdown",
   "metadata": {},
   "source": [
    "#### EXPLORAR LOS DATOS"
   ]
  },
  {
   "cell_type": "code",
   "execution_count": 80,
   "metadata": {},
   "outputs": [
    {
     "data": {
      "text/plain": [
       "array([ 0.,  0.,  5., 13.,  9.,  1.,  0.,  0.,  0.,  0., 13., 15., 10.,\n",
       "       15.,  5.,  0.,  0.,  3., 15.,  2.,  0., 11.,  8.,  0.,  0.,  4.,\n",
       "       12.,  0.,  0.,  8.,  8.,  0.,  0.,  5.,  8.,  0.,  0.,  9.,  8.,\n",
       "        0.,  0.,  4., 11.,  0.,  1., 12.,  7.,  0.,  0.,  2., 14.,  5.,\n",
       "       10., 12.,  0.,  0.,  0.,  0.,  6., 13., 10.,  0.,  0.,  0.])"
      ]
     },
     "execution_count": 80,
     "metadata": {},
     "output_type": "execute_result"
    }
   ],
   "source": [
    "X_digits[0]"
   ]
  },
  {
   "cell_type": "code",
   "execution_count": 81,
   "metadata": {},
   "outputs": [
    {
     "data": {
      "text/plain": [
       "(1797, 64)"
      ]
     },
     "execution_count": 81,
     "metadata": {},
     "output_type": "execute_result"
    }
   ],
   "source": [
    "X_digits.shape"
   ]
  },
  {
   "cell_type": "code",
   "execution_count": 92,
   "metadata": {},
   "outputs": [
    {
     "data": {
      "text/plain": [
       "array([0, 1, 2, ..., 8, 9, 8])"
      ]
     },
     "execution_count": 92,
     "metadata": {},
     "output_type": "execute_result"
    }
   ],
   "source": [
    "y_digits"
   ]
  },
  {
   "cell_type": "code",
   "execution_count": 93,
   "metadata": {},
   "outputs": [
    {
     "data": {
      "text/plain": [
       "(1797,)"
      ]
     },
     "execution_count": 93,
     "metadata": {},
     "output_type": "execute_result"
    }
   ],
   "source": [
    "y_digits.shape"
   ]
  },
  {
   "cell_type": "code",
   "execution_count": 100,
   "metadata": {},
   "outputs": [
    {
     "data": {
      "image/png": "[encoded data removed]",
      "text/plain": [
       "<Figure size 640x480 with 1 Axes>"
      ]
     },
     "metadata": {},
     "output_type": "display_data"
    }
   ],
   "source": [
    "def plot_digit(image_data):\n",
    "    image = image_data.reshape(8, 8)\n",
    "    plt.imshow(image, cmap=\"binary\")\n",
    "    plt.axis(\"off\")\n",
    "\n",
    "some_digit = X_digits[0]\n",
    "plot_digit(some_digit)\n",
    "plt.show()"
   ]
  },
  {
   "cell_type": "markdown",
   "metadata": {},
   "source": [
    "#### DIVIDIR LOS DATOS"
   ]
  },
  {
   "cell_type": "code",
   "execution_count": 102,
   "metadata": {},
   "outputs": [],
   "source": [
    "X_train, X_test, y_train, y_test = X_digits[:1400], X_digits[1400:], y_digits[:1400], y_digits[1400:]"
   ]
  },
  {
   "cell_type": "markdown",
   "metadata": {},
   "source": [
    "#### PREPARAR LOS DATOS"
   ]
  },
  {
   "cell_type": "code",
   "execution_count": null,
   "metadata": {},
   "outputs": [],
   "source": []
  },
  {
   "cell_type": "markdown",
   "metadata": {},
   "source": [
    "### ENTRENAMIENTO Y EVALUACIÓN DEL MODELO"
   ]
  },
  {
   "cell_type": "markdown",
   "metadata": {},
   "source": [
    "Usa evaluación cruzada con los siguientes algoritmos, evalua los resultados en el conjunto de entrenamiento (exactitud) y calcula la matriz de confusión:\n",
    "- Regresión logistica\n",
    "- Maquinas de vectores de sorpote\n",
    "- Random forest"
   ]
  },
  {
   "cell_type": "code",
   "execution_count": null,
   "metadata": {},
   "outputs": [],
   "source": []
  },
  {
   "cell_type": "markdown",
   "metadata": {},
   "source": [
    "### OPMITZACIÓN DEL MODELO"
   ]
  },
  {
   "cell_type": "markdown",
   "metadata": {},
   "source": [
    "#### OPTIMIZACIÓN"
   ]
  },
  {
   "cell_type": "markdown",
   "metadata": {},
   "source": [
    "Usa búsqueda exhaustiva o búsqueda aleatoria para optimizar el mejor modelo del apartado anterior"
   ]
  },
  {
   "cell_type": "code",
   "execution_count": null,
   "metadata": {},
   "outputs": [],
   "source": []
  },
  {
   "cell_type": "markdown",
   "metadata": {},
   "source": [
    "#### EVALUACIÓN EN EL CONJUNTO DE PRUEBA"
   ]
  },
  {
   "cell_type": "code",
   "execution_count": null,
   "metadata": {},
   "outputs": [],
   "source": []
  },
  {
   "cell_type": "markdown",
   "metadata": {},
   "source": [
    "### PRESENTACIÓN DE LA SOLUCIÓN"
   ]
  },
  {
   "cell_type": "markdown",
   "metadata": {},
   "source": [
    "Simplemente guarda el modelo"
   ]
  },
  {
   "cell_type": "code",
   "execution_count": null,
   "metadata": {},
   "outputs": [],
   "source": []
  },
  {
   "cell_type": "markdown",
   "metadata": {},
   "source": [
    "## EJERCICIO 3"
   ]
  },
  {
   "cell_type": "markdown",
   "metadata": {},
   "source": [
    "Vamos a trabajar con un conjunto de datos donde cada instancia (en este caso, cada película) pueda tener múltiples etiquetas (géneros en este caso).\n",
    "\n",
    "Tienes los datos en el fichero tmdb_5000_movies.csv\n",
    "\n",
    "Crea un clasificador que te diga los generos que le corresponden a cada película."
   ]
  },
  {
   "cell_type": "markdown",
   "metadata": {},
   "source": [
    "### RECOPILACIÓN Y PREPARACIÓN DE LOS DATOS"
   ]
  },
  {
   "cell_type": "markdown",
   "metadata": {},
   "source": [
    "#### OBTENER LOS DATOS"
   ]
  },
  {
   "cell_type": "code",
   "execution_count": null,
   "metadata": {},
   "outputs": [
    {
     "ename": "FileNotFoundError",
     "evalue": "[Errno 2] No such file or directory: 'Datos/tmdb_5000_movies.csv'",
     "output_type": "error",
     "traceback": [
      "\u001b[0;31m---------------------------------------------------------------------------\u001b[0m",
      "\u001b[0;31mFileNotFoundError\u001b[0m                         Traceback (most recent call last)",
      "Cell \u001b[0;32mIn[112], line 2\u001b[0m\n\u001b[1;32m      1\u001b[0m \u001b[38;5;66;03m# Cargar los datos\u001b[39;00m\n\u001b[0;32m----> 2\u001b[0m data \u001b[38;5;241m=\u001b[39m pd\u001b[38;5;241m.\u001b[39mread_csv(\u001b[38;5;124m\"\u001b[39m\u001b[38;5;124mDatos/tmdb_5000_movies.csv\u001b[39m\u001b[38;5;124m\"\u001b[39m)\n\u001b[1;32m      4\u001b[0m \u001b[38;5;66;03m# Preprocesamiento de datos\u001b[39;00m\n\u001b[1;32m      5\u001b[0m \u001b[38;5;66;03m# Transformar géneros en listas de palabras separadas\u001b[39;00m\n\u001b[1;32m      6\u001b[0m data[\u001b[38;5;124m\"\u001b[39m\u001b[38;5;124mgenres\u001b[39m\u001b[38;5;124m\"\u001b[39m] \u001b[38;5;241m=\u001b[39m data[\u001b[38;5;124m\"\u001b[39m\u001b[38;5;124mgenres\u001b[39m\u001b[38;5;124m\"\u001b[39m]\u001b[38;5;241m.\u001b[39mapply(\u001b[38;5;28;01mlambda\u001b[39;00m x: [genre[\u001b[38;5;124m\"\u001b[39m\u001b[38;5;124mname\u001b[39m\u001b[38;5;124m\"\u001b[39m] \u001b[38;5;28;01mfor\u001b[39;00m genre \u001b[38;5;129;01min\u001b[39;00m \u001b[38;5;28meval\u001b[39m(x)])\n",
      "File \u001b[0;32m~/anaconda3/lib/python3.12/site-packages/pandas/io/parsers/readers.py:1026\u001b[0m, in \u001b[0;36mread_csv\u001b[0;34m(filepath_or_buffer, sep, delimiter, header, names, index_col, usecols, dtype, engine, converters, true_values, false_values, skipinitialspace, skiprows, skipfooter, nrows, na_values, keep_default_na, na_filter, verbose, skip_blank_lines, parse_dates, infer_datetime_format, keep_date_col, date_parser, date_format, dayfirst, cache_dates, iterator, chunksize, compression, thousands, decimal, lineterminator, quotechar, quoting, doublequote, escapechar, comment, encoding, encoding_errors, dialect, on_bad_lines, delim_whitespace, low_memory, memory_map, float_precision, storage_options, dtype_backend)\u001b[0m\n\u001b[1;32m   1013\u001b[0m kwds_defaults \u001b[38;5;241m=\u001b[39m _refine_defaults_read(\n\u001b[1;32m   1014\u001b[0m     dialect,\n\u001b[1;32m   1015\u001b[0m     delimiter,\n\u001b[0;32m   (...)\u001b[0m\n\u001b[1;32m   1022\u001b[0m     dtype_backend\u001b[38;5;241m=\u001b[39mdtype_backend,\n\u001b[1;32m   1023\u001b[0m )\n\u001b[1;32m   1024\u001b[0m kwds\u001b[38;5;241m.\u001b[39mupdate(kwds_defaults)\n\u001b[0;32m-> 1026\u001b[0m \u001b[38;5;28;01mreturn\u001b[39;00m _read(filepath_or_buffer, kwds)\n",
      "File \u001b[0;32m~/anaconda3/lib/python3.12/site-packages/pandas/io/parsers/readers.py:620\u001b[0m, in \u001b[0;36m_read\u001b[0;34m(filepath_or_buffer, kwds)\u001b[0m\n\u001b[1;32m    617\u001b[0m _validate_names(kwds\u001b[38;5;241m.\u001b[39mget(\u001b[38;5;124m\"\u001b[39m\u001b[38;5;124mnames\u001b[39m\u001b[38;5;124m\"\u001b[39m, \u001b[38;5;28;01mNone\u001b[39;00m))\n\u001b[1;32m    619\u001b[0m \u001b[38;5;66;03m# Create the parser.\u001b[39;00m\n\u001b[0;32m--> 620\u001b[0m parser \u001b[38;5;241m=\u001b[39m TextFileReader(filepath_or_buffer, \u001b[38;5;241m*\u001b[39m\u001b[38;5;241m*\u001b[39mkwds)\n\u001b[1;32m    622\u001b[0m \u001b[38;5;28;01mif\u001b[39;00m chunksize \u001b[38;5;129;01mor\u001b[39;00m iterator:\n\u001b[1;32m    623\u001b[0m     \u001b[38;5;28;01mreturn\u001b[39;00m parser\n",
      "File \u001b[0;32m~/anaconda3/lib/python3.12/site-packages/pandas/io/parsers/readers.py:1620\u001b[0m, in \u001b[0;36mTextFileReader.__init__\u001b[0;34m(self, f, engine, **kwds)\u001b[0m\n\u001b[1;32m   1617\u001b[0m     \u001b[38;5;28mself\u001b[39m\u001b[38;5;241m.\u001b[39moptions[\u001b[38;5;124m\"\u001b[39m\u001b[38;5;124mhas_index_names\u001b[39m\u001b[38;5;124m\"\u001b[39m] \u001b[38;5;241m=\u001b[39m kwds[\u001b[38;5;124m\"\u001b[39m\u001b[38;5;124mhas_index_names\u001b[39m\u001b[38;5;124m\"\u001b[39m]\n\u001b[1;32m   1619\u001b[0m \u001b[38;5;28mself\u001b[39m\u001b[38;5;241m.\u001b[39mhandles: IOHandles \u001b[38;5;241m|\u001b[39m \u001b[38;5;28;01mNone\u001b[39;00m \u001b[38;5;241m=\u001b[39m \u001b[38;5;28;01mNone\u001b[39;00m\n\u001b[0;32m-> 1620\u001b[0m \u001b[38;5;28mself\u001b[39m\u001b[38;5;241m.\u001b[39m_engine \u001b[38;5;241m=\u001b[39m \u001b[38;5;28mself\u001b[39m\u001b[38;5;241m.\u001b[39m_make_engine(f, \u001b[38;5;28mself\u001b[39m\u001b[38;5;241m.\u001b[39mengine)\n",
      "File \u001b[0;32m~/anaconda3/lib/python3.12/site-packages/pandas/io/parsers/readers.py:1880\u001b[0m, in \u001b[0;36mTextFileReader._make_engine\u001b[0;34m(self, f, engine)\u001b[0m\n\u001b[1;32m   1878\u001b[0m     \u001b[38;5;28;01mif\u001b[39;00m \u001b[38;5;124m\"\u001b[39m\u001b[38;5;124mb\u001b[39m\u001b[38;5;124m\"\u001b[39m \u001b[38;5;129;01mnot\u001b[39;00m \u001b[38;5;129;01min\u001b[39;00m mode:\n\u001b[1;32m   1879\u001b[0m         mode \u001b[38;5;241m+\u001b[39m\u001b[38;5;241m=\u001b[39m \u001b[38;5;124m\"\u001b[39m\u001b[38;5;124mb\u001b[39m\u001b[38;5;124m\"\u001b[39m\n\u001b[0;32m-> 1880\u001b[0m \u001b[38;5;28mself\u001b[39m\u001b[38;5;241m.\u001b[39mhandles \u001b[38;5;241m=\u001b[39m get_handle(\n\u001b[1;32m   1881\u001b[0m     f,\n\u001b[1;32m   1882\u001b[0m     mode,\n\u001b[1;32m   1883\u001b[0m     encoding\u001b[38;5;241m=\u001b[39m\u001b[38;5;28mself\u001b[39m\u001b[38;5;241m.\u001b[39moptions\u001b[38;5;241m.\u001b[39mget(\u001b[38;5;124m\"\u001b[39m\u001b[38;5;124mencoding\u001b[39m\u001b[38;5;124m\"\u001b[39m, \u001b[38;5;28;01mNone\u001b[39;00m),\n\u001b[1;32m   1884\u001b[0m     compression\u001b[38;5;241m=\u001b[39m\u001b[38;5;28mself\u001b[39m\u001b[38;5;241m.\u001b[39moptions\u001b[38;5;241m.\u001b[39mget(\u001b[38;5;124m\"\u001b[39m\u001b[38;5;124mcompression\u001b[39m\u001b[38;5;124m\"\u001b[39m, \u001b[38;5;28;01mNone\u001b[39;00m),\n\u001b[1;32m   1885\u001b[0m     memory_map\u001b[38;5;241m=\u001b[39m\u001b[38;5;28mself\u001b[39m\u001b[38;5;241m.\u001b[39moptions\u001b[38;5;241m.\u001b[39mget(\u001b[38;5;124m\"\u001b[39m\u001b[38;5;124mmemory_map\u001b[39m\u001b[38;5;124m\"\u001b[39m, \u001b[38;5;28;01mFalse\u001b[39;00m),\n\u001b[1;32m   1886\u001b[0m     is_text\u001b[38;5;241m=\u001b[39mis_text,\n\u001b[1;32m   1887\u001b[0m     errors\u001b[38;5;241m=\u001b[39m\u001b[38;5;28mself\u001b[39m\u001b[38;5;241m.\u001b[39moptions\u001b[38;5;241m.\u001b[39mget(\u001b[38;5;124m\"\u001b[39m\u001b[38;5;124mencoding_errors\u001b[39m\u001b[38;5;124m\"\u001b[39m, \u001b[38;5;124m\"\u001b[39m\u001b[38;5;124mstrict\u001b[39m\u001b[38;5;124m\"\u001b[39m),\n\u001b[1;32m   1888\u001b[0m     storage_options\u001b[38;5;241m=\u001b[39m\u001b[38;5;28mself\u001b[39m\u001b[38;5;241m.\u001b[39moptions\u001b[38;5;241m.\u001b[39mget(\u001b[38;5;124m\"\u001b[39m\u001b[38;5;124mstorage_options\u001b[39m\u001b[38;5;124m\"\u001b[39m, \u001b[38;5;28;01mNone\u001b[39;00m),\n\u001b[1;32m   1889\u001b[0m )\n\u001b[1;32m   1890\u001b[0m \u001b[38;5;28;01massert\u001b[39;00m \u001b[38;5;28mself\u001b[39m\u001b[38;5;241m.\u001b[39mhandles \u001b[38;5;129;01mis\u001b[39;00m \u001b[38;5;129;01mnot\u001b[39;00m \u001b[38;5;28;01mNone\u001b[39;00m\n\u001b[1;32m   1891\u001b[0m f \u001b[38;5;241m=\u001b[39m \u001b[38;5;28mself\u001b[39m\u001b[38;5;241m.\u001b[39mhandles\u001b[38;5;241m.\u001b[39mhandle\n",
      "File \u001b[0;32m~/anaconda3/lib/python3.12/site-packages/pandas/io/common.py:873\u001b[0m, in \u001b[0;36mget_handle\u001b[0;34m(path_or_buf, mode, encoding, compression, memory_map, is_text, errors, storage_options)\u001b[0m\n\u001b[1;32m    868\u001b[0m \u001b[38;5;28;01melif\u001b[39;00m \u001b[38;5;28misinstance\u001b[39m(handle, \u001b[38;5;28mstr\u001b[39m):\n\u001b[1;32m    869\u001b[0m     \u001b[38;5;66;03m# Check whether the filename is to be opened in binary mode.\u001b[39;00m\n\u001b[1;32m    870\u001b[0m     \u001b[38;5;66;03m# Binary mode does not support 'encoding' and 'newline'.\u001b[39;00m\n\u001b[1;32m    871\u001b[0m     \u001b[38;5;28;01mif\u001b[39;00m ioargs\u001b[38;5;241m.\u001b[39mencoding \u001b[38;5;129;01mand\u001b[39;00m \u001b[38;5;124m\"\u001b[39m\u001b[38;5;124mb\u001b[39m\u001b[38;5;124m\"\u001b[39m \u001b[38;5;129;01mnot\u001b[39;00m \u001b[38;5;129;01min\u001b[39;00m ioargs\u001b[38;5;241m.\u001b[39mmode:\n\u001b[1;32m    872\u001b[0m         \u001b[38;5;66;03m# Encoding\u001b[39;00m\n\u001b[0;32m--> 873\u001b[0m         handle \u001b[38;5;241m=\u001b[39m \u001b[38;5;28mopen\u001b[39m(\n\u001b[1;32m    874\u001b[0m             handle,\n\u001b[1;32m    875\u001b[0m             ioargs\u001b[38;5;241m.\u001b[39mmode,\n\u001b[1;32m    876\u001b[0m             encoding\u001b[38;5;241m=\u001b[39mioargs\u001b[38;5;241m.\u001b[39mencoding,\n\u001b[1;32m    877\u001b[0m             errors\u001b[38;5;241m=\u001b[39merrors,\n\u001b[1;32m    878\u001b[0m             newline\u001b[38;5;241m=\u001b[39m\u001b[38;5;124m\"\u001b[39m\u001b[38;5;124m\"\u001b[39m,\n\u001b[1;32m    879\u001b[0m         )\n\u001b[1;32m    880\u001b[0m     \u001b[38;5;28;01melse\u001b[39;00m:\n\u001b[1;32m    881\u001b[0m         \u001b[38;5;66;03m# Binary mode\u001b[39;00m\n\u001b[1;32m    882\u001b[0m         handle \u001b[38;5;241m=\u001b[39m \u001b[38;5;28mopen\u001b[39m(handle, ioargs\u001b[38;5;241m.\u001b[39mmode)\n",
      "\u001b[0;31mFileNotFoundError\u001b[0m: [Errno 2] No such file or directory: 'Datos/tmdb_5000_movies.csv'"
     ]
    }
   ],
   "source": [
    "# Cargar los datos\n",
    "data = pd.read_csv(\"Datos/tmdb_5000_movies.csv\")\n",
    "\n",
    "# Preprocesamiento de datos\n",
    "# Transformar géneros en listas de palabras separadas\n",
    "data[\"genres\"] = data[\"genres\"].apply(lambda x: [genre[\"name\"] for genre in eval(x)])\n",
    "\n",
    "# Dividir los datos en características (X) y etiquetas (y)\n",
    "X = data[\"overview\"]\n",
    "y = data[\"genres\"]"
   ]
  },
  {
   "cell_type": "markdown",
   "metadata": {},
   "source": [
    "#### EXPLORAR LOS DATOS"
   ]
  },
  {
   "cell_type": "code",
   "execution_count": null,
   "metadata": {},
   "outputs": [],
   "source": []
  },
  {
   "cell_type": "markdown",
   "metadata": {},
   "source": [
    "#### DIVIDIR LOS DATOS"
   ]
  },
  {
   "cell_type": "code",
   "execution_count": null,
   "metadata": {},
   "outputs": [],
   "source": []
  },
  {
   "cell_type": "markdown",
   "metadata": {},
   "source": [
    "#### PREPARAR LOS DATOS"
   ]
  },
  {
   "cell_type": "markdown",
   "metadata": {},
   "source": [
    "Tienes aquí las transformaciones que hay que hacer a los datos pero busca en internet que estamos haciendo exactamente y explicalo (igual hay que hacer algo con los datos que faltan)"
   ]
  },
  {
   "cell_type": "code",
   "execution_count": null,
   "metadata": {},
   "outputs": [],
   "source": []
  },
  {
   "cell_type": "code",
   "execution_count": null,
   "metadata": {},
   "outputs": [],
   "source": [
    "tfidf_vectorizer = TfidfVectorizer()\n",
    "X_train_tfidf = tfidf_vectorizer.fit_transform(X_train)\n",
    "X_test_tfidf = tfidf_vectorizer.transform(X_test)\n",
    "\n",
    "mlb = MultiLabelBinarizer()\n",
    "y_train_transformed = mlb.fit_transform(y_train)\n"
   ]
  },
  {
   "cell_type": "code",
   "execution_count": null,
   "metadata": {},
   "outputs": [],
   "source": []
  },
  {
   "cell_type": "code",
   "execution_count": null,
   "metadata": {},
   "outputs": [],
   "source": []
  },
  {
   "cell_type": "code",
   "execution_count": null,
   "metadata": {},
   "outputs": [],
   "source": []
  },
  {
   "cell_type": "code",
   "execution_count": null,
   "metadata": {},
   "outputs": [],
   "source": []
  },
  {
   "cell_type": "code",
   "execution_count": null,
   "metadata": {},
   "outputs": [],
   "source": [
    "y_test_transformed = mlb.transform(y_test)"
   ]
  },
  {
   "cell_type": "code",
   "execution_count": null,
   "metadata": {},
   "outputs": [],
   "source": []
  },
  {
   "cell_type": "markdown",
   "metadata": {},
   "source": [
    "### ENTRENAMIENTO Y EVALUACIÓN DEL MODELO"
   ]
  },
  {
   "cell_type": "markdown",
   "metadata": {},
   "source": [
    "Crea un modelo Random Forest y evalúa el modelo en el conjunto de entrenamiento (accuracy), no hace falta usar validación cruzada."
   ]
  },
  {
   "cell_type": "code",
   "execution_count": null,
   "metadata": {},
   "outputs": [],
   "source": []
  },
  {
   "cell_type": "markdown",
   "metadata": {},
   "source": [
    "#### EVALUACIÓN EN EL CONJUNTO DE PRUEBA"
   ]
  },
  {
   "cell_type": "markdown",
   "metadata": {},
   "source": [
    "Evalúa el modelo en el conjuno de prueba y muestra las primeras 25 predicciones y sus correspondientes valores reales (con texto, para lo cual tendras que aplicar mlb.inverse_transform a las predicciones).\n",
    "\n",
    "¿Qué puedes deducir del resultado?"
   ]
  },
  {
   "cell_type": "code",
   "execution_count": null,
   "metadata": {},
   "outputs": [],
   "source": []
  }
 ],
 "metadata": {
  "kernelspec": {
   "display_name": "base",
   "language": "python",
   "name": "python3"
  },
  "language_info": {
   "codemirror_mode": {
    "name": "ipython",
    "version": 3
   },
   "file_extension": ".py",
   "mimetype": "text/x-python",
   "name": "python",
   "nbconvert_exporter": "python",
   "pygments_lexer": "ipython3",
   "version": "3.12.4"
  },
  "nav_menu": {},
  "toc": {
   "navigate_menu": true,
   "number_sections": true,
   "sideBar": true,
   "threshold": 6,
   "toc_cell": false,
   "toc_section_display": "block",
   "toc_window_display": false
  }
 },
 "nbformat": 4,
 "nbformat_minor": 4
}
