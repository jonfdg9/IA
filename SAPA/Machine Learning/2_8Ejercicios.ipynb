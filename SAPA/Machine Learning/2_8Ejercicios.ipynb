{
 "cells": [
  {
   "cell_type": "markdown",
   "metadata": {},
   "source": [
    "# EJERCICIOS"
   ]
  },
  {
   "cell_type": "code",
   "execution_count": null,
   "metadata": {},
   "outputs": [],
   "source": [
    "import matplotlib.pyplot as plt\n",
    "import numpy as np\n",
    "import pandas as pd\n",
    "import joblib\n",
    "import seaborn as sns\n",
    "from sklearn.datasets import load_digits\n",
    "from sklearn.neighbors import KNeighborsClassifier\n",
    "from sklearn.model_selection import GridSearchCV, train_test_split, RandomizedSearchCV\n",
    "from sklearn.preprocessing import StandardScaler, OneHotEncoder, MultiLabelBinarizer, FunctionTransformer\n",
    "from sklearn.compose import ColumnTransformer\n",
    "from sklearn.pipeline import Pipeline, make_pipeline\n",
    "from sklearn.linear_model import LogisticRegression, SGDClassifier\n",
    "from sklearn.ensemble import RandomForestClassifier\n",
    "from sklearn.metrics import roc_curve,confusion_matrix\n",
    "from sklearn.svm import SVC \n",
    "from sklearn.impute import SimpleImputer\n",
    "from sklearn.model_selection import cross_val_predict\n",
    "from sklearn.metrics import confusion_matrix, precision_score, recall_score, f1_score, roc_curve, auc, accuracy_score\n",
    "from scipy.stats import reciprocal\n",
    "from sklearn.feature_extraction.text import TfidfVectorizer"
   ]
  },
  {
   "cell_type": "markdown",
   "metadata": {},
   "source": [
    "## EJERCICIO 1"
   ]
  },
  {
   "cell_type": "markdown",
   "metadata": {},
   "source": [
    "Vamos a trabajar con el siguiente conjunto de datos: https://www.datacamp.com/es/datalab/datasets/dataset-python-loans\n",
    "\n",
    "| Variable      \t| Explicación                                                                                                             |\n",
    "|-------------------|-------------------------------------------------------------------------------------------------------------------------|\n",
    "| credit_policy\t    | 1 si el cliente cumple con los criterios de suscripción de crédito; 0 en caso contrario.                                |\n",
    "| purpose\t        | El propósito del préstamo.                                                                                              |\n",
    "| int_rate\t        | La tasa de interés del préstamo (a los prestatarios más riesgosos se les asignan tasas más altas).                      |\n",
    "| installment\t    | Las cuotas mensuales del prestamo                                                                                       |\n",
    "| log_annual_inc    | El logaritmo natural del ingreso anual declarado por el prestatario.                                                    |\n",
    "| dti\t            | La relación deuda-ingreso del prestatario (monto de deuda dividido por ingresos anuales).                               |\n",
    "| fico\t            | El puntaje de crédito FICO del prestatario.                                                                             |\n",
    "| days_with_cr_line\t| El número de días que el prestatario ha tenido una línea de crédito.                                                    |\n",
    "| revol_bal\t        | El saldo rotativo del prestatario (monto no pagado al final del ciclo de facturación de la tarjeta).                    |\n",
    "| revol_util        | La tasa de utilización de la línea de crédito del prestatario (monto de crédito utilizado respecto al total disponible).|\n",
    "| inq_last_6mths\t| El número de consultas de los acreedores al prestatario en los últimos 6 meses.                                         |\n",
    "| delinq_2yrs\t    | El número de veces que el prestatario ha estado más de 30 días en mora en un pago en los últimos 2 años.                |\n",
    "| pub_rec\t        | El número de registros públicos despectivos del prestatario.                                                            |\n",
    "| not_fully_paid    | 1 si el préstamo se pagó totalmente; 0 en caso contrario.                                                        |\n",
    "\n",
    "El csv lo tienes disponible en Moodle\n",
    "\n",
    "Este conjunto de datos consta de más de 9500 préstamos con información sobre los datos del préstamo y si el préstamo fue pagado en su totalidad o no. Estos datos fueron extraídos de LendingClub.com\n",
    "Crea un clasificador para predecir si un prestamo va a ser pagado o no."
   ]
  },
  {
   "cell_type": "markdown",
   "metadata": {},
   "source": [
    "### RECOPILACIÓN Y PREPARACIÓN DE LOS DATOS"
   ]
  },
  {
   "cell_type": "markdown",
   "metadata": {},
   "source": [
    "#### OBTENER LOS DATOS"
   ]
  },
  {
   "cell_type": "code",
   "execution_count": 3,
   "metadata": {},
   "outputs": [],
   "source": [
    "loan_data = pd.read_csv(\"datos/loan_data.csv\")"
   ]
  },
  {
   "cell_type": "markdown",
   "metadata": {},
   "source": [
    "#### EXPLORAR LOS DATOS"
   ]
  },
  {
   "cell_type": "markdown",
   "metadata": {},
   "source": [
    "Entre otras cosas: estadísticas, matriz de correlaciones y borrar columnas innecesarias."
   ]
  },
  {
   "cell_type": "code",
   "execution_count": 4,
   "metadata": {},
   "outputs": [
    {
     "data": {
      "text/html": [
       "<div>\n",
       "<style scoped>\n",
       "    .dataframe tbody tr th:only-of-type {\n",
       "        vertical-align: middle;\n",
       "    }\n",
       "\n",
       "    .dataframe tbody tr th {\n",
       "        vertical-align: top;\n",
       "    }\n",
       "\n",
       "    .dataframe thead th {\n",
       "        text-align: right;\n",
       "    }\n",
       "</style>\n",
       "<table border=\"1\" class=\"dataframe\">\n",
       "  <thead>\n",
       "    <tr style=\"text-align: right;\">\n",
       "      <th></th>\n",
       "      <th>credit.policy</th>\n",
       "      <th>purpose</th>\n",
       "      <th>int.rate</th>\n",
       "      <th>installment</th>\n",
       "      <th>log.annual.inc</th>\n",
       "      <th>dti</th>\n",
       "      <th>fico</th>\n",
       "      <th>days.with.cr.line</th>\n",
       "      <th>revol.bal</th>\n",
       "      <th>revol.util</th>\n",
       "      <th>inq.last.6mths</th>\n",
       "      <th>delinq.2yrs</th>\n",
       "      <th>pub.rec</th>\n",
       "      <th>not.fully.paid</th>\n",
       "    </tr>\n",
       "  </thead>\n",
       "  <tbody>\n",
       "    <tr>\n",
       "      <th>0</th>\n",
       "      <td>1</td>\n",
       "      <td>debt_consolidation</td>\n",
       "      <td>0.1189</td>\n",
       "      <td>829.10</td>\n",
       "      <td>11.350407</td>\n",
       "      <td>19.48</td>\n",
       "      <td>737</td>\n",
       "      <td>5639.958333</td>\n",
       "      <td>28854</td>\n",
       "      <td>52.1</td>\n",
       "      <td>0</td>\n",
       "      <td>0</td>\n",
       "      <td>0</td>\n",
       "      <td>0</td>\n",
       "    </tr>\n",
       "    <tr>\n",
       "      <th>1</th>\n",
       "      <td>1</td>\n",
       "      <td>credit_card</td>\n",
       "      <td>0.1071</td>\n",
       "      <td>228.22</td>\n",
       "      <td>11.082143</td>\n",
       "      <td>14.29</td>\n",
       "      <td>707</td>\n",
       "      <td>2760.000000</td>\n",
       "      <td>33623</td>\n",
       "      <td>76.7</td>\n",
       "      <td>0</td>\n",
       "      <td>0</td>\n",
       "      <td>0</td>\n",
       "      <td>0</td>\n",
       "    </tr>\n",
       "    <tr>\n",
       "      <th>2</th>\n",
       "      <td>1</td>\n",
       "      <td>debt_consolidation</td>\n",
       "      <td>0.1357</td>\n",
       "      <td>366.86</td>\n",
       "      <td>10.373491</td>\n",
       "      <td>11.63</td>\n",
       "      <td>682</td>\n",
       "      <td>4710.000000</td>\n",
       "      <td>3511</td>\n",
       "      <td>25.6</td>\n",
       "      <td>1</td>\n",
       "      <td>0</td>\n",
       "      <td>0</td>\n",
       "      <td>0</td>\n",
       "    </tr>\n",
       "    <tr>\n",
       "      <th>3</th>\n",
       "      <td>1</td>\n",
       "      <td>debt_consolidation</td>\n",
       "      <td>0.1008</td>\n",
       "      <td>162.34</td>\n",
       "      <td>11.350407</td>\n",
       "      <td>8.10</td>\n",
       "      <td>712</td>\n",
       "      <td>2699.958333</td>\n",
       "      <td>33667</td>\n",
       "      <td>73.2</td>\n",
       "      <td>1</td>\n",
       "      <td>0</td>\n",
       "      <td>0</td>\n",
       "      <td>0</td>\n",
       "    </tr>\n",
       "    <tr>\n",
       "      <th>4</th>\n",
       "      <td>1</td>\n",
       "      <td>credit_card</td>\n",
       "      <td>0.1426</td>\n",
       "      <td>102.92</td>\n",
       "      <td>11.299732</td>\n",
       "      <td>14.97</td>\n",
       "      <td>667</td>\n",
       "      <td>4066.000000</td>\n",
       "      <td>4740</td>\n",
       "      <td>39.5</td>\n",
       "      <td>0</td>\n",
       "      <td>1</td>\n",
       "      <td>0</td>\n",
       "      <td>0</td>\n",
       "    </tr>\n",
       "  </tbody>\n",
       "</table>\n",
       "</div>"
      ],
      "text/plain": [
       "   credit.policy             purpose  int.rate  installment  log.annual.inc  \\\n",
       "0              1  debt_consolidation    0.1189       829.10       11.350407   \n",
       "1              1         credit_card    0.1071       228.22       11.082143   \n",
       "2              1  debt_consolidation    0.1357       366.86       10.373491   \n",
       "3              1  debt_consolidation    0.1008       162.34       11.350407   \n",
       "4              1         credit_card    0.1426       102.92       11.299732   \n",
       "\n",
       "     dti  fico  days.with.cr.line  revol.bal  revol.util  inq.last.6mths  \\\n",
       "0  19.48   737        5639.958333      28854        52.1               0   \n",
       "1  14.29   707        2760.000000      33623        76.7               0   \n",
       "2  11.63   682        4710.000000       3511        25.6               1   \n",
       "3   8.10   712        2699.958333      33667        73.2               1   \n",
       "4  14.97   667        4066.000000       4740        39.5               0   \n",
       "\n",
       "   delinq.2yrs  pub.rec  not.fully.paid  \n",
       "0            0        0               0  \n",
       "1            0        0               0  \n",
       "2            0        0               0  \n",
       "3            0        0               0  \n",
       "4            1        0               0  "
      ]
     },
     "execution_count": 4,
     "metadata": {},
     "output_type": "execute_result"
    }
   ],
   "source": [
    "loan_data.head()"
   ]
  },
  {
   "cell_type": "code",
   "execution_count": 5,
   "metadata": {},
   "outputs": [
    {
     "name": "stdout",
     "output_type": "stream",
     "text": [
      "<class 'pandas.core.frame.DataFrame'>\n",
      "RangeIndex: 9578 entries, 0 to 9577\n",
      "Data columns (total 14 columns):\n",
      " #   Column             Non-Null Count  Dtype  \n",
      "---  ------             --------------  -----  \n",
      " 0   credit.policy      9578 non-null   int64  \n",
      " 1   purpose            9578 non-null   object \n",
      " 2   int.rate           9578 non-null   float64\n",
      " 3   installment        9578 non-null   float64\n",
      " 4   log.annual.inc     9578 non-null   float64\n",
      " 5   dti                9578 non-null   float64\n",
      " 6   fico               9578 non-null   int64  \n",
      " 7   days.with.cr.line  9578 non-null   float64\n",
      " 8   revol.bal          9578 non-null   int64  \n",
      " 9   revol.util         9578 non-null   float64\n",
      " 10  inq.last.6mths     9578 non-null   int64  \n",
      " 11  delinq.2yrs        9578 non-null   int64  \n",
      " 12  pub.rec            9578 non-null   int64  \n",
      " 13  not.fully.paid     9578 non-null   int64  \n",
      "dtypes: float64(6), int64(7), object(1)\n",
      "memory usage: 1.0+ MB\n"
     ]
    }
   ],
   "source": [
    "loan_data.info()"
   ]
  },
  {
   "cell_type": "code",
   "execution_count": null,
   "metadata": {},
   "outputs": [
    {
     "data": {
      "image/png": "[encoded data removed]",
      "text/plain": [
       "<Figure size 1200x1200 with 14 Axes>"
      ]
     },
     "metadata": {},
     "output_type": "display_data"
    }
   ],
   "source": [
    "df_object = loan_data.select_dtypes(include=[\"object\",\"category\"])\n",
    "df_num = loan_data.select_dtypes(include=[np.number])\n",
    "\n",
    "plt.figure(figsize=(12,12))\n",
    "\n",
    "subplot_index=1\n",
    "\n",
    "for col in df_num:\n",
    "    plt.subplot(7,2,subplot_index)\n",
    "    sns.histplot(x=loan_data[col])\n",
    "    subplot_index+=1\n",
    "\n",
    "for col in df_object:\n",
    "    plt.subplot(7,2,subplot_index)\n",
    "    sns.histplot(x=loan_data[col])\n",
    "    subplot_index+=1\n",
    "\n",
    "plt.tight_layout()\n",
    "plt.show()"
   ]
  },
  {
   "cell_type": "code",
   "execution_count": 14,
   "metadata": {},
   "outputs": [
    {
     "data": {
      "text/plain": [
       "not.fully.paid       1.000000\n",
       "int.rate             0.159552\n",
       "inq.last.6mths       0.149452\n",
       "revol.util           0.082088\n",
       "revol.bal            0.053699\n",
       "installment          0.049955\n",
       "pub.rec              0.048634\n",
       "dti                  0.037362\n",
       "delinq.2yrs          0.008881\n",
       "days.with.cr.line   -0.029237\n",
       "log.annual.inc      -0.033439\n",
       "fico                -0.149666\n",
       "credit.policy       -0.158119\n",
       "Name: not.fully.paid, dtype: float64"
      ]
     },
     "execution_count": 14,
     "metadata": {},
     "output_type": "execute_result"
    }
   ],
   "source": [
    "corr_matrix = loan_data.corr(numeric_only=True)\n",
    "corr_matrix['not.fully.paid'].sort_values(ascending=False)"
   ]
  },
  {
   "cell_type": "code",
   "execution_count": 15,
   "metadata": {},
   "outputs": [
    {
     "data": {
      "text/html": [
       "<style type=\"text/css\">\n",
       "#T_07c96_row0_col0, #T_07c96_row1_col1, #T_07c96_row2_col2, #T_07c96_row3_col3, #T_07c96_row4_col4, #T_07c96_row5_col5, #T_07c96_row6_col6, #T_07c96_row7_col7, #T_07c96_row8_col8, #T_07c96_row9_col9, #T_07c96_row10_col10, #T_07c96_row11_col11, #T_07c96_row12_col12 {\n",
       "  background-color: #023858;\n",
       "  color: #f1f1f1;\n",
       "}\n",
       "#T_07c96_row0_col1, #T_07c96_row6_col4, #T_07c96_row6_col10, #T_07c96_row12_col0 {\n",
       "  background-color: #d2d2e7;\n",
       "  color: #000000;\n",
       "}\n",
       "#T_07c96_row0_col2, #T_07c96_row0_col3, #T_07c96_row8_col6, #T_07c96_row12_col6 {\n",
       "  background-color: #f2ecf5;\n",
       "  color: #000000;\n",
       "}\n",
       "#T_07c96_row0_col4 {\n",
       "  background-color: #ede8f3;\n",
       "  color: #000000;\n",
       "}\n",
       "#T_07c96_row0_col5 {\n",
       "  background-color: #3991c1;\n",
       "  color: #f1f1f1;\n",
       "}\n",
       "#T_07c96_row0_col6, #T_07c96_row9_col10 {\n",
       "  background-color: #dcdaeb;\n",
       "  color: #000000;\n",
       "}\n",
       "#T_07c96_row0_col7, #T_07c96_row0_col9, #T_07c96_row0_col12, #T_07c96_row1_col5, #T_07c96_row1_col6, #T_07c96_row4_col3, #T_07c96_row5_col1, #T_07c96_row5_col4, #T_07c96_row5_col8, #T_07c96_row5_col10, #T_07c96_row5_col11, #T_07c96_row9_col0, #T_07c96_row11_col2 {\n",
       "  background-color: #fff7fb;\n",
       "  color: #000000;\n",
       "}\n",
       "#T_07c96_row0_col8 {\n",
       "  background-color: #c5cce3;\n",
       "  color: #000000;\n",
       "}\n",
       "#T_07c96_row0_col10, #T_07c96_row5_col2 {\n",
       "  background-color: #eee8f3;\n",
       "  color: #000000;\n",
       "}\n",
       "#T_07c96_row0_col11, #T_07c96_row4_col2, #T_07c96_row9_col3, #T_07c96_row10_col3, #T_07c96_row12_col2 {\n",
       "  background-color: #f3edf5;\n",
       "  color: #000000;\n",
       "}\n",
       "#T_07c96_row1_col0, #T_07c96_row4_col10, #T_07c96_row5_col3 {\n",
       "  background-color: #e5e1ef;\n",
       "  color: #000000;\n",
       "}\n",
       "#T_07c96_row1_col2, #T_07c96_row10_col0 {\n",
       "  background-color: #c0c9e2;\n",
       "  color: #000000;\n",
       "}\n",
       "#T_07c96_row1_col3, #T_07c96_row2_col11, #T_07c96_row7_col11, #T_07c96_row8_col3, #T_07c96_row8_col5 {\n",
       "  background-color: #f0eaf4;\n",
       "  color: #000000;\n",
       "}\n",
       "#T_07c96_row1_col4, #T_07c96_row3_col0 {\n",
       "  background-color: #a7bddb;\n",
       "  color: #000000;\n",
       "}\n",
       "#T_07c96_row1_col7, #T_07c96_row2_col4 {\n",
       "  background-color: #d3d4e7;\n",
       "  color: #000000;\n",
       "}\n",
       "#T_07c96_row1_col8 {\n",
       "  background-color: #2a88bc;\n",
       "  color: #f1f1f1;\n",
       "}\n",
       "#T_07c96_row1_col9, #T_07c96_row3_col5, #T_07c96_row7_col8 {\n",
       "  background-color: #7bacd1;\n",
       "  color: #f1f1f1;\n",
       "}\n",
       "#T_07c96_row1_col10 {\n",
       "  background-color: #bdc8e1;\n",
       "  color: #000000;\n",
       "}\n",
       "#T_07c96_row1_col11, #T_07c96_row6_col2, #T_07c96_row8_col12 {\n",
       "  background-color: #d9d8ea;\n",
       "  color: #000000;\n",
       "}\n",
       "#T_07c96_row1_col12, #T_07c96_row4_col5 {\n",
       "  background-color: #c8cde4;\n",
       "  color: #000000;\n",
       "}\n",
       "#T_07c96_row2_col0, #T_07c96_row3_col8 {\n",
       "  background-color: #a1bbda;\n",
       "  color: #000000;\n",
       "}\n",
       "#T_07c96_row2_col1, #T_07c96_row5_col0 {\n",
       "  background-color: #4e9ac6;\n",
       "  color: #f1f1f1;\n",
       "}\n",
       "#T_07c96_row2_col3, #T_07c96_row11_col1 {\n",
       "  background-color: #7eadd1;\n",
       "  color: #f1f1f1;\n",
       "}\n",
       "#T_07c96_row2_col5, #T_07c96_row3_col2, #T_07c96_row8_col4 {\n",
       "  background-color: #81aed2;\n",
       "  color: #f1f1f1;\n",
       "}\n",
       "#T_07c96_row2_col6 {\n",
       "  background-color: #c9cee4;\n",
       "  color: #000000;\n",
       "}\n",
       "#T_07c96_row2_col7 {\n",
       "  background-color: #adc1dd;\n",
       "  color: #000000;\n",
       "}\n",
       "#T_07c96_row2_col8, #T_07c96_row7_col3, #T_07c96_row12_col8 {\n",
       "  background-color: #9ab8d8;\n",
       "  color: #000000;\n",
       "}\n",
       "#T_07c96_row2_col9, #T_07c96_row9_col8 {\n",
       "  background-color: #b1c2de;\n",
       "  color: #000000;\n",
       "}\n",
       "#T_07c96_row2_col10, #T_07c96_row11_col6 {\n",
       "  background-color: #e1dfed;\n",
       "  color: #000000;\n",
       "}\n",
       "#T_07c96_row2_col12, #T_07c96_row9_col7, #T_07c96_row10_col4, #T_07c96_row11_col12 {\n",
       "  background-color: #e0deed;\n",
       "  color: #000000;\n",
       "}\n",
       "#T_07c96_row3_col1 {\n",
       "  background-color: #88b1d4;\n",
       "  color: #000000;\n",
       "}\n",
       "#T_07c96_row3_col4, #T_07c96_row5_col7, #T_07c96_row7_col10 {\n",
       "  background-color: #e7e3f0;\n",
       "  color: #000000;\n",
       "}\n",
       "#T_07c96_row3_col6, #T_07c96_row7_col5 {\n",
       "  background-color: #99b8d8;\n",
       "  color: #000000;\n",
       "}\n",
       "#T_07c96_row3_col7, #T_07c96_row7_col1 {\n",
       "  background-color: #80aed2;\n",
       "  color: #f1f1f1;\n",
       "}\n",
       "#T_07c96_row3_col9, #T_07c96_row4_col9, #T_07c96_row6_col3 {\n",
       "  background-color: #a8bedc;\n",
       "  color: #000000;\n",
       "}\n",
       "#T_07c96_row3_col10, #T_07c96_row11_col4 {\n",
       "  background-color: #dbdaeb;\n",
       "  color: #000000;\n",
       "}\n",
       "#T_07c96_row3_col11, #T_07c96_row8_col10, #T_07c96_row10_col12 {\n",
       "  background-color: #e8e4f0;\n",
       "  color: #000000;\n",
       "}\n",
       "#T_07c96_row3_col12 {\n",
       "  background-color: #efe9f3;\n",
       "  color: #000000;\n",
       "}\n",
       "#T_07c96_row4_col0, #T_07c96_row10_col5 {\n",
       "  background-color: #c2cbe2;\n",
       "  color: #000000;\n",
       "}\n",
       "#T_07c96_row4_col1 {\n",
       "  background-color: #5ea0ca;\n",
       "  color: #f1f1f1;\n",
       "}\n",
       "#T_07c96_row4_col6 {\n",
       "  background-color: #e4e1ef;\n",
       "  color: #000000;\n",
       "}\n",
       "#T_07c96_row4_col7 {\n",
       "  background-color: #b9c6e0;\n",
       "  color: #000000;\n",
       "}\n",
       "#T_07c96_row4_col8 {\n",
       "  background-color: #529bc7;\n",
       "  color: #f1f1f1;\n",
       "}\n",
       "#T_07c96_row4_col11, #T_07c96_row10_col11 {\n",
       "  background-color: #eae6f1;\n",
       "  color: #000000;\n",
       "}\n",
       "#T_07c96_row4_col12, #T_07c96_row12_col11 {\n",
       "  background-color: #e2dfee;\n",
       "  color: #000000;\n",
       "}\n",
       "#T_07c96_row5_col6, #T_07c96_row6_col1, #T_07c96_row7_col4 {\n",
       "  background-color: #b0c2de;\n",
       "  color: #000000;\n",
       "}\n",
       "#T_07c96_row5_col9, #T_07c96_row7_col0 {\n",
       "  background-color: #d5d5e8;\n",
       "  color: #000000;\n",
       "}\n",
       "#T_07c96_row5_col12 {\n",
       "  background-color: #fef6fb;\n",
       "  color: #000000;\n",
       "}\n",
       "#T_07c96_row6_col0 {\n",
       "  background-color: #97b7d7;\n",
       "  color: #000000;\n",
       "}\n",
       "#T_07c96_row6_col5 {\n",
       "  background-color: #509ac6;\n",
       "  color: #f1f1f1;\n",
       "}\n",
       "#T_07c96_row6_col7 {\n",
       "  background-color: #afc1dd;\n",
       "  color: #000000;\n",
       "}\n",
       "#T_07c96_row6_col8 {\n",
       "  background-color: #b4c4df;\n",
       "  color: #000000;\n",
       "}\n",
       "#T_07c96_row6_col9, #T_07c96_row10_col8 {\n",
       "  background-color: #b8c6e0;\n",
       "  color: #000000;\n",
       "}\n",
       "#T_07c96_row6_col11 {\n",
       "  background-color: #dedcec;\n",
       "  color: #000000;\n",
       "}\n",
       "#T_07c96_row6_col12, #T_07c96_row8_col2 {\n",
       "  background-color: #eee9f3;\n",
       "  color: #000000;\n",
       "}\n",
       "#T_07c96_row7_col2 {\n",
       "  background-color: #cdd0e5;\n",
       "  color: #000000;\n",
       "}\n",
       "#T_07c96_row7_col6, #T_07c96_row11_col0 {\n",
       "  background-color: #bbc7e0;\n",
       "  color: #000000;\n",
       "}\n",
       "#T_07c96_row7_col9 {\n",
       "  background-color: #a9bfdc;\n",
       "  color: #000000;\n",
       "}\n",
       "#T_07c96_row7_col12, #T_07c96_row10_col6 {\n",
       "  background-color: #e0dded;\n",
       "  color: #000000;\n",
       "}\n",
       "#T_07c96_row8_col0 {\n",
       "  background-color: #c6cce3;\n",
       "  color: #000000;\n",
       "}\n",
       "#T_07c96_row8_col1 {\n",
       "  background-color: #1c7fb8;\n",
       "  color: #f1f1f1;\n",
       "}\n",
       "#T_07c96_row8_col7, #T_07c96_row11_col5, #T_07c96_row12_col5 {\n",
       "  background-color: #b5c4df;\n",
       "  color: #000000;\n",
       "}\n",
       "#T_07c96_row8_col9 {\n",
       "  background-color: #b3c3de;\n",
       "  color: #000000;\n",
       "}\n",
       "#T_07c96_row8_col11, #T_07c96_row11_col10, #T_07c96_row12_col10 {\n",
       "  background-color: #dfddec;\n",
       "  color: #000000;\n",
       "}\n",
       "#T_07c96_row9_col1 {\n",
       "  background-color: #63a2cb;\n",
       "  color: #f1f1f1;\n",
       "}\n",
       "#T_07c96_row9_col2, #T_07c96_row12_col3 {\n",
       "  background-color: #fcf4fa;\n",
       "  color: #000000;\n",
       "}\n",
       "#T_07c96_row9_col4 {\n",
       "  background-color: #d8d7e9;\n",
       "  color: #000000;\n",
       "}\n",
       "#T_07c96_row9_col5 {\n",
       "  background-color: #bcc7e1;\n",
       "  color: #000000;\n",
       "}\n",
       "#T_07c96_row9_col6 {\n",
       "  background-color: #f4eef6;\n",
       "  color: #000000;\n",
       "}\n",
       "#T_07c96_row9_col11 {\n",
       "  background-color: #dddbec;\n",
       "  color: #000000;\n",
       "}\n",
       "#T_07c96_row9_col12 {\n",
       "  background-color: #cccfe5;\n",
       "  color: #000000;\n",
       "}\n",
       "#T_07c96_row10_col1, #T_07c96_row12_col1 {\n",
       "  background-color: #6fa7ce;\n",
       "  color: #f1f1f1;\n",
       "}\n",
       "#T_07c96_row10_col2 {\n",
       "  background-color: #fbf3f9;\n",
       "  color: #000000;\n",
       "}\n",
       "#T_07c96_row10_col7, #T_07c96_row11_col7 {\n",
       "  background-color: #ebe6f2;\n",
       "  color: #000000;\n",
       "}\n",
       "#T_07c96_row10_col9 {\n",
       "  background-color: #abbfdc;\n",
       "  color: #000000;\n",
       "}\n",
       "#T_07c96_row11_col3 {\n",
       "  background-color: #f5eef6;\n",
       "  color: #000000;\n",
       "}\n",
       "#T_07c96_row11_col8 {\n",
       "  background-color: #9fbad9;\n",
       "  color: #000000;\n",
       "}\n",
       "#T_07c96_row11_col9 {\n",
       "  background-color: #9ebad9;\n",
       "  color: #000000;\n",
       "}\n",
       "#T_07c96_row12_col4 {\n",
       "  background-color: #d6d6e9;\n",
       "  color: #000000;\n",
       "}\n",
       "#T_07c96_row12_col7 {\n",
       "  background-color: #dad9ea;\n",
       "  color: #000000;\n",
       "}\n",
       "#T_07c96_row12_col9 {\n",
       "  background-color: #89b1d4;\n",
       "  color: #000000;\n",
       "}\n",
       "</style>\n",
       "<table id=\"T_07c96\">\n",
       "  <thead>\n",
       "    <tr>\n",
       "      <th class=\"blank level0\" >&nbsp;</th>\n",
       "      <th id=\"T_07c96_level0_col0\" class=\"col_heading level0 col0\" >credit.policy</th>\n",
       "      <th id=\"T_07c96_level0_col1\" class=\"col_heading level0 col1\" >int.rate</th>\n",
       "      <th id=\"T_07c96_level0_col2\" class=\"col_heading level0 col2\" >installment</th>\n",
       "      <th id=\"T_07c96_level0_col3\" class=\"col_heading level0 col3\" >log.annual.inc</th>\n",
       "      <th id=\"T_07c96_level0_col4\" class=\"col_heading level0 col4\" >dti</th>\n",
       "      <th id=\"T_07c96_level0_col5\" class=\"col_heading level0 col5\" >fico</th>\n",
       "      <th id=\"T_07c96_level0_col6\" class=\"col_heading level0 col6\" >days.with.cr.line</th>\n",
       "      <th id=\"T_07c96_level0_col7\" class=\"col_heading level0 col7\" >revol.bal</th>\n",
       "      <th id=\"T_07c96_level0_col8\" class=\"col_heading level0 col8\" >revol.util</th>\n",
       "      <th id=\"T_07c96_level0_col9\" class=\"col_heading level0 col9\" >inq.last.6mths</th>\n",
       "      <th id=\"T_07c96_level0_col10\" class=\"col_heading level0 col10\" >delinq.2yrs</th>\n",
       "      <th id=\"T_07c96_level0_col11\" class=\"col_heading level0 col11\" >pub.rec</th>\n",
       "      <th id=\"T_07c96_level0_col12\" class=\"col_heading level0 col12\" >not.fully.paid</th>\n",
       "    </tr>\n",
       "  </thead>\n",
       "  <tbody>\n",
       "    <tr>\n",
       "      <th id=\"T_07c96_level0_row0\" class=\"row_heading level0 row0\" >credit.policy</th>\n",
       "      <td id=\"T_07c96_row0_col0\" class=\"data row0 col0\" >1.000000</td>\n",
       "      <td id=\"T_07c96_row0_col1\" class=\"data row0 col1\" >-0.294089</td>\n",
       "      <td id=\"T_07c96_row0_col2\" class=\"data row0 col2\" >0.058770</td>\n",
       "      <td id=\"T_07c96_row0_col3\" class=\"data row0 col3\" >0.034906</td>\n",
       "      <td id=\"T_07c96_row0_col4\" class=\"data row0 col4\" >-0.090901</td>\n",
       "      <td id=\"T_07c96_row0_col5\" class=\"data row0 col5\" >0.348319</td>\n",
       "      <td id=\"T_07c96_row0_col6\" class=\"data row0 col6\" >0.099026</td>\n",
       "      <td id=\"T_07c96_row0_col7\" class=\"data row0 col7\" >-0.187518</td>\n",
       "      <td id=\"T_07c96_row0_col8\" class=\"data row0 col8\" >-0.104095</td>\n",
       "      <td id=\"T_07c96_row0_col9\" class=\"data row0 col9\" >-0.535511</td>\n",
       "      <td id=\"T_07c96_row0_col10\" class=\"data row0 col10\" >-0.076318</td>\n",
       "      <td id=\"T_07c96_row0_col11\" class=\"data row0 col11\" >-0.054243</td>\n",
       "      <td id=\"T_07c96_row0_col12\" class=\"data row0 col12\" >-0.158119</td>\n",
       "    </tr>\n",
       "    <tr>\n",
       "      <th id=\"T_07c96_level0_row1\" class=\"row_heading level0 row1\" >int.rate</th>\n",
       "      <td id=\"T_07c96_row1_col0\" class=\"data row1 col0\" >-0.294089</td>\n",
       "      <td id=\"T_07c96_row1_col1\" class=\"data row1 col1\" >1.000000</td>\n",
       "      <td id=\"T_07c96_row1_col2\" class=\"data row1 col2\" >0.276140</td>\n",
       "      <td id=\"T_07c96_row1_col3\" class=\"data row1 col3\" >0.056383</td>\n",
       "      <td id=\"T_07c96_row1_col4\" class=\"data row1 col4\" >0.220006</td>\n",
       "      <td id=\"T_07c96_row1_col5\" class=\"data row1 col5\" >-0.714821</td>\n",
       "      <td id=\"T_07c96_row1_col6\" class=\"data row1 col6\" >-0.124022</td>\n",
       "      <td id=\"T_07c96_row1_col7\" class=\"data row1 col7\" >0.092527</td>\n",
       "      <td id=\"T_07c96_row1_col8\" class=\"data row1 col8\" >0.464837</td>\n",
       "      <td id=\"T_07c96_row1_col9\" class=\"data row1 col9\" >0.202780</td>\n",
       "      <td id=\"T_07c96_row1_col10\" class=\"data row1 col10\" >0.156079</td>\n",
       "      <td id=\"T_07c96_row1_col11\" class=\"data row1 col11\" >0.098162</td>\n",
       "      <td id=\"T_07c96_row1_col12\" class=\"data row1 col12\" >0.159552</td>\n",
       "    </tr>\n",
       "    <tr>\n",
       "      <th id=\"T_07c96_level0_row2\" class=\"row_heading level0 row2\" >installment</th>\n",
       "      <td id=\"T_07c96_row2_col0\" class=\"data row2 col0\" >0.058770</td>\n",
       "      <td id=\"T_07c96_row2_col1\" class=\"data row2 col1\" >0.276140</td>\n",
       "      <td id=\"T_07c96_row2_col2\" class=\"data row2 col2\" >1.000000</td>\n",
       "      <td id=\"T_07c96_row2_col3\" class=\"data row2 col3\" >0.448102</td>\n",
       "      <td id=\"T_07c96_row2_col4\" class=\"data row2 col4\" >0.050202</td>\n",
       "      <td id=\"T_07c96_row2_col5\" class=\"data row2 col5\" >0.086039</td>\n",
       "      <td id=\"T_07c96_row2_col6\" class=\"data row2 col6\" >0.183297</td>\n",
       "      <td id=\"T_07c96_row2_col7\" class=\"data row2 col7\" >0.233625</td>\n",
       "      <td id=\"T_07c96_row2_col8\" class=\"data row2 col8\" >0.081356</td>\n",
       "      <td id=\"T_07c96_row2_col9\" class=\"data row2 col9\" >-0.010419</td>\n",
       "      <td id=\"T_07c96_row2_col10\" class=\"data row2 col10\" >-0.004368</td>\n",
       "      <td id=\"T_07c96_row2_col11\" class=\"data row2 col11\" >-0.032760</td>\n",
       "      <td id=\"T_07c96_row2_col12\" class=\"data row2 col12\" >0.049955</td>\n",
       "    </tr>\n",
       "    <tr>\n",
       "      <th id=\"T_07c96_level0_row3\" class=\"row_heading level0 row3\" >log.annual.inc</th>\n",
       "      <td id=\"T_07c96_row3_col0\" class=\"data row3 col0\" >0.034906</td>\n",
       "      <td id=\"T_07c96_row3_col1\" class=\"data row3 col1\" >0.056383</td>\n",
       "      <td id=\"T_07c96_row3_col2\" class=\"data row3 col2\" >0.448102</td>\n",
       "      <td id=\"T_07c96_row3_col3\" class=\"data row3 col3\" >1.000000</td>\n",
       "      <td id=\"T_07c96_row3_col4\" class=\"data row3 col4\" >-0.054065</td>\n",
       "      <td id=\"T_07c96_row3_col5\" class=\"data row3 col5\" >0.114576</td>\n",
       "      <td id=\"T_07c96_row3_col6\" class=\"data row3 col6\" >0.336896</td>\n",
       "      <td id=\"T_07c96_row3_col7\" class=\"data row3 col7\" >0.372140</td>\n",
       "      <td id=\"T_07c96_row3_col8\" class=\"data row3 col8\" >0.054881</td>\n",
       "      <td id=\"T_07c96_row3_col9\" class=\"data row3 col9\" >0.029171</td>\n",
       "      <td id=\"T_07c96_row3_col10\" class=\"data row3 col10\" >0.029203</td>\n",
       "      <td id=\"T_07c96_row3_col11\" class=\"data row3 col11\" >0.016506</td>\n",
       "      <td id=\"T_07c96_row3_col12\" class=\"data row3 col12\" >-0.033439</td>\n",
       "    </tr>\n",
       "    <tr>\n",
       "      <th id=\"T_07c96_level0_row4\" class=\"row_heading level0 row4\" >dti</th>\n",
       "      <td id=\"T_07c96_row4_col0\" class=\"data row4 col0\" >-0.090901</td>\n",
       "      <td id=\"T_07c96_row4_col1\" class=\"data row4 col1\" >0.220006</td>\n",
       "      <td id=\"T_07c96_row4_col2\" class=\"data row4 col2\" >0.050202</td>\n",
       "      <td id=\"T_07c96_row4_col3\" class=\"data row4 col3\" >-0.054065</td>\n",
       "      <td id=\"T_07c96_row4_col4\" class=\"data row4 col4\" >1.000000</td>\n",
       "      <td id=\"T_07c96_row4_col5\" class=\"data row4 col5\" >-0.241191</td>\n",
       "      <td id=\"T_07c96_row4_col6\" class=\"data row4 col6\" >0.060101</td>\n",
       "      <td id=\"T_07c96_row4_col7\" class=\"data row4 col7\" >0.188748</td>\n",
       "      <td id=\"T_07c96_row4_col8\" class=\"data row4 col8\" >0.337109</td>\n",
       "      <td id=\"T_07c96_row4_col9\" class=\"data row4 col9\" >0.029189</td>\n",
       "      <td id=\"T_07c96_row4_col10\" class=\"data row4 col10\" >-0.021792</td>\n",
       "      <td id=\"T_07c96_row4_col11\" class=\"data row4 col11\" >0.006209</td>\n",
       "      <td id=\"T_07c96_row4_col12\" class=\"data row4 col12\" >0.037362</td>\n",
       "    </tr>\n",
       "    <tr>\n",
       "      <th id=\"T_07c96_level0_row5\" class=\"row_heading level0 row5\" >fico</th>\n",
       "      <td id=\"T_07c96_row5_col0\" class=\"data row5 col0\" >0.348319</td>\n",
       "      <td id=\"T_07c96_row5_col1\" class=\"data row5 col1\" >-0.714821</td>\n",
       "      <td id=\"T_07c96_row5_col2\" class=\"data row5 col2\" >0.086039</td>\n",
       "      <td id=\"T_07c96_row5_col3\" class=\"data row5 col3\" >0.114576</td>\n",
       "      <td id=\"T_07c96_row5_col4\" class=\"data row5 col4\" >-0.241191</td>\n",
       "      <td id=\"T_07c96_row5_col5\" class=\"data row5 col5\" >1.000000</td>\n",
       "      <td id=\"T_07c96_row5_col6\" class=\"data row5 col6\" >0.263880</td>\n",
       "      <td id=\"T_07c96_row5_col7\" class=\"data row5 col7\" >-0.015553</td>\n",
       "      <td id=\"T_07c96_row5_col8\" class=\"data row5 col8\" >-0.541289</td>\n",
       "      <td id=\"T_07c96_row5_col9\" class=\"data row5 col9\" >-0.185293</td>\n",
       "      <td id=\"T_07c96_row5_col10\" class=\"data row5 col10\" >-0.216340</td>\n",
       "      <td id=\"T_07c96_row5_col11\" class=\"data row5 col11\" >-0.147592</td>\n",
       "      <td id=\"T_07c96_row5_col12\" class=\"data row5 col12\" >-0.149666</td>\n",
       "    </tr>\n",
       "    <tr>\n",
       "      <th id=\"T_07c96_level0_row6\" class=\"row_heading level0 row6\" >days.with.cr.line</th>\n",
       "      <td id=\"T_07c96_row6_col0\" class=\"data row6 col0\" >0.099026</td>\n",
       "      <td id=\"T_07c96_row6_col1\" class=\"data row6 col1\" >-0.124022</td>\n",
       "      <td id=\"T_07c96_row6_col2\" class=\"data row6 col2\" >0.183297</td>\n",
       "      <td id=\"T_07c96_row6_col3\" class=\"data row6 col3\" >0.336896</td>\n",
       "      <td id=\"T_07c96_row6_col4\" class=\"data row6 col4\" >0.060101</td>\n",
       "      <td id=\"T_07c96_row6_col5\" class=\"data row6 col5\" >0.263880</td>\n",
       "      <td id=\"T_07c96_row6_col6\" class=\"data row6 col6\" >1.000000</td>\n",
       "      <td id=\"T_07c96_row6_col7\" class=\"data row6 col7\" >0.229344</td>\n",
       "      <td id=\"T_07c96_row6_col8\" class=\"data row6 col8\" >-0.024239</td>\n",
       "      <td id=\"T_07c96_row6_col9\" class=\"data row6 col9\" >-0.041736</td>\n",
       "      <td id=\"T_07c96_row6_col10\" class=\"data row6 col10\" >0.081374</td>\n",
       "      <td id=\"T_07c96_row6_col11\" class=\"data row6 col11\" >0.071826</td>\n",
       "      <td id=\"T_07c96_row6_col12\" class=\"data row6 col12\" >-0.029237</td>\n",
       "    </tr>\n",
       "    <tr>\n",
       "      <th id=\"T_07c96_level0_row7\" class=\"row_heading level0 row7\" >revol.bal</th>\n",
       "      <td id=\"T_07c96_row7_col0\" class=\"data row7 col0\" >-0.187518</td>\n",
       "      <td id=\"T_07c96_row7_col1\" class=\"data row7 col1\" >0.092527</td>\n",
       "      <td id=\"T_07c96_row7_col2\" class=\"data row7 col2\" >0.233625</td>\n",
       "      <td id=\"T_07c96_row7_col3\" class=\"data row7 col3\" >0.372140</td>\n",
       "      <td id=\"T_07c96_row7_col4\" class=\"data row7 col4\" >0.188748</td>\n",
       "      <td id=\"T_07c96_row7_col5\" class=\"data row7 col5\" >-0.015553</td>\n",
       "      <td id=\"T_07c96_row7_col6\" class=\"data row7 col6\" >0.229344</td>\n",
       "      <td id=\"T_07c96_row7_col7\" class=\"data row7 col7\" >1.000000</td>\n",
       "      <td id=\"T_07c96_row7_col8\" class=\"data row7 col8\" >0.203779</td>\n",
       "      <td id=\"T_07c96_row7_col9\" class=\"data row7 col9\" >0.022394</td>\n",
       "      <td id=\"T_07c96_row7_col10\" class=\"data row7 col10\" >-0.033243</td>\n",
       "      <td id=\"T_07c96_row7_col11\" class=\"data row7 col11\" >-0.031010</td>\n",
       "      <td id=\"T_07c96_row7_col12\" class=\"data row7 col12\" >0.053699</td>\n",
       "    </tr>\n",
       "    <tr>\n",
       "      <th id=\"T_07c96_level0_row8\" class=\"row_heading level0 row8\" >revol.util</th>\n",
       "      <td id=\"T_07c96_row8_col0\" class=\"data row8 col0\" >-0.104095</td>\n",
       "      <td id=\"T_07c96_row8_col1\" class=\"data row8 col1\" >0.464837</td>\n",
       "      <td id=\"T_07c96_row8_col2\" class=\"data row8 col2\" >0.081356</td>\n",
       "      <td id=\"T_07c96_row8_col3\" class=\"data row8 col3\" >0.054881</td>\n",
       "      <td id=\"T_07c96_row8_col4\" class=\"data row8 col4\" >0.337109</td>\n",
       "      <td id=\"T_07c96_row8_col5\" class=\"data row8 col5\" >-0.541289</td>\n",
       "      <td id=\"T_07c96_row8_col6\" class=\"data row8 col6\" >-0.024239</td>\n",
       "      <td id=\"T_07c96_row8_col7\" class=\"data row8 col7\" >0.203779</td>\n",
       "      <td id=\"T_07c96_row8_col8\" class=\"data row8 col8\" >1.000000</td>\n",
       "      <td id=\"T_07c96_row8_col9\" class=\"data row8 col9\" >-0.013880</td>\n",
       "      <td id=\"T_07c96_row8_col10\" class=\"data row8 col10\" >-0.042740</td>\n",
       "      <td id=\"T_07c96_row8_col11\" class=\"data row8 col11\" >0.066717</td>\n",
       "      <td id=\"T_07c96_row8_col12\" class=\"data row8 col12\" >0.082088</td>\n",
       "    </tr>\n",
       "    <tr>\n",
       "      <th id=\"T_07c96_level0_row9\" class=\"row_heading level0 row9\" >inq.last.6mths</th>\n",
       "      <td id=\"T_07c96_row9_col0\" class=\"data row9 col0\" >-0.535511</td>\n",
       "      <td id=\"T_07c96_row9_col1\" class=\"data row9 col1\" >0.202780</td>\n",
       "      <td id=\"T_07c96_row9_col2\" class=\"data row9 col2\" >-0.010419</td>\n",
       "      <td id=\"T_07c96_row9_col3\" class=\"data row9 col3\" >0.029171</td>\n",
       "      <td id=\"T_07c96_row9_col4\" class=\"data row9 col4\" >0.029189</td>\n",
       "      <td id=\"T_07c96_row9_col5\" class=\"data row9 col5\" >-0.185293</td>\n",
       "      <td id=\"T_07c96_row9_col6\" class=\"data row9 col6\" >-0.041736</td>\n",
       "      <td id=\"T_07c96_row9_col7\" class=\"data row9 col7\" >0.022394</td>\n",
       "      <td id=\"T_07c96_row9_col8\" class=\"data row9 col8\" >-0.013880</td>\n",
       "      <td id=\"T_07c96_row9_col9\" class=\"data row9 col9\" >1.000000</td>\n",
       "      <td id=\"T_07c96_row9_col10\" class=\"data row9 col10\" >0.021245</td>\n",
       "      <td id=\"T_07c96_row9_col11\" class=\"data row9 col11\" >0.072673</td>\n",
       "      <td id=\"T_07c96_row9_col12\" class=\"data row9 col12\" >0.149452</td>\n",
       "    </tr>\n",
       "    <tr>\n",
       "      <th id=\"T_07c96_level0_row10\" class=\"row_heading level0 row10\" >delinq.2yrs</th>\n",
       "      <td id=\"T_07c96_row10_col0\" class=\"data row10 col0\" >-0.076318</td>\n",
       "      <td id=\"T_07c96_row10_col1\" class=\"data row10 col1\" >0.156079</td>\n",
       "      <td id=\"T_07c96_row10_col2\" class=\"data row10 col2\" >-0.004368</td>\n",
       "      <td id=\"T_07c96_row10_col3\" class=\"data row10 col3\" >0.029203</td>\n",
       "      <td id=\"T_07c96_row10_col4\" class=\"data row10 col4\" >-0.021792</td>\n",
       "      <td id=\"T_07c96_row10_col5\" class=\"data row10 col5\" >-0.216340</td>\n",
       "      <td id=\"T_07c96_row10_col6\" class=\"data row10 col6\" >0.081374</td>\n",
       "      <td id=\"T_07c96_row10_col7\" class=\"data row10 col7\" >-0.033243</td>\n",
       "      <td id=\"T_07c96_row10_col8\" class=\"data row10 col8\" >-0.042740</td>\n",
       "      <td id=\"T_07c96_row10_col9\" class=\"data row10 col9\" >0.021245</td>\n",
       "      <td id=\"T_07c96_row10_col10\" class=\"data row10 col10\" >1.000000</td>\n",
       "      <td id=\"T_07c96_row10_col11\" class=\"data row10 col11\" >0.009184</td>\n",
       "      <td id=\"T_07c96_row10_col12\" class=\"data row10 col12\" >0.008881</td>\n",
       "    </tr>\n",
       "    <tr>\n",
       "      <th id=\"T_07c96_level0_row11\" class=\"row_heading level0 row11\" >pub.rec</th>\n",
       "      <td id=\"T_07c96_row11_col0\" class=\"data row11 col0\" >-0.054243</td>\n",
       "      <td id=\"T_07c96_row11_col1\" class=\"data row11 col1\" >0.098162</td>\n",
       "      <td id=\"T_07c96_row11_col2\" class=\"data row11 col2\" >-0.032760</td>\n",
       "      <td id=\"T_07c96_row11_col3\" class=\"data row11 col3\" >0.016506</td>\n",
       "      <td id=\"T_07c96_row11_col4\" class=\"data row11 col4\" >0.006209</td>\n",
       "      <td id=\"T_07c96_row11_col5\" class=\"data row11 col5\" >-0.147592</td>\n",
       "      <td id=\"T_07c96_row11_col6\" class=\"data row11 col6\" >0.071826</td>\n",
       "      <td id=\"T_07c96_row11_col7\" class=\"data row11 col7\" >-0.031010</td>\n",
       "      <td id=\"T_07c96_row11_col8\" class=\"data row11 col8\" >0.066717</td>\n",
       "      <td id=\"T_07c96_row11_col9\" class=\"data row11 col9\" >0.072673</td>\n",
       "      <td id=\"T_07c96_row11_col10\" class=\"data row11 col10\" >0.009184</td>\n",
       "      <td id=\"T_07c96_row11_col11\" class=\"data row11 col11\" >1.000000</td>\n",
       "      <td id=\"T_07c96_row11_col12\" class=\"data row11 col12\" >0.048634</td>\n",
       "    </tr>\n",
       "    <tr>\n",
       "      <th id=\"T_07c96_level0_row12\" class=\"row_heading level0 row12\" >not.fully.paid</th>\n",
       "      <td id=\"T_07c96_row12_col0\" class=\"data row12 col0\" >-0.158119</td>\n",
       "      <td id=\"T_07c96_row12_col1\" class=\"data row12 col1\" >0.159552</td>\n",
       "      <td id=\"T_07c96_row12_col2\" class=\"data row12 col2\" >0.049955</td>\n",
       "      <td id=\"T_07c96_row12_col3\" class=\"data row12 col3\" >-0.033439</td>\n",
       "      <td id=\"T_07c96_row12_col4\" class=\"data row12 col4\" >0.037362</td>\n",
       "      <td id=\"T_07c96_row12_col5\" class=\"data row12 col5\" >-0.149666</td>\n",
       "      <td id=\"T_07c96_row12_col6\" class=\"data row12 col6\" >-0.029237</td>\n",
       "      <td id=\"T_07c96_row12_col7\" class=\"data row12 col7\" >0.053699</td>\n",
       "      <td id=\"T_07c96_row12_col8\" class=\"data row12 col8\" >0.082088</td>\n",
       "      <td id=\"T_07c96_row12_col9\" class=\"data row12 col9\" >0.149452</td>\n",
       "      <td id=\"T_07c96_row12_col10\" class=\"data row12 col10\" >0.008881</td>\n",
       "      <td id=\"T_07c96_row12_col11\" class=\"data row12 col11\" >0.048634</td>\n",
       "      <td id=\"T_07c96_row12_col12\" class=\"data row12 col12\" >1.000000</td>\n",
       "    </tr>\n",
       "  </tbody>\n",
       "</table>\n"
      ],
      "text/plain": [
       "<pandas.io.formats.style.Styler at 0x7f17703bce60>"
      ]
     },
     "execution_count": 15,
     "metadata": {},
     "output_type": "execute_result"
    }
   ],
   "source": [
    "corr_matrix.style.background_gradient()"
   ]
  },
  {
   "cell_type": "markdown",
   "metadata": {},
   "source": [
    "#### DIVIDIR LOS DATOS"
   ]
  },
  {
   "cell_type": "code",
   "execution_count": null,
   "metadata": {},
   "outputs": [],
   "source": [
    "loan_data.drop([\"delinq.2yrs\", \"days.with.cr.line\", \"log.annual.inc\"], axis=1, inplace=True)\n",
    "#Eliminamos las columnas que estan menos correlacionadas con not.fully.paid\n",
    "train_set, test_set = train_test_split(loan_data, test_size=0.20,stratify=loan_data['purpose'], random_state=42)"
   ]
  },
  {
   "cell_type": "markdown",
   "metadata": {},
   "source": [
    "#### PREPARAR LOS DATOS"
   ]
  },
  {
   "cell_type": "code",
   "execution_count": null,
   "metadata": {},
   "outputs": [],
   "source": [
    "num_pipeline = make_pipeline(\n",
    "     SimpleImputer(strategy=\"mean\"),\n",
    "     StandardScaler())\n",
    "\n",
    "log_pipeline = make_pipeline(\n",
    "    SimpleImputer(strategy=\"mean\"),\n",
    "    FunctionTransformer(np.log,feature_names_out=\"one-to-one\"),\n",
    "    StandardScaler())\n",
    "\n",
    "purpose_pipeline = make_pipeline(\n",
    "    SimpleImputer(strategy=\"most_frequent\"),\n",
    "    OneHotEncoder())\n",
    "\n",
    "preprocessing = ColumnTransformer([\n",
    "    (\"purpose_transform\", purpose_pipeline, [\"purpose\"]),\n",
    "    (\"int.rate_transform\", log_pipeline, [\"int.rate\"]),\n",
    "    (\"fico_transform\", log_pipeline, [\"fico\"]),\n",
    "    (\"revol.bal_transform\", log_pipeline, [\"revol.bal\"]),\n",
    "    (\"days.with.cr.line_transform\", log_pipeline, [\"days.with.cr.line\"]),\n",
    "] ,remainder=num_pipeline, verbose_feature_names_out = False)"
   ]
  },
  {
   "cell_type": "markdown",
   "metadata": {},
   "source": [
    "### ENTRENAMIENTO Y EVALUACIÓN DEL MODELO"
   ]
  },
  {
   "cell_type": "markdown",
   "metadata": {},
   "source": [
    "Usa evaluación cruzada con los siguientes algoritmos:\n",
    "- Regresión logisitca\n",
    "- SGDClassifier\n",
    "- K vecinos mas cercanos\n",
    "- Random Forest\n",
    "\n",
    " y evalua los resultados en el conjunto de entrenamiento con las siguientes métricas: exactitud, prescisión, sensibilidad, f1, curva de roc y área bajo la curva de roc"
   ]
  },
  {
   "cell_type": "code",
   "execution_count": null,
   "metadata": {},
   "outputs": [],
   "source": []
  },
  {
   "cell_type": "markdown",
   "metadata": {},
   "source": [
    "### OPMITZACIÓN DEL MODELO"
   ]
  },
  {
   "cell_type": "markdown",
   "metadata": {},
   "source": [
    "#### OPTIMIZACIÓN"
   ]
  },
  {
   "cell_type": "markdown",
   "metadata": {},
   "source": [
    "Usa búsqueda exhaustiva o búsqueda aleatoria para optimizar el mejor modelo del apartado anterior"
   ]
  },
  {
   "cell_type": "code",
   "execution_count": null,
   "metadata": {},
   "outputs": [],
   "source": []
  },
  {
   "cell_type": "markdown",
   "metadata": {},
   "source": [
    "#### EVALUACIÓN EN EL CONJUNTO DE PRUEBA"
   ]
  },
  {
   "cell_type": "markdown",
   "metadata": {},
   "source": [
    "Evalúa el conjunto de pruebas con diferentes métricas"
   ]
  },
  {
   "cell_type": "code",
   "execution_count": null,
   "metadata": {},
   "outputs": [],
   "source": []
  },
  {
   "cell_type": "markdown",
   "metadata": {},
   "source": [
    "### PRESENTACIÓN DE LA SOLUCIÓN"
   ]
  },
  {
   "cell_type": "markdown",
   "metadata": {},
   "source": [
    "Guarda mejor modelo (pipeline de preparación de los datos + modelo) y  haz un script de python que te pida los datos necesarios ('int_rate', 'installment', 'fico',  'revol_bal', 'revol_util', 'inq_last_6mths', 'pub_rec' y 'purpose') y prediga la solución."
   ]
  },
  {
   "cell_type": "code",
   "execution_count": null,
   "metadata": {},
   "outputs": [],
   "source": []
  },
  {
   "cell_type": "markdown",
   "metadata": {},
   "source": [
    "## EJERCICIO 2"
   ]
  },
  {
   "cell_type": "markdown",
   "metadata": {},
   "source": [
    "Vamos a trabajar conun conjunto de datos digits.\n",
    "\n",
    "Crea un clasificador que nos diga de que número se trata."
   ]
  },
  {
   "cell_type": "markdown",
   "metadata": {},
   "source": [
    "### RECOPILACIÓN Y PREPARACIÓN DE LOS DATOS"
   ]
  },
  {
   "cell_type": "markdown",
   "metadata": {},
   "source": [
    "#### OBTENER LOS DATOS"
   ]
  },
  {
   "cell_type": "code",
   "execution_count": null,
   "metadata": {},
   "outputs": [],
   "source": [
    "# Cargar el conjunto de datos\n",
    "digits = load_digits()\n",
    "X_digits = digits.data\n",
    "y_digits = digits.target"
   ]
  },
  {
   "cell_type": "markdown",
   "metadata": {},
   "source": [
    "#### EXPLORAR LOS DATOS"
   ]
  },
  {
   "cell_type": "code",
   "execution_count": null,
   "metadata": {},
   "outputs": [],
   "source": []
  },
  {
   "cell_type": "markdown",
   "metadata": {},
   "source": [
    "#### DIVIDIR LOS DATOS"
   ]
  },
  {
   "cell_type": "code",
   "execution_count": null,
   "metadata": {},
   "outputs": [],
   "source": []
  },
  {
   "cell_type": "markdown",
   "metadata": {},
   "source": [
    "#### PREPARAR LOS DATOS"
   ]
  },
  {
   "cell_type": "code",
   "execution_count": null,
   "metadata": {},
   "outputs": [],
   "source": []
  },
  {
   "cell_type": "markdown",
   "metadata": {},
   "source": [
    "### ENTRENAMIENTO Y EVALUACIÓN DEL MODELO"
   ]
  },
  {
   "cell_type": "markdown",
   "metadata": {},
   "source": [
    "Usa evaluación cruzada con los siguientes algoritmos, evalua los resultados en el conjunto de entrenamiento (exactitud) y calcula la matriz de confusión:\n",
    "- Regresión logistica\n",
    "- Maquinas de vectores de sorpote\n",
    "- Random forest"
   ]
  },
  {
   "cell_type": "code",
   "execution_count": null,
   "metadata": {},
   "outputs": [],
   "source": []
  },
  {
   "cell_type": "markdown",
   "metadata": {},
   "source": [
    "### OPMITZACIÓN DEL MODELO"
   ]
  },
  {
   "cell_type": "markdown",
   "metadata": {},
   "source": [
    "#### OPTIMIZACIÓN"
   ]
  },
  {
   "cell_type": "markdown",
   "metadata": {},
   "source": [
    "Usa búsqueda exhaustiva o búsqueda aleatoria para optimizar el mejor modelo del apartado anterior"
   ]
  },
  {
   "cell_type": "code",
   "execution_count": null,
   "metadata": {},
   "outputs": [],
   "source": []
  },
  {
   "cell_type": "markdown",
   "metadata": {},
   "source": [
    "#### EVALUACIÓN EN EL CONJUNTO DE PRUEBA"
   ]
  },
  {
   "cell_type": "code",
   "execution_count": null,
   "metadata": {},
   "outputs": [],
   "source": []
  },
  {
   "cell_type": "markdown",
   "metadata": {},
   "source": [
    "### PRESENTACIÓN DE LA SOLUCIÓN"
   ]
  },
  {
   "cell_type": "markdown",
   "metadata": {},
   "source": [
    "Simplemente guarda el modelo"
   ]
  },
  {
   "cell_type": "code",
   "execution_count": null,
   "metadata": {},
   "outputs": [],
   "source": []
  },
  {
   "cell_type": "markdown",
   "metadata": {},
   "source": [
    "## EJERCICIO 3"
   ]
  },
  {
   "cell_type": "markdown",
   "metadata": {},
   "source": [
    "Vamos a trabajar con un conjunto de datos donde cada instancia (en este caso, cada película) pueda tener múltiples etiquetas (géneros en este caso).\n",
    "\n",
    "Tienes los datos en el fichero tmdb_5000_movies.csv\n",
    "\n",
    "Crea un clasificador que te diga los generos que le corresponden a cada película."
   ]
  },
  {
   "cell_type": "markdown",
   "metadata": {},
   "source": [
    "### RECOPILACIÓN Y PREPARACIÓN DE LOS DATOS"
   ]
  },
  {
   "cell_type": "markdown",
   "metadata": {},
   "source": [
    "#### OBTENER LOS DATOS"
   ]
  },
  {
   "cell_type": "code",
   "execution_count": null,
   "metadata": {},
   "outputs": [],
   "source": [
    "# Cargar los datos\n",
    "data = pd.read_csv(\"Datos/tmdb_5000_movies.csv\")\n",
    "\n",
    "# Preprocesamiento de datos\n",
    "# Transformar géneros en listas de palabras separadas\n",
    "data[\"genres\"] = data[\"genres\"].apply(lambda x: [genre[\"name\"] for genre in eval(x)])\n",
    "\n",
    "# Dividir los datos en características (X) y etiquetas (y)\n",
    "X = data[\"overview\"]\n",
    "y = data[\"genres\"]"
   ]
  },
  {
   "cell_type": "markdown",
   "metadata": {},
   "source": [
    "#### EXPLORAR LOS DATOS"
   ]
  },
  {
   "cell_type": "code",
   "execution_count": null,
   "metadata": {},
   "outputs": [],
   "source": []
  },
  {
   "cell_type": "markdown",
   "metadata": {},
   "source": [
    "#### DIVIDIR LOS DATOS"
   ]
  },
  {
   "cell_type": "code",
   "execution_count": null,
   "metadata": {},
   "outputs": [],
   "source": []
  },
  {
   "cell_type": "markdown",
   "metadata": {},
   "source": [
    "#### PREPARAR LOS DATOS"
   ]
  },
  {
   "cell_type": "markdown",
   "metadata": {},
   "source": [
    "Tienes aquí las transformaciones que hay que hacer a los datos pero busca en internet que estamos haciendo exactamente y explicalo (igual hay que hacer algo con los datos que faltan)"
   ]
  },
  {
   "cell_type": "code",
   "execution_count": null,
   "metadata": {},
   "outputs": [],
   "source": []
  },
  {
   "cell_type": "code",
   "execution_count": null,
   "metadata": {},
   "outputs": [],
   "source": [
    "tfidf_vectorizer = TfidfVectorizer()\n",
    "X_train_tfidf = tfidf_vectorizer.fit_transform(X_train)\n",
    "X_test_tfidf = tfidf_vectorizer.transform(X_test)\n",
    "\n",
    "mlb = MultiLabelBinarizer()\n",
    "y_train_transformed = mlb.fit_transform(y_train)\n"
   ]
  },
  {
   "cell_type": "code",
   "execution_count": null,
   "metadata": {},
   "outputs": [],
   "source": []
  },
  {
   "cell_type": "code",
   "execution_count": null,
   "metadata": {},
   "outputs": [],
   "source": []
  },
  {
   "cell_type": "code",
   "execution_count": null,
   "metadata": {},
   "outputs": [],
   "source": []
  },
  {
   "cell_type": "code",
   "execution_count": null,
   "metadata": {},
   "outputs": [],
   "source": []
  },
  {
   "cell_type": "code",
   "execution_count": null,
   "metadata": {},
   "outputs": [],
   "source": [
    "y_test_transformed = mlb.transform(y_test)"
   ]
  },
  {
   "cell_type": "code",
   "execution_count": null,
   "metadata": {},
   "outputs": [],
   "source": []
  },
  {
   "cell_type": "markdown",
   "metadata": {},
   "source": [
    "### ENTRENAMIENTO Y EVALUACIÓN DEL MODELO"
   ]
  },
  {
   "cell_type": "markdown",
   "metadata": {},
   "source": [
    "Crea un modelo Random Forest y evalúa el modelo en el conjunto de entrenamiento (accuracy), no hace falta usar validación cruzada."
   ]
  },
  {
   "cell_type": "code",
   "execution_count": null,
   "metadata": {},
   "outputs": [],
   "source": []
  },
  {
   "cell_type": "markdown",
   "metadata": {},
   "source": [
    "#### EVALUACIÓN EN EL CONJUNTO DE PRUEBA"
   ]
  },
  {
   "cell_type": "markdown",
   "metadata": {},
   "source": [
    "Evalúa el modelo en el conjuno de prueba y muestra las primeras 25 predicciones y sus correspondientes valores reales (con texto, para lo cual tendras que aplicar mlb.inverse_transform a las predicciones).\n",
    "\n",
    "¿Qué puedes deducir del resultado?"
   ]
  },
  {
   "cell_type": "code",
   "execution_count": null,
   "metadata": {},
   "outputs": [],
   "source": []
  }
 ],
 "metadata": {
  "kernelspec": {
   "display_name": "base",
   "language": "python",
   "name": "python3"
  },
  "language_info": {
   "codemirror_mode": {
    "name": "ipython",
    "version": 3
   },
   "file_extension": ".py",
   "mimetype": "text/x-python",
   "name": "python",
   "nbconvert_exporter": "python",
   "pygments_lexer": "ipython3",
   "version": "3.12.4"
  },
  "nav_menu": {},
  "toc": {
   "navigate_menu": true,
   "number_sections": true,
   "sideBar": true,
   "threshold": 6,
   "toc_cell": false,
   "toc_section_display": "block",
   "toc_window_display": false
  }
 },
 "nbformat": 4,
 "nbformat_minor": 4
}
