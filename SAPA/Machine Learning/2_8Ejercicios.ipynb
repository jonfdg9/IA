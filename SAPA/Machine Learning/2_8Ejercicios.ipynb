{
 "cells": [
  {
   "cell_type": "markdown",
   "metadata": {},
   "source": [
    "# EJERCICIOS"
   ]
  },
  {
   "cell_type": "code",
   "execution_count": 1,
   "metadata": {},
   "outputs": [],
   "source": [
    "import matplotlib.pyplot as plt\n",
    "import numpy as np\n",
    "import pandas as pd\n",
    "import joblib\n",
    "import seaborn as sns\n",
    "from sklearn.datasets import load_digits\n",
    "from sklearn.neighbors import KNeighborsClassifier\n",
    "from sklearn.model_selection import GridSearchCV, train_test_split, RandomizedSearchCV, cross_validate\n",
    "from sklearn.preprocessing import StandardScaler, OneHotEncoder, MultiLabelBinarizer, FunctionTransformer\n",
    "from sklearn.compose import ColumnTransformer\n",
    "from sklearn.pipeline import Pipeline, make_pipeline\n",
    "from sklearn.linear_model import LogisticRegression, SGDClassifier\n",
    "from sklearn.ensemble import RandomForestClassifier\n",
    "from sklearn.metrics import roc_curve,confusion_matrix,make_scorer,ConfusionMatrixDisplay\n",
    "from sklearn.model_selection import cross_val_predict, cross_val_score\n",
    "from sklearn.svm import SVC \n",
    "from sklearn.impute import SimpleImputer\n",
    "from sklearn.model_selection import cross_val_predict\n",
    "from sklearn.metrics import confusion_matrix, precision_score, recall_score, f1_score, roc_curve, auc, accuracy_score\n",
    "from scipy.stats import reciprocal,uniform, randint\n",
    "from sklearn.feature_extraction.text import TfidfVectorizer"
   ]
  },
  {
   "cell_type": "markdown",
   "metadata": {},
   "source": [
    "## EJERCICIO 1"
   ]
  },
  {
   "cell_type": "markdown",
   "metadata": {},
   "source": [
    "Vamos a trabajar con el siguiente conjunto de datos: https://www.datacamp.com/es/datalab/datasets/dataset-python-loans\n",
    "\n",
    "| Variable      \t| Explicación                                                                                                             |\n",
    "|-------------------|-------------------------------------------------------------------------------------------------------------------------|\n",
    "| credit_policy\t    | 1 si el cliente cumple con los criterios de suscripción de crédito; 0 en caso contrario.                                |\n",
    "| purpose\t        | El propósito del préstamo.                                                                                              |\n",
    "| int_rate\t        | La tasa de interés del préstamo (a los prestatarios más riesgosos se les asignan tasas más altas).                      |\n",
    "| installment\t    | Las cuotas mensuales del prestamo                                                                                       |\n",
    "| log_annual_inc    | El logaritmo natural del ingreso anual declarado por el prestatario.                                                    |\n",
    "| dti\t            | La relación deuda-ingreso del prestatario (monto de deuda dividido por ingresos anuales).                               |\n",
    "| fico\t            | El puntaje de crédito FICO del prestatario.                                                                             |\n",
    "| days_with_cr_line\t| El número de días que el prestatario ha tenido una línea de crédito.                                                    |\n",
    "| revol_bal\t        | El saldo rotativo del prestatario (monto no pagado al final del ciclo de facturación de la tarjeta).                    |\n",
    "| revol_util        | La tasa de utilización de la línea de crédito del prestatario (monto de crédito utilizado respecto al total disponible).|\n",
    "| inq_last_6mths\t| El número de consultas de los acreedores al prestatario en los últimos 6 meses.                                         |\n",
    "| delinq_2yrs\t    | El número de veces que el prestatario ha estado más de 30 días en mora en un pago en los últimos 2 años.                |\n",
    "| pub_rec\t        | El número de registros públicos despectivos del prestatario.                                                            |\n",
    "| not_fully_paid    | 1 si el préstamo se pagó totalmente; 0 en caso contrario.                                                        |\n",
    "\n",
    "El csv lo tienes disponible en Moodle\n",
    "\n",
    "Este conjunto de datos consta de más de 9500 préstamos con información sobre los datos del préstamo y si el préstamo fue pagado en su totalidad o no. Estos datos fueron extraídos de LendingClub.com\n",
    "Crea un clasificador para predecir si un prestamo va a ser pagado o no."
   ]
  },
  {
   "cell_type": "markdown",
   "metadata": {},
   "source": [
    "### RECOPILACIÓN Y PREPARACIÓN DE LOS DATOS"
   ]
  },
  {
   "cell_type": "markdown",
   "metadata": {},
   "source": [
    "#### OBTENER LOS DATOS"
   ]
  },
  {
   "cell_type": "code",
   "execution_count": 2,
   "metadata": {},
   "outputs": [],
   "source": [
    "loan_data = pd.read_csv(\"datos/loan_data.csv\")"
   ]
  },
  {
   "cell_type": "markdown",
   "metadata": {},
   "source": [
    "#### EXPLORAR LOS DATOS"
   ]
  },
  {
   "cell_type": "markdown",
   "metadata": {},
   "source": [
    "Entre otras cosas: estadísticas, matriz de correlaciones y borrar columnas innecesarias."
   ]
  },
  {
   "cell_type": "code",
   "execution_count": 3,
   "metadata": {},
   "outputs": [
    {
     "data": {
      "text/html": [
       "<div>\n",
       "<style scoped>\n",
       "    .dataframe tbody tr th:only-of-type {\n",
       "        vertical-align: middle;\n",
       "    }\n",
       "\n",
       "    .dataframe tbody tr th {\n",
       "        vertical-align: top;\n",
       "    }\n",
       "\n",
       "    .dataframe thead th {\n",
       "        text-align: right;\n",
       "    }\n",
       "</style>\n",
       "<table border=\"1\" class=\"dataframe\">\n",
       "  <thead>\n",
       "    <tr style=\"text-align: right;\">\n",
       "      <th></th>\n",
       "      <th>credit.policy</th>\n",
       "      <th>purpose</th>\n",
       "      <th>int.rate</th>\n",
       "      <th>installment</th>\n",
       "      <th>log.annual.inc</th>\n",
       "      <th>dti</th>\n",
       "      <th>fico</th>\n",
       "      <th>days.with.cr.line</th>\n",
       "      <th>revol.bal</th>\n",
       "      <th>revol.util</th>\n",
       "      <th>inq.last.6mths</th>\n",
       "      <th>delinq.2yrs</th>\n",
       "      <th>pub.rec</th>\n",
       "      <th>not.fully.paid</th>\n",
       "    </tr>\n",
       "  </thead>\n",
       "  <tbody>\n",
       "    <tr>\n",
       "      <th>0</th>\n",
       "      <td>1</td>\n",
       "      <td>debt_consolidation</td>\n",
       "      <td>0.1189</td>\n",
       "      <td>829.10</td>\n",
       "      <td>11.350407</td>\n",
       "      <td>19.48</td>\n",
       "      <td>737</td>\n",
       "      <td>5639.958333</td>\n",
       "      <td>28854</td>\n",
       "      <td>52.1</td>\n",
       "      <td>0</td>\n",
       "      <td>0</td>\n",
       "      <td>0</td>\n",
       "      <td>0</td>\n",
       "    </tr>\n",
       "    <tr>\n",
       "      <th>1</th>\n",
       "      <td>1</td>\n",
       "      <td>credit_card</td>\n",
       "      <td>0.1071</td>\n",
       "      <td>228.22</td>\n",
       "      <td>11.082143</td>\n",
       "      <td>14.29</td>\n",
       "      <td>707</td>\n",
       "      <td>2760.000000</td>\n",
       "      <td>33623</td>\n",
       "      <td>76.7</td>\n",
       "      <td>0</td>\n",
       "      <td>0</td>\n",
       "      <td>0</td>\n",
       "      <td>0</td>\n",
       "    </tr>\n",
       "    <tr>\n",
       "      <th>2</th>\n",
       "      <td>1</td>\n",
       "      <td>debt_consolidation</td>\n",
       "      <td>0.1357</td>\n",
       "      <td>366.86</td>\n",
       "      <td>10.373491</td>\n",
       "      <td>11.63</td>\n",
       "      <td>682</td>\n",
       "      <td>4710.000000</td>\n",
       "      <td>3511</td>\n",
       "      <td>25.6</td>\n",
       "      <td>1</td>\n",
       "      <td>0</td>\n",
       "      <td>0</td>\n",
       "      <td>0</td>\n",
       "    </tr>\n",
       "    <tr>\n",
       "      <th>3</th>\n",
       "      <td>1</td>\n",
       "      <td>debt_consolidation</td>\n",
       "      <td>0.1008</td>\n",
       "      <td>162.34</td>\n",
       "      <td>11.350407</td>\n",
       "      <td>8.10</td>\n",
       "      <td>712</td>\n",
       "      <td>2699.958333</td>\n",
       "      <td>33667</td>\n",
       "      <td>73.2</td>\n",
       "      <td>1</td>\n",
       "      <td>0</td>\n",
       "      <td>0</td>\n",
       "      <td>0</td>\n",
       "    </tr>\n",
       "    <tr>\n",
       "      <th>4</th>\n",
       "      <td>1</td>\n",
       "      <td>credit_card</td>\n",
       "      <td>0.1426</td>\n",
       "      <td>102.92</td>\n",
       "      <td>11.299732</td>\n",
       "      <td>14.97</td>\n",
       "      <td>667</td>\n",
       "      <td>4066.000000</td>\n",
       "      <td>4740</td>\n",
       "      <td>39.5</td>\n",
       "      <td>0</td>\n",
       "      <td>1</td>\n",
       "      <td>0</td>\n",
       "      <td>0</td>\n",
       "    </tr>\n",
       "  </tbody>\n",
       "</table>\n",
       "</div>"
      ],
      "text/plain": [
       "   credit.policy             purpose  int.rate  installment  log.annual.inc  \\\n",
       "0              1  debt_consolidation    0.1189       829.10       11.350407   \n",
       "1              1         credit_card    0.1071       228.22       11.082143   \n",
       "2              1  debt_consolidation    0.1357       366.86       10.373491   \n",
       "3              1  debt_consolidation    0.1008       162.34       11.350407   \n",
       "4              1         credit_card    0.1426       102.92       11.299732   \n",
       "\n",
       "     dti  fico  days.with.cr.line  revol.bal  revol.util  inq.last.6mths  \\\n",
       "0  19.48   737        5639.958333      28854        52.1               0   \n",
       "1  14.29   707        2760.000000      33623        76.7               0   \n",
       "2  11.63   682        4710.000000       3511        25.6               1   \n",
       "3   8.10   712        2699.958333      33667        73.2               1   \n",
       "4  14.97   667        4066.000000       4740        39.5               0   \n",
       "\n",
       "   delinq.2yrs  pub.rec  not.fully.paid  \n",
       "0            0        0               0  \n",
       "1            0        0               0  \n",
       "2            0        0               0  \n",
       "3            0        0               0  \n",
       "4            1        0               0  "
      ]
     },
     "execution_count": 3,
     "metadata": {},
     "output_type": "execute_result"
    }
   ],
   "source": [
    "loan_data.head()"
   ]
  },
  {
   "cell_type": "code",
   "execution_count": 4,
   "metadata": {},
   "outputs": [
    {
     "name": "stdout",
     "output_type": "stream",
     "text": [
      "<class 'pandas.core.frame.DataFrame'>\n",
      "RangeIndex: 9578 entries, 0 to 9577\n",
      "Data columns (total 14 columns):\n",
      " #   Column             Non-Null Count  Dtype  \n",
      "---  ------             --------------  -----  \n",
      " 0   credit.policy      9578 non-null   int64  \n",
      " 1   purpose            9578 non-null   object \n",
      " 2   int.rate           9578 non-null   float64\n",
      " 3   installment        9578 non-null   float64\n",
      " 4   log.annual.inc     9578 non-null   float64\n",
      " 5   dti                9578 non-null   float64\n",
      " 6   fico               9578 non-null   int64  \n",
      " 7   days.with.cr.line  9578 non-null   float64\n",
      " 8   revol.bal          9578 non-null   int64  \n",
      " 9   revol.util         9578 non-null   float64\n",
      " 10  inq.last.6mths     9578 non-null   int64  \n",
      " 11  delinq.2yrs        9578 non-null   int64  \n",
      " 12  pub.rec            9578 non-null   int64  \n",
      " 13  not.fully.paid     9578 non-null   int64  \n",
      "dtypes: float64(6), int64(7), object(1)\n",
      "memory usage: 1.0+ MB\n"
     ]
    }
   ],
   "source": [
    "loan_data.info()"
   ]
  },
  {
   "cell_type": "code",
   "execution_count": 5,
   "metadata": {},
   "outputs": [
    {
     "data": {
      "image/png": "[encoded data removed]",
      "text/plain": [
       "<Figure size 1200x1200 with 14 Axes>"
      ]
     },
     "metadata": {},
     "output_type": "display_data"
    }
   ],
   "source": [
    "df_object = loan_data.select_dtypes(include=[\"object\",\"category\"]).columns.to_list()\n",
    "df_num = loan_data.select_dtypes(include=[np.number]).columns.to_list()\n",
    "\n",
    "df_num.remove(\"credit.policy\")\n",
    "df_num.remove(\"not.fully.paid\")\n",
    "\n",
    "df_object.append(\"credit.policy\")\n",
    "df_object.append(\"not.fully.paid\")\n",
    "plt.figure(figsize=(12,12))\n",
    "\n",
    "subplot_index=1\n",
    "\n",
    "for col in df_num:\n",
    "    plt.subplot(7,2,subplot_index)\n",
    "    sns.histplot(x=loan_data[col])\n",
    "    subplot_index+=1\n",
    "\n",
    "for col in df_object:\n",
    "    plt.subplot(7,2,subplot_index)\n",
    "    sns.countplot(x=loan_data[col])\n",
    "    subplot_index+=1\n",
    "\n",
    "\n",
    "\n",
    "plt.tight_layout()\n",
    "plt.show()"
   ]
  },
  {
   "cell_type": "code",
   "execution_count": 6,
   "metadata": {},
   "outputs": [
    {
     "data": {
      "text/plain": [
       "not.fully.paid       1.000000\n",
       "int.rate             0.159552\n",
       "inq.last.6mths       0.149452\n",
       "revol.util           0.082088\n",
       "revol.bal            0.053699\n",
       "installment          0.049955\n",
       "pub.rec              0.048634\n",
       "dti                  0.037362\n",
       "delinq.2yrs          0.008881\n",
       "days.with.cr.line   -0.029237\n",
       "log.annual.inc      -0.033439\n",
       "fico                -0.149666\n",
       "credit.policy       -0.158119\n",
       "Name: not.fully.paid, dtype: float64"
      ]
     },
     "execution_count": 6,
     "metadata": {},
     "output_type": "execute_result"
    }
   ],
   "source": [
    "corr_matrix = loan_data.corr(numeric_only=True)\n",
    "corr_matrix['not.fully.paid'].sort_values(ascending=False)"
   ]
  },
  {
   "cell_type": "code",
   "execution_count": 7,
   "metadata": {},
   "outputs": [
    {
     "data": {
      "text/html": [
       "<style type=\"text/css\">\n",
       "#T_e70a1_row0_col0, #T_e70a1_row1_col1, #T_e70a1_row2_col2, #T_e70a1_row3_col3, #T_e70a1_row4_col4, #T_e70a1_row5_col5, #T_e70a1_row6_col6, #T_e70a1_row7_col7, #T_e70a1_row8_col8, #T_e70a1_row9_col9, #T_e70a1_row10_col10, #T_e70a1_row11_col11, #T_e70a1_row12_col12 {\n",
       "  background-color: #023858;\n",
       "  color: #f1f1f1;\n",
       "}\n",
       "#T_e70a1_row0_col1, #T_e70a1_row6_col4, #T_e70a1_row6_col10, #T_e70a1_row12_col0 {\n",
       "  background-color: #d2d2e7;\n",
       "  color: #000000;\n",
       "}\n",
       "#T_e70a1_row0_col2, #T_e70a1_row0_col3, #T_e70a1_row8_col6, #T_e70a1_row12_col6 {\n",
       "  background-color: #f2ecf5;\n",
       "  color: #000000;\n",
       "}\n",
       "#T_e70a1_row0_col4 {\n",
       "  background-color: #ede8f3;\n",
       "  color: #000000;\n",
       "}\n",
       "#T_e70a1_row0_col5 {\n",
       "  background-color: #3991c1;\n",
       "  color: #f1f1f1;\n",
       "}\n",
       "#T_e70a1_row0_col6, #T_e70a1_row9_col10 {\n",
       "  background-color: #dcdaeb;\n",
       "  color: #000000;\n",
       "}\n",
       "#T_e70a1_row0_col7, #T_e70a1_row0_col9, #T_e70a1_row0_col12, #T_e70a1_row1_col5, #T_e70a1_row1_col6, #T_e70a1_row4_col3, #T_e70a1_row5_col1, #T_e70a1_row5_col4, #T_e70a1_row5_col8, #T_e70a1_row5_col10, #T_e70a1_row5_col11, #T_e70a1_row9_col0, #T_e70a1_row11_col2 {\n",
       "  background-color: #fff7fb;\n",
       "  color: #000000;\n",
       "}\n",
       "#T_e70a1_row0_col8 {\n",
       "  background-color: #c5cce3;\n",
       "  color: #000000;\n",
       "}\n",
       "#T_e70a1_row0_col10, #T_e70a1_row5_col2 {\n",
       "  background-color: #eee8f3;\n",
       "  color: #000000;\n",
       "}\n",
       "#T_e70a1_row0_col11, #T_e70a1_row4_col2, #T_e70a1_row9_col3, #T_e70a1_row10_col3, #T_e70a1_row12_col2 {\n",
       "  background-color: #f3edf5;\n",
       "  color: #000000;\n",
       "}\n",
       "#T_e70a1_row1_col0, #T_e70a1_row4_col10, #T_e70a1_row5_col3 {\n",
       "  background-color: #e5e1ef;\n",
       "  color: #000000;\n",
       "}\n",
       "#T_e70a1_row1_col2, #T_e70a1_row10_col0 {\n",
       "  background-color: #c0c9e2;\n",
       "  color: #000000;\n",
       "}\n",
       "#T_e70a1_row1_col3, #T_e70a1_row2_col11, #T_e70a1_row7_col11, #T_e70a1_row8_col3, #T_e70a1_row8_col5 {\n",
       "  background-color: #f0eaf4;\n",
       "  color: #000000;\n",
       "}\n",
       "#T_e70a1_row1_col4, #T_e70a1_row3_col0 {\n",
       "  background-color: #a7bddb;\n",
       "  color: #000000;\n",
       "}\n",
       "#T_e70a1_row1_col7, #T_e70a1_row2_col4 {\n",
       "  background-color: #d3d4e7;\n",
       "  color: #000000;\n",
       "}\n",
       "#T_e70a1_row1_col8 {\n",
       "  background-color: #2a88bc;\n",
       "  color: #f1f1f1;\n",
       "}\n",
       "#T_e70a1_row1_col9, #T_e70a1_row3_col5, #T_e70a1_row7_col8 {\n",
       "  background-color: #7bacd1;\n",
       "  color: #f1f1f1;\n",
       "}\n",
       "#T_e70a1_row1_col10 {\n",
       "  background-color: #bdc8e1;\n",
       "  color: #000000;\n",
       "}\n",
       "#T_e70a1_row1_col11, #T_e70a1_row6_col2, #T_e70a1_row8_col12 {\n",
       "  background-color: #d9d8ea;\n",
       "  color: #000000;\n",
       "}\n",
       "#T_e70a1_row1_col12, #T_e70a1_row4_col5 {\n",
       "  background-color: #c8cde4;\n",
       "  color: #000000;\n",
       "}\n",
       "#T_e70a1_row2_col0, #T_e70a1_row3_col8 {\n",
       "  background-color: #a1bbda;\n",
       "  color: #000000;\n",
       "}\n",
       "#T_e70a1_row2_col1, #T_e70a1_row5_col0 {\n",
       "  background-color: #4e9ac6;\n",
       "  color: #f1f1f1;\n",
       "}\n",
       "#T_e70a1_row2_col3, #T_e70a1_row11_col1 {\n",
       "  background-color: #7eadd1;\n",
       "  color: #f1f1f1;\n",
       "}\n",
       "#T_e70a1_row2_col5, #T_e70a1_row3_col2, #T_e70a1_row8_col4 {\n",
       "  background-color: #81aed2;\n",
       "  color: #f1f1f1;\n",
       "}\n",
       "#T_e70a1_row2_col6 {\n",
       "  background-color: #c9cee4;\n",
       "  color: #000000;\n",
       "}\n",
       "#T_e70a1_row2_col7 {\n",
       "  background-color: #adc1dd;\n",
       "  color: #000000;\n",
       "}\n",
       "#T_e70a1_row2_col8, #T_e70a1_row7_col3, #T_e70a1_row12_col8 {\n",
       "  background-color: #9ab8d8;\n",
       "  color: #000000;\n",
       "}\n",
       "#T_e70a1_row2_col9, #T_e70a1_row9_col8 {\n",
       "  background-color: #b1c2de;\n",
       "  color: #000000;\n",
       "}\n",
       "#T_e70a1_row2_col10, #T_e70a1_row11_col6 {\n",
       "  background-color: #e1dfed;\n",
       "  color: #000000;\n",
       "}\n",
       "#T_e70a1_row2_col12, #T_e70a1_row9_col7, #T_e70a1_row10_col4, #T_e70a1_row11_col12 {\n",
       "  background-color: #e0deed;\n",
       "  color: #000000;\n",
       "}\n",
       "#T_e70a1_row3_col1 {\n",
       "  background-color: #88b1d4;\n",
       "  color: #000000;\n",
       "}\n",
       "#T_e70a1_row3_col4, #T_e70a1_row5_col7, #T_e70a1_row7_col10 {\n",
       "  background-color: #e7e3f0;\n",
       "  color: #000000;\n",
       "}\n",
       "#T_e70a1_row3_col6, #T_e70a1_row7_col5 {\n",
       "  background-color: #99b8d8;\n",
       "  color: #000000;\n",
       "}\n",
       "#T_e70a1_row3_col7, #T_e70a1_row7_col1 {\n",
       "  background-color: #80aed2;\n",
       "  color: #f1f1f1;\n",
       "}\n",
       "#T_e70a1_row3_col9, #T_e70a1_row4_col9, #T_e70a1_row6_col3 {\n",
       "  background-color: #a8bedc;\n",
       "  color: #000000;\n",
       "}\n",
       "#T_e70a1_row3_col10, #T_e70a1_row11_col4 {\n",
       "  background-color: #dbdaeb;\n",
       "  color: #000000;\n",
       "}\n",
       "#T_e70a1_row3_col11, #T_e70a1_row8_col10, #T_e70a1_row10_col12 {\n",
       "  background-color: #e8e4f0;\n",
       "  color: #000000;\n",
       "}\n",
       "#T_e70a1_row3_col12 {\n",
       "  background-color: #efe9f3;\n",
       "  color: #000000;\n",
       "}\n",
       "#T_e70a1_row4_col0, #T_e70a1_row10_col5 {\n",
       "  background-color: #c2cbe2;\n",
       "  color: #000000;\n",
       "}\n",
       "#T_e70a1_row4_col1 {\n",
       "  background-color: #5ea0ca;\n",
       "  color: #f1f1f1;\n",
       "}\n",
       "#T_e70a1_row4_col6 {\n",
       "  background-color: #e4e1ef;\n",
       "  color: #000000;\n",
       "}\n",
       "#T_e70a1_row4_col7 {\n",
       "  background-color: #b9c6e0;\n",
       "  color: #000000;\n",
       "}\n",
       "#T_e70a1_row4_col8 {\n",
       "  background-color: #529bc7;\n",
       "  color: #f1f1f1;\n",
       "}\n",
       "#T_e70a1_row4_col11, #T_e70a1_row10_col11 {\n",
       "  background-color: #eae6f1;\n",
       "  color: #000000;\n",
       "}\n",
       "#T_e70a1_row4_col12, #T_e70a1_row12_col11 {\n",
       "  background-color: #e2dfee;\n",
       "  color: #000000;\n",
       "}\n",
       "#T_e70a1_row5_col6, #T_e70a1_row6_col1, #T_e70a1_row7_col4 {\n",
       "  background-color: #b0c2de;\n",
       "  color: #000000;\n",
       "}\n",
       "#T_e70a1_row5_col9, #T_e70a1_row7_col0 {\n",
       "  background-color: #d5d5e8;\n",
       "  color: #000000;\n",
       "}\n",
       "#T_e70a1_row5_col12 {\n",
       "  background-color: #fef6fb;\n",
       "  color: #000000;\n",
       "}\n",
       "#T_e70a1_row6_col0 {\n",
       "  background-color: #97b7d7;\n",
       "  color: #000000;\n",
       "}\n",
       "#T_e70a1_row6_col5 {\n",
       "  background-color: #509ac6;\n",
       "  color: #f1f1f1;\n",
       "}\n",
       "#T_e70a1_row6_col7 {\n",
       "  background-color: #afc1dd;\n",
       "  color: #000000;\n",
       "}\n",
       "#T_e70a1_row6_col8 {\n",
       "  background-color: #b4c4df;\n",
       "  color: #000000;\n",
       "}\n",
       "#T_e70a1_row6_col9, #T_e70a1_row10_col8 {\n",
       "  background-color: #b8c6e0;\n",
       "  color: #000000;\n",
       "}\n",
       "#T_e70a1_row6_col11 {\n",
       "  background-color: #dedcec;\n",
       "  color: #000000;\n",
       "}\n",
       "#T_e70a1_row6_col12, #T_e70a1_row8_col2 {\n",
       "  background-color: #eee9f3;\n",
       "  color: #000000;\n",
       "}\n",
       "#T_e70a1_row7_col2 {\n",
       "  background-color: #cdd0e5;\n",
       "  color: #000000;\n",
       "}\n",
       "#T_e70a1_row7_col6, #T_e70a1_row11_col0 {\n",
       "  background-color: #bbc7e0;\n",
       "  color: #000000;\n",
       "}\n",
       "#T_e70a1_row7_col9 {\n",
       "  background-color: #a9bfdc;\n",
       "  color: #000000;\n",
       "}\n",
       "#T_e70a1_row7_col12, #T_e70a1_row10_col6 {\n",
       "  background-color: #e0dded;\n",
       "  color: #000000;\n",
       "}\n",
       "#T_e70a1_row8_col0 {\n",
       "  background-color: #c6cce3;\n",
       "  color: #000000;\n",
       "}\n",
       "#T_e70a1_row8_col1 {\n",
       "  background-color: #1c7fb8;\n",
       "  color: #f1f1f1;\n",
       "}\n",
       "#T_e70a1_row8_col7, #T_e70a1_row11_col5, #T_e70a1_row12_col5 {\n",
       "  background-color: #b5c4df;\n",
       "  color: #000000;\n",
       "}\n",
       "#T_e70a1_row8_col9 {\n",
       "  background-color: #b3c3de;\n",
       "  color: #000000;\n",
       "}\n",
       "#T_e70a1_row8_col11, #T_e70a1_row11_col10, #T_e70a1_row12_col10 {\n",
       "  background-color: #dfddec;\n",
       "  color: #000000;\n",
       "}\n",
       "#T_e70a1_row9_col1 {\n",
       "  background-color: #63a2cb;\n",
       "  color: #f1f1f1;\n",
       "}\n",
       "#T_e70a1_row9_col2, #T_e70a1_row12_col3 {\n",
       "  background-color: #fcf4fa;\n",
       "  color: #000000;\n",
       "}\n",
       "#T_e70a1_row9_col4 {\n",
       "  background-color: #d8d7e9;\n",
       "  color: #000000;\n",
       "}\n",
       "#T_e70a1_row9_col5 {\n",
       "  background-color: #bcc7e1;\n",
       "  color: #000000;\n",
       "}\n",
       "#T_e70a1_row9_col6 {\n",
       "  background-color: #f4eef6;\n",
       "  color: #000000;\n",
       "}\n",
       "#T_e70a1_row9_col11 {\n",
       "  background-color: #dddbec;\n",
       "  color: #000000;\n",
       "}\n",
       "#T_e70a1_row9_col12 {\n",
       "  background-color: #cccfe5;\n",
       "  color: #000000;\n",
       "}\n",
       "#T_e70a1_row10_col1, #T_e70a1_row12_col1 {\n",
       "  background-color: #6fa7ce;\n",
       "  color: #f1f1f1;\n",
       "}\n",
       "#T_e70a1_row10_col2 {\n",
       "  background-color: #fbf3f9;\n",
       "  color: #000000;\n",
       "}\n",
       "#T_e70a1_row10_col7, #T_e70a1_row11_col7 {\n",
       "  background-color: #ebe6f2;\n",
       "  color: #000000;\n",
       "}\n",
       "#T_e70a1_row10_col9 {\n",
       "  background-color: #abbfdc;\n",
       "  color: #000000;\n",
       "}\n",
       "#T_e70a1_row11_col3 {\n",
       "  background-color: #f5eef6;\n",
       "  color: #000000;\n",
       "}\n",
       "#T_e70a1_row11_col8 {\n",
       "  background-color: #9fbad9;\n",
       "  color: #000000;\n",
       "}\n",
       "#T_e70a1_row11_col9 {\n",
       "  background-color: #9ebad9;\n",
       "  color: #000000;\n",
       "}\n",
       "#T_e70a1_row12_col4 {\n",
       "  background-color: #d6d6e9;\n",
       "  color: #000000;\n",
       "}\n",
       "#T_e70a1_row12_col7 {\n",
       "  background-color: #dad9ea;\n",
       "  color: #000000;\n",
       "}\n",
       "#T_e70a1_row12_col9 {\n",
       "  background-color: #89b1d4;\n",
       "  color: #000000;\n",
       "}\n",
       "</style>\n",
       "<table id=\"T_e70a1\">\n",
       "  <thead>\n",
       "    <tr>\n",
       "      <th class=\"blank level0\" >&nbsp;</th>\n",
       "      <th id=\"T_e70a1_level0_col0\" class=\"col_heading level0 col0\" >credit.policy</th>\n",
       "      <th id=\"T_e70a1_level0_col1\" class=\"col_heading level0 col1\" >int.rate</th>\n",
       "      <th id=\"T_e70a1_level0_col2\" class=\"col_heading level0 col2\" >installment</th>\n",
       "      <th id=\"T_e70a1_level0_col3\" class=\"col_heading level0 col3\" >log.annual.inc</th>\n",
       "      <th id=\"T_e70a1_level0_col4\" class=\"col_heading level0 col4\" >dti</th>\n",
       "      <th id=\"T_e70a1_level0_col5\" class=\"col_heading level0 col5\" >fico</th>\n",
       "      <th id=\"T_e70a1_level0_col6\" class=\"col_heading level0 col6\" >days.with.cr.line</th>\n",
       "      <th id=\"T_e70a1_level0_col7\" class=\"col_heading level0 col7\" >revol.bal</th>\n",
       "      <th id=\"T_e70a1_level0_col8\" class=\"col_heading level0 col8\" >revol.util</th>\n",
       "      <th id=\"T_e70a1_level0_col9\" class=\"col_heading level0 col9\" >inq.last.6mths</th>\n",
       "      <th id=\"T_e70a1_level0_col10\" class=\"col_heading level0 col10\" >delinq.2yrs</th>\n",
       "      <th id=\"T_e70a1_level0_col11\" class=\"col_heading level0 col11\" >pub.rec</th>\n",
       "      <th id=\"T_e70a1_level0_col12\" class=\"col_heading level0 col12\" >not.fully.paid</th>\n",
       "    </tr>\n",
       "  </thead>\n",
       "  <tbody>\n",
       "    <tr>\n",
       "      <th id=\"T_e70a1_level0_row0\" class=\"row_heading level0 row0\" >credit.policy</th>\n",
       "      <td id=\"T_e70a1_row0_col0\" class=\"data row0 col0\" >1.000000</td>\n",
       "      <td id=\"T_e70a1_row0_col1\" class=\"data row0 col1\" >-0.294089</td>\n",
       "      <td id=\"T_e70a1_row0_col2\" class=\"data row0 col2\" >0.058770</td>\n",
       "      <td id=\"T_e70a1_row0_col3\" class=\"data row0 col3\" >0.034906</td>\n",
       "      <td id=\"T_e70a1_row0_col4\" class=\"data row0 col4\" >-0.090901</td>\n",
       "      <td id=\"T_e70a1_row0_col5\" class=\"data row0 col5\" >0.348319</td>\n",
       "      <td id=\"T_e70a1_row0_col6\" class=\"data row0 col6\" >0.099026</td>\n",
       "      <td id=\"T_e70a1_row0_col7\" class=\"data row0 col7\" >-0.187518</td>\n",
       "      <td id=\"T_e70a1_row0_col8\" class=\"data row0 col8\" >-0.104095</td>\n",
       "      <td id=\"T_e70a1_row0_col9\" class=\"data row0 col9\" >-0.535511</td>\n",
       "      <td id=\"T_e70a1_row0_col10\" class=\"data row0 col10\" >-0.076318</td>\n",
       "      <td id=\"T_e70a1_row0_col11\" class=\"data row0 col11\" >-0.054243</td>\n",
       "      <td id=\"T_e70a1_row0_col12\" class=\"data row0 col12\" >-0.158119</td>\n",
       "    </tr>\n",
       "    <tr>\n",
       "      <th id=\"T_e70a1_level0_row1\" class=\"row_heading level0 row1\" >int.rate</th>\n",
       "      <td id=\"T_e70a1_row1_col0\" class=\"data row1 col0\" >-0.294089</td>\n",
       "      <td id=\"T_e70a1_row1_col1\" class=\"data row1 col1\" >1.000000</td>\n",
       "      <td id=\"T_e70a1_row1_col2\" class=\"data row1 col2\" >0.276140</td>\n",
       "      <td id=\"T_e70a1_row1_col3\" class=\"data row1 col3\" >0.056383</td>\n",
       "      <td id=\"T_e70a1_row1_col4\" class=\"data row1 col4\" >0.220006</td>\n",
       "      <td id=\"T_e70a1_row1_col5\" class=\"data row1 col5\" >-0.714821</td>\n",
       "      <td id=\"T_e70a1_row1_col6\" class=\"data row1 col6\" >-0.124022</td>\n",
       "      <td id=\"T_e70a1_row1_col7\" class=\"data row1 col7\" >0.092527</td>\n",
       "      <td id=\"T_e70a1_row1_col8\" class=\"data row1 col8\" >0.464837</td>\n",
       "      <td id=\"T_e70a1_row1_col9\" class=\"data row1 col9\" >0.202780</td>\n",
       "      <td id=\"T_e70a1_row1_col10\" class=\"data row1 col10\" >0.156079</td>\n",
       "      <td id=\"T_e70a1_row1_col11\" class=\"data row1 col11\" >0.098162</td>\n",
       "      <td id=\"T_e70a1_row1_col12\" class=\"data row1 col12\" >0.159552</td>\n",
       "    </tr>\n",
       "    <tr>\n",
       "      <th id=\"T_e70a1_level0_row2\" class=\"row_heading level0 row2\" >installment</th>\n",
       "      <td id=\"T_e70a1_row2_col0\" class=\"data row2 col0\" >0.058770</td>\n",
       "      <td id=\"T_e70a1_row2_col1\" class=\"data row2 col1\" >0.276140</td>\n",
       "      <td id=\"T_e70a1_row2_col2\" class=\"data row2 col2\" >1.000000</td>\n",
       "      <td id=\"T_e70a1_row2_col3\" class=\"data row2 col3\" >0.448102</td>\n",
       "      <td id=\"T_e70a1_row2_col4\" class=\"data row2 col4\" >0.050202</td>\n",
       "      <td id=\"T_e70a1_row2_col5\" class=\"data row2 col5\" >0.086039</td>\n",
       "      <td id=\"T_e70a1_row2_col6\" class=\"data row2 col6\" >0.183297</td>\n",
       "      <td id=\"T_e70a1_row2_col7\" class=\"data row2 col7\" >0.233625</td>\n",
       "      <td id=\"T_e70a1_row2_col8\" class=\"data row2 col8\" >0.081356</td>\n",
       "      <td id=\"T_e70a1_row2_col9\" class=\"data row2 col9\" >-0.010419</td>\n",
       "      <td id=\"T_e70a1_row2_col10\" class=\"data row2 col10\" >-0.004368</td>\n",
       "      <td id=\"T_e70a1_row2_col11\" class=\"data row2 col11\" >-0.032760</td>\n",
       "      <td id=\"T_e70a1_row2_col12\" class=\"data row2 col12\" >0.049955</td>\n",
       "    </tr>\n",
       "    <tr>\n",
       "      <th id=\"T_e70a1_level0_row3\" class=\"row_heading level0 row3\" >log.annual.inc</th>\n",
       "      <td id=\"T_e70a1_row3_col0\" class=\"data row3 col0\" >0.034906</td>\n",
       "      <td id=\"T_e70a1_row3_col1\" class=\"data row3 col1\" >0.056383</td>\n",
       "      <td id=\"T_e70a1_row3_col2\" class=\"data row3 col2\" >0.448102</td>\n",
       "      <td id=\"T_e70a1_row3_col3\" class=\"data row3 col3\" >1.000000</td>\n",
       "      <td id=\"T_e70a1_row3_col4\" class=\"data row3 col4\" >-0.054065</td>\n",
       "      <td id=\"T_e70a1_row3_col5\" class=\"data row3 col5\" >0.114576</td>\n",
       "      <td id=\"T_e70a1_row3_col6\" class=\"data row3 col6\" >0.336896</td>\n",
       "      <td id=\"T_e70a1_row3_col7\" class=\"data row3 col7\" >0.372140</td>\n",
       "      <td id=\"T_e70a1_row3_col8\" class=\"data row3 col8\" >0.054881</td>\n",
       "      <td id=\"T_e70a1_row3_col9\" class=\"data row3 col9\" >0.029171</td>\n",
       "      <td id=\"T_e70a1_row3_col10\" class=\"data row3 col10\" >0.029203</td>\n",
       "      <td id=\"T_e70a1_row3_col11\" class=\"data row3 col11\" >0.016506</td>\n",
       "      <td id=\"T_e70a1_row3_col12\" class=\"data row3 col12\" >-0.033439</td>\n",
       "    </tr>\n",
       "    <tr>\n",
       "      <th id=\"T_e70a1_level0_row4\" class=\"row_heading level0 row4\" >dti</th>\n",
       "      <td id=\"T_e70a1_row4_col0\" class=\"data row4 col0\" >-0.090901</td>\n",
       "      <td id=\"T_e70a1_row4_col1\" class=\"data row4 col1\" >0.220006</td>\n",
       "      <td id=\"T_e70a1_row4_col2\" class=\"data row4 col2\" >0.050202</td>\n",
       "      <td id=\"T_e70a1_row4_col3\" class=\"data row4 col3\" >-0.054065</td>\n",
       "      <td id=\"T_e70a1_row4_col4\" class=\"data row4 col4\" >1.000000</td>\n",
       "      <td id=\"T_e70a1_row4_col5\" class=\"data row4 col5\" >-0.241191</td>\n",
       "      <td id=\"T_e70a1_row4_col6\" class=\"data row4 col6\" >0.060101</td>\n",
       "      <td id=\"T_e70a1_row4_col7\" class=\"data row4 col7\" >0.188748</td>\n",
       "      <td id=\"T_e70a1_row4_col8\" class=\"data row4 col8\" >0.337109</td>\n",
       "      <td id=\"T_e70a1_row4_col9\" class=\"data row4 col9\" >0.029189</td>\n",
       "      <td id=\"T_e70a1_row4_col10\" class=\"data row4 col10\" >-0.021792</td>\n",
       "      <td id=\"T_e70a1_row4_col11\" class=\"data row4 col11\" >0.006209</td>\n",
       "      <td id=\"T_e70a1_row4_col12\" class=\"data row4 col12\" >0.037362</td>\n",
       "    </tr>\n",
       "    <tr>\n",
       "      <th id=\"T_e70a1_level0_row5\" class=\"row_heading level0 row5\" >fico</th>\n",
       "      <td id=\"T_e70a1_row5_col0\" class=\"data row5 col0\" >0.348319</td>\n",
       "      <td id=\"T_e70a1_row5_col1\" class=\"data row5 col1\" >-0.714821</td>\n",
       "      <td id=\"T_e70a1_row5_col2\" class=\"data row5 col2\" >0.086039</td>\n",
       "      <td id=\"T_e70a1_row5_col3\" class=\"data row5 col3\" >0.114576</td>\n",
       "      <td id=\"T_e70a1_row5_col4\" class=\"data row5 col4\" >-0.241191</td>\n",
       "      <td id=\"T_e70a1_row5_col5\" class=\"data row5 col5\" >1.000000</td>\n",
       "      <td id=\"T_e70a1_row5_col6\" class=\"data row5 col6\" >0.263880</td>\n",
       "      <td id=\"T_e70a1_row5_col7\" class=\"data row5 col7\" >-0.015553</td>\n",
       "      <td id=\"T_e70a1_row5_col8\" class=\"data row5 col8\" >-0.541289</td>\n",
       "      <td id=\"T_e70a1_row5_col9\" class=\"data row5 col9\" >-0.185293</td>\n",
       "      <td id=\"T_e70a1_row5_col10\" class=\"data row5 col10\" >-0.216340</td>\n",
       "      <td id=\"T_e70a1_row5_col11\" class=\"data row5 col11\" >-0.147592</td>\n",
       "      <td id=\"T_e70a1_row5_col12\" class=\"data row5 col12\" >-0.149666</td>\n",
       "    </tr>\n",
       "    <tr>\n",
       "      <th id=\"T_e70a1_level0_row6\" class=\"row_heading level0 row6\" >days.with.cr.line</th>\n",
       "      <td id=\"T_e70a1_row6_col0\" class=\"data row6 col0\" >0.099026</td>\n",
       "      <td id=\"T_e70a1_row6_col1\" class=\"data row6 col1\" >-0.124022</td>\n",
       "      <td id=\"T_e70a1_row6_col2\" class=\"data row6 col2\" >0.183297</td>\n",
       "      <td id=\"T_e70a1_row6_col3\" class=\"data row6 col3\" >0.336896</td>\n",
       "      <td id=\"T_e70a1_row6_col4\" class=\"data row6 col4\" >0.060101</td>\n",
       "      <td id=\"T_e70a1_row6_col5\" class=\"data row6 col5\" >0.263880</td>\n",
       "      <td id=\"T_e70a1_row6_col6\" class=\"data row6 col6\" >1.000000</td>\n",
       "      <td id=\"T_e70a1_row6_col7\" class=\"data row6 col7\" >0.229344</td>\n",
       "      <td id=\"T_e70a1_row6_col8\" class=\"data row6 col8\" >-0.024239</td>\n",
       "      <td id=\"T_e70a1_row6_col9\" class=\"data row6 col9\" >-0.041736</td>\n",
       "      <td id=\"T_e70a1_row6_col10\" class=\"data row6 col10\" >0.081374</td>\n",
       "      <td id=\"T_e70a1_row6_col11\" class=\"data row6 col11\" >0.071826</td>\n",
       "      <td id=\"T_e70a1_row6_col12\" class=\"data row6 col12\" >-0.029237</td>\n",
       "    </tr>\n",
       "    <tr>\n",
       "      <th id=\"T_e70a1_level0_row7\" class=\"row_heading level0 row7\" >revol.bal</th>\n",
       "      <td id=\"T_e70a1_row7_col0\" class=\"data row7 col0\" >-0.187518</td>\n",
       "      <td id=\"T_e70a1_row7_col1\" class=\"data row7 col1\" >0.092527</td>\n",
       "      <td id=\"T_e70a1_row7_col2\" class=\"data row7 col2\" >0.233625</td>\n",
       "      <td id=\"T_e70a1_row7_col3\" class=\"data row7 col3\" >0.372140</td>\n",
       "      <td id=\"T_e70a1_row7_col4\" class=\"data row7 col4\" >0.188748</td>\n",
       "      <td id=\"T_e70a1_row7_col5\" class=\"data row7 col5\" >-0.015553</td>\n",
       "      <td id=\"T_e70a1_row7_col6\" class=\"data row7 col6\" >0.229344</td>\n",
       "      <td id=\"T_e70a1_row7_col7\" class=\"data row7 col7\" >1.000000</td>\n",
       "      <td id=\"T_e70a1_row7_col8\" class=\"data row7 col8\" >0.203779</td>\n",
       "      <td id=\"T_e70a1_row7_col9\" class=\"data row7 col9\" >0.022394</td>\n",
       "      <td id=\"T_e70a1_row7_col10\" class=\"data row7 col10\" >-0.033243</td>\n",
       "      <td id=\"T_e70a1_row7_col11\" class=\"data row7 col11\" >-0.031010</td>\n",
       "      <td id=\"T_e70a1_row7_col12\" class=\"data row7 col12\" >0.053699</td>\n",
       "    </tr>\n",
       "    <tr>\n",
       "      <th id=\"T_e70a1_level0_row8\" class=\"row_heading level0 row8\" >revol.util</th>\n",
       "      <td id=\"T_e70a1_row8_col0\" class=\"data row8 col0\" >-0.104095</td>\n",
       "      <td id=\"T_e70a1_row8_col1\" class=\"data row8 col1\" >0.464837</td>\n",
       "      <td id=\"T_e70a1_row8_col2\" class=\"data row8 col2\" >0.081356</td>\n",
       "      <td id=\"T_e70a1_row8_col3\" class=\"data row8 col3\" >0.054881</td>\n",
       "      <td id=\"T_e70a1_row8_col4\" class=\"data row8 col4\" >0.337109</td>\n",
       "      <td id=\"T_e70a1_row8_col5\" class=\"data row8 col5\" >-0.541289</td>\n",
       "      <td id=\"T_e70a1_row8_col6\" class=\"data row8 col6\" >-0.024239</td>\n",
       "      <td id=\"T_e70a1_row8_col7\" class=\"data row8 col7\" >0.203779</td>\n",
       "      <td id=\"T_e70a1_row8_col8\" class=\"data row8 col8\" >1.000000</td>\n",
       "      <td id=\"T_e70a1_row8_col9\" class=\"data row8 col9\" >-0.013880</td>\n",
       "      <td id=\"T_e70a1_row8_col10\" class=\"data row8 col10\" >-0.042740</td>\n",
       "      <td id=\"T_e70a1_row8_col11\" class=\"data row8 col11\" >0.066717</td>\n",
       "      <td id=\"T_e70a1_row8_col12\" class=\"data row8 col12\" >0.082088</td>\n",
       "    </tr>\n",
       "    <tr>\n",
       "      <th id=\"T_e70a1_level0_row9\" class=\"row_heading level0 row9\" >inq.last.6mths</th>\n",
       "      <td id=\"T_e70a1_row9_col0\" class=\"data row9 col0\" >-0.535511</td>\n",
       "      <td id=\"T_e70a1_row9_col1\" class=\"data row9 col1\" >0.202780</td>\n",
       "      <td id=\"T_e70a1_row9_col2\" class=\"data row9 col2\" >-0.010419</td>\n",
       "      <td id=\"T_e70a1_row9_col3\" class=\"data row9 col3\" >0.029171</td>\n",
       "      <td id=\"T_e70a1_row9_col4\" class=\"data row9 col4\" >0.029189</td>\n",
       "      <td id=\"T_e70a1_row9_col5\" class=\"data row9 col5\" >-0.185293</td>\n",
       "      <td id=\"T_e70a1_row9_col6\" class=\"data row9 col6\" >-0.041736</td>\n",
       "      <td id=\"T_e70a1_row9_col7\" class=\"data row9 col7\" >0.022394</td>\n",
       "      <td id=\"T_e70a1_row9_col8\" class=\"data row9 col8\" >-0.013880</td>\n",
       "      <td id=\"T_e70a1_row9_col9\" class=\"data row9 col9\" >1.000000</td>\n",
       "      <td id=\"T_e70a1_row9_col10\" class=\"data row9 col10\" >0.021245</td>\n",
       "      <td id=\"T_e70a1_row9_col11\" class=\"data row9 col11\" >0.072673</td>\n",
       "      <td id=\"T_e70a1_row9_col12\" class=\"data row9 col12\" >0.149452</td>\n",
       "    </tr>\n",
       "    <tr>\n",
       "      <th id=\"T_e70a1_level0_row10\" class=\"row_heading level0 row10\" >delinq.2yrs</th>\n",
       "      <td id=\"T_e70a1_row10_col0\" class=\"data row10 col0\" >-0.076318</td>\n",
       "      <td id=\"T_e70a1_row10_col1\" class=\"data row10 col1\" >0.156079</td>\n",
       "      <td id=\"T_e70a1_row10_col2\" class=\"data row10 col2\" >-0.004368</td>\n",
       "      <td id=\"T_e70a1_row10_col3\" class=\"data row10 col3\" >0.029203</td>\n",
       "      <td id=\"T_e70a1_row10_col4\" class=\"data row10 col4\" >-0.021792</td>\n",
       "      <td id=\"T_e70a1_row10_col5\" class=\"data row10 col5\" >-0.216340</td>\n",
       "      <td id=\"T_e70a1_row10_col6\" class=\"data row10 col6\" >0.081374</td>\n",
       "      <td id=\"T_e70a1_row10_col7\" class=\"data row10 col7\" >-0.033243</td>\n",
       "      <td id=\"T_e70a1_row10_col8\" class=\"data row10 col8\" >-0.042740</td>\n",
       "      <td id=\"T_e70a1_row10_col9\" class=\"data row10 col9\" >0.021245</td>\n",
       "      <td id=\"T_e70a1_row10_col10\" class=\"data row10 col10\" >1.000000</td>\n",
       "      <td id=\"T_e70a1_row10_col11\" class=\"data row10 col11\" >0.009184</td>\n",
       "      <td id=\"T_e70a1_row10_col12\" class=\"data row10 col12\" >0.008881</td>\n",
       "    </tr>\n",
       "    <tr>\n",
       "      <th id=\"T_e70a1_level0_row11\" class=\"row_heading level0 row11\" >pub.rec</th>\n",
       "      <td id=\"T_e70a1_row11_col0\" class=\"data row11 col0\" >-0.054243</td>\n",
       "      <td id=\"T_e70a1_row11_col1\" class=\"data row11 col1\" >0.098162</td>\n",
       "      <td id=\"T_e70a1_row11_col2\" class=\"data row11 col2\" >-0.032760</td>\n",
       "      <td id=\"T_e70a1_row11_col3\" class=\"data row11 col3\" >0.016506</td>\n",
       "      <td id=\"T_e70a1_row11_col4\" class=\"data row11 col4\" >0.006209</td>\n",
       "      <td id=\"T_e70a1_row11_col5\" class=\"data row11 col5\" >-0.147592</td>\n",
       "      <td id=\"T_e70a1_row11_col6\" class=\"data row11 col6\" >0.071826</td>\n",
       "      <td id=\"T_e70a1_row11_col7\" class=\"data row11 col7\" >-0.031010</td>\n",
       "      <td id=\"T_e70a1_row11_col8\" class=\"data row11 col8\" >0.066717</td>\n",
       "      <td id=\"T_e70a1_row11_col9\" class=\"data row11 col9\" >0.072673</td>\n",
       "      <td id=\"T_e70a1_row11_col10\" class=\"data row11 col10\" >0.009184</td>\n",
       "      <td id=\"T_e70a1_row11_col11\" class=\"data row11 col11\" >1.000000</td>\n",
       "      <td id=\"T_e70a1_row11_col12\" class=\"data row11 col12\" >0.048634</td>\n",
       "    </tr>\n",
       "    <tr>\n",
       "      <th id=\"T_e70a1_level0_row12\" class=\"row_heading level0 row12\" >not.fully.paid</th>\n",
       "      <td id=\"T_e70a1_row12_col0\" class=\"data row12 col0\" >-0.158119</td>\n",
       "      <td id=\"T_e70a1_row12_col1\" class=\"data row12 col1\" >0.159552</td>\n",
       "      <td id=\"T_e70a1_row12_col2\" class=\"data row12 col2\" >0.049955</td>\n",
       "      <td id=\"T_e70a1_row12_col3\" class=\"data row12 col3\" >-0.033439</td>\n",
       "      <td id=\"T_e70a1_row12_col4\" class=\"data row12 col4\" >0.037362</td>\n",
       "      <td id=\"T_e70a1_row12_col5\" class=\"data row12 col5\" >-0.149666</td>\n",
       "      <td id=\"T_e70a1_row12_col6\" class=\"data row12 col6\" >-0.029237</td>\n",
       "      <td id=\"T_e70a1_row12_col7\" class=\"data row12 col7\" >0.053699</td>\n",
       "      <td id=\"T_e70a1_row12_col8\" class=\"data row12 col8\" >0.082088</td>\n",
       "      <td id=\"T_e70a1_row12_col9\" class=\"data row12 col9\" >0.149452</td>\n",
       "      <td id=\"T_e70a1_row12_col10\" class=\"data row12 col10\" >0.008881</td>\n",
       "      <td id=\"T_e70a1_row12_col11\" class=\"data row12 col11\" >0.048634</td>\n",
       "      <td id=\"T_e70a1_row12_col12\" class=\"data row12 col12\" >1.000000</td>\n",
       "    </tr>\n",
       "  </tbody>\n",
       "</table>\n"
      ],
      "text/plain": [
       "<pandas.io.formats.style.Styler at 0x7fe68e8ddc40>"
      ]
     },
     "execution_count": 7,
     "metadata": {},
     "output_type": "execute_result"
    }
   ],
   "source": [
    "corr_matrix.style.background_gradient()"
   ]
  },
  {
   "cell_type": "markdown",
   "metadata": {},
   "source": [
    "#### DIVIDIR LOS DATOS"
   ]
  },
  {
   "cell_type": "code",
   "execution_count": 8,
   "metadata": {},
   "outputs": [],
   "source": [
    "loan_data=loan_data.drop([\"delinq.2yrs\", \"days.with.cr.line\", \"log.annual.inc\",\"dti\"], axis=1)\n",
    "#Eliminamos las columnas que estan menos correlacionadas con not.fully.paid\n",
    "train_set, test_set = train_test_split(loan_data, test_size=0.20,stratify=loan_data['purpose'], random_state=42)"
   ]
  },
  {
   "cell_type": "markdown",
   "metadata": {},
   "source": [
    "#### PREPARAR LOS DATOS"
   ]
  },
  {
   "cell_type": "code",
   "execution_count": 9,
   "metadata": {},
   "outputs": [],
   "source": [
    "num_pipeline = make_pipeline(\n",
    "     SimpleImputer(strategy=\"mean\"),\n",
    "     StandardScaler())\n",
    "\n",
    "log_pipeline = make_pipeline(\n",
    "    SimpleImputer(strategy=\"mean\"),\n",
    "    FunctionTransformer(np.log,feature_names_out=\"one-to-one\"),\n",
    "    StandardScaler())\n",
    "\n",
    "purpose_pipeline = make_pipeline(\n",
    "    SimpleImputer(strategy=\"most_frequent\"),\n",
    "    OneHotEncoder())\n",
    "\n",
    "preprocessing = ColumnTransformer([\n",
    "    (\"purpose_transform\", purpose_pipeline, [\"purpose\"]),\n",
    "    (\"log_transform\", log_pipeline, [\"int.rate\",\"fico\"]),\n",
    "] ,remainder=num_pipeline, verbose_feature_names_out = False)\n"
   ]
  },
  {
   "cell_type": "markdown",
   "metadata": {},
   "source": [
    "### ENTRENAMIENTO Y EVALUACIÓN DEL MODELO"
   ]
  },
  {
   "cell_type": "markdown",
   "metadata": {},
   "source": [
    "Usa evaluación cruzada con los siguientes algoritmos:\n",
    "- Regresión logisitca\n",
    "- SGDClassifier\n",
    "- K vecinos mas cercanos\n",
    "- Random Forest\n",
    "\n",
    " y evalua los resultados en el conjunto de entrenamiento con las siguientes métricas: exactitud, prescisión, sensibilidad, f1, curva de roc y área bajo la curva de roc"
   ]
  },
  {
   "cell_type": "code",
   "execution_count": 10,
   "metadata": {},
   "outputs": [],
   "source": [
    "# Separamos columnas\n",
    "x_train= train_set.drop(columns=[\"not.fully.paid\"])\n",
    "y_train= train_set[\"not.fully.paid\"].copy()\n",
    "\n",
    "x_test= test_set.drop(columns=[\"not.fully.paid\"])\n",
    "y_test= test_set[\"not.fully.paid\"].copy()"
   ]
  },
  {
   "cell_type": "code",
   "execution_count": 11,
   "metadata": {},
   "outputs": [
    {
     "name": "stdout",
     "output_type": "stream",
     "text": [
      "Regresión logistica\n",
      "Matriz de confusion:\n",
      "[[6400   32]\n",
      " [1195   35]]\n",
      "Exactitud: 0.8398590446358654\n",
      "Precision: 0.5223880597014925\n",
      "Sensibilidad: 0.028455284552845527\n",
      "F1: 0.05397070161912105\n",
      "AUC: 0.678968344254338\n"
     ]
    },
    {
     "data": {
      "image/png": "[encoded data removed]",
      "text/plain": [
       "<Figure size 640x480 with 1 Axes>"
      ]
     },
     "metadata": {},
     "output_type": "display_data"
    },
    {
     "name": "stdout",
     "output_type": "stream",
     "text": [
      "SGDClassifier\n",
      "Matriz de confusion:\n",
      "[[6426    6]\n",
      " [1227    3]]\n",
      "Exactitud: 0.8390759592795615\n",
      "Precision: 0.3333333333333333\n",
      "Sensibilidad: 0.0024390243902439024\n",
      "F1: 0.004842615012106538\n",
      "AUC: 0.4759437062654208\n"
     ]
    },
    {
     "data": {
      "image/png": "[encoded data removed]",
      "text/plain": [
       "<Figure size 640x480 with 1 Axes>"
      ]
     },
     "metadata": {},
     "output_type": "display_data"
    },
    {
     "name": "stdout",
     "output_type": "stream",
     "text": [
      "K vecinos mas cercanos\n",
      "Matriz de confusion:\n",
      "[[6009  423]\n",
      " [1076  154]]\n",
      "Exactitud: 0.8043591751500914\n",
      "Precision: 0.2668977469670711\n",
      "Sensibilidad: 0.12520325203252033\n",
      "F1: 0.17044825677919204\n",
      "Random Forest\n",
      "Matriz de confusion:\n",
      "[[6371   61]\n",
      " [1190   40]]\n",
      "Exactitud: 0.83672670321065\n",
      "Precision: 0.39603960396039606\n",
      "Sensibilidad: 0.032520325203252036\n",
      "F1: 0.06010518407212622\n"
     ]
    }
   ],
   "source": [
    "models={\n",
    "    \"Regresión logistica\": LogisticRegression(random_state=42),\n",
    "    \"SGDClassifier\": SGDClassifier(random_state=42),\n",
    "    \"K vecinos mas cercanos\": KNeighborsClassifier(n_neighbors=3),\n",
    "    \"Random Forest\": RandomForestClassifier(random_state=42),\n",
    "}\n",
    "\n",
    "for name, algoritmo in models.items():\n",
    "\n",
    "    model = make_pipeline(preprocessing, algoritmo)\n",
    "\n",
    "    print(name)\n",
    "\n",
    "    predic=cross_val_predict(model, x_train, y_train, cv=10)\n",
    "\n",
    "    #Matriz de confusion\n",
    "    cm = confusion_matrix(y_train, predic)\n",
    "    print(f\"Matriz de confusion:\")\n",
    "    print(cm)\n",
    "\n",
    "    #Exactitud\n",
    "    print(f\"Exactitud: {accuracy_score(y_train, predic)}\")\n",
    "\n",
    "    #Precision\n",
    "    print(f\"Precision: {precision_score(y_train, predic)}\")\n",
    "\n",
    "    #Sensibilidad\n",
    "    print(f\"Sensibilidad: {recall_score(y_train, predic)}\")\n",
    "\n",
    "    #F1\n",
    "    print(f\"F1: {f1_score(y_train, predic)}\")\n",
    "\n",
    "    if hasattr(model, \"decision_function\"):\n",
    "        y_train_pred = cross_val_predict(model, x_train, y_train, cv=3, method=\"decision_function\")\n",
    "        fpr, tpr, _ = roc_curve(y_train, y_train_pred)\n",
    "        roc_auc = auc(fpr, tpr)\n",
    "        print(f\"AUC: {roc_auc}\")\n",
    "        plt.figure()\n",
    "        plt.plot(fpr, tpr, color=\"blue\", lw=2, label=f\"Curva ROC (AUC = {roc_auc:.2f})\")\n",
    "        plt.plot([0, 1], [0, 1], color=\"gray\", linestyle=\"--\")\n",
    "        plt.xlim([0.0, 1.0])\n",
    "        plt.ylim([0.0, 1.05])\n",
    "        plt.xlabel(\"Tasa de Falsos Positivos\")\n",
    "        plt.ylabel(\"Tasa de Verdaderos Positivos\")\n",
    "        plt.title(\"Curva ROC\")\n",
    "        plt.legend(loc=\"lower right\")\n",
    "        plt.grid(True)\n",
    "        plt.show()\n",
    "    \n",
    "\n"
   ]
  },
  {
   "cell_type": "markdown",
   "metadata": {},
   "source": [
    "### OPMITZACIÓN DEL MODELO"
   ]
  },
  {
   "cell_type": "markdown",
   "metadata": {},
   "source": [
    "#### OPTIMIZACIÓN"
   ]
  },
  {
   "cell_type": "markdown",
   "metadata": {},
   "source": [
    "Usa búsqueda exhaustiva o búsqueda aleatoria para optimizar el mejor modelo del apartado anterior"
   ]
  },
  {
   "cell_type": "code",
   "execution_count": 12,
   "metadata": {},
   "outputs": [
    {
     "name": "stderr",
     "output_type": "stream",
     "text": [
      "/home/iabd/anaconda3/lib/python3.12/site-packages/sklearn/linear_model/_logistic.py:1175: UserWarning: l1_ratio parameter is only used when penalty is 'elasticnet'. Got (penalty=l2)\n",
      "  warnings.warn(\n",
      "/home/iabd/anaconda3/lib/python3.12/site-packages/sklearn/linear_model/_logistic.py:1175: UserWarning: l1_ratio parameter is only used when penalty is 'elasticnet'. Got (penalty=l2)\n",
      "  warnings.warn(\n",
      "/home/iabd/anaconda3/lib/python3.12/site-packages/sklearn/linear_model/_logistic.py:1175: UserWarning: l1_ratio parameter is only used when penalty is 'elasticnet'. Got (penalty=l2)\n",
      "  warnings.warn(\n",
      "/home/iabd/anaconda3/lib/python3.12/site-packages/sklearn/linear_model/_logistic.py:1175: UserWarning: l1_ratio parameter is only used when penalty is 'elasticnet'. Got (penalty=l1)\n",
      "  warnings.warn(\n",
      "/home/iabd/anaconda3/lib/python3.12/site-packages/sklearn/linear_model/_logistic.py:1175: UserWarning: l1_ratio parameter is only used when penalty is 'elasticnet'. Got (penalty=l1)\n",
      "  warnings.warn(\n",
      "/home/iabd/anaconda3/lib/python3.12/site-packages/sklearn/linear_model/_logistic.py:1175: UserWarning: l1_ratio parameter is only used when penalty is 'elasticnet'. Got (penalty=l1)\n",
      "  warnings.warn(\n",
      "/home/iabd/anaconda3/lib/python3.12/site-packages/sklearn/linear_model/_logistic.py:1175: UserWarning: l1_ratio parameter is only used when penalty is 'elasticnet'. Got (penalty=l1)\n",
      "  warnings.warn(\n",
      "/home/iabd/anaconda3/lib/python3.12/site-packages/sklearn/linear_model/_logistic.py:1175: UserWarning: l1_ratio parameter is only used when penalty is 'elasticnet'. Got (penalty=l1)\n",
      "  warnings.warn(\n",
      "/home/iabd/anaconda3/lib/python3.12/site-packages/sklearn/linear_model/_logistic.py:1175: UserWarning: l1_ratio parameter is only used when penalty is 'elasticnet'. Got (penalty=l1)\n",
      "  warnings.warn(\n",
      "/home/iabd/anaconda3/lib/python3.12/site-packages/sklearn/linear_model/_logistic.py:1175: UserWarning: l1_ratio parameter is only used when penalty is 'elasticnet'. Got (penalty=l2)\n",
      "  warnings.warn(\n",
      "/home/iabd/anaconda3/lib/python3.12/site-packages/sklearn/linear_model/_sag.py:350: ConvergenceWarning: The max_iter was reached which means the coef_ did not converge\n",
      "  warnings.warn(\n",
      "/home/iabd/anaconda3/lib/python3.12/site-packages/sklearn/linear_model/_logistic.py:1175: UserWarning: l1_ratio parameter is only used when penalty is 'elasticnet'. Got (penalty=l2)\n",
      "  warnings.warn(\n",
      "/home/iabd/anaconda3/lib/python3.12/site-packages/sklearn/linear_model/_sag.py:350: ConvergenceWarning: The max_iter was reached which means the coef_ did not converge\n",
      "  warnings.warn(\n",
      "/home/iabd/anaconda3/lib/python3.12/site-packages/sklearn/linear_model/_logistic.py:1175: UserWarning: l1_ratio parameter is only used when penalty is 'elasticnet'. Got (penalty=l2)\n",
      "  warnings.warn(\n",
      "/home/iabd/anaconda3/lib/python3.12/site-packages/sklearn/linear_model/_sag.py:350: ConvergenceWarning: The max_iter was reached which means the coef_ did not converge\n",
      "  warnings.warn(\n",
      "/home/iabd/anaconda3/lib/python3.12/site-packages/sklearn/linear_model/_logistic.py:1175: UserWarning: l1_ratio parameter is only used when penalty is 'elasticnet'. Got (penalty=l2)\n",
      "  warnings.warn(\n",
      "/home/iabd/anaconda3/lib/python3.12/site-packages/sklearn/linear_model/_sag.py:350: ConvergenceWarning: The max_iter was reached which means the coef_ did not converge\n",
      "  warnings.warn(\n",
      "/home/iabd/anaconda3/lib/python3.12/site-packages/sklearn/linear_model/_logistic.py:1175: UserWarning: l1_ratio parameter is only used when penalty is 'elasticnet'. Got (penalty=l2)\n",
      "  warnings.warn(\n",
      "/home/iabd/anaconda3/lib/python3.12/site-packages/sklearn/linear_model/_sag.py:350: ConvergenceWarning: The max_iter was reached which means the coef_ did not converge\n",
      "  warnings.warn(\n",
      "/home/iabd/anaconda3/lib/python3.12/site-packages/sklearn/linear_model/_logistic.py:1175: UserWarning: l1_ratio parameter is only used when penalty is 'elasticnet'. Got (penalty=l2)\n",
      "  warnings.warn(\n",
      "/home/iabd/anaconda3/lib/python3.12/site-packages/sklearn/linear_model/_sag.py:350: ConvergenceWarning: The max_iter was reached which means the coef_ did not converge\n",
      "  warnings.warn(\n",
      "/home/iabd/anaconda3/lib/python3.12/site-packages/sklearn/linear_model/_logistic.py:1175: UserWarning: l1_ratio parameter is only used when penalty is 'elasticnet'. Got (penalty=l2)\n",
      "  warnings.warn(\n",
      "/home/iabd/anaconda3/lib/python3.12/site-packages/sklearn/linear_model/_logistic.py:1175: UserWarning: l1_ratio parameter is only used when penalty is 'elasticnet'. Got (penalty=l2)\n",
      "  warnings.warn(\n",
      "/home/iabd/anaconda3/lib/python3.12/site-packages/sklearn/linear_model/_logistic.py:1175: UserWarning: l1_ratio parameter is only used when penalty is 'elasticnet'. Got (penalty=l2)\n",
      "  warnings.warn(\n",
      "/home/iabd/anaconda3/lib/python3.12/site-packages/sklearn/linear_model/_logistic.py:1175: UserWarning: l1_ratio parameter is only used when penalty is 'elasticnet'. Got (penalty=l1)\n",
      "  warnings.warn(\n",
      "/home/iabd/anaconda3/lib/python3.12/site-packages/sklearn/linear_model/_logistic.py:1175: UserWarning: l1_ratio parameter is only used when penalty is 'elasticnet'. Got (penalty=l1)\n",
      "  warnings.warn(\n",
      "/home/iabd/anaconda3/lib/python3.12/site-packages/sklearn/linear_model/_logistic.py:1175: UserWarning: l1_ratio parameter is only used when penalty is 'elasticnet'. Got (penalty=l1)\n",
      "  warnings.warn(\n",
      "/home/iabd/anaconda3/lib/python3.12/site-packages/sklearn/model_selection/_validation.py:547: FitFailedWarning: \n",
      "9 fits failed out of a total of 30.\n",
      "The score on these train-test partitions for these parameters will be set to nan.\n",
      "If these failures are not expected, you can try to debug them by setting error_score='raise'.\n",
      "\n",
      "Below are more details about the failures:\n",
      "--------------------------------------------------------------------------------\n",
      "9 fits failed with the following error:\n",
      "Traceback (most recent call last):\n",
      "  File \"/home/iabd/anaconda3/lib/python3.12/site-packages/sklearn/model_selection/_validation.py\", line 895, in _fit_and_score\n",
      "    estimator.fit(X_train, y_train, **fit_params)\n",
      "  File \"/home/iabd/anaconda3/lib/python3.12/site-packages/sklearn/base.py\", line 1474, in wrapper\n",
      "    return fit_method(estimator, *args, **kwargs)\n",
      "           ^^^^^^^^^^^^^^^^^^^^^^^^^^^^^^^^^^^^^^\n",
      "  File \"/home/iabd/anaconda3/lib/python3.12/site-packages/sklearn/pipeline.py\", line 475, in fit\n",
      "    self._final_estimator.fit(Xt, y, **last_step_params[\"fit\"])\n",
      "  File \"/home/iabd/anaconda3/lib/python3.12/site-packages/sklearn/base.py\", line 1474, in wrapper\n",
      "    return fit_method(estimator, *args, **kwargs)\n",
      "           ^^^^^^^^^^^^^^^^^^^^^^^^^^^^^^^^^^^^^^\n",
      "  File \"/home/iabd/anaconda3/lib/python3.12/site-packages/sklearn/linear_model/_logistic.py\", line 1172, in fit\n",
      "    solver = _check_solver(self.solver, self.penalty, self.dual)\n",
      "             ^^^^^^^^^^^^^^^^^^^^^^^^^^^^^^^^^^^^^^^^^^^^^^^^^^^\n",
      "  File \"/home/iabd/anaconda3/lib/python3.12/site-packages/sklearn/linear_model/_logistic.py\", line 75, in _check_solver\n",
      "    raise ValueError(\n",
      "ValueError: Only 'saga' solver supports elasticnet penalty, got solver=liblinear.\n",
      "\n",
      "  warnings.warn(some_fits_failed_message, FitFailedWarning)\n",
      "/home/iabd/anaconda3/lib/python3.12/site-packages/sklearn/model_selection/_search.py:1051: UserWarning: One or more of the test scores are non-finite: [       nan 0.83985904 0.83985904 0.83985904        nan 0.84012007\n",
      " 0.83985904 0.83985904 0.83985904        nan]\n",
      "  warnings.warn(\n",
      "/home/iabd/anaconda3/lib/python3.12/site-packages/sklearn/linear_model/_logistic.py:1175: UserWarning: l1_ratio parameter is only used when penalty is 'elasticnet'. Got (penalty=l2)\n",
      "  warnings.warn(\n",
      "/home/iabd/anaconda3/lib/python3.12/site-packages/sklearn/linear_model/_sag.py:350: ConvergenceWarning: The max_iter was reached which means the coef_ did not converge\n",
      "  warnings.warn(\n"
     ]
    }
   ],
   "source": [
    "param_dist = {\n",
    "    'logisticregression__C': uniform(0.01, 10),\n",
    "    'logisticregression__penalty': ['l1', 'l2', 'elasticnet'], \n",
    "    'logisticregression__solver': ['liblinear', 'saga'],  # Solvers compatibles con l1 y elasticnet\n",
    "    'logisticregression__max_iter': randint(50, 300),\n",
    "    'logisticregression__l1_ratio': uniform(0, 1)  # Solo aplica si penalty='elasticnet'\n",
    "}\n",
    "\n",
    "\n",
    "full_pipeline = make_pipeline(\n",
    "    preprocessing,  \n",
    "    LogisticRegression(random_state=42, max_iter=1000)  \n",
    ")\n",
    "\n",
    "rnd_search = RandomizedSearchCV(\n",
    "    full_pipeline,\n",
    "    param_distributions=param_dist,\n",
    "    n_iter=10,\n",
    "    cv=3\n",
    ")\n",
    "\n",
    "rnd_search.fit(x_train, y_train)\n",
    "\n",
    "final_model=rnd_search.best_estimator_\n",
    "\n",
    "final_predictions=final_model.predict(x_test)"
   ]
  },
  {
   "cell_type": "markdown",
   "metadata": {},
   "source": [
    "#### EVALUACIÓN EN EL CONJUNTO DE PRUEBA"
   ]
  },
  {
   "cell_type": "markdown",
   "metadata": {},
   "source": [
    "Evalúa el conjunto de pruebas con diferentes métricas"
   ]
  },
  {
   "cell_type": "code",
   "execution_count": 13,
   "metadata": {},
   "outputs": [
    {
     "name": "stdout",
     "output_type": "stream",
     "text": [
      "Exactitud: 0.8413361169102297\n",
      "Precision: 0.4666666666666667\n",
      "Sensibilidad: 0.0231023102310231\n",
      "F1: 0.0440251572327044\n",
      "AUC: 0.64\n"
     ]
    },
    {
     "data": {
      "image/png": "[encoded data removed]",
      "text/plain": [
       "<Figure size 640x480 with 1 Axes>"
      ]
     },
     "metadata": {},
     "output_type": "display_data"
    }
   ],
   "source": [
    "#Exactitud\n",
    "print(f\"Exactitud: {accuracy_score(y_test, final_predictions)}\")\n",
    "\n",
    "#Precision\n",
    "print(f\"Precision: {precision_score(y_test, final_predictions)}\")\n",
    "\n",
    "#Sensibilidad\n",
    "print(f\"Sensibilidad: {recall_score(y_test, final_predictions)}\")\n",
    "\n",
    "#F1\n",
    "print(f\"F1: {f1_score(y_test, final_predictions)}\")\n",
    "\n",
    "\n",
    "y_proba = final_model.predict_proba(x_test)[:, 1]\n",
    "\n",
    "# Calcular la curva ROC\n",
    "fpr, tpr, _ = roc_curve(y_test, y_proba)\n",
    "roc_auc = auc(fpr, tpr)\n",
    "\n",
    "# Imprimir y graficar la curva ROC\n",
    "print(f\"AUC: {roc_auc:.2f}\")\n",
    "plt.figure()\n",
    "plt.plot(fpr, tpr, color=\"blue\", lw=2, label=f\"Curva ROC (AUC = {roc_auc:.2f})\")\n",
    "plt.plot([0, 1], [0, 1], color=\"gray\", linestyle=\"--\")\n",
    "plt.xlim([0.0, 1.0])\n",
    "plt.ylim([0.0, 1.05])\n",
    "plt.xlabel(\"Tasa de Falsos Positivos\")\n",
    "plt.ylabel(\"Tasa de Verdaderos Positivos\")\n",
    "plt.title(\"Curva ROC\")\n",
    "plt.legend(loc=\"lower right\")\n",
    "plt.grid(True)\n",
    "plt.show()\n"
   ]
  },
  {
   "cell_type": "markdown",
   "metadata": {},
   "source": [
    "### PRESENTACIÓN DE LA SOLUCIÓN"
   ]
  },
  {
   "cell_type": "markdown",
   "metadata": {},
   "source": [
    "Guarda mejor modelo (pipeline de preparación de los datos + modelo) y  haz un script de python que te pida los datos necesarios ('int_rate', 'installment', 'fico',  'revol_bal', 'revol_util', 'inq_last_6mths', 'pub_rec' y 'purpose') y prediga la solución."
   ]
  },
  {
   "cell_type": "code",
   "execution_count": 14,
   "metadata": {},
   "outputs": [
    {
     "data": {
      "text/plain": [
       "['fully_paid.pkl']"
      ]
     },
     "execution_count": 14,
     "metadata": {},
     "output_type": "execute_result"
    }
   ],
   "source": [
    "joblib.dump(final_model, \"fully_paid.pkl\")"
   ]
  },
  {
   "cell_type": "markdown",
   "metadata": {},
   "source": [
    "## EJERCICIO 2"
   ]
  },
  {
   "cell_type": "markdown",
   "metadata": {},
   "source": [
    "Vamos a trabajar conun conjunto de datos digits.\n",
    "\n",
    "Crea un clasificador que nos diga de que número se trata."
   ]
  },
  {
   "cell_type": "markdown",
   "metadata": {},
   "source": [
    "### RECOPILACIÓN Y PREPARACIÓN DE LOS DATOS"
   ]
  },
  {
   "cell_type": "markdown",
   "metadata": {},
   "source": [
    "#### OBTENER LOS DATOS"
   ]
  },
  {
   "cell_type": "code",
   "execution_count": 15,
   "metadata": {},
   "outputs": [],
   "source": [
    "# Cargar el conjunto de datos\n",
    "digits = load_digits()\n",
    "X_digits = digits.data\n",
    "y_digits = digits.target"
   ]
  },
  {
   "cell_type": "markdown",
   "metadata": {},
   "source": [
    "#### EXPLORAR LOS DATOS"
   ]
  },
  {
   "cell_type": "code",
   "execution_count": 16,
   "metadata": {},
   "outputs": [
    {
     "data": {
      "text/plain": [
       "array([ 0.,  0.,  5., 13.,  9.,  1.,  0.,  0.,  0.,  0., 13., 15., 10.,\n",
       "       15.,  5.,  0.,  0.,  3., 15.,  2.,  0., 11.,  8.,  0.,  0.,  4.,\n",
       "       12.,  0.,  0.,  8.,  8.,  0.,  0.,  5.,  8.,  0.,  0.,  9.,  8.,\n",
       "        0.,  0.,  4., 11.,  0.,  1., 12.,  7.,  0.,  0.,  2., 14.,  5.,\n",
       "       10., 12.,  0.,  0.,  0.,  0.,  6., 13., 10.,  0.,  0.,  0.])"
      ]
     },
     "execution_count": 16,
     "metadata": {},
     "output_type": "execute_result"
    }
   ],
   "source": [
    "X_digits[0]"
   ]
  },
  {
   "cell_type": "code",
   "execution_count": 17,
   "metadata": {},
   "outputs": [
    {
     "data": {
      "text/plain": [
       "(1797, 64)"
      ]
     },
     "execution_count": 17,
     "metadata": {},
     "output_type": "execute_result"
    }
   ],
   "source": [
    "X_digits.shape"
   ]
  },
  {
   "cell_type": "code",
   "execution_count": 18,
   "metadata": {},
   "outputs": [
    {
     "data": {
      "text/plain": [
       "array([0, 1, 2, ..., 8, 9, 8])"
      ]
     },
     "execution_count": 18,
     "metadata": {},
     "output_type": "execute_result"
    }
   ],
   "source": [
    "y_digits"
   ]
  },
  {
   "cell_type": "code",
   "execution_count": 19,
   "metadata": {},
   "outputs": [
    {
     "data": {
      "text/plain": [
       "(1797,)"
      ]
     },
     "execution_count": 19,
     "metadata": {},
     "output_type": "execute_result"
    }
   ],
   "source": [
    "y_digits.shape"
   ]
  },
  {
   "cell_type": "code",
   "execution_count": 20,
   "metadata": {},
   "outputs": [
    {
     "data": {
      "image/png": "[encoded data removed]",
      "text/plain": [
       "<Figure size 640x480 with 1 Axes>"
      ]
     },
     "metadata": {},
     "output_type": "display_data"
    }
   ],
   "source": [
    "def plot_digit(image_data):\n",
    "    image = image_data.reshape(8, 8)\n",
    "    plt.imshow(image, cmap=\"binary\")\n",
    "    plt.axis(\"off\")\n",
    "\n",
    "some_digit = X_digits[0]\n",
    "plot_digit(some_digit)\n",
    "plt.show()"
   ]
  },
  {
   "cell_type": "code",
   "execution_count": 21,
   "metadata": {},
   "outputs": [
    {
     "data": {
      "image/png": "[encoded data removed]",
      "text/plain": [
       "<Figure size 500x500 with 100 Axes>"
      ]
     },
     "metadata": {},
     "output_type": "display_data"
    }
   ],
   "source": [
    "plt.figure(figsize=(5,5))\n",
    "for idx, image_data in enumerate(X_digits[:100]):\n",
    "    plt.subplot(10, 10, idx + 1)\n",
    "    plot_digit(image_data)\n",
    "plt.subplots_adjust(wspace=0, hspace=0)\n",
    "plt.show()"
   ]
  },
  {
   "cell_type": "markdown",
   "metadata": {},
   "source": [
    "#### DIVIDIR LOS DATOS"
   ]
  },
  {
   "cell_type": "code",
   "execution_count": 22,
   "metadata": {},
   "outputs": [],
   "source": [
    "X_train, X_test, Y_train, Y_test = train_test_split(X_digits, y_digits, test_size=0.2, random_state=42)"
   ]
  },
  {
   "cell_type": "markdown",
   "metadata": {},
   "source": [
    "#### PREPARAR LOS DATOS"
   ]
  },
  {
   "cell_type": "code",
   "execution_count": 23,
   "metadata": {},
   "outputs": [],
   "source": [
    "scaler=StandardScaler()"
   ]
  },
  {
   "cell_type": "markdown",
   "metadata": {},
   "source": [
    "### ENTRENAMIENTO Y EVALUACIÓN DEL MODELO"
   ]
  },
  {
   "cell_type": "markdown",
   "metadata": {},
   "source": [
    "Usa evaluación cruzada con los siguientes algoritmos, evalua los resultados en el conjunto de entrenamiento (exactitud) y calcula la matriz de confusión:\n",
    "- Regresión logistica\n",
    "- Maquinas de vectores de sorpote\n",
    "- Random forest"
   ]
  },
  {
   "cell_type": "code",
   "execution_count": 24,
   "metadata": {},
   "outputs": [
    {
     "name": "stdout",
     "output_type": "stream",
     "text": [
      "Regresión logisitca\n",
      "Exactitud: 0.9686847599164927\n",
      "\n"
     ]
    },
    {
     "data": {
      "image/png": "[encoded data removed]",
      "text/plain": [
       "<Figure size 640x480 with 2 Axes>"
      ]
     },
     "metadata": {},
     "output_type": "display_data"
    },
    {
     "name": "stdout",
     "output_type": "stream",
     "text": [
      "Maquinas de vectores de sorpote\n",
      "Exactitud: 0.9826026443980515\n",
      "\n"
     ]
    },
    {
     "data": {
      "image/png": "[encoded data removed]",
      "text/plain": [
       "<Figure size 640x480 with 2 Axes>"
      ]
     },
     "metadata": {},
     "output_type": "display_data"
    },
    {
     "name": "stdout",
     "output_type": "stream",
     "text": [
      "Random Forest\n",
      "Exactitud: 0.977731384829506\n",
      "\n"
     ]
    },
    {
     "data": {
      "image/png": "[encoded data removed]",
      "text/plain": [
       "<Figure size 640x480 with 2 Axes>"
      ]
     },
     "metadata": {},
     "output_type": "display_data"
    }
   ],
   "source": [
    "models={\n",
    "    \"Regresión logisitca\": LogisticRegression(random_state=42),\n",
    "    \"Maquinas de vectores de sorpote\":SVC(random_state=42),\n",
    "    \"Random Forest\":RandomForestClassifier(random_state=42),\n",
    "}\n",
    "\n",
    "for name, model in models.items():\n",
    "    print(name)\n",
    "    modelo_pipeline=make_pipeline(scaler,model)\n",
    "   \n",
    "    predic=cross_val_predict(modelo_pipeline, X_train, Y_train, cv=10)\n",
    "\n",
    "    #Exactitud\n",
    "    print(f\"Exactitud: {accuracy_score(Y_train, predic)}\")   \n",
    "    print()\n",
    "\n",
    "    #Matriz de confusion\n",
    "    cm = confusion_matrix(Y_train, predic)\n",
    "    ConfusionMatrixDisplay.from_predictions(Y_train, predic, normalize=\"true\", values_format=\".0%\")\n",
    "    plt.show()\n",
    "\n",
    "\n",
    "    "
   ]
  },
  {
   "cell_type": "markdown",
   "metadata": {},
   "source": [
    "### OPMITZACIÓN DEL MODELO"
   ]
  },
  {
   "cell_type": "markdown",
   "metadata": {},
   "source": [
    "#### OPTIMIZACIÓN"
   ]
  },
  {
   "cell_type": "markdown",
   "metadata": {},
   "source": [
    "Usa búsqueda exhaustiva o búsqueda aleatoria para optimizar el mejor modelo del apartado anterior"
   ]
  },
  {
   "cell_type": "code",
   "execution_count": 25,
   "metadata": {},
   "outputs": [
    {
     "data": {
      "text/html": [
       "<style>#sk-container-id-1 {\n",
       "  /* Definition of color scheme common for light and dark mode */\n",
       "  --sklearn-color-text: black;\n",
       "  --sklearn-color-line: gray;\n",
       "  /* Definition of color scheme for unfitted estimators */\n",
       "  --sklearn-color-unfitted-level-0: #fff5e6;\n",
       "  --sklearn-color-unfitted-level-1: #f6e4d2;\n",
       "  --sklearn-color-unfitted-level-2: #ffe0b3;\n",
       "  --sklearn-color-unfitted-level-3: chocolate;\n",
       "  /* Definition of color scheme for fitted estimators */\n",
       "  --sklearn-color-fitted-level-0: #f0f8ff;\n",
       "  --sklearn-color-fitted-level-1: #d4ebff;\n",
       "  --sklearn-color-fitted-level-2: #b3dbfd;\n",
       "  --sklearn-color-fitted-level-3: cornflowerblue;\n",
       "\n",
       "  /* Specific color for light theme */\n",
       "  --sklearn-color-text-on-default-background: var(--sg-text-color, var(--theme-code-foreground, var(--jp-content-font-color1, black)));\n",
       "  --sklearn-color-background: var(--sg-background-color, var(--theme-background, var(--jp-layout-color0, white)));\n",
       "  --sklearn-color-border-box: var(--sg-text-color, var(--theme-code-foreground, var(--jp-content-font-color1, black)));\n",
       "  --sklearn-color-icon: #696969;\n",
       "\n",
       "  @media (prefers-color-scheme: dark) {\n",
       "    /* Redefinition of color scheme for dark theme */\n",
       "    --sklearn-color-text-on-default-background: var(--sg-text-color, var(--theme-code-foreground, var(--jp-content-font-color1, white)));\n",
       "    --sklearn-color-background: var(--sg-background-color, var(--theme-background, var(--jp-layout-color0, #111)));\n",
       "    --sklearn-color-border-box: var(--sg-text-color, var(--theme-code-foreground, var(--jp-content-font-color1, white)));\n",
       "    --sklearn-color-icon: #878787;\n",
       "  }\n",
       "}\n",
       "\n",
       "#sk-container-id-1 {\n",
       "  color: var(--sklearn-color-text);\n",
       "}\n",
       "\n",
       "#sk-container-id-1 pre {\n",
       "  padding: 0;\n",
       "}\n",
       "\n",
       "#sk-container-id-1 input.sk-hidden--visually {\n",
       "  border: 0;\n",
       "  clip: rect(1px 1px 1px 1px);\n",
       "  clip: rect(1px, 1px, 1px, 1px);\n",
       "  height: 1px;\n",
       "  margin: -1px;\n",
       "  overflow: hidden;\n",
       "  padding: 0;\n",
       "  position: absolute;\n",
       "  width: 1px;\n",
       "}\n",
       "\n",
       "#sk-container-id-1 div.sk-dashed-wrapped {\n",
       "  border: 1px dashed var(--sklearn-color-line);\n",
       "  margin: 0 0.4em 0.5em 0.4em;\n",
       "  box-sizing: border-box;\n",
       "  padding-bottom: 0.4em;\n",
       "  background-color: var(--sklearn-color-background);\n",
       "}\n",
       "\n",
       "#sk-container-id-1 div.sk-container {\n",
       "  /* jupyter's `normalize.less` sets `[hidden] { display: none; }`\n",
       "     but bootstrap.min.css set `[hidden] { display: none !important; }`\n",
       "     so we also need the `!important` here to be able to override the\n",
       "     default hidden behavior on the sphinx rendered scikit-learn.org.\n",
       "     See: https://github.com/scikit-learn/scikit-learn/issues/21755 */\n",
       "  display: inline-block !important;\n",
       "  position: relative;\n",
       "}\n",
       "\n",
       "#sk-container-id-1 div.sk-text-repr-fallback {\n",
       "  display: none;\n",
       "}\n",
       "\n",
       "div.sk-parallel-item,\n",
       "div.sk-serial,\n",
       "div.sk-item {\n",
       "  /* draw centered vertical line to link estimators */\n",
       "  background-image: linear-gradient(var(--sklearn-color-text-on-default-background), var(--sklearn-color-text-on-default-background));\n",
       "  background-size: 2px 100%;\n",
       "  background-repeat: no-repeat;\n",
       "  background-position: center center;\n",
       "}\n",
       "\n",
       "/* Parallel-specific style estimator block */\n",
       "\n",
       "#sk-container-id-1 div.sk-parallel-item::after {\n",
       "  content: \"\";\n",
       "  width: 100%;\n",
       "  border-bottom: 2px solid var(--sklearn-color-text-on-default-background);\n",
       "  flex-grow: 1;\n",
       "}\n",
       "\n",
       "#sk-container-id-1 div.sk-parallel {\n",
       "  display: flex;\n",
       "  align-items: stretch;\n",
       "  justify-content: center;\n",
       "  background-color: var(--sklearn-color-background);\n",
       "  position: relative;\n",
       "}\n",
       "\n",
       "#sk-container-id-1 div.sk-parallel-item {\n",
       "  display: flex;\n",
       "  flex-direction: column;\n",
       "}\n",
       "\n",
       "#sk-container-id-1 div.sk-parallel-item:first-child::after {\n",
       "  align-self: flex-end;\n",
       "  width: 50%;\n",
       "}\n",
       "\n",
       "#sk-container-id-1 div.sk-parallel-item:last-child::after {\n",
       "  align-self: flex-start;\n",
       "  width: 50%;\n",
       "}\n",
       "\n",
       "#sk-container-id-1 div.sk-parallel-item:only-child::after {\n",
       "  width: 0;\n",
       "}\n",
       "\n",
       "/* Serial-specific style estimator block */\n",
       "\n",
       "#sk-container-id-1 div.sk-serial {\n",
       "  display: flex;\n",
       "  flex-direction: column;\n",
       "  align-items: center;\n",
       "  background-color: var(--sklearn-color-background);\n",
       "  padding-right: 1em;\n",
       "  padding-left: 1em;\n",
       "}\n",
       "\n",
       "\n",
       "/* Toggleable style: style used for estimator/Pipeline/ColumnTransformer box that is\n",
       "clickable and can be expanded/collapsed.\n",
       "- Pipeline and ColumnTransformer use this feature and define the default style\n",
       "- Estimators will overwrite some part of the style using the `sk-estimator` class\n",
       "*/\n",
       "\n",
       "/* Pipeline and ColumnTransformer style (default) */\n",
       "\n",
       "#sk-container-id-1 div.sk-toggleable {\n",
       "  /* Default theme specific background. It is overwritten whether we have a\n",
       "  specific estimator or a Pipeline/ColumnTransformer */\n",
       "  background-color: var(--sklearn-color-background);\n",
       "}\n",
       "\n",
       "/* Toggleable label */\n",
       "#sk-container-id-1 label.sk-toggleable__label {\n",
       "  cursor: pointer;\n",
       "  display: block;\n",
       "  width: 100%;\n",
       "  margin-bottom: 0;\n",
       "  padding: 0.5em;\n",
       "  box-sizing: border-box;\n",
       "  text-align: center;\n",
       "}\n",
       "\n",
       "#sk-container-id-1 label.sk-toggleable__label-arrow:before {\n",
       "  /* Arrow on the left of the label */\n",
       "  content: \"▸\";\n",
       "  float: left;\n",
       "  margin-right: 0.25em;\n",
       "  color: var(--sklearn-color-icon);\n",
       "}\n",
       "\n",
       "#sk-container-id-1 label.sk-toggleable__label-arrow:hover:before {\n",
       "  color: var(--sklearn-color-text);\n",
       "}\n",
       "\n",
       "/* Toggleable content - dropdown */\n",
       "\n",
       "#sk-container-id-1 div.sk-toggleable__content {\n",
       "  max-height: 0;\n",
       "  max-width: 0;\n",
       "  overflow: hidden;\n",
       "  text-align: left;\n",
       "  /* unfitted */\n",
       "  background-color: var(--sklearn-color-unfitted-level-0);\n",
       "}\n",
       "\n",
       "#sk-container-id-1 div.sk-toggleable__content.fitted {\n",
       "  /* fitted */\n",
       "  background-color: var(--sklearn-color-fitted-level-0);\n",
       "}\n",
       "\n",
       "#sk-container-id-1 div.sk-toggleable__content pre {\n",
       "  margin: 0.2em;\n",
       "  border-radius: 0.25em;\n",
       "  color: var(--sklearn-color-text);\n",
       "  /* unfitted */\n",
       "  background-color: var(--sklearn-color-unfitted-level-0);\n",
       "}\n",
       "\n",
       "#sk-container-id-1 div.sk-toggleable__content.fitted pre {\n",
       "  /* unfitted */\n",
       "  background-color: var(--sklearn-color-fitted-level-0);\n",
       "}\n",
       "\n",
       "#sk-container-id-1 input.sk-toggleable__control:checked~div.sk-toggleable__content {\n",
       "  /* Expand drop-down */\n",
       "  max-height: 200px;\n",
       "  max-width: 100%;\n",
       "  overflow: auto;\n",
       "}\n",
       "\n",
       "#sk-container-id-1 input.sk-toggleable__control:checked~label.sk-toggleable__label-arrow:before {\n",
       "  content: \"▾\";\n",
       "}\n",
       "\n",
       "/* Pipeline/ColumnTransformer-specific style */\n",
       "\n",
       "#sk-container-id-1 div.sk-label input.sk-toggleable__control:checked~label.sk-toggleable__label {\n",
       "  color: var(--sklearn-color-text);\n",
       "  background-color: var(--sklearn-color-unfitted-level-2);\n",
       "}\n",
       "\n",
       "#sk-container-id-1 div.sk-label.fitted input.sk-toggleable__control:checked~label.sk-toggleable__label {\n",
       "  background-color: var(--sklearn-color-fitted-level-2);\n",
       "}\n",
       "\n",
       "/* Estimator-specific style */\n",
       "\n",
       "/* Colorize estimator box */\n",
       "#sk-container-id-1 div.sk-estimator input.sk-toggleable__control:checked~label.sk-toggleable__label {\n",
       "  /* unfitted */\n",
       "  background-color: var(--sklearn-color-unfitted-level-2);\n",
       "}\n",
       "\n",
       "#sk-container-id-1 div.sk-estimator.fitted input.sk-toggleable__control:checked~label.sk-toggleable__label {\n",
       "  /* fitted */\n",
       "  background-color: var(--sklearn-color-fitted-level-2);\n",
       "}\n",
       "\n",
       "#sk-container-id-1 div.sk-label label.sk-toggleable__label,\n",
       "#sk-container-id-1 div.sk-label label {\n",
       "  /* The background is the default theme color */\n",
       "  color: var(--sklearn-color-text-on-default-background);\n",
       "}\n",
       "\n",
       "/* On hover, darken the color of the background */\n",
       "#sk-container-id-1 div.sk-label:hover label.sk-toggleable__label {\n",
       "  color: var(--sklearn-color-text);\n",
       "  background-color: var(--sklearn-color-unfitted-level-2);\n",
       "}\n",
       "\n",
       "/* Label box, darken color on hover, fitted */\n",
       "#sk-container-id-1 div.sk-label.fitted:hover label.sk-toggleable__label.fitted {\n",
       "  color: var(--sklearn-color-text);\n",
       "  background-color: var(--sklearn-color-fitted-level-2);\n",
       "}\n",
       "\n",
       "/* Estimator label */\n",
       "\n",
       "#sk-container-id-1 div.sk-label label {\n",
       "  font-family: monospace;\n",
       "  font-weight: bold;\n",
       "  display: inline-block;\n",
       "  line-height: 1.2em;\n",
       "}\n",
       "\n",
       "#sk-container-id-1 div.sk-label-container {\n",
       "  text-align: center;\n",
       "}\n",
       "\n",
       "/* Estimator-specific */\n",
       "#sk-container-id-1 div.sk-estimator {\n",
       "  font-family: monospace;\n",
       "  border: 1px dotted var(--sklearn-color-border-box);\n",
       "  border-radius: 0.25em;\n",
       "  box-sizing: border-box;\n",
       "  margin-bottom: 0.5em;\n",
       "  /* unfitted */\n",
       "  background-color: var(--sklearn-color-unfitted-level-0);\n",
       "}\n",
       "\n",
       "#sk-container-id-1 div.sk-estimator.fitted {\n",
       "  /* fitted */\n",
       "  background-color: var(--sklearn-color-fitted-level-0);\n",
       "}\n",
       "\n",
       "/* on hover */\n",
       "#sk-container-id-1 div.sk-estimator:hover {\n",
       "  /* unfitted */\n",
       "  background-color: var(--sklearn-color-unfitted-level-2);\n",
       "}\n",
       "\n",
       "#sk-container-id-1 div.sk-estimator.fitted:hover {\n",
       "  /* fitted */\n",
       "  background-color: var(--sklearn-color-fitted-level-2);\n",
       "}\n",
       "\n",
       "/* Specification for estimator info (e.g. \"i\" and \"?\") */\n",
       "\n",
       "/* Common style for \"i\" and \"?\" */\n",
       "\n",
       ".sk-estimator-doc-link,\n",
       "a:link.sk-estimator-doc-link,\n",
       "a:visited.sk-estimator-doc-link {\n",
       "  float: right;\n",
       "  font-size: smaller;\n",
       "  line-height: 1em;\n",
       "  font-family: monospace;\n",
       "  background-color: var(--sklearn-color-background);\n",
       "  border-radius: 1em;\n",
       "  height: 1em;\n",
       "  width: 1em;\n",
       "  text-decoration: none !important;\n",
       "  margin-left: 1ex;\n",
       "  /* unfitted */\n",
       "  border: var(--sklearn-color-unfitted-level-1) 1pt solid;\n",
       "  color: var(--sklearn-color-unfitted-level-1);\n",
       "}\n",
       "\n",
       ".sk-estimator-doc-link.fitted,\n",
       "a:link.sk-estimator-doc-link.fitted,\n",
       "a:visited.sk-estimator-doc-link.fitted {\n",
       "  /* fitted */\n",
       "  border: var(--sklearn-color-fitted-level-1) 1pt solid;\n",
       "  color: var(--sklearn-color-fitted-level-1);\n",
       "}\n",
       "\n",
       "/* On hover */\n",
       "div.sk-estimator:hover .sk-estimator-doc-link:hover,\n",
       ".sk-estimator-doc-link:hover,\n",
       "div.sk-label-container:hover .sk-estimator-doc-link:hover,\n",
       ".sk-estimator-doc-link:hover {\n",
       "  /* unfitted */\n",
       "  background-color: var(--sklearn-color-unfitted-level-3);\n",
       "  color: var(--sklearn-color-background);\n",
       "  text-decoration: none;\n",
       "}\n",
       "\n",
       "div.sk-estimator.fitted:hover .sk-estimator-doc-link.fitted:hover,\n",
       ".sk-estimator-doc-link.fitted:hover,\n",
       "div.sk-label-container:hover .sk-estimator-doc-link.fitted:hover,\n",
       ".sk-estimator-doc-link.fitted:hover {\n",
       "  /* fitted */\n",
       "  background-color: var(--sklearn-color-fitted-level-3);\n",
       "  color: var(--sklearn-color-background);\n",
       "  text-decoration: none;\n",
       "}\n",
       "\n",
       "/* Span, style for the box shown on hovering the info icon */\n",
       ".sk-estimator-doc-link span {\n",
       "  display: none;\n",
       "  z-index: 9999;\n",
       "  position: relative;\n",
       "  font-weight: normal;\n",
       "  right: .2ex;\n",
       "  padding: .5ex;\n",
       "  margin: .5ex;\n",
       "  width: min-content;\n",
       "  min-width: 20ex;\n",
       "  max-width: 50ex;\n",
       "  color: var(--sklearn-color-text);\n",
       "  box-shadow: 2pt 2pt 4pt #999;\n",
       "  /* unfitted */\n",
       "  background: var(--sklearn-color-unfitted-level-0);\n",
       "  border: .5pt solid var(--sklearn-color-unfitted-level-3);\n",
       "}\n",
       "\n",
       ".sk-estimator-doc-link.fitted span {\n",
       "  /* fitted */\n",
       "  background: var(--sklearn-color-fitted-level-0);\n",
       "  border: var(--sklearn-color-fitted-level-3);\n",
       "}\n",
       "\n",
       ".sk-estimator-doc-link:hover span {\n",
       "  display: block;\n",
       "}\n",
       "\n",
       "/* \"?\"-specific style due to the `<a>` HTML tag */\n",
       "\n",
       "#sk-container-id-1 a.estimator_doc_link {\n",
       "  float: right;\n",
       "  font-size: 1rem;\n",
       "  line-height: 1em;\n",
       "  font-family: monospace;\n",
       "  background-color: var(--sklearn-color-background);\n",
       "  border-radius: 1rem;\n",
       "  height: 1rem;\n",
       "  width: 1rem;\n",
       "  text-decoration: none;\n",
       "  /* unfitted */\n",
       "  color: var(--sklearn-color-unfitted-level-1);\n",
       "  border: var(--sklearn-color-unfitted-level-1) 1pt solid;\n",
       "}\n",
       "\n",
       "#sk-container-id-1 a.estimator_doc_link.fitted {\n",
       "  /* fitted */\n",
       "  border: var(--sklearn-color-fitted-level-1) 1pt solid;\n",
       "  color: var(--sklearn-color-fitted-level-1);\n",
       "}\n",
       "\n",
       "/* On hover */\n",
       "#sk-container-id-1 a.estimator_doc_link:hover {\n",
       "  /* unfitted */\n",
       "  background-color: var(--sklearn-color-unfitted-level-3);\n",
       "  color: var(--sklearn-color-background);\n",
       "  text-decoration: none;\n",
       "}\n",
       "\n",
       "#sk-container-id-1 a.estimator_doc_link.fitted:hover {\n",
       "  /* fitted */\n",
       "  background-color: var(--sklearn-color-fitted-level-3);\n",
       "}\n",
       "</style><div id=\"sk-container-id-1\" class=\"sk-top-container\"><div class=\"sk-text-repr-fallback\"><pre>GridSearchCV(cv=3,\n",
       "             estimator=Pipeline(steps=[(&#x27;standardscaler&#x27;, StandardScaler()),\n",
       "                                       (&#x27;svc&#x27;, SVC(random_state=42))]),\n",
       "             param_grid={&#x27;svc__C&#x27;: [0.1, 1, 10],\n",
       "                         &#x27;svc__gamma&#x27;: [&#x27;scale&#x27;, &#x27;auto&#x27;],\n",
       "                         &#x27;svc__kernel&#x27;: [&#x27;linear&#x27;, &#x27;rbf&#x27;]},\n",
       "             scoring=&#x27;accuracy&#x27;)</pre><b>In a Jupyter environment, please rerun this cell to show the HTML representation or trust the notebook. <br />On GitHub, the HTML representation is unable to render, please try loading this page with nbviewer.org.</b></div><div class=\"sk-container\" hidden><div class=\"sk-item sk-dashed-wrapped\"><div class=\"sk-label-container\"><div class=\"sk-label fitted sk-toggleable\"><input class=\"sk-toggleable__control sk-hidden--visually\" id=\"sk-estimator-id-1\" type=\"checkbox\" ><label for=\"sk-estimator-id-1\" class=\"sk-toggleable__label fitted sk-toggleable__label-arrow fitted\">&nbsp;&nbsp;GridSearchCV<a class=\"sk-estimator-doc-link fitted\" rel=\"noreferrer\" target=\"_blank\" href=\"https://scikit-learn.org/1.4/modules/generated/sklearn.model_selection.GridSearchCV.html\">?<span>Documentation for GridSearchCV</span></a><span class=\"sk-estimator-doc-link fitted\">i<span>Fitted</span></span></label><div class=\"sk-toggleable__content fitted\"><pre>GridSearchCV(cv=3,\n",
       "             estimator=Pipeline(steps=[(&#x27;standardscaler&#x27;, StandardScaler()),\n",
       "                                       (&#x27;svc&#x27;, SVC(random_state=42))]),\n",
       "             param_grid={&#x27;svc__C&#x27;: [0.1, 1, 10],\n",
       "                         &#x27;svc__gamma&#x27;: [&#x27;scale&#x27;, &#x27;auto&#x27;],\n",
       "                         &#x27;svc__kernel&#x27;: [&#x27;linear&#x27;, &#x27;rbf&#x27;]},\n",
       "             scoring=&#x27;accuracy&#x27;)</pre></div> </div></div><div class=\"sk-parallel\"><div class=\"sk-parallel-item\"><div class=\"sk-item\"><div class=\"sk-label-container\"><div class=\"sk-label fitted sk-toggleable\"><input class=\"sk-toggleable__control sk-hidden--visually\" id=\"sk-estimator-id-2\" type=\"checkbox\" ><label for=\"sk-estimator-id-2\" class=\"sk-toggleable__label fitted sk-toggleable__label-arrow fitted\">estimator: Pipeline</label><div class=\"sk-toggleable__content fitted\"><pre>Pipeline(steps=[(&#x27;standardscaler&#x27;, StandardScaler()),\n",
       "                (&#x27;svc&#x27;, SVC(random_state=42))])</pre></div> </div></div><div class=\"sk-serial\"><div class=\"sk-item\"><div class=\"sk-serial\"><div class=\"sk-item\"><div class=\"sk-estimator fitted sk-toggleable\"><input class=\"sk-toggleable__control sk-hidden--visually\" id=\"sk-estimator-id-3\" type=\"checkbox\" ><label for=\"sk-estimator-id-3\" class=\"sk-toggleable__label fitted sk-toggleable__label-arrow fitted\">&nbsp;StandardScaler<a class=\"sk-estimator-doc-link fitted\" rel=\"noreferrer\" target=\"_blank\" href=\"https://scikit-learn.org/1.4/modules/generated/sklearn.preprocessing.StandardScaler.html\">?<span>Documentation for StandardScaler</span></a></label><div class=\"sk-toggleable__content fitted\"><pre>StandardScaler()</pre></div> </div></div><div class=\"sk-item\"><div class=\"sk-estimator fitted sk-toggleable\"><input class=\"sk-toggleable__control sk-hidden--visually\" id=\"sk-estimator-id-4\" type=\"checkbox\" ><label for=\"sk-estimator-id-4\" class=\"sk-toggleable__label fitted sk-toggleable__label-arrow fitted\">&nbsp;SVC<a class=\"sk-estimator-doc-link fitted\" rel=\"noreferrer\" target=\"_blank\" href=\"https://scikit-learn.org/1.4/modules/generated/sklearn.svm.SVC.html\">?<span>Documentation for SVC</span></a></label><div class=\"sk-toggleable__content fitted\"><pre>SVC(random_state=42)</pre></div> </div></div></div></div></div></div></div></div></div></div></div>"
      ],
      "text/plain": [
       "GridSearchCV(cv=3,\n",
       "             estimator=Pipeline(steps=[('standardscaler', StandardScaler()),\n",
       "                                       ('svc', SVC(random_state=42))]),\n",
       "             param_grid={'svc__C': [0.1, 1, 10],\n",
       "                         'svc__gamma': ['scale', 'auto'],\n",
       "                         'svc__kernel': ['linear', 'rbf']},\n",
       "             scoring='accuracy')"
      ]
     },
     "execution_count": 25,
     "metadata": {},
     "output_type": "execute_result"
    }
   ],
   "source": [
    "#Definir el modelo SVC\n",
    "model = SVC(random_state=42)\n",
    "\n",
    "modelo_pipeline=make_pipeline(scaler,model)\n",
    "\n",
    "# Hiperparámetros a ajustar\n",
    "# Añadido prefijo del paso: Los parámetros del modelo se especifican como svc__C, svc__kernel, etc. \n",
    "# El nombre svc proviene del nombre automático asignado al paso en el pipeline.\n",
    "param_grid = {\n",
    "    \"svc__C\": [0.1, 1, 10],           # Regularización\n",
    "    \"svc__kernel\": [\"linear\", \"rbf\"], # Tipos de kernel\n",
    "    \"svc__gamma\": [\"scale\", \"auto\"]   # Coeficiente para kernels no lineales\n",
    "}\n",
    "\n",
    "# Configurar GridSearchCV\n",
    "grid_search = GridSearchCV(modelo_pipeline, param_grid, cv=3, scoring='accuracy')\n",
    "\n",
    "# Ajustar el modelo (usando X_train_scaled y Y_train como ejemplo)\n",
    "grid_search.fit(X_train, Y_train)"
   ]
  },
  {
   "cell_type": "markdown",
   "metadata": {},
   "source": [
    "#### EVALUACIÓN EN EL CONJUNTO DE PRUEBA"
   ]
  },
  {
   "cell_type": "code",
   "execution_count": 26,
   "metadata": {},
   "outputs": [
    {
     "name": "stdout",
     "output_type": "stream",
     "text": [
      "Mejores parámetros: {'svc__C': 10, 'svc__gamma': 'scale', 'svc__kernel': 'rbf'}\n",
      "Precisión en el conjunto de prueba: 0.9805555555555555\n"
     ]
    }
   ],
   "source": [
    "# Obtener las predicciones en el conjunto de prueba\n",
    "best_model = grid_search.best_estimator_\n",
    "predictions = best_model.predict(X_test)\n",
    "\n",
    "# Calcular la precisión\n",
    "accuracy = accuracy_score(Y_test, predictions)\n",
    "\n",
    "# Resultados\n",
    "print(\"Mejores parámetros:\", grid_search.best_params_)\n",
    "print(\"Precisión en el conjunto de prueba:\", accuracy)"
   ]
  },
  {
   "cell_type": "markdown",
   "metadata": {},
   "source": [
    "### PRESENTACIÓN DE LA SOLUCIÓN"
   ]
  },
  {
   "cell_type": "markdown",
   "metadata": {},
   "source": [
    "Simplemente guarda el modelo"
   ]
  },
  {
   "cell_type": "code",
   "execution_count": 27,
   "metadata": {},
   "outputs": [
    {
     "data": {
      "text/plain": [
       "['numeros.pkl']"
      ]
     },
     "execution_count": 27,
     "metadata": {},
     "output_type": "execute_result"
    }
   ],
   "source": [
    "joblib.dump(final_model, \"numeros.pkl\")"
   ]
  },
  {
   "cell_type": "markdown",
   "metadata": {},
   "source": [
    "## EJERCICIO 3"
   ]
  },
  {
   "cell_type": "markdown",
   "metadata": {},
   "source": [
    "Vamos a trabajar con un conjunto de datos donde cada instancia (en este caso, cada película) pueda tener múltiples etiquetas (géneros en este caso).\n",
    "\n",
    "Tienes los datos en el fichero tmdb_5000_movies.csv\n",
    "\n",
    "Crea un clasificador que te diga los generos que le corresponden a cada película."
   ]
  },
  {
   "cell_type": "markdown",
   "metadata": {},
   "source": [
    "### RECOPILACIÓN Y PREPARACIÓN DE LOS DATOS"
   ]
  },
  {
   "cell_type": "markdown",
   "metadata": {},
   "source": [
    "#### OBTENER LOS DATOS"
   ]
  },
  {
   "cell_type": "code",
   "execution_count": 28,
   "metadata": {},
   "outputs": [],
   "source": [
    "# Cargar los datos\n",
    "data = pd.read_csv(\"datos/tmdb_5000_movies.csv\")\n",
    "\n",
    "# Preprocesamiento de datos\n",
    "# Transformar géneros en listas de palabras separadas\n",
    "data[\"genres\"] = data[\"genres\"].apply(lambda x: [genre[\"name\"] for genre in eval(x)])\n",
    "\n",
    "# Dividir los datos en características (X) y etiquetas (y)\n",
    "X = data[\"overview\"]\n",
    "y = data[\"genres\"]"
   ]
  },
  {
   "cell_type": "markdown",
   "metadata": {},
   "source": [
    "#### EXPLORAR LOS DATOS"
   ]
  },
  {
   "cell_type": "code",
   "execution_count": 29,
   "metadata": {},
   "outputs": [
    {
     "data": {
      "text/plain": [
       "0    In the 22nd century, a paraplegic Marine is di...\n",
       "1    Captain Barbossa, long believed to be dead, ha...\n",
       "2    A cryptic message from Bond’s past sends him o...\n",
       "3    Following the death of District Attorney Harve...\n",
       "4    John Carter is a war-weary, former military ca...\n",
       "Name: overview, dtype: object"
      ]
     },
     "execution_count": 29,
     "metadata": {},
     "output_type": "execute_result"
    }
   ],
   "source": [
    "X.head()"
   ]
  },
  {
   "cell_type": "code",
   "execution_count": 30,
   "metadata": {},
   "outputs": [
    {
     "name": "stdout",
     "output_type": "stream",
     "text": [
      "<class 'pandas.core.series.Series'>\n",
      "RangeIndex: 4803 entries, 0 to 4802\n",
      "Series name: overview\n",
      "Non-Null Count  Dtype \n",
      "--------------  ----- \n",
      "4800 non-null   object\n",
      "dtypes: object(1)\n",
      "memory usage: 37.7+ KB\n"
     ]
    }
   ],
   "source": [
    "X.info()"
   ]
  },
  {
   "cell_type": "markdown",
   "metadata": {},
   "source": [
    "#### DIVIDIR LOS DATOS"
   ]
  },
  {
   "cell_type": "code",
   "execution_count": 31,
   "metadata": {},
   "outputs": [],
   "source": [
    "X= X.dropna()\n",
    "indices = X.index\n",
    "y= y.loc[indices]\n",
    "\n",
    "X_train, X_test, y_train, y_test = train_test_split(X, y, test_size=0.2, random_state=42)"
   ]
  },
  {
   "cell_type": "markdown",
   "metadata": {},
   "source": [
    "#### PREPARAR LOS DATOS"
   ]
  },
  {
   "cell_type": "markdown",
   "metadata": {},
   "source": [
    "Tienes aquí las transformaciones que hay que hacer a los datos pero busca en internet que estamos haciendo exactamente y explicalo (igual hay que hacer algo con los datos que faltan)"
   ]
  },
  {
   "cell_type": "code",
   "execution_count": 32,
   "metadata": {},
   "outputs": [],
   "source": [
    "#El TfidfVectorizer es una clase de la biblioteca sklearn (Scikit-learn) que convierte un conjunto de documentos \n",
    "# de texto (como una lista de oraciones o frases) en una matriz de características numéricas.\n",
    "\n",
    "#El MultiLabelBinarizer es una clase de Scikit-learn utilizada cuando se tiene un problema de clasificación con \n",
    "# múltiples etiquetas. En lugar de asignar solo una etiqueta a cada muestra (como en la clasificación tradicional), \n",
    "# una muestra puede tener varias etiquetas. El MultiLabelBinarizer convierte estas etiquetas múltiples en un formato \n",
    "# binario, donde cada etiqueta se convierte en una columna, y los valores son 0 o 1 dependiendo de si esa etiqueta \n",
    "# está presente o no en cada muestra."
   ]
  },
  {
   "cell_type": "code",
   "execution_count": 33,
   "metadata": {},
   "outputs": [],
   "source": [
    "tfidf_vectorizer = TfidfVectorizer()\n",
    "X_train_tfidf = tfidf_vectorizer.fit_transform(X_train)\n",
    "X_test_tfidf = tfidf_vectorizer.transform(X_test)\n",
    "\n",
    "mlb = MultiLabelBinarizer()\n",
    "y_train_transformed = mlb.fit_transform(y_train)\n"
   ]
  },
  {
   "cell_type": "code",
   "execution_count": 34,
   "metadata": {},
   "outputs": [],
   "source": [
    "y_test_transformed = mlb.transform(y_test)"
   ]
  },
  {
   "cell_type": "markdown",
   "metadata": {},
   "source": [
    "### ENTRENAMIENTO Y EVALUACIÓN DEL MODELO"
   ]
  },
  {
   "cell_type": "markdown",
   "metadata": {},
   "source": [
    "Crea un modelo Random Forest y evalúa el modelo en el conjunto de entrenamiento (accuracy), no hace falta usar validación cruzada."
   ]
  },
  {
   "cell_type": "code",
   "execution_count": 35,
   "metadata": {},
   "outputs": [
    {
     "name": "stdout",
     "output_type": "stream",
     "text": [
      "Train: 0.9942708333333333\n",
      "Test: 0.07291666666666667\n"
     ]
    }
   ],
   "source": [
    "random_Forest=RandomForestClassifier(n_estimators=50).fit(X_train_tfidf,y_train_transformed)\n",
    "\n",
    "train_predictionsRF =random_Forest.predict(X_train_tfidf)\n",
    "train_RF_accuracy = accuracy_score( y_train_transformed, train_predictionsRF)\n",
    "\n",
    "test_predictionsRF =random_Forest.predict(X_test_tfidf)\n",
    "test_RF_accuracy = accuracy_score(y_test_transformed, test_predictionsRF)\n",
    "\n",
    "print(f\"Train: {train_RF_accuracy}\")\n",
    "print(f\"Test: {test_RF_accuracy}\")"
   ]
  },
  {
   "cell_type": "markdown",
   "metadata": {},
   "source": [
    "#### EVALUACIÓN EN EL CONJUNTO DE PRUEBA"
   ]
  },
  {
   "cell_type": "markdown",
   "metadata": {},
   "source": [
    "Evalúa el modelo en el conjuno de prueba y muestra las primeras 25 predicciones y sus correspondientes valores reales (con texto, para lo cual tendras que aplicar mlb.inverse_transform a las predicciones).\n",
    "\n",
    "¿Qué puedes deducir del resultado?"
   ]
  },
  {
   "cell_type": "code",
   "execution_count": 36,
   "metadata": {},
   "outputs": [
    {
     "name": "stdout",
     "output_type": "stream",
     "text": [
      "() ('Action', 'Adventure', 'Comedy', 'Thriller')\n",
      "('Comedy',) ('Comedy',)\n",
      "() ('Comedy', 'Family')\n",
      "('Drama',) ('Drama',)\n",
      "() ('Adventure', 'Family', 'Fantasy')\n",
      "() ('Action', 'Adventure', 'Science Fiction')\n",
      "('Drama',) ('Action', 'Science Fiction', 'Thriller')\n",
      "() ('Comedy', 'Romance')\n",
      "('Comedy', 'Drama') ('Comedy', 'Drama', 'Romance')\n",
      "('Drama',) ('Action', 'Comedy', 'Crime', 'Drama', 'Music')\n",
      "('Drama',) ('Comedy', 'Romance')\n",
      "() ('Comedy', 'Family', 'Romance')\n",
      "('Drama',) ('Comedy', 'Drama', 'Romance')\n",
      "() ('Comedy', 'Drama', 'Family', 'Fantasy', 'Romance')\n",
      "() ('Action', 'Comedy')\n",
      "() ('Action', 'Fantasy', 'Horror', 'Mystery')\n",
      "('Drama',) ('Drama', 'Romance')\n",
      "('Drama', 'Thriller') ('Action', 'Thriller')\n",
      "('Drama',) ('Drama',)\n",
      "() ('Drama',)\n",
      "() ('Comedy', 'Crime')\n",
      "('Drama', 'Romance') ('Action', 'Comedy', 'Crime', 'Romance')\n",
      "('Drama',) ('Drama',)\n",
      "('Drama',) ('Drama', 'Music', 'Romance')\n",
      "('Drama',) ('Drama',)\n"
     ]
    }
   ],
   "source": [
    "y_test=mlb.inverse_transform(y_test_transformed)\n",
    "predicciones_test=mlb.inverse_transform(random_Forest.predict(X_test_tfidf))\n",
    "\n",
    "for i in range(25):\n",
    "    print(predicciones_test[i], y_test[i])\n",
    "\n",
    "#Parece que el modelo esta sobreajustado ya que en los datos de train es muy bueno pero a la hora de la verdad\n",
    "#sus resultados son muy malos. Ademas, parece que tan solo sabe decir si son peliculas de drama y no siempre\n",
    "# lo hace correctamente"
   ]
  }
 ],
 "metadata": {
  "kernelspec": {
   "display_name": "base",
   "language": "python",
   "name": "python3"
  },
  "language_info": {
   "codemirror_mode": {
    "name": "ipython",
    "version": 3
   },
   "file_extension": ".py",
   "mimetype": "text/x-python",
   "name": "python",
   "nbconvert_exporter": "python",
   "pygments_lexer": "ipython3",
   "version": "3.12.4"
  },
  "nav_menu": {},
  "toc": {
   "navigate_menu": true,
   "number_sections": true,
   "sideBar": true,
   "threshold": 6,
   "toc_cell": false,
   "toc_section_display": "block",
   "toc_window_display": false
  }
 },
 "nbformat": 4,
 "nbformat_minor": 4
}
