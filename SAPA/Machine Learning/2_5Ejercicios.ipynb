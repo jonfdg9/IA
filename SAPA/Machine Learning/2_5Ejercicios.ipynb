{
 "cells": [
  {
   "cell_type": "markdown",
   "metadata": {},
   "source": [
    "# EJERCICIO"
   ]
  },
  {
   "cell_type": "markdown",
   "metadata": {},
   "source": [
    "## DEFINICIÓN DEL PROBLEMA"
   ]
  },
  {
   "cell_type": "markdown",
   "metadata": {},
   "source": [
    "**Vamos a trabajar con un dataframe sobre los datos de propinas que viene en la librería seaborn para intentar predecir que propina dejará una persona a partir de ciertos datos como sexo, importe...**\n",
    "\n",
    "**Como criterio de evaluación vamos a usar RCME.**"
   ]
  },
  {
   "cell_type": "markdown",
   "metadata": {},
   "source": [
    "## RECOPILACIÓN Y PREPARACIÓN DE LOS DATOS"
   ]
  },
  {
   "cell_type": "markdown",
   "metadata": {},
   "source": [
    "### OBTENER LOS DATOS"
   ]
  },
  {
   "cell_type": "code",
   "execution_count": 1,
   "metadata": {},
   "outputs": [],
   "source": [
    "import pandas as pd\n",
    "import numpy as np\n",
    "import matplotlib.pyplot as plt\n",
    "import seaborn as sns\n",
    "from sklearn.model_selection import train_test_split\n",
    "from sklearn.pipeline import make_pipeline\n",
    "from sklearn.impute import SimpleImputer\n",
    "from sklearn.preprocessing import OneHotEncoder,  StandardScaler, FunctionTransformer\n",
    "from sklearn.compose import ColumnTransformer \n",
    "\n",
    "\n",
    "df_tips = sns.load_dataset('tips')"
   ]
  },
  {
   "cell_type": "markdown",
   "metadata": {},
   "source": [
    "Significado de las columnas:\n",
    "1. `total_bill`: Esta columna representa el monto total de la factura de una transacción en el restaurante, incluyendo la comida y las bebidas.\n",
    "\n",
    "2. `tip`: En esta columna se registra la cantidad de propina que se dio en esa transacción.\n",
    "\n",
    "3. `sex`: Indica el sexo del camarero o camarera que atendió la mesa (por ejemplo, \"Male\" para masculino y \"Female\" para femenino).\n",
    "\n",
    "4. `smoker`: Esta columna indica si los comensales eran fumadores o no fumadores en la mesa (por ejemplo, \"Yes\" para fumadores y \"No\" para no fumadores).\n",
    "\n",
    "5. `day`: Registra el día de la semana en el que se realizó la transacción (por ejemplo, \"Thur\" para jueves, \"Fri\" para viernes, \"Sat\" para sábado y \"Sun\" para domingo).\n",
    "\n",
    "6. `time`: Indica si la transacción fue durante el almuerzo o la cena (por ejemplo, \"Lunch\" para almuerzo y \"Dinner\" para cena).\n",
    "\n",
    "7. `size`: Representa el número de comensales en la mesa."
   ]
  },
  {
   "cell_type": "markdown",
   "metadata": {},
   "source": [
    "### EXPLORAR LOS DATOS"
   ]
  },
  {
   "cell_type": "code",
   "execution_count": 2,
   "metadata": {},
   "outputs": [
    {
     "data": {
      "text/html": [
       "<div>\n",
       "<style scoped>\n",
       "    .dataframe tbody tr th:only-of-type {\n",
       "        vertical-align: middle;\n",
       "    }\n",
       "\n",
       "    .dataframe tbody tr th {\n",
       "        vertical-align: top;\n",
       "    }\n",
       "\n",
       "    .dataframe thead th {\n",
       "        text-align: right;\n",
       "    }\n",
       "</style>\n",
       "<table border=\"1\" class=\"dataframe\">\n",
       "  <thead>\n",
       "    <tr style=\"text-align: right;\">\n",
       "      <th></th>\n",
       "      <th>total_bill</th>\n",
       "      <th>tip</th>\n",
       "      <th>sex</th>\n",
       "      <th>smoker</th>\n",
       "      <th>day</th>\n",
       "      <th>time</th>\n",
       "      <th>size</th>\n",
       "    </tr>\n",
       "  </thead>\n",
       "  <tbody>\n",
       "    <tr>\n",
       "      <th>0</th>\n",
       "      <td>16.99</td>\n",
       "      <td>1.01</td>\n",
       "      <td>Female</td>\n",
       "      <td>No</td>\n",
       "      <td>Sun</td>\n",
       "      <td>Dinner</td>\n",
       "      <td>2</td>\n",
       "    </tr>\n",
       "    <tr>\n",
       "      <th>1</th>\n",
       "      <td>10.34</td>\n",
       "      <td>1.66</td>\n",
       "      <td>Male</td>\n",
       "      <td>No</td>\n",
       "      <td>Sun</td>\n",
       "      <td>Dinner</td>\n",
       "      <td>3</td>\n",
       "    </tr>\n",
       "    <tr>\n",
       "      <th>2</th>\n",
       "      <td>21.01</td>\n",
       "      <td>3.50</td>\n",
       "      <td>Male</td>\n",
       "      <td>No</td>\n",
       "      <td>Sun</td>\n",
       "      <td>Dinner</td>\n",
       "      <td>3</td>\n",
       "    </tr>\n",
       "    <tr>\n",
       "      <th>3</th>\n",
       "      <td>23.68</td>\n",
       "      <td>3.31</td>\n",
       "      <td>Male</td>\n",
       "      <td>No</td>\n",
       "      <td>Sun</td>\n",
       "      <td>Dinner</td>\n",
       "      <td>2</td>\n",
       "    </tr>\n",
       "    <tr>\n",
       "      <th>4</th>\n",
       "      <td>24.59</td>\n",
       "      <td>3.61</td>\n",
       "      <td>Female</td>\n",
       "      <td>No</td>\n",
       "      <td>Sun</td>\n",
       "      <td>Dinner</td>\n",
       "      <td>4</td>\n",
       "    </tr>\n",
       "  </tbody>\n",
       "</table>\n",
       "</div>"
      ],
      "text/plain": [
       "   total_bill   tip     sex smoker  day    time  size\n",
       "0       16.99  1.01  Female     No  Sun  Dinner     2\n",
       "1       10.34  1.66    Male     No  Sun  Dinner     3\n",
       "2       21.01  3.50    Male     No  Sun  Dinner     3\n",
       "3       23.68  3.31    Male     No  Sun  Dinner     2\n",
       "4       24.59  3.61  Female     No  Sun  Dinner     4"
      ]
     },
     "execution_count": 2,
     "metadata": {},
     "output_type": "execute_result"
    }
   ],
   "source": [
    "df_tips.head()"
   ]
  },
  {
   "cell_type": "code",
   "execution_count": 3,
   "metadata": {},
   "outputs": [
    {
     "name": "stdout",
     "output_type": "stream",
     "text": [
      "<class 'pandas.core.frame.DataFrame'>\n",
      "RangeIndex: 244 entries, 0 to 243\n",
      "Data columns (total 7 columns):\n",
      " #   Column      Non-Null Count  Dtype   \n",
      "---  ------      --------------  -----   \n",
      " 0   total_bill  244 non-null    float64 \n",
      " 1   tip         244 non-null    float64 \n",
      " 2   sex         244 non-null    category\n",
      " 3   smoker      244 non-null    category\n",
      " 4   day         244 non-null    category\n",
      " 5   time        244 non-null    category\n",
      " 6   size        244 non-null    int64   \n",
      "dtypes: category(4), float64(2), int64(1)\n",
      "memory usage: 7.4 KB\n"
     ]
    }
   ],
   "source": [
    "df_tips.info()"
   ]
  },
  {
   "cell_type": "code",
   "execution_count": 4,
   "metadata": {},
   "outputs": [
    {
     "data": {
      "image/png": "[encoded data removed]",
      "text/plain": [
       "<Figure size 1000x1400 with 8 Axes>"
      ]
     },
     "metadata": {},
     "output_type": "display_data"
    }
   ],
   "source": [
    "df_object = df_tips.select_dtypes(include=[\"object\",\"category\"])\n",
    "df_num = df_tips.select_dtypes(include=[np.number])\n",
    "\n",
    "# Crear figura con subplots\n",
    "fig, axes = plt.subplots(4, 2, figsize=(10, 14))  # Ajustar tamaño de figura según convenga\n",
    "\n",
    "\n",
    "for i, var in enumerate(df_object.columns):\n",
    "    sns.countplot(x=var, data=df_tips, ax=axes[i][0])\n",
    "\n",
    "for i, var in enumerate(df_num.columns):\n",
    "    sns.histplot(x=var, data=df_tips, ax=axes[i][1])\n",
    "\n",
    "# Ajustar el layout y mostrar el gráfico\n",
    "plt.tight_layout()\n",
    "plt.show()"
   ]
  },
  {
   "cell_type": "code",
   "execution_count": 5,
   "metadata": {},
   "outputs": [
    {
     "data": {
      "text/plain": [
       "tip           1.000000\n",
       "total_bill    0.675734\n",
       "size          0.489299\n",
       "Name: tip, dtype: float64"
      ]
     },
     "execution_count": 5,
     "metadata": {},
     "output_type": "execute_result"
    }
   ],
   "source": [
    "corr_matrix = df_tips.corr(numeric_only=True)\n",
    "corr_matrix['tip'].sort_values(ascending=False)"
   ]
  },
  {
   "cell_type": "code",
   "execution_count": 6,
   "metadata": {},
   "outputs": [
    {
     "data": {
      "text/html": [
       "<style type=\"text/css\">\n",
       "#T_25f31_row0_col0, #T_25f31_row1_col1, #T_25f31_row2_col2 {\n",
       "  background-color: #023858;\n",
       "  color: #f1f1f1;\n",
       "}\n",
       "#T_25f31_row0_col1 {\n",
       "  background-color: #a9bfdc;\n",
       "  color: #000000;\n",
       "}\n",
       "#T_25f31_row0_col2 {\n",
       "  background-color: #d9d8ea;\n",
       "  color: #000000;\n",
       "}\n",
       "#T_25f31_row1_col0 {\n",
       "  background-color: #dddbec;\n",
       "  color: #000000;\n",
       "}\n",
       "#T_25f31_row1_col2, #T_25f31_row2_col0, #T_25f31_row2_col1 {\n",
       "  background-color: #fff7fb;\n",
       "  color: #000000;\n",
       "}\n",
       "</style>\n",
       "<table id=\"T_25f31\">\n",
       "  <thead>\n",
       "    <tr>\n",
       "      <th class=\"blank level0\" >&nbsp;</th>\n",
       "      <th id=\"T_25f31_level0_col0\" class=\"col_heading level0 col0\" >total_bill</th>\n",
       "      <th id=\"T_25f31_level0_col1\" class=\"col_heading level0 col1\" >tip</th>\n",
       "      <th id=\"T_25f31_level0_col2\" class=\"col_heading level0 col2\" >size</th>\n",
       "    </tr>\n",
       "  </thead>\n",
       "  <tbody>\n",
       "    <tr>\n",
       "      <th id=\"T_25f31_level0_row0\" class=\"row_heading level0 row0\" >total_bill</th>\n",
       "      <td id=\"T_25f31_row0_col0\" class=\"data row0 col0\" >1.000000</td>\n",
       "      <td id=\"T_25f31_row0_col1\" class=\"data row0 col1\" >0.675734</td>\n",
       "      <td id=\"T_25f31_row0_col2\" class=\"data row0 col2\" >0.598315</td>\n",
       "    </tr>\n",
       "    <tr>\n",
       "      <th id=\"T_25f31_level0_row1\" class=\"row_heading level0 row1\" >tip</th>\n",
       "      <td id=\"T_25f31_row1_col0\" class=\"data row1 col0\" >0.675734</td>\n",
       "      <td id=\"T_25f31_row1_col1\" class=\"data row1 col1\" >1.000000</td>\n",
       "      <td id=\"T_25f31_row1_col2\" class=\"data row1 col2\" >0.489299</td>\n",
       "    </tr>\n",
       "    <tr>\n",
       "      <th id=\"T_25f31_level0_row2\" class=\"row_heading level0 row2\" >size</th>\n",
       "      <td id=\"T_25f31_row2_col0\" class=\"data row2 col0\" >0.598315</td>\n",
       "      <td id=\"T_25f31_row2_col1\" class=\"data row2 col1\" >0.489299</td>\n",
       "      <td id=\"T_25f31_row2_col2\" class=\"data row2 col2\" >1.000000</td>\n",
       "    </tr>\n",
       "  </tbody>\n",
       "</table>\n"
      ],
      "text/plain": [
       "<pandas.io.formats.style.Styler at 0x7f717e881ee0>"
      ]
     },
     "execution_count": 6,
     "metadata": {},
     "output_type": "execute_result"
    }
   ],
   "source": [
    "corr_matrix.style.background_gradient()"
   ]
  },
  {
   "cell_type": "markdown",
   "metadata": {},
   "source": [
    "### DIVIDIR LOS DATOS"
   ]
  },
  {
   "cell_type": "code",
   "execution_count": 7,
   "metadata": {},
   "outputs": [],
   "source": [
    "train_set, test_set = train_test_split(df_tips, test_size=0.20, random_state=42)\n"
   ]
  },
  {
   "cell_type": "markdown",
   "metadata": {},
   "source": [
    "### PREPARAR LOS DATOS"
   ]
  },
  {
   "cell_type": "code",
   "execution_count": 8,
   "metadata": {},
   "outputs": [
    {
     "name": "stdout",
     "output_type": "stream",
     "text": [
      "[[1 0 1 ... -0.3147113050904943 -1.4399469546690986 -0.600192629343654]\n",
      " [0 0 1 ... -1.0632353132988692 -0.9692053398558095 0.4533829214466451]\n",
      " [0 0 1 ... 0.13777989987156145 0.36335553900027046 0.4533829214466451]\n",
      " ...\n",
      " [0 1 1 ... 0.3246295019205694 -0.7229712644150121 -0.600192629343654]\n",
      " [0 0 1 ... -0.2212865040659901 -0.9040257316508925 -0.600192629343654]\n",
      " [1 0 1 ... -0.11322890288102155 0.0012466045285096147 -0.600192629343654]]\n"
     ]
    },
    {
     "data": {
      "text/plain": [
       "(244, 10)"
      ]
     },
     "execution_count": 8,
     "metadata": {},
     "output_type": "execute_result"
    }
   ],
   "source": [
    "def encode_sex(X):\n",
    "    X[:, 0] = np.where(X[:, 0] == 'Male', 0, 1) \n",
    "    return X\n",
    "\n",
    "def encode_smoker(X):\n",
    "    X[:, 0] = np.where(X[:, 0] == 'No', 0, 1) \n",
    "    return X\n",
    "\n",
    "def encode_time(X):\n",
    "    X[:, 0] = np.where(X[:, 0] == 'Lunch', 0, 1) \n",
    "    return X\n",
    "\n",
    "sex_pipeline = make_pipeline(\n",
    "    SimpleImputer(strategy=\"most_frequent\"),\n",
    "    FunctionTransformer(encode_sex, feature_names_out=\"one-to-one\"))\n",
    "\n",
    "smoker_pipeline = make_pipeline(\n",
    "    SimpleImputer(strategy=\"most_frequent\"),\n",
    "    FunctionTransformer(encode_smoker, feature_names_out=\"one-to-one\"))\n",
    "\n",
    "time_pipeline = make_pipeline(\n",
    "    SimpleImputer(strategy=\"most_frequent\"),\n",
    "    FunctionTransformer(encode_time, feature_names_out=\"one-to-one\"))\n",
    "\n",
    "day_pipeline = make_pipeline(\n",
    "    SimpleImputer(strategy=\"most_frequent\"),\n",
    "    OneHotEncoder())\n",
    "\n",
    "num_pipeline = make_pipeline(\n",
    "     SimpleImputer(strategy=\"mean\"),\n",
    "     StandardScaler())\n",
    "\n",
    "preprocessing = ColumnTransformer([\n",
    "    (\"sex_transform\", sex_pipeline, [\"sex\"]),\n",
    "    (\"smoker_transform\", smoker_pipeline, [\"smoker\"]),\n",
    "    (\"time_transform\", time_pipeline, [\"time\"]),\n",
    "    (\"day_transform\", day_pipeline, [\"day\"]),\n",
    "    \n",
    "] ,remainder=num_pipeline, verbose_feature_names_out = False)\n",
    "\n",
    "df_tips_transformed = preprocessing.fit_transform(df_tips)\n",
    "print(df_tips_transformed)\n",
    "df_tips_transformed.shape"
   ]
  },
  {
   "cell_type": "code",
   "execution_count": 9,
   "metadata": {},
   "outputs": [
    {
     "data": {
      "text/plain": [
       "array(['sex', 'smoker', 'time', 'day_Fri', 'day_Sat', 'day_Sun',\n",
       "       'day_Thur', 'total_bill', 'tip', 'size'], dtype=object)"
      ]
     },
     "execution_count": 9,
     "metadata": {},
     "output_type": "execute_result"
    }
   ],
   "source": [
    "preprocessing.get_feature_names_out()"
   ]
  },
  {
   "cell_type": "markdown",
   "metadata": {},
   "source": [
    "## ENTRENAMIENTO Y EVALUACIÓN DEL MODELO"
   ]
  },
  {
   "cell_type": "markdown",
   "metadata": {},
   "source": [
    "No hacer de momento"
   ]
  },
  {
   "cell_type": "code",
   "execution_count": null,
   "metadata": {},
   "outputs": [],
   "source": []
  },
  {
   "cell_type": "markdown",
   "metadata": {},
   "source": [
    "## OPTIMIZACIÓN DEL MODELO"
   ]
  },
  {
   "cell_type": "markdown",
   "metadata": {},
   "source": [
    "No hacer de momento"
   ]
  },
  {
   "cell_type": "code",
   "execution_count": null,
   "metadata": {},
   "outputs": [],
   "source": []
  },
  {
   "cell_type": "markdown",
   "metadata": {},
   "source": [
    "### EVALUACIÓN EN EL CONJUNTO DE PRUEBA"
   ]
  },
  {
   "cell_type": "markdown",
   "metadata": {},
   "source": [
    "No hacer de momento"
   ]
  },
  {
   "cell_type": "markdown",
   "metadata": {},
   "source": []
  },
  {
   "cell_type": "markdown",
   "metadata": {},
   "source": [
    "## PRESENTACIÓN DE LA SOLUCIÓN"
   ]
  },
  {
   "cell_type": "markdown",
   "metadata": {},
   "source": [
    "Ahora tienes que crear un archivo .py con todo lo necesario para que ejecute el modelo que acabamos de crear, en concreto el script tiene que ejecutar lo siguiente:\n",
    "- Pedir un csv para predecir los datos (suponemos que los datos en el csv están bien)\n",
    "- Cargamos los datos del csv en un dataframe.\n",
    "- Aplicamos nuestro modelo al dataframe.\n",
    "- Informamos al usuario de las predicciones."
   ]
  },
  {
   "cell_type": "code",
   "execution_count": null,
   "metadata": {},
   "outputs": [],
   "source": []
  }
 ],
 "metadata": {
  "kernelspec": {
   "display_name": "base",
   "language": "python",
   "name": "python3"
  },
  "language_info": {
   "codemirror_mode": {
    "name": "ipython",
    "version": 3
   },
   "file_extension": ".py",
   "mimetype": "text/x-python",
   "name": "python",
   "nbconvert_exporter": "python",
   "pygments_lexer": "ipython3",
   "version": "3.12.4"
  },
  "nav_menu": {
   "height": "279px",
   "width": "309px"
  },
  "toc": {
   "nav_menu": {},
   "number_sections": true,
   "sideBar": true,
   "skip_h1_title": false,
   "toc_cell": false,
   "toc_position": {},
   "toc_section_display": "block",
   "toc_window_display": false
  }
 },
 "nbformat": 4,
 "nbformat_minor": 4
}
